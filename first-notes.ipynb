{
 "cells": [
  {
   "cell_type": "code",
   "execution_count": 1,
   "id": "1c072f5e",
   "metadata": {
    "_cell_guid": "b1076dfc-b9ad-4769-8c92-a6c4dae69d19",
    "_uuid": "8f2839f25d086af736a60e9eeb907d3b93b6e0e5",
    "execution": {
     "iopub.execute_input": "2025-03-31T17:25:35.942336Z",
     "iopub.status.busy": "2025-03-31T17:25:35.942006Z",
     "iopub.status.idle": "2025-03-31T17:25:36.727777Z",
     "shell.execute_reply": "2025-03-31T17:25:36.726755Z"
    },
    "papermill": {
     "duration": 0.804712,
     "end_time": "2025-03-31T17:25:36.729637",
     "exception": false,
     "start_time": "2025-03-31T17:25:35.924925",
     "status": "completed"
    },
    "tags": []
   },
   "outputs": [],
   "source": [
    "# This Python 3 environment comes with many helpful analytics libraries installed\n",
    "# It is defined by the kaggle/python Docker image: https://github.com/kaggle/docker-python\n",
    "# For example, here's several helpful packages to load\n",
    "\n",
    "import numpy as np # linear algebra\n",
    "import pandas as pd # data processing, CSV file I/O (e.g. pd.read_csv)\n",
    "\n",
    "# Input data files are available in the read-only \"../input/\" directory\n",
    "# For example, running this (by clicking run or pressing Shift+Enter) will list all files under the input directory\n",
    "\n",
    "import os\n",
    "for dirname, _, filenames in os.walk('/kaggle/input'):\n",
    "    for filename in filenames:\n",
    "        print(os.path.join(dirname, filename))\n",
    "\n",
    "# You can write up to 20GB to the current directory (/kaggle/working/) that gets preserved as output when you create a version using \"Save & Run All\" \n",
    "# You can also write temporary files to /kaggle/temp/, but they won't be saved outside of the current session"
   ]
  },
  {
   "cell_type": "code",
   "execution_count": 2,
   "id": "2b3da645",
   "metadata": {
    "execution": {
     "iopub.execute_input": "2025-03-31T17:25:36.760545Z",
     "iopub.status.busy": "2025-03-31T17:25:36.760071Z",
     "iopub.status.idle": "2025-03-31T17:25:36.765992Z",
     "shell.execute_reply": "2025-03-31T17:25:36.765086Z"
    },
    "papermill": {
     "duration": 0.022787,
     "end_time": "2025-03-31T17:25:36.767552",
     "exception": false,
     "start_time": "2025-03-31T17:25:36.744765",
     "status": "completed"
    },
    "tags": []
   },
   "outputs": [
    {
     "data": {
      "text/plain": [
       "15"
      ]
     },
     "execution_count": 2,
     "metadata": {},
     "output_type": "execute_result"
    }
   ],
   "source": [
    "10 + 5"
   ]
  },
  {
   "cell_type": "code",
   "execution_count": 3,
   "id": "273f1a51",
   "metadata": {
    "execution": {
     "iopub.execute_input": "2025-03-31T17:25:36.798764Z",
     "iopub.status.busy": "2025-03-31T17:25:36.798369Z",
     "iopub.status.idle": "2025-03-31T17:25:36.803661Z",
     "shell.execute_reply": "2025-03-31T17:25:36.802752Z"
    },
    "papermill": {
     "duration": 0.02251,
     "end_time": "2025-03-31T17:25:36.805104",
     "exception": false,
     "start_time": "2025-03-31T17:25:36.782594",
     "status": "completed"
    },
    "tags": []
   },
   "outputs": [
    {
     "data": {
      "text/plain": [
       "5"
      ]
     },
     "execution_count": 3,
     "metadata": {},
     "output_type": "execute_result"
    }
   ],
   "source": [
    "10 - 5"
   ]
  },
  {
   "cell_type": "code",
   "execution_count": 4,
   "id": "ecf03ebe",
   "metadata": {
    "execution": {
     "iopub.execute_input": "2025-03-31T17:25:36.836040Z",
     "iopub.status.busy": "2025-03-31T17:25:36.835688Z",
     "iopub.status.idle": "2025-03-31T17:25:36.840740Z",
     "shell.execute_reply": "2025-03-31T17:25:36.839918Z"
    },
    "papermill": {
     "duration": 0.022105,
     "end_time": "2025-03-31T17:25:36.842177",
     "exception": false,
     "start_time": "2025-03-31T17:25:36.820072",
     "status": "completed"
    },
    "tags": []
   },
   "outputs": [
    {
     "data": {
      "text/plain": [
       "50"
      ]
     },
     "execution_count": 4,
     "metadata": {},
     "output_type": "execute_result"
    }
   ],
   "source": [
    "10*5"
   ]
  },
  {
   "cell_type": "code",
   "execution_count": 5,
   "id": "4e238166",
   "metadata": {
    "execution": {
     "iopub.execute_input": "2025-03-31T17:25:36.873302Z",
     "iopub.status.busy": "2025-03-31T17:25:36.872988Z",
     "iopub.status.idle": "2025-03-31T17:25:36.877870Z",
     "shell.execute_reply": "2025-03-31T17:25:36.877091Z"
    },
    "papermill": {
     "duration": 0.022062,
     "end_time": "2025-03-31T17:25:36.879262",
     "exception": false,
     "start_time": "2025-03-31T17:25:36.857200",
     "status": "completed"
    },
    "tags": []
   },
   "outputs": [
    {
     "data": {
      "text/plain": [
       "2.0"
      ]
     },
     "execution_count": 5,
     "metadata": {},
     "output_type": "execute_result"
    }
   ],
   "source": [
    "10/5"
   ]
  },
  {
   "cell_type": "code",
   "execution_count": 6,
   "id": "e23f2539",
   "metadata": {
    "execution": {
     "iopub.execute_input": "2025-03-31T17:25:36.910355Z",
     "iopub.status.busy": "2025-03-31T17:25:36.910052Z",
     "iopub.status.idle": "2025-03-31T17:25:36.915047Z",
     "shell.execute_reply": "2025-03-31T17:25:36.914133Z"
    },
    "papermill": {
     "duration": 0.022042,
     "end_time": "2025-03-31T17:25:36.916480",
     "exception": false,
     "start_time": "2025-03-31T17:25:36.894438",
     "status": "completed"
    },
    "tags": []
   },
   "outputs": [
    {
     "data": {
      "text/plain": [
       "3.3333333333333335"
      ]
     },
     "execution_count": 6,
     "metadata": {},
     "output_type": "execute_result"
    }
   ],
   "source": [
    "10/3"
   ]
  },
  {
   "cell_type": "code",
   "execution_count": 7,
   "id": "caf4a0e0",
   "metadata": {
    "execution": {
     "iopub.execute_input": "2025-03-31T17:25:36.948013Z",
     "iopub.status.busy": "2025-03-31T17:25:36.947678Z",
     "iopub.status.idle": "2025-03-31T17:25:36.952769Z",
     "shell.execute_reply": "2025-03-31T17:25:36.951859Z"
    },
    "papermill": {
     "duration": 0.022354,
     "end_time": "2025-03-31T17:25:36.954178",
     "exception": false,
     "start_time": "2025-03-31T17:25:36.931824",
     "status": "completed"
    },
    "tags": []
   },
   "outputs": [
    {
     "data": {
      "text/plain": [
       "3"
      ]
     },
     "execution_count": 7,
     "metadata": {},
     "output_type": "execute_result"
    }
   ],
   "source": [
    "10//3"
   ]
  },
  {
   "cell_type": "code",
   "execution_count": 8,
   "id": "ddbe46a5",
   "metadata": {
    "execution": {
     "iopub.execute_input": "2025-03-31T17:25:36.985736Z",
     "iopub.status.busy": "2025-03-31T17:25:36.985345Z",
     "iopub.status.idle": "2025-03-31T17:25:36.990494Z",
     "shell.execute_reply": "2025-03-31T17:25:36.989634Z"
    },
    "papermill": {
     "duration": 0.022638,
     "end_time": "2025-03-31T17:25:36.992088",
     "exception": false,
     "start_time": "2025-03-31T17:25:36.969450",
     "status": "completed"
    },
    "tags": []
   },
   "outputs": [
    {
     "data": {
      "text/plain": [
       "1000"
      ]
     },
     "execution_count": 8,
     "metadata": {},
     "output_type": "execute_result"
    }
   ],
   "source": [
    "10**3"
   ]
  },
  {
   "cell_type": "code",
   "execution_count": 9,
   "id": "7cf00485",
   "metadata": {
    "execution": {
     "iopub.execute_input": "2025-03-31T17:25:37.023941Z",
     "iopub.status.busy": "2025-03-31T17:25:37.023558Z",
     "iopub.status.idle": "2025-03-31T17:25:37.028707Z",
     "shell.execute_reply": "2025-03-31T17:25:37.027878Z"
    },
    "papermill": {
     "duration": 0.022607,
     "end_time": "2025-03-31T17:25:37.030097",
     "exception": false,
     "start_time": "2025-03-31T17:25:37.007490",
     "status": "completed"
    },
    "tags": []
   },
   "outputs": [
    {
     "data": {
      "text/plain": [
       "100"
      ]
     },
     "execution_count": 9,
     "metadata": {},
     "output_type": "execute_result"
    }
   ],
   "source": [
    "10**2"
   ]
  },
  {
   "cell_type": "code",
   "execution_count": 10,
   "id": "16f730f2",
   "metadata": {
    "execution": {
     "iopub.execute_input": "2025-03-31T17:25:37.061946Z",
     "iopub.status.busy": "2025-03-31T17:25:37.061619Z",
     "iopub.status.idle": "2025-03-31T17:25:37.066636Z",
     "shell.execute_reply": "2025-03-31T17:25:37.065736Z"
    },
    "papermill": {
     "duration": 0.0226,
     "end_time": "2025-03-31T17:25:37.068096",
     "exception": false,
     "start_time": "2025-03-31T17:25:37.045496",
     "status": "completed"
    },
    "tags": []
   },
   "outputs": [
    {
     "data": {
      "text/plain": [
       "10000"
      ]
     },
     "execution_count": 10,
     "metadata": {},
     "output_type": "execute_result"
    }
   ],
   "source": [
    "10**4"
   ]
  },
  {
   "cell_type": "code",
   "execution_count": null,
   "id": "bce6c257",
   "metadata": {
    "papermill": {
     "duration": 0.01533,
     "end_time": "2025-03-31T17:25:37.098990",
     "exception": false,
     "start_time": "2025-03-31T17:25:37.083660",
     "status": "completed"
    },
    "tags": []
   },
   "outputs": [],
   "source": []
  },
  {
   "cell_type": "markdown",
   "id": "9ad1eb70",
   "metadata": {
    "papermill": {
     "duration": 0.015201,
     "end_time": "2025-03-31T17:25:37.129714",
     "exception": false,
     "start_time": "2025-03-31T17:25:37.114513",
     "status": "completed"
    },
    "tags": []
   },
   "source": [
    "Math expresssion in python follow the normal arithmetic order of expressions so * and / are executed before + and - and ** is executed before multiplication and division."
   ]
  },
  {
   "cell_type": "code",
   "execution_count": 11,
   "id": "9ec987aa",
   "metadata": {
    "execution": {
     "iopub.execute_input": "2025-03-31T17:25:37.161670Z",
     "iopub.status.busy": "2025-03-31T17:25:37.161308Z",
     "iopub.status.idle": "2025-03-31T17:25:37.166353Z",
     "shell.execute_reply": "2025-03-31T17:25:37.165592Z"
    },
    "papermill": {
     "duration": 0.022658,
     "end_time": "2025-03-31T17:25:37.167706",
     "exception": false,
     "start_time": "2025-03-31T17:25:37.145048",
     "status": "completed"
    },
    "tags": []
   },
   "outputs": [
    {
     "data": {
      "text/plain": [
       "77"
      ]
     },
     "execution_count": 11,
     "metadata": {},
     "output_type": "execute_result"
    }
   ],
   "source": [
    "2 + 3 * 5 ** 2"
   ]
  },
  {
   "cell_type": "markdown",
   "id": "ee24c562",
   "metadata": {
    "papermill": {
     "duration": 0.015391,
     "end_time": "2025-03-31T17:25:37.199098",
     "exception": false,
     "start_time": "2025-03-31T17:25:37.183707",
     "status": "completed"
    },
    "tags": []
   },
   "source": [
    "You can use parenthesis in your math expression to ensure that operations are carried out on the correct order. Operations within parentheses are carried out before operations that are external to the parenthesis."
   ]
  },
  {
   "cell_type": "code",
   "execution_count": 12,
   "id": "d4b9787c",
   "metadata": {
    "execution": {
     "iopub.execute_input": "2025-03-31T17:25:37.233848Z",
     "iopub.status.busy": "2025-03-31T17:25:37.233477Z",
     "iopub.status.idle": "2025-03-31T17:25:37.238504Z",
     "shell.execute_reply": "2025-03-31T17:25:37.237669Z"
    },
    "papermill": {
     "duration": 0.025302,
     "end_time": "2025-03-31T17:25:37.240014",
     "exception": false,
     "start_time": "2025-03-31T17:25:37.214712",
     "status": "completed"
    },
    "tags": []
   },
   "outputs": [
    {
     "data": {
      "text/plain": [
       "625"
      ]
     },
     "execution_count": 12,
     "metadata": {},
     "output_type": "execute_result"
    }
   ],
   "source": [
    "((2 + 3) * 5 ) ** 2"
   ]
  },
  {
   "cell_type": "code",
   "execution_count": 13,
   "id": "9a3a27c2",
   "metadata": {
    "execution": {
     "iopub.execute_input": "2025-03-31T17:25:37.273959Z",
     "iopub.status.busy": "2025-03-31T17:25:37.273629Z",
     "iopub.status.idle": "2025-03-31T17:25:37.278780Z",
     "shell.execute_reply": "2025-03-31T17:25:37.277928Z"
    },
    "papermill": {
     "duration": 0.02403,
     "end_time": "2025-03-31T17:25:37.280187",
     "exception": false,
     "start_time": "2025-03-31T17:25:37.256157",
     "status": "completed"
    },
    "tags": []
   },
   "outputs": [
    {
     "data": {
      "text/plain": [
       "25"
      ]
     },
     "execution_count": 13,
     "metadata": {},
     "output_type": "execute_result"
    }
   ],
   "source": [
    "100 % 75"
   ]
  },
  {
   "cell_type": "code",
   "execution_count": 14,
   "id": "21b157ca",
   "metadata": {
    "execution": {
     "iopub.execute_input": "2025-03-31T17:25:37.314199Z",
     "iopub.status.busy": "2025-03-31T17:25:37.313850Z",
     "iopub.status.idle": "2025-03-31T17:25:37.317559Z",
     "shell.execute_reply": "2025-03-31T17:25:37.316693Z"
    },
    "papermill": {
     "duration": 0.02225,
     "end_time": "2025-03-31T17:25:37.319125",
     "exception": false,
     "start_time": "2025-03-31T17:25:37.296875",
     "status": "completed"
    },
    "tags": []
   },
   "outputs": [],
   "source": [
    "import math   # load the math module"
   ]
  },
  {
   "cell_type": "code",
   "execution_count": 15,
   "id": "8b079e1b",
   "metadata": {
    "execution": {
     "iopub.execute_input": "2025-03-31T17:25:37.352728Z",
     "iopub.status.busy": "2025-03-31T17:25:37.352356Z",
     "iopub.status.idle": "2025-03-31T17:25:37.357483Z",
     "shell.execute_reply": "2025-03-31T17:25:37.356695Z"
    },
    "papermill": {
     "duration": 0.023699,
     "end_time": "2025-03-31T17:25:37.359044",
     "exception": false,
     "start_time": "2025-03-31T17:25:37.335345",
     "status": "completed"
    },
    "tags": []
   },
   "outputs": [
    {
     "data": {
      "text/plain": [
       "0.9999698965391098"
      ]
     },
     "execution_count": 15,
     "metadata": {},
     "output_type": "execute_result"
    }
   ],
   "source": [
    "# math.log() takes the natural logarithm of its argument:\n",
    "math.log(2.7182)"
   ]
  },
  {
   "cell_type": "code",
   "execution_count": 16,
   "id": "d37f50e7",
   "metadata": {
    "execution": {
     "iopub.execute_input": "2025-03-31T17:25:37.392555Z",
     "iopub.status.busy": "2025-03-31T17:25:37.392206Z",
     "iopub.status.idle": "2025-03-31T17:25:37.397438Z",
     "shell.execute_reply": "2025-03-31T17:25:37.396556Z"
    },
    "papermill": {
     "duration": 0.023663,
     "end_time": "2025-03-31T17:25:37.398899",
     "exception": false,
     "start_time": "2025-03-31T17:25:37.375236",
     "status": "completed"
    },
    "tags": []
   },
   "outputs": [
    {
     "data": {
      "text/plain": [
       "2.0"
      ]
     },
     "execution_count": 16,
     "metadata": {},
     "output_type": "execute_result"
    }
   ],
   "source": [
    "#Add a second argument to specify the log base:\n",
    "math.log(100,10)"
   ]
  },
  {
   "cell_type": "code",
   "execution_count": 17,
   "id": "e378b065",
   "metadata": {
    "execution": {
     "iopub.execute_input": "2025-03-31T17:25:37.432301Z",
     "iopub.status.busy": "2025-03-31T17:25:37.431997Z",
     "iopub.status.idle": "2025-03-31T17:25:37.436854Z",
     "shell.execute_reply": "2025-03-31T17:25:37.435952Z"
    },
    "papermill": {
     "duration": 0.023275,
     "end_time": "2025-03-31T17:25:37.438334",
     "exception": false,
     "start_time": "2025-03-31T17:25:37.415059",
     "status": "completed"
    },
    "tags": []
   },
   "outputs": [
    {
     "data": {
      "text/plain": [
       "22026.465794806718"
      ]
     },
     "execution_count": 17,
     "metadata": {},
     "output_type": "execute_result"
    }
   ],
   "source": [
    "#math.exp() raises e to the power of its argument\n",
    "math.exp(10)"
   ]
  },
  {
   "cell_type": "code",
   "execution_count": 18,
   "id": "fba5bf50",
   "metadata": {
    "execution": {
     "iopub.execute_input": "2025-03-31T17:25:37.524518Z",
     "iopub.status.busy": "2025-03-31T17:25:37.524199Z",
     "iopub.status.idle": "2025-03-31T17:25:37.529071Z",
     "shell.execute_reply": "2025-03-31T17:25:37.528305Z"
    },
    "papermill": {
     "duration": 0.075243,
     "end_time": "2025-03-31T17:25:37.530413",
     "exception": false,
     "start_time": "2025-03-31T17:25:37.455170",
     "status": "completed"
    },
    "tags": []
   },
   "outputs": [
    {
     "data": {
      "text/plain": [
       "30"
      ]
     },
     "execution_count": 18,
     "metadata": {},
     "output_type": "execute_result"
    }
   ],
   "source": [
    "#Use abs() to get the absolute value of a number. Note abs() is a base python function.\n",
    "abs(-30)"
   ]
  },
  {
   "cell_type": "code",
   "execution_count": 19,
   "id": "98f7a917",
   "metadata": {
    "execution": {
     "iopub.execute_input": "2025-03-31T17:25:37.564858Z",
     "iopub.status.busy": "2025-03-31T17:25:37.564509Z",
     "iopub.status.idle": "2025-03-31T17:25:37.569276Z",
     "shell.execute_reply": "2025-03-31T17:25:37.568475Z"
    },
    "papermill": {
     "duration": 0.023675,
     "end_time": "2025-03-31T17:25:37.570733",
     "exception": false,
     "start_time": "2025-03-31T17:25:37.547058",
     "status": "completed"
    },
    "tags": []
   },
   "outputs": [
    {
     "data": {
      "text/plain": [
       "3.141592653589793"
      ]
     },
     "execution_count": 19,
     "metadata": {},
     "output_type": "execute_result"
    }
   ],
   "source": [
    "math.pi #Get the constant pi"
   ]
  },
  {
   "cell_type": "markdown",
   "id": "b5671636",
   "metadata": {
    "papermill": {
     "duration": 0.016334,
     "end_time": "2025-03-31T17:25:37.603780",
     "exception": false,
     "start_time": "2025-03-31T17:25:37.587446",
     "status": "completed"
    },
    "tags": []
   },
   "source": [
    "Rounding Numbers\n",
    "Base python contains a round() function that lets you round numbers to the nearest whole number. You can also round up or down with math.ceil and math.floor respectively."
   ]
  },
  {
   "cell_type": "code",
   "execution_count": 20,
   "id": "95569bdf",
   "metadata": {
    "execution": {
     "iopub.execute_input": "2025-03-31T17:25:37.638467Z",
     "iopub.status.busy": "2025-03-31T17:25:37.638150Z",
     "iopub.status.idle": "2025-03-31T17:25:37.643269Z",
     "shell.execute_reply": "2025-03-31T17:25:37.642288Z"
    },
    "papermill": {
     "duration": 0.024423,
     "end_time": "2025-03-31T17:25:37.644912",
     "exception": false,
     "start_time": "2025-03-31T17:25:37.620489",
     "status": "completed"
    },
    "tags": []
   },
   "outputs": [
    {
     "data": {
      "text/plain": [
       "233"
      ]
     },
     "execution_count": 20,
     "metadata": {},
     "output_type": "execute_result"
    }
   ],
   "source": [
    "# Use round() to round a number to the nearest whole number\n",
    "round(233.234)"
   ]
  },
  {
   "cell_type": "code",
   "execution_count": 21,
   "id": "e200d78c",
   "metadata": {
    "execution": {
     "iopub.execute_input": "2025-03-31T17:25:37.679913Z",
     "iopub.status.busy": "2025-03-31T17:25:37.679527Z",
     "iopub.status.idle": "2025-03-31T17:25:37.684761Z",
     "shell.execute_reply": "2025-03-31T17:25:37.683858Z"
    },
    "papermill": {
     "duration": 0.02432,
     "end_time": "2025-03-31T17:25:37.686228",
     "exception": false,
     "start_time": "2025-03-31T17:25:37.661908",
     "status": "completed"
    },
    "tags": []
   },
   "outputs": [
    {
     "data": {
      "text/plain": [
       "234"
      ]
     },
     "execution_count": 21,
     "metadata": {},
     "output_type": "execute_result"
    }
   ],
   "source": [
    "round(233.677)"
   ]
  },
  {
   "cell_type": "code",
   "execution_count": 22,
   "id": "77a8c236",
   "metadata": {
    "execution": {
     "iopub.execute_input": "2025-03-31T17:25:37.721331Z",
     "iopub.status.busy": "2025-03-31T17:25:37.721015Z",
     "iopub.status.idle": "2025-03-31T17:25:37.725877Z",
     "shell.execute_reply": "2025-03-31T17:25:37.725012Z"
    },
    "papermill": {
     "duration": 0.023945,
     "end_time": "2025-03-31T17:25:37.727258",
     "exception": false,
     "start_time": "2025-03-31T17:25:37.703313",
     "status": "completed"
    },
    "tags": []
   },
   "outputs": [
    {
     "data": {
      "text/plain": [
       "233.2"
      ]
     },
     "execution_count": 22,
     "metadata": {},
     "output_type": "execute_result"
    }
   ],
   "source": [
    "# add a second arguement to round to a specified decimal place\n",
    "round(233.234,1)"
   ]
  },
  {
   "cell_type": "code",
   "execution_count": 23,
   "id": "34713e5d",
   "metadata": {
    "execution": {
     "iopub.execute_input": "2025-03-31T17:25:37.762666Z",
     "iopub.status.busy": "2025-03-31T17:25:37.762294Z",
     "iopub.status.idle": "2025-03-31T17:25:37.767843Z",
     "shell.execute_reply": "2025-03-31T17:25:37.766853Z"
    },
    "papermill": {
     "duration": 0.025046,
     "end_time": "2025-03-31T17:25:37.769496",
     "exception": false,
     "start_time": "2025-03-31T17:25:37.744450",
     "status": "completed"
    },
    "tags": []
   },
   "outputs": [
    {
     "data": {
      "text/plain": [
       "230.0"
      ]
     },
     "execution_count": 23,
     "metadata": {},
     "output_type": "execute_result"
    }
   ],
   "source": [
    "# Enter a negative number to round to the left of the decimal\n",
    "round(233.234,-1)  #round to the 10's place\n"
   ]
  },
  {
   "cell_type": "code",
   "execution_count": 24,
   "id": "676c79be",
   "metadata": {
    "execution": {
     "iopub.execute_input": "2025-03-31T17:25:37.806379Z",
     "iopub.status.busy": "2025-03-31T17:25:37.806023Z",
     "iopub.status.idle": "2025-03-31T17:25:37.811596Z",
     "shell.execute_reply": "2025-03-31T17:25:37.810602Z"
    },
    "papermill": {
     "duration": 0.025657,
     "end_time": "2025-03-31T17:25:37.813017",
     "exception": false,
     "start_time": "2025-03-31T17:25:37.787360",
     "status": "completed"
    },
    "tags": []
   },
   "outputs": [
    {
     "data": {
      "text/plain": [
       "2"
      ]
     },
     "execution_count": 24,
     "metadata": {},
     "output_type": "execute_result"
    }
   ],
   "source": [
    "# Round down the nearest whole number with math.floor()\n",
    "import math\n",
    "math.floor(2.8)"
   ]
  },
  {
   "cell_type": "code",
   "execution_count": 25,
   "id": "d3ac206b",
   "metadata": {
    "execution": {
     "iopub.execute_input": "2025-03-31T17:25:37.849110Z",
     "iopub.status.busy": "2025-03-31T17:25:37.848771Z",
     "iopub.status.idle": "2025-03-31T17:25:37.854474Z",
     "shell.execute_reply": "2025-03-31T17:25:37.853647Z"
    },
    "papermill": {
     "duration": 0.025634,
     "end_time": "2025-03-31T17:25:37.856106",
     "exception": false,
     "start_time": "2025-03-31T17:25:37.830472",
     "status": "completed"
    },
    "tags": []
   },
   "outputs": [
    {
     "data": {
      "text/plain": [
       "3"
      ]
     },
     "execution_count": 25,
     "metadata": {},
     "output_type": "execute_result"
    }
   ],
   "source": [
    "#Round up with math.ceil()\n",
    "math.ceil(2.2)"
   ]
  },
  {
   "cell_type": "markdown",
   "id": "ef43a456",
   "metadata": {
    "papermill": {
     "duration": 0.017707,
     "end_time": "2025-03-31T17:25:37.891755",
     "exception": false,
     "start_time": "2025-03-31T17:25:37.874048",
     "status": "completed"
    },
    "tags": []
   },
   "source": [
    "Integers\n",
    "Integers or \"ints\" for short, are whole-numbered numeric values. Any positive or negative number (or 0) without a decimal is an integer in Python. Integer values have unlimited precision, meaning an integer is exact. You can check the type of a Python object with the type() function."
   ]
  },
  {
   "cell_type": "code",
   "execution_count": 26,
   "id": "8dbd6ab6",
   "metadata": {
    "execution": {
     "iopub.execute_input": "2025-03-31T17:25:37.928088Z",
     "iopub.status.busy": "2025-03-31T17:25:37.927753Z",
     "iopub.status.idle": "2025-03-31T17:25:37.932453Z",
     "shell.execute_reply": "2025-03-31T17:25:37.931671Z"
    },
    "papermill": {
     "duration": 0.024767,
     "end_time": "2025-03-31T17:25:37.933955",
     "exception": false,
     "start_time": "2025-03-31T17:25:37.909188",
     "status": "completed"
    },
    "tags": []
   },
   "outputs": [
    {
     "data": {
      "text/plain": [
       "int"
      ]
     },
     "execution_count": 26,
     "metadata": {},
     "output_type": "execute_result"
    }
   ],
   "source": [
    "type(12)"
   ]
  },
  {
   "cell_type": "markdown",
   "id": "9abd3574",
   "metadata": {
    "papermill": {
     "duration": 0.017317,
     "end_time": "2025-03-31T17:25:37.968918",
     "exception": false,
     "start_time": "2025-03-31T17:25:37.951601",
     "status": "completed"
    },
    "tags": []
   },
   "source": [
    "Above we see that the type of 12 is of type \"int\". You can also use function isinstance() to check whether an object is an object is an instance of a given type:"
   ]
  },
  {
   "cell_type": "code",
   "execution_count": 27,
   "id": "a04e798f",
   "metadata": {
    "execution": {
     "iopub.execute_input": "2025-03-31T17:25:38.005285Z",
     "iopub.status.busy": "2025-03-31T17:25:38.004955Z",
     "iopub.status.idle": "2025-03-31T17:25:38.009972Z",
     "shell.execute_reply": "2025-03-31T17:25:38.009078Z"
    },
    "papermill": {
     "duration": 0.024861,
     "end_time": "2025-03-31T17:25:38.011398",
     "exception": false,
     "start_time": "2025-03-31T17:25:37.986537",
     "status": "completed"
    },
    "tags": []
   },
   "outputs": [
    {
     "data": {
      "text/plain": [
       "True"
      ]
     },
     "execution_count": 27,
     "metadata": {},
     "output_type": "execute_result"
    }
   ],
   "source": [
    "# Check if 12 is an instance of type \"int\"\n",
    "isinstance(12,int)"
   ]
  },
  {
   "cell_type": "markdown",
   "id": "c66ab2f9",
   "metadata": {
    "papermill": {
     "duration": 0.01753,
     "end_time": "2025-03-31T17:25:38.047045",
     "exception": false,
     "start_time": "2025-03-31T17:25:38.029515",
     "status": "completed"
    },
    "tags": []
   },
   "source": [
    "The code output True confirms that 12 is an int"
   ]
  },
  {
   "cell_type": "code",
   "execution_count": 28,
   "id": "7f31ef10",
   "metadata": {
    "execution": {
     "iopub.execute_input": "2025-03-31T17:25:38.083532Z",
     "iopub.status.busy": "2025-03-31T17:25:38.083182Z",
     "iopub.status.idle": "2025-03-31T17:25:38.088186Z",
     "shell.execute_reply": "2025-03-31T17:25:38.087292Z"
    },
    "papermill": {
     "duration": 0.024863,
     "end_time": "2025-03-31T17:25:38.089665",
     "exception": false,
     "start_time": "2025-03-31T17:25:38.064802",
     "status": "completed"
    },
    "tags": []
   },
   "outputs": [
    {
     "data": {
      "text/plain": [
       "0.3333333333333333"
      ]
     },
     "execution_count": 28,
     "metadata": {},
     "output_type": "execute_result"
    }
   ],
   "source": [
    "1/3"
   ]
  },
  {
   "cell_type": "code",
   "execution_count": 29,
   "id": "084888ca",
   "metadata": {
    "execution": {
     "iopub.execute_input": "2025-03-31T17:25:38.126791Z",
     "iopub.status.busy": "2025-03-31T17:25:38.126430Z",
     "iopub.status.idle": "2025-03-31T17:25:38.131554Z",
     "shell.execute_reply": "2025-03-31T17:25:38.130756Z"
    },
    "papermill": {
     "duration": 0.02547,
     "end_time": "2025-03-31T17:25:38.133117",
     "exception": false,
     "start_time": "2025-03-31T17:25:38.107647",
     "status": "completed"
    },
    "tags": []
   },
   "outputs": [
    {
     "data": {
      "text/plain": [
       "float"
      ]
     },
     "execution_count": 29,
     "metadata": {},
     "output_type": "execute_result"
    }
   ],
   "source": [
    "type(1/3)"
   ]
  },
  {
   "cell_type": "markdown",
   "id": "597a1a00",
   "metadata": {
    "papermill": {
     "duration": 0.017674,
     "end_time": "2025-03-31T17:25:38.168910",
     "exception": false,
     "start_time": "2025-03-31T17:25:38.151236",
     "status": "completed"
    },
    "tags": []
   },
   "source": [
    "Floats\n",
    "Floating point numbers or \"floats\" are numbers with decimal values. Unlike integers, floating point numbers don't have unlimited precision because irrational decimal numbers are infinitely long and therfore can't be stored in memory. Instead, the computer approximates the value of long decimals, so there can be small rounding errors in long floats."
   ]
  },
  {
   "cell_type": "code",
   "execution_count": 30,
   "id": "57da6277",
   "metadata": {
    "execution": {
     "iopub.execute_input": "2025-03-31T17:25:38.206121Z",
     "iopub.status.busy": "2025-03-31T17:25:38.205744Z",
     "iopub.status.idle": "2025-03-31T17:25:38.210984Z",
     "shell.execute_reply": "2025-03-31T17:25:38.210065Z"
    },
    "papermill": {
     "duration": 0.025432,
     "end_time": "2025-03-31T17:25:38.212435",
     "exception": false,
     "start_time": "2025-03-31T17:25:38.187003",
     "status": "completed"
    },
    "tags": []
   },
   "outputs": [
    {
     "data": {
      "text/plain": [
       "float"
      ]
     },
     "execution_count": 30,
     "metadata": {},
     "output_type": "execute_result"
    }
   ],
   "source": [
    "type(1.0)"
   ]
  },
  {
   "cell_type": "code",
   "execution_count": 31,
   "id": "4e9a451a",
   "metadata": {
    "execution": {
     "iopub.execute_input": "2025-03-31T17:25:38.251057Z",
     "iopub.status.busy": "2025-03-31T17:25:38.250703Z",
     "iopub.status.idle": "2025-03-31T17:25:38.255758Z",
     "shell.execute_reply": "2025-03-31T17:25:38.254876Z"
    },
    "papermill": {
     "duration": 0.02664,
     "end_time": "2025-03-31T17:25:38.257231",
     "exception": false,
     "start_time": "2025-03-31T17:25:38.230591",
     "status": "completed"
    },
    "tags": []
   },
   "outputs": [
    {
     "data": {
      "text/plain": [
       "int"
      ]
     },
     "execution_count": 31,
     "metadata": {},
     "output_type": "execute_result"
    }
   ],
   "source": [
    "type(1)"
   ]
  },
  {
   "cell_type": "code",
   "execution_count": 32,
   "id": "89d5fbfa",
   "metadata": {
    "execution": {
     "iopub.execute_input": "2025-03-31T17:25:38.294680Z",
     "iopub.status.busy": "2025-03-31T17:25:38.294340Z",
     "iopub.status.idle": "2025-03-31T17:25:38.299389Z",
     "shell.execute_reply": "2025-03-31T17:25:38.298636Z"
    },
    "papermill": {
     "duration": 0.025202,
     "end_time": "2025-03-31T17:25:38.300724",
     "exception": false,
     "start_time": "2025-03-31T17:25:38.275522",
     "status": "completed"
    },
    "tags": []
   },
   "outputs": [
    {
     "data": {
      "text/plain": [
       "True"
      ]
     },
     "execution_count": 32,
     "metadata": {},
     "output_type": "execute_result"
    }
   ],
   "source": [
    "isinstance(0.33333,float)"
   ]
  },
  {
   "cell_type": "markdown",
   "id": "df257121",
   "metadata": {
    "papermill": {
     "duration": 0.018076,
     "end_time": "2025-03-31T17:25:38.337311",
     "exception": false,
     "start_time": "2025-03-31T17:25:38.319235",
     "status": "completed"
    },
    "tags": []
   },
   "source": [
    "If you use both floats and ints in the same math expression the result is a float:"
   ]
  },
  {
   "cell_type": "code",
   "execution_count": 33,
   "id": "4e766e62",
   "metadata": {
    "execution": {
     "iopub.execute_input": "2025-03-31T17:25:38.375141Z",
     "iopub.status.busy": "2025-03-31T17:25:38.374783Z",
     "iopub.status.idle": "2025-03-31T17:25:38.379805Z",
     "shell.execute_reply": "2025-03-31T17:25:38.378932Z"
    },
    "papermill": {
     "duration": 0.025597,
     "end_time": "2025-03-31T17:25:38.381279",
     "exception": false,
     "start_time": "2025-03-31T17:25:38.355682",
     "status": "completed"
    },
    "tags": []
   },
   "outputs": [
    {
     "data": {
      "text/plain": [
       "6.0"
      ]
     },
     "execution_count": 33,
     "metadata": {},
     "output_type": "execute_result"
    }
   ],
   "source": [
    "5+1.0"
   ]
  },
  {
   "cell_type": "markdown",
   "id": "3906321f",
   "metadata": {
    "papermill": {
     "duration": 0.018359,
     "end_time": "2025-03-31T17:25:38.418362",
     "exception": false,
     "start_time": "2025-03-31T17:25:38.400003",
     "status": "completed"
    },
    "tags": []
   },
   "source": [
    "You can convert a float to an integer using the int() function"
   ]
  },
  {
   "cell_type": "code",
   "execution_count": 34,
   "id": "a997a79d",
   "metadata": {
    "execution": {
     "iopub.execute_input": "2025-03-31T17:25:38.456411Z",
     "iopub.status.busy": "2025-03-31T17:25:38.456065Z",
     "iopub.status.idle": "2025-03-31T17:25:38.461660Z",
     "shell.execute_reply": "2025-03-31T17:25:38.460665Z"
    },
    "papermill": {
     "duration": 0.026338,
     "end_time": "2025-03-31T17:25:38.463258",
     "exception": false,
     "start_time": "2025-03-31T17:25:38.436920",
     "status": "completed"
    },
    "tags": []
   },
   "outputs": [
    {
     "data": {
      "text/plain": [
       "6"
      ]
     },
     "execution_count": 34,
     "metadata": {},
     "output_type": "execute_result"
    }
   ],
   "source": [
    "int(6.0)"
   ]
  },
  {
   "cell_type": "markdown",
   "id": "f5f8f663",
   "metadata": {
    "papermill": {
     "duration": 0.018435,
     "end_time": "2025-03-31T17:25:38.500397",
     "exception": false,
     "start_time": "2025-03-31T17:25:38.481962",
     "status": "completed"
    },
    "tags": []
   },
   "source": [
    "You can convert an integer to a float with the float() function"
   ]
  },
  {
   "cell_type": "code",
   "execution_count": 35,
   "id": "85907be2",
   "metadata": {
    "execution": {
     "iopub.execute_input": "2025-03-31T17:25:38.538262Z",
     "iopub.status.busy": "2025-03-31T17:25:38.537942Z",
     "iopub.status.idle": "2025-03-31T17:25:38.542768Z",
     "shell.execute_reply": "2025-03-31T17:25:38.541889Z"
    },
    "papermill": {
     "duration": 0.025309,
     "end_time": "2025-03-31T17:25:38.544145",
     "exception": false,
     "start_time": "2025-03-31T17:25:38.518836",
     "status": "completed"
    },
    "tags": []
   },
   "outputs": [
    {
     "data": {
      "text/plain": [
       "6.0"
      ]
     },
     "execution_count": 35,
     "metadata": {},
     "output_type": "execute_result"
    }
   ],
   "source": [
    "float(6)"
   ]
  },
  {
   "cell_type": "markdown",
   "id": "e49e785b",
   "metadata": {
    "papermill": {
     "duration": 0.018337,
     "end_time": "2025-03-31T17:25:38.581668",
     "exception": false,
     "start_time": "2025-03-31T17:25:38.563331",
     "status": "completed"
    },
    "tags": []
   },
   "source": [
    "Floats can also take on a few special values: Inf, -Inf and NaN. Inf and -Inf stand for infinity and negative infinity respectively and NaN stands for \"Not a number\", which is sometimes used as a placeholder for missing or erroneous numerical values."
   ]
  },
  {
   "cell_type": "code",
   "execution_count": 36,
   "id": "4bac3dbc",
   "metadata": {
    "execution": {
     "iopub.execute_input": "2025-03-31T17:25:38.619920Z",
     "iopub.status.busy": "2025-03-31T17:25:38.619606Z",
     "iopub.status.idle": "2025-03-31T17:25:38.624547Z",
     "shell.execute_reply": "2025-03-31T17:25:38.623811Z"
    },
    "papermill": {
     "duration": 0.025719,
     "end_time": "2025-03-31T17:25:38.625930",
     "exception": false,
     "start_time": "2025-03-31T17:25:38.600211",
     "status": "completed"
    },
    "tags": []
   },
   "outputs": [
    {
     "data": {
      "text/plain": [
       "float"
      ]
     },
     "execution_count": 36,
     "metadata": {},
     "output_type": "execute_result"
    }
   ],
   "source": [
    "type(float(\"Inf\"))"
   ]
  },
  {
   "cell_type": "code",
   "execution_count": 37,
   "id": "a36fb439",
   "metadata": {
    "execution": {
     "iopub.execute_input": "2025-03-31T17:25:38.664450Z",
     "iopub.status.busy": "2025-03-31T17:25:38.664139Z",
     "iopub.status.idle": "2025-03-31T17:25:38.669066Z",
     "shell.execute_reply": "2025-03-31T17:25:38.668297Z"
    },
    "papermill": {
     "duration": 0.025502,
     "end_time": "2025-03-31T17:25:38.670346",
     "exception": false,
     "start_time": "2025-03-31T17:25:38.644844",
     "status": "completed"
    },
    "tags": []
   },
   "outputs": [
    {
     "data": {
      "text/plain": [
       "float"
      ]
     },
     "execution_count": 37,
     "metadata": {},
     "output_type": "execute_result"
    }
   ],
   "source": [
    "type(float(\"NaN\"))"
   ]
  },
  {
   "cell_type": "markdown",
   "id": "b8b2537b",
   "metadata": {
    "papermill": {
     "duration": 0.018512,
     "end_time": "2025-03-31T17:25:38.707869",
     "exception": false,
     "start_time": "2025-03-31T17:25:38.689357",
     "status": "completed"
    },
    "tags": []
   },
   "source": [
    "Booleans\n",
    "Booleans or \"Bools\" are true/false values that result from logical statements. True or False"
   ]
  },
  {
   "cell_type": "code",
   "execution_count": 38,
   "id": "a1a3e8a6",
   "metadata": {
    "execution": {
     "iopub.execute_input": "2025-03-31T17:25:38.746918Z",
     "iopub.status.busy": "2025-03-31T17:25:38.746546Z",
     "iopub.status.idle": "2025-03-31T17:25:38.751525Z",
     "shell.execute_reply": "2025-03-31T17:25:38.750763Z"
    },
    "papermill": {
     "duration": 0.025951,
     "end_time": "2025-03-31T17:25:38.752887",
     "exception": false,
     "start_time": "2025-03-31T17:25:38.726936",
     "status": "completed"
    },
    "tags": []
   },
   "outputs": [
    {
     "data": {
      "text/plain": [
       "bool"
      ]
     },
     "execution_count": 38,
     "metadata": {},
     "output_type": "execute_result"
    }
   ],
   "source": [
    "type(True)"
   ]
  },
  {
   "cell_type": "code",
   "execution_count": 39,
   "id": "15f6df50",
   "metadata": {
    "execution": {
     "iopub.execute_input": "2025-03-31T17:25:38.792337Z",
     "iopub.status.busy": "2025-03-31T17:25:38.792013Z",
     "iopub.status.idle": "2025-03-31T17:25:38.797086Z",
     "shell.execute_reply": "2025-03-31T17:25:38.796221Z"
    },
    "papermill": {
     "duration": 0.026397,
     "end_time": "2025-03-31T17:25:38.798495",
     "exception": false,
     "start_time": "2025-03-31T17:25:38.772098",
     "status": "completed"
    },
    "tags": []
   },
   "outputs": [
    {
     "data": {
      "text/plain": [
       "True"
      ]
     },
     "execution_count": 39,
     "metadata": {},
     "output_type": "execute_result"
    }
   ],
   "source": [
    "isinstance(False,bool) #Check if False "
   ]
  },
  {
   "cell_type": "markdown",
   "id": "e85458dd",
   "metadata": {
    "papermill": {
     "duration": 0.019208,
     "end_time": "2025-03-31T17:25:38.837421",
     "exception": false,
     "start_time": "2025-03-31T17:25:38.818213",
     "status": "completed"
    },
    "tags": []
   },
   "source": [
    "You can create boolean values with logical expressions. Python supports all of the standard logic operators you'd expect:"
   ]
  },
  {
   "cell_type": "code",
   "execution_count": 40,
   "id": "fd6e9475",
   "metadata": {
    "execution": {
     "iopub.execute_input": "2025-03-31T17:25:38.876913Z",
     "iopub.status.busy": "2025-03-31T17:25:38.876549Z",
     "iopub.status.idle": "2025-03-31T17:25:38.881588Z",
     "shell.execute_reply": "2025-03-31T17:25:38.880662Z"
    },
    "papermill": {
     "duration": 0.026382,
     "end_time": "2025-03-31T17:25:38.883126",
     "exception": false,
     "start_time": "2025-03-31T17:25:38.856744",
     "status": "completed"
    },
    "tags": []
   },
   "outputs": [
    {
     "data": {
      "text/plain": [
       "True"
      ]
     },
     "execution_count": 40,
     "metadata": {},
     "output_type": "execute_result"
    }
   ],
   "source": [
    "#Use > and < for greator than and less than :\n",
    "20 > 10"
   ]
  },
  {
   "cell_type": "code",
   "execution_count": 41,
   "id": "e0772445",
   "metadata": {
    "execution": {
     "iopub.execute_input": "2025-03-31T17:25:38.924468Z",
     "iopub.status.busy": "2025-03-31T17:25:38.924111Z",
     "iopub.status.idle": "2025-03-31T17:25:38.929215Z",
     "shell.execute_reply": "2025-03-31T17:25:38.928314Z"
    },
    "papermill": {
     "duration": 0.027382,
     "end_time": "2025-03-31T17:25:38.930812",
     "exception": false,
     "start_time": "2025-03-31T17:25:38.903430",
     "status": "completed"
    },
    "tags": []
   },
   "outputs": [
    {
     "data": {
      "text/plain": [
       "False"
      ]
     },
     "execution_count": 41,
     "metadata": {},
     "output_type": "execute_result"
    }
   ],
   "source": [
    "20 < 5"
   ]
  },
  {
   "cell_type": "code",
   "execution_count": 42,
   "id": "6affb2aa",
   "metadata": {
    "execution": {
     "iopub.execute_input": "2025-03-31T17:25:38.971493Z",
     "iopub.status.busy": "2025-03-31T17:25:38.971178Z",
     "iopub.status.idle": "2025-03-31T17:25:38.976282Z",
     "shell.execute_reply": "2025-03-31T17:25:38.975415Z"
    },
    "papermill": {
     "duration": 0.026878,
     "end_time": "2025-03-31T17:25:38.977684",
     "exception": false,
     "start_time": "2025-03-31T17:25:38.950806",
     "status": "completed"
    },
    "tags": []
   },
   "outputs": [
    {
     "data": {
      "text/plain": [
       "True"
      ]
     },
     "execution_count": 42,
     "metadata": {},
     "output_type": "execute_result"
    }
   ],
   "source": [
    "# use >= and <= for greater than or equal and less than or equal :\n",
    "20 >= 20"
   ]
  },
  {
   "cell_type": "code",
   "execution_count": 43,
   "id": "3c4912b1",
   "metadata": {
    "execution": {
     "iopub.execute_input": "2025-03-31T17:25:39.018120Z",
     "iopub.status.busy": "2025-03-31T17:25:39.017792Z",
     "iopub.status.idle": "2025-03-31T17:25:39.022686Z",
     "shell.execute_reply": "2025-03-31T17:25:39.021800Z"
    },
    "papermill": {
     "duration": 0.026803,
     "end_time": "2025-03-31T17:25:39.024227",
     "exception": false,
     "start_time": "2025-03-31T17:25:38.997424",
     "status": "completed"
    },
    "tags": []
   },
   "outputs": [
    {
     "data": {
      "text/plain": [
       "True"
      ]
     },
     "execution_count": 43,
     "metadata": {},
     "output_type": "execute_result"
    }
   ],
   "source": [
    "#use == (two equal signs in a row) to check equality:\n",
    "10 == 10"
   ]
  },
  {
   "cell_type": "code",
   "execution_count": 44,
   "id": "62302966",
   "metadata": {
    "execution": {
     "iopub.execute_input": "2025-03-31T17:25:39.064857Z",
     "iopub.status.busy": "2025-03-31T17:25:39.064473Z",
     "iopub.status.idle": "2025-03-31T17:25:39.069511Z",
     "shell.execute_reply": "2025-03-31T17:25:39.068765Z"
    },
    "papermill": {
     "duration": 0.026996,
     "end_time": "2025-03-31T17:25:39.070989",
     "exception": false,
     "start_time": "2025-03-31T17:25:39.043993",
     "status": "completed"
    },
    "tags": []
   },
   "outputs": [
    {
     "data": {
      "text/plain": [
       "True"
      ]
     },
     "execution_count": 44,
     "metadata": {},
     "output_type": "execute_result"
    }
   ],
   "source": [
    "40 == 40.0  #Equivalent ints and floats are considered equal"
   ]
  },
  {
   "cell_type": "code",
   "execution_count": 45,
   "id": "ace6eb0c",
   "metadata": {
    "execution": {
     "iopub.execute_input": "2025-03-31T17:25:39.111636Z",
     "iopub.status.busy": "2025-03-31T17:25:39.111272Z",
     "iopub.status.idle": "2025-03-31T17:25:39.116272Z",
     "shell.execute_reply": "2025-03-31T17:25:39.115345Z"
    },
    "papermill": {
     "duration": 0.0269,
     "end_time": "2025-03-31T17:25:39.117759",
     "exception": false,
     "start_time": "2025-03-31T17:25:39.090859",
     "status": "completed"
    },
    "tags": []
   },
   "outputs": [
    {
     "data": {
      "text/plain": [
       "True"
      ]
     },
     "execution_count": 45,
     "metadata": {},
     "output_type": "execute_result"
    }
   ],
   "source": [
    "#Use != to check inequality. (think of != as \"not equal to\")\n",
    "1 != 2"
   ]
  },
  {
   "cell_type": "code",
   "execution_count": 46,
   "id": "fc95f990",
   "metadata": {
    "execution": {
     "iopub.execute_input": "2025-03-31T17:25:39.158469Z",
     "iopub.status.busy": "2025-03-31T17:25:39.158164Z",
     "iopub.status.idle": "2025-03-31T17:25:39.162877Z",
     "shell.execute_reply": "2025-03-31T17:25:39.162004Z"
    },
    "papermill": {
     "duration": 0.026402,
     "end_time": "2025-03-31T17:25:39.164178",
     "exception": false,
     "start_time": "2025-03-31T17:25:39.137776",
     "status": "completed"
    },
    "tags": []
   },
   "outputs": [
    {
     "data": {
      "text/plain": [
       "True"
      ]
     },
     "execution_count": 46,
     "metadata": {},
     "output_type": "execute_result"
    }
   ],
   "source": [
    "# Use the keyword \"not\" for negation:\n",
    "not False"
   ]
  },
  {
   "cell_type": "code",
   "execution_count": 47,
   "id": "613d97d4",
   "metadata": {
    "execution": {
     "iopub.execute_input": "2025-03-31T17:25:39.205324Z",
     "iopub.status.busy": "2025-03-31T17:25:39.204994Z",
     "iopub.status.idle": "2025-03-31T17:25:39.209957Z",
     "shell.execute_reply": "2025-03-31T17:25:39.209186Z"
    },
    "papermill": {
     "duration": 0.027217,
     "end_time": "2025-03-31T17:25:39.211374",
     "exception": false,
     "start_time": "2025-03-31T17:25:39.184157",
     "status": "completed"
    },
    "tags": []
   },
   "outputs": [
    {
     "data": {
      "text/plain": [
       "False"
      ]
     },
     "execution_count": 47,
     "metadata": {},
     "output_type": "execute_result"
    }
   ],
   "source": [
    "#Use the keyword \"and\" for logical and:\n",
    "(2>1) and (10>11)"
   ]
  },
  {
   "cell_type": "code",
   "execution_count": 48,
   "id": "00ed503e",
   "metadata": {
    "execution": {
     "iopub.execute_input": "2025-03-31T17:25:39.254480Z",
     "iopub.status.busy": "2025-03-31T17:25:39.254161Z",
     "iopub.status.idle": "2025-03-31T17:25:39.259308Z",
     "shell.execute_reply": "2025-03-31T17:25:39.258511Z"
    },
    "papermill": {
     "duration": 0.029326,
     "end_time": "2025-03-31T17:25:39.260801",
     "exception": false,
     "start_time": "2025-03-31T17:25:39.231475",
     "status": "completed"
    },
    "tags": []
   },
   "outputs": [
    {
     "data": {
      "text/plain": [
       "True"
      ]
     },
     "execution_count": 48,
     "metadata": {},
     "output_type": "execute_result"
    }
   ],
   "source": [
    "#Use the keyword \"or\" for logical or:\n",
    "(2>1) or (10>11)"
   ]
  },
  {
   "cell_type": "code",
   "execution_count": 49,
   "id": "6b7f1896",
   "metadata": {
    "execution": {
     "iopub.execute_input": "2025-03-31T17:25:39.303002Z",
     "iopub.status.busy": "2025-03-31T17:25:39.302648Z",
     "iopub.status.idle": "2025-03-31T17:25:39.307917Z",
     "shell.execute_reply": "2025-03-31T17:25:39.306920Z"
    },
    "papermill": {
     "duration": 0.027926,
     "end_time": "2025-03-31T17:25:39.309348",
     "exception": false,
     "start_time": "2025-03-31T17:25:39.281422",
     "status": "completed"
    },
    "tags": []
   },
   "outputs": [
    {
     "data": {
      "text/plain": [
       "True"
      ]
     },
     "execution_count": 49,
     "metadata": {},
     "output_type": "execute_result"
    }
   ],
   "source": [
    "2>1 or  10<8 and not True"
   ]
  },
  {
   "cell_type": "code",
   "execution_count": 50,
   "id": "60bbebd9",
   "metadata": {
    "execution": {
     "iopub.execute_input": "2025-03-31T17:25:39.351001Z",
     "iopub.status.busy": "2025-03-31T17:25:39.350653Z",
     "iopub.status.idle": "2025-03-31T17:25:39.355903Z",
     "shell.execute_reply": "2025-03-31T17:25:39.355131Z"
    },
    "papermill": {
     "duration": 0.027614,
     "end_time": "2025-03-31T17:25:39.357208",
     "exception": false,
     "start_time": "2025-03-31T17:25:39.329594",
     "status": "completed"
    },
    "tags": []
   },
   "outputs": [
    {
     "data": {
      "text/plain": [
       "False"
      ]
     },
     "execution_count": 50,
     "metadata": {},
     "output_type": "execute_result"
    }
   ],
   "source": [
    "((2>1) or (10<8)) and (not True)"
   ]
  },
  {
   "cell_type": "markdown",
   "id": "0aecd336",
   "metadata": {
    "papermill": {
     "duration": 0.020821,
     "end_time": "2025-03-31T17:25:39.398909",
     "exception": false,
     "start_time": "2025-03-31T17:25:39.378088",
     "status": "completed"
    },
    "tags": []
   },
   "source": [
    "You can convert numbers into boolean values using the bool() function. All numbers other than 0 convert to True:"
   ]
  },
  {
   "cell_type": "code",
   "execution_count": 51,
   "id": "2889bace",
   "metadata": {
    "execution": {
     "iopub.execute_input": "2025-03-31T17:25:39.441883Z",
     "iopub.status.busy": "2025-03-31T17:25:39.441504Z",
     "iopub.status.idle": "2025-03-31T17:25:39.446440Z",
     "shell.execute_reply": "2025-03-31T17:25:39.445706Z"
    },
    "papermill": {
     "duration": 0.028059,
     "end_time": "2025-03-31T17:25:39.447945",
     "exception": false,
     "start_time": "2025-03-31T17:25:39.419886",
     "status": "completed"
    },
    "tags": []
   },
   "outputs": [
    {
     "data": {
      "text/plain": [
       "True"
      ]
     },
     "execution_count": 51,
     "metadata": {},
     "output_type": "execute_result"
    }
   ],
   "source": [
    "bool(1)"
   ]
  },
  {
   "cell_type": "code",
   "execution_count": 52,
   "id": "3529aa7f",
   "metadata": {
    "execution": {
     "iopub.execute_input": "2025-03-31T17:25:39.490275Z",
     "iopub.status.busy": "2025-03-31T17:25:39.489924Z",
     "iopub.status.idle": "2025-03-31T17:25:39.495061Z",
     "shell.execute_reply": "2025-03-31T17:25:39.494274Z"
    },
    "papermill": {
     "duration": 0.02809,
     "end_time": "2025-03-31T17:25:39.496502",
     "exception": false,
     "start_time": "2025-03-31T17:25:39.468412",
     "status": "completed"
    },
    "tags": []
   },
   "outputs": [
    {
     "data": {
      "text/plain": [
       "False"
      ]
     },
     "execution_count": 52,
     "metadata": {},
     "output_type": "execute_result"
    }
   ],
   "source": [
    "bool(0)"
   ]
  },
  {
   "cell_type": "markdown",
   "id": "896f63aa",
   "metadata": {
    "papermill": {
     "duration": 0.020161,
     "end_time": "2025-03-31T17:25:39.537359",
     "exception": false,
     "start_time": "2025-03-31T17:25:39.517198",
     "status": "completed"
    },
    "tags": []
   },
   "source": [
    "# Strings"
   ]
  },
  {
   "cell_type": "markdown",
   "id": "46a0df4f",
   "metadata": {
    "papermill": {
     "duration": 0.020571,
     "end_time": "2025-03-31T17:25:39.578310",
     "exception": false,
     "start_time": "2025-03-31T17:25:39.557739",
     "status": "completed"
    },
    "tags": []
   },
   "source": [
    "Text data in Python is known as string or \"str\". Surround text with single or double quotation marks to create a string:"
   ]
  },
  {
   "cell_type": "code",
   "execution_count": 53,
   "id": "f2eb9e90",
   "metadata": {
    "execution": {
     "iopub.execute_input": "2025-03-31T17:25:39.620478Z",
     "iopub.status.busy": "2025-03-31T17:25:39.620162Z",
     "iopub.status.idle": "2025-03-31T17:25:39.625215Z",
     "shell.execute_reply": "2025-03-31T17:25:39.624369Z"
    },
    "papermill": {
     "duration": 0.027688,
     "end_time": "2025-03-31T17:25:39.626625",
     "exception": false,
     "start_time": "2025-03-31T17:25:39.598937",
     "status": "completed"
    },
    "tags": []
   },
   "outputs": [
    {
     "data": {
      "text/plain": [
       "str"
      ]
     },
     "execution_count": 53,
     "metadata": {},
     "output_type": "execute_result"
    }
   ],
   "source": [
    "type(\"cat\")"
   ]
  },
  {
   "cell_type": "code",
   "execution_count": 54,
   "id": "c5075ebc",
   "metadata": {
    "execution": {
     "iopub.execute_input": "2025-03-31T17:25:39.669039Z",
     "iopub.status.busy": "2025-03-31T17:25:39.668705Z",
     "iopub.status.idle": "2025-03-31T17:25:39.673959Z",
     "shell.execute_reply": "2025-03-31T17:25:39.673140Z"
    },
    "papermill": {
     "duration": 0.028061,
     "end_time": "2025-03-31T17:25:39.675407",
     "exception": false,
     "start_time": "2025-03-31T17:25:39.647346",
     "status": "completed"
    },
    "tags": []
   },
   "outputs": [
    {
     "data": {
      "text/plain": [
       "str"
      ]
     },
     "execution_count": 54,
     "metadata": {},
     "output_type": "execute_result"
    }
   ],
   "source": [
    "type('1')"
   ]
  },
  {
   "cell_type": "markdown",
   "id": "b0ef5004",
   "metadata": {
    "papermill": {
     "duration": 0.020598,
     "end_time": "2025-03-31T17:25:39.716861",
     "exception": false,
     "start_time": "2025-03-31T17:25:39.696263",
     "status": "completed"
    },
    "tags": []
   },
   "source": [
    "# None\n",
    "In python, \"None\" is a special data type that is often used to represent a missing value. for example, if you define a function that doesn't return anything it will return \"None\" by default."
   ]
  },
  {
   "cell_type": "code",
   "execution_count": 55,
   "id": "a0ec120a",
   "metadata": {
    "execution": {
     "iopub.execute_input": "2025-03-31T17:25:39.760014Z",
     "iopub.status.busy": "2025-03-31T17:25:39.759662Z",
     "iopub.status.idle": "2025-03-31T17:25:39.764659Z",
     "shell.execute_reply": "2025-03-31T17:25:39.763864Z"
    },
    "papermill": {
     "duration": 0.027845,
     "end_time": "2025-03-31T17:25:39.766003",
     "exception": false,
     "start_time": "2025-03-31T17:25:39.738158",
     "status": "completed"
    },
    "tags": []
   },
   "outputs": [
    {
     "data": {
      "text/plain": [
       "NoneType"
      ]
     },
     "execution_count": 55,
     "metadata": {},
     "output_type": "execute_result"
    }
   ],
   "source": [
    "type(None)"
   ]
  },
  {
   "cell_type": "code",
   "execution_count": 56,
   "id": "d8d5f8a1",
   "metadata": {
    "execution": {
     "iopub.execute_input": "2025-03-31T17:25:39.808910Z",
     "iopub.status.busy": "2025-03-31T17:25:39.808505Z",
     "iopub.status.idle": "2025-03-31T17:25:39.815249Z",
     "shell.execute_reply": "2025-03-31T17:25:39.814372Z"
    },
    "papermill": {
     "duration": 0.029903,
     "end_time": "2025-03-31T17:25:39.816757",
     "exception": false,
     "start_time": "2025-03-31T17:25:39.786854",
     "status": "completed"
    },
    "tags": []
   },
   "outputs": [
    {
     "name": "stdout",
     "output_type": "stream",
     "text": [
      "hello\n"
     ]
    },
    {
     "data": {
      "text/plain": [
       "True"
      ]
     },
     "execution_count": 56,
     "metadata": {},
     "output_type": "execute_result"
    }
   ],
   "source": [
    "#Define a function that prints the input but returns nothing\n",
    "def my_function(x):\n",
    "    print(x)\n",
    "my_function(\"hello\") == None  #the output of my_function equals None\n",
    "\n"
   ]
  },
  {
   "cell_type": "code",
   "execution_count": 57,
   "id": "a1c17841",
   "metadata": {
    "execution": {
     "iopub.execute_input": "2025-03-31T17:25:39.860201Z",
     "iopub.status.busy": "2025-03-31T17:25:39.859876Z",
     "iopub.status.idle": "2025-03-31T17:25:39.865035Z",
     "shell.execute_reply": "2025-03-31T17:25:39.864045Z"
    },
    "papermill": {
     "duration": 0.028453,
     "end_time": "2025-03-31T17:25:39.866444",
     "exception": false,
     "start_time": "2025-03-31T17:25:39.837991",
     "status": "completed"
    },
    "tags": []
   },
   "outputs": [
    {
     "data": {
      "text/plain": [
       "False"
      ]
     },
     "execution_count": 57,
     "metadata": {},
     "output_type": "execute_result"
    }
   ],
   "source": [
    "\"hello\"==None"
   ]
  },
  {
   "cell_type": "code",
   "execution_count": 58,
   "id": "5bce2319",
   "metadata": {
    "execution": {
     "iopub.execute_input": "2025-03-31T17:25:39.909648Z",
     "iopub.status.busy": "2025-03-31T17:25:39.909295Z",
     "iopub.status.idle": "2025-03-31T17:25:39.914378Z",
     "shell.execute_reply": "2025-03-31T17:25:39.913510Z"
    },
    "papermill": {
     "duration": 0.02822,
     "end_time": "2025-03-31T17:25:39.915682",
     "exception": false,
     "start_time": "2025-03-31T17:25:39.887462",
     "status": "completed"
    },
    "tags": []
   },
   "outputs": [
    {
     "data": {
      "text/plain": [
       "False"
      ]
     },
     "execution_count": 58,
     "metadata": {},
     "output_type": "execute_result"
    }
   ],
   "source": [
    "x=\"hello\"\n",
    "x==None"
   ]
  },
  {
   "cell_type": "markdown",
   "id": "3602d533",
   "metadata": {
    "papermill": {
     "duration": 0.021048,
     "end_time": "2025-03-31T17:25:39.958542",
     "exception": false,
     "start_time": "2025-03-31T17:25:39.937494",
     "status": "completed"
    },
    "tags": []
   },
   "source": [
    "#Assigning Variable "
   ]
  },
  {
   "cell_type": "code",
   "execution_count": 59,
   "id": "2e6a6cdc",
   "metadata": {
    "execution": {
     "iopub.execute_input": "2025-03-31T17:25:40.002626Z",
     "iopub.status.busy": "2025-03-31T17:25:40.002269Z",
     "iopub.status.idle": "2025-03-31T17:25:40.007702Z",
     "shell.execute_reply": "2025-03-31T17:25:40.006600Z"
    },
    "papermill": {
     "duration": 0.029,
     "end_time": "2025-03-31T17:25:40.009070",
     "exception": false,
     "start_time": "2025-03-31T17:25:39.980070",
     "status": "completed"
    },
    "tags": []
   },
   "outputs": [
    {
     "name": "stdout",
     "output_type": "stream",
     "text": [
      "10\n",
      "Python is fun\n",
      "True\n"
     ]
    }
   ],
   "source": [
    "x = 10\n",
    "y = \"Python is fun\"\n",
    "z = 144**0.5 == 12\n",
    "print(x)\n",
    "print(y)\n",
    "print(z)\n"
   ]
  },
  {
   "cell_type": "markdown",
   "id": "4f96618b",
   "metadata": {
    "papermill": {
     "duration": 0.021209,
     "end_time": "2025-03-31T17:25:40.052004",
     "exception": false,
     "start_time": "2025-03-31T17:25:40.030795",
     "status": "completed"
    },
    "tags": []
   },
   "source": [
    "Note : assigning a variable does not produce any output"
   ]
  },
  {
   "cell_type": "code",
   "execution_count": 60,
   "id": "75de9415",
   "metadata": {
    "execution": {
     "iopub.execute_input": "2025-03-31T17:25:40.095764Z",
     "iopub.status.busy": "2025-03-31T17:25:40.095387Z",
     "iopub.status.idle": "2025-03-31T17:25:40.100386Z",
     "shell.execute_reply": "2025-03-31T17:25:40.099336Z"
    },
    "papermill": {
     "duration": 0.028702,
     "end_time": "2025-03-31T17:25:40.101988",
     "exception": false,
     "start_time": "2025-03-31T17:25:40.073286",
     "status": "completed"
    },
    "tags": []
   },
   "outputs": [
    {
     "name": "stdout",
     "output_type": "stream",
     "text": [
      "4\n",
      "4\n"
     ]
    }
   ],
   "source": [
    "n = m = 4\n",
    "print(n)\n",
    "print(m)"
   ]
  },
  {
   "cell_type": "markdown",
   "id": "dd88ceb6",
   "metadata": {
    "papermill": {
     "duration": 0.02117,
     "end_time": "2025-03-31T17:25:40.144810",
     "exception": false,
     "start_time": "2025-03-31T17:25:40.123640",
     "status": "completed"
    },
    "tags": []
   },
   "source": [
    "You can also assign several different variables at the same time using a comma separated sequence of variable names followed by the assignment operator and a comma separated sequence of values inside parameters:"
   ]
  },
  {
   "cell_type": "code",
   "execution_count": 61,
   "id": "29c14147",
   "metadata": {
    "execution": {
     "iopub.execute_input": "2025-03-31T17:25:40.188758Z",
     "iopub.status.busy": "2025-03-31T17:25:40.188386Z",
     "iopub.status.idle": "2025-03-31T17:25:40.193778Z",
     "shell.execute_reply": "2025-03-31T17:25:40.192852Z"
    },
    "papermill": {
     "duration": 0.029028,
     "end_time": "2025-03-31T17:25:40.195307",
     "exception": false,
     "start_time": "2025-03-31T17:25:40.166279",
     "status": "completed"
    },
    "tags": []
   },
   "outputs": [
    {
     "name": "stdout",
     "output_type": "stream",
     "text": [
      "10\n",
      "20\n",
      "30\n"
     ]
    }
   ],
   "source": [
    "# Assign 3 variables at the same time:\n",
    "x, y, z = (10,20,30)\n",
    "\n",
    "print(x)\n",
    "print(y)\n",
    "print(z)"
   ]
  },
  {
   "cell_type": "markdown",
   "id": "407ce1fb",
   "metadata": {
    "papermill": {
     "duration": 0.022301,
     "end_time": "2025-03-31T17:25:40.240064",
     "exception": false,
     "start_time": "2025-03-31T17:25:40.217763",
     "status": "completed"
    },
    "tags": []
   },
   "source": [
    "This method of extracting variables from a comma separated sequence is know as tuple unpacking"
   ]
  },
  {
   "cell_type": "code",
   "execution_count": 62,
   "id": "b845e8f8",
   "metadata": {
    "execution": {
     "iopub.execute_input": "2025-03-31T17:25:40.284227Z",
     "iopub.status.busy": "2025-03-31T17:25:40.283901Z",
     "iopub.status.idle": "2025-03-31T17:25:40.289091Z",
     "shell.execute_reply": "2025-03-31T17:25:40.288051Z"
    },
    "papermill": {
     "duration": 0.02874,
     "end_time": "2025-03-31T17:25:40.290489",
     "exception": false,
     "start_time": "2025-03-31T17:25:40.261749",
     "status": "completed"
    },
    "tags": []
   },
   "outputs": [
    {
     "name": "stdout",
     "output_type": "stream",
     "text": [
      "20\n",
      "10\n"
     ]
    }
   ],
   "source": [
    "#You can swap the values of two variables using a similar syntax:\n",
    "(x, y)=(y, x)\n",
    "print(x)\n",
    "print(y)"
   ]
  },
  {
   "cell_type": "markdown",
   "id": "3ff8e0d9",
   "metadata": {
    "papermill": {
     "duration": 0.021186,
     "end_time": "2025-03-31T17:25:40.333502",
     "exception": false,
     "start_time": "2025-03-31T17:25:40.312316",
     "status": "completed"
    },
    "tags": []
   },
   "source": [
    "When you assign a variable in Python, the variable is a reference to a specific object in the computer's memory. Reassigning a variable simply switches the reference to a different object in memory. If the object a variable refers to in memory is altered in some way, the value of the variable corresponding to the altered object will also change. All of the basic data types we've seen thus far are immutable, meaning they cannot be changed after they are created. If you perform some operation that appears to alter an immutable object, it is actually creating a totally new object in a memory, rather than changing the original immutable object."
   ]
  },
  {
   "cell_type": "code",
   "execution_count": 63,
   "id": "29ab9d06",
   "metadata": {
    "execution": {
     "iopub.execute_input": "2025-03-31T17:25:40.377130Z",
     "iopub.status.busy": "2025-03-31T17:25:40.376809Z",
     "iopub.status.idle": "2025-03-31T17:25:40.381884Z",
     "shell.execute_reply": "2025-03-31T17:25:40.380950Z"
    },
    "papermill": {
     "duration": 0.028508,
     "end_time": "2025-03-31T17:25:40.383265",
     "exception": false,
     "start_time": "2025-03-31T17:25:40.354757",
     "status": "completed"
    },
    "tags": []
   },
   "outputs": [
    {
     "name": "stdout",
     "output_type": "stream",
     "text": [
      "Hello\n",
      "hello\n"
     ]
    }
   ],
   "source": [
    "#Consider the following example:\n",
    "x = \"Hello\"    #Create a new string\n",
    "y = x          #Assign y the same object as x\n",
    "y = y.lower()  #Assign y the result of y.lower()\n",
    "print(x)\n",
    "print(y)"
   ]
  },
  {
   "cell_type": "markdown",
   "id": "70f5746e",
   "metadata": {
    "papermill": {
     "duration": 0.02101,
     "end_time": "2025-03-31T17:25:40.425993",
     "exception": false,
     "start_time": "2025-03-31T17:25:40.404983",
     "status": "completed"
    },
    "tags": []
   },
   "source": [
    "In the case above, we first assign x the value \"Hello\", a string object stored somewhere in memory.  Next we use the string method lower () to make the string assigned to y lowercase. Since strings are immutable, Python creates an entirey new string, \"hello\" and stores it somewhere in memory separate from the orginal \"Hello\" object. As a result, x and y refer to different objects in memory and produce different results when printed to the console."
   ]
  },
  {
   "cell_type": "markdown",
   "id": "23928d12",
   "metadata": {
    "papermill": {
     "duration": 0.021465,
     "end_time": "2025-03-31T17:25:40.469026",
     "exception": false,
     "start_time": "2025-03-31T17:25:40.447561",
     "status": "completed"
    },
    "tags": []
   },
   "source": [
    "By contract, lists are a mutable data structure that can hold multiple objects. If you alter a list, Python doesn't make an entirely new list in memory: it changes the actual list object itself. This can lead to seemingly inconsistent and confusing behaviour:"
   ]
  },
  {
   "cell_type": "code",
   "execution_count": 64,
   "id": "2fb3abad",
   "metadata": {
    "execution": {
     "iopub.execute_input": "2025-03-31T17:25:40.512804Z",
     "iopub.status.busy": "2025-03-31T17:25:40.512409Z",
     "iopub.status.idle": "2025-03-31T17:25:40.517664Z",
     "shell.execute_reply": "2025-03-31T17:25:40.516643Z"
    },
    "papermill": {
     "duration": 0.028786,
     "end_time": "2025-03-31T17:25:40.519241",
     "exception": false,
     "start_time": "2025-03-31T17:25:40.490455",
     "status": "completed"
    },
    "tags": []
   },
   "outputs": [
    {
     "name": "stdout",
     "output_type": "stream",
     "text": [
      "[1, 2, 3, 4]\n",
      "[1, 2, 3, 4]\n"
     ]
    }
   ],
   "source": [
    "x = [1,2,3] #Create a new list\n",
    "y = x       #Assign y the same object as x\n",
    "y.append(4) #Add 4 to the end of list y\n",
    "print(x)\n",
    "print(y)"
   ]
  },
  {
   "cell_type": "markdown",
   "id": "74244d01",
   "metadata": {
    "papermill": {
     "duration": 0.021104,
     "end_time": "2025-03-31T17:25:40.561996",
     "exception": false,
     "start_time": "2025-03-31T17:25:40.540892",
     "status": "completed"
    },
    "tags": []
   },
   "source": [
    "In this case, x and y still both refer to the same original list, so both x and y have the same value, even though it may appear that the code only added the number 4 to list y."
   ]
  },
  {
   "cell_type": "markdown",
   "id": "36158964",
   "metadata": {
    "papermill": {
     "duration": 0.021508,
     "end_time": "2025-03-31T17:25:40.605179",
     "exception": false,
     "start_time": "2025-03-31T17:25:40.583671",
     "status": "completed"
    },
    "tags": []
   },
   "source": [
    "**List Basics**\n",
    "A list is a mutuable, ordered collection of objects. \"Mutable\" means a list can be altered after it is created. You can, for example,add new items to a list or remove existing items. Lists are heterogeneous, meaning they can hold objects of different types."
   ]
  },
  {
   "cell_type": "code",
   "execution_count": 65,
   "id": "392f0487",
   "metadata": {
    "execution": {
     "iopub.execute_input": "2025-03-31T17:25:40.649209Z",
     "iopub.status.busy": "2025-03-31T17:25:40.648870Z",
     "iopub.status.idle": "2025-03-31T17:25:40.653646Z",
     "shell.execute_reply": "2025-03-31T17:25:40.652606Z"
    },
    "papermill": {
     "duration": 0.028462,
     "end_time": "2025-03-31T17:25:40.655113",
     "exception": false,
     "start_time": "2025-03-31T17:25:40.626651",
     "status": "completed"
    },
    "tags": []
   },
   "outputs": [
    {
     "name": "stdout",
     "output_type": "stream",
     "text": [
      "['Lesson', 5, 'Is Fun?', True]\n"
     ]
    }
   ],
   "source": [
    "my_list = [\"Lesson\",5,\"Is Fun?\",True]\n",
    "print(my_list)"
   ]
  },
  {
   "cell_type": "markdown",
   "id": "80801e5c",
   "metadata": {
    "papermill": {
     "duration": 0.021261,
     "end_time": "2025-03-31T17:25:40.698382",
     "exception": false,
     "start_time": "2025-03-31T17:25:40.677121",
     "status": "completed"
    },
    "tags": []
   },
   "source": [
    "Alternatively, you can construct a list by passing some other iterable into the list() function. An iterable descibes an object you can look through one item at a time, such as lists, tuples, strings and other sequences."
   ]
  },
  {
   "cell_type": "code",
   "execution_count": 66,
   "id": "39f76eeb",
   "metadata": {
    "execution": {
     "iopub.execute_input": "2025-03-31T17:25:40.742596Z",
     "iopub.status.busy": "2025-03-31T17:25:40.742223Z",
     "iopub.status.idle": "2025-03-31T17:25:40.746735Z",
     "shell.execute_reply": "2025-03-31T17:25:40.745690Z"
    },
    "papermill": {
     "duration": 0.028045,
     "end_time": "2025-03-31T17:25:40.748140",
     "exception": false,
     "start_time": "2025-03-31T17:25:40.720095",
     "status": "completed"
    },
    "tags": []
   },
   "outputs": [
    {
     "name": "stdout",
     "output_type": "stream",
     "text": [
      "['L', 'i', 'f', 'e', ' ', 'i', 's', ' ', 'S', 't', 'u', 'd', 'y']\n"
     ]
    }
   ],
   "source": [
    "second_list = list(\"Life is Study\")   #Create a list from a string\n",
    "print(second_list)"
   ]
  },
  {
   "cell_type": "markdown",
   "id": "62483ace",
   "metadata": {
    "papermill": {
     "duration": 0.021024,
     "end_time": "2025-03-31T17:25:40.790467",
     "exception": false,
     "start_time": "2025-03-31T17:25:40.769443",
     "status": "completed"
    },
    "tags": []
   },
   "source": [
    "A list with no contents is known as the empty list:"
   ]
  },
  {
   "cell_type": "code",
   "execution_count": 67,
   "id": "51f6e053",
   "metadata": {
    "execution": {
     "iopub.execute_input": "2025-03-31T17:25:40.834865Z",
     "iopub.status.busy": "2025-03-31T17:25:40.834474Z",
     "iopub.status.idle": "2025-03-31T17:25:40.839207Z",
     "shell.execute_reply": "2025-03-31T17:25:40.838217Z"
    },
    "papermill": {
     "duration": 0.028875,
     "end_time": "2025-03-31T17:25:40.840787",
     "exception": false,
     "start_time": "2025-03-31T17:25:40.811912",
     "status": "completed"
    },
    "tags": []
   },
   "outputs": [
    {
     "name": "stdout",
     "output_type": "stream",
     "text": [
      "[]\n"
     ]
    }
   ],
   "source": [
    "empty_list = []\n",
    "print(empty_list)"
   ]
  },
  {
   "cell_type": "markdown",
   "id": "19619a58",
   "metadata": {
    "papermill": {
     "duration": 0.021582,
     "end_time": "2025-03-31T17:25:40.885650",
     "exception": false,
     "start_time": "2025-03-31T17:25:40.864068",
     "status": "completed"
    },
    "tags": []
   },
   "source": [
    "You can add an item to an existing list with the list.append() function:"
   ]
  },
  {
   "cell_type": "code",
   "execution_count": 68,
   "id": "44faa43e",
   "metadata": {
    "execution": {
     "iopub.execute_input": "2025-03-31T17:25:40.929680Z",
     "iopub.status.busy": "2025-03-31T17:25:40.929323Z",
     "iopub.status.idle": "2025-03-31T17:25:40.933676Z",
     "shell.execute_reply": "2025-03-31T17:25:40.932738Z"
    },
    "papermill": {
     "duration": 0.02794,
     "end_time": "2025-03-31T17:25:40.935067",
     "exception": false,
     "start_time": "2025-03-31T17:25:40.907127",
     "status": "completed"
    },
    "tags": []
   },
   "outputs": [
    {
     "name": "stdout",
     "output_type": "stream",
     "text": [
      "[\"I'm no longer empty!\"]\n"
     ]
    }
   ],
   "source": [
    "empty_list.append(\"I'm no longer empty!\")\n",
    "print(empty_list)"
   ]
  },
  {
   "cell_type": "code",
   "execution_count": 69,
   "id": "93b1d857",
   "metadata": {
    "execution": {
     "iopub.execute_input": "2025-03-31T17:25:40.982553Z",
     "iopub.status.busy": "2025-03-31T17:25:40.982177Z",
     "iopub.status.idle": "2025-03-31T17:25:40.986883Z",
     "shell.execute_reply": "2025-03-31T17:25:40.985929Z"
    },
    "papermill": {
     "duration": 0.030819,
     "end_time": "2025-03-31T17:25:40.988369",
     "exception": false,
     "start_time": "2025-03-31T17:25:40.957550",
     "status": "completed"
    },
    "tags": []
   },
   "outputs": [
    {
     "name": "stdout",
     "output_type": "stream",
     "text": [
      "[\"I'm no longer empty!\"]\n"
     ]
    }
   ],
   "source": [
    "print(empty_list)"
   ]
  },
  {
   "cell_type": "code",
   "execution_count": 70,
   "id": "f2928fe2",
   "metadata": {
    "execution": {
     "iopub.execute_input": "2025-03-31T17:25:41.033242Z",
     "iopub.status.busy": "2025-03-31T17:25:41.032909Z",
     "iopub.status.idle": "2025-03-31T17:25:41.036695Z",
     "shell.execute_reply": "2025-03-31T17:25:41.035768Z"
    },
    "papermill": {
     "duration": 0.027833,
     "end_time": "2025-03-31T17:25:41.038197",
     "exception": false,
     "start_time": "2025-03-31T17:25:41.010364",
     "status": "completed"
    },
    "tags": []
   },
   "outputs": [],
   "source": [
    "empty_list1=list(empty_list)"
   ]
  },
  {
   "cell_type": "code",
   "execution_count": 71,
   "id": "e2fa09aa",
   "metadata": {
    "execution": {
     "iopub.execute_input": "2025-03-31T17:25:41.082948Z",
     "iopub.status.busy": "2025-03-31T17:25:41.082563Z",
     "iopub.status.idle": "2025-03-31T17:25:41.086747Z",
     "shell.execute_reply": "2025-03-31T17:25:41.085790Z"
    },
    "papermill": {
     "duration": 0.028038,
     "end_time": "2025-03-31T17:25:41.088198",
     "exception": false,
     "start_time": "2025-03-31T17:25:41.060160",
     "status": "completed"
    },
    "tags": []
   },
   "outputs": [
    {
     "name": "stdout",
     "output_type": "stream",
     "text": [
      "[\"I'm no longer empty!\"]\n"
     ]
    }
   ],
   "source": [
    "print(empty_list1)"
   ]
  },
  {
   "cell_type": "markdown",
   "id": "b3341a18",
   "metadata": {
    "papermill": {
     "duration": 0.021458,
     "end_time": "2025-03-31T17:25:41.131528",
     "exception": false,
     "start_time": "2025-03-31T17:25:41.110070",
     "status": "completed"
    },
    "tags": []
   },
   "source": [
    "Remove a matching item from a list with list.remove()\n",
    "\n",
    "Note: Remove deletes the first matching item only."
   ]
  },
  {
   "cell_type": "code",
   "execution_count": 72,
   "id": "9ceca1ac",
   "metadata": {
    "execution": {
     "iopub.execute_input": "2025-03-31T17:25:41.175928Z",
     "iopub.status.busy": "2025-03-31T17:25:41.175550Z",
     "iopub.status.idle": "2025-03-31T17:25:41.180237Z",
     "shell.execute_reply": "2025-03-31T17:25:41.179238Z"
    },
    "papermill": {
     "duration": 0.028654,
     "end_time": "2025-03-31T17:25:41.181812",
     "exception": false,
     "start_time": "2025-03-31T17:25:41.153158",
     "status": "completed"
    },
    "tags": []
   },
   "outputs": [
    {
     "name": "stdout",
     "output_type": "stream",
     "text": [
      "['Lesson', 'Is Fun?', True]\n"
     ]
    }
   ],
   "source": [
    "my_list.remove(5)\n",
    "print(my_list)"
   ]
  },
  {
   "cell_type": "markdown",
   "id": "7bb53569",
   "metadata": {
    "papermill": {
     "duration": 0.025822,
     "end_time": "2025-03-31T17:25:41.229923",
     "exception": false,
     "start_time": "2025-03-31T17:25:41.204101",
     "status": "completed"
    },
    "tags": []
   },
   "source": [
    "Join two lists together with the + operator:"
   ]
  },
  {
   "cell_type": "code",
   "execution_count": 73,
   "id": "1329cc9b",
   "metadata": {
    "execution": {
     "iopub.execute_input": "2025-03-31T17:25:41.282614Z",
     "iopub.status.busy": "2025-03-31T17:25:41.282231Z",
     "iopub.status.idle": "2025-03-31T17:25:41.287148Z",
     "shell.execute_reply": "2025-03-31T17:25:41.285972Z"
    },
    "papermill": {
     "duration": 0.03211,
     "end_time": "2025-03-31T17:25:41.288634",
     "exception": false,
     "start_time": "2025-03-31T17:25:41.256524",
     "status": "completed"
    },
    "tags": []
   },
   "outputs": [
    {
     "name": "stdout",
     "output_type": "stream",
     "text": [
      "['Lesson', 'Is Fun?', True, \"I'm no longer empty!\"]\n"
     ]
    }
   ],
   "source": [
    "combined_list = my_list + empty_list\n",
    "print(combined_list)\n"
   ]
  },
  {
   "cell_type": "markdown",
   "id": "379061f8",
   "metadata": {
    "papermill": {
     "duration": 0.021454,
     "end_time": "2025-03-31T17:25:41.332265",
     "exception": false,
     "start_time": "2025-03-31T17:25:41.310811",
     "status": "completed"
    },
    "tags": []
   },
   "source": [
    "You can also add a sequence to the end of an existing list with the list.extend() function"
   ]
  },
  {
   "cell_type": "code",
   "execution_count": 74,
   "id": "89a85390",
   "metadata": {
    "execution": {
     "iopub.execute_input": "2025-03-31T17:25:41.388464Z",
     "iopub.status.busy": "2025-03-31T17:25:41.387851Z",
     "iopub.status.idle": "2025-03-31T17:25:41.394751Z",
     "shell.execute_reply": "2025-03-31T17:25:41.393474Z"
    },
    "papermill": {
     "duration": 0.042846,
     "end_time": "2025-03-31T17:25:41.396718",
     "exception": false,
     "start_time": "2025-03-31T17:25:41.353872",
     "status": "completed"
    },
    "tags": []
   },
   "outputs": [
    {
     "name": "stdout",
     "output_type": "stream",
     "text": [
      "['Lesson', 'Is Fun?', True, \"I'm no longer empty!\"]\n"
     ]
    }
   ],
   "source": [
    "combined_list = my_list\n",
    "combined_list.extend(empty_list)\n",
    "print(combined_list)"
   ]
  },
  {
   "cell_type": "markdown",
   "id": "062208f2",
   "metadata": {
    "papermill": {
     "duration": 0.029522,
     "end_time": "2025-03-31T17:25:41.457824",
     "exception": false,
     "start_time": "2025-03-31T17:25:41.428302",
     "status": "completed"
    },
    "tags": []
   },
   "source": [
    "Check the length, maximum, minimum and sum of a list with the len(), max(), min() and sum() functions, respectively."
   ]
  },
  {
   "cell_type": "code",
   "execution_count": 75,
   "id": "343cb1f4",
   "metadata": {
    "execution": {
     "iopub.execute_input": "2025-03-31T17:25:41.510768Z",
     "iopub.status.busy": "2025-03-31T17:25:41.510298Z",
     "iopub.status.idle": "2025-03-31T17:25:41.517747Z",
     "shell.execute_reply": "2025-03-31T17:25:41.516344Z"
    },
    "papermill": {
     "duration": 0.035415,
     "end_time": "2025-03-31T17:25:41.519459",
     "exception": false,
     "start_time": "2025-03-31T17:25:41.484044",
     "status": "completed"
    },
    "tags": []
   },
   "outputs": [
    {
     "name": "stdout",
     "output_type": "stream",
     "text": [
      "5\n",
      "9\n",
      "1\n",
      "25\n",
      "5.0\n"
     ]
    }
   ],
   "source": [
    "num_list = [1,3,5,7,9]\n",
    "print(len(num_list))     #Check the length\n",
    "print(max(num_list))     #Check the max\n",
    "print(min(num_list))     #Check the min\n",
    "print(sum(num_list))     #Check the sum\n",
    "print(sum(num_list)/len(num_list))  #Check the mean*"
   ]
  },
  {
   "cell_type": "code",
   "execution_count": null,
   "id": "a8d0cdea",
   "metadata": {
    "papermill": {
     "duration": 0.023793,
     "end_time": "2025-03-31T17:25:41.568001",
     "exception": false,
     "start_time": "2025-03-31T17:25:41.544208",
     "status": "completed"
    },
    "tags": []
   },
   "outputs": [],
   "source": []
  }
 ],
 "metadata": {
  "kaggle": {
   "accelerator": "none",
   "dataSources": [],
   "dockerImageVersionId": 30918,
   "isGpuEnabled": false,
   "isInternetEnabled": false,
   "language": "python",
   "sourceType": "notebook"
  },
  "kernelspec": {
   "display_name": "Python 3",
   "language": "python",
   "name": "python3"
  },
  "language_info": {
   "codemirror_mode": {
    "name": "ipython",
    "version": 3
   },
   "file_extension": ".py",
   "mimetype": "text/x-python",
   "name": "python",
   "nbconvert_exporter": "python",
   "pygments_lexer": "ipython3",
   "version": "3.10.12"
  },
  "papermill": {
   "default_parameters": {},
   "duration": 8.761252,
   "end_time": "2025-03-31T17:25:42.108062",
   "environment_variables": {},
   "exception": null,
   "input_path": "__notebook__.ipynb",
   "output_path": "__notebook__.ipynb",
   "parameters": {},
   "start_time": "2025-03-31T17:25:33.346810",
   "version": "2.6.0"
  }
 },
 "nbformat": 4,
 "nbformat_minor": 5
}
