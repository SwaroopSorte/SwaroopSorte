{
 "cells": [
  {
   "cell_type": "code",
   "execution_count": 1,
   "id": "88822091",
   "metadata": {
    "_cell_guid": "b1076dfc-b9ad-4769-8c92-a6c4dae69d19",
    "_uuid": "8f2839f25d086af736a60e9eeb907d3b93b6e0e5",
    "execution": {
     "iopub.execute_input": "2025-04-02T06:03:18.827424Z",
     "iopub.status.busy": "2025-04-02T06:03:18.826918Z",
     "iopub.status.idle": "2025-04-02T06:03:19.834833Z",
     "shell.execute_reply": "2025-04-02T06:03:19.833347Z"
    },
    "papermill": {
     "duration": 1.032919,
     "end_time": "2025-04-02T06:03:19.837096",
     "exception": false,
     "start_time": "2025-04-02T06:03:18.804177",
     "status": "completed"
    },
    "tags": []
   },
   "outputs": [],
   "source": [
    "# This Python 3 environment comes with many helpful analytics libraries installed\n",
    "# It is defined by the kaggle/python Docker image: https://github.com/kaggle/docker-python\n",
    "# For example, here's several helpful packages to load\n",
    "\n",
    "import numpy as np # linear algebra\n",
    "import pandas as pd # data processing, CSV file I/O (e.g. pd.read_csv)\n",
    "\n",
    "# Input data files are available in the read-only \"../input/\" directory\n",
    "# For example, running this (by clicking run or pressing Shift+Enter) will list all files under the input directory\n",
    "\n",
    "import os\n",
    "for dirname, _, filenames in os.walk('/kaggle/input'):\n",
    "    for filename in filenames:\n",
    "        print(os.path.join(dirname, filename))\n",
    "\n",
    "# You can write up to 20GB to the current directory (/kaggle/working/) that gets preserved as output when you create a version using \"Save & Run All\" \n",
    "# You can also write temporary files to /kaggle/temp/, but they won't be saved outside of the current session"
   ]
  },
  {
   "cell_type": "code",
   "execution_count": 2,
   "id": "f253ca43",
   "metadata": {
    "execution": {
     "iopub.execute_input": "2025-04-02T06:03:19.879887Z",
     "iopub.status.busy": "2025-04-02T06:03:19.879215Z",
     "iopub.status.idle": "2025-04-02T06:03:19.887247Z",
     "shell.execute_reply": "2025-04-02T06:03:19.885958Z"
    },
    "papermill": {
     "duration": 0.03197,
     "end_time": "2025-04-02T06:03:19.889396",
     "exception": false,
     "start_time": "2025-04-02T06:03:19.857426",
     "status": "completed"
    },
    "tags": []
   },
   "outputs": [
    {
     "data": {
      "text/plain": [
       "15"
      ]
     },
     "execution_count": 2,
     "metadata": {},
     "output_type": "execute_result"
    }
   ],
   "source": [
    "10 + 5"
   ]
  },
  {
   "cell_type": "code",
   "execution_count": 3,
   "id": "69ce15e9",
   "metadata": {
    "execution": {
     "iopub.execute_input": "2025-04-02T06:03:19.931455Z",
     "iopub.status.busy": "2025-04-02T06:03:19.931003Z",
     "iopub.status.idle": "2025-04-02T06:03:19.937783Z",
     "shell.execute_reply": "2025-04-02T06:03:19.936369Z"
    },
    "papermill": {
     "duration": 0.030448,
     "end_time": "2025-04-02T06:03:19.939914",
     "exception": false,
     "start_time": "2025-04-02T06:03:19.909466",
     "status": "completed"
    },
    "tags": []
   },
   "outputs": [
    {
     "data": {
      "text/plain": [
       "5"
      ]
     },
     "execution_count": 3,
     "metadata": {},
     "output_type": "execute_result"
    }
   ],
   "source": [
    "10 - 5"
   ]
  },
  {
   "cell_type": "code",
   "execution_count": 4,
   "id": "ca4f40bc",
   "metadata": {
    "execution": {
     "iopub.execute_input": "2025-04-02T06:03:19.981813Z",
     "iopub.status.busy": "2025-04-02T06:03:19.981390Z",
     "iopub.status.idle": "2025-04-02T06:03:19.988118Z",
     "shell.execute_reply": "2025-04-02T06:03:19.986936Z"
    },
    "papermill": {
     "duration": 0.029749,
     "end_time": "2025-04-02T06:03:19.989771",
     "exception": false,
     "start_time": "2025-04-02T06:03:19.960022",
     "status": "completed"
    },
    "tags": []
   },
   "outputs": [
    {
     "data": {
      "text/plain": [
       "50"
      ]
     },
     "execution_count": 4,
     "metadata": {},
     "output_type": "execute_result"
    }
   ],
   "source": [
    "10*5"
   ]
  },
  {
   "cell_type": "code",
   "execution_count": 5,
   "id": "5eb9a954",
   "metadata": {
    "execution": {
     "iopub.execute_input": "2025-04-02T06:03:20.031385Z",
     "iopub.status.busy": "2025-04-02T06:03:20.030924Z",
     "iopub.status.idle": "2025-04-02T06:03:20.037515Z",
     "shell.execute_reply": "2025-04-02T06:03:20.036380Z"
    },
    "papermill": {
     "duration": 0.030015,
     "end_time": "2025-04-02T06:03:20.039621",
     "exception": false,
     "start_time": "2025-04-02T06:03:20.009606",
     "status": "completed"
    },
    "tags": []
   },
   "outputs": [
    {
     "data": {
      "text/plain": [
       "2.0"
      ]
     },
     "execution_count": 5,
     "metadata": {},
     "output_type": "execute_result"
    }
   ],
   "source": [
    "10/5"
   ]
  },
  {
   "cell_type": "code",
   "execution_count": 6,
   "id": "994c39c3",
   "metadata": {
    "execution": {
     "iopub.execute_input": "2025-04-02T06:03:20.083341Z",
     "iopub.status.busy": "2025-04-02T06:03:20.082933Z",
     "iopub.status.idle": "2025-04-02T06:03:20.089486Z",
     "shell.execute_reply": "2025-04-02T06:03:20.088299Z"
    },
    "papermill": {
     "duration": 0.030832,
     "end_time": "2025-04-02T06:03:20.091500",
     "exception": false,
     "start_time": "2025-04-02T06:03:20.060668",
     "status": "completed"
    },
    "tags": []
   },
   "outputs": [
    {
     "data": {
      "text/plain": [
       "3.3333333333333335"
      ]
     },
     "execution_count": 6,
     "metadata": {},
     "output_type": "execute_result"
    }
   ],
   "source": [
    "10/3"
   ]
  },
  {
   "cell_type": "code",
   "execution_count": 7,
   "id": "b5b6ad7d",
   "metadata": {
    "execution": {
     "iopub.execute_input": "2025-04-02T06:03:20.135415Z",
     "iopub.status.busy": "2025-04-02T06:03:20.135028Z",
     "iopub.status.idle": "2025-04-02T06:03:20.141243Z",
     "shell.execute_reply": "2025-04-02T06:03:20.140045Z"
    },
    "papermill": {
     "duration": 0.03009,
     "end_time": "2025-04-02T06:03:20.143157",
     "exception": false,
     "start_time": "2025-04-02T06:03:20.113067",
     "status": "completed"
    },
    "tags": []
   },
   "outputs": [
    {
     "data": {
      "text/plain": [
       "3"
      ]
     },
     "execution_count": 7,
     "metadata": {},
     "output_type": "execute_result"
    }
   ],
   "source": [
    "10//3"
   ]
  },
  {
   "cell_type": "code",
   "execution_count": 8,
   "id": "d5f4b864",
   "metadata": {
    "execution": {
     "iopub.execute_input": "2025-04-02T06:03:20.186405Z",
     "iopub.status.busy": "2025-04-02T06:03:20.185925Z",
     "iopub.status.idle": "2025-04-02T06:03:20.192031Z",
     "shell.execute_reply": "2025-04-02T06:03:20.190913Z"
    },
    "papermill": {
     "duration": 0.029823,
     "end_time": "2025-04-02T06:03:20.193866",
     "exception": false,
     "start_time": "2025-04-02T06:03:20.164043",
     "status": "completed"
    },
    "tags": []
   },
   "outputs": [
    {
     "data": {
      "text/plain": [
       "1000"
      ]
     },
     "execution_count": 8,
     "metadata": {},
     "output_type": "execute_result"
    }
   ],
   "source": [
    "10**3"
   ]
  },
  {
   "cell_type": "code",
   "execution_count": 9,
   "id": "8e3cdd83",
   "metadata": {
    "execution": {
     "iopub.execute_input": "2025-04-02T06:03:20.238587Z",
     "iopub.status.busy": "2025-04-02T06:03:20.238168Z",
     "iopub.status.idle": "2025-04-02T06:03:20.244787Z",
     "shell.execute_reply": "2025-04-02T06:03:20.243486Z"
    },
    "papermill": {
     "duration": 0.030586,
     "end_time": "2025-04-02T06:03:20.246519",
     "exception": false,
     "start_time": "2025-04-02T06:03:20.215933",
     "status": "completed"
    },
    "tags": []
   },
   "outputs": [
    {
     "data": {
      "text/plain": [
       "100"
      ]
     },
     "execution_count": 9,
     "metadata": {},
     "output_type": "execute_result"
    }
   ],
   "source": [
    "10**2"
   ]
  },
  {
   "cell_type": "code",
   "execution_count": 10,
   "id": "3dd04df1",
   "metadata": {
    "execution": {
     "iopub.execute_input": "2025-04-02T06:03:20.290038Z",
     "iopub.status.busy": "2025-04-02T06:03:20.289672Z",
     "iopub.status.idle": "2025-04-02T06:03:20.296447Z",
     "shell.execute_reply": "2025-04-02T06:03:20.295113Z"
    },
    "papermill": {
     "duration": 0.030898,
     "end_time": "2025-04-02T06:03:20.298745",
     "exception": false,
     "start_time": "2025-04-02T06:03:20.267847",
     "status": "completed"
    },
    "tags": []
   },
   "outputs": [
    {
     "data": {
      "text/plain": [
       "10000"
      ]
     },
     "execution_count": 10,
     "metadata": {},
     "output_type": "execute_result"
    }
   ],
   "source": [
    "10**4"
   ]
  },
  {
   "cell_type": "code",
   "execution_count": null,
   "id": "36683a22",
   "metadata": {
    "papermill": {
     "duration": 0.020672,
     "end_time": "2025-04-02T06:03:20.340576",
     "exception": false,
     "start_time": "2025-04-02T06:03:20.319904",
     "status": "completed"
    },
    "tags": []
   },
   "outputs": [],
   "source": []
  },
  {
   "cell_type": "markdown",
   "id": "5deef43f",
   "metadata": {
    "papermill": {
     "duration": 0.020593,
     "end_time": "2025-04-02T06:03:20.382571",
     "exception": false,
     "start_time": "2025-04-02T06:03:20.361978",
     "status": "completed"
    },
    "tags": []
   },
   "source": [
    "Math expresssion in python follow the normal arithmetic order of expressions so * and / are executed before + and - and ** is executed before multiplication and division."
   ]
  },
  {
   "cell_type": "code",
   "execution_count": 11,
   "id": "1a62d9a4",
   "metadata": {
    "execution": {
     "iopub.execute_input": "2025-04-02T06:03:20.483194Z",
     "iopub.status.busy": "2025-04-02T06:03:20.482831Z",
     "iopub.status.idle": "2025-04-02T06:03:20.488440Z",
     "shell.execute_reply": "2025-04-02T06:03:20.487409Z"
    },
    "papermill": {
     "duration": 0.085943,
     "end_time": "2025-04-02T06:03:20.489991",
     "exception": false,
     "start_time": "2025-04-02T06:03:20.404048",
     "status": "completed"
    },
    "tags": []
   },
   "outputs": [
    {
     "data": {
      "text/plain": [
       "77"
      ]
     },
     "execution_count": 11,
     "metadata": {},
     "output_type": "execute_result"
    }
   ],
   "source": [
    "2 + 3 * 5 ** 2"
   ]
  },
  {
   "cell_type": "markdown",
   "id": "b5a6d518",
   "metadata": {
    "papermill": {
     "duration": 0.020681,
     "end_time": "2025-04-02T06:03:20.531812",
     "exception": false,
     "start_time": "2025-04-02T06:03:20.511131",
     "status": "completed"
    },
    "tags": []
   },
   "source": [
    "You can use parenthesis in your math expression to ensure that operations are carried out on the correct order. Operations within parentheses are carried out before operations that are external to the parenthesis."
   ]
  },
  {
   "cell_type": "code",
   "execution_count": 12,
   "id": "3e74744b",
   "metadata": {
    "execution": {
     "iopub.execute_input": "2025-04-02T06:03:20.576491Z",
     "iopub.status.busy": "2025-04-02T06:03:20.576117Z",
     "iopub.status.idle": "2025-04-02T06:03:20.581683Z",
     "shell.execute_reply": "2025-04-02T06:03:20.580636Z"
    },
    "papermill": {
     "duration": 0.029425,
     "end_time": "2025-04-02T06:03:20.583491",
     "exception": false,
     "start_time": "2025-04-02T06:03:20.554066",
     "status": "completed"
    },
    "tags": []
   },
   "outputs": [
    {
     "data": {
      "text/plain": [
       "625"
      ]
     },
     "execution_count": 12,
     "metadata": {},
     "output_type": "execute_result"
    }
   ],
   "source": [
    "((2 + 3) * 5 ) ** 2"
   ]
  },
  {
   "cell_type": "code",
   "execution_count": 13,
   "id": "26f612fe",
   "metadata": {
    "execution": {
     "iopub.execute_input": "2025-04-02T06:03:20.628518Z",
     "iopub.status.busy": "2025-04-02T06:03:20.628147Z",
     "iopub.status.idle": "2025-04-02T06:03:20.633500Z",
     "shell.execute_reply": "2025-04-02T06:03:20.632489Z"
    },
    "papermill": {
     "duration": 0.028823,
     "end_time": "2025-04-02T06:03:20.635014",
     "exception": false,
     "start_time": "2025-04-02T06:03:20.606191",
     "status": "completed"
    },
    "tags": []
   },
   "outputs": [
    {
     "data": {
      "text/plain": [
       "25"
      ]
     },
     "execution_count": 13,
     "metadata": {},
     "output_type": "execute_result"
    }
   ],
   "source": [
    "100 % 75"
   ]
  },
  {
   "cell_type": "code",
   "execution_count": 14,
   "id": "2f4c6ac3",
   "metadata": {
    "execution": {
     "iopub.execute_input": "2025-04-02T06:03:20.679149Z",
     "iopub.status.busy": "2025-04-02T06:03:20.678818Z",
     "iopub.status.idle": "2025-04-02T06:03:20.682957Z",
     "shell.execute_reply": "2025-04-02T06:03:20.681747Z"
    },
    "papermill": {
     "duration": 0.028323,
     "end_time": "2025-04-02T06:03:20.684668",
     "exception": false,
     "start_time": "2025-04-02T06:03:20.656345",
     "status": "completed"
    },
    "tags": []
   },
   "outputs": [],
   "source": [
    "import math   # load the math module"
   ]
  },
  {
   "cell_type": "code",
   "execution_count": 15,
   "id": "939cf90f",
   "metadata": {
    "execution": {
     "iopub.execute_input": "2025-04-02T06:03:20.729684Z",
     "iopub.status.busy": "2025-04-02T06:03:20.729286Z",
     "iopub.status.idle": "2025-04-02T06:03:20.735017Z",
     "shell.execute_reply": "2025-04-02T06:03:20.734077Z"
    },
    "papermill": {
     "duration": 0.029859,
     "end_time": "2025-04-02T06:03:20.736683",
     "exception": false,
     "start_time": "2025-04-02T06:03:20.706824",
     "status": "completed"
    },
    "tags": []
   },
   "outputs": [
    {
     "data": {
      "text/plain": [
       "0.9999698965391098"
      ]
     },
     "execution_count": 15,
     "metadata": {},
     "output_type": "execute_result"
    }
   ],
   "source": [
    "# math.log() takes the natural logarithm of its argument:\n",
    "math.log(2.7182)"
   ]
  },
  {
   "cell_type": "code",
   "execution_count": 16,
   "id": "0f8be842",
   "metadata": {
    "execution": {
     "iopub.execute_input": "2025-04-02T06:03:20.780678Z",
     "iopub.status.busy": "2025-04-02T06:03:20.780293Z",
     "iopub.status.idle": "2025-04-02T06:03:20.785412Z",
     "shell.execute_reply": "2025-04-02T06:03:20.784578Z"
    },
    "papermill": {
     "duration": 0.028576,
     "end_time": "2025-04-02T06:03:20.786874",
     "exception": false,
     "start_time": "2025-04-02T06:03:20.758298",
     "status": "completed"
    },
    "tags": []
   },
   "outputs": [
    {
     "data": {
      "text/plain": [
       "2.0"
      ]
     },
     "execution_count": 16,
     "metadata": {},
     "output_type": "execute_result"
    }
   ],
   "source": [
    "#Add a second argument to specify the log base:\n",
    "math.log(100,10)"
   ]
  },
  {
   "cell_type": "code",
   "execution_count": 17,
   "id": "58c03440",
   "metadata": {
    "execution": {
     "iopub.execute_input": "2025-04-02T06:03:20.831264Z",
     "iopub.status.busy": "2025-04-02T06:03:20.830938Z",
     "iopub.status.idle": "2025-04-02T06:03:20.836186Z",
     "shell.execute_reply": "2025-04-02T06:03:20.835163Z"
    },
    "papermill": {
     "duration": 0.029298,
     "end_time": "2025-04-02T06:03:20.837746",
     "exception": false,
     "start_time": "2025-04-02T06:03:20.808448",
     "status": "completed"
    },
    "tags": []
   },
   "outputs": [
    {
     "data": {
      "text/plain": [
       "22026.465794806718"
      ]
     },
     "execution_count": 17,
     "metadata": {},
     "output_type": "execute_result"
    }
   ],
   "source": [
    "#math.exp() raises e to the power of its argument\n",
    "math.exp(10)"
   ]
  },
  {
   "cell_type": "code",
   "execution_count": 18,
   "id": "3b0c2dd9",
   "metadata": {
    "execution": {
     "iopub.execute_input": "2025-04-02T06:03:20.882122Z",
     "iopub.status.busy": "2025-04-02T06:03:20.881716Z",
     "iopub.status.idle": "2025-04-02T06:03:20.887195Z",
     "shell.execute_reply": "2025-04-02T06:03:20.886198Z"
    },
    "papermill": {
     "duration": 0.029538,
     "end_time": "2025-04-02T06:03:20.888965",
     "exception": false,
     "start_time": "2025-04-02T06:03:20.859427",
     "status": "completed"
    },
    "tags": []
   },
   "outputs": [
    {
     "data": {
      "text/plain": [
       "30"
      ]
     },
     "execution_count": 18,
     "metadata": {},
     "output_type": "execute_result"
    }
   ],
   "source": [
    "#Use abs() to get the absolute value of a number. Note abs() is a base python function.\n",
    "abs(-30)"
   ]
  },
  {
   "cell_type": "code",
   "execution_count": 19,
   "id": "f4f08f6c",
   "metadata": {
    "execution": {
     "iopub.execute_input": "2025-04-02T06:03:20.934241Z",
     "iopub.status.busy": "2025-04-02T06:03:20.933915Z",
     "iopub.status.idle": "2025-04-02T06:03:20.939132Z",
     "shell.execute_reply": "2025-04-02T06:03:20.938336Z"
    },
    "papermill": {
     "duration": 0.029756,
     "end_time": "2025-04-02T06:03:20.940607",
     "exception": false,
     "start_time": "2025-04-02T06:03:20.910851",
     "status": "completed"
    },
    "tags": []
   },
   "outputs": [
    {
     "data": {
      "text/plain": [
       "3.141592653589793"
      ]
     },
     "execution_count": 19,
     "metadata": {},
     "output_type": "execute_result"
    }
   ],
   "source": [
    "math.pi #Get the constant pi"
   ]
  },
  {
   "cell_type": "markdown",
   "id": "50308343",
   "metadata": {
    "papermill": {
     "duration": 0.021838,
     "end_time": "2025-04-02T06:03:20.984442",
     "exception": false,
     "start_time": "2025-04-02T06:03:20.962604",
     "status": "completed"
    },
    "tags": []
   },
   "source": [
    "Rounding Numbers\n",
    "Base python contains a round() function that lets you round numbers to the nearest whole number. You can also round up or down with math.ceil and math.floor respectively."
   ]
  },
  {
   "cell_type": "code",
   "execution_count": 20,
   "id": "724d4b3e",
   "metadata": {
    "execution": {
     "iopub.execute_input": "2025-04-02T06:03:21.029689Z",
     "iopub.status.busy": "2025-04-02T06:03:21.029312Z",
     "iopub.status.idle": "2025-04-02T06:03:21.034363Z",
     "shell.execute_reply": "2025-04-02T06:03:21.033529Z"
    },
    "papermill": {
     "duration": 0.029171,
     "end_time": "2025-04-02T06:03:21.035859",
     "exception": false,
     "start_time": "2025-04-02T06:03:21.006688",
     "status": "completed"
    },
    "tags": []
   },
   "outputs": [
    {
     "data": {
      "text/plain": [
       "233"
      ]
     },
     "execution_count": 20,
     "metadata": {},
     "output_type": "execute_result"
    }
   ],
   "source": [
    "# Use round() to round a number to the nearest whole number\n",
    "round(233.234)"
   ]
  },
  {
   "cell_type": "code",
   "execution_count": 21,
   "id": "f301aac4",
   "metadata": {
    "execution": {
     "iopub.execute_input": "2025-04-02T06:03:21.081081Z",
     "iopub.status.busy": "2025-04-02T06:03:21.080763Z",
     "iopub.status.idle": "2025-04-02T06:03:21.086109Z",
     "shell.execute_reply": "2025-04-02T06:03:21.085111Z"
    },
    "papermill": {
     "duration": 0.029838,
     "end_time": "2025-04-02T06:03:21.087627",
     "exception": false,
     "start_time": "2025-04-02T06:03:21.057789",
     "status": "completed"
    },
    "tags": []
   },
   "outputs": [
    {
     "data": {
      "text/plain": [
       "234"
      ]
     },
     "execution_count": 21,
     "metadata": {},
     "output_type": "execute_result"
    }
   ],
   "source": [
    "round(233.677)"
   ]
  },
  {
   "cell_type": "code",
   "execution_count": 22,
   "id": "c52d43ac",
   "metadata": {
    "execution": {
     "iopub.execute_input": "2025-04-02T06:03:21.133955Z",
     "iopub.status.busy": "2025-04-02T06:03:21.133626Z",
     "iopub.status.idle": "2025-04-02T06:03:21.139081Z",
     "shell.execute_reply": "2025-04-02T06:03:21.138097Z"
    },
    "papermill": {
     "duration": 0.030631,
     "end_time": "2025-04-02T06:03:21.140928",
     "exception": false,
     "start_time": "2025-04-02T06:03:21.110297",
     "status": "completed"
    },
    "tags": []
   },
   "outputs": [
    {
     "data": {
      "text/plain": [
       "233.2"
      ]
     },
     "execution_count": 22,
     "metadata": {},
     "output_type": "execute_result"
    }
   ],
   "source": [
    "# add a second arguement to round to a specified decimal place\n",
    "round(233.234,1)"
   ]
  },
  {
   "cell_type": "code",
   "execution_count": 23,
   "id": "1bd75a1d",
   "metadata": {
    "execution": {
     "iopub.execute_input": "2025-04-02T06:03:21.187613Z",
     "iopub.status.busy": "2025-04-02T06:03:21.187236Z",
     "iopub.status.idle": "2025-04-02T06:03:21.192525Z",
     "shell.execute_reply": "2025-04-02T06:03:21.191674Z"
    },
    "papermill": {
     "duration": 0.030388,
     "end_time": "2025-04-02T06:03:21.193973",
     "exception": false,
     "start_time": "2025-04-02T06:03:21.163585",
     "status": "completed"
    },
    "tags": []
   },
   "outputs": [
    {
     "data": {
      "text/plain": [
       "230.0"
      ]
     },
     "execution_count": 23,
     "metadata": {},
     "output_type": "execute_result"
    }
   ],
   "source": [
    "# Enter a negative number to round to the left of the decimal\n",
    "round(233.234,-1)  #round to the 10's place\n"
   ]
  },
  {
   "cell_type": "code",
   "execution_count": 24,
   "id": "5cd7200f",
   "metadata": {
    "execution": {
     "iopub.execute_input": "2025-04-02T06:03:21.240806Z",
     "iopub.status.busy": "2025-04-02T06:03:21.240442Z",
     "iopub.status.idle": "2025-04-02T06:03:21.245906Z",
     "shell.execute_reply": "2025-04-02T06:03:21.245059Z"
    },
    "papermill": {
     "duration": 0.030769,
     "end_time": "2025-04-02T06:03:21.247391",
     "exception": false,
     "start_time": "2025-04-02T06:03:21.216622",
     "status": "completed"
    },
    "tags": []
   },
   "outputs": [
    {
     "data": {
      "text/plain": [
       "2"
      ]
     },
     "execution_count": 24,
     "metadata": {},
     "output_type": "execute_result"
    }
   ],
   "source": [
    "# Round down the nearest whole number with math.floor()\n",
    "import math\n",
    "math.floor(2.8)"
   ]
  },
  {
   "cell_type": "code",
   "execution_count": 25,
   "id": "f952ceb0",
   "metadata": {
    "execution": {
     "iopub.execute_input": "2025-04-02T06:03:21.293949Z",
     "iopub.status.busy": "2025-04-02T06:03:21.293584Z",
     "iopub.status.idle": "2025-04-02T06:03:21.298794Z",
     "shell.execute_reply": "2025-04-02T06:03:21.298009Z"
    },
    "papermill": {
     "duration": 0.0303,
     "end_time": "2025-04-02T06:03:21.300350",
     "exception": false,
     "start_time": "2025-04-02T06:03:21.270050",
     "status": "completed"
    },
    "tags": []
   },
   "outputs": [
    {
     "data": {
      "text/plain": [
       "3"
      ]
     },
     "execution_count": 25,
     "metadata": {},
     "output_type": "execute_result"
    }
   ],
   "source": [
    "#Round up with math.ceil()\n",
    "math.ceil(2.2)"
   ]
  },
  {
   "cell_type": "markdown",
   "id": "92ee54c0",
   "metadata": {
    "papermill": {
     "duration": 0.022359,
     "end_time": "2025-04-02T06:03:21.345839",
     "exception": false,
     "start_time": "2025-04-02T06:03:21.323480",
     "status": "completed"
    },
    "tags": []
   },
   "source": [
    "Integers\n",
    "Integers or \"ints\" for short, are whole-numbered numeric values. Any positive or negative number (or 0) without a decimal is an integer in Python. Integer values have unlimited precision, meaning an integer is exact. You can check the type of a Python object with the type() function."
   ]
  },
  {
   "cell_type": "code",
   "execution_count": 26,
   "id": "8dc56db9",
   "metadata": {
    "execution": {
     "iopub.execute_input": "2025-04-02T06:03:21.393959Z",
     "iopub.status.busy": "2025-04-02T06:03:21.393612Z",
     "iopub.status.idle": "2025-04-02T06:03:21.399465Z",
     "shell.execute_reply": "2025-04-02T06:03:21.398455Z"
    },
    "papermill": {
     "duration": 0.032382,
     "end_time": "2025-04-02T06:03:21.401228",
     "exception": false,
     "start_time": "2025-04-02T06:03:21.368846",
     "status": "completed"
    },
    "tags": []
   },
   "outputs": [
    {
     "data": {
      "text/plain": [
       "int"
      ]
     },
     "execution_count": 26,
     "metadata": {},
     "output_type": "execute_result"
    }
   ],
   "source": [
    "type(12)"
   ]
  },
  {
   "cell_type": "markdown",
   "id": "f4d0a67c",
   "metadata": {
    "papermill": {
     "duration": 0.023968,
     "end_time": "2025-04-02T06:03:21.451269",
     "exception": false,
     "start_time": "2025-04-02T06:03:21.427301",
     "status": "completed"
    },
    "tags": []
   },
   "source": [
    "Above we see that the type of 12 is of type \"int\". You can also use function isinstance() to check whether an object is an object is an instance of a given type:"
   ]
  },
  {
   "cell_type": "code",
   "execution_count": 27,
   "id": "59bb34a2",
   "metadata": {
    "execution": {
     "iopub.execute_input": "2025-04-02T06:03:21.500522Z",
     "iopub.status.busy": "2025-04-02T06:03:21.500150Z",
     "iopub.status.idle": "2025-04-02T06:03:21.505754Z",
     "shell.execute_reply": "2025-04-02T06:03:21.504805Z"
    },
    "papermill": {
     "duration": 0.032373,
     "end_time": "2025-04-02T06:03:21.507458",
     "exception": false,
     "start_time": "2025-04-02T06:03:21.475085",
     "status": "completed"
    },
    "tags": []
   },
   "outputs": [
    {
     "data": {
      "text/plain": [
       "True"
      ]
     },
     "execution_count": 27,
     "metadata": {},
     "output_type": "execute_result"
    }
   ],
   "source": [
    "# Check if 12 is an instance of type \"int\"\n",
    "isinstance(12,int)"
   ]
  },
  {
   "cell_type": "markdown",
   "id": "a79159ac",
   "metadata": {
    "papermill": {
     "duration": 0.02426,
     "end_time": "2025-04-02T06:03:21.555097",
     "exception": false,
     "start_time": "2025-04-02T06:03:21.530837",
     "status": "completed"
    },
    "tags": []
   },
   "source": [
    "The code output True confirms that 12 is an int"
   ]
  },
  {
   "cell_type": "code",
   "execution_count": 28,
   "id": "e59d619f",
   "metadata": {
    "execution": {
     "iopub.execute_input": "2025-04-02T06:03:21.603128Z",
     "iopub.status.busy": "2025-04-02T06:03:21.602765Z",
     "iopub.status.idle": "2025-04-02T06:03:21.608474Z",
     "shell.execute_reply": "2025-04-02T06:03:21.607468Z"
    },
    "papermill": {
     "duration": 0.031552,
     "end_time": "2025-04-02T06:03:21.610062",
     "exception": false,
     "start_time": "2025-04-02T06:03:21.578510",
     "status": "completed"
    },
    "tags": []
   },
   "outputs": [
    {
     "data": {
      "text/plain": [
       "0.3333333333333333"
      ]
     },
     "execution_count": 28,
     "metadata": {},
     "output_type": "execute_result"
    }
   ],
   "source": [
    "1/3"
   ]
  },
  {
   "cell_type": "code",
   "execution_count": 29,
   "id": "112095a2",
   "metadata": {
    "execution": {
     "iopub.execute_input": "2025-04-02T06:03:21.658338Z",
     "iopub.status.busy": "2025-04-02T06:03:21.657942Z",
     "iopub.status.idle": "2025-04-02T06:03:21.663973Z",
     "shell.execute_reply": "2025-04-02T06:03:21.662801Z"
    },
    "papermill": {
     "duration": 0.032017,
     "end_time": "2025-04-02T06:03:21.665735",
     "exception": false,
     "start_time": "2025-04-02T06:03:21.633718",
     "status": "completed"
    },
    "tags": []
   },
   "outputs": [
    {
     "data": {
      "text/plain": [
       "float"
      ]
     },
     "execution_count": 29,
     "metadata": {},
     "output_type": "execute_result"
    }
   ],
   "source": [
    "type(1/3)"
   ]
  },
  {
   "cell_type": "markdown",
   "id": "41fc3431",
   "metadata": {
    "papermill": {
     "duration": 0.023091,
     "end_time": "2025-04-02T06:03:21.712250",
     "exception": false,
     "start_time": "2025-04-02T06:03:21.689159",
     "status": "completed"
    },
    "tags": []
   },
   "source": [
    "Floats\n",
    "Floating point numbers or \"floats\" are numbers with decimal values. Unlike integers, floating point numbers don't have unlimited precision because irrational decimal numbers are infinitely long and therfore can't be stored in memory. Instead, the computer approximates the value of long decimals, so there can be small rounding errors in long floats."
   ]
  },
  {
   "cell_type": "code",
   "execution_count": 30,
   "id": "a8423055",
   "metadata": {
    "execution": {
     "iopub.execute_input": "2025-04-02T06:03:21.760848Z",
     "iopub.status.busy": "2025-04-02T06:03:21.760477Z",
     "iopub.status.idle": "2025-04-02T06:03:21.765900Z",
     "shell.execute_reply": "2025-04-02T06:03:21.764824Z"
    },
    "papermill": {
     "duration": 0.031902,
     "end_time": "2025-04-02T06:03:21.767521",
     "exception": false,
     "start_time": "2025-04-02T06:03:21.735619",
     "status": "completed"
    },
    "tags": []
   },
   "outputs": [
    {
     "data": {
      "text/plain": [
       "float"
      ]
     },
     "execution_count": 30,
     "metadata": {},
     "output_type": "execute_result"
    }
   ],
   "source": [
    "type(1.0)"
   ]
  },
  {
   "cell_type": "code",
   "execution_count": 31,
   "id": "5be108e4",
   "metadata": {
    "execution": {
     "iopub.execute_input": "2025-04-02T06:03:21.816202Z",
     "iopub.status.busy": "2025-04-02T06:03:21.815887Z",
     "iopub.status.idle": "2025-04-02T06:03:21.821210Z",
     "shell.execute_reply": "2025-04-02T06:03:21.820181Z"
    },
    "papermill": {
     "duration": 0.031971,
     "end_time": "2025-04-02T06:03:21.822986",
     "exception": false,
     "start_time": "2025-04-02T06:03:21.791015",
     "status": "completed"
    },
    "tags": []
   },
   "outputs": [
    {
     "data": {
      "text/plain": [
       "int"
      ]
     },
     "execution_count": 31,
     "metadata": {},
     "output_type": "execute_result"
    }
   ],
   "source": [
    "type(1)"
   ]
  },
  {
   "cell_type": "code",
   "execution_count": 32,
   "id": "f7856272",
   "metadata": {
    "execution": {
     "iopub.execute_input": "2025-04-02T06:03:21.871589Z",
     "iopub.status.busy": "2025-04-02T06:03:21.871160Z",
     "iopub.status.idle": "2025-04-02T06:03:21.876817Z",
     "shell.execute_reply": "2025-04-02T06:03:21.875772Z"
    },
    "papermill": {
     "duration": 0.031857,
     "end_time": "2025-04-02T06:03:21.878498",
     "exception": false,
     "start_time": "2025-04-02T06:03:21.846641",
     "status": "completed"
    },
    "tags": []
   },
   "outputs": [
    {
     "data": {
      "text/plain": [
       "True"
      ]
     },
     "execution_count": 32,
     "metadata": {},
     "output_type": "execute_result"
    }
   ],
   "source": [
    "isinstance(0.33333,float)"
   ]
  },
  {
   "cell_type": "markdown",
   "id": "b4d365e6",
   "metadata": {
    "papermill": {
     "duration": 0.023498,
     "end_time": "2025-04-02T06:03:21.925997",
     "exception": false,
     "start_time": "2025-04-02T06:03:21.902499",
     "status": "completed"
    },
    "tags": []
   },
   "source": [
    "If you use both floats and ints in the same math expression the result is a float:"
   ]
  },
  {
   "cell_type": "code",
   "execution_count": 33,
   "id": "8cd59278",
   "metadata": {
    "execution": {
     "iopub.execute_input": "2025-04-02T06:03:21.974646Z",
     "iopub.status.busy": "2025-04-02T06:03:21.974231Z",
     "iopub.status.idle": "2025-04-02T06:03:21.979574Z",
     "shell.execute_reply": "2025-04-02T06:03:21.978733Z"
    },
    "papermill": {
     "duration": 0.031601,
     "end_time": "2025-04-02T06:03:21.981292",
     "exception": false,
     "start_time": "2025-04-02T06:03:21.949691",
     "status": "completed"
    },
    "tags": []
   },
   "outputs": [
    {
     "data": {
      "text/plain": [
       "6.0"
      ]
     },
     "execution_count": 33,
     "metadata": {},
     "output_type": "execute_result"
    }
   ],
   "source": [
    "5+1.0"
   ]
  },
  {
   "cell_type": "markdown",
   "id": "931fded8",
   "metadata": {
    "papermill": {
     "duration": 0.024332,
     "end_time": "2025-04-02T06:03:22.030180",
     "exception": false,
     "start_time": "2025-04-02T06:03:22.005848",
     "status": "completed"
    },
    "tags": []
   },
   "source": [
    "You can convert a float to an integer using the int() function"
   ]
  },
  {
   "cell_type": "code",
   "execution_count": 34,
   "id": "401fffe9",
   "metadata": {
    "execution": {
     "iopub.execute_input": "2025-04-02T06:03:22.079482Z",
     "iopub.status.busy": "2025-04-02T06:03:22.079057Z",
     "iopub.status.idle": "2025-04-02T06:03:22.084806Z",
     "shell.execute_reply": "2025-04-02T06:03:22.083765Z"
    },
    "papermill": {
     "duration": 0.032714,
     "end_time": "2025-04-02T06:03:22.086592",
     "exception": false,
     "start_time": "2025-04-02T06:03:22.053878",
     "status": "completed"
    },
    "tags": []
   },
   "outputs": [
    {
     "data": {
      "text/plain": [
       "6"
      ]
     },
     "execution_count": 34,
     "metadata": {},
     "output_type": "execute_result"
    }
   ],
   "source": [
    "int(6.0)"
   ]
  },
  {
   "cell_type": "markdown",
   "id": "d32ad92c",
   "metadata": {
    "papermill": {
     "duration": 0.02418,
     "end_time": "2025-04-02T06:03:22.135487",
     "exception": false,
     "start_time": "2025-04-02T06:03:22.111307",
     "status": "completed"
    },
    "tags": []
   },
   "source": [
    "You can convert an integer to a float with the float() function"
   ]
  },
  {
   "cell_type": "code",
   "execution_count": 35,
   "id": "0d162f39",
   "metadata": {
    "execution": {
     "iopub.execute_input": "2025-04-02T06:03:22.186042Z",
     "iopub.status.busy": "2025-04-02T06:03:22.185691Z",
     "iopub.status.idle": "2025-04-02T06:03:22.191727Z",
     "shell.execute_reply": "2025-04-02T06:03:22.190468Z"
    },
    "papermill": {
     "duration": 0.033146,
     "end_time": "2025-04-02T06:03:22.193547",
     "exception": false,
     "start_time": "2025-04-02T06:03:22.160401",
     "status": "completed"
    },
    "tags": []
   },
   "outputs": [
    {
     "data": {
      "text/plain": [
       "6.0"
      ]
     },
     "execution_count": 35,
     "metadata": {},
     "output_type": "execute_result"
    }
   ],
   "source": [
    "float(6)"
   ]
  },
  {
   "cell_type": "markdown",
   "id": "288d1e84",
   "metadata": {
    "papermill": {
     "duration": 0.024058,
     "end_time": "2025-04-02T06:03:22.241711",
     "exception": false,
     "start_time": "2025-04-02T06:03:22.217653",
     "status": "completed"
    },
    "tags": []
   },
   "source": [
    "Floats can also take on a few special values: Inf, -Inf and NaN. Inf and -Inf stand for infinity and negative infinity respectively and NaN stands for \"Not a number\", which is sometimes used as a placeholder for missing or erroneous numerical values."
   ]
  },
  {
   "cell_type": "code",
   "execution_count": 36,
   "id": "e0bc07b7",
   "metadata": {
    "execution": {
     "iopub.execute_input": "2025-04-02T06:03:22.293080Z",
     "iopub.status.busy": "2025-04-02T06:03:22.292730Z",
     "iopub.status.idle": "2025-04-02T06:03:22.298368Z",
     "shell.execute_reply": "2025-04-02T06:03:22.297417Z"
    },
    "papermill": {
     "duration": 0.033216,
     "end_time": "2025-04-02T06:03:22.300063",
     "exception": false,
     "start_time": "2025-04-02T06:03:22.266847",
     "status": "completed"
    },
    "tags": []
   },
   "outputs": [
    {
     "data": {
      "text/plain": [
       "float"
      ]
     },
     "execution_count": 36,
     "metadata": {},
     "output_type": "execute_result"
    }
   ],
   "source": [
    "type(float(\"Inf\"))"
   ]
  },
  {
   "cell_type": "code",
   "execution_count": 37,
   "id": "c01908ed",
   "metadata": {
    "execution": {
     "iopub.execute_input": "2025-04-02T06:03:22.350386Z",
     "iopub.status.busy": "2025-04-02T06:03:22.350003Z",
     "iopub.status.idle": "2025-04-02T06:03:22.356053Z",
     "shell.execute_reply": "2025-04-02T06:03:22.354774Z"
    },
    "papermill": {
     "duration": 0.03311,
     "end_time": "2025-04-02T06:03:22.357816",
     "exception": false,
     "start_time": "2025-04-02T06:03:22.324706",
     "status": "completed"
    },
    "tags": []
   },
   "outputs": [
    {
     "data": {
      "text/plain": [
       "float"
      ]
     },
     "execution_count": 37,
     "metadata": {},
     "output_type": "execute_result"
    }
   ],
   "source": [
    "type(float(\"NaN\"))"
   ]
  },
  {
   "cell_type": "markdown",
   "id": "f8a9a2b3",
   "metadata": {
    "papermill": {
     "duration": 0.024753,
     "end_time": "2025-04-02T06:03:22.407383",
     "exception": false,
     "start_time": "2025-04-02T06:03:22.382630",
     "status": "completed"
    },
    "tags": []
   },
   "source": [
    "Booleans\n",
    "Booleans or \"Bools\" are true/false values that result from logical statements. True or False"
   ]
  },
  {
   "cell_type": "code",
   "execution_count": 38,
   "id": "9411a2cb",
   "metadata": {
    "execution": {
     "iopub.execute_input": "2025-04-02T06:03:22.459479Z",
     "iopub.status.busy": "2025-04-02T06:03:22.459056Z",
     "iopub.status.idle": "2025-04-02T06:03:22.464387Z",
     "shell.execute_reply": "2025-04-02T06:03:22.463411Z"
    },
    "papermill": {
     "duration": 0.033774,
     "end_time": "2025-04-02T06:03:22.465976",
     "exception": false,
     "start_time": "2025-04-02T06:03:22.432202",
     "status": "completed"
    },
    "tags": []
   },
   "outputs": [
    {
     "data": {
      "text/plain": [
       "bool"
      ]
     },
     "execution_count": 38,
     "metadata": {},
     "output_type": "execute_result"
    }
   ],
   "source": [
    "type(True)"
   ]
  },
  {
   "cell_type": "code",
   "execution_count": 39,
   "id": "cbeb184c",
   "metadata": {
    "execution": {
     "iopub.execute_input": "2025-04-02T06:03:22.517070Z",
     "iopub.status.busy": "2025-04-02T06:03:22.516693Z",
     "iopub.status.idle": "2025-04-02T06:03:22.522600Z",
     "shell.execute_reply": "2025-04-02T06:03:22.521516Z"
    },
    "papermill": {
     "duration": 0.033601,
     "end_time": "2025-04-02T06:03:22.524312",
     "exception": false,
     "start_time": "2025-04-02T06:03:22.490711",
     "status": "completed"
    },
    "tags": []
   },
   "outputs": [
    {
     "data": {
      "text/plain": [
       "True"
      ]
     },
     "execution_count": 39,
     "metadata": {},
     "output_type": "execute_result"
    }
   ],
   "source": [
    "isinstance(False,bool) #Check if False "
   ]
  },
  {
   "cell_type": "markdown",
   "id": "cfbcdc61",
   "metadata": {
    "papermill": {
     "duration": 0.025983,
     "end_time": "2025-04-02T06:03:22.574949",
     "exception": false,
     "start_time": "2025-04-02T06:03:22.548966",
     "status": "completed"
    },
    "tags": []
   },
   "source": [
    "You can create boolean values with logical expressions. Python supports all of the standard logic operators you'd expect:"
   ]
  },
  {
   "cell_type": "code",
   "execution_count": 40,
   "id": "e88b6633",
   "metadata": {
    "execution": {
     "iopub.execute_input": "2025-04-02T06:03:22.626859Z",
     "iopub.status.busy": "2025-04-02T06:03:22.626475Z",
     "iopub.status.idle": "2025-04-02T06:03:22.632120Z",
     "shell.execute_reply": "2025-04-02T06:03:22.631023Z"
    },
    "papermill": {
     "duration": 0.034536,
     "end_time": "2025-04-02T06:03:22.634070",
     "exception": false,
     "start_time": "2025-04-02T06:03:22.599534",
     "status": "completed"
    },
    "tags": []
   },
   "outputs": [
    {
     "data": {
      "text/plain": [
       "True"
      ]
     },
     "execution_count": 40,
     "metadata": {},
     "output_type": "execute_result"
    }
   ],
   "source": [
    "#Use > and < for greator than and less than :\n",
    "20 > 10"
   ]
  },
  {
   "cell_type": "code",
   "execution_count": 41,
   "id": "c7a2246c",
   "metadata": {
    "execution": {
     "iopub.execute_input": "2025-04-02T06:03:22.685545Z",
     "iopub.status.busy": "2025-04-02T06:03:22.685169Z",
     "iopub.status.idle": "2025-04-02T06:03:22.691026Z",
     "shell.execute_reply": "2025-04-02T06:03:22.689923Z"
    },
    "papermill": {
     "duration": 0.03351,
     "end_time": "2025-04-02T06:03:22.693145",
     "exception": false,
     "start_time": "2025-04-02T06:03:22.659635",
     "status": "completed"
    },
    "tags": []
   },
   "outputs": [
    {
     "data": {
      "text/plain": [
       "False"
      ]
     },
     "execution_count": 41,
     "metadata": {},
     "output_type": "execute_result"
    }
   ],
   "source": [
    "20 < 5"
   ]
  },
  {
   "cell_type": "code",
   "execution_count": 42,
   "id": "ec4f50cc",
   "metadata": {
    "execution": {
     "iopub.execute_input": "2025-04-02T06:03:22.745835Z",
     "iopub.status.busy": "2025-04-02T06:03:22.745415Z",
     "iopub.status.idle": "2025-04-02T06:03:22.751693Z",
     "shell.execute_reply": "2025-04-02T06:03:22.750679Z"
    },
    "papermill": {
     "duration": 0.034865,
     "end_time": "2025-04-02T06:03:22.753568",
     "exception": false,
     "start_time": "2025-04-02T06:03:22.718703",
     "status": "completed"
    },
    "tags": []
   },
   "outputs": [
    {
     "data": {
      "text/plain": [
       "True"
      ]
     },
     "execution_count": 42,
     "metadata": {},
     "output_type": "execute_result"
    }
   ],
   "source": [
    "# use >= and <= for greater than or equal and less than or equal :\n",
    "20 >= 20"
   ]
  },
  {
   "cell_type": "code",
   "execution_count": 43,
   "id": "76aa7eb0",
   "metadata": {
    "execution": {
     "iopub.execute_input": "2025-04-02T06:03:22.806289Z",
     "iopub.status.busy": "2025-04-02T06:03:22.805884Z",
     "iopub.status.idle": "2025-04-02T06:03:22.811718Z",
     "shell.execute_reply": "2025-04-02T06:03:22.810678Z"
    },
    "papermill": {
     "duration": 0.033649,
     "end_time": "2025-04-02T06:03:22.813379",
     "exception": false,
     "start_time": "2025-04-02T06:03:22.779730",
     "status": "completed"
    },
    "tags": []
   },
   "outputs": [
    {
     "data": {
      "text/plain": [
       "True"
      ]
     },
     "execution_count": 43,
     "metadata": {},
     "output_type": "execute_result"
    }
   ],
   "source": [
    "#use == (two equal signs in a row) to check equality:\n",
    "10 == 10"
   ]
  },
  {
   "cell_type": "code",
   "execution_count": 44,
   "id": "07b81884",
   "metadata": {
    "execution": {
     "iopub.execute_input": "2025-04-02T06:03:22.864470Z",
     "iopub.status.busy": "2025-04-02T06:03:22.864061Z",
     "iopub.status.idle": "2025-04-02T06:03:22.869546Z",
     "shell.execute_reply": "2025-04-02T06:03:22.868527Z"
    },
    "papermill": {
     "duration": 0.032817,
     "end_time": "2025-04-02T06:03:22.871101",
     "exception": false,
     "start_time": "2025-04-02T06:03:22.838284",
     "status": "completed"
    },
    "tags": []
   },
   "outputs": [
    {
     "data": {
      "text/plain": [
       "True"
      ]
     },
     "execution_count": 44,
     "metadata": {},
     "output_type": "execute_result"
    }
   ],
   "source": [
    "40 == 40.0  #Equivalent ints and floats are considered equal"
   ]
  },
  {
   "cell_type": "code",
   "execution_count": 45,
   "id": "fb3cf9d2",
   "metadata": {
    "execution": {
     "iopub.execute_input": "2025-04-02T06:03:22.922719Z",
     "iopub.status.busy": "2025-04-02T06:03:22.922298Z",
     "iopub.status.idle": "2025-04-02T06:03:22.927429Z",
     "shell.execute_reply": "2025-04-02T06:03:22.926617Z"
    },
    "papermill": {
     "duration": 0.03249,
     "end_time": "2025-04-02T06:03:22.929029",
     "exception": false,
     "start_time": "2025-04-02T06:03:22.896539",
     "status": "completed"
    },
    "tags": []
   },
   "outputs": [
    {
     "data": {
      "text/plain": [
       "True"
      ]
     },
     "execution_count": 45,
     "metadata": {},
     "output_type": "execute_result"
    }
   ],
   "source": [
    "#Use != to check inequality. (think of != as \"not equal to\")\n",
    "1 != 2"
   ]
  },
  {
   "cell_type": "code",
   "execution_count": 46,
   "id": "86627b60",
   "metadata": {
    "execution": {
     "iopub.execute_input": "2025-04-02T06:03:22.980272Z",
     "iopub.status.busy": "2025-04-02T06:03:22.979940Z",
     "iopub.status.idle": "2025-04-02T06:03:22.985937Z",
     "shell.execute_reply": "2025-04-02T06:03:22.984765Z"
    },
    "papermill": {
     "duration": 0.033598,
     "end_time": "2025-04-02T06:03:22.987615",
     "exception": false,
     "start_time": "2025-04-02T06:03:22.954017",
     "status": "completed"
    },
    "tags": []
   },
   "outputs": [
    {
     "data": {
      "text/plain": [
       "True"
      ]
     },
     "execution_count": 46,
     "metadata": {},
     "output_type": "execute_result"
    }
   ],
   "source": [
    "# Use the keyword \"not\" for negation:\n",
    "not False"
   ]
  },
  {
   "cell_type": "code",
   "execution_count": 47,
   "id": "cd169734",
   "metadata": {
    "execution": {
     "iopub.execute_input": "2025-04-02T06:03:23.041290Z",
     "iopub.status.busy": "2025-04-02T06:03:23.040928Z",
     "iopub.status.idle": "2025-04-02T06:03:23.046281Z",
     "shell.execute_reply": "2025-04-02T06:03:23.045372Z"
    },
    "papermill": {
     "duration": 0.033504,
     "end_time": "2025-04-02T06:03:23.047866",
     "exception": false,
     "start_time": "2025-04-02T06:03:23.014362",
     "status": "completed"
    },
    "tags": []
   },
   "outputs": [
    {
     "data": {
      "text/plain": [
       "False"
      ]
     },
     "execution_count": 47,
     "metadata": {},
     "output_type": "execute_result"
    }
   ],
   "source": [
    "#Use the keyword \"and\" for logical and:\n",
    "(2>1) and (10>11)"
   ]
  },
  {
   "cell_type": "code",
   "execution_count": 48,
   "id": "f0f91495",
   "metadata": {
    "execution": {
     "iopub.execute_input": "2025-04-02T06:03:23.102034Z",
     "iopub.status.busy": "2025-04-02T06:03:23.101684Z",
     "iopub.status.idle": "2025-04-02T06:03:23.108738Z",
     "shell.execute_reply": "2025-04-02T06:03:23.107698Z"
    },
    "papermill": {
     "duration": 0.037744,
     "end_time": "2025-04-02T06:03:23.110763",
     "exception": false,
     "start_time": "2025-04-02T06:03:23.073019",
     "status": "completed"
    },
    "tags": []
   },
   "outputs": [
    {
     "data": {
      "text/plain": [
       "True"
      ]
     },
     "execution_count": 48,
     "metadata": {},
     "output_type": "execute_result"
    }
   ],
   "source": [
    "#Use the keyword \"or\" for logical or:\n",
    "(2>1) or (10>11)"
   ]
  },
  {
   "cell_type": "code",
   "execution_count": 49,
   "id": "27b92413",
   "metadata": {
    "execution": {
     "iopub.execute_input": "2025-04-02T06:03:23.163855Z",
     "iopub.status.busy": "2025-04-02T06:03:23.163515Z",
     "iopub.status.idle": "2025-04-02T06:03:23.169192Z",
     "shell.execute_reply": "2025-04-02T06:03:23.168213Z"
    },
    "papermill": {
     "duration": 0.034343,
     "end_time": "2025-04-02T06:03:23.171151",
     "exception": false,
     "start_time": "2025-04-02T06:03:23.136808",
     "status": "completed"
    },
    "tags": []
   },
   "outputs": [
    {
     "data": {
      "text/plain": [
       "True"
      ]
     },
     "execution_count": 49,
     "metadata": {},
     "output_type": "execute_result"
    }
   ],
   "source": [
    "2>1 or  10<8 and not True"
   ]
  },
  {
   "cell_type": "code",
   "execution_count": 50,
   "id": "55dbc672",
   "metadata": {
    "execution": {
     "iopub.execute_input": "2025-04-02T06:03:23.222983Z",
     "iopub.status.busy": "2025-04-02T06:03:23.222654Z",
     "iopub.status.idle": "2025-04-02T06:03:23.228490Z",
     "shell.execute_reply": "2025-04-02T06:03:23.227426Z"
    },
    "papermill": {
     "duration": 0.03344,
     "end_time": "2025-04-02T06:03:23.230118",
     "exception": false,
     "start_time": "2025-04-02T06:03:23.196678",
     "status": "completed"
    },
    "tags": []
   },
   "outputs": [
    {
     "data": {
      "text/plain": [
       "False"
      ]
     },
     "execution_count": 50,
     "metadata": {},
     "output_type": "execute_result"
    }
   ],
   "source": [
    "((2>1) or (10<8)) and (not True)"
   ]
  },
  {
   "cell_type": "markdown",
   "id": "48093d31",
   "metadata": {
    "papermill": {
     "duration": 0.025462,
     "end_time": "2025-04-02T06:03:23.281193",
     "exception": false,
     "start_time": "2025-04-02T06:03:23.255731",
     "status": "completed"
    },
    "tags": []
   },
   "source": [
    "You can convert numbers into boolean values using the bool() function. All numbers other than 0 convert to True:"
   ]
  },
  {
   "cell_type": "code",
   "execution_count": 51,
   "id": "c611bc00",
   "metadata": {
    "execution": {
     "iopub.execute_input": "2025-04-02T06:03:23.333350Z",
     "iopub.status.busy": "2025-04-02T06:03:23.332971Z",
     "iopub.status.idle": "2025-04-02T06:03:23.338237Z",
     "shell.execute_reply": "2025-04-02T06:03:23.337398Z"
    },
    "papermill": {
     "duration": 0.033194,
     "end_time": "2025-04-02T06:03:23.339771",
     "exception": false,
     "start_time": "2025-04-02T06:03:23.306577",
     "status": "completed"
    },
    "tags": []
   },
   "outputs": [
    {
     "data": {
      "text/plain": [
       "True"
      ]
     },
     "execution_count": 51,
     "metadata": {},
     "output_type": "execute_result"
    }
   ],
   "source": [
    "bool(1)"
   ]
  },
  {
   "cell_type": "code",
   "execution_count": 52,
   "id": "e576a2b7",
   "metadata": {
    "execution": {
     "iopub.execute_input": "2025-04-02T06:03:23.392196Z",
     "iopub.status.busy": "2025-04-02T06:03:23.391874Z",
     "iopub.status.idle": "2025-04-02T06:03:23.397474Z",
     "shell.execute_reply": "2025-04-02T06:03:23.396407Z"
    },
    "papermill": {
     "duration": 0.033956,
     "end_time": "2025-04-02T06:03:23.399294",
     "exception": false,
     "start_time": "2025-04-02T06:03:23.365338",
     "status": "completed"
    },
    "tags": []
   },
   "outputs": [
    {
     "data": {
      "text/plain": [
       "False"
      ]
     },
     "execution_count": 52,
     "metadata": {},
     "output_type": "execute_result"
    }
   ],
   "source": [
    "bool(0)"
   ]
  },
  {
   "cell_type": "markdown",
   "id": "65545f4e",
   "metadata": {
    "papermill": {
     "duration": 0.02613,
     "end_time": "2025-04-02T06:03:23.451941",
     "exception": false,
     "start_time": "2025-04-02T06:03:23.425811",
     "status": "completed"
    },
    "tags": []
   },
   "source": [
    "# Strings"
   ]
  },
  {
   "cell_type": "markdown",
   "id": "b7503421",
   "metadata": {
    "papermill": {
     "duration": 0.025833,
     "end_time": "2025-04-02T06:03:23.504406",
     "exception": false,
     "start_time": "2025-04-02T06:03:23.478573",
     "status": "completed"
    },
    "tags": []
   },
   "source": [
    "Text data in Python is known as string or \"str\". Surround text with single or double quotation marks to create a string:"
   ]
  },
  {
   "cell_type": "code",
   "execution_count": 53,
   "id": "0265ccbc",
   "metadata": {
    "execution": {
     "iopub.execute_input": "2025-04-02T06:03:23.568724Z",
     "iopub.status.busy": "2025-04-02T06:03:23.568174Z",
     "iopub.status.idle": "2025-04-02T06:03:23.575791Z",
     "shell.execute_reply": "2025-04-02T06:03:23.574385Z"
    },
    "papermill": {
     "duration": 0.047254,
     "end_time": "2025-04-02T06:03:23.578036",
     "exception": false,
     "start_time": "2025-04-02T06:03:23.530782",
     "status": "completed"
    },
    "tags": []
   },
   "outputs": [
    {
     "data": {
      "text/plain": [
       "str"
      ]
     },
     "execution_count": 53,
     "metadata": {},
     "output_type": "execute_result"
    }
   ],
   "source": [
    "type(\"cat\")"
   ]
  },
  {
   "cell_type": "code",
   "execution_count": 54,
   "id": "dce43244",
   "metadata": {
    "execution": {
     "iopub.execute_input": "2025-04-02T06:03:23.640486Z",
     "iopub.status.busy": "2025-04-02T06:03:23.640071Z",
     "iopub.status.idle": "2025-04-02T06:03:23.646092Z",
     "shell.execute_reply": "2025-04-02T06:03:23.645021Z"
    },
    "papermill": {
     "duration": 0.035798,
     "end_time": "2025-04-02T06:03:23.647779",
     "exception": false,
     "start_time": "2025-04-02T06:03:23.611981",
     "status": "completed"
    },
    "tags": []
   },
   "outputs": [
    {
     "data": {
      "text/plain": [
       "str"
      ]
     },
     "execution_count": 54,
     "metadata": {},
     "output_type": "execute_result"
    }
   ],
   "source": [
    "type('1')"
   ]
  },
  {
   "cell_type": "markdown",
   "id": "57c0d906",
   "metadata": {
    "papermill": {
     "duration": 0.038997,
     "end_time": "2025-04-02T06:03:23.715212",
     "exception": false,
     "start_time": "2025-04-02T06:03:23.676215",
     "status": "completed"
    },
    "tags": []
   },
   "source": [
    "# None\n",
    "In python, \"None\" is a special data type that is often used to represent a missing value. for example, if you define a function that doesn't return anything it will return \"None\" by default."
   ]
  },
  {
   "cell_type": "code",
   "execution_count": 55,
   "id": "d422e527",
   "metadata": {
    "execution": {
     "iopub.execute_input": "2025-04-02T06:03:23.791728Z",
     "iopub.status.busy": "2025-04-02T06:03:23.791310Z",
     "iopub.status.idle": "2025-04-02T06:03:23.798992Z",
     "shell.execute_reply": "2025-04-02T06:03:23.797435Z"
    },
    "papermill": {
     "duration": 0.043753,
     "end_time": "2025-04-02T06:03:23.801272",
     "exception": false,
     "start_time": "2025-04-02T06:03:23.757519",
     "status": "completed"
    },
    "tags": []
   },
   "outputs": [
    {
     "data": {
      "text/plain": [
       "NoneType"
      ]
     },
     "execution_count": 55,
     "metadata": {},
     "output_type": "execute_result"
    }
   ],
   "source": [
    "type(None)"
   ]
  },
  {
   "cell_type": "code",
   "execution_count": 56,
   "id": "7c390b01",
   "metadata": {
    "execution": {
     "iopub.execute_input": "2025-04-02T06:03:23.876243Z",
     "iopub.status.busy": "2025-04-02T06:03:23.875878Z",
     "iopub.status.idle": "2025-04-02T06:03:23.883065Z",
     "shell.execute_reply": "2025-04-02T06:03:23.882182Z"
    },
    "papermill": {
     "duration": 0.047485,
     "end_time": "2025-04-02T06:03:23.884851",
     "exception": false,
     "start_time": "2025-04-02T06:03:23.837366",
     "status": "completed"
    },
    "tags": []
   },
   "outputs": [
    {
     "name": "stdout",
     "output_type": "stream",
     "text": [
      "hello\n"
     ]
    },
    {
     "data": {
      "text/plain": [
       "True"
      ]
     },
     "execution_count": 56,
     "metadata": {},
     "output_type": "execute_result"
    }
   ],
   "source": [
    "#Define a function that prints the input but returns nothing\n",
    "def my_function(x):\n",
    "    print(x)\n",
    "my_function(\"hello\") == None  #the output of my_function equals None\n",
    "\n"
   ]
  },
  {
   "cell_type": "code",
   "execution_count": 57,
   "id": "c3aa8182",
   "metadata": {
    "execution": {
     "iopub.execute_input": "2025-04-02T06:03:23.938537Z",
     "iopub.status.busy": "2025-04-02T06:03:23.938168Z",
     "iopub.status.idle": "2025-04-02T06:03:23.943677Z",
     "shell.execute_reply": "2025-04-02T06:03:23.942800Z"
    },
    "papermill": {
     "duration": 0.033982,
     "end_time": "2025-04-02T06:03:23.945237",
     "exception": false,
     "start_time": "2025-04-02T06:03:23.911255",
     "status": "completed"
    },
    "tags": []
   },
   "outputs": [
    {
     "data": {
      "text/plain": [
       "False"
      ]
     },
     "execution_count": 57,
     "metadata": {},
     "output_type": "execute_result"
    }
   ],
   "source": [
    "\"hello\"==None"
   ]
  },
  {
   "cell_type": "code",
   "execution_count": 58,
   "id": "85ad56ea",
   "metadata": {
    "execution": {
     "iopub.execute_input": "2025-04-02T06:03:23.999459Z",
     "iopub.status.busy": "2025-04-02T06:03:23.999101Z",
     "iopub.status.idle": "2025-04-02T06:03:24.005012Z",
     "shell.execute_reply": "2025-04-02T06:03:24.003847Z"
    },
    "papermill": {
     "duration": 0.035075,
     "end_time": "2025-04-02T06:03:24.006853",
     "exception": false,
     "start_time": "2025-04-02T06:03:23.971778",
     "status": "completed"
    },
    "tags": []
   },
   "outputs": [
    {
     "data": {
      "text/plain": [
       "False"
      ]
     },
     "execution_count": 58,
     "metadata": {},
     "output_type": "execute_result"
    }
   ],
   "source": [
    "x=\"hello\"\n",
    "x==None"
   ]
  },
  {
   "cell_type": "markdown",
   "id": "a9ed5ffe",
   "metadata": {
    "papermill": {
     "duration": 0.026022,
     "end_time": "2025-04-02T06:03:24.059130",
     "exception": false,
     "start_time": "2025-04-02T06:03:24.033108",
     "status": "completed"
    },
    "tags": []
   },
   "source": [
    "#Assigning Variable "
   ]
  },
  {
   "cell_type": "code",
   "execution_count": 59,
   "id": "db292e93",
   "metadata": {
    "execution": {
     "iopub.execute_input": "2025-04-02T06:03:24.113293Z",
     "iopub.status.busy": "2025-04-02T06:03:24.112912Z",
     "iopub.status.idle": "2025-04-02T06:03:24.118686Z",
     "shell.execute_reply": "2025-04-02T06:03:24.117520Z"
    },
    "papermill": {
     "duration": 0.035033,
     "end_time": "2025-04-02T06:03:24.120616",
     "exception": false,
     "start_time": "2025-04-02T06:03:24.085583",
     "status": "completed"
    },
    "tags": []
   },
   "outputs": [
    {
     "name": "stdout",
     "output_type": "stream",
     "text": [
      "10\n",
      "Python is fun\n",
      "True\n"
     ]
    }
   ],
   "source": [
    "x = 10\n",
    "y = \"Python is fun\"\n",
    "z = 144**0.5 == 12\n",
    "print(x)\n",
    "print(y)\n",
    "print(z)\n"
   ]
  },
  {
   "cell_type": "markdown",
   "id": "4577d665",
   "metadata": {
    "papermill": {
     "duration": 0.026067,
     "end_time": "2025-04-02T06:03:24.173106",
     "exception": false,
     "start_time": "2025-04-02T06:03:24.147039",
     "status": "completed"
    },
    "tags": []
   },
   "source": [
    "Note : assigning a variable does not produce any output"
   ]
  },
  {
   "cell_type": "code",
   "execution_count": 60,
   "id": "7de39bf5",
   "metadata": {
    "execution": {
     "iopub.execute_input": "2025-04-02T06:03:24.226624Z",
     "iopub.status.busy": "2025-04-02T06:03:24.226198Z",
     "iopub.status.idle": "2025-04-02T06:03:24.231817Z",
     "shell.execute_reply": "2025-04-02T06:03:24.230758Z"
    },
    "papermill": {
     "duration": 0.034268,
     "end_time": "2025-04-02T06:03:24.233410",
     "exception": false,
     "start_time": "2025-04-02T06:03:24.199142",
     "status": "completed"
    },
    "tags": []
   },
   "outputs": [
    {
     "name": "stdout",
     "output_type": "stream",
     "text": [
      "4\n",
      "4\n"
     ]
    }
   ],
   "source": [
    "n = m = 4\n",
    "print(n)\n",
    "print(m)"
   ]
  },
  {
   "cell_type": "markdown",
   "id": "662dc643",
   "metadata": {
    "papermill": {
     "duration": 0.028195,
     "end_time": "2025-04-02T06:03:24.287900",
     "exception": false,
     "start_time": "2025-04-02T06:03:24.259705",
     "status": "completed"
    },
    "tags": []
   },
   "source": [
    "You can also assign several different variables at the same time using a comma separated sequence of variable names followed by the assignment operator and a comma separated sequence of values inside parameters:"
   ]
  },
  {
   "cell_type": "code",
   "execution_count": 61,
   "id": "11292e41",
   "metadata": {
    "execution": {
     "iopub.execute_input": "2025-04-02T06:03:24.342988Z",
     "iopub.status.busy": "2025-04-02T06:03:24.342643Z",
     "iopub.status.idle": "2025-04-02T06:03:24.348700Z",
     "shell.execute_reply": "2025-04-02T06:03:24.347394Z"
    },
    "papermill": {
     "duration": 0.036097,
     "end_time": "2025-04-02T06:03:24.350373",
     "exception": false,
     "start_time": "2025-04-02T06:03:24.314276",
     "status": "completed"
    },
    "tags": []
   },
   "outputs": [
    {
     "name": "stdout",
     "output_type": "stream",
     "text": [
      "10\n",
      "20\n",
      "30\n"
     ]
    }
   ],
   "source": [
    "# Assign 3 variables at the same time:\n",
    "x, y, z = (10,20,30)\n",
    "\n",
    "print(x)\n",
    "print(y)\n",
    "print(z)"
   ]
  },
  {
   "cell_type": "markdown",
   "id": "4f3d64f0",
   "metadata": {
    "papermill": {
     "duration": 0.026226,
     "end_time": "2025-04-02T06:03:24.403144",
     "exception": false,
     "start_time": "2025-04-02T06:03:24.376918",
     "status": "completed"
    },
    "tags": []
   },
   "source": [
    "This method of extracting variables from a comma separated sequence is know as tuple unpacking"
   ]
  },
  {
   "cell_type": "code",
   "execution_count": 62,
   "id": "60a4d599",
   "metadata": {
    "execution": {
     "iopub.execute_input": "2025-04-02T06:03:24.458279Z",
     "iopub.status.busy": "2025-04-02T06:03:24.457915Z",
     "iopub.status.idle": "2025-04-02T06:03:24.462874Z",
     "shell.execute_reply": "2025-04-02T06:03:24.461846Z"
    },
    "papermill": {
     "duration": 0.034338,
     "end_time": "2025-04-02T06:03:24.464588",
     "exception": false,
     "start_time": "2025-04-02T06:03:24.430250",
     "status": "completed"
    },
    "tags": []
   },
   "outputs": [
    {
     "name": "stdout",
     "output_type": "stream",
     "text": [
      "20\n",
      "10\n"
     ]
    }
   ],
   "source": [
    "#You can swap the values of two variables using a similar syntax:\n",
    "(x, y)=(y, x)\n",
    "print(x)\n",
    "print(y)"
   ]
  },
  {
   "cell_type": "markdown",
   "id": "2e625015",
   "metadata": {
    "papermill": {
     "duration": 0.026072,
     "end_time": "2025-04-02T06:03:24.517156",
     "exception": false,
     "start_time": "2025-04-02T06:03:24.491084",
     "status": "completed"
    },
    "tags": []
   },
   "source": [
    "When you assign a variable in Python, the variable is a reference to a specific object in the computer's memory. Reassigning a variable simply switches the reference to a different object in memory. If the object a variable refers to in memory is altered in some way, the value of the variable corresponding to the altered object will also change. All of the basic data types we've seen thus far are immutable, meaning they cannot be changed after they are created. If you perform some operation that appears to alter an immutable object, it is actually creating a totally new object in a memory, rather than changing the original immutable object."
   ]
  },
  {
   "cell_type": "code",
   "execution_count": 63,
   "id": "790862c8",
   "metadata": {
    "execution": {
     "iopub.execute_input": "2025-04-02T06:03:24.574106Z",
     "iopub.status.busy": "2025-04-02T06:03:24.573752Z",
     "iopub.status.idle": "2025-04-02T06:03:24.581839Z",
     "shell.execute_reply": "2025-04-02T06:03:24.578152Z"
    },
    "papermill": {
     "duration": 0.041844,
     "end_time": "2025-04-02T06:03:24.586011",
     "exception": false,
     "start_time": "2025-04-02T06:03:24.544167",
     "status": "completed"
    },
    "tags": []
   },
   "outputs": [
    {
     "name": "stdout",
     "output_type": "stream",
     "text": [
      "Hello\n",
      "hello\n"
     ]
    }
   ],
   "source": [
    "#Consider the following example:\n",
    "x = \"Hello\"    #Create a new string\n",
    "y = x          #Assign y the same object as x\n",
    "y = y.lower()  #Assign y the result of y.lower()\n",
    "print(x)\n",
    "print(y)"
   ]
  },
  {
   "cell_type": "markdown",
   "id": "8fd775c7",
   "metadata": {
    "papermill": {
     "duration": 0.034025,
     "end_time": "2025-04-02T06:03:24.657360",
     "exception": false,
     "start_time": "2025-04-02T06:03:24.623335",
     "status": "completed"
    },
    "tags": []
   },
   "source": [
    "In the case above, we first assign x the value \"Hello\", a string object stored somewhere in memory.  Next we use the string method lower () to make the string assigned to y lowercase. Since strings are immutable, Python creates an entirey new string, \"hello\" and stores it somewhere in memory separate from the orginal \"Hello\" object. As a result, x and y refer to different objects in memory and produce different results when printed to the console."
   ]
  },
  {
   "cell_type": "markdown",
   "id": "45a1e0dc",
   "metadata": {
    "papermill": {
     "duration": 0.030259,
     "end_time": "2025-04-02T06:03:24.717519",
     "exception": false,
     "start_time": "2025-04-02T06:03:24.687260",
     "status": "completed"
    },
    "tags": []
   },
   "source": [
    "By contract, lists are a mutable data structure that can hold multiple objects. If you alter a list, Python doesn't make an entirely new list in memory: it changes the actual list object itself. This can lead to seemingly inconsistent and confusing behaviour:"
   ]
  },
  {
   "cell_type": "code",
   "execution_count": 64,
   "id": "af6fdc64",
   "metadata": {
    "execution": {
     "iopub.execute_input": "2025-04-02T06:03:24.777574Z",
     "iopub.status.busy": "2025-04-02T06:03:24.777211Z",
     "iopub.status.idle": "2025-04-02T06:03:24.782209Z",
     "shell.execute_reply": "2025-04-02T06:03:24.781047Z"
    },
    "papermill": {
     "duration": 0.035293,
     "end_time": "2025-04-02T06:03:24.783927",
     "exception": false,
     "start_time": "2025-04-02T06:03:24.748634",
     "status": "completed"
    },
    "tags": []
   },
   "outputs": [
    {
     "name": "stdout",
     "output_type": "stream",
     "text": [
      "[1, 2, 3, 4]\n",
      "[1, 2, 3, 4]\n"
     ]
    }
   ],
   "source": [
    "x = [1,2,3] #Create a new list\n",
    "y = x       #Assign y the same object as x\n",
    "y.append(4) #Add 4 to the end of list y\n",
    "print(x)\n",
    "print(y)"
   ]
  },
  {
   "cell_type": "markdown",
   "id": "b61b5299",
   "metadata": {
    "papermill": {
     "duration": 0.026813,
     "end_time": "2025-04-02T06:03:24.838592",
     "exception": false,
     "start_time": "2025-04-02T06:03:24.811779",
     "status": "completed"
    },
    "tags": []
   },
   "source": [
    "In this case, x and y still both refer to the same original list, so both x and y have the same value, even though it may appear that the code only added the number 4 to list y."
   ]
  },
  {
   "cell_type": "markdown",
   "id": "5527eb55",
   "metadata": {
    "papermill": {
     "duration": 0.026514,
     "end_time": "2025-04-02T06:03:24.898149",
     "exception": false,
     "start_time": "2025-04-02T06:03:24.871635",
     "status": "completed"
    },
    "tags": []
   },
   "source": [
    "**List Basics**\n",
    "A list is a mutuable, ordered collection of objects. \"Mutable\" means a list can be altered after it is created. You can, for example,add new items to a list or remove existing items. Lists are heterogeneous, meaning they can hold objects of different types."
   ]
  },
  {
   "cell_type": "code",
   "execution_count": 65,
   "id": "a15d9e4e",
   "metadata": {
    "execution": {
     "iopub.execute_input": "2025-04-02T06:03:24.954006Z",
     "iopub.status.busy": "2025-04-02T06:03:24.953668Z",
     "iopub.status.idle": "2025-04-02T06:03:24.958838Z",
     "shell.execute_reply": "2025-04-02T06:03:24.957680Z"
    },
    "papermill": {
     "duration": 0.035158,
     "end_time": "2025-04-02T06:03:24.960654",
     "exception": false,
     "start_time": "2025-04-02T06:03:24.925496",
     "status": "completed"
    },
    "tags": []
   },
   "outputs": [
    {
     "name": "stdout",
     "output_type": "stream",
     "text": [
      "['Lesson', 5, 'Is Fun?', True]\n"
     ]
    }
   ],
   "source": [
    "my_list = [\"Lesson\",5,\"Is Fun?\",True]\n",
    "print(my_list)"
   ]
  },
  {
   "cell_type": "markdown",
   "id": "624c77fd",
   "metadata": {
    "papermill": {
     "duration": 0.027831,
     "end_time": "2025-04-02T06:03:25.016605",
     "exception": false,
     "start_time": "2025-04-02T06:03:24.988774",
     "status": "completed"
    },
    "tags": []
   },
   "source": [
    "Alternatively, you can construct a list by passing some other iterable into the list() function. An iterable descibes an object you can look through one item at a time, such as lists, tuples, strings and other sequences."
   ]
  },
  {
   "cell_type": "code",
   "execution_count": 66,
   "id": "ad26bb9f",
   "metadata": {
    "execution": {
     "iopub.execute_input": "2025-04-02T06:03:25.088715Z",
     "iopub.status.busy": "2025-04-02T06:03:25.088182Z",
     "iopub.status.idle": "2025-04-02T06:03:25.095094Z",
     "shell.execute_reply": "2025-04-02T06:03:25.093755Z"
    },
    "papermill": {
     "duration": 0.050716,
     "end_time": "2025-04-02T06:03:25.097954",
     "exception": false,
     "start_time": "2025-04-02T06:03:25.047238",
     "status": "completed"
    },
    "tags": []
   },
   "outputs": [
    {
     "name": "stdout",
     "output_type": "stream",
     "text": [
      "['L', 'i', 'f', 'e', ' ', 'i', 's', ' ', 'S', 't', 'u', 'd', 'y']\n"
     ]
    }
   ],
   "source": [
    "second_list = list(\"Life is Study\")   #Create a list from a string\n",
    "print(second_list)"
   ]
  },
  {
   "cell_type": "markdown",
   "id": "e6b29d6e",
   "metadata": {
    "papermill": {
     "duration": 0.026518,
     "end_time": "2025-04-02T06:03:25.156915",
     "exception": false,
     "start_time": "2025-04-02T06:03:25.130397",
     "status": "completed"
    },
    "tags": []
   },
   "source": [
    "A list with no contents is known as the empty list:"
   ]
  },
  {
   "cell_type": "code",
   "execution_count": 67,
   "id": "e56d5b05",
   "metadata": {
    "execution": {
     "iopub.execute_input": "2025-04-02T06:03:25.211731Z",
     "iopub.status.busy": "2025-04-02T06:03:25.211259Z",
     "iopub.status.idle": "2025-04-02T06:03:25.216981Z",
     "shell.execute_reply": "2025-04-02T06:03:25.215776Z"
    },
    "papermill": {
     "duration": 0.035003,
     "end_time": "2025-04-02T06:03:25.218681",
     "exception": false,
     "start_time": "2025-04-02T06:03:25.183678",
     "status": "completed"
    },
    "tags": []
   },
   "outputs": [
    {
     "name": "stdout",
     "output_type": "stream",
     "text": [
      "[]\n"
     ]
    }
   ],
   "source": [
    "empty_list = []\n",
    "print(empty_list)"
   ]
  },
  {
   "cell_type": "markdown",
   "id": "951f9595",
   "metadata": {
    "papermill": {
     "duration": 0.026932,
     "end_time": "2025-04-02T06:03:25.274013",
     "exception": false,
     "start_time": "2025-04-02T06:03:25.247081",
     "status": "completed"
    },
    "tags": []
   },
   "source": [
    "You can add an item to an existing list with the list.append() function:"
   ]
  },
  {
   "cell_type": "code",
   "execution_count": 68,
   "id": "698de6ec",
   "metadata": {
    "execution": {
     "iopub.execute_input": "2025-04-02T06:03:25.329799Z",
     "iopub.status.busy": "2025-04-02T06:03:25.329309Z",
     "iopub.status.idle": "2025-04-02T06:03:25.335155Z",
     "shell.execute_reply": "2025-04-02T06:03:25.334012Z"
    },
    "papermill": {
     "duration": 0.035835,
     "end_time": "2025-04-02T06:03:25.336971",
     "exception": false,
     "start_time": "2025-04-02T06:03:25.301136",
     "status": "completed"
    },
    "tags": []
   },
   "outputs": [
    {
     "name": "stdout",
     "output_type": "stream",
     "text": [
      "[\"I'm no longer empty!\"]\n"
     ]
    }
   ],
   "source": [
    "empty_list.append(\"I'm no longer empty!\")\n",
    "print(empty_list)"
   ]
  },
  {
   "cell_type": "code",
   "execution_count": 69,
   "id": "e565d7e6",
   "metadata": {
    "execution": {
     "iopub.execute_input": "2025-04-02T06:03:25.393045Z",
     "iopub.status.busy": "2025-04-02T06:03:25.392581Z",
     "iopub.status.idle": "2025-04-02T06:03:25.398848Z",
     "shell.execute_reply": "2025-04-02T06:03:25.397189Z"
    },
    "papermill": {
     "duration": 0.036574,
     "end_time": "2025-04-02T06:03:25.400777",
     "exception": false,
     "start_time": "2025-04-02T06:03:25.364203",
     "status": "completed"
    },
    "tags": []
   },
   "outputs": [
    {
     "name": "stdout",
     "output_type": "stream",
     "text": [
      "[\"I'm no longer empty!\"]\n"
     ]
    }
   ],
   "source": [
    "print(empty_list)"
   ]
  },
  {
   "cell_type": "code",
   "execution_count": 70,
   "id": "a44f497c",
   "metadata": {
    "execution": {
     "iopub.execute_input": "2025-04-02T06:03:25.456993Z",
     "iopub.status.busy": "2025-04-02T06:03:25.456284Z",
     "iopub.status.idle": "2025-04-02T06:03:25.461478Z",
     "shell.execute_reply": "2025-04-02T06:03:25.460414Z"
    },
    "papermill": {
     "duration": 0.035139,
     "end_time": "2025-04-02T06:03:25.463290",
     "exception": false,
     "start_time": "2025-04-02T06:03:25.428151",
     "status": "completed"
    },
    "tags": []
   },
   "outputs": [],
   "source": [
    "empty_list1=list(empty_list)"
   ]
  },
  {
   "cell_type": "code",
   "execution_count": 71,
   "id": "f8463396",
   "metadata": {
    "execution": {
     "iopub.execute_input": "2025-04-02T06:03:25.519728Z",
     "iopub.status.busy": "2025-04-02T06:03:25.519209Z",
     "iopub.status.idle": "2025-04-02T06:03:25.524716Z",
     "shell.execute_reply": "2025-04-02T06:03:25.523449Z"
    },
    "papermill": {
     "duration": 0.035608,
     "end_time": "2025-04-02T06:03:25.526799",
     "exception": false,
     "start_time": "2025-04-02T06:03:25.491191",
     "status": "completed"
    },
    "tags": []
   },
   "outputs": [
    {
     "name": "stdout",
     "output_type": "stream",
     "text": [
      "[\"I'm no longer empty!\"]\n"
     ]
    }
   ],
   "source": [
    "print(empty_list1)"
   ]
  },
  {
   "cell_type": "markdown",
   "id": "3d143a9c",
   "metadata": {
    "papermill": {
     "duration": 0.031252,
     "end_time": "2025-04-02T06:03:25.586531",
     "exception": false,
     "start_time": "2025-04-02T06:03:25.555279",
     "status": "completed"
    },
    "tags": []
   },
   "source": [
    "Remove a matching item from a list with list.remove()\n",
    "\n",
    "Note: Remove deletes the first matching item only."
   ]
  },
  {
   "cell_type": "code",
   "execution_count": 72,
   "id": "813391dd",
   "metadata": {
    "execution": {
     "iopub.execute_input": "2025-04-02T06:03:25.643358Z",
     "iopub.status.busy": "2025-04-02T06:03:25.642881Z",
     "iopub.status.idle": "2025-04-02T06:03:25.648708Z",
     "shell.execute_reply": "2025-04-02T06:03:25.647621Z"
    },
    "papermill": {
     "duration": 0.03617,
     "end_time": "2025-04-02T06:03:25.650468",
     "exception": false,
     "start_time": "2025-04-02T06:03:25.614298",
     "status": "completed"
    },
    "tags": []
   },
   "outputs": [
    {
     "name": "stdout",
     "output_type": "stream",
     "text": [
      "['Lesson', 'Is Fun?', True]\n"
     ]
    }
   ],
   "source": [
    "my_list.remove(5)\n",
    "print(my_list)"
   ]
  },
  {
   "cell_type": "markdown",
   "id": "2025d4b0",
   "metadata": {
    "papermill": {
     "duration": 0.028322,
     "end_time": "2025-04-02T06:03:25.706783",
     "exception": false,
     "start_time": "2025-04-02T06:03:25.678461",
     "status": "completed"
    },
    "tags": []
   },
   "source": [
    "Join two lists together with the + operator:"
   ]
  },
  {
   "cell_type": "code",
   "execution_count": 73,
   "id": "66d7a3fc",
   "metadata": {
    "execution": {
     "iopub.execute_input": "2025-04-02T06:03:25.763466Z",
     "iopub.status.busy": "2025-04-02T06:03:25.763090Z",
     "iopub.status.idle": "2025-04-02T06:03:25.768388Z",
     "shell.execute_reply": "2025-04-02T06:03:25.767246Z"
    },
    "papermill": {
     "duration": 0.036155,
     "end_time": "2025-04-02T06:03:25.770268",
     "exception": false,
     "start_time": "2025-04-02T06:03:25.734113",
     "status": "completed"
    },
    "tags": []
   },
   "outputs": [
    {
     "name": "stdout",
     "output_type": "stream",
     "text": [
      "['Lesson', 'Is Fun?', True, \"I'm no longer empty!\"]\n"
     ]
    }
   ],
   "source": [
    "combined_list = my_list + empty_list\n",
    "print(combined_list)\n"
   ]
  },
  {
   "cell_type": "markdown",
   "id": "637a059e",
   "metadata": {
    "papermill": {
     "duration": 0.030229,
     "end_time": "2025-04-02T06:03:25.837067",
     "exception": false,
     "start_time": "2025-04-02T06:03:25.806838",
     "status": "completed"
    },
    "tags": []
   },
   "source": [
    "You can also add a sequence to the end of an existing list with the list.extend() function"
   ]
  },
  {
   "cell_type": "code",
   "execution_count": 74,
   "id": "8bb1dc6d",
   "metadata": {
    "execution": {
     "iopub.execute_input": "2025-04-02T06:03:25.892704Z",
     "iopub.status.busy": "2025-04-02T06:03:25.892348Z",
     "iopub.status.idle": "2025-04-02T06:03:25.897635Z",
     "shell.execute_reply": "2025-04-02T06:03:25.896338Z"
    },
    "papermill": {
     "duration": 0.035117,
     "end_time": "2025-04-02T06:03:25.899530",
     "exception": false,
     "start_time": "2025-04-02T06:03:25.864413",
     "status": "completed"
    },
    "tags": []
   },
   "outputs": [
    {
     "name": "stdout",
     "output_type": "stream",
     "text": [
      "['Lesson', 'Is Fun?', True, \"I'm no longer empty!\"]\n"
     ]
    }
   ],
   "source": [
    "combined_list = my_list\n",
    "combined_list.extend(empty_list)\n",
    "print(combined_list)"
   ]
  },
  {
   "cell_type": "markdown",
   "id": "9701e381",
   "metadata": {
    "papermill": {
     "duration": 0.02748,
     "end_time": "2025-04-02T06:03:25.955235",
     "exception": false,
     "start_time": "2025-04-02T06:03:25.927755",
     "status": "completed"
    },
    "tags": []
   },
   "source": [
    "Check the length, maximum, minimum and sum of a list with the len(), max(), min() and sum() functions, respectively."
   ]
  },
  {
   "cell_type": "code",
   "execution_count": 75,
   "id": "1bede6c3",
   "metadata": {
    "execution": {
     "iopub.execute_input": "2025-04-02T06:03:26.011476Z",
     "iopub.status.busy": "2025-04-02T06:03:26.010996Z",
     "iopub.status.idle": "2025-04-02T06:03:26.019043Z",
     "shell.execute_reply": "2025-04-02T06:03:26.017845Z"
    },
    "papermill": {
     "duration": 0.037886,
     "end_time": "2025-04-02T06:03:26.020750",
     "exception": false,
     "start_time": "2025-04-02T06:03:25.982864",
     "status": "completed"
    },
    "tags": []
   },
   "outputs": [
    {
     "name": "stdout",
     "output_type": "stream",
     "text": [
      "5\n",
      "9\n",
      "1\n",
      "25\n",
      "5.0\n"
     ]
    }
   ],
   "source": [
    "num_list = [1,3,5,7,9]\n",
    "print(len(num_list))     #Check the length\n",
    "print(max(num_list))     #Check the max\n",
    "print(min(num_list))     #Check the min\n",
    "print(sum(num_list))     #Check the sum\n",
    "print(sum(num_list)/len(num_list))  #Check the mean*"
   ]
  },
  {
   "cell_type": "code",
   "execution_count": 76,
   "id": "b458a03d",
   "metadata": {
    "execution": {
     "iopub.execute_input": "2025-04-02T06:03:26.076858Z",
     "iopub.status.busy": "2025-04-02T06:03:26.076496Z",
     "iopub.status.idle": "2025-04-02T06:03:26.081970Z",
     "shell.execute_reply": "2025-04-02T06:03:26.080950Z"
    },
    "papermill": {
     "duration": 0.035414,
     "end_time": "2025-04-02T06:03:26.083615",
     "exception": false,
     "start_time": "2025-04-02T06:03:26.048201",
     "status": "completed"
    },
    "tags": []
   },
   "outputs": [
    {
     "data": {
      "text/plain": [
       "True"
      ]
     },
     "execution_count": 76,
     "metadata": {},
     "output_type": "execute_result"
    }
   ],
   "source": [
    "#You can check whether a list contains a certain object with the \"in\" keyword:\n",
    "1 in num_list"
   ]
  },
  {
   "cell_type": "code",
   "execution_count": 77,
   "id": "3f46f22d",
   "metadata": {
    "execution": {
     "iopub.execute_input": "2025-04-02T06:03:26.142796Z",
     "iopub.status.busy": "2025-04-02T06:03:26.142448Z",
     "iopub.status.idle": "2025-04-02T06:03:26.147851Z",
     "shell.execute_reply": "2025-04-02T06:03:26.146816Z"
    },
    "papermill": {
     "duration": 0.038053,
     "end_time": "2025-04-02T06:03:26.149388",
     "exception": false,
     "start_time": "2025-04-02T06:03:26.111335",
     "status": "completed"
    },
    "tags": []
   },
   "outputs": [
    {
     "data": {
      "text/plain": [
       "False"
      ]
     },
     "execution_count": 77,
     "metadata": {},
     "output_type": "execute_result"
    }
   ],
   "source": [
    "#Add the keyword \"not\" to test whether a list does not contain an object\n",
    "1 not in num_list"
   ]
  },
  {
   "cell_type": "markdown",
   "id": "2822c259",
   "metadata": {
    "papermill": {
     "duration": 0.027222,
     "end_time": "2025-04-02T06:03:26.204293",
     "exception": false,
     "start_time": "2025-04-02T06:03:26.177071",
     "status": "completed"
    },
    "tags": []
   },
   "source": [
    "Count the occurrences of an object within a list using the list.count() function:\n"
   ]
  },
  {
   "cell_type": "code",
   "execution_count": 78,
   "id": "5509c0dd",
   "metadata": {
    "execution": {
     "iopub.execute_input": "2025-04-02T06:03:26.260860Z",
     "iopub.status.busy": "2025-04-02T06:03:26.260417Z",
     "iopub.status.idle": "2025-04-02T06:03:26.266562Z",
     "shell.execute_reply": "2025-04-02T06:03:26.265409Z"
    },
    "papermill": {
     "duration": 0.03668,
     "end_time": "2025-04-02T06:03:26.268431",
     "exception": false,
     "start_time": "2025-04-02T06:03:26.231751",
     "status": "completed"
    },
    "tags": []
   },
   "outputs": [
    {
     "data": {
      "text/plain": [
       "1"
      ]
     },
     "execution_count": 78,
     "metadata": {},
     "output_type": "execute_result"
    }
   ],
   "source": [
    "num_list.count(3)"
   ]
  },
  {
   "cell_type": "markdown",
   "id": "4b3b6195",
   "metadata": {
    "papermill": {
     "duration": 0.027744,
     "end_time": "2025-04-02T06:03:26.324700",
     "exception": false,
     "start_time": "2025-04-02T06:03:26.296956",
     "status": "completed"
    },
    "tags": []
   },
   "source": [
    "Other common list functions include list.sort() and list.reverse():\n"
   ]
  },
  {
   "cell_type": "code",
   "execution_count": 79,
   "id": "96f03999",
   "metadata": {
    "execution": {
     "iopub.execute_input": "2025-04-02T06:03:26.381275Z",
     "iopub.status.busy": "2025-04-02T06:03:26.380894Z",
     "iopub.status.idle": "2025-04-02T06:03:26.387503Z",
     "shell.execute_reply": "2025-04-02T06:03:26.386451Z"
    },
    "papermill": {
     "duration": 0.036803,
     "end_time": "2025-04-02T06:03:26.389237",
     "exception": false,
     "start_time": "2025-04-02T06:03:26.352434",
     "status": "completed"
    },
    "tags": []
   },
   "outputs": [
    {
     "name": "stdout",
     "output_type": "stream",
     "text": [
      "Reversed list [6, 3, 2, 4, 5, 1]\n",
      "Sorted list [1, 2, 3, 4, 5, 6]\n"
     ]
    }
   ],
   "source": [
    "new_list = [1,5,4,2,3,6]       #Make a new list\n",
    "\n",
    "new_list.reverse()             #Reverse the list\n",
    "print(\"Reversed list\", new_list)\n",
    "\n",
    "new_list.sort()                #Sort the list\n",
    "print(\"Sorted list\", new_list)"
   ]
  },
  {
   "cell_type": "markdown",
   "id": "7f76ca58",
   "metadata": {
    "papermill": {
     "duration": 0.027694,
     "end_time": "2025-04-02T06:03:26.444955",
     "exception": false,
     "start_time": "2025-04-02T06:03:26.417261",
     "status": "completed"
    },
    "tags": []
   },
   "source": [
    "List Indexing and Slicing\n",
    "\n",
    "Lists and other Python sequences are indexed, meaning each position in the sequence has a corresponding number called the index that you can use to look up the value at that position.\n",
    "Python sequences are zero-indexed, so the first element of a sequence is at index position zero, the second element is at index 1 and so on. Retrieve an item from a list by placing the index in square brackets after the name of the list:\n"
   ]
  },
  {
   "cell_type": "code",
   "execution_count": 80,
   "id": "b868918d",
   "metadata": {
    "execution": {
     "iopub.execute_input": "2025-04-02T06:03:26.503732Z",
     "iopub.status.busy": "2025-04-02T06:03:26.503274Z",
     "iopub.status.idle": "2025-04-02T06:03:26.509759Z",
     "shell.execute_reply": "2025-04-02T06:03:26.508523Z"
    },
    "papermill": {
     "duration": 0.039022,
     "end_time": "2025-04-02T06:03:26.512000",
     "exception": false,
     "start_time": "2025-04-02T06:03:26.472978",
     "status": "completed"
    },
    "tags": []
   },
   "outputs": [
    {
     "name": "stdout",
     "output_type": "stream",
     "text": [
      "Hello\n",
      "bestest\n"
     ]
    }
   ],
   "source": [
    "another_list = [\"Hello\",\"my\",\"bestest\",\"old\",\"friend\"]\n",
    "print(another_list[0])\n",
    "print(another_list[2])\n",
    "\n"
   ]
  },
  {
   "cell_type": "markdown",
   "id": "aea1c897",
   "metadata": {
    "papermill": {
     "duration": 0.030739,
     "end_time": "2025-04-02T06:03:26.571669",
     "exception": false,
     "start_time": "2025-04-02T06:03:26.540930",
     "status": "completed"
    },
    "tags": []
   },
   "source": [
    "if you supply negative number when indexing into list, it accesses items starting from the end of the list(-1) going backward:"
   ]
  },
  {
   "cell_type": "code",
   "execution_count": 81,
   "id": "f3475e64",
   "metadata": {
    "execution": {
     "iopub.execute_input": "2025-04-02T06:03:26.632973Z",
     "iopub.status.busy": "2025-04-02T06:03:26.632554Z",
     "iopub.status.idle": "2025-04-02T06:03:26.638656Z",
     "shell.execute_reply": "2025-04-02T06:03:26.637286Z"
    },
    "papermill": {
     "duration": 0.038491,
     "end_time": "2025-04-02T06:03:26.640295",
     "exception": false,
     "start_time": "2025-04-02T06:03:26.601804",
     "status": "completed"
    },
    "tags": []
   },
   "outputs": [
    {
     "name": "stdout",
     "output_type": "stream",
     "text": [
      "friend\n",
      "bestest\n"
     ]
    }
   ],
   "source": [
    "print(another_list[-1])\n",
    "print(another_list[-3])"
   ]
  },
  {
   "cell_type": "markdown",
   "id": "0f3d2653",
   "metadata": {
    "papermill": {
     "duration": 0.029277,
     "end_time": "2025-04-02T06:03:26.700093",
     "exception": false,
     "start_time": "2025-04-02T06:03:26.670816",
     "status": "completed"
    },
    "tags": []
   },
   "source": [
    "If your list contains other indexed objects, you can supply additional indexes to get items contained within the nested objects:"
   ]
  },
  {
   "cell_type": "code",
   "execution_count": 82,
   "id": "bbe87c75",
   "metadata": {
    "execution": {
     "iopub.execute_input": "2025-04-02T06:03:26.762616Z",
     "iopub.status.busy": "2025-04-02T06:03:26.762152Z",
     "iopub.status.idle": "2025-04-02T06:03:26.768617Z",
     "shell.execute_reply": "2025-04-02T06:03:26.767226Z"
    },
    "papermill": {
     "duration": 0.040343,
     "end_time": "2025-04-02T06:03:26.770341",
     "exception": false,
     "start_time": "2025-04-02T06:03:26.729998",
     "status": "completed"
    },
    "tags": []
   },
   "outputs": [
    {
     "name": "stdout",
     "output_type": "stream",
     "text": [
      "3\n"
     ]
    }
   ],
   "source": [
    "nested_list = [[1,2,3],[4,5,6],[7,8,9]]\n",
    "print(nested_list[0][2])"
   ]
  },
  {
   "cell_type": "markdown",
   "id": "01e7fda8",
   "metadata": {
    "papermill": {
     "duration": 0.028975,
     "end_time": "2025-04-02T06:03:26.828517",
     "exception": false,
     "start_time": "2025-04-02T06:03:26.799542",
     "status": "completed"
    },
    "tags": []
   },
   "source": [
    "You can take a slice (sequential subset) of a list using the syntax [start:stop:step] where start and stop are the starting and ending indexes for the slice and step controls how frequently you sample values along the slice. The default step size is 1, meaning you take all values in the range provided, starting from the first, up to but not including the last:"
   ]
  },
  {
   "cell_type": "code",
   "execution_count": 83,
   "id": "917f1e85",
   "metadata": {
    "execution": {
     "iopub.execute_input": "2025-04-02T06:03:26.887463Z",
     "iopub.status.busy": "2025-04-02T06:03:26.887055Z",
     "iopub.status.idle": "2025-04-02T06:03:26.892610Z",
     "shell.execute_reply": "2025-04-02T06:03:26.891435Z"
    },
    "papermill": {
     "duration": 0.037408,
     "end_time": "2025-04-02T06:03:26.894477",
     "exception": false,
     "start_time": "2025-04-02T06:03:26.857069",
     "status": "completed"
    },
    "tags": []
   },
   "outputs": [
    {
     "name": "stdout",
     "output_type": "stream",
     "text": [
      "['my', 'bestest']\n"
     ]
    }
   ],
   "source": [
    "my_slice = another_list[1:3]    #slice index 1 and 2\n",
    "print(my_slice)"
   ]
  },
  {
   "cell_type": "code",
   "execution_count": 84,
   "id": "47ec49e0",
   "metadata": {
    "execution": {
     "iopub.execute_input": "2025-04-02T06:03:26.954849Z",
     "iopub.status.busy": "2025-04-02T06:03:26.954454Z",
     "iopub.status.idle": "2025-04-02T06:03:26.960628Z",
     "shell.execute_reply": "2025-04-02T06:03:26.959159Z"
    },
    "papermill": {
     "duration": 0.038563,
     "end_time": "2025-04-02T06:03:26.962303",
     "exception": false,
     "start_time": "2025-04-02T06:03:26.923740",
     "status": "completed"
    },
    "tags": []
   },
   "outputs": [
    {
     "name": "stdout",
     "output_type": "stream",
     "text": [
      "['Hello', 'bestest', 'friend']\n"
     ]
    }
   ],
   "source": [
    "# Slice the entire list but use step size 2 to get every other item:\n",
    "\n",
    "my_slice = another_list[0:6:2]\n",
    "print(my_slice)"
   ]
  },
  {
   "cell_type": "markdown",
   "id": "faec6619",
   "metadata": {
    "papermill": {
     "duration": 0.030364,
     "end_time": "2025-04-02T06:03:27.024541",
     "exception": false,
     "start_time": "2025-04-02T06:03:26.994177",
     "status": "completed"
    },
    "tags": []
   },
   "source": [
    "You can leave the starting or ending index blank to slice from the beginning or up to the end of the list respectively:"
   ]
  },
  {
   "cell_type": "code",
   "execution_count": 85,
   "id": "bcd431a8",
   "metadata": {
    "execution": {
     "iopub.execute_input": "2025-04-02T06:03:27.085275Z",
     "iopub.status.busy": "2025-04-02T06:03:27.084906Z",
     "iopub.status.idle": "2025-04-02T06:03:27.090284Z",
     "shell.execute_reply": "2025-04-02T06:03:27.089099Z"
    },
    "papermill": {
     "duration": 0.037812,
     "end_time": "2025-04-02T06:03:27.092083",
     "exception": false,
     "start_time": "2025-04-02T06:03:27.054271",
     "status": "completed"
    },
    "tags": []
   },
   "outputs": [
    {
     "name": "stdout",
     "output_type": "stream",
     "text": [
      "['Hello', 'my', 'bestest', 'old']\n"
     ]
    }
   ],
   "source": [
    "slice1 = another_list[:4]    #Slice everything up to index 4\n",
    "print(slice1)"
   ]
  },
  {
   "cell_type": "code",
   "execution_count": 86,
   "id": "2d0abee0",
   "metadata": {
    "execution": {
     "iopub.execute_input": "2025-04-02T06:03:27.154274Z",
     "iopub.status.busy": "2025-04-02T06:03:27.153911Z",
     "iopub.status.idle": "2025-04-02T06:03:27.159167Z",
     "shell.execute_reply": "2025-04-02T06:03:27.158090Z"
    },
    "papermill": {
     "duration": 0.038992,
     "end_time": "2025-04-02T06:03:27.161296",
     "exception": false,
     "start_time": "2025-04-02T06:03:27.122304",
     "status": "completed"
    },
    "tags": []
   },
   "outputs": [
    {
     "name": "stdout",
     "output_type": "stream",
     "text": [
      "['old', 'friend']\n"
     ]
    }
   ],
   "source": [
    "slice2 = another_list[3:]   #Slice everything from index 3 to the end\n",
    "print(slice2)"
   ]
  },
  {
   "cell_type": "markdown",
   "id": "7e652375",
   "metadata": {
    "papermill": {
     "duration": 0.028965,
     "end_time": "2025-04-02T06:03:27.220668",
     "exception": false,
     "start_time": "2025-04-02T06:03:27.191703",
     "status": "completed"
    },
    "tags": []
   },
   "source": [
    "If you provide a negative number as the step, the slice steps backward:"
   ]
  },
  {
   "cell_type": "code",
   "execution_count": 87,
   "id": "30053653",
   "metadata": {
    "execution": {
     "iopub.execute_input": "2025-04-02T06:03:27.282165Z",
     "iopub.status.busy": "2025-04-02T06:03:27.281832Z",
     "iopub.status.idle": "2025-04-02T06:03:27.287442Z",
     "shell.execute_reply": "2025-04-02T06:03:27.286179Z"
    },
    "papermill": {
     "duration": 0.038592,
     "end_time": "2025-04-02T06:03:27.289183",
     "exception": false,
     "start_time": "2025-04-02T06:03:27.250591",
     "status": "completed"
    },
    "tags": []
   },
   "outputs": [
    {
     "name": "stdout",
     "output_type": "stream",
     "text": [
      "['friend', 'old']\n"
     ]
    }
   ],
   "source": [
    "# Take a slice starting at index 4, backward to index 2\n",
    "my_slice = another_list[4:2:-1]\n",
    "print(my_slice)"
   ]
  },
  {
   "cell_type": "markdown",
   "id": "7d8509ca",
   "metadata": {
    "papermill": {
     "duration": 0.031219,
     "end_time": "2025-04-02T06:03:27.350997",
     "exception": false,
     "start_time": "2025-04-02T06:03:27.319778",
     "status": "completed"
    },
    "tags": []
   },
   "source": [
    "if you don't provide a start or ending index, you slice of the entire list:"
   ]
  },
  {
   "cell_type": "code",
   "execution_count": 88,
   "id": "15a77fbc",
   "metadata": {
    "execution": {
     "iopub.execute_input": "2025-04-02T06:03:27.415583Z",
     "iopub.status.busy": "2025-04-02T06:03:27.415110Z",
     "iopub.status.idle": "2025-04-02T06:03:27.420918Z",
     "shell.execute_reply": "2025-04-02T06:03:27.419414Z"
    },
    "papermill": {
     "duration": 0.039478,
     "end_time": "2025-04-02T06:03:27.423094",
     "exception": false,
     "start_time": "2025-04-02T06:03:27.383616",
     "status": "completed"
    },
    "tags": []
   },
   "outputs": [
    {
     "name": "stdout",
     "output_type": "stream",
     "text": [
      "['Hello', 'my', 'bestest', 'old', 'friend']\n"
     ]
    }
   ],
   "source": [
    "my_slice = another_list[:]   #This slice operation copies the list\n",
    "print(my_slice)"
   ]
  },
  {
   "cell_type": "markdown",
   "id": "e26c7d11",
   "metadata": {
    "papermill": {
     "duration": 0.028866,
     "end_time": "2025-04-02T06:03:27.481535",
     "exception": false,
     "start_time": "2025-04-02T06:03:27.452669",
     "status": "completed"
    },
    "tags": []
   },
   "source": [
    "Using a step of -1 without a starting or ending index slices the entire list in reverse, providing a shorthand to a reverse a list:"
   ]
  },
  {
   "cell_type": "code",
   "execution_count": 89,
   "id": "3781b667",
   "metadata": {
    "execution": {
     "iopub.execute_input": "2025-04-02T06:03:27.541023Z",
     "iopub.status.busy": "2025-04-02T06:03:27.540627Z",
     "iopub.status.idle": "2025-04-02T06:03:27.545707Z",
     "shell.execute_reply": "2025-04-02T06:03:27.544552Z"
    },
    "papermill": {
     "duration": 0.036827,
     "end_time": "2025-04-02T06:03:27.547398",
     "exception": false,
     "start_time": "2025-04-02T06:03:27.510571",
     "status": "completed"
    },
    "tags": []
   },
   "outputs": [
    {
     "name": "stdout",
     "output_type": "stream",
     "text": [
      "['friend', 'old', 'bestest', 'my', 'Hello']\n"
     ]
    }
   ],
   "source": [
    "my_slice = another_list[::-1]  #This slice operation reverses the list\n",
    "print(my_slice)"
   ]
  },
  {
   "cell_type": "markdown",
   "id": "10b19c0e",
   "metadata": {
    "papermill": {
     "duration": 0.02855,
     "end_time": "2025-04-02T06:03:27.606612",
     "exception": false,
     "start_time": "2025-04-02T06:03:27.578062",
     "status": "completed"
    },
    "tags": []
   },
   "source": [
    "You can use indexing to change the values within a list or delete items in a list:"
   ]
  },
  {
   "cell_type": "code",
   "execution_count": 90,
   "id": "10e6bb63",
   "metadata": {
    "execution": {
     "iopub.execute_input": "2025-04-02T06:03:27.665815Z",
     "iopub.status.busy": "2025-04-02T06:03:27.665475Z",
     "iopub.status.idle": "2025-04-02T06:03:27.671156Z",
     "shell.execute_reply": "2025-04-02T06:03:27.669832Z"
    },
    "papermill": {
     "duration": 0.037648,
     "end_time": "2025-04-02T06:03:27.672759",
     "exception": false,
     "start_time": "2025-04-02T06:03:27.635111",
     "status": "completed"
    },
    "tags": []
   },
   "outputs": [
    {
     "name": "stdout",
     "output_type": "stream",
     "text": [
      "['Hello', 'my', 'bestest', 'new', 'friend']\n",
      "['Hello', 'my', 'bestest', 'friend']\n"
     ]
    }
   ],
   "source": [
    "another_list[3] = \"new\"   #Set the value at index 3 to \"new\"\n",
    "print(another_list)\n",
    "del(another_list[3])      #delete the item at index 3\n",
    "print(another_list)"
   ]
  },
  {
   "cell_type": "markdown",
   "id": "e968ed6d",
   "metadata": {
    "papermill": {
     "duration": 0.02932,
     "end_time": "2025-04-02T06:03:27.731265",
     "exception": false,
     "start_time": "2025-04-02T06:03:27.701945",
     "status": "completed"
    },
    "tags": []
   },
   "source": [
    "You can also remove items from a list using the list.pop() function. pop() removes the final item in a list and returns it:"
   ]
  },
  {
   "cell_type": "code",
   "execution_count": 91,
   "id": "33554960",
   "metadata": {
    "execution": {
     "iopub.execute_input": "2025-04-02T06:03:27.790938Z",
     "iopub.status.busy": "2025-04-02T06:03:27.790582Z",
     "iopub.status.idle": "2025-04-02T06:03:27.796086Z",
     "shell.execute_reply": "2025-04-02T06:03:27.794741Z"
    },
    "papermill": {
     "duration": 0.037476,
     "end_time": "2025-04-02T06:03:27.797876",
     "exception": false,
     "start_time": "2025-04-02T06:03:27.760400",
     "status": "completed"
    },
    "tags": []
   },
   "outputs": [
    {
     "name": "stdout",
     "output_type": "stream",
     "text": [
      "friend\n",
      "['Hello', 'my', 'bestest']\n"
     ]
    }
   ],
   "source": [
    "next_item = another_list.pop()\n",
    "print(next_item)\n",
    "print(another_list)"
   ]
  },
  {
   "cell_type": "markdown",
   "id": "b7061365",
   "metadata": {
    "papermill": {
     "duration": 0.028207,
     "end_time": "2025-04-02T06:03:27.854823",
     "exception": false,
     "start_time": "2025-04-02T06:03:27.826616",
     "status": "completed"
    },
    "tags": []
   },
   "source": [
    "Notice that the list resizes itself dynamically as you delete or add items to it. Appeding items to lists and removing items from the end of list with list.pop() are very fast operations. Deleting items at the front of a list or within the body of a lists is much slower."
   ]
  },
  {
   "cell_type": "markdown",
   "id": "373e06a2",
   "metadata": {
    "papermill": {
     "duration": 0.028173,
     "end_time": "2025-04-02T06:03:27.911643",
     "exception": false,
     "start_time": "2025-04-02T06:03:27.883470",
     "status": "completed"
    },
    "tags": []
   },
   "source": [
    "# Copying Lists"
   ]
  },
  {
   "cell_type": "markdown",
   "id": "591562f8",
   "metadata": {
    "papermill": {
     "duration": 0.028309,
     "end_time": "2025-04-02T06:03:27.968990",
     "exception": false,
     "start_time": "2025-04-02T06:03:27.940681",
     "status": "completed"
    },
    "tags": []
   },
   "source": [
    "In the code above, we saw that we can slice an entire list using the [:] indexing operation. You can also copy a list using the list.copy() function:"
   ]
  },
  {
   "cell_type": "code",
   "execution_count": 92,
   "id": "21b1fa34",
   "metadata": {
    "execution": {
     "iopub.execute_input": "2025-04-02T06:03:28.029227Z",
     "iopub.status.busy": "2025-04-02T06:03:28.028909Z",
     "iopub.status.idle": "2025-04-02T06:03:28.035294Z",
     "shell.execute_reply": "2025-04-02T06:03:28.033932Z"
    },
    "papermill": {
     "duration": 0.039007,
     "end_time": "2025-04-02T06:03:28.037227",
     "exception": false,
     "start_time": "2025-04-02T06:03:27.998220",
     "status": "completed"
    },
    "tags": []
   },
   "outputs": [
    {
     "name": "stdout",
     "output_type": "stream",
     "text": [
      "list1: [1, 2, 3, 4]\n",
      "List2: [1, 2, 3]\n"
     ]
    }
   ],
   "source": [
    "list1 = [1,2,3]                     #Make a list\n",
    "list2 = list1.copy()                #Copy the list\n",
    "\n",
    "list1.append(4)                     #Add an item to list1\n",
    "print(\"list1:\",list1)               #Print both lists\n",
    "print(\"List2:\",list2)"
   ]
  },
  {
   "cell_type": "code",
   "execution_count": 93,
   "id": "4f649d27",
   "metadata": {
    "execution": {
     "iopub.execute_input": "2025-04-02T06:03:28.095812Z",
     "iopub.status.busy": "2025-04-02T06:03:28.095379Z",
     "iopub.status.idle": "2025-04-02T06:03:28.102533Z",
     "shell.execute_reply": "2025-04-02T06:03:28.101286Z"
    },
    "papermill": {
     "duration": 0.038195,
     "end_time": "2025-04-02T06:03:28.104051",
     "exception": false,
     "start_time": "2025-04-02T06:03:28.065856",
     "status": "completed"
    },
    "tags": []
   },
   "outputs": [
    {
     "name": "stdout",
     "output_type": "stream",
     "text": [
      "Before appending to list1: \n",
      "List2:  ['List within a list', [1, 2, 3]]\n",
      "List3:  ['List within a list', [1, 2, 3]] \n",
      "\n",
      "After appending to list1: \n",
      "List2:  ['List within a list', [1, 2, 3, 4]]\n",
      "List3:  ['List within a list', [1, 2, 3, 4]]\n"
     ]
    }
   ],
   "source": [
    "list1 = [1,2,3]              #Make a list\n",
    "\n",
    "list2 = [\"List within a list\", list1]   #Nest it in another list\n",
    "\n",
    "list3 = list2.copy()         #Shallow copy list2\n",
    "\n",
    "print(\"Before appending to list1: \")\n",
    "print(\"List2: \",list2)\n",
    "print(\"List3: \",list3,\"\\n\")\n",
    "\n",
    "list1.append(4)             #Add an item to list1\n",
    "print(\"After appending to list1: \")\n",
    "print(\"List2: \",list2)\n",
    "print(\"List3: \",list3)"
   ]
  },
  {
   "cell_type": "markdown",
   "id": "64fc6a06",
   "metadata": {
    "papermill": {
     "duration": 0.028768,
     "end_time": "2025-04-02T06:03:28.161532",
     "exception": false,
     "start_time": "2025-04-02T06:03:28.132764",
     "status": "completed"
    },
    "tags": []
   },
   "source": [
    "Notice that when we use a shallow copy on list2, the second element of list2 and its copy both refer to list1. Thus, when we append a new value into list1, the second element of list2 and the copy, list3, both change. When you are working with nested lists, you have to make a \"deepcopy\" if you want to truly copy nested objects in the original to avoid this behaviour of shallow copies.\n",
    "\n",
    "You can make a deep copy using the deepcopy() function in the copy library:"
   ]
  },
  {
   "cell_type": "code",
   "execution_count": 94,
   "id": "ed4defb7",
   "metadata": {
    "execution": {
     "iopub.execute_input": "2025-04-02T06:03:28.221536Z",
     "iopub.status.busy": "2025-04-02T06:03:28.221179Z",
     "iopub.status.idle": "2025-04-02T06:03:28.228679Z",
     "shell.execute_reply": "2025-04-02T06:03:28.227776Z"
    },
    "papermill": {
     "duration": 0.038981,
     "end_time": "2025-04-02T06:03:28.230220",
     "exception": false,
     "start_time": "2025-04-02T06:03:28.191239",
     "status": "completed"
    },
    "tags": []
   },
   "outputs": [
    {
     "name": "stdout",
     "output_type": "stream",
     "text": [
      "Before appending to list1: \n",
      "List2:  ['List within a list', [1, 2, 3]]\n",
      "List3:  ['List within a list', [1, 2, 3]] \n",
      "\n",
      "After appending to list1: \n",
      "List2:  ['List within a list', [1, 2, 3, 4]]\n",
      "List3:  ['List within a list', [1, 2, 3]]\n"
     ]
    }
   ],
   "source": [
    "import copy           # Load the copy module\n",
    "\n",
    "list1 = [1,2,3]       #Make a list\n",
    "list2 = [\"List within a list\", list1]   #Nest it in another list\n",
    "list3 = copy.deepcopy(list2)   #Deep copy list2\n",
    "\n",
    "print(\"Before appending to list1: \")\n",
    "print(\"List2: \",list2)\n",
    "print(\"List3: \",list3, \"\\n\")\n",
    "\n",
    "list1.append(4)       #Add an item to list1\n",
    "print(\"After appending to list1: \")\n",
    "print(\"List2: \",list2)\n",
    "print(\"List3: \",list3)"
   ]
  },
  {
   "cell_type": "code",
   "execution_count": null,
   "id": "b8fadf5e",
   "metadata": {
    "papermill": {
     "duration": 0.030843,
     "end_time": "2025-04-02T06:03:28.290925",
     "exception": false,
     "start_time": "2025-04-02T06:03:28.260082",
     "status": "completed"
    },
    "tags": []
   },
   "outputs": [],
   "source": []
  }
 ],
 "metadata": {
  "kaggle": {
   "accelerator": "none",
   "dataSources": [],
   "dockerImageVersionId": 30918,
   "isGpuEnabled": false,
   "isInternetEnabled": false,
   "language": "python",
   "sourceType": "notebook"
  },
  "kernelspec": {
   "display_name": "Python 3",
   "language": "python",
   "name": "python3"
  },
  "language_info": {
   "codemirror_mode": {
    "name": "ipython",
    "version": 3
   },
   "file_extension": ".py",
   "mimetype": "text/x-python",
   "name": "python",
   "nbconvert_exporter": "python",
   "pygments_lexer": "ipython3",
   "version": "3.10.12"
  },
  "papermill": {
   "default_parameters": {},
   "duration": 12.966967,
   "end_time": "2025-04-02T06:03:28.941300",
   "environment_variables": {},
   "exception": null,
   "input_path": "__notebook__.ipynb",
   "output_path": "__notebook__.ipynb",
   "parameters": {},
   "start_time": "2025-04-02T06:03:15.974333",
   "version": "2.6.0"
  }
 },
 "nbformat": 4,
 "nbformat_minor": 5
}
