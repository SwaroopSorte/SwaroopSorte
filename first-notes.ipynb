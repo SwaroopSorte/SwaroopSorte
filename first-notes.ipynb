{
 "cells": [
  {
   "cell_type": "code",
   "execution_count": 1,
   "id": "fd63d5fb",
   "metadata": {
    "_cell_guid": "b1076dfc-b9ad-4769-8c92-a6c4dae69d19",
    "_uuid": "8f2839f25d086af736a60e9eeb907d3b93b6e0e5",
    "execution": {
     "iopub.execute_input": "2025-04-05T09:03:55.708497Z",
     "iopub.status.busy": "2025-04-05T09:03:55.708057Z",
     "iopub.status.idle": "2025-04-05T09:03:56.652600Z",
     "shell.execute_reply": "2025-04-05T09:03:56.651656Z"
    },
    "papermill": {
     "duration": 0.977436,
     "end_time": "2025-04-05T09:03:56.654556",
     "exception": false,
     "start_time": "2025-04-05T09:03:55.677120",
     "status": "completed"
    },
    "tags": []
   },
   "outputs": [],
   "source": [
    "# This Python 3 environment comes with many helpful analytics libraries installed\n",
    "# It is defined by the kaggle/python Docker image: https://github.com/kaggle/docker-python\n",
    "# For example, here's several helpful packages to load\n",
    "\n",
    "import numpy as np # linear algebra\n",
    "import pandas as pd # data processing, CSV file I/O (e.g. pd.read_csv)\n",
    "\n",
    "# Input data files are available in the read-only \"../input/\" directory\n",
    "# For example, running this (by clicking run or pressing Shift+Enter) will list all files under the input directory\n",
    "\n",
    "import os\n",
    "for dirname, _, filenames in os.walk('/kaggle/input'):\n",
    "    for filename in filenames:\n",
    "        print(os.path.join(dirname, filename))\n",
    "\n",
    "# You can write up to 20GB to the current directory (/kaggle/working/) that gets preserved as output when you create a version using \"Save & Run All\" \n",
    "# You can also write temporary files to /kaggle/temp/, but they won't be saved outside of the current session"
   ]
  },
  {
   "cell_type": "code",
   "execution_count": 2,
   "id": "a42a5b62",
   "metadata": {
    "execution": {
     "iopub.execute_input": "2025-04-05T09:03:56.711549Z",
     "iopub.status.busy": "2025-04-05T09:03:56.710999Z",
     "iopub.status.idle": "2025-04-05T09:03:56.717767Z",
     "shell.execute_reply": "2025-04-05T09:03:56.716752Z"
    },
    "papermill": {
     "duration": 0.036912,
     "end_time": "2025-04-05T09:03:56.719407",
     "exception": false,
     "start_time": "2025-04-05T09:03:56.682495",
     "status": "completed"
    },
    "tags": []
   },
   "outputs": [
    {
     "data": {
      "text/plain": [
       "15"
      ]
     },
     "execution_count": 2,
     "metadata": {},
     "output_type": "execute_result"
    }
   ],
   "source": [
    "10 + 5"
   ]
  },
  {
   "cell_type": "code",
   "execution_count": 3,
   "id": "2b3c8336",
   "metadata": {
    "execution": {
     "iopub.execute_input": "2025-04-05T09:03:56.775346Z",
     "iopub.status.busy": "2025-04-05T09:03:56.774937Z",
     "iopub.status.idle": "2025-04-05T09:03:56.780497Z",
     "shell.execute_reply": "2025-04-05T09:03:56.779645Z"
    },
    "papermill": {
     "duration": 0.035121,
     "end_time": "2025-04-05T09:03:56.781905",
     "exception": false,
     "start_time": "2025-04-05T09:03:56.746784",
     "status": "completed"
    },
    "tags": []
   },
   "outputs": [
    {
     "data": {
      "text/plain": [
       "5"
      ]
     },
     "execution_count": 3,
     "metadata": {},
     "output_type": "execute_result"
    }
   ],
   "source": [
    "10 - 5"
   ]
  },
  {
   "cell_type": "code",
   "execution_count": 4,
   "id": "90319757",
   "metadata": {
    "execution": {
     "iopub.execute_input": "2025-04-05T09:03:56.837643Z",
     "iopub.status.busy": "2025-04-05T09:03:56.837202Z",
     "iopub.status.idle": "2025-04-05T09:03:56.842775Z",
     "shell.execute_reply": "2025-04-05T09:03:56.841863Z"
    },
    "papermill": {
     "duration": 0.03536,
     "end_time": "2025-04-05T09:03:56.844475",
     "exception": false,
     "start_time": "2025-04-05T09:03:56.809115",
     "status": "completed"
    },
    "tags": []
   },
   "outputs": [
    {
     "data": {
      "text/plain": [
       "50"
      ]
     },
     "execution_count": 4,
     "metadata": {},
     "output_type": "execute_result"
    }
   ],
   "source": [
    "10*5"
   ]
  },
  {
   "cell_type": "code",
   "execution_count": 5,
   "id": "b43feb0a",
   "metadata": {
    "execution": {
     "iopub.execute_input": "2025-04-05T09:03:56.900512Z",
     "iopub.status.busy": "2025-04-05T09:03:56.900073Z",
     "iopub.status.idle": "2025-04-05T09:03:56.905778Z",
     "shell.execute_reply": "2025-04-05T09:03:56.904705Z"
    },
    "papermill": {
     "duration": 0.035612,
     "end_time": "2025-04-05T09:03:56.907426",
     "exception": false,
     "start_time": "2025-04-05T09:03:56.871814",
     "status": "completed"
    },
    "tags": []
   },
   "outputs": [
    {
     "data": {
      "text/plain": [
       "2.0"
      ]
     },
     "execution_count": 5,
     "metadata": {},
     "output_type": "execute_result"
    }
   ],
   "source": [
    "10/5"
   ]
  },
  {
   "cell_type": "code",
   "execution_count": 6,
   "id": "ade10536",
   "metadata": {
    "execution": {
     "iopub.execute_input": "2025-04-05T09:03:56.963329Z",
     "iopub.status.busy": "2025-04-05T09:03:56.962928Z",
     "iopub.status.idle": "2025-04-05T09:03:56.968238Z",
     "shell.execute_reply": "2025-04-05T09:03:56.967332Z"
    },
    "papermill": {
     "duration": 0.034979,
     "end_time": "2025-04-05T09:03:56.969686",
     "exception": false,
     "start_time": "2025-04-05T09:03:56.934707",
     "status": "completed"
    },
    "tags": []
   },
   "outputs": [
    {
     "data": {
      "text/plain": [
       "3.3333333333333335"
      ]
     },
     "execution_count": 6,
     "metadata": {},
     "output_type": "execute_result"
    }
   ],
   "source": [
    "10/3"
   ]
  },
  {
   "cell_type": "code",
   "execution_count": 7,
   "id": "bea8bdbb",
   "metadata": {
    "execution": {
     "iopub.execute_input": "2025-04-05T09:03:57.026385Z",
     "iopub.status.busy": "2025-04-05T09:03:57.025947Z",
     "iopub.status.idle": "2025-04-05T09:03:57.031629Z",
     "shell.execute_reply": "2025-04-05T09:03:57.030579Z"
    },
    "papermill": {
     "duration": 0.036175,
     "end_time": "2025-04-05T09:03:57.033328",
     "exception": false,
     "start_time": "2025-04-05T09:03:56.997153",
     "status": "completed"
    },
    "tags": []
   },
   "outputs": [
    {
     "data": {
      "text/plain": [
       "3"
      ]
     },
     "execution_count": 7,
     "metadata": {},
     "output_type": "execute_result"
    }
   ],
   "source": [
    "10//3"
   ]
  },
  {
   "cell_type": "code",
   "execution_count": 8,
   "id": "ec8cff50",
   "metadata": {
    "execution": {
     "iopub.execute_input": "2025-04-05T09:03:57.090021Z",
     "iopub.status.busy": "2025-04-05T09:03:57.089655Z",
     "iopub.status.idle": "2025-04-05T09:03:57.095450Z",
     "shell.execute_reply": "2025-04-05T09:03:57.094388Z"
    },
    "papermill": {
     "duration": 0.035934,
     "end_time": "2025-04-05T09:03:57.097054",
     "exception": false,
     "start_time": "2025-04-05T09:03:57.061120",
     "status": "completed"
    },
    "tags": []
   },
   "outputs": [
    {
     "data": {
      "text/plain": [
       "1000"
      ]
     },
     "execution_count": 8,
     "metadata": {},
     "output_type": "execute_result"
    }
   ],
   "source": [
    "10**3"
   ]
  },
  {
   "cell_type": "code",
   "execution_count": 9,
   "id": "bf15686c",
   "metadata": {
    "execution": {
     "iopub.execute_input": "2025-04-05T09:03:57.210351Z",
     "iopub.status.busy": "2025-04-05T09:03:57.209924Z",
     "iopub.status.idle": "2025-04-05T09:03:57.215794Z",
     "shell.execute_reply": "2025-04-05T09:03:57.214515Z"
    },
    "papermill": {
     "duration": 0.092729,
     "end_time": "2025-04-05T09:03:57.217758",
     "exception": false,
     "start_time": "2025-04-05T09:03:57.125029",
     "status": "completed"
    },
    "tags": []
   },
   "outputs": [
    {
     "data": {
      "text/plain": [
       "100"
      ]
     },
     "execution_count": 9,
     "metadata": {},
     "output_type": "execute_result"
    }
   ],
   "source": [
    "10**2"
   ]
  },
  {
   "cell_type": "code",
   "execution_count": 10,
   "id": "2825e710",
   "metadata": {
    "execution": {
     "iopub.execute_input": "2025-04-05T09:03:57.276032Z",
     "iopub.status.busy": "2025-04-05T09:03:57.275680Z",
     "iopub.status.idle": "2025-04-05T09:03:57.281121Z",
     "shell.execute_reply": "2025-04-05T09:03:57.280300Z"
    },
    "papermill": {
     "duration": 0.036262,
     "end_time": "2025-04-05T09:03:57.282637",
     "exception": false,
     "start_time": "2025-04-05T09:03:57.246375",
     "status": "completed"
    },
    "tags": []
   },
   "outputs": [
    {
     "data": {
      "text/plain": [
       "10000"
      ]
     },
     "execution_count": 10,
     "metadata": {},
     "output_type": "execute_result"
    }
   ],
   "source": [
    "10**4"
   ]
  },
  {
   "cell_type": "code",
   "execution_count": null,
   "id": "db5181bd",
   "metadata": {
    "papermill": {
     "duration": 0.027973,
     "end_time": "2025-04-05T09:03:57.338849",
     "exception": false,
     "start_time": "2025-04-05T09:03:57.310876",
     "status": "completed"
    },
    "tags": []
   },
   "outputs": [],
   "source": []
  },
  {
   "cell_type": "markdown",
   "id": "f3b45695",
   "metadata": {
    "papermill": {
     "duration": 0.027883,
     "end_time": "2025-04-05T09:03:57.395397",
     "exception": false,
     "start_time": "2025-04-05T09:03:57.367514",
     "status": "completed"
    },
    "tags": []
   },
   "source": [
    "Math expresssion in python follow the normal arithmetic order of expressions so * and / are executed before + and - and ** is executed before multiplication and division."
   ]
  },
  {
   "cell_type": "code",
   "execution_count": 11,
   "id": "65c2f2f3",
   "metadata": {
    "execution": {
     "iopub.execute_input": "2025-04-05T09:03:57.454454Z",
     "iopub.status.busy": "2025-04-05T09:03:57.454015Z",
     "iopub.status.idle": "2025-04-05T09:03:57.459620Z",
     "shell.execute_reply": "2025-04-05T09:03:57.458710Z"
    },
    "papermill": {
     "duration": 0.036619,
     "end_time": "2025-04-05T09:03:57.461218",
     "exception": false,
     "start_time": "2025-04-05T09:03:57.424599",
     "status": "completed"
    },
    "tags": []
   },
   "outputs": [
    {
     "data": {
      "text/plain": [
       "77"
      ]
     },
     "execution_count": 11,
     "metadata": {},
     "output_type": "execute_result"
    }
   ],
   "source": [
    "2 + 3 * 5 ** 2"
   ]
  },
  {
   "cell_type": "markdown",
   "id": "93ea3fff",
   "metadata": {
    "papermill": {
     "duration": 0.029509,
     "end_time": "2025-04-05T09:03:57.519216",
     "exception": false,
     "start_time": "2025-04-05T09:03:57.489707",
     "status": "completed"
    },
    "tags": []
   },
   "source": [
    "You can use parenthesis in your math expression to ensure that operations are carried out on the correct order. Operations within parentheses are carried out before operations that are external to the parenthesis."
   ]
  },
  {
   "cell_type": "code",
   "execution_count": 12,
   "id": "0a83b69b",
   "metadata": {
    "execution": {
     "iopub.execute_input": "2025-04-05T09:03:57.577975Z",
     "iopub.status.busy": "2025-04-05T09:03:57.577636Z",
     "iopub.status.idle": "2025-04-05T09:03:57.583201Z",
     "shell.execute_reply": "2025-04-05T09:03:57.582239Z"
    },
    "papermill": {
     "duration": 0.036395,
     "end_time": "2025-04-05T09:03:57.584755",
     "exception": false,
     "start_time": "2025-04-05T09:03:57.548360",
     "status": "completed"
    },
    "tags": []
   },
   "outputs": [
    {
     "data": {
      "text/plain": [
       "625"
      ]
     },
     "execution_count": 12,
     "metadata": {},
     "output_type": "execute_result"
    }
   ],
   "source": [
    "((2 + 3) * 5 ) ** 2"
   ]
  },
  {
   "cell_type": "code",
   "execution_count": 13,
   "id": "7dd77126",
   "metadata": {
    "execution": {
     "iopub.execute_input": "2025-04-05T09:03:57.643442Z",
     "iopub.status.busy": "2025-04-05T09:03:57.643037Z",
     "iopub.status.idle": "2025-04-05T09:03:57.648513Z",
     "shell.execute_reply": "2025-04-05T09:03:57.647488Z"
    },
    "papermill": {
     "duration": 0.036312,
     "end_time": "2025-04-05T09:03:57.650152",
     "exception": false,
     "start_time": "2025-04-05T09:03:57.613840",
     "status": "completed"
    },
    "tags": []
   },
   "outputs": [
    {
     "data": {
      "text/plain": [
       "25"
      ]
     },
     "execution_count": 13,
     "metadata": {},
     "output_type": "execute_result"
    }
   ],
   "source": [
    "100 % 75"
   ]
  },
  {
   "cell_type": "code",
   "execution_count": 14,
   "id": "233d9911",
   "metadata": {
    "execution": {
     "iopub.execute_input": "2025-04-05T09:03:57.710398Z",
     "iopub.status.busy": "2025-04-05T09:03:57.709989Z",
     "iopub.status.idle": "2025-04-05T09:03:57.713944Z",
     "shell.execute_reply": "2025-04-05T09:03:57.713055Z"
    },
    "papermill": {
     "duration": 0.035855,
     "end_time": "2025-04-05T09:03:57.715586",
     "exception": false,
     "start_time": "2025-04-05T09:03:57.679731",
     "status": "completed"
    },
    "tags": []
   },
   "outputs": [],
   "source": [
    "import math   # load the math module"
   ]
  },
  {
   "cell_type": "code",
   "execution_count": 15,
   "id": "6cd9a869",
   "metadata": {
    "execution": {
     "iopub.execute_input": "2025-04-05T09:03:57.774927Z",
     "iopub.status.busy": "2025-04-05T09:03:57.774557Z",
     "iopub.status.idle": "2025-04-05T09:03:57.780102Z",
     "shell.execute_reply": "2025-04-05T09:03:57.779129Z"
    },
    "papermill": {
     "duration": 0.037119,
     "end_time": "2025-04-05T09:03:57.781618",
     "exception": false,
     "start_time": "2025-04-05T09:03:57.744499",
     "status": "completed"
    },
    "tags": []
   },
   "outputs": [
    {
     "data": {
      "text/plain": [
       "0.9999698965391098"
      ]
     },
     "execution_count": 15,
     "metadata": {},
     "output_type": "execute_result"
    }
   ],
   "source": [
    "# math.log() takes the natural logarithm of its argument:\n",
    "math.log(2.7182)"
   ]
  },
  {
   "cell_type": "code",
   "execution_count": 16,
   "id": "b36a75fe",
   "metadata": {
    "execution": {
     "iopub.execute_input": "2025-04-05T09:03:57.840062Z",
     "iopub.status.busy": "2025-04-05T09:03:57.839721Z",
     "iopub.status.idle": "2025-04-05T09:03:57.845279Z",
     "shell.execute_reply": "2025-04-05T09:03:57.844380Z"
    },
    "papermill": {
     "duration": 0.036567,
     "end_time": "2025-04-05T09:03:57.846800",
     "exception": false,
     "start_time": "2025-04-05T09:03:57.810233",
     "status": "completed"
    },
    "tags": []
   },
   "outputs": [
    {
     "data": {
      "text/plain": [
       "2.0"
      ]
     },
     "execution_count": 16,
     "metadata": {},
     "output_type": "execute_result"
    }
   ],
   "source": [
    "#Add a second argument to specify the log base:\n",
    "math.log(100,10)"
   ]
  },
  {
   "cell_type": "code",
   "execution_count": 17,
   "id": "894b8859",
   "metadata": {
    "execution": {
     "iopub.execute_input": "2025-04-05T09:03:57.907422Z",
     "iopub.status.busy": "2025-04-05T09:03:57.907015Z",
     "iopub.status.idle": "2025-04-05T09:03:57.912202Z",
     "shell.execute_reply": "2025-04-05T09:03:57.911432Z"
    },
    "papermill": {
     "duration": 0.03712,
     "end_time": "2025-04-05T09:03:57.913793",
     "exception": false,
     "start_time": "2025-04-05T09:03:57.876673",
     "status": "completed"
    },
    "tags": []
   },
   "outputs": [
    {
     "data": {
      "text/plain": [
       "22026.465794806718"
      ]
     },
     "execution_count": 17,
     "metadata": {},
     "output_type": "execute_result"
    }
   ],
   "source": [
    "#math.exp() raises e to the power of its argument\n",
    "math.exp(10)"
   ]
  },
  {
   "cell_type": "code",
   "execution_count": 18,
   "id": "4ae6f1cf",
   "metadata": {
    "execution": {
     "iopub.execute_input": "2025-04-05T09:03:57.974635Z",
     "iopub.status.busy": "2025-04-05T09:03:57.974216Z",
     "iopub.status.idle": "2025-04-05T09:03:57.979522Z",
     "shell.execute_reply": "2025-04-05T09:03:57.978667Z"
    },
    "papermill": {
     "duration": 0.036683,
     "end_time": "2025-04-05T09:03:57.981015",
     "exception": false,
     "start_time": "2025-04-05T09:03:57.944332",
     "status": "completed"
    },
    "tags": []
   },
   "outputs": [
    {
     "data": {
      "text/plain": [
       "30"
      ]
     },
     "execution_count": 18,
     "metadata": {},
     "output_type": "execute_result"
    }
   ],
   "source": [
    "#Use abs() to get the absolute value of a number. Note abs() is a base python function.\n",
    "abs(-30)"
   ]
  },
  {
   "cell_type": "code",
   "execution_count": 19,
   "id": "b9429d52",
   "metadata": {
    "execution": {
     "iopub.execute_input": "2025-04-05T09:03:58.041823Z",
     "iopub.status.busy": "2025-04-05T09:03:58.041470Z",
     "iopub.status.idle": "2025-04-05T09:03:58.046977Z",
     "shell.execute_reply": "2025-04-05T09:03:58.046060Z"
    },
    "papermill": {
     "duration": 0.038013,
     "end_time": "2025-04-05T09:03:58.048688",
     "exception": false,
     "start_time": "2025-04-05T09:03:58.010675",
     "status": "completed"
    },
    "tags": []
   },
   "outputs": [
    {
     "data": {
      "text/plain": [
       "3.141592653589793"
      ]
     },
     "execution_count": 19,
     "metadata": {},
     "output_type": "execute_result"
    }
   ],
   "source": [
    "math.pi #Get the constant pi"
   ]
  },
  {
   "cell_type": "markdown",
   "id": "61f721ab",
   "metadata": {
    "papermill": {
     "duration": 0.028526,
     "end_time": "2025-04-05T09:03:58.106738",
     "exception": false,
     "start_time": "2025-04-05T09:03:58.078212",
     "status": "completed"
    },
    "tags": []
   },
   "source": [
    "Rounding Numbers\n",
    "Base python contains a round() function that lets you round numbers to the nearest whole number. You can also round up or down with math.ceil and math.floor respectively."
   ]
  },
  {
   "cell_type": "code",
   "execution_count": 20,
   "id": "3843ca3e",
   "metadata": {
    "execution": {
     "iopub.execute_input": "2025-04-05T09:03:58.166839Z",
     "iopub.status.busy": "2025-04-05T09:03:58.166479Z",
     "iopub.status.idle": "2025-04-05T09:03:58.171725Z",
     "shell.execute_reply": "2025-04-05T09:03:58.170878Z"
    },
    "papermill": {
     "duration": 0.037618,
     "end_time": "2025-04-05T09:03:58.173301",
     "exception": false,
     "start_time": "2025-04-05T09:03:58.135683",
     "status": "completed"
    },
    "tags": []
   },
   "outputs": [
    {
     "data": {
      "text/plain": [
       "233"
      ]
     },
     "execution_count": 20,
     "metadata": {},
     "output_type": "execute_result"
    }
   ],
   "source": [
    "# Use round() to round a number to the nearest whole number\n",
    "round(233.234)"
   ]
  },
  {
   "cell_type": "code",
   "execution_count": 21,
   "id": "53d38b9d",
   "metadata": {
    "execution": {
     "iopub.execute_input": "2025-04-05T09:03:58.234727Z",
     "iopub.status.busy": "2025-04-05T09:03:58.234364Z",
     "iopub.status.idle": "2025-04-05T09:03:58.239920Z",
     "shell.execute_reply": "2025-04-05T09:03:58.238725Z"
    },
    "papermill": {
     "duration": 0.038892,
     "end_time": "2025-04-05T09:03:58.241491",
     "exception": false,
     "start_time": "2025-04-05T09:03:58.202599",
     "status": "completed"
    },
    "tags": []
   },
   "outputs": [
    {
     "data": {
      "text/plain": [
       "234"
      ]
     },
     "execution_count": 21,
     "metadata": {},
     "output_type": "execute_result"
    }
   ],
   "source": [
    "round(233.677)"
   ]
  },
  {
   "cell_type": "code",
   "execution_count": 22,
   "id": "ced76daf",
   "metadata": {
    "execution": {
     "iopub.execute_input": "2025-04-05T09:03:58.303208Z",
     "iopub.status.busy": "2025-04-05T09:03:58.302873Z",
     "iopub.status.idle": "2025-04-05T09:03:58.308373Z",
     "shell.execute_reply": "2025-04-05T09:03:58.307448Z"
    },
    "papermill": {
     "duration": 0.038012,
     "end_time": "2025-04-05T09:03:58.309880",
     "exception": false,
     "start_time": "2025-04-05T09:03:58.271868",
     "status": "completed"
    },
    "tags": []
   },
   "outputs": [
    {
     "data": {
      "text/plain": [
       "233.2"
      ]
     },
     "execution_count": 22,
     "metadata": {},
     "output_type": "execute_result"
    }
   ],
   "source": [
    "# add a second arguement to round to a specified decimal place\n",
    "round(233.234,1)"
   ]
  },
  {
   "cell_type": "code",
   "execution_count": 23,
   "id": "090c4980",
   "metadata": {
    "execution": {
     "iopub.execute_input": "2025-04-05T09:03:58.370919Z",
     "iopub.status.busy": "2025-04-05T09:03:58.370583Z",
     "iopub.status.idle": "2025-04-05T09:03:58.375963Z",
     "shell.execute_reply": "2025-04-05T09:03:58.375140Z"
    },
    "papermill": {
     "duration": 0.03751,
     "end_time": "2025-04-05T09:03:58.377483",
     "exception": false,
     "start_time": "2025-04-05T09:03:58.339973",
     "status": "completed"
    },
    "tags": []
   },
   "outputs": [
    {
     "data": {
      "text/plain": [
       "230.0"
      ]
     },
     "execution_count": 23,
     "metadata": {},
     "output_type": "execute_result"
    }
   ],
   "source": [
    "# Enter a negative number to round to the left of the decimal\n",
    "round(233.234,-1)  #round to the 10's place\n"
   ]
  },
  {
   "cell_type": "code",
   "execution_count": 24,
   "id": "18ef352f",
   "metadata": {
    "execution": {
     "iopub.execute_input": "2025-04-05T09:03:58.438398Z",
     "iopub.status.busy": "2025-04-05T09:03:58.437976Z",
     "iopub.status.idle": "2025-04-05T09:03:58.443502Z",
     "shell.execute_reply": "2025-04-05T09:03:58.442390Z"
    },
    "papermill": {
     "duration": 0.037767,
     "end_time": "2025-04-05T09:03:58.445111",
     "exception": false,
     "start_time": "2025-04-05T09:03:58.407344",
     "status": "completed"
    },
    "tags": []
   },
   "outputs": [
    {
     "data": {
      "text/plain": [
       "2"
      ]
     },
     "execution_count": 24,
     "metadata": {},
     "output_type": "execute_result"
    }
   ],
   "source": [
    "# Round down the nearest whole number with math.floor()\n",
    "import math\n",
    "math.floor(2.8)"
   ]
  },
  {
   "cell_type": "code",
   "execution_count": 25,
   "id": "89aa6068",
   "metadata": {
    "execution": {
     "iopub.execute_input": "2025-04-05T09:03:58.507434Z",
     "iopub.status.busy": "2025-04-05T09:03:58.507023Z",
     "iopub.status.idle": "2025-04-05T09:03:58.512758Z",
     "shell.execute_reply": "2025-04-05T09:03:58.511623Z"
    },
    "papermill": {
     "duration": 0.038807,
     "end_time": "2025-04-05T09:03:58.514425",
     "exception": false,
     "start_time": "2025-04-05T09:03:58.475618",
     "status": "completed"
    },
    "tags": []
   },
   "outputs": [
    {
     "data": {
      "text/plain": [
       "3"
      ]
     },
     "execution_count": 25,
     "metadata": {},
     "output_type": "execute_result"
    }
   ],
   "source": [
    "#Round up with math.ceil()\n",
    "math.ceil(2.2)"
   ]
  },
  {
   "cell_type": "markdown",
   "id": "9977e5d5",
   "metadata": {
    "papermill": {
     "duration": 0.030098,
     "end_time": "2025-04-05T09:03:58.575745",
     "exception": false,
     "start_time": "2025-04-05T09:03:58.545647",
     "status": "completed"
    },
    "tags": []
   },
   "source": [
    "Integers\n",
    "Integers or \"ints\" for short, are whole-numbered numeric values. Any positive or negative number (or 0) without a decimal is an integer in Python. Integer values have unlimited precision, meaning an integer is exact. You can check the type of a Python object with the type() function."
   ]
  },
  {
   "cell_type": "code",
   "execution_count": 26,
   "id": "d091f57b",
   "metadata": {
    "execution": {
     "iopub.execute_input": "2025-04-05T09:03:58.637643Z",
     "iopub.status.busy": "2025-04-05T09:03:58.637222Z",
     "iopub.status.idle": "2025-04-05T09:03:58.642815Z",
     "shell.execute_reply": "2025-04-05T09:03:58.641735Z"
    },
    "papermill": {
     "duration": 0.039132,
     "end_time": "2025-04-05T09:03:58.644851",
     "exception": false,
     "start_time": "2025-04-05T09:03:58.605719",
     "status": "completed"
    },
    "tags": []
   },
   "outputs": [
    {
     "data": {
      "text/plain": [
       "int"
      ]
     },
     "execution_count": 26,
     "metadata": {},
     "output_type": "execute_result"
    }
   ],
   "source": [
    "type(12)"
   ]
  },
  {
   "cell_type": "markdown",
   "id": "dd4b2d7d",
   "metadata": {
    "papermill": {
     "duration": 0.02979,
     "end_time": "2025-04-05T09:03:58.704969",
     "exception": false,
     "start_time": "2025-04-05T09:03:58.675179",
     "status": "completed"
    },
    "tags": []
   },
   "source": [
    "Above we see that the type of 12 is of type \"int\". You can also use function isinstance() to check whether an object is an object is an instance of a given type:"
   ]
  },
  {
   "cell_type": "code",
   "execution_count": 27,
   "id": "a80c128f",
   "metadata": {
    "execution": {
     "iopub.execute_input": "2025-04-05T09:03:58.766877Z",
     "iopub.status.busy": "2025-04-05T09:03:58.766532Z",
     "iopub.status.idle": "2025-04-05T09:03:58.772103Z",
     "shell.execute_reply": "2025-04-05T09:03:58.771296Z"
    },
    "papermill": {
     "duration": 0.038155,
     "end_time": "2025-04-05T09:03:58.773607",
     "exception": false,
     "start_time": "2025-04-05T09:03:58.735452",
     "status": "completed"
    },
    "tags": []
   },
   "outputs": [
    {
     "data": {
      "text/plain": [
       "True"
      ]
     },
     "execution_count": 27,
     "metadata": {},
     "output_type": "execute_result"
    }
   ],
   "source": [
    "# Check if 12 is an instance of type \"int\"\n",
    "isinstance(12,int)"
   ]
  },
  {
   "cell_type": "markdown",
   "id": "3e05e445",
   "metadata": {
    "papermill": {
     "duration": 0.030042,
     "end_time": "2025-04-05T09:03:58.834118",
     "exception": false,
     "start_time": "2025-04-05T09:03:58.804076",
     "status": "completed"
    },
    "tags": []
   },
   "source": [
    "The code output True confirms that 12 is an int"
   ]
  },
  {
   "cell_type": "code",
   "execution_count": 28,
   "id": "b797bf79",
   "metadata": {
    "execution": {
     "iopub.execute_input": "2025-04-05T09:03:58.897880Z",
     "iopub.status.busy": "2025-04-05T09:03:58.897541Z",
     "iopub.status.idle": "2025-04-05T09:03:58.902735Z",
     "shell.execute_reply": "2025-04-05T09:03:58.901780Z"
    },
    "papermill": {
     "duration": 0.039716,
     "end_time": "2025-04-05T09:03:58.904482",
     "exception": false,
     "start_time": "2025-04-05T09:03:58.864766",
     "status": "completed"
    },
    "tags": []
   },
   "outputs": [
    {
     "data": {
      "text/plain": [
       "0.3333333333333333"
      ]
     },
     "execution_count": 28,
     "metadata": {},
     "output_type": "execute_result"
    }
   ],
   "source": [
    "1/3"
   ]
  },
  {
   "cell_type": "code",
   "execution_count": 29,
   "id": "4beae8ae",
   "metadata": {
    "execution": {
     "iopub.execute_input": "2025-04-05T09:03:58.966623Z",
     "iopub.status.busy": "2025-04-05T09:03:58.966213Z",
     "iopub.status.idle": "2025-04-05T09:03:58.971747Z",
     "shell.execute_reply": "2025-04-05T09:03:58.970808Z"
    },
    "papermill": {
     "duration": 0.038085,
     "end_time": "2025-04-05T09:03:58.973178",
     "exception": false,
     "start_time": "2025-04-05T09:03:58.935093",
     "status": "completed"
    },
    "tags": []
   },
   "outputs": [
    {
     "data": {
      "text/plain": [
       "float"
      ]
     },
     "execution_count": 29,
     "metadata": {},
     "output_type": "execute_result"
    }
   ],
   "source": [
    "type(1/3)"
   ]
  },
  {
   "cell_type": "markdown",
   "id": "ee394f32",
   "metadata": {
    "papermill": {
     "duration": 0.030222,
     "end_time": "2025-04-05T09:03:59.034408",
     "exception": false,
     "start_time": "2025-04-05T09:03:59.004186",
     "status": "completed"
    },
    "tags": []
   },
   "source": [
    "Floats\n",
    "Floating point numbers or \"floats\" are numbers with decimal values. Unlike integers, floating point numbers don't have unlimited precision because irrational decimal numbers are infinitely long and therfore can't be stored in memory. Instead, the computer approximates the value of long decimals, so there can be small rounding errors in long floats."
   ]
  },
  {
   "cell_type": "code",
   "execution_count": 30,
   "id": "84a4dc16",
   "metadata": {
    "execution": {
     "iopub.execute_input": "2025-04-05T09:03:59.096391Z",
     "iopub.status.busy": "2025-04-05T09:03:59.096001Z",
     "iopub.status.idle": "2025-04-05T09:03:59.101113Z",
     "shell.execute_reply": "2025-04-05T09:03:59.100352Z"
    },
    "papermill": {
     "duration": 0.037603,
     "end_time": "2025-04-05T09:03:59.102738",
     "exception": false,
     "start_time": "2025-04-05T09:03:59.065135",
     "status": "completed"
    },
    "tags": []
   },
   "outputs": [
    {
     "data": {
      "text/plain": [
       "float"
      ]
     },
     "execution_count": 30,
     "metadata": {},
     "output_type": "execute_result"
    }
   ],
   "source": [
    "type(1.0)"
   ]
  },
  {
   "cell_type": "code",
   "execution_count": 31,
   "id": "084e3aba",
   "metadata": {
    "execution": {
     "iopub.execute_input": "2025-04-05T09:03:59.166056Z",
     "iopub.status.busy": "2025-04-05T09:03:59.165725Z",
     "iopub.status.idle": "2025-04-05T09:03:59.170806Z",
     "shell.execute_reply": "2025-04-05T09:03:59.169986Z"
    },
    "papermill": {
     "duration": 0.037907,
     "end_time": "2025-04-05T09:03:59.172283",
     "exception": false,
     "start_time": "2025-04-05T09:03:59.134376",
     "status": "completed"
    },
    "tags": []
   },
   "outputs": [
    {
     "data": {
      "text/plain": [
       "int"
      ]
     },
     "execution_count": 31,
     "metadata": {},
     "output_type": "execute_result"
    }
   ],
   "source": [
    "type(1)"
   ]
  },
  {
   "cell_type": "code",
   "execution_count": 32,
   "id": "7358b958",
   "metadata": {
    "execution": {
     "iopub.execute_input": "2025-04-05T09:03:59.236446Z",
     "iopub.status.busy": "2025-04-05T09:03:59.236056Z",
     "iopub.status.idle": "2025-04-05T09:03:59.241355Z",
     "shell.execute_reply": "2025-04-05T09:03:59.240520Z"
    },
    "papermill": {
     "duration": 0.039862,
     "end_time": "2025-04-05T09:03:59.242974",
     "exception": false,
     "start_time": "2025-04-05T09:03:59.203112",
     "status": "completed"
    },
    "tags": []
   },
   "outputs": [
    {
     "data": {
      "text/plain": [
       "True"
      ]
     },
     "execution_count": 32,
     "metadata": {},
     "output_type": "execute_result"
    }
   ],
   "source": [
    "isinstance(0.33333,float)"
   ]
  },
  {
   "cell_type": "markdown",
   "id": "70097c80",
   "metadata": {
    "papermill": {
     "duration": 0.030462,
     "end_time": "2025-04-05T09:03:59.304620",
     "exception": false,
     "start_time": "2025-04-05T09:03:59.274158",
     "status": "completed"
    },
    "tags": []
   },
   "source": [
    "If you use both floats and ints in the same math expression the result is a float:"
   ]
  },
  {
   "cell_type": "code",
   "execution_count": 33,
   "id": "ec228d50",
   "metadata": {
    "execution": {
     "iopub.execute_input": "2025-04-05T09:03:59.368087Z",
     "iopub.status.busy": "2025-04-05T09:03:59.367761Z",
     "iopub.status.idle": "2025-04-05T09:03:59.373279Z",
     "shell.execute_reply": "2025-04-05T09:03:59.372336Z"
    },
    "papermill": {
     "duration": 0.039281,
     "end_time": "2025-04-05T09:03:59.374766",
     "exception": false,
     "start_time": "2025-04-05T09:03:59.335485",
     "status": "completed"
    },
    "tags": []
   },
   "outputs": [
    {
     "data": {
      "text/plain": [
       "6.0"
      ]
     },
     "execution_count": 33,
     "metadata": {},
     "output_type": "execute_result"
    }
   ],
   "source": [
    "5+1.0"
   ]
  },
  {
   "cell_type": "markdown",
   "id": "03f7704f",
   "metadata": {
    "papermill": {
     "duration": 0.030917,
     "end_time": "2025-04-05T09:03:59.437318",
     "exception": false,
     "start_time": "2025-04-05T09:03:59.406401",
     "status": "completed"
    },
    "tags": []
   },
   "source": [
    "You can convert a float to an integer using the int() function"
   ]
  },
  {
   "cell_type": "code",
   "execution_count": 34,
   "id": "7a29ef7f",
   "metadata": {
    "execution": {
     "iopub.execute_input": "2025-04-05T09:03:59.504062Z",
     "iopub.status.busy": "2025-04-05T09:03:59.503716Z",
     "iopub.status.idle": "2025-04-05T09:03:59.509028Z",
     "shell.execute_reply": "2025-04-05T09:03:59.508231Z"
    },
    "papermill": {
     "duration": 0.041784,
     "end_time": "2025-04-05T09:03:59.510478",
     "exception": false,
     "start_time": "2025-04-05T09:03:59.468694",
     "status": "completed"
    },
    "tags": []
   },
   "outputs": [
    {
     "data": {
      "text/plain": [
       "6"
      ]
     },
     "execution_count": 34,
     "metadata": {},
     "output_type": "execute_result"
    }
   ],
   "source": [
    "int(6.0)"
   ]
  },
  {
   "cell_type": "markdown",
   "id": "d25f71f2",
   "metadata": {
    "papermill": {
     "duration": 0.031404,
     "end_time": "2025-04-05T09:03:59.574393",
     "exception": false,
     "start_time": "2025-04-05T09:03:59.542989",
     "status": "completed"
    },
    "tags": []
   },
   "source": [
    "You can convert an integer to a float with the float() function"
   ]
  },
  {
   "cell_type": "code",
   "execution_count": 35,
   "id": "d8a6c412",
   "metadata": {
    "execution": {
     "iopub.execute_input": "2025-04-05T09:03:59.640848Z",
     "iopub.status.busy": "2025-04-05T09:03:59.640506Z",
     "iopub.status.idle": "2025-04-05T09:03:59.645663Z",
     "shell.execute_reply": "2025-04-05T09:03:59.644662Z"
    },
    "papermill": {
     "duration": 0.041112,
     "end_time": "2025-04-05T09:03:59.647112",
     "exception": false,
     "start_time": "2025-04-05T09:03:59.606000",
     "status": "completed"
    },
    "tags": []
   },
   "outputs": [
    {
     "data": {
      "text/plain": [
       "6.0"
      ]
     },
     "execution_count": 35,
     "metadata": {},
     "output_type": "execute_result"
    }
   ],
   "source": [
    "float(6)"
   ]
  },
  {
   "cell_type": "markdown",
   "id": "c63219e0",
   "metadata": {
    "papermill": {
     "duration": 0.030888,
     "end_time": "2025-04-05T09:03:59.710752",
     "exception": false,
     "start_time": "2025-04-05T09:03:59.679864",
     "status": "completed"
    },
    "tags": []
   },
   "source": [
    "Floats can also take on a few special values: Inf, -Inf and NaN. Inf and -Inf stand for infinity and negative infinity respectively and NaN stands for \"Not a number\", which is sometimes used as a placeholder for missing or erroneous numerical values."
   ]
  },
  {
   "cell_type": "code",
   "execution_count": 36,
   "id": "e6eded10",
   "metadata": {
    "execution": {
     "iopub.execute_input": "2025-04-05T09:03:59.775636Z",
     "iopub.status.busy": "2025-04-05T09:03:59.775272Z",
     "iopub.status.idle": "2025-04-05T09:03:59.780735Z",
     "shell.execute_reply": "2025-04-05T09:03:59.779763Z"
    },
    "papermill": {
     "duration": 0.04033,
     "end_time": "2025-04-05T09:03:59.782353",
     "exception": false,
     "start_time": "2025-04-05T09:03:59.742023",
     "status": "completed"
    },
    "tags": []
   },
   "outputs": [
    {
     "data": {
      "text/plain": [
       "float"
      ]
     },
     "execution_count": 36,
     "metadata": {},
     "output_type": "execute_result"
    }
   ],
   "source": [
    "type(float(\"Inf\"))"
   ]
  },
  {
   "cell_type": "code",
   "execution_count": 37,
   "id": "c58b8ff7",
   "metadata": {
    "execution": {
     "iopub.execute_input": "2025-04-05T09:03:59.847848Z",
     "iopub.status.busy": "2025-04-05T09:03:59.847474Z",
     "iopub.status.idle": "2025-04-05T09:03:59.853124Z",
     "shell.execute_reply": "2025-04-05T09:03:59.852172Z"
    },
    "papermill": {
     "duration": 0.040878,
     "end_time": "2025-04-05T09:03:59.854756",
     "exception": false,
     "start_time": "2025-04-05T09:03:59.813878",
     "status": "completed"
    },
    "tags": []
   },
   "outputs": [
    {
     "data": {
      "text/plain": [
       "float"
      ]
     },
     "execution_count": 37,
     "metadata": {},
     "output_type": "execute_result"
    }
   ],
   "source": [
    "type(float(\"NaN\"))"
   ]
  },
  {
   "cell_type": "markdown",
   "id": "a6e5e4bd",
   "metadata": {
    "papermill": {
     "duration": 0.031054,
     "end_time": "2025-04-05T09:03:59.917560",
     "exception": false,
     "start_time": "2025-04-05T09:03:59.886506",
     "status": "completed"
    },
    "tags": []
   },
   "source": [
    "Booleans\n",
    "Booleans or \"Bools\" are true/false values that result from logical statements. True or False"
   ]
  },
  {
   "cell_type": "code",
   "execution_count": 38,
   "id": "13a94595",
   "metadata": {
    "execution": {
     "iopub.execute_input": "2025-04-05T09:04:00.035342Z",
     "iopub.status.busy": "2025-04-05T09:04:00.034897Z",
     "iopub.status.idle": "2025-04-05T09:04:00.040848Z",
     "shell.execute_reply": "2025-04-05T09:04:00.039758Z"
    },
    "papermill": {
     "duration": 0.093436,
     "end_time": "2025-04-05T09:04:00.042294",
     "exception": false,
     "start_time": "2025-04-05T09:03:59.948858",
     "status": "completed"
    },
    "tags": []
   },
   "outputs": [
    {
     "data": {
      "text/plain": [
       "bool"
      ]
     },
     "execution_count": 38,
     "metadata": {},
     "output_type": "execute_result"
    }
   ],
   "source": [
    "type(True)"
   ]
  },
  {
   "cell_type": "code",
   "execution_count": 39,
   "id": "c2215475",
   "metadata": {
    "execution": {
     "iopub.execute_input": "2025-04-05T09:04:00.107411Z",
     "iopub.status.busy": "2025-04-05T09:04:00.106992Z",
     "iopub.status.idle": "2025-04-05T09:04:00.112566Z",
     "shell.execute_reply": "2025-04-05T09:04:00.111557Z"
    },
    "papermill": {
     "duration": 0.039925,
     "end_time": "2025-04-05T09:04:00.114100",
     "exception": false,
     "start_time": "2025-04-05T09:04:00.074175",
     "status": "completed"
    },
    "tags": []
   },
   "outputs": [
    {
     "data": {
      "text/plain": [
       "True"
      ]
     },
     "execution_count": 39,
     "metadata": {},
     "output_type": "execute_result"
    }
   ],
   "source": [
    "isinstance(False,bool) #Check if False "
   ]
  },
  {
   "cell_type": "markdown",
   "id": "5356f99b",
   "metadata": {
    "papermill": {
     "duration": 0.031088,
     "end_time": "2025-04-05T09:04:00.176666",
     "exception": false,
     "start_time": "2025-04-05T09:04:00.145578",
     "status": "completed"
    },
    "tags": []
   },
   "source": [
    "You can create boolean values with logical expressions. Python supports all of the standard logic operators you'd expect:"
   ]
  },
  {
   "cell_type": "code",
   "execution_count": 40,
   "id": "cc9a88cd",
   "metadata": {
    "execution": {
     "iopub.execute_input": "2025-04-05T09:04:00.256307Z",
     "iopub.status.busy": "2025-04-05T09:04:00.255869Z",
     "iopub.status.idle": "2025-04-05T09:04:00.261301Z",
     "shell.execute_reply": "2025-04-05T09:04:00.260334Z"
    },
    "papermill": {
     "duration": 0.048333,
     "end_time": "2025-04-05T09:04:00.262781",
     "exception": false,
     "start_time": "2025-04-05T09:04:00.214448",
     "status": "completed"
    },
    "tags": []
   },
   "outputs": [
    {
     "data": {
      "text/plain": [
       "True"
      ]
     },
     "execution_count": 40,
     "metadata": {},
     "output_type": "execute_result"
    }
   ],
   "source": [
    "#Use > and < for greator than and less than :\n",
    "20 > 10"
   ]
  },
  {
   "cell_type": "code",
   "execution_count": 41,
   "id": "f098dc0e",
   "metadata": {
    "execution": {
     "iopub.execute_input": "2025-04-05T09:04:00.327665Z",
     "iopub.status.busy": "2025-04-05T09:04:00.327271Z",
     "iopub.status.idle": "2025-04-05T09:04:00.332599Z",
     "shell.execute_reply": "2025-04-05T09:04:00.331594Z"
    },
    "papermill": {
     "duration": 0.039523,
     "end_time": "2025-04-05T09:04:00.334040",
     "exception": false,
     "start_time": "2025-04-05T09:04:00.294517",
     "status": "completed"
    },
    "tags": []
   },
   "outputs": [
    {
     "data": {
      "text/plain": [
       "False"
      ]
     },
     "execution_count": 41,
     "metadata": {},
     "output_type": "execute_result"
    }
   ],
   "source": [
    "20 < 5"
   ]
  },
  {
   "cell_type": "code",
   "execution_count": 42,
   "id": "ceac1629",
   "metadata": {
    "execution": {
     "iopub.execute_input": "2025-04-05T09:04:00.429543Z",
     "iopub.status.busy": "2025-04-05T09:04:00.429132Z",
     "iopub.status.idle": "2025-04-05T09:04:00.434960Z",
     "shell.execute_reply": "2025-04-05T09:04:00.433832Z"
    },
    "papermill": {
     "duration": 0.060773,
     "end_time": "2025-04-05T09:04:00.436607",
     "exception": false,
     "start_time": "2025-04-05T09:04:00.375834",
     "status": "completed"
    },
    "tags": []
   },
   "outputs": [
    {
     "data": {
      "text/plain": [
       "True"
      ]
     },
     "execution_count": 42,
     "metadata": {},
     "output_type": "execute_result"
    }
   ],
   "source": [
    "# use >= and <= for greater than or equal and less than or equal :\n",
    "20 >= 20"
   ]
  },
  {
   "cell_type": "code",
   "execution_count": 43,
   "id": "eb1c21fa",
   "metadata": {
    "execution": {
     "iopub.execute_input": "2025-04-05T09:04:00.511748Z",
     "iopub.status.busy": "2025-04-05T09:04:00.511280Z",
     "iopub.status.idle": "2025-04-05T09:04:00.517879Z",
     "shell.execute_reply": "2025-04-05T09:04:00.516756Z"
    },
    "papermill": {
     "duration": 0.042514,
     "end_time": "2025-04-05T09:04:00.520036",
     "exception": false,
     "start_time": "2025-04-05T09:04:00.477522",
     "status": "completed"
    },
    "tags": []
   },
   "outputs": [
    {
     "data": {
      "text/plain": [
       "True"
      ]
     },
     "execution_count": 43,
     "metadata": {},
     "output_type": "execute_result"
    }
   ],
   "source": [
    "#use == (two equal signs in a row) to check equality:\n",
    "10 == 10"
   ]
  },
  {
   "cell_type": "code",
   "execution_count": 44,
   "id": "695c77f6",
   "metadata": {
    "execution": {
     "iopub.execute_input": "2025-04-05T09:04:00.594813Z",
     "iopub.status.busy": "2025-04-05T09:04:00.594423Z",
     "iopub.status.idle": "2025-04-05T09:04:00.599816Z",
     "shell.execute_reply": "2025-04-05T09:04:00.598851Z"
    },
    "papermill": {
     "duration": 0.040681,
     "end_time": "2025-04-05T09:04:00.601308",
     "exception": false,
     "start_time": "2025-04-05T09:04:00.560627",
     "status": "completed"
    },
    "tags": []
   },
   "outputs": [
    {
     "data": {
      "text/plain": [
       "True"
      ]
     },
     "execution_count": 44,
     "metadata": {},
     "output_type": "execute_result"
    }
   ],
   "source": [
    "40 == 40.0  #Equivalent ints and floats are considered equal"
   ]
  },
  {
   "cell_type": "code",
   "execution_count": 45,
   "id": "9f3f4bdd",
   "metadata": {
    "execution": {
     "iopub.execute_input": "2025-04-05T09:04:00.667528Z",
     "iopub.status.busy": "2025-04-05T09:04:00.667127Z",
     "iopub.status.idle": "2025-04-05T09:04:00.672212Z",
     "shell.execute_reply": "2025-04-05T09:04:00.671310Z"
    },
    "papermill": {
     "duration": 0.039422,
     "end_time": "2025-04-05T09:04:00.673731",
     "exception": false,
     "start_time": "2025-04-05T09:04:00.634309",
     "status": "completed"
    },
    "tags": []
   },
   "outputs": [
    {
     "data": {
      "text/plain": [
       "True"
      ]
     },
     "execution_count": 45,
     "metadata": {},
     "output_type": "execute_result"
    }
   ],
   "source": [
    "#Use != to check inequality. (think of != as \"not equal to\")\n",
    "1 != 2"
   ]
  },
  {
   "cell_type": "code",
   "execution_count": 46,
   "id": "c2f9b1a3",
   "metadata": {
    "execution": {
     "iopub.execute_input": "2025-04-05T09:04:00.739853Z",
     "iopub.status.busy": "2025-04-05T09:04:00.739497Z",
     "iopub.status.idle": "2025-04-05T09:04:00.744579Z",
     "shell.execute_reply": "2025-04-05T09:04:00.743628Z"
    },
    "papermill": {
     "duration": 0.039639,
     "end_time": "2025-04-05T09:04:00.746073",
     "exception": false,
     "start_time": "2025-04-05T09:04:00.706434",
     "status": "completed"
    },
    "tags": []
   },
   "outputs": [
    {
     "data": {
      "text/plain": [
       "True"
      ]
     },
     "execution_count": 46,
     "metadata": {},
     "output_type": "execute_result"
    }
   ],
   "source": [
    "# Use the keyword \"not\" for negation:\n",
    "not False"
   ]
  },
  {
   "cell_type": "code",
   "execution_count": 47,
   "id": "9c507587",
   "metadata": {
    "execution": {
     "iopub.execute_input": "2025-04-05T09:04:00.812456Z",
     "iopub.status.busy": "2025-04-05T09:04:00.812035Z",
     "iopub.status.idle": "2025-04-05T09:04:00.817307Z",
     "shell.execute_reply": "2025-04-05T09:04:00.816416Z"
    },
    "papermill": {
     "duration": 0.040124,
     "end_time": "2025-04-05T09:04:00.818850",
     "exception": false,
     "start_time": "2025-04-05T09:04:00.778726",
     "status": "completed"
    },
    "tags": []
   },
   "outputs": [
    {
     "data": {
      "text/plain": [
       "False"
      ]
     },
     "execution_count": 47,
     "metadata": {},
     "output_type": "execute_result"
    }
   ],
   "source": [
    "#Use the keyword \"and\" for logical and:\n",
    "(2>1) and (10>11)"
   ]
  },
  {
   "cell_type": "code",
   "execution_count": 48,
   "id": "e808cfc1",
   "metadata": {
    "execution": {
     "iopub.execute_input": "2025-04-05T09:04:00.885865Z",
     "iopub.status.busy": "2025-04-05T09:04:00.885511Z",
     "iopub.status.idle": "2025-04-05T09:04:00.890977Z",
     "shell.execute_reply": "2025-04-05T09:04:00.890031Z"
    },
    "papermill": {
     "duration": 0.040678,
     "end_time": "2025-04-05T09:04:00.892473",
     "exception": false,
     "start_time": "2025-04-05T09:04:00.851795",
     "status": "completed"
    },
    "tags": []
   },
   "outputs": [
    {
     "data": {
      "text/plain": [
       "True"
      ]
     },
     "execution_count": 48,
     "metadata": {},
     "output_type": "execute_result"
    }
   ],
   "source": [
    "#Use the keyword \"or\" for logical or:\n",
    "(2>1) or (10>11)"
   ]
  },
  {
   "cell_type": "code",
   "execution_count": 49,
   "id": "0c503e60",
   "metadata": {
    "execution": {
     "iopub.execute_input": "2025-04-05T09:04:00.958841Z",
     "iopub.status.busy": "2025-04-05T09:04:00.958499Z",
     "iopub.status.idle": "2025-04-05T09:04:00.963928Z",
     "shell.execute_reply": "2025-04-05T09:04:00.962797Z"
    },
    "papermill": {
     "duration": 0.040371,
     "end_time": "2025-04-05T09:04:00.965556",
     "exception": false,
     "start_time": "2025-04-05T09:04:00.925185",
     "status": "completed"
    },
    "tags": []
   },
   "outputs": [
    {
     "data": {
      "text/plain": [
       "True"
      ]
     },
     "execution_count": 49,
     "metadata": {},
     "output_type": "execute_result"
    }
   ],
   "source": [
    "2>1 or  10<8 and not True"
   ]
  },
  {
   "cell_type": "code",
   "execution_count": 50,
   "id": "e7932b5e",
   "metadata": {
    "execution": {
     "iopub.execute_input": "2025-04-05T09:04:01.032186Z",
     "iopub.status.busy": "2025-04-05T09:04:01.031831Z",
     "iopub.status.idle": "2025-04-05T09:04:01.037451Z",
     "shell.execute_reply": "2025-04-05T09:04:01.036473Z"
    },
    "papermill": {
     "duration": 0.040701,
     "end_time": "2025-04-05T09:04:01.038947",
     "exception": false,
     "start_time": "2025-04-05T09:04:00.998246",
     "status": "completed"
    },
    "tags": []
   },
   "outputs": [
    {
     "data": {
      "text/plain": [
       "False"
      ]
     },
     "execution_count": 50,
     "metadata": {},
     "output_type": "execute_result"
    }
   ],
   "source": [
    "((2>1) or (10<8)) and (not True)"
   ]
  },
  {
   "cell_type": "markdown",
   "id": "26af7d4a",
   "metadata": {
    "papermill": {
     "duration": 0.032255,
     "end_time": "2025-04-05T09:04:01.104367",
     "exception": false,
     "start_time": "2025-04-05T09:04:01.072112",
     "status": "completed"
    },
    "tags": []
   },
   "source": [
    "You can convert numbers into boolean values using the bool() function. All numbers other than 0 convert to True:"
   ]
  },
  {
   "cell_type": "code",
   "execution_count": 51,
   "id": "f090566c",
   "metadata": {
    "execution": {
     "iopub.execute_input": "2025-04-05T09:04:01.170470Z",
     "iopub.status.busy": "2025-04-05T09:04:01.170081Z",
     "iopub.status.idle": "2025-04-05T09:04:01.175618Z",
     "shell.execute_reply": "2025-04-05T09:04:01.174567Z"
    },
    "papermill": {
     "duration": 0.0403,
     "end_time": "2025-04-05T09:04:01.177073",
     "exception": false,
     "start_time": "2025-04-05T09:04:01.136773",
     "status": "completed"
    },
    "tags": []
   },
   "outputs": [
    {
     "data": {
      "text/plain": [
       "True"
      ]
     },
     "execution_count": 51,
     "metadata": {},
     "output_type": "execute_result"
    }
   ],
   "source": [
    "bool(1)"
   ]
  },
  {
   "cell_type": "code",
   "execution_count": 52,
   "id": "54af80c3",
   "metadata": {
    "execution": {
     "iopub.execute_input": "2025-04-05T09:04:01.245351Z",
     "iopub.status.busy": "2025-04-05T09:04:01.244939Z",
     "iopub.status.idle": "2025-04-05T09:04:01.250193Z",
     "shell.execute_reply": "2025-04-05T09:04:01.249324Z"
    },
    "papermill": {
     "duration": 0.04184,
     "end_time": "2025-04-05T09:04:01.251825",
     "exception": false,
     "start_time": "2025-04-05T09:04:01.209985",
     "status": "completed"
    },
    "tags": []
   },
   "outputs": [
    {
     "data": {
      "text/plain": [
       "False"
      ]
     },
     "execution_count": 52,
     "metadata": {},
     "output_type": "execute_result"
    }
   ],
   "source": [
    "bool(0)"
   ]
  },
  {
   "cell_type": "markdown",
   "id": "436be29e",
   "metadata": {
    "papermill": {
     "duration": 0.032185,
     "end_time": "2025-04-05T09:04:01.316679",
     "exception": false,
     "start_time": "2025-04-05T09:04:01.284494",
     "status": "completed"
    },
    "tags": []
   },
   "source": [
    "# Strings"
   ]
  },
  {
   "cell_type": "markdown",
   "id": "c60babe5",
   "metadata": {
    "papermill": {
     "duration": 0.032599,
     "end_time": "2025-04-05T09:04:01.381939",
     "exception": false,
     "start_time": "2025-04-05T09:04:01.349340",
     "status": "completed"
    },
    "tags": []
   },
   "source": [
    "Text data in Python is known as string or \"str\". Surround text with single or double quotation marks to create a string:"
   ]
  },
  {
   "cell_type": "code",
   "execution_count": 53,
   "id": "d70be512",
   "metadata": {
    "execution": {
     "iopub.execute_input": "2025-04-05T09:04:01.449484Z",
     "iopub.status.busy": "2025-04-05T09:04:01.449081Z",
     "iopub.status.idle": "2025-04-05T09:04:01.454434Z",
     "shell.execute_reply": "2025-04-05T09:04:01.453537Z"
    },
    "papermill": {
     "duration": 0.041052,
     "end_time": "2025-04-05T09:04:01.455894",
     "exception": false,
     "start_time": "2025-04-05T09:04:01.414842",
     "status": "completed"
    },
    "tags": []
   },
   "outputs": [
    {
     "data": {
      "text/plain": [
       "str"
      ]
     },
     "execution_count": 53,
     "metadata": {},
     "output_type": "execute_result"
    }
   ],
   "source": [
    "type(\"cat\")"
   ]
  },
  {
   "cell_type": "code",
   "execution_count": 54,
   "id": "e67dfe54",
   "metadata": {
    "execution": {
     "iopub.execute_input": "2025-04-05T09:04:01.523113Z",
     "iopub.status.busy": "2025-04-05T09:04:01.522772Z",
     "iopub.status.idle": "2025-04-05T09:04:01.528024Z",
     "shell.execute_reply": "2025-04-05T09:04:01.527229Z"
    },
    "papermill": {
     "duration": 0.040437,
     "end_time": "2025-04-05T09:04:01.529494",
     "exception": false,
     "start_time": "2025-04-05T09:04:01.489057",
     "status": "completed"
    },
    "tags": []
   },
   "outputs": [
    {
     "data": {
      "text/plain": [
       "str"
      ]
     },
     "execution_count": 54,
     "metadata": {},
     "output_type": "execute_result"
    }
   ],
   "source": [
    "type('1')"
   ]
  },
  {
   "cell_type": "markdown",
   "id": "3027c7a5",
   "metadata": {
    "papermill": {
     "duration": 0.03271,
     "end_time": "2025-04-05T09:04:01.596425",
     "exception": false,
     "start_time": "2025-04-05T09:04:01.563715",
     "status": "completed"
    },
    "tags": []
   },
   "source": [
    "# None\n",
    "In python, \"None\" is a special data type that is often used to represent a missing value. for example, if you define a function that doesn't return anything it will return \"None\" by default."
   ]
  },
  {
   "cell_type": "code",
   "execution_count": 55,
   "id": "043b6dab",
   "metadata": {
    "execution": {
     "iopub.execute_input": "2025-04-05T09:04:01.665142Z",
     "iopub.status.busy": "2025-04-05T09:04:01.664819Z",
     "iopub.status.idle": "2025-04-05T09:04:01.669984Z",
     "shell.execute_reply": "2025-04-05T09:04:01.669154Z"
    },
    "papermill": {
     "duration": 0.041265,
     "end_time": "2025-04-05T09:04:01.671644",
     "exception": false,
     "start_time": "2025-04-05T09:04:01.630379",
     "status": "completed"
    },
    "tags": []
   },
   "outputs": [
    {
     "data": {
      "text/plain": [
       "NoneType"
      ]
     },
     "execution_count": 55,
     "metadata": {},
     "output_type": "execute_result"
    }
   ],
   "source": [
    "type(None)"
   ]
  },
  {
   "cell_type": "code",
   "execution_count": 56,
   "id": "12443d9e",
   "metadata": {
    "execution": {
     "iopub.execute_input": "2025-04-05T09:04:01.738969Z",
     "iopub.status.busy": "2025-04-05T09:04:01.738654Z",
     "iopub.status.idle": "2025-04-05T09:04:01.745223Z",
     "shell.execute_reply": "2025-04-05T09:04:01.744372Z"
    },
    "papermill": {
     "duration": 0.04193,
     "end_time": "2025-04-05T09:04:01.746799",
     "exception": false,
     "start_time": "2025-04-05T09:04:01.704869",
     "status": "completed"
    },
    "tags": []
   },
   "outputs": [
    {
     "name": "stdout",
     "output_type": "stream",
     "text": [
      "hello\n"
     ]
    },
    {
     "data": {
      "text/plain": [
       "True"
      ]
     },
     "execution_count": 56,
     "metadata": {},
     "output_type": "execute_result"
    }
   ],
   "source": [
    "#Define a function that prints the input but returns nothing\n",
    "def my_function(x):\n",
    "    print(x)\n",
    "my_function(\"hello\") == None  #the output of my_function equals None\n",
    "\n"
   ]
  },
  {
   "cell_type": "code",
   "execution_count": 57,
   "id": "3e31ba6c",
   "metadata": {
    "execution": {
     "iopub.execute_input": "2025-04-05T09:04:01.815669Z",
     "iopub.status.busy": "2025-04-05T09:04:01.815245Z",
     "iopub.status.idle": "2025-04-05T09:04:01.820482Z",
     "shell.execute_reply": "2025-04-05T09:04:01.819538Z"
    },
    "papermill": {
     "duration": 0.04064,
     "end_time": "2025-04-05T09:04:01.821850",
     "exception": false,
     "start_time": "2025-04-05T09:04:01.781210",
     "status": "completed"
    },
    "tags": []
   },
   "outputs": [
    {
     "data": {
      "text/plain": [
       "False"
      ]
     },
     "execution_count": 57,
     "metadata": {},
     "output_type": "execute_result"
    }
   ],
   "source": [
    "\"hello\"==None"
   ]
  },
  {
   "cell_type": "code",
   "execution_count": 58,
   "id": "183c893a",
   "metadata": {
    "execution": {
     "iopub.execute_input": "2025-04-05T09:04:01.889945Z",
     "iopub.status.busy": "2025-04-05T09:04:01.889583Z",
     "iopub.status.idle": "2025-04-05T09:04:01.894933Z",
     "shell.execute_reply": "2025-04-05T09:04:01.894075Z"
    },
    "papermill": {
     "duration": 0.040696,
     "end_time": "2025-04-05T09:04:01.896277",
     "exception": false,
     "start_time": "2025-04-05T09:04:01.855581",
     "status": "completed"
    },
    "tags": []
   },
   "outputs": [
    {
     "data": {
      "text/plain": [
       "False"
      ]
     },
     "execution_count": 58,
     "metadata": {},
     "output_type": "execute_result"
    }
   ],
   "source": [
    "x=\"hello\"\n",
    "x==None"
   ]
  },
  {
   "cell_type": "markdown",
   "id": "b3bb7bce",
   "metadata": {
    "papermill": {
     "duration": 0.033586,
     "end_time": "2025-04-05T09:04:01.963756",
     "exception": false,
     "start_time": "2025-04-05T09:04:01.930170",
     "status": "completed"
    },
    "tags": []
   },
   "source": [
    "#Assigning Variable "
   ]
  },
  {
   "cell_type": "code",
   "execution_count": 59,
   "id": "6f598275",
   "metadata": {
    "execution": {
     "iopub.execute_input": "2025-04-05T09:04:02.032081Z",
     "iopub.status.busy": "2025-04-05T09:04:02.031759Z",
     "iopub.status.idle": "2025-04-05T09:04:02.037668Z",
     "shell.execute_reply": "2025-04-05T09:04:02.036690Z"
    },
    "papermill": {
     "duration": 0.041812,
     "end_time": "2025-04-05T09:04:02.039175",
     "exception": false,
     "start_time": "2025-04-05T09:04:01.997363",
     "status": "completed"
    },
    "tags": []
   },
   "outputs": [
    {
     "name": "stdout",
     "output_type": "stream",
     "text": [
      "10\n",
      "Python is fun\n",
      "True\n"
     ]
    }
   ],
   "source": [
    "x = 10\n",
    "y = \"Python is fun\"\n",
    "z = 144**0.5 == 12\n",
    "print(x)\n",
    "print(y)\n",
    "print(z)\n"
   ]
  },
  {
   "cell_type": "markdown",
   "id": "c5c51e14",
   "metadata": {
    "papermill": {
     "duration": 0.032946,
     "end_time": "2025-04-05T09:04:02.105712",
     "exception": false,
     "start_time": "2025-04-05T09:04:02.072766",
     "status": "completed"
    },
    "tags": []
   },
   "source": [
    "Note : assigning a variable does not produce any output"
   ]
  },
  {
   "cell_type": "code",
   "execution_count": 60,
   "id": "ea597ddd",
   "metadata": {
    "execution": {
     "iopub.execute_input": "2025-04-05T09:04:02.174727Z",
     "iopub.status.busy": "2025-04-05T09:04:02.174403Z",
     "iopub.status.idle": "2025-04-05T09:04:02.179239Z",
     "shell.execute_reply": "2025-04-05T09:04:02.178328Z"
    },
    "papermill": {
     "duration": 0.040635,
     "end_time": "2025-04-05T09:04:02.180654",
     "exception": false,
     "start_time": "2025-04-05T09:04:02.140019",
     "status": "completed"
    },
    "tags": []
   },
   "outputs": [
    {
     "name": "stdout",
     "output_type": "stream",
     "text": [
      "4\n",
      "4\n"
     ]
    }
   ],
   "source": [
    "n = m = 4\n",
    "print(n)\n",
    "print(m)"
   ]
  },
  {
   "cell_type": "markdown",
   "id": "804adafd",
   "metadata": {
    "papermill": {
     "duration": 0.03487,
     "end_time": "2025-04-05T09:04:02.249411",
     "exception": false,
     "start_time": "2025-04-05T09:04:02.214541",
     "status": "completed"
    },
    "tags": []
   },
   "source": [
    "You can also assign several different variables at the same time using a comma separated sequence of variable names followed by the assignment operator and a comma separated sequence of values inside parameters:"
   ]
  },
  {
   "cell_type": "code",
   "execution_count": 61,
   "id": "9f3781c0",
   "metadata": {
    "execution": {
     "iopub.execute_input": "2025-04-05T09:04:02.317133Z",
     "iopub.status.busy": "2025-04-05T09:04:02.316802Z",
     "iopub.status.idle": "2025-04-05T09:04:02.322519Z",
     "shell.execute_reply": "2025-04-05T09:04:02.321464Z"
    },
    "papermill": {
     "duration": 0.041281,
     "end_time": "2025-04-05T09:04:02.323972",
     "exception": false,
     "start_time": "2025-04-05T09:04:02.282691",
     "status": "completed"
    },
    "tags": []
   },
   "outputs": [
    {
     "name": "stdout",
     "output_type": "stream",
     "text": [
      "10\n",
      "20\n",
      "30\n"
     ]
    }
   ],
   "source": [
    "# Assign 3 variables at the same time:\n",
    "x, y, z = (10,20,30)\n",
    "\n",
    "print(x)\n",
    "print(y)\n",
    "print(z)"
   ]
  },
  {
   "cell_type": "markdown",
   "id": "c731cb8e",
   "metadata": {
    "papermill": {
     "duration": 0.033414,
     "end_time": "2025-04-05T09:04:02.391288",
     "exception": false,
     "start_time": "2025-04-05T09:04:02.357874",
     "status": "completed"
    },
    "tags": []
   },
   "source": [
    "This method of extracting variables from a comma separated sequence is know as tuple unpacking"
   ]
  },
  {
   "cell_type": "code",
   "execution_count": 62,
   "id": "77a33771",
   "metadata": {
    "execution": {
     "iopub.execute_input": "2025-04-05T09:04:02.461475Z",
     "iopub.status.busy": "2025-04-05T09:04:02.461042Z",
     "iopub.status.idle": "2025-04-05T09:04:02.466056Z",
     "shell.execute_reply": "2025-04-05T09:04:02.465022Z"
    },
    "papermill": {
     "duration": 0.041562,
     "end_time": "2025-04-05T09:04:02.467611",
     "exception": false,
     "start_time": "2025-04-05T09:04:02.426049",
     "status": "completed"
    },
    "tags": []
   },
   "outputs": [
    {
     "name": "stdout",
     "output_type": "stream",
     "text": [
      "20\n",
      "10\n"
     ]
    }
   ],
   "source": [
    "#You can swap the values of two variables using a similar syntax:\n",
    "(x, y)=(y, x)\n",
    "print(x)\n",
    "print(y)"
   ]
  },
  {
   "cell_type": "markdown",
   "id": "8cb4bf78",
   "metadata": {
    "papermill": {
     "duration": 0.034037,
     "end_time": "2025-04-05T09:04:02.535498",
     "exception": false,
     "start_time": "2025-04-05T09:04:02.501461",
     "status": "completed"
    },
    "tags": []
   },
   "source": [
    "When you assign a variable in Python, the variable is a reference to a specific object in the computer's memory. Reassigning a variable simply switches the reference to a different object in memory. If the object a variable refers to in memory is altered in some way, the value of the variable corresponding to the altered object will also change. All of the basic data types we've seen thus far are immutable, meaning they cannot be changed after they are created. If you perform some operation that appears to alter an immutable object, it is actually creating a totally new object in a memory, rather than changing the original immutable object."
   ]
  },
  {
   "cell_type": "code",
   "execution_count": 63,
   "id": "830a706a",
   "metadata": {
    "execution": {
     "iopub.execute_input": "2025-04-05T09:04:02.606217Z",
     "iopub.status.busy": "2025-04-05T09:04:02.605885Z",
     "iopub.status.idle": "2025-04-05T09:04:02.610930Z",
     "shell.execute_reply": "2025-04-05T09:04:02.610091Z"
    },
    "papermill": {
     "duration": 0.042016,
     "end_time": "2025-04-05T09:04:02.612352",
     "exception": false,
     "start_time": "2025-04-05T09:04:02.570336",
     "status": "completed"
    },
    "tags": []
   },
   "outputs": [
    {
     "name": "stdout",
     "output_type": "stream",
     "text": [
      "Hello\n",
      "hello\n"
     ]
    }
   ],
   "source": [
    "#Consider the following example:\n",
    "x = \"Hello\"    #Create a new string\n",
    "y = x          #Assign y the same object as x\n",
    "y = y.lower()  #Assign y the result of y.lower()\n",
    "print(x)\n",
    "print(y)"
   ]
  },
  {
   "cell_type": "markdown",
   "id": "bf75e250",
   "metadata": {
    "papermill": {
     "duration": 0.033917,
     "end_time": "2025-04-05T09:04:02.680580",
     "exception": false,
     "start_time": "2025-04-05T09:04:02.646663",
     "status": "completed"
    },
    "tags": []
   },
   "source": [
    "In the case above, we first assign x the value \"Hello\", a string object stored somewhere in memory.  Next we use the string method lower () to make the string assigned to y lowercase. Since strings are immutable, Python creates an entirey new string, \"hello\" and stores it somewhere in memory separate from the orginal \"Hello\" object. As a result, x and y refer to different objects in memory and produce different results when printed to the console."
   ]
  },
  {
   "cell_type": "markdown",
   "id": "54aa41fa",
   "metadata": {
    "papermill": {
     "duration": 0.033385,
     "end_time": "2025-04-05T09:04:02.747596",
     "exception": false,
     "start_time": "2025-04-05T09:04:02.714211",
     "status": "completed"
    },
    "tags": []
   },
   "source": [
    "By contract, lists are a mutable data structure that can hold multiple objects. If you alter a list, Python doesn't make an entirely new list in memory: it changes the actual list object itself. This can lead to seemingly inconsistent and confusing behaviour:"
   ]
  },
  {
   "cell_type": "code",
   "execution_count": 64,
   "id": "452bf685",
   "metadata": {
    "execution": {
     "iopub.execute_input": "2025-04-05T09:04:02.816481Z",
     "iopub.status.busy": "2025-04-05T09:04:02.816048Z",
     "iopub.status.idle": "2025-04-05T09:04:02.821647Z",
     "shell.execute_reply": "2025-04-05T09:04:02.820555Z"
    },
    "papermill": {
     "duration": 0.041843,
     "end_time": "2025-04-05T09:04:02.823030",
     "exception": false,
     "start_time": "2025-04-05T09:04:02.781187",
     "status": "completed"
    },
    "tags": []
   },
   "outputs": [
    {
     "name": "stdout",
     "output_type": "stream",
     "text": [
      "[1, 2, 3, 4]\n",
      "[1, 2, 3, 4]\n"
     ]
    }
   ],
   "source": [
    "x = [1,2,3] #Create a new list\n",
    "y = x       #Assign y the same object as x\n",
    "y.append(4) #Add 4 to the end of list y\n",
    "print(x)\n",
    "print(y)"
   ]
  },
  {
   "cell_type": "markdown",
   "id": "4a4a3ca6",
   "metadata": {
    "papermill": {
     "duration": 0.03374,
     "end_time": "2025-04-05T09:04:02.891434",
     "exception": false,
     "start_time": "2025-04-05T09:04:02.857694",
     "status": "completed"
    },
    "tags": []
   },
   "source": [
    "In this case, x and y still both refer to the same original list, so both x and y have the same value, even though it may appear that the code only added the number 4 to list y."
   ]
  },
  {
   "cell_type": "markdown",
   "id": "4925bb46",
   "metadata": {
    "papermill": {
     "duration": 0.033751,
     "end_time": "2025-04-05T09:04:02.958748",
     "exception": false,
     "start_time": "2025-04-05T09:04:02.924997",
     "status": "completed"
    },
    "tags": []
   },
   "source": [
    "**List Basics**\n",
    "A list is a mutuable, ordered collection of objects. \"Mutable\" means a list can be altered after it is created. You can, for example,add new items to a list or remove existing items. Lists are heterogeneous, meaning they can hold objects of different types."
   ]
  },
  {
   "cell_type": "code",
   "execution_count": 65,
   "id": "fa3b5a73",
   "metadata": {
    "execution": {
     "iopub.execute_input": "2025-04-05T09:04:03.028160Z",
     "iopub.status.busy": "2025-04-05T09:04:03.027831Z",
     "iopub.status.idle": "2025-04-05T09:04:03.032682Z",
     "shell.execute_reply": "2025-04-05T09:04:03.031645Z"
    },
    "papermill": {
     "duration": 0.041457,
     "end_time": "2025-04-05T09:04:03.034169",
     "exception": false,
     "start_time": "2025-04-05T09:04:02.992712",
     "status": "completed"
    },
    "tags": []
   },
   "outputs": [
    {
     "name": "stdout",
     "output_type": "stream",
     "text": [
      "['Lesson', 5, 'Is Fun?', True]\n"
     ]
    }
   ],
   "source": [
    "my_list = [\"Lesson\",5,\"Is Fun?\",True]\n",
    "print(my_list)"
   ]
  },
  {
   "cell_type": "markdown",
   "id": "ffe93acb",
   "metadata": {
    "papermill": {
     "duration": 0.033428,
     "end_time": "2025-04-05T09:04:03.102203",
     "exception": false,
     "start_time": "2025-04-05T09:04:03.068775",
     "status": "completed"
    },
    "tags": []
   },
   "source": [
    "Alternatively, you can construct a list by passing some other iterable into the list() function. An iterable descibes an object you can look through one item at a time, such as lists, tuples, strings and other sequences."
   ]
  },
  {
   "cell_type": "code",
   "execution_count": 66,
   "id": "0cbbe707",
   "metadata": {
    "execution": {
     "iopub.execute_input": "2025-04-05T09:04:03.171720Z",
     "iopub.status.busy": "2025-04-05T09:04:03.171353Z",
     "iopub.status.idle": "2025-04-05T09:04:03.176089Z",
     "shell.execute_reply": "2025-04-05T09:04:03.175097Z"
    },
    "papermill": {
     "duration": 0.041706,
     "end_time": "2025-04-05T09:04:03.177656",
     "exception": false,
     "start_time": "2025-04-05T09:04:03.135950",
     "status": "completed"
    },
    "tags": []
   },
   "outputs": [
    {
     "name": "stdout",
     "output_type": "stream",
     "text": [
      "['L', 'i', 'f', 'e', ' ', 'i', 's', ' ', 'S', 't', 'u', 'd', 'y']\n"
     ]
    }
   ],
   "source": [
    "second_list = list(\"Life is Study\")   #Create a list from a string\n",
    "print(second_list)"
   ]
  },
  {
   "cell_type": "markdown",
   "id": "b85ac2bb",
   "metadata": {
    "papermill": {
     "duration": 0.035573,
     "end_time": "2025-04-05T09:04:03.247042",
     "exception": false,
     "start_time": "2025-04-05T09:04:03.211469",
     "status": "completed"
    },
    "tags": []
   },
   "source": [
    "A list with no contents is known as the empty list:"
   ]
  },
  {
   "cell_type": "code",
   "execution_count": 67,
   "id": "bf014d30",
   "metadata": {
    "execution": {
     "iopub.execute_input": "2025-04-05T09:04:03.315571Z",
     "iopub.status.busy": "2025-04-05T09:04:03.315163Z",
     "iopub.status.idle": "2025-04-05T09:04:03.319822Z",
     "shell.execute_reply": "2025-04-05T09:04:03.318819Z"
    },
    "papermill": {
     "duration": 0.040649,
     "end_time": "2025-04-05T09:04:03.321311",
     "exception": false,
     "start_time": "2025-04-05T09:04:03.280662",
     "status": "completed"
    },
    "tags": []
   },
   "outputs": [
    {
     "name": "stdout",
     "output_type": "stream",
     "text": [
      "[]\n"
     ]
    }
   ],
   "source": [
    "empty_list = []\n",
    "print(empty_list)"
   ]
  },
  {
   "cell_type": "markdown",
   "id": "7340c266",
   "metadata": {
    "papermill": {
     "duration": 0.034406,
     "end_time": "2025-04-05T09:04:03.389792",
     "exception": false,
     "start_time": "2025-04-05T09:04:03.355386",
     "status": "completed"
    },
    "tags": []
   },
   "source": [
    "You can add an item to an existing list with the list.append() function:"
   ]
  },
  {
   "cell_type": "code",
   "execution_count": 68,
   "id": "e8dbb94a",
   "metadata": {
    "execution": {
     "iopub.execute_input": "2025-04-05T09:04:03.461042Z",
     "iopub.status.busy": "2025-04-05T09:04:03.460684Z",
     "iopub.status.idle": "2025-04-05T09:04:03.465311Z",
     "shell.execute_reply": "2025-04-05T09:04:03.464184Z"
    },
    "papermill": {
     "duration": 0.042549,
     "end_time": "2025-04-05T09:04:03.467016",
     "exception": false,
     "start_time": "2025-04-05T09:04:03.424467",
     "status": "completed"
    },
    "tags": []
   },
   "outputs": [
    {
     "name": "stdout",
     "output_type": "stream",
     "text": [
      "[\"I'm no longer empty!\"]\n"
     ]
    }
   ],
   "source": [
    "empty_list.append(\"I'm no longer empty!\")\n",
    "print(empty_list)"
   ]
  },
  {
   "cell_type": "code",
   "execution_count": 69,
   "id": "dda3e189",
   "metadata": {
    "execution": {
     "iopub.execute_input": "2025-04-05T09:04:03.537344Z",
     "iopub.status.busy": "2025-04-05T09:04:03.536918Z",
     "iopub.status.idle": "2025-04-05T09:04:03.541570Z",
     "shell.execute_reply": "2025-04-05T09:04:03.540517Z"
    },
    "papermill": {
     "duration": 0.041404,
     "end_time": "2025-04-05T09:04:03.543062",
     "exception": false,
     "start_time": "2025-04-05T09:04:03.501658",
     "status": "completed"
    },
    "tags": []
   },
   "outputs": [
    {
     "name": "stdout",
     "output_type": "stream",
     "text": [
      "[\"I'm no longer empty!\"]\n"
     ]
    }
   ],
   "source": [
    "print(empty_list)"
   ]
  },
  {
   "cell_type": "code",
   "execution_count": 70,
   "id": "e0ec76db",
   "metadata": {
    "execution": {
     "iopub.execute_input": "2025-04-05T09:04:03.613415Z",
     "iopub.status.busy": "2025-04-05T09:04:03.613019Z",
     "iopub.status.idle": "2025-04-05T09:04:03.617373Z",
     "shell.execute_reply": "2025-04-05T09:04:03.616326Z"
    },
    "papermill": {
     "duration": 0.041018,
     "end_time": "2025-04-05T09:04:03.618941",
     "exception": false,
     "start_time": "2025-04-05T09:04:03.577923",
     "status": "completed"
    },
    "tags": []
   },
   "outputs": [],
   "source": [
    "empty_list1=list(empty_list)"
   ]
  },
  {
   "cell_type": "code",
   "execution_count": 71,
   "id": "3bde0a78",
   "metadata": {
    "execution": {
     "iopub.execute_input": "2025-04-05T09:04:03.691098Z",
     "iopub.status.busy": "2025-04-05T09:04:03.690771Z",
     "iopub.status.idle": "2025-04-05T09:04:03.695411Z",
     "shell.execute_reply": "2025-04-05T09:04:03.694418Z"
    },
    "papermill": {
     "duration": 0.041593,
     "end_time": "2025-04-05T09:04:03.696866",
     "exception": false,
     "start_time": "2025-04-05T09:04:03.655273",
     "status": "completed"
    },
    "tags": []
   },
   "outputs": [
    {
     "name": "stdout",
     "output_type": "stream",
     "text": [
      "[\"I'm no longer empty!\"]\n"
     ]
    }
   ],
   "source": [
    "print(empty_list1)"
   ]
  },
  {
   "cell_type": "markdown",
   "id": "251314fe",
   "metadata": {
    "papermill": {
     "duration": 0.034608,
     "end_time": "2025-04-05T09:04:03.765888",
     "exception": false,
     "start_time": "2025-04-05T09:04:03.731280",
     "status": "completed"
    },
    "tags": []
   },
   "source": [
    "Remove a matching item from a list with list.remove()\n",
    "\n",
    "Note: Remove deletes the first matching item only."
   ]
  },
  {
   "cell_type": "code",
   "execution_count": 72,
   "id": "61d745a9",
   "metadata": {
    "execution": {
     "iopub.execute_input": "2025-04-05T09:04:03.836205Z",
     "iopub.status.busy": "2025-04-05T09:04:03.835882Z",
     "iopub.status.idle": "2025-04-05T09:04:03.840558Z",
     "shell.execute_reply": "2025-04-05T09:04:03.839512Z"
    },
    "papermill": {
     "duration": 0.041683,
     "end_time": "2025-04-05T09:04:03.842227",
     "exception": false,
     "start_time": "2025-04-05T09:04:03.800544",
     "status": "completed"
    },
    "tags": []
   },
   "outputs": [
    {
     "name": "stdout",
     "output_type": "stream",
     "text": [
      "['Lesson', 'Is Fun?', True]\n"
     ]
    }
   ],
   "source": [
    "my_list.remove(5)\n",
    "print(my_list)"
   ]
  },
  {
   "cell_type": "markdown",
   "id": "e3a210b4",
   "metadata": {
    "papermill": {
     "duration": 0.034787,
     "end_time": "2025-04-05T09:04:03.912361",
     "exception": false,
     "start_time": "2025-04-05T09:04:03.877574",
     "status": "completed"
    },
    "tags": []
   },
   "source": [
    "Join two lists together with the + operator:"
   ]
  },
  {
   "cell_type": "code",
   "execution_count": 73,
   "id": "e103d88f",
   "metadata": {
    "execution": {
     "iopub.execute_input": "2025-04-05T09:04:03.982142Z",
     "iopub.status.busy": "2025-04-05T09:04:03.981816Z",
     "iopub.status.idle": "2025-04-05T09:04:03.986769Z",
     "shell.execute_reply": "2025-04-05T09:04:03.985729Z"
    },
    "papermill": {
     "duration": 0.041675,
     "end_time": "2025-04-05T09:04:03.988354",
     "exception": false,
     "start_time": "2025-04-05T09:04:03.946679",
     "status": "completed"
    },
    "tags": []
   },
   "outputs": [
    {
     "name": "stdout",
     "output_type": "stream",
     "text": [
      "['Lesson', 'Is Fun?', True, \"I'm no longer empty!\"]\n"
     ]
    }
   ],
   "source": [
    "combined_list = my_list + empty_list\n",
    "print(combined_list)\n"
   ]
  },
  {
   "cell_type": "markdown",
   "id": "48d58f58",
   "metadata": {
    "papermill": {
     "duration": 0.034217,
     "end_time": "2025-04-05T09:04:04.057110",
     "exception": false,
     "start_time": "2025-04-05T09:04:04.022893",
     "status": "completed"
    },
    "tags": []
   },
   "source": [
    "You can also add a sequence to the end of an existing list with the list.extend() function"
   ]
  },
  {
   "cell_type": "code",
   "execution_count": 74,
   "id": "8bbe6c26",
   "metadata": {
    "execution": {
     "iopub.execute_input": "2025-04-05T09:04:04.126842Z",
     "iopub.status.busy": "2025-04-05T09:04:04.126507Z",
     "iopub.status.idle": "2025-04-05T09:04:04.131464Z",
     "shell.execute_reply": "2025-04-05T09:04:04.130191Z"
    },
    "papermill": {
     "duration": 0.041628,
     "end_time": "2025-04-05T09:04:04.133030",
     "exception": false,
     "start_time": "2025-04-05T09:04:04.091402",
     "status": "completed"
    },
    "tags": []
   },
   "outputs": [
    {
     "name": "stdout",
     "output_type": "stream",
     "text": [
      "['Lesson', 'Is Fun?', True, \"I'm no longer empty!\"]\n"
     ]
    }
   ],
   "source": [
    "combined_list = my_list\n",
    "combined_list.extend(empty_list)\n",
    "print(combined_list)"
   ]
  },
  {
   "cell_type": "markdown",
   "id": "a14ca5ba",
   "metadata": {
    "papermill": {
     "duration": 0.034581,
     "end_time": "2025-04-05T09:04:04.202324",
     "exception": false,
     "start_time": "2025-04-05T09:04:04.167743",
     "status": "completed"
    },
    "tags": []
   },
   "source": [
    "Check the length, maximum, minimum and sum of a list with the len(), max(), min() and sum() functions, respectively."
   ]
  },
  {
   "cell_type": "code",
   "execution_count": 75,
   "id": "65005f34",
   "metadata": {
    "execution": {
     "iopub.execute_input": "2025-04-05T09:04:04.273705Z",
     "iopub.status.busy": "2025-04-05T09:04:04.273323Z",
     "iopub.status.idle": "2025-04-05T09:04:04.279482Z",
     "shell.execute_reply": "2025-04-05T09:04:04.278625Z"
    },
    "papermill": {
     "duration": 0.043449,
     "end_time": "2025-04-05T09:04:04.281042",
     "exception": false,
     "start_time": "2025-04-05T09:04:04.237593",
     "status": "completed"
    },
    "tags": []
   },
   "outputs": [
    {
     "name": "stdout",
     "output_type": "stream",
     "text": [
      "5\n",
      "9\n",
      "1\n",
      "25\n",
      "5.0\n"
     ]
    }
   ],
   "source": [
    "num_list = [1,3,5,7,9]\n",
    "print(len(num_list))     #Check the length\n",
    "print(max(num_list))     #Check the max\n",
    "print(min(num_list))     #Check the min\n",
    "print(sum(num_list))     #Check the sum\n",
    "print(sum(num_list)/len(num_list))  #Check the mean*"
   ]
  },
  {
   "cell_type": "code",
   "execution_count": 76,
   "id": "3299669c",
   "metadata": {
    "execution": {
     "iopub.execute_input": "2025-04-05T09:04:04.407726Z",
     "iopub.status.busy": "2025-04-05T09:04:04.407362Z",
     "iopub.status.idle": "2025-04-05T09:04:04.412595Z",
     "shell.execute_reply": "2025-04-05T09:04:04.411640Z"
    },
    "papermill": {
     "duration": 0.042555,
     "end_time": "2025-04-05T09:04:04.414048",
     "exception": false,
     "start_time": "2025-04-05T09:04:04.371493",
     "status": "completed"
    },
    "tags": []
   },
   "outputs": [
    {
     "data": {
      "text/plain": [
       "True"
      ]
     },
     "execution_count": 76,
     "metadata": {},
     "output_type": "execute_result"
    }
   ],
   "source": [
    "#You can check whether a list contains a certain object with the \"in\" keyword:\n",
    "1 in num_list"
   ]
  },
  {
   "cell_type": "code",
   "execution_count": 77,
   "id": "70e40752",
   "metadata": {
    "execution": {
     "iopub.execute_input": "2025-04-05T09:04:04.484816Z",
     "iopub.status.busy": "2025-04-05T09:04:04.484456Z",
     "iopub.status.idle": "2025-04-05T09:04:04.489770Z",
     "shell.execute_reply": "2025-04-05T09:04:04.488792Z"
    },
    "papermill": {
     "duration": 0.042734,
     "end_time": "2025-04-05T09:04:04.491446",
     "exception": false,
     "start_time": "2025-04-05T09:04:04.448712",
     "status": "completed"
    },
    "tags": []
   },
   "outputs": [
    {
     "data": {
      "text/plain": [
       "False"
      ]
     },
     "execution_count": 77,
     "metadata": {},
     "output_type": "execute_result"
    }
   ],
   "source": [
    "#Add the keyword \"not\" to test whether a list does not contain an object\n",
    "1 not in num_list"
   ]
  },
  {
   "cell_type": "markdown",
   "id": "7b99d170",
   "metadata": {
    "papermill": {
     "duration": 0.034302,
     "end_time": "2025-04-05T09:04:04.561142",
     "exception": false,
     "start_time": "2025-04-05T09:04:04.526840",
     "status": "completed"
    },
    "tags": []
   },
   "source": [
    "Count the occurrences of an object within a list using the list.count() function:\n"
   ]
  },
  {
   "cell_type": "code",
   "execution_count": 78,
   "id": "1ee04992",
   "metadata": {
    "execution": {
     "iopub.execute_input": "2025-04-05T09:04:04.634420Z",
     "iopub.status.busy": "2025-04-05T09:04:04.634012Z",
     "iopub.status.idle": "2025-04-05T09:04:04.639439Z",
     "shell.execute_reply": "2025-04-05T09:04:04.638474Z"
    },
    "papermill": {
     "duration": 0.043183,
     "end_time": "2025-04-05T09:04:04.640950",
     "exception": false,
     "start_time": "2025-04-05T09:04:04.597767",
     "status": "completed"
    },
    "tags": []
   },
   "outputs": [
    {
     "data": {
      "text/plain": [
       "1"
      ]
     },
     "execution_count": 78,
     "metadata": {},
     "output_type": "execute_result"
    }
   ],
   "source": [
    "num_list.count(3)"
   ]
  },
  {
   "cell_type": "markdown",
   "id": "bb35ba8d",
   "metadata": {
    "papermill": {
     "duration": 0.034814,
     "end_time": "2025-04-05T09:04:04.710931",
     "exception": false,
     "start_time": "2025-04-05T09:04:04.676117",
     "status": "completed"
    },
    "tags": []
   },
   "source": [
    "Other common list functions include list.sort() and list.reverse():\n"
   ]
  },
  {
   "cell_type": "code",
   "execution_count": 79,
   "id": "cc051318",
   "metadata": {
    "execution": {
     "iopub.execute_input": "2025-04-05T09:04:04.781218Z",
     "iopub.status.busy": "2025-04-05T09:04:04.780892Z",
     "iopub.status.idle": "2025-04-05T09:04:04.785654Z",
     "shell.execute_reply": "2025-04-05T09:04:04.784712Z"
    },
    "papermill": {
     "duration": 0.041654,
     "end_time": "2025-04-05T09:04:04.787210",
     "exception": false,
     "start_time": "2025-04-05T09:04:04.745556",
     "status": "completed"
    },
    "tags": []
   },
   "outputs": [
    {
     "name": "stdout",
     "output_type": "stream",
     "text": [
      "Reversed list [6, 3, 2, 4, 5, 1]\n",
      "Sorted list [1, 2, 3, 4, 5, 6]\n"
     ]
    }
   ],
   "source": [
    "new_list = [1,5,4,2,3,6]       #Make a new list\n",
    "\n",
    "new_list.reverse()             #Reverse the list\n",
    "print(\"Reversed list\", new_list)\n",
    "\n",
    "new_list.sort()                #Sort the list\n",
    "print(\"Sorted list\", new_list)"
   ]
  },
  {
   "cell_type": "markdown",
   "id": "87c2fd14",
   "metadata": {
    "papermill": {
     "duration": 0.034496,
     "end_time": "2025-04-05T09:04:04.856520",
     "exception": false,
     "start_time": "2025-04-05T09:04:04.822024",
     "status": "completed"
    },
    "tags": []
   },
   "source": [
    "List Indexing and Slicing\n",
    "\n",
    "Lists and other Python sequences are indexed, meaning each position in the sequence has a corresponding number called the index that you can use to look up the value at that position.\n",
    "Python sequences are zero-indexed, so the first element of a sequence is at index position zero, the second element is at index 1 and so on. Retrieve an item from a list by placing the index in square brackets after the name of the list:\n"
   ]
  },
  {
   "cell_type": "code",
   "execution_count": 80,
   "id": "51b418b2",
   "metadata": {
    "execution": {
     "iopub.execute_input": "2025-04-05T09:04:04.929083Z",
     "iopub.status.busy": "2025-04-05T09:04:04.928766Z",
     "iopub.status.idle": "2025-04-05T09:04:04.933732Z",
     "shell.execute_reply": "2025-04-05T09:04:04.932615Z"
    },
    "papermill": {
     "duration": 0.042282,
     "end_time": "2025-04-05T09:04:04.935243",
     "exception": false,
     "start_time": "2025-04-05T09:04:04.892961",
     "status": "completed"
    },
    "tags": []
   },
   "outputs": [
    {
     "name": "stdout",
     "output_type": "stream",
     "text": [
      "Hello\n",
      "bestest\n"
     ]
    }
   ],
   "source": [
    "another_list = [\"Hello\",\"my\",\"bestest\",\"old\",\"friend\"]\n",
    "print(another_list[0])\n",
    "print(another_list[2])\n",
    "\n"
   ]
  },
  {
   "cell_type": "markdown",
   "id": "3e091f4c",
   "metadata": {
    "papermill": {
     "duration": 0.034677,
     "end_time": "2025-04-05T09:04:05.004803",
     "exception": false,
     "start_time": "2025-04-05T09:04:04.970126",
     "status": "completed"
    },
    "tags": []
   },
   "source": [
    "if you supply negative number when indexing into list, it accesses items starting from the end of the list(-1) going backward:"
   ]
  },
  {
   "cell_type": "code",
   "execution_count": 81,
   "id": "6b968de1",
   "metadata": {
    "execution": {
     "iopub.execute_input": "2025-04-05T09:04:05.075981Z",
     "iopub.status.busy": "2025-04-05T09:04:05.075663Z",
     "iopub.status.idle": "2025-04-05T09:04:05.080614Z",
     "shell.execute_reply": "2025-04-05T09:04:05.079570Z"
    },
    "papermill": {
     "duration": 0.042601,
     "end_time": "2025-04-05T09:04:05.082058",
     "exception": false,
     "start_time": "2025-04-05T09:04:05.039457",
     "status": "completed"
    },
    "tags": []
   },
   "outputs": [
    {
     "name": "stdout",
     "output_type": "stream",
     "text": [
      "friend\n",
      "bestest\n"
     ]
    }
   ],
   "source": [
    "print(another_list[-1])\n",
    "print(another_list[-3])"
   ]
  },
  {
   "cell_type": "markdown",
   "id": "15bf1001",
   "metadata": {
    "papermill": {
     "duration": 0.034918,
     "end_time": "2025-04-05T09:04:05.152077",
     "exception": false,
     "start_time": "2025-04-05T09:04:05.117159",
     "status": "completed"
    },
    "tags": []
   },
   "source": [
    "If your list contains other indexed objects, you can supply additional indexes to get items contained within the nested objects:"
   ]
  },
  {
   "cell_type": "code",
   "execution_count": 82,
   "id": "c18fba6c",
   "metadata": {
    "execution": {
     "iopub.execute_input": "2025-04-05T09:04:05.223296Z",
     "iopub.status.busy": "2025-04-05T09:04:05.222901Z",
     "iopub.status.idle": "2025-04-05T09:04:05.227877Z",
     "shell.execute_reply": "2025-04-05T09:04:05.226835Z"
    },
    "papermill": {
     "duration": 0.042847,
     "end_time": "2025-04-05T09:04:05.229683",
     "exception": false,
     "start_time": "2025-04-05T09:04:05.186836",
     "status": "completed"
    },
    "tags": []
   },
   "outputs": [
    {
     "name": "stdout",
     "output_type": "stream",
     "text": [
      "3\n"
     ]
    }
   ],
   "source": [
    "nested_list = [[1,2,3],[4,5,6],[7,8,9]]\n",
    "print(nested_list[0][2])"
   ]
  },
  {
   "cell_type": "markdown",
   "id": "dd411026",
   "metadata": {
    "papermill": {
     "duration": 0.034895,
     "end_time": "2025-04-05T09:04:05.301776",
     "exception": false,
     "start_time": "2025-04-05T09:04:05.266881",
     "status": "completed"
    },
    "tags": []
   },
   "source": [
    "You can take a slice (sequential subset) of a list using the syntax [start:stop:step] where start and stop are the starting and ending indexes for the slice and step controls how frequently you sample values along the slice. The default step size is 1, meaning you take all values in the range provided, starting from the first, up to but not including the last:"
   ]
  },
  {
   "cell_type": "code",
   "execution_count": 83,
   "id": "9652ac16",
   "metadata": {
    "execution": {
     "iopub.execute_input": "2025-04-05T09:04:05.373422Z",
     "iopub.status.busy": "2025-04-05T09:04:05.373017Z",
     "iopub.status.idle": "2025-04-05T09:04:05.377850Z",
     "shell.execute_reply": "2025-04-05T09:04:05.376839Z"
    },
    "papermill": {
     "duration": 0.042515,
     "end_time": "2025-04-05T09:04:05.379406",
     "exception": false,
     "start_time": "2025-04-05T09:04:05.336891",
     "status": "completed"
    },
    "tags": []
   },
   "outputs": [
    {
     "name": "stdout",
     "output_type": "stream",
     "text": [
      "['my', 'bestest']\n"
     ]
    }
   ],
   "source": [
    "my_slice = another_list[1:3]    #slice index 1 and 2\n",
    "print(my_slice)"
   ]
  },
  {
   "cell_type": "code",
   "execution_count": 84,
   "id": "43d16cc1",
   "metadata": {
    "execution": {
     "iopub.execute_input": "2025-04-05T09:04:05.452235Z",
     "iopub.status.busy": "2025-04-05T09:04:05.451863Z",
     "iopub.status.idle": "2025-04-05T09:04:05.457041Z",
     "shell.execute_reply": "2025-04-05T09:04:05.456181Z"
    },
    "papermill": {
     "duration": 0.043547,
     "end_time": "2025-04-05T09:04:05.458706",
     "exception": false,
     "start_time": "2025-04-05T09:04:05.415159",
     "status": "completed"
    },
    "tags": []
   },
   "outputs": [
    {
     "name": "stdout",
     "output_type": "stream",
     "text": [
      "['Hello', 'bestest', 'friend']\n"
     ]
    }
   ],
   "source": [
    "# Slice the entire list but use step size 2 to get every other item:\n",
    "\n",
    "my_slice = another_list[0:6:2]\n",
    "print(my_slice)"
   ]
  },
  {
   "cell_type": "markdown",
   "id": "f1ad2008",
   "metadata": {
    "papermill": {
     "duration": 0.035086,
     "end_time": "2025-04-05T09:04:05.530498",
     "exception": false,
     "start_time": "2025-04-05T09:04:05.495412",
     "status": "completed"
    },
    "tags": []
   },
   "source": [
    "You can leave the starting or ending index blank to slice from the beginning or up to the end of the list respectively:"
   ]
  },
  {
   "cell_type": "code",
   "execution_count": 85,
   "id": "3020dd25",
   "metadata": {
    "execution": {
     "iopub.execute_input": "2025-04-05T09:04:05.603100Z",
     "iopub.status.busy": "2025-04-05T09:04:05.602728Z",
     "iopub.status.idle": "2025-04-05T09:04:05.607576Z",
     "shell.execute_reply": "2025-04-05T09:04:05.606600Z"
    },
    "papermill": {
     "duration": 0.043305,
     "end_time": "2025-04-05T09:04:05.609036",
     "exception": false,
     "start_time": "2025-04-05T09:04:05.565731",
     "status": "completed"
    },
    "tags": []
   },
   "outputs": [
    {
     "name": "stdout",
     "output_type": "stream",
     "text": [
      "['Hello', 'my', 'bestest', 'old']\n"
     ]
    }
   ],
   "source": [
    "slice1 = another_list[:4]    #Slice everything up to index 4\n",
    "print(slice1)"
   ]
  },
  {
   "cell_type": "code",
   "execution_count": 86,
   "id": "4706ee15",
   "metadata": {
    "execution": {
     "iopub.execute_input": "2025-04-05T09:04:05.682502Z",
     "iopub.status.busy": "2025-04-05T09:04:05.682087Z",
     "iopub.status.idle": "2025-04-05T09:04:05.686850Z",
     "shell.execute_reply": "2025-04-05T09:04:05.685700Z"
    },
    "papermill": {
     "duration": 0.043253,
     "end_time": "2025-04-05T09:04:05.688371",
     "exception": false,
     "start_time": "2025-04-05T09:04:05.645118",
     "status": "completed"
    },
    "tags": []
   },
   "outputs": [
    {
     "name": "stdout",
     "output_type": "stream",
     "text": [
      "['old', 'friend']\n"
     ]
    }
   ],
   "source": [
    "slice2 = another_list[3:]   #Slice everything from index 3 to the end\n",
    "print(slice2)"
   ]
  },
  {
   "cell_type": "markdown",
   "id": "50d80b5e",
   "metadata": {
    "papermill": {
     "duration": 0.034971,
     "end_time": "2025-04-05T09:04:05.758966",
     "exception": false,
     "start_time": "2025-04-05T09:04:05.723995",
     "status": "completed"
    },
    "tags": []
   },
   "source": [
    "If you provide a negative number as the step, the slice steps backward:"
   ]
  },
  {
   "cell_type": "code",
   "execution_count": 87,
   "id": "f146cd9b",
   "metadata": {
    "execution": {
     "iopub.execute_input": "2025-04-05T09:04:05.831105Z",
     "iopub.status.busy": "2025-04-05T09:04:05.830779Z",
     "iopub.status.idle": "2025-04-05T09:04:05.835530Z",
     "shell.execute_reply": "2025-04-05T09:04:05.834379Z"
    },
    "papermill": {
     "duration": 0.04265,
     "end_time": "2025-04-05T09:04:05.837010",
     "exception": false,
     "start_time": "2025-04-05T09:04:05.794360",
     "status": "completed"
    },
    "tags": []
   },
   "outputs": [
    {
     "name": "stdout",
     "output_type": "stream",
     "text": [
      "['friend', 'old']\n"
     ]
    }
   ],
   "source": [
    "# Take a slice starting at index 4, backward to index 2\n",
    "my_slice = another_list[4:2:-1]\n",
    "print(my_slice)"
   ]
  },
  {
   "cell_type": "markdown",
   "id": "54a3b80b",
   "metadata": {
    "papermill": {
     "duration": 0.034985,
     "end_time": "2025-04-05T09:04:05.907825",
     "exception": false,
     "start_time": "2025-04-05T09:04:05.872840",
     "status": "completed"
    },
    "tags": []
   },
   "source": [
    "if you don't provide a start or ending index, you slice of the entire list:"
   ]
  },
  {
   "cell_type": "code",
   "execution_count": 88,
   "id": "7f22cc67",
   "metadata": {
    "execution": {
     "iopub.execute_input": "2025-04-05T09:04:05.978931Z",
     "iopub.status.busy": "2025-04-05T09:04:05.978611Z",
     "iopub.status.idle": "2025-04-05T09:04:05.983155Z",
     "shell.execute_reply": "2025-04-05T09:04:05.982207Z"
    },
    "papermill": {
     "duration": 0.041845,
     "end_time": "2025-04-05T09:04:05.984570",
     "exception": false,
     "start_time": "2025-04-05T09:04:05.942725",
     "status": "completed"
    },
    "tags": []
   },
   "outputs": [
    {
     "name": "stdout",
     "output_type": "stream",
     "text": [
      "['Hello', 'my', 'bestest', 'old', 'friend']\n"
     ]
    }
   ],
   "source": [
    "my_slice = another_list[:]   #This slice operation copies the list\n",
    "print(my_slice)"
   ]
  },
  {
   "cell_type": "markdown",
   "id": "9c0ed359",
   "metadata": {
    "papermill": {
     "duration": 0.035334,
     "end_time": "2025-04-05T09:04:06.055435",
     "exception": false,
     "start_time": "2025-04-05T09:04:06.020101",
     "status": "completed"
    },
    "tags": []
   },
   "source": [
    "Using a step of -1 without a starting or ending index slices the entire list in reverse, providing a shorthand to a reverse a list:"
   ]
  },
  {
   "cell_type": "code",
   "execution_count": 89,
   "id": "0350e85b",
   "metadata": {
    "execution": {
     "iopub.execute_input": "2025-04-05T09:04:06.126828Z",
     "iopub.status.busy": "2025-04-05T09:04:06.126503Z",
     "iopub.status.idle": "2025-04-05T09:04:06.131185Z",
     "shell.execute_reply": "2025-04-05T09:04:06.129980Z"
    },
    "papermill": {
     "duration": 0.042267,
     "end_time": "2025-04-05T09:04:06.132786",
     "exception": false,
     "start_time": "2025-04-05T09:04:06.090519",
     "status": "completed"
    },
    "tags": []
   },
   "outputs": [
    {
     "name": "stdout",
     "output_type": "stream",
     "text": [
      "['friend', 'old', 'bestest', 'my', 'Hello']\n"
     ]
    }
   ],
   "source": [
    "my_slice = another_list[::-1]  #This slice operation reverses the list\n",
    "print(my_slice)"
   ]
  },
  {
   "cell_type": "markdown",
   "id": "4a214a93",
   "metadata": {
    "papermill": {
     "duration": 0.035767,
     "end_time": "2025-04-05T09:04:06.204283",
     "exception": false,
     "start_time": "2025-04-05T09:04:06.168516",
     "status": "completed"
    },
    "tags": []
   },
   "source": [
    "You can use indexing to change the values within a list or delete items in a list:"
   ]
  },
  {
   "cell_type": "code",
   "execution_count": 90,
   "id": "3d60393b",
   "metadata": {
    "execution": {
     "iopub.execute_input": "2025-04-05T09:04:06.278040Z",
     "iopub.status.busy": "2025-04-05T09:04:06.277722Z",
     "iopub.status.idle": "2025-04-05T09:04:06.282214Z",
     "shell.execute_reply": "2025-04-05T09:04:06.281196Z"
    },
    "papermill": {
     "duration": 0.043984,
     "end_time": "2025-04-05T09:04:06.283918",
     "exception": false,
     "start_time": "2025-04-05T09:04:06.239934",
     "status": "completed"
    },
    "tags": []
   },
   "outputs": [
    {
     "name": "stdout",
     "output_type": "stream",
     "text": [
      "['Hello', 'my', 'bestest', 'new', 'friend']\n",
      "['Hello', 'my', 'bestest', 'friend']\n"
     ]
    }
   ],
   "source": [
    "another_list[3] = \"new\"   #Set the value at index 3 to \"new\"\n",
    "print(another_list)\n",
    "del(another_list[3])      #delete the item at index 3\n",
    "print(another_list)"
   ]
  },
  {
   "cell_type": "markdown",
   "id": "520ec391",
   "metadata": {
    "papermill": {
     "duration": 0.035863,
     "end_time": "2025-04-05T09:04:06.355548",
     "exception": false,
     "start_time": "2025-04-05T09:04:06.319685",
     "status": "completed"
    },
    "tags": []
   },
   "source": [
    "You can also remove items from a list using the list.pop() function. pop() removes the final item in a list and returns it:"
   ]
  },
  {
   "cell_type": "code",
   "execution_count": 91,
   "id": "a6a22cb5",
   "metadata": {
    "execution": {
     "iopub.execute_input": "2025-04-05T09:04:06.429084Z",
     "iopub.status.busy": "2025-04-05T09:04:06.428768Z",
     "iopub.status.idle": "2025-04-05T09:04:06.433600Z",
     "shell.execute_reply": "2025-04-05T09:04:06.432505Z"
    },
    "papermill": {
     "duration": 0.043123,
     "end_time": "2025-04-05T09:04:06.435004",
     "exception": false,
     "start_time": "2025-04-05T09:04:06.391881",
     "status": "completed"
    },
    "tags": []
   },
   "outputs": [
    {
     "name": "stdout",
     "output_type": "stream",
     "text": [
      "friend\n",
      "['Hello', 'my', 'bestest']\n"
     ]
    }
   ],
   "source": [
    "next_item = another_list.pop()\n",
    "print(next_item)\n",
    "print(another_list)"
   ]
  },
  {
   "cell_type": "markdown",
   "id": "6f6f02f5",
   "metadata": {
    "papermill": {
     "duration": 0.035734,
     "end_time": "2025-04-05T09:04:06.507124",
     "exception": false,
     "start_time": "2025-04-05T09:04:06.471390",
     "status": "completed"
    },
    "tags": []
   },
   "source": [
    "Notice that the list resizes itself dynamically as you delete or add items to it. Appeding items to lists and removing items from the end of list with list.pop() are very fast operations. Deleting items at the front of a list or within the body of a lists is much slower."
   ]
  },
  {
   "cell_type": "markdown",
   "id": "c9908abf",
   "metadata": {
    "papermill": {
     "duration": 0.035889,
     "end_time": "2025-04-05T09:04:06.578610",
     "exception": false,
     "start_time": "2025-04-05T09:04:06.542721",
     "status": "completed"
    },
    "tags": []
   },
   "source": [
    "# Copying Lists"
   ]
  },
  {
   "cell_type": "markdown",
   "id": "2fc41d7a",
   "metadata": {
    "papermill": {
     "duration": 0.036781,
     "end_time": "2025-04-05T09:04:06.652314",
     "exception": false,
     "start_time": "2025-04-05T09:04:06.615533",
     "status": "completed"
    },
    "tags": []
   },
   "source": [
    "In the code above, we saw that we can slice an entire list using the [:] indexing operation. You can also copy a list using the list.copy() function:"
   ]
  },
  {
   "cell_type": "code",
   "execution_count": 92,
   "id": "e7f8bb9b",
   "metadata": {
    "execution": {
     "iopub.execute_input": "2025-04-05T09:04:06.725867Z",
     "iopub.status.busy": "2025-04-05T09:04:06.725511Z",
     "iopub.status.idle": "2025-04-05T09:04:06.731302Z",
     "shell.execute_reply": "2025-04-05T09:04:06.730123Z"
    },
    "papermill": {
     "duration": 0.044349,
     "end_time": "2025-04-05T09:04:06.732769",
     "exception": false,
     "start_time": "2025-04-05T09:04:06.688420",
     "status": "completed"
    },
    "tags": []
   },
   "outputs": [
    {
     "name": "stdout",
     "output_type": "stream",
     "text": [
      "list1: [1, 2, 3, 4]\n",
      "List2: [1, 2, 3]\n"
     ]
    }
   ],
   "source": [
    "list1 = [1,2,3]                     #Make a list\n",
    "list2 = list1.copy()                #Copy the list\n",
    "\n",
    "list1.append(4)                     #Add an item to list1\n",
    "print(\"list1:\",list1)               #Print both lists\n",
    "print(\"List2:\",list2)"
   ]
  },
  {
   "cell_type": "code",
   "execution_count": 93,
   "id": "d80e208e",
   "metadata": {
    "execution": {
     "iopub.execute_input": "2025-04-05T09:04:06.805183Z",
     "iopub.status.busy": "2025-04-05T09:04:06.804851Z",
     "iopub.status.idle": "2025-04-05T09:04:06.811826Z",
     "shell.execute_reply": "2025-04-05T09:04:06.810729Z"
    },
    "papermill": {
     "duration": 0.045076,
     "end_time": "2025-04-05T09:04:06.813432",
     "exception": false,
     "start_time": "2025-04-05T09:04:06.768356",
     "status": "completed"
    },
    "tags": []
   },
   "outputs": [
    {
     "name": "stdout",
     "output_type": "stream",
     "text": [
      "Before appending to list1: \n",
      "List2:  ['List within a list', [1, 2, 3]]\n",
      "List3:  ['List within a list', [1, 2, 3]] \n",
      "\n",
      "After appending to list1: \n",
      "List2:  ['List within a list', [1, 2, 3, 4]]\n",
      "List3:  ['List within a list', [1, 2, 3, 4]]\n"
     ]
    }
   ],
   "source": [
    "list1 = [1,2,3]              #Make a list\n",
    "\n",
    "list2 = [\"List within a list\", list1]   #Nest it in another list\n",
    "\n",
    "list3 = list2.copy()         #Shallow copy list2\n",
    "\n",
    "print(\"Before appending to list1: \")\n",
    "print(\"List2: \",list2)\n",
    "print(\"List3: \",list3,\"\\n\")\n",
    "\n",
    "list1.append(4)             #Add an item to list1\n",
    "print(\"After appending to list1: \")\n",
    "print(\"List2: \",list2)\n",
    "print(\"List3: \",list3)"
   ]
  },
  {
   "cell_type": "markdown",
   "id": "92500535",
   "metadata": {
    "papermill": {
     "duration": 0.035566,
     "end_time": "2025-04-05T09:04:06.885186",
     "exception": false,
     "start_time": "2025-04-05T09:04:06.849620",
     "status": "completed"
    },
    "tags": []
   },
   "source": [
    "Notice that when we use a shallow copy on list2, the second element of list2 and its copy both refer to list1. Thus, when we append a new value into list1, the second element of list2 and the copy, list3, both change. When you are working with nested lists, you have to make a \"deepcopy\" if you want to truly copy nested objects in the original to avoid this behaviour of shallow copies.\n",
    "\n",
    "You can make a deep copy using the deepcopy() function in the copy library:"
   ]
  },
  {
   "cell_type": "code",
   "execution_count": 94,
   "id": "60337131",
   "metadata": {
    "execution": {
     "iopub.execute_input": "2025-04-05T09:04:06.957682Z",
     "iopub.status.busy": "2025-04-05T09:04:06.957290Z",
     "iopub.status.idle": "2025-04-05T09:04:06.964504Z",
     "shell.execute_reply": "2025-04-05T09:04:06.963629Z"
    },
    "papermill": {
     "duration": 0.045321,
     "end_time": "2025-04-05T09:04:06.966028",
     "exception": false,
     "start_time": "2025-04-05T09:04:06.920707",
     "status": "completed"
    },
    "tags": []
   },
   "outputs": [
    {
     "name": "stdout",
     "output_type": "stream",
     "text": [
      "Before appending to list1: \n",
      "List2:  ['List within a list', [1, 2, 3]]\n",
      "List3:  ['List within a list', [1, 2, 3]] \n",
      "\n",
      "After appending to list1: \n",
      "List2:  ['List within a list', [1, 2, 3, 4]]\n",
      "List3:  ['List within a list', [1, 2, 3]]\n"
     ]
    }
   ],
   "source": [
    "import copy           # Load the copy module\n",
    "\n",
    "list1 = [1,2,3]       #Make a list\n",
    "list2 = [\"List within a list\", list1]   #Nest it in another list\n",
    "list3 = copy.deepcopy(list2)   #Deep copy list2\n",
    "\n",
    "print(\"Before appending to list1: \")\n",
    "print(\"List2: \",list2)\n",
    "print(\"List3: \",list3, \"\\n\")\n",
    "\n",
    "list1.append(4)       #Add an item to list1\n",
    "print(\"After appending to list1: \")\n",
    "print(\"List2: \",list2)\n",
    "print(\"List3: \",list3)"
   ]
  },
  {
   "cell_type": "markdown",
   "id": "19083f66",
   "metadata": {
    "papermill": {
     "duration": 0.056607,
     "end_time": "2025-04-05T09:04:07.063959",
     "exception": false,
     "start_time": "2025-04-05T09:04:07.007352",
     "status": "completed"
    },
    "tags": []
   },
   "source": [
    "# Tuples"
   ]
  },
  {
   "cell_type": "markdown",
   "id": "5ff8011a",
   "metadata": {
    "papermill": {
     "duration": 0.035923,
     "end_time": "2025-04-05T09:04:07.141413",
     "exception": false,
     "start_time": "2025-04-05T09:04:07.105490",
     "status": "completed"
    },
    "tags": []
   },
   "source": [
    "Tuples are an immutable sequence data type that are commonly used to hold short collections of releated data. For instance, if you wanted to store latitude and longitude coordinates for cities, tuples might be a good choice, because the values are related and not likely to change. Like lists, tuples can store objects of different types.\n",
    "\n",
    "Construct a tuple with a comma separated sequence of objects with parenthesis."
   ]
  },
  {
   "cell_type": "code",
   "execution_count": 95,
   "id": "be8a3ea4",
   "metadata": {
    "execution": {
     "iopub.execute_input": "2025-04-05T09:04:07.231481Z",
     "iopub.status.busy": "2025-04-05T09:04:07.231002Z",
     "iopub.status.idle": "2025-04-05T09:04:07.236270Z",
     "shell.execute_reply": "2025-04-05T09:04:07.235332Z"
    },
    "papermill": {
     "duration": 0.044429,
     "end_time": "2025-04-05T09:04:07.238151",
     "exception": false,
     "start_time": "2025-04-05T09:04:07.193722",
     "status": "completed"
    },
    "tags": []
   },
   "outputs": [
    {
     "name": "stdout",
     "output_type": "stream",
     "text": [
      "(1, 3, 5)\n"
     ]
    }
   ],
   "source": [
    "my_tuple = (1,3,5)\n",
    "print(my_tuple)"
   ]
  },
  {
   "cell_type": "markdown",
   "id": "406ffd10",
   "metadata": {
    "papermill": {
     "duration": 0.035944,
     "end_time": "2025-04-05T09:04:07.328397",
     "exception": false,
     "start_time": "2025-04-05T09:04:07.292453",
     "status": "completed"
    },
    "tags": []
   },
   "source": [
    "Alternatively, you can construct a tuple by passing an iterable into the tuple() function:"
   ]
  },
  {
   "cell_type": "code",
   "execution_count": 96,
   "id": "99d926f1",
   "metadata": {
    "execution": {
     "iopub.execute_input": "2025-04-05T09:04:07.416101Z",
     "iopub.status.busy": "2025-04-05T09:04:07.415663Z",
     "iopub.status.idle": "2025-04-05T09:04:07.422070Z",
     "shell.execute_reply": "2025-04-05T09:04:07.421125Z"
    },
    "papermill": {
     "duration": 0.045812,
     "end_time": "2025-04-05T09:04:07.423943",
     "exception": false,
     "start_time": "2025-04-05T09:04:07.378131",
     "status": "completed"
    },
    "tags": []
   },
   "outputs": [
    {
     "data": {
      "text/plain": [
       "(2, 3, 1, 4)"
      ]
     },
     "execution_count": 96,
     "metadata": {},
     "output_type": "execute_result"
    }
   ],
   "source": [
    "my_list = [2,3,1,4]\n",
    "another_tuple = tuple(my_list)\n",
    "another_tuple"
   ]
  },
  {
   "cell_type": "markdown",
   "id": "7ae0f98d",
   "metadata": {
    "papermill": {
     "duration": 0.036133,
     "end_time": "2025-04-05T09:04:07.504522",
     "exception": false,
     "start_time": "2025-04-05T09:04:07.468389",
     "status": "completed"
    },
    "tags": []
   },
   "source": [
    "Tuples generally support the same indexing and slicing operations as lists and they also support some of the same functions, with the caveat that tuples cannot be changed after they are created.  This means we can do things like find the length, max or min of a tuple, but we can't append new values to them or remove values from them :"
   ]
  },
  {
   "cell_type": "code",
   "execution_count": 97,
   "id": "905dabda",
   "metadata": {
    "execution": {
     "iopub.execute_input": "2025-04-05T09:04:07.587636Z",
     "iopub.status.busy": "2025-04-05T09:04:07.587241Z",
     "iopub.status.idle": "2025-04-05T09:04:07.593092Z",
     "shell.execute_reply": "2025-04-05T09:04:07.592116Z"
    },
    "papermill": {
     "duration": 0.046972,
     "end_time": "2025-04-05T09:04:07.595039",
     "exception": false,
     "start_time": "2025-04-05T09:04:07.548067",
     "status": "completed"
    },
    "tags": []
   },
   "outputs": [
    {
     "data": {
      "text/plain": [
       "1"
      ]
     },
     "execution_count": 97,
     "metadata": {},
     "output_type": "execute_result"
    }
   ],
   "source": [
    "another_tuple[2]     #You can index into tuples"
   ]
  },
  {
   "cell_type": "code",
   "execution_count": 98,
   "id": "d5592b51",
   "metadata": {
    "execution": {
     "iopub.execute_input": "2025-04-05T09:04:07.676507Z",
     "iopub.status.busy": "2025-04-05T09:04:07.676024Z",
     "iopub.status.idle": "2025-04-05T09:04:07.682296Z",
     "shell.execute_reply": "2025-04-05T09:04:07.681231Z"
    },
    "papermill": {
     "duration": 0.045758,
     "end_time": "2025-04-05T09:04:07.683892",
     "exception": false,
     "start_time": "2025-04-05T09:04:07.638134",
     "status": "completed"
    },
    "tags": []
   },
   "outputs": [
    {
     "data": {
      "text/plain": [
       "(1, 4)"
      ]
     },
     "execution_count": 98,
     "metadata": {},
     "output_type": "execute_result"
    }
   ],
   "source": [
    "another_tuple[2:4]    #You can slice tuples"
   ]
  },
  {
   "cell_type": "code",
   "execution_count": 99,
   "id": "adefb7e8",
   "metadata": {
    "execution": {
     "iopub.execute_input": "2025-04-05T09:04:07.759318Z",
     "iopub.status.busy": "2025-04-05T09:04:07.758925Z",
     "iopub.status.idle": "2025-04-05T09:04:07.765301Z",
     "shell.execute_reply": "2025-04-05T09:04:07.764215Z"
    },
    "papermill": {
     "duration": 0.046068,
     "end_time": "2025-04-05T09:04:07.766822",
     "exception": false,
     "start_time": "2025-04-05T09:04:07.720754",
     "status": "completed"
    },
    "tags": []
   },
   "outputs": [
    {
     "name": "stdout",
     "output_type": "stream",
     "text": [
      "4\n",
      "1\n",
      "4\n",
      "10\n"
     ]
    }
   ],
   "source": [
    "# You can use common sequence functions on tuples:\n",
    "\n",
    "print(len(another_tuple))\n",
    "print(min(another_tuple))\n",
    "print(max(another_tuple))\n",
    "print(sum(another_tuple))"
   ]
  },
  {
   "cell_type": "code",
   "execution_count": 100,
   "id": "2d6f5976",
   "metadata": {
    "execution": {
     "iopub.execute_input": "2025-04-05T09:04:07.842346Z",
     "iopub.status.busy": "2025-04-05T09:04:07.841878Z",
     "iopub.status.idle": "2025-04-05T09:04:07.846087Z",
     "shell.execute_reply": "2025-04-05T09:04:07.845006Z"
    },
    "papermill": {
     "duration": 0.044178,
     "end_time": "2025-04-05T09:04:07.848072",
     "exception": false,
     "start_time": "2025-04-05T09:04:07.803894",
     "status": "completed"
    },
    "tags": []
   },
   "outputs": [],
   "source": [
    "#another_tuple.append(1)     #You can't append to a tuple\n",
    "#You cannot append to a tuple"
   ]
  },
  {
   "cell_type": "code",
   "execution_count": 101,
   "id": "4ecd2525",
   "metadata": {
    "execution": {
     "iopub.execute_input": "2025-04-05T09:04:07.930878Z",
     "iopub.status.busy": "2025-04-05T09:04:07.930421Z",
     "iopub.status.idle": "2025-04-05T09:04:07.934553Z",
     "shell.execute_reply": "2025-04-05T09:04:07.933515Z"
    },
    "papermill": {
     "duration": 0.043795,
     "end_time": "2025-04-05T09:04:07.936357",
     "exception": false,
     "start_time": "2025-04-05T09:04:07.892562",
     "status": "completed"
    },
    "tags": []
   },
   "outputs": [],
   "source": [
    "#del another_tuple[1] \n",
    "# You can't delete from a tuple"
   ]
  },
  {
   "cell_type": "markdown",
   "id": "f7c0671b",
   "metadata": {
    "papermill": {
     "duration": 0.03675,
     "end_time": "2025-04-05T09:04:08.016931",
     "exception": false,
     "start_time": "2025-04-05T09:04:07.980181",
     "status": "completed"
    },
    "tags": []
   },
   "source": [
    "# Strings"
   ]
  },
  {
   "cell_type": "markdown",
   "id": "fce81fa5",
   "metadata": {
    "papermill": {
     "duration": 0.036592,
     "end_time": "2025-04-05T09:04:08.090447",
     "exception": false,
     "start_time": "2025-04-05T09:04:08.053855",
     "status": "completed"
    },
    "tags": []
   },
   "source": [
    "Strings are technically sequences: immutable sequences of text characters. As sequences, they support indexing operations where the first character of a string is index 0. This means we can get individual letters or slices of letters with indexing:"
   ]
  },
  {
   "cell_type": "code",
   "execution_count": 102,
   "id": "cba190c5",
   "metadata": {
    "execution": {
     "iopub.execute_input": "2025-04-05T09:04:08.164830Z",
     "iopub.status.busy": "2025-04-05T09:04:08.164453Z",
     "iopub.status.idle": "2025-04-05T09:04:08.169965Z",
     "shell.execute_reply": "2025-04-05T09:04:08.169011Z"
    },
    "papermill": {
     "duration": 0.044649,
     "end_time": "2025-04-05T09:04:08.171545",
     "exception": false,
     "start_time": "2025-04-05T09:04:08.126896",
     "status": "completed"
    },
    "tags": []
   },
   "outputs": [
    {
     "data": {
      "text/plain": [
       "'l'"
      ]
     },
     "execution_count": 102,
     "metadata": {},
     "output_type": "execute_result"
    }
   ],
   "source": [
    "my_string = \"Hello World\"\n",
    "my_string[3]   #get the character at index 3"
   ]
  },
  {
   "cell_type": "code",
   "execution_count": 103,
   "id": "90e58c73",
   "metadata": {
    "execution": {
     "iopub.execute_input": "2025-04-05T09:04:08.302064Z",
     "iopub.status.busy": "2025-04-05T09:04:08.301731Z",
     "iopub.status.idle": "2025-04-05T09:04:08.307340Z",
     "shell.execute_reply": "2025-04-05T09:04:08.306275Z"
    },
    "papermill": {
     "duration": 0.044488,
     "end_time": "2025-04-05T09:04:08.308855",
     "exception": false,
     "start_time": "2025-04-05T09:04:08.264367",
     "status": "completed"
    },
    "tags": []
   },
   "outputs": [
    {
     "data": {
      "text/plain": [
       "'lo World'"
      ]
     },
     "execution_count": 103,
     "metadata": {},
     "output_type": "execute_result"
    }
   ],
   "source": [
    "my_string[3:]  #slice from the third index to the end"
   ]
  },
  {
   "cell_type": "code",
   "execution_count": 104,
   "id": "cbf1399b",
   "metadata": {
    "execution": {
     "iopub.execute_input": "2025-04-05T09:04:08.385620Z",
     "iopub.status.busy": "2025-04-05T09:04:08.385105Z",
     "iopub.status.idle": "2025-04-05T09:04:08.391313Z",
     "shell.execute_reply": "2025-04-05T09:04:08.390366Z"
    },
    "papermill": {
     "duration": 0.046997,
     "end_time": "2025-04-05T09:04:08.392972",
     "exception": false,
     "start_time": "2025-04-05T09:04:08.345975",
     "status": "completed"
    },
    "tags": []
   },
   "outputs": [
    {
     "data": {
      "text/plain": [
       "'dlroW olleH'"
      ]
     },
     "execution_count": 104,
     "metadata": {},
     "output_type": "execute_result"
    }
   ],
   "source": [
    "my_string[::-1]   #reverse the string"
   ]
  },
  {
   "cell_type": "markdown",
   "id": "f9c8764a",
   "metadata": {
    "papermill": {
     "duration": 0.037011,
     "end_time": "2025-04-05T09:04:08.467431",
     "exception": false,
     "start_time": "2025-04-05T09:04:08.430420",
     "status": "completed"
    },
    "tags": []
   },
   "source": [
    "In addition, certain sequence function like len() and count() work on strings:"
   ]
  },
  {
   "cell_type": "code",
   "execution_count": 105,
   "id": "0db5beeb",
   "metadata": {
    "execution": {
     "iopub.execute_input": "2025-04-05T09:04:08.544234Z",
     "iopub.status.busy": "2025-04-05T09:04:08.543740Z",
     "iopub.status.idle": "2025-04-05T09:04:08.549725Z",
     "shell.execute_reply": "2025-04-05T09:04:08.548624Z"
    },
    "papermill": {
     "duration": 0.046055,
     "end_time": "2025-04-05T09:04:08.551348",
     "exception": false,
     "start_time": "2025-04-05T09:04:08.505293",
     "status": "completed"
    },
    "tags": []
   },
   "outputs": [
    {
     "data": {
      "text/plain": [
       "11"
      ]
     },
     "execution_count": 105,
     "metadata": {},
     "output_type": "execute_result"
    }
   ],
   "source": [
    "len(my_string)"
   ]
  },
  {
   "cell_type": "code",
   "execution_count": 106,
   "id": "3c4e9f22",
   "metadata": {
    "execution": {
     "iopub.execute_input": "2025-04-05T09:04:08.627822Z",
     "iopub.status.busy": "2025-04-05T09:04:08.627458Z",
     "iopub.status.idle": "2025-04-05T09:04:08.633281Z",
     "shell.execute_reply": "2025-04-05T09:04:08.632339Z"
    },
    "papermill": {
     "duration": 0.045147,
     "end_time": "2025-04-05T09:04:08.634822",
     "exception": false,
     "start_time": "2025-04-05T09:04:08.589675",
     "status": "completed"
    },
    "tags": []
   },
   "outputs": [
    {
     "data": {
      "text/plain": [
       "3"
      ]
     },
     "execution_count": 106,
     "metadata": {},
     "output_type": "execute_result"
    }
   ],
   "source": [
    "my_string.count(\"l\")    #Count the l's in the string"
   ]
  },
  {
   "cell_type": "markdown",
   "id": "175f964f",
   "metadata": {
    "papermill": {
     "duration": 0.036928,
     "end_time": "2025-04-05T09:04:08.708984",
     "exception": false,
     "start_time": "2025-04-05T09:04:08.672056",
     "status": "completed"
    },
    "tags": []
   },
   "source": [
    "As immutable objects, you can't change a string itself: everytime you transform a string with function, Python makes a new string object, rather than actually altering the original string that exists in your computer's memory."
   ]
  },
  {
   "cell_type": "markdown",
   "id": "e628792c",
   "metadata": {
    "papermill": {
     "duration": 0.036748,
     "end_time": "2025-04-05T09:04:08.784056",
     "exception": false,
     "start_time": "2025-04-05T09:04:08.747308",
     "status": "completed"
    },
    "tags": []
   },
   "source": [
    "Strings have many associated functions. Some basic string functions include:"
   ]
  },
  {
   "cell_type": "code",
   "execution_count": 107,
   "id": "5f2aedbf",
   "metadata": {
    "execution": {
     "iopub.execute_input": "2025-04-05T09:04:08.859774Z",
     "iopub.status.busy": "2025-04-05T09:04:08.859394Z",
     "iopub.status.idle": "2025-04-05T09:04:08.864697Z",
     "shell.execute_reply": "2025-04-05T09:04:08.863710Z"
    },
    "papermill": {
     "duration": 0.04453,
     "end_time": "2025-04-05T09:04:08.866145",
     "exception": false,
     "start_time": "2025-04-05T09:04:08.821615",
     "status": "completed"
    },
    "tags": []
   },
   "outputs": [
    {
     "data": {
      "text/plain": [
       "'hello world'"
      ]
     },
     "execution_count": 107,
     "metadata": {},
     "output_type": "execute_result"
    }
   ],
   "source": [
    "#str.lower()\n",
    "my_string.lower()   #Make all characters lowercase"
   ]
  },
  {
   "cell_type": "code",
   "execution_count": 108,
   "id": "20efd04a",
   "metadata": {
    "execution": {
     "iopub.execute_input": "2025-04-05T09:04:08.940623Z",
     "iopub.status.busy": "2025-04-05T09:04:08.940235Z",
     "iopub.status.idle": "2025-04-05T09:04:08.945632Z",
     "shell.execute_reply": "2025-04-05T09:04:08.944533Z"
    },
    "papermill": {
     "duration": 0.044078,
     "end_time": "2025-04-05T09:04:08.947008",
     "exception": false,
     "start_time": "2025-04-05T09:04:08.902930",
     "status": "completed"
    },
    "tags": []
   },
   "outputs": [
    {
     "data": {
      "text/plain": [
       "'HELLO WORLD'"
      ]
     },
     "execution_count": 108,
     "metadata": {},
     "output_type": "execute_result"
    }
   ],
   "source": [
    "#str.upper()\n",
    "my_string.upper()  #Make all characters uppercase"
   ]
  },
  {
   "cell_type": "code",
   "execution_count": 109,
   "id": "2ced4395",
   "metadata": {
    "execution": {
     "iopub.execute_input": "2025-04-05T09:04:09.021959Z",
     "iopub.status.busy": "2025-04-05T09:04:09.021590Z",
     "iopub.status.idle": "2025-04-05T09:04:09.026783Z",
     "shell.execute_reply": "2025-04-05T09:04:09.025880Z"
    },
    "papermill": {
     "duration": 0.044575,
     "end_time": "2025-04-05T09:04:09.028368",
     "exception": false,
     "start_time": "2025-04-05T09:04:08.983793",
     "status": "completed"
    },
    "tags": []
   },
   "outputs": [
    {
     "data": {
      "text/plain": [
       "'Hello World'"
      ]
     },
     "execution_count": 109,
     "metadata": {},
     "output_type": "execute_result"
    }
   ],
   "source": [
    "#str.title()\n",
    "my_string.title()  #Mak the first letter of each word upper"
   ]
  },
  {
   "cell_type": "markdown",
   "id": "930ed6cf",
   "metadata": {
    "papermill": {
     "duration": 0.035935,
     "end_time": "2025-04-05T09:04:09.102146",
     "exception": false,
     "start_time": "2025-04-05T09:04:09.066211",
     "status": "completed"
    },
    "tags": []
   },
   "source": [
    "Find the index of the first appearing substring within a string using str.find(). If the substring does not appear, find() returns -1:"
   ]
  },
  {
   "cell_type": "code",
   "execution_count": 110,
   "id": "868d23c8",
   "metadata": {
    "execution": {
     "iopub.execute_input": "2025-04-05T09:04:09.176353Z",
     "iopub.status.busy": "2025-04-05T09:04:09.175921Z",
     "iopub.status.idle": "2025-04-05T09:04:09.181205Z",
     "shell.execute_reply": "2025-04-05T09:04:09.180315Z"
    },
    "papermill": {
     "duration": 0.044121,
     "end_time": "2025-04-05T09:04:09.182710",
     "exception": false,
     "start_time": "2025-04-05T09:04:09.138589",
     "status": "completed"
    },
    "tags": []
   },
   "outputs": [
    {
     "data": {
      "text/plain": [
       "-1"
      ]
     },
     "execution_count": 110,
     "metadata": {},
     "output_type": "execute_result"
    }
   ],
   "source": [
    "my_string.find(\"S\")"
   ]
  },
  {
   "cell_type": "markdown",
   "id": "71e5471b",
   "metadata": {
    "papermill": {
     "duration": 0.037701,
     "end_time": "2025-04-05T09:04:09.257644",
     "exception": false,
     "start_time": "2025-04-05T09:04:09.219943",
     "status": "completed"
    },
    "tags": []
   },
   "source": [
    "Notice that since strings are immutable, we never actually changed the original value of my_string with any of the code above, but instead generated new strings that were printed to the console. This means \"S\" does not exist in my_string even through our call to str.title() produced the output 'Hello World'. "
   ]
  },
  {
   "cell_type": "code",
   "execution_count": 111,
   "id": "9e284728",
   "metadata": {
    "execution": {
     "iopub.execute_input": "2025-04-05T09:04:09.332963Z",
     "iopub.status.busy": "2025-04-05T09:04:09.332588Z",
     "iopub.status.idle": "2025-04-05T09:04:09.337779Z",
     "shell.execute_reply": "2025-04-05T09:04:09.336913Z"
    },
    "papermill": {
     "duration": 0.044391,
     "end_time": "2025-04-05T09:04:09.339341",
     "exception": false,
     "start_time": "2025-04-05T09:04:09.294950",
     "status": "completed"
    },
    "tags": []
   },
   "outputs": [
    {
     "data": {
      "text/plain": [
       "6"
      ]
     },
     "execution_count": 111,
     "metadata": {},
     "output_type": "execute_result"
    }
   ],
   "source": [
    "my_string.find(\"W\")"
   ]
  },
  {
   "cell_type": "markdown",
   "id": "ad56df5b",
   "metadata": {
    "papermill": {
     "duration": 0.036757,
     "end_time": "2025-04-05T09:04:09.413421",
     "exception": false,
     "start_time": "2025-04-05T09:04:09.376664",
     "status": "completed"
    },
    "tags": []
   },
   "source": [
    "Find and replace a target substring within a string using str.replace()\""
   ]
  },
  {
   "cell_type": "code",
   "execution_count": 112,
   "id": "2717b990",
   "metadata": {
    "execution": {
     "iopub.execute_input": "2025-04-05T09:04:09.488839Z",
     "iopub.status.busy": "2025-04-05T09:04:09.488420Z",
     "iopub.status.idle": "2025-04-05T09:04:09.494652Z",
     "shell.execute_reply": "2025-04-05T09:04:09.493680Z"
    },
    "papermill": {
     "duration": 0.046089,
     "end_time": "2025-04-05T09:04:09.496364",
     "exception": false,
     "start_time": "2025-04-05T09:04:09.450275",
     "status": "completed"
    },
    "tags": []
   },
   "outputs": [
    {
     "data": {
      "text/plain": [
       "'Hello friend'"
      ]
     },
     "execution_count": 112,
     "metadata": {},
     "output_type": "execute_result"
    }
   ],
   "source": [
    "my_string = \"Hello world\"\n",
    "my_string.replace(\"world\",     #Substring to replace\n",
    "                \"friend\")      #New Substring"
   ]
  },
  {
   "cell_type": "markdown",
   "id": "1f1c07f6",
   "metadata": {
    "papermill": {
     "duration": 0.037567,
     "end_time": "2025-04-05T09:04:09.572146",
     "exception": false,
     "start_time": "2025-04-05T09:04:09.534579",
     "status": "completed"
    },
    "tags": []
   },
   "source": [
    "Split a string into a list of substrings based on a given separating character with str.split():"
   ]
  },
  {
   "cell_type": "code",
   "execution_count": 113,
   "id": "5aadf3e5",
   "metadata": {
    "execution": {
     "iopub.execute_input": "2025-04-05T09:04:09.650538Z",
     "iopub.status.busy": "2025-04-05T09:04:09.650119Z",
     "iopub.status.idle": "2025-04-05T09:04:09.655465Z",
     "shell.execute_reply": "2025-04-05T09:04:09.654535Z"
    },
    "papermill": {
     "duration": 0.046781,
     "end_time": "2025-04-05T09:04:09.656881",
     "exception": false,
     "start_time": "2025-04-05T09:04:09.610100",
     "status": "completed"
    },
    "tags": []
   },
   "outputs": [
    {
     "data": {
      "text/plain": [
       "['Hello', 'world']"
      ]
     },
     "execution_count": 113,
     "metadata": {},
     "output_type": "execute_result"
    }
   ],
   "source": [
    "my_string.split()    #str.split() splits on spaces by default"
   ]
  },
  {
   "cell_type": "code",
   "execution_count": 114,
   "id": "c71f7895",
   "metadata": {
    "execution": {
     "iopub.execute_input": "2025-04-05T09:04:09.731765Z",
     "iopub.status.busy": "2025-04-05T09:04:09.731395Z",
     "iopub.status.idle": "2025-04-05T09:04:09.736618Z",
     "shell.execute_reply": "2025-04-05T09:04:09.735736Z"
    },
    "papermill": {
     "duration": 0.044078,
     "end_time": "2025-04-05T09:04:09.738073",
     "exception": false,
     "start_time": "2025-04-05T09:04:09.693995",
     "status": "completed"
    },
    "tags": []
   },
   "outputs": [
    {
     "data": {
      "text/plain": [
       "['Hello world']"
      ]
     },
     "execution_count": 114,
     "metadata": {},
     "output_type": "execute_result"
    }
   ],
   "source": [
    "my_string.split(\"_\") "
   ]
  },
  {
   "cell_type": "code",
   "execution_count": 115,
   "id": "404d2bc7",
   "metadata": {
    "execution": {
     "iopub.execute_input": "2025-04-05T09:04:09.815289Z",
     "iopub.status.busy": "2025-04-05T09:04:09.814893Z",
     "iopub.status.idle": "2025-04-05T09:04:09.820897Z",
     "shell.execute_reply": "2025-04-05T09:04:09.819907Z"
    },
    "papermill": {
     "duration": 0.046454,
     "end_time": "2025-04-05T09:04:09.822487",
     "exception": false,
     "start_time": "2025-04-05T09:04:09.776033",
     "status": "completed"
    },
    "tags": []
   },
   "outputs": [
    {
     "data": {
      "text/plain": [
       "['He', '', 'o wor', 'd']"
      ]
     },
     "execution_count": 115,
     "metadata": {},
     "output_type": "execute_result"
    }
   ],
   "source": [
    "my_string.split(\"l\")   #Supply a substring to split  on other values"
   ]
  },
  {
   "cell_type": "markdown",
   "id": "2dc1bf0d",
   "metadata": {
    "papermill": {
     "duration": 0.037147,
     "end_time": "2025-04-05T09:04:09.897661",
     "exception": false,
     "start_time": "2025-04-05T09:04:09.860514",
     "status": "completed"
    },
    "tags": []
   },
   "source": [
    "Split a multi-line string into a list of lines using str.splitlines():"
   ]
  },
  {
   "cell_type": "code",
   "execution_count": 116,
   "id": "0a72f5d5",
   "metadata": {
    "execution": {
     "iopub.execute_input": "2025-04-05T09:04:09.974214Z",
     "iopub.status.busy": "2025-04-05T09:04:09.973840Z",
     "iopub.status.idle": "2025-04-05T09:04:09.979483Z",
     "shell.execute_reply": "2025-04-05T09:04:09.978551Z"
    },
    "papermill": {
     "duration": 0.045366,
     "end_time": "2025-04-05T09:04:09.980952",
     "exception": false,
     "start_time": "2025-04-05T09:04:09.935586",
     "status": "completed"
    },
    "tags": []
   },
   "outputs": [
    {
     "data": {
      "text/plain": [
       "['I ', 'a multiline ', 'string!']"
      ]
     },
     "execution_count": 116,
     "metadata": {},
     "output_type": "execute_result"
    }
   ],
   "source": [
    "multiline_string = \"\"\"I \n",
    "a multiline \n",
    "string!\"\"\"\n",
    "multiline_string.splitlines()"
   ]
  },
  {
   "cell_type": "markdown",
   "id": "eb4a1c39",
   "metadata": {
    "papermill": {
     "duration": 0.037822,
     "end_time": "2025-04-05T09:04:10.056787",
     "exception": false,
     "start_time": "2025-04-05T09:04:10.018965",
     "status": "completed"
    },
    "tags": []
   },
   "source": [
    "Strip leading and trailing characters from both ends of a string with str.strip()"
   ]
  },
  {
   "cell_type": "code",
   "execution_count": 117,
   "id": "cb2c9ca3",
   "metadata": {
    "execution": {
     "iopub.execute_input": "2025-04-05T09:04:10.134226Z",
     "iopub.status.busy": "2025-04-05T09:04:10.133840Z",
     "iopub.status.idle": "2025-04-05T09:04:10.139321Z",
     "shell.execute_reply": "2025-04-05T09:04:10.138378Z"
    },
    "papermill": {
     "duration": 0.046339,
     "end_time": "2025-04-05T09:04:10.140940",
     "exception": false,
     "start_time": "2025-04-05T09:04:10.094601",
     "status": "completed"
    },
    "tags": []
   },
   "outputs": [
    {
     "data": {
      "text/plain": [
       "'strip white space!'"
      ]
     },
     "execution_count": 117,
     "metadata": {},
     "output_type": "execute_result"
    }
   ],
   "source": [
    "# str.strip() removes whitespace by default\n",
    "\"   strip white space!   \".strip()"
   ]
  },
  {
   "cell_type": "markdown",
   "id": "16e3765a",
   "metadata": {
    "papermill": {
     "duration": 0.042651,
     "end_time": "2025-04-05T09:04:10.221677",
     "exception": false,
     "start_time": "2025-04-05T09:04:10.179026",
     "status": "completed"
    },
    "tags": []
   },
   "source": [
    "Override the default by supplying a string containing all characters you'd like to strip as an argument to the function :"
   ]
  },
  {
   "cell_type": "code",
   "execution_count": 118,
   "id": "dcf66b76",
   "metadata": {
    "execution": {
     "iopub.execute_input": "2025-04-05T09:04:10.300054Z",
     "iopub.status.busy": "2025-04-05T09:04:10.299731Z",
     "iopub.status.idle": "2025-04-05T09:04:10.305160Z",
     "shell.execute_reply": "2025-04-05T09:04:10.304190Z"
    },
    "papermill": {
     "duration": 0.045834,
     "end_time": "2025-04-05T09:04:10.306685",
     "exception": false,
     "start_time": "2025-04-05T09:04:10.260851",
     "status": "completed"
    },
    "tags": []
   },
   "outputs": [
    {
     "data": {
      "text/plain": [
       "'BuyNOW'"
      ]
     },
     "execution_count": 118,
     "metadata": {},
     "output_type": "execute_result"
    }
   ],
   "source": [
    "\"xXxxBuyNOWxxXx\".strip(\"xX\")"
   ]
  },
  {
   "cell_type": "markdown",
   "id": "4c7f3915",
   "metadata": {
    "papermill": {
     "duration": 0.051082,
     "end_time": "2025-04-05T09:04:10.396560",
     "exception": false,
     "start_time": "2025-04-05T09:04:10.345478",
     "status": "completed"
    },
    "tags": []
   },
   "source": [
    "You can strip characters from the left or right sides only with str.Istrip() and str.rstrip() respectively. To join or concatenate two strings together, you can us the plus (+) Operator:"
   ]
  },
  {
   "cell_type": "code",
   "execution_count": 119,
   "id": "1881b7a1",
   "metadata": {
    "execution": {
     "iopub.execute_input": "2025-04-05T09:04:10.483731Z",
     "iopub.status.busy": "2025-04-05T09:04:10.483336Z",
     "iopub.status.idle": "2025-04-05T09:04:10.489034Z",
     "shell.execute_reply": "2025-04-05T09:04:10.488007Z"
    },
    "papermill": {
     "duration": 0.0466,
     "end_time": "2025-04-05T09:04:10.490528",
     "exception": false,
     "start_time": "2025-04-05T09:04:10.443928",
     "status": "completed"
    },
    "tags": []
   },
   "outputs": [
    {
     "data": {
      "text/plain": [
       "'Hello World'"
      ]
     },
     "execution_count": 119,
     "metadata": {},
     "output_type": "execute_result"
    }
   ],
   "source": [
    "\"Hello \"  + \"World\""
   ]
  },
  {
   "cell_type": "markdown",
   "id": "c9d91495",
   "metadata": {
    "papermill": {
     "duration": 0.038298,
     "end_time": "2025-04-05T09:04:10.567028",
     "exception": false,
     "start_time": "2025-04-05T09:04:10.528730",
     "status": "completed"
    },
    "tags": []
   },
   "source": [
    "Convert the a list of strings into a single string separated by a given delimiter with str.join():"
   ]
  },
  {
   "cell_type": "code",
   "execution_count": 120,
   "id": "316e25a7",
   "metadata": {
    "execution": {
     "iopub.execute_input": "2025-04-05T09:04:10.644729Z",
     "iopub.status.busy": "2025-04-05T09:04:10.644385Z",
     "iopub.status.idle": "2025-04-05T09:04:10.649647Z",
     "shell.execute_reply": "2025-04-05T09:04:10.648841Z"
    },
    "papermill": {
     "duration": 0.045886,
     "end_time": "2025-04-05T09:04:10.651172",
     "exception": false,
     "start_time": "2025-04-05T09:04:10.605286",
     "status": "completed"
    },
    "tags": []
   },
   "outputs": [
    {
     "data": {
      "text/plain": [
       "'Hello World! Join Me!'"
      ]
     },
     "execution_count": 120,
     "metadata": {},
     "output_type": "execute_result"
    }
   ],
   "source": [
    "\" \".join([\"Hello\",\"World!\",\"Join\",\"Me!\"])"
   ]
  },
  {
   "cell_type": "code",
   "execution_count": 121,
   "id": "5c6c17d7",
   "metadata": {
    "execution": {
     "iopub.execute_input": "2025-04-05T09:04:10.727959Z",
     "iopub.status.busy": "2025-04-05T09:04:10.727640Z",
     "iopub.status.idle": "2025-04-05T09:04:10.733233Z",
     "shell.execute_reply": "2025-04-05T09:04:10.732374Z"
    },
    "papermill": {
     "duration": 0.045698,
     "end_time": "2025-04-05T09:04:10.734750",
     "exception": false,
     "start_time": "2025-04-05T09:04:10.689052",
     "status": "completed"
    },
    "tags": []
   },
   "outputs": [
    {
     "data": {
      "text/plain": [
       "'My name is Joe I am 10 and I live in Paris'"
      ]
     },
     "execution_count": 121,
     "metadata": {},
     "output_type": "execute_result"
    }
   ],
   "source": [
    "name = \"Joe\"\n",
    "age = 10\n",
    "city = \"Paris\"\n",
    "template_string = \"My name is {} I am {} and I live in {}\"\n",
    "template_string.format(name, age, city)"
   ]
  },
  {
   "cell_type": "markdown",
   "id": "38276bae",
   "metadata": {
    "papermill": {
     "duration": 0.03745,
     "end_time": "2025-04-05T09:04:10.810605",
     "exception": false,
     "start_time": "2025-04-05T09:04:10.773155",
     "status": "completed"
    },
    "tags": []
   },
   "source": [
    "Formatted strings or f-strings for short are an alternative, relatively new (as of python version 3.6) method for string formatting. F-strings are strings prefixed with \"f\" that allows you to insert existing variables into string by name by placing them within curly braces:"
   ]
  },
  {
   "cell_type": "code",
   "execution_count": 122,
   "id": "5af6dd6a",
   "metadata": {
    "execution": {
     "iopub.execute_input": "2025-04-05T09:04:10.887388Z",
     "iopub.status.busy": "2025-04-05T09:04:10.887011Z",
     "iopub.status.idle": "2025-04-05T09:04:10.892150Z",
     "shell.execute_reply": "2025-04-05T09:04:10.891219Z"
    },
    "papermill": {
     "duration": 0.045116,
     "end_time": "2025-04-05T09:04:10.893633",
     "exception": false,
     "start_time": "2025-04-05T09:04:10.848517",
     "status": "completed"
    },
    "tags": []
   },
   "outputs": [
    {
     "data": {
      "text/plain": [
       "'My name is Joe I am 10 and I live in Paris'"
      ]
     },
     "execution_count": 122,
     "metadata": {},
     "output_type": "execute_result"
    }
   ],
   "source": [
    "#Remaking the example above using f-string\n",
    "f\"My name is {name} I am {age} and I live in {city}\""
   ]
  },
  {
   "cell_type": "markdown",
   "id": "d9fb85b7",
   "metadata": {
    "papermill": {
     "duration": 0.037854,
     "end_time": "2025-04-05T09:04:10.970238",
     "exception": false,
     "start_time": "2025-04-05T09:04:10.932384",
     "status": "completed"
    },
    "tags": []
   },
   "source": [
    "Sequences data types like lists, tuples and strings are ordered. Ordering can be useful in some cases, such as if your data is sorted or has some other natural sense of ordering, but it comes at a price. When you search through sequences like lists, your computer has to go through each element one at a time to find an object you're looking for."
   ]
  },
  {
   "cell_type": "code",
   "execution_count": 123,
   "id": "677ab8b9",
   "metadata": {
    "execution": {
     "iopub.execute_input": "2025-04-05T09:04:11.048583Z",
     "iopub.status.busy": "2025-04-05T09:04:11.048157Z",
     "iopub.status.idle": "2025-04-05T09:04:11.053784Z",
     "shell.execute_reply": "2025-04-05T09:04:11.052958Z"
    },
    "papermill": {
     "duration": 0.046676,
     "end_time": "2025-04-05T09:04:11.055238",
     "exception": false,
     "start_time": "2025-04-05T09:04:11.008562",
     "status": "completed"
    },
    "tags": []
   },
   "outputs": [
    {
     "data": {
      "text/plain": [
       "False"
      ]
     },
     "execution_count": 123,
     "metadata": {},
     "output_type": "execute_result"
    }
   ],
   "source": [
    "#Consider this code\n",
    "my_list = [1,2,3,4,5,6,7,8,9,10]\n",
    "0 in my_list"
   ]
  },
  {
   "cell_type": "markdown",
   "id": "a73de34d",
   "metadata": {
    "papermill": {
     "duration": 0.037909,
     "end_time": "2025-04-05T09:04:11.131540",
     "exception": false,
     "start_time": "2025-04-05T09:04:11.093631",
     "status": "completed"
    },
    "tags": []
   },
   "source": [
    "When running the code above, Python has to search through the entire list, one item at a time before it returns that 0 is not in the list.  This sequential searching isn't much of a concern with small list like this one, but if you're working with data that contains thousands or millions of values, it can add up quickly.\n",
    "\n",
    "Dictionaries and sets are unordered Python data structures that solve this issue using a technique called hashing.  We won't go into the details of their implementation, but dictionaries and sets let you check whether they contain objects without having to search through each element one at a time, at the cost of having no order and using a bit more system memory."
   ]
  },
  {
   "cell_type": "markdown",
   "id": "0b9d9624",
   "metadata": {
    "papermill": {
     "duration": 0.037895,
     "end_time": "2025-04-05T09:04:11.207770",
     "exception": false,
     "start_time": "2025-04-05T09:04:11.169875",
     "status": "completed"
    },
    "tags": []
   },
   "source": [
    "# Dictionaries\n",
    "\n",
    "A dictionary or dict is an object that maps a set of named indexes called keys to a set of corresponding values. Dictionaries are mutable, so you can add and remove keys and their associated values. A dictionary's keys must be immutable objects, such as ints, strings or tuples, but the values can be anything.\n",
    "\n",
    "Create a dictionary with a comma-separated list of key: value pairs within curly braces:"
   ]
  },
  {
   "cell_type": "code",
   "execution_count": 124,
   "id": "d5292ef1",
   "metadata": {
    "execution": {
     "iopub.execute_input": "2025-04-05T09:04:11.287006Z",
     "iopub.status.busy": "2025-04-05T09:04:11.286670Z",
     "iopub.status.idle": "2025-04-05T09:04:11.291728Z",
     "shell.execute_reply": "2025-04-05T09:04:11.290598Z"
    },
    "papermill": {
     "duration": 0.047016,
     "end_time": "2025-04-05T09:04:11.293197",
     "exception": false,
     "start_time": "2025-04-05T09:04:11.246181",
     "status": "completed"
    },
    "tags": []
   },
   "outputs": [
    {
     "name": "stdout",
     "output_type": "stream",
     "text": [
      "{'name': 'Joe', 'age': 10, 'city': 'Paris'}\n"
     ]
    }
   ],
   "source": [
    "my_dict = {\n",
    "    \"name\" : \"Joe\",\n",
    "    \"age\"  : 10,\n",
    "    \"city\" : \"Paris\"\n",
    "          }\n",
    "print(my_dict)"
   ]
  },
  {
   "cell_type": "code",
   "execution_count": null,
   "id": "18d0d879",
   "metadata": {
    "papermill": {
     "duration": 0.03794,
     "end_time": "2025-04-05T09:04:11.369706",
     "exception": false,
     "start_time": "2025-04-05T09:04:11.331766",
     "status": "completed"
    },
    "tags": []
   },
   "outputs": [],
   "source": []
  },
  {
   "cell_type": "code",
   "execution_count": null,
   "id": "e9622224",
   "metadata": {
    "papermill": {
     "duration": 0.038654,
     "end_time": "2025-04-05T09:04:11.447157",
     "exception": false,
     "start_time": "2025-04-05T09:04:11.408503",
     "status": "completed"
    },
    "tags": []
   },
   "outputs": [],
   "source": []
  },
  {
   "cell_type": "code",
   "execution_count": null,
   "id": "77cbec30",
   "metadata": {
    "papermill": {
     "duration": 0.03827,
     "end_time": "2025-04-05T09:04:11.524371",
     "exception": false,
     "start_time": "2025-04-05T09:04:11.486101",
     "status": "completed"
    },
    "tags": []
   },
   "outputs": [],
   "source": []
  },
  {
   "cell_type": "markdown",
   "id": "3393d747",
   "metadata": {
    "papermill": {
     "duration": 0.038994,
     "end_time": "2025-04-05T09:04:11.601956",
     "exception": false,
     "start_time": "2025-04-05T09:04:11.562962",
     "status": "completed"
    },
    "tags": []
   },
   "source": [
    "Notice that in the prited dictionary, the items don't appear in the same order as when we defined it, since dictionaries are unordered. Index into a dictionary using keys rather than numeric indexes:"
   ]
  },
  {
   "cell_type": "code",
   "execution_count": 125,
   "id": "c3d47be0",
   "metadata": {
    "execution": {
     "iopub.execute_input": "2025-04-05T09:04:11.682208Z",
     "iopub.status.busy": "2025-04-05T09:04:11.681872Z",
     "iopub.status.idle": "2025-04-05T09:04:11.687208Z",
     "shell.execute_reply": "2025-04-05T09:04:11.686368Z"
    },
    "papermill": {
     "duration": 0.047654,
     "end_time": "2025-04-05T09:04:11.688695",
     "exception": false,
     "start_time": "2025-04-05T09:04:11.641041",
     "status": "completed"
    },
    "tags": []
   },
   "outputs": [
    {
     "data": {
      "text/plain": [
       "'Joe'"
      ]
     },
     "execution_count": 125,
     "metadata": {},
     "output_type": "execute_result"
    }
   ],
   "source": [
    "my_dict[\"name\"]"
   ]
  },
  {
   "cell_type": "markdown",
   "id": "4260d822",
   "metadata": {
    "papermill": {
     "duration": 0.038176,
     "end_time": "2025-04-05T09:04:11.765068",
     "exception": false,
     "start_time": "2025-04-05T09:04:11.726892",
     "status": "completed"
    },
    "tags": []
   },
   "source": []
  },
  {
   "cell_type": "markdown",
   "id": "5df97a40",
   "metadata": {
    "papermill": {
     "duration": 0.037864,
     "end_time": "2025-04-05T09:04:11.841159",
     "exception": false,
     "start_time": "2025-04-05T09:04:11.803295",
     "status": "completed"
    },
    "tags": []
   },
   "source": []
  },
  {
   "cell_type": "code",
   "execution_count": null,
   "id": "0aa79e16",
   "metadata": {
    "papermill": {
     "duration": 0.038043,
     "end_time": "2025-04-05T09:04:11.917163",
     "exception": false,
     "start_time": "2025-04-05T09:04:11.879120",
     "status": "completed"
    },
    "tags": []
   },
   "outputs": [],
   "source": []
  }
 ],
 "metadata": {
  "kaggle": {
   "accelerator": "none",
   "dataSources": [],
   "dockerImageVersionId": 30918,
   "isGpuEnabled": false,
   "isInternetEnabled": false,
   "language": "python",
   "sourceType": "notebook"
  },
  "kernelspec": {
   "display_name": "Python 3",
   "language": "python",
   "name": "python3"
  },
  "language_info": {
   "codemirror_mode": {
    "name": "ipython",
    "version": 3
   },
   "file_extension": ".py",
   "mimetype": "text/x-python",
   "name": "python",
   "nbconvert_exporter": "python",
   "pygments_lexer": "ipython3",
   "version": "3.10.12"
  },
  "papermill": {
   "default_parameters": {},
   "duration": 19.5975,
   "end_time": "2025-04-05T09:04:12.474056",
   "environment_variables": {},
   "exception": null,
   "input_path": "__notebook__.ipynb",
   "output_path": "__notebook__.ipynb",
   "parameters": {},
   "start_time": "2025-04-05T09:03:52.876556",
   "version": "2.6.0"
  }
 },
 "nbformat": 4,
 "nbformat_minor": 5
}
