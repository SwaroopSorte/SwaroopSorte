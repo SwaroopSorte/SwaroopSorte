{
 "cells": [
  {
   "cell_type": "code",
   "execution_count": 1,
   "id": "aea1780d",
   "metadata": {
    "_cell_guid": "b1076dfc-b9ad-4769-8c92-a6c4dae69d19",
    "_uuid": "8f2839f25d086af736a60e9eeb907d3b93b6e0e5",
    "execution": {
     "iopub.execute_input": "2025-04-02T09:10:30.961231Z",
     "iopub.status.busy": "2025-04-02T09:10:30.960850Z",
     "iopub.status.idle": "2025-04-02T09:10:31.876353Z",
     "shell.execute_reply": "2025-04-02T09:10:31.875515Z"
    },
    "papermill": {
     "duration": 0.942923,
     "end_time": "2025-04-02T09:10:31.878243",
     "exception": false,
     "start_time": "2025-04-02T09:10:30.935320",
     "status": "completed"
    },
    "tags": []
   },
   "outputs": [],
   "source": [
    "# This Python 3 environment comes with many helpful analytics libraries installed\n",
    "# It is defined by the kaggle/python Docker image: https://github.com/kaggle/docker-python\n",
    "# For example, here's several helpful packages to load\n",
    "\n",
    "import numpy as np # linear algebra\n",
    "import pandas as pd # data processing, CSV file I/O (e.g. pd.read_csv)\n",
    "\n",
    "# Input data files are available in the read-only \"../input/\" directory\n",
    "# For example, running this (by clicking run or pressing Shift+Enter) will list all files under the input directory\n",
    "\n",
    "import os\n",
    "for dirname, _, filenames in os.walk('/kaggle/input'):\n",
    "    for filename in filenames:\n",
    "        print(os.path.join(dirname, filename))\n",
    "\n",
    "# You can write up to 20GB to the current directory (/kaggle/working/) that gets preserved as output when you create a version using \"Save & Run All\" \n",
    "# You can also write temporary files to /kaggle/temp/, but they won't be saved outside of the current session"
   ]
  },
  {
   "cell_type": "code",
   "execution_count": 2,
   "id": "1d32279e",
   "metadata": {
    "execution": {
     "iopub.execute_input": "2025-04-02T09:10:31.927523Z",
     "iopub.status.busy": "2025-04-02T09:10:31.927049Z",
     "iopub.status.idle": "2025-04-02T09:10:31.933541Z",
     "shell.execute_reply": "2025-04-02T09:10:31.932503Z"
    },
    "papermill": {
     "duration": 0.032581,
     "end_time": "2025-04-02T09:10:31.935277",
     "exception": false,
     "start_time": "2025-04-02T09:10:31.902696",
     "status": "completed"
    },
    "tags": []
   },
   "outputs": [
    {
     "data": {
      "text/plain": [
       "15"
      ]
     },
     "execution_count": 2,
     "metadata": {},
     "output_type": "execute_result"
    }
   ],
   "source": [
    "10 + 5"
   ]
  },
  {
   "cell_type": "code",
   "execution_count": 3,
   "id": "8837b379",
   "metadata": {
    "execution": {
     "iopub.execute_input": "2025-04-02T09:10:31.983606Z",
     "iopub.status.busy": "2025-04-02T09:10:31.983276Z",
     "iopub.status.idle": "2025-04-02T09:10:31.988700Z",
     "shell.execute_reply": "2025-04-02T09:10:31.987501Z"
    },
    "papermill": {
     "duration": 0.031375,
     "end_time": "2025-04-02T09:10:31.990384",
     "exception": false,
     "start_time": "2025-04-02T09:10:31.959009",
     "status": "completed"
    },
    "tags": []
   },
   "outputs": [
    {
     "data": {
      "text/plain": [
       "5"
      ]
     },
     "execution_count": 3,
     "metadata": {},
     "output_type": "execute_result"
    }
   ],
   "source": [
    "10 - 5"
   ]
  },
  {
   "cell_type": "code",
   "execution_count": 4,
   "id": "a5253c30",
   "metadata": {
    "execution": {
     "iopub.execute_input": "2025-04-02T09:10:32.038942Z",
     "iopub.status.busy": "2025-04-02T09:10:32.038574Z",
     "iopub.status.idle": "2025-04-02T09:10:32.043539Z",
     "shell.execute_reply": "2025-04-02T09:10:32.042786Z"
    },
    "papermill": {
     "duration": 0.030404,
     "end_time": "2025-04-02T09:10:32.044873",
     "exception": false,
     "start_time": "2025-04-02T09:10:32.014469",
     "status": "completed"
    },
    "tags": []
   },
   "outputs": [
    {
     "data": {
      "text/plain": [
       "50"
      ]
     },
     "execution_count": 4,
     "metadata": {},
     "output_type": "execute_result"
    }
   ],
   "source": [
    "10*5"
   ]
  },
  {
   "cell_type": "code",
   "execution_count": 5,
   "id": "5a3a1d70",
   "metadata": {
    "execution": {
     "iopub.execute_input": "2025-04-02T09:10:32.094083Z",
     "iopub.status.busy": "2025-04-02T09:10:32.093668Z",
     "iopub.status.idle": "2025-04-02T09:10:32.099244Z",
     "shell.execute_reply": "2025-04-02T09:10:32.098274Z"
    },
    "papermill": {
     "duration": 0.031802,
     "end_time": "2025-04-02T09:10:32.100743",
     "exception": false,
     "start_time": "2025-04-02T09:10:32.068941",
     "status": "completed"
    },
    "tags": []
   },
   "outputs": [
    {
     "data": {
      "text/plain": [
       "2.0"
      ]
     },
     "execution_count": 5,
     "metadata": {},
     "output_type": "execute_result"
    }
   ],
   "source": [
    "10/5"
   ]
  },
  {
   "cell_type": "code",
   "execution_count": 6,
   "id": "755ac356",
   "metadata": {
    "execution": {
     "iopub.execute_input": "2025-04-02T09:10:32.150107Z",
     "iopub.status.busy": "2025-04-02T09:10:32.149699Z",
     "iopub.status.idle": "2025-04-02T09:10:32.155361Z",
     "shell.execute_reply": "2025-04-02T09:10:32.154367Z"
    },
    "papermill": {
     "duration": 0.032351,
     "end_time": "2025-04-02T09:10:32.157210",
     "exception": false,
     "start_time": "2025-04-02T09:10:32.124859",
     "status": "completed"
    },
    "tags": []
   },
   "outputs": [
    {
     "data": {
      "text/plain": [
       "3.3333333333333335"
      ]
     },
     "execution_count": 6,
     "metadata": {},
     "output_type": "execute_result"
    }
   ],
   "source": [
    "10/3"
   ]
  },
  {
   "cell_type": "code",
   "execution_count": 7,
   "id": "5cb357a6",
   "metadata": {
    "execution": {
     "iopub.execute_input": "2025-04-02T09:10:32.207394Z",
     "iopub.status.busy": "2025-04-02T09:10:32.207064Z",
     "iopub.status.idle": "2025-04-02T09:10:32.212462Z",
     "shell.execute_reply": "2025-04-02T09:10:32.211618Z"
    },
    "papermill": {
     "duration": 0.032137,
     "end_time": "2025-04-02T09:10:32.213789",
     "exception": false,
     "start_time": "2025-04-02T09:10:32.181652",
     "status": "completed"
    },
    "tags": []
   },
   "outputs": [
    {
     "data": {
      "text/plain": [
       "3"
      ]
     },
     "execution_count": 7,
     "metadata": {},
     "output_type": "execute_result"
    }
   ],
   "source": [
    "10//3"
   ]
  },
  {
   "cell_type": "code",
   "execution_count": 8,
   "id": "d3b94d46",
   "metadata": {
    "execution": {
     "iopub.execute_input": "2025-04-02T09:10:32.263143Z",
     "iopub.status.busy": "2025-04-02T09:10:32.262773Z",
     "iopub.status.idle": "2025-04-02T09:10:32.267945Z",
     "shell.execute_reply": "2025-04-02T09:10:32.266986Z"
    },
    "papermill": {
     "duration": 0.031428,
     "end_time": "2025-04-02T09:10:32.269284",
     "exception": false,
     "start_time": "2025-04-02T09:10:32.237856",
     "status": "completed"
    },
    "tags": []
   },
   "outputs": [
    {
     "data": {
      "text/plain": [
       "1000"
      ]
     },
     "execution_count": 8,
     "metadata": {},
     "output_type": "execute_result"
    }
   ],
   "source": [
    "10**3"
   ]
  },
  {
   "cell_type": "code",
   "execution_count": 9,
   "id": "85b40537",
   "metadata": {
    "execution": {
     "iopub.execute_input": "2025-04-02T09:10:32.319246Z",
     "iopub.status.busy": "2025-04-02T09:10:32.318857Z",
     "iopub.status.idle": "2025-04-02T09:10:32.324066Z",
     "shell.execute_reply": "2025-04-02T09:10:32.323185Z"
    },
    "papermill": {
     "duration": 0.031833,
     "end_time": "2025-04-02T09:10:32.325633",
     "exception": false,
     "start_time": "2025-04-02T09:10:32.293800",
     "status": "completed"
    },
    "tags": []
   },
   "outputs": [
    {
     "data": {
      "text/plain": [
       "100"
      ]
     },
     "execution_count": 9,
     "metadata": {},
     "output_type": "execute_result"
    }
   ],
   "source": [
    "10**2"
   ]
  },
  {
   "cell_type": "code",
   "execution_count": 10,
   "id": "2152f80b",
   "metadata": {
    "execution": {
     "iopub.execute_input": "2025-04-02T09:10:32.377915Z",
     "iopub.status.busy": "2025-04-02T09:10:32.377381Z",
     "iopub.status.idle": "2025-04-02T09:10:32.384340Z",
     "shell.execute_reply": "2025-04-02T09:10:32.383206Z"
    },
    "papermill": {
     "duration": 0.036647,
     "end_time": "2025-04-02T09:10:32.386476",
     "exception": false,
     "start_time": "2025-04-02T09:10:32.349829",
     "status": "completed"
    },
    "tags": []
   },
   "outputs": [
    {
     "data": {
      "text/plain": [
       "10000"
      ]
     },
     "execution_count": 10,
     "metadata": {},
     "output_type": "execute_result"
    }
   ],
   "source": [
    "10**4"
   ]
  },
  {
   "cell_type": "code",
   "execution_count": null,
   "id": "fdc44487",
   "metadata": {
    "papermill": {
     "duration": 0.029334,
     "end_time": "2025-04-02T09:10:32.449460",
     "exception": false,
     "start_time": "2025-04-02T09:10:32.420126",
     "status": "completed"
    },
    "tags": []
   },
   "outputs": [],
   "source": []
  },
  {
   "cell_type": "markdown",
   "id": "c966e335",
   "metadata": {
    "papermill": {
     "duration": 0.035448,
     "end_time": "2025-04-02T09:10:32.578750",
     "exception": false,
     "start_time": "2025-04-02T09:10:32.543302",
     "status": "completed"
    },
    "tags": []
   },
   "source": [
    "Math expresssion in python follow the normal arithmetic order of expressions so * and / are executed before + and - and ** is executed before multiplication and division."
   ]
  },
  {
   "cell_type": "code",
   "execution_count": 11,
   "id": "160a769e",
   "metadata": {
    "execution": {
     "iopub.execute_input": "2025-04-02T09:10:32.629427Z",
     "iopub.status.busy": "2025-04-02T09:10:32.629081Z",
     "iopub.status.idle": "2025-04-02T09:10:32.634904Z",
     "shell.execute_reply": "2025-04-02T09:10:32.633737Z"
    },
    "papermill": {
     "duration": 0.033241,
     "end_time": "2025-04-02T09:10:32.636555",
     "exception": false,
     "start_time": "2025-04-02T09:10:32.603314",
     "status": "completed"
    },
    "tags": []
   },
   "outputs": [
    {
     "data": {
      "text/plain": [
       "77"
      ]
     },
     "execution_count": 11,
     "metadata": {},
     "output_type": "execute_result"
    }
   ],
   "source": [
    "2 + 3 * 5 ** 2"
   ]
  },
  {
   "cell_type": "markdown",
   "id": "a577affa",
   "metadata": {
    "papermill": {
     "duration": 0.025042,
     "end_time": "2025-04-02T09:10:32.687478",
     "exception": false,
     "start_time": "2025-04-02T09:10:32.662436",
     "status": "completed"
    },
    "tags": []
   },
   "source": [
    "You can use parenthesis in your math expression to ensure that operations are carried out on the correct order. Operations within parentheses are carried out before operations that are external to the parenthesis."
   ]
  },
  {
   "cell_type": "code",
   "execution_count": 12,
   "id": "4afa544e",
   "metadata": {
    "execution": {
     "iopub.execute_input": "2025-04-02T09:10:32.755617Z",
     "iopub.status.busy": "2025-04-02T09:10:32.755267Z",
     "iopub.status.idle": "2025-04-02T09:10:32.761140Z",
     "shell.execute_reply": "2025-04-02T09:10:32.760035Z"
    },
    "papermill": {
     "duration": 0.044969,
     "end_time": "2025-04-02T09:10:32.762632",
     "exception": false,
     "start_time": "2025-04-02T09:10:32.717663",
     "status": "completed"
    },
    "tags": []
   },
   "outputs": [
    {
     "data": {
      "text/plain": [
       "625"
      ]
     },
     "execution_count": 12,
     "metadata": {},
     "output_type": "execute_result"
    }
   ],
   "source": [
    "((2 + 3) * 5 ) ** 2"
   ]
  },
  {
   "cell_type": "code",
   "execution_count": 13,
   "id": "113c6a42",
   "metadata": {
    "execution": {
     "iopub.execute_input": "2025-04-02T09:10:32.816270Z",
     "iopub.status.busy": "2025-04-02T09:10:32.815763Z",
     "iopub.status.idle": "2025-04-02T09:10:32.822154Z",
     "shell.execute_reply": "2025-04-02T09:10:32.821027Z"
    },
    "papermill": {
     "duration": 0.034958,
     "end_time": "2025-04-02T09:10:32.823763",
     "exception": false,
     "start_time": "2025-04-02T09:10:32.788805",
     "status": "completed"
    },
    "tags": []
   },
   "outputs": [
    {
     "data": {
      "text/plain": [
       "25"
      ]
     },
     "execution_count": 13,
     "metadata": {},
     "output_type": "execute_result"
    }
   ],
   "source": [
    "100 % 75"
   ]
  },
  {
   "cell_type": "code",
   "execution_count": 14,
   "id": "0fedc0ca",
   "metadata": {
    "execution": {
     "iopub.execute_input": "2025-04-02T09:10:32.876756Z",
     "iopub.status.busy": "2025-04-02T09:10:32.876248Z",
     "iopub.status.idle": "2025-04-02T09:10:32.880973Z",
     "shell.execute_reply": "2025-04-02T09:10:32.879793Z"
    },
    "papermill": {
     "duration": 0.033213,
     "end_time": "2025-04-02T09:10:32.882841",
     "exception": false,
     "start_time": "2025-04-02T09:10:32.849628",
     "status": "completed"
    },
    "tags": []
   },
   "outputs": [],
   "source": [
    "import math   # load the math module"
   ]
  },
  {
   "cell_type": "code",
   "execution_count": 15,
   "id": "ba942d76",
   "metadata": {
    "execution": {
     "iopub.execute_input": "2025-04-02T09:10:32.949321Z",
     "iopub.status.busy": "2025-04-02T09:10:32.948856Z",
     "iopub.status.idle": "2025-04-02T09:10:32.954878Z",
     "shell.execute_reply": "2025-04-02T09:10:32.953971Z"
    },
    "papermill": {
     "duration": 0.036914,
     "end_time": "2025-04-02T09:10:32.956513",
     "exception": false,
     "start_time": "2025-04-02T09:10:32.919599",
     "status": "completed"
    },
    "tags": []
   },
   "outputs": [
    {
     "data": {
      "text/plain": [
       "0.9999698965391098"
      ]
     },
     "execution_count": 15,
     "metadata": {},
     "output_type": "execute_result"
    }
   ],
   "source": [
    "# math.log() takes the natural logarithm of its argument:\n",
    "math.log(2.7182)"
   ]
  },
  {
   "cell_type": "code",
   "execution_count": 16,
   "id": "7e61253d",
   "metadata": {
    "execution": {
     "iopub.execute_input": "2025-04-02T09:10:33.008220Z",
     "iopub.status.busy": "2025-04-02T09:10:33.007817Z",
     "iopub.status.idle": "2025-04-02T09:10:33.013608Z",
     "shell.execute_reply": "2025-04-02T09:10:33.012603Z"
    },
    "papermill": {
     "duration": 0.033656,
     "end_time": "2025-04-02T09:10:33.015283",
     "exception": false,
     "start_time": "2025-04-02T09:10:32.981627",
     "status": "completed"
    },
    "tags": []
   },
   "outputs": [
    {
     "data": {
      "text/plain": [
       "2.0"
      ]
     },
     "execution_count": 16,
     "metadata": {},
     "output_type": "execute_result"
    }
   ],
   "source": [
    "#Add a second argument to specify the log base:\n",
    "math.log(100,10)"
   ]
  },
  {
   "cell_type": "code",
   "execution_count": 17,
   "id": "689d1886",
   "metadata": {
    "execution": {
     "iopub.execute_input": "2025-04-02T09:10:33.067463Z",
     "iopub.status.busy": "2025-04-02T09:10:33.067115Z",
     "iopub.status.idle": "2025-04-02T09:10:33.072500Z",
     "shell.execute_reply": "2025-04-02T09:10:33.071503Z"
    },
    "papermill": {
     "duration": 0.033644,
     "end_time": "2025-04-02T09:10:33.074488",
     "exception": false,
     "start_time": "2025-04-02T09:10:33.040844",
     "status": "completed"
    },
    "tags": []
   },
   "outputs": [
    {
     "data": {
      "text/plain": [
       "22026.465794806718"
      ]
     },
     "execution_count": 17,
     "metadata": {},
     "output_type": "execute_result"
    }
   ],
   "source": [
    "#math.exp() raises e to the power of its argument\n",
    "math.exp(10)"
   ]
  },
  {
   "cell_type": "code",
   "execution_count": 18,
   "id": "57aea812",
   "metadata": {
    "execution": {
     "iopub.execute_input": "2025-04-02T09:10:33.134685Z",
     "iopub.status.busy": "2025-04-02T09:10:33.134213Z",
     "iopub.status.idle": "2025-04-02T09:10:33.140397Z",
     "shell.execute_reply": "2025-04-02T09:10:33.139430Z"
    },
    "papermill": {
     "duration": 0.034916,
     "end_time": "2025-04-02T09:10:33.141964",
     "exception": false,
     "start_time": "2025-04-02T09:10:33.107048",
     "status": "completed"
    },
    "tags": []
   },
   "outputs": [
    {
     "data": {
      "text/plain": [
       "30"
      ]
     },
     "execution_count": 18,
     "metadata": {},
     "output_type": "execute_result"
    }
   ],
   "source": [
    "#Use abs() to get the absolute value of a number. Note abs() is a base python function.\n",
    "abs(-30)"
   ]
  },
  {
   "cell_type": "code",
   "execution_count": 19,
   "id": "6aa336d3",
   "metadata": {
    "execution": {
     "iopub.execute_input": "2025-04-02T09:10:33.195277Z",
     "iopub.status.busy": "2025-04-02T09:10:33.194896Z",
     "iopub.status.idle": "2025-04-02T09:10:33.201150Z",
     "shell.execute_reply": "2025-04-02T09:10:33.200192Z"
    },
    "papermill": {
     "duration": 0.034717,
     "end_time": "2025-04-02T09:10:33.202857",
     "exception": false,
     "start_time": "2025-04-02T09:10:33.168140",
     "status": "completed"
    },
    "tags": []
   },
   "outputs": [
    {
     "data": {
      "text/plain": [
       "3.141592653589793"
      ]
     },
     "execution_count": 19,
     "metadata": {},
     "output_type": "execute_result"
    }
   ],
   "source": [
    "math.pi #Get the constant pi"
   ]
  },
  {
   "cell_type": "markdown",
   "id": "c1b6c92f",
   "metadata": {
    "papermill": {
     "duration": 0.026169,
     "end_time": "2025-04-02T09:10:33.261389",
     "exception": false,
     "start_time": "2025-04-02T09:10:33.235220",
     "status": "completed"
    },
    "tags": []
   },
   "source": [
    "Rounding Numbers\n",
    "Base python contains a round() function that lets you round numbers to the nearest whole number. You can also round up or down with math.ceil and math.floor respectively."
   ]
  },
  {
   "cell_type": "code",
   "execution_count": 20,
   "id": "4fc484a6",
   "metadata": {
    "execution": {
     "iopub.execute_input": "2025-04-02T09:10:33.316247Z",
     "iopub.status.busy": "2025-04-02T09:10:33.315768Z",
     "iopub.status.idle": "2025-04-02T09:10:33.321664Z",
     "shell.execute_reply": "2025-04-02T09:10:33.320647Z"
    },
    "papermill": {
     "duration": 0.035309,
     "end_time": "2025-04-02T09:10:33.323473",
     "exception": false,
     "start_time": "2025-04-02T09:10:33.288164",
     "status": "completed"
    },
    "tags": []
   },
   "outputs": [
    {
     "data": {
      "text/plain": [
       "233"
      ]
     },
     "execution_count": 20,
     "metadata": {},
     "output_type": "execute_result"
    }
   ],
   "source": [
    "# Use round() to round a number to the nearest whole number\n",
    "round(233.234)"
   ]
  },
  {
   "cell_type": "code",
   "execution_count": 21,
   "id": "2401b079",
   "metadata": {
    "execution": {
     "iopub.execute_input": "2025-04-02T09:10:33.383190Z",
     "iopub.status.busy": "2025-04-02T09:10:33.382723Z",
     "iopub.status.idle": "2025-04-02T09:10:33.388710Z",
     "shell.execute_reply": "2025-04-02T09:10:33.387797Z"
    },
    "papermill": {
     "duration": 0.034758,
     "end_time": "2025-04-02T09:10:33.390302",
     "exception": false,
     "start_time": "2025-04-02T09:10:33.355544",
     "status": "completed"
    },
    "tags": []
   },
   "outputs": [
    {
     "data": {
      "text/plain": [
       "234"
      ]
     },
     "execution_count": 21,
     "metadata": {},
     "output_type": "execute_result"
    }
   ],
   "source": [
    "round(233.677)"
   ]
  },
  {
   "cell_type": "code",
   "execution_count": 22,
   "id": "bf0b7901",
   "metadata": {
    "execution": {
     "iopub.execute_input": "2025-04-02T09:10:33.444538Z",
     "iopub.status.busy": "2025-04-02T09:10:33.444166Z",
     "iopub.status.idle": "2025-04-02T09:10:33.449854Z",
     "shell.execute_reply": "2025-04-02T09:10:33.448953Z"
    },
    "papermill": {
     "duration": 0.034493,
     "end_time": "2025-04-02T09:10:33.451625",
     "exception": false,
     "start_time": "2025-04-02T09:10:33.417132",
     "status": "completed"
    },
    "tags": []
   },
   "outputs": [
    {
     "data": {
      "text/plain": [
       "233.2"
      ]
     },
     "execution_count": 22,
     "metadata": {},
     "output_type": "execute_result"
    }
   ],
   "source": [
    "# add a second arguement to round to a specified decimal place\n",
    "round(233.234,1)"
   ]
  },
  {
   "cell_type": "code",
   "execution_count": 23,
   "id": "4b132e27",
   "metadata": {
    "execution": {
     "iopub.execute_input": "2025-04-02T09:10:33.511284Z",
     "iopub.status.busy": "2025-04-02T09:10:33.510833Z",
     "iopub.status.idle": "2025-04-02T09:10:33.517066Z",
     "shell.execute_reply": "2025-04-02T09:10:33.515976Z"
    },
    "papermill": {
     "duration": 0.035112,
     "end_time": "2025-04-02T09:10:33.518754",
     "exception": false,
     "start_time": "2025-04-02T09:10:33.483642",
     "status": "completed"
    },
    "tags": []
   },
   "outputs": [
    {
     "data": {
      "text/plain": [
       "230.0"
      ]
     },
     "execution_count": 23,
     "metadata": {},
     "output_type": "execute_result"
    }
   ],
   "source": [
    "# Enter a negative number to round to the left of the decimal\n",
    "round(233.234,-1)  #round to the 10's place\n"
   ]
  },
  {
   "cell_type": "code",
   "execution_count": 24,
   "id": "7512afce",
   "metadata": {
    "execution": {
     "iopub.execute_input": "2025-04-02T09:10:33.574327Z",
     "iopub.status.busy": "2025-04-02T09:10:33.573852Z",
     "iopub.status.idle": "2025-04-02T09:10:33.579850Z",
     "shell.execute_reply": "2025-04-02T09:10:33.579001Z"
    },
    "papermill": {
     "duration": 0.035149,
     "end_time": "2025-04-02T09:10:33.581394",
     "exception": false,
     "start_time": "2025-04-02T09:10:33.546245",
     "status": "completed"
    },
    "tags": []
   },
   "outputs": [
    {
     "data": {
      "text/plain": [
       "2"
      ]
     },
     "execution_count": 24,
     "metadata": {},
     "output_type": "execute_result"
    }
   ],
   "source": [
    "# Round down the nearest whole number with math.floor()\n",
    "import math\n",
    "math.floor(2.8)"
   ]
  },
  {
   "cell_type": "code",
   "execution_count": 25,
   "id": "f52fd2f5",
   "metadata": {
    "execution": {
     "iopub.execute_input": "2025-04-02T09:10:33.635282Z",
     "iopub.status.busy": "2025-04-02T09:10:33.634866Z",
     "iopub.status.idle": "2025-04-02T09:10:33.640302Z",
     "shell.execute_reply": "2025-04-02T09:10:33.639421Z"
    },
    "papermill": {
     "duration": 0.033787,
     "end_time": "2025-04-02T09:10:33.641831",
     "exception": false,
     "start_time": "2025-04-02T09:10:33.608044",
     "status": "completed"
    },
    "tags": []
   },
   "outputs": [
    {
     "data": {
      "text/plain": [
       "3"
      ]
     },
     "execution_count": 25,
     "metadata": {},
     "output_type": "execute_result"
    }
   ],
   "source": [
    "#Round up with math.ceil()\n",
    "math.ceil(2.2)"
   ]
  },
  {
   "cell_type": "markdown",
   "id": "84374958",
   "metadata": {
    "papermill": {
     "duration": 0.026092,
     "end_time": "2025-04-02T09:10:33.694615",
     "exception": false,
     "start_time": "2025-04-02T09:10:33.668523",
     "status": "completed"
    },
    "tags": []
   },
   "source": [
    "Integers\n",
    "Integers or \"ints\" for short, are whole-numbered numeric values. Any positive or negative number (or 0) without a decimal is an integer in Python. Integer values have unlimited precision, meaning an integer is exact. You can check the type of a Python object with the type() function."
   ]
  },
  {
   "cell_type": "code",
   "execution_count": 26,
   "id": "90d59f08",
   "metadata": {
    "execution": {
     "iopub.execute_input": "2025-04-02T09:10:33.747835Z",
     "iopub.status.busy": "2025-04-02T09:10:33.747502Z",
     "iopub.status.idle": "2025-04-02T09:10:33.752886Z",
     "shell.execute_reply": "2025-04-02T09:10:33.751996Z"
    },
    "papermill": {
     "duration": 0.033781,
     "end_time": "2025-04-02T09:10:33.754430",
     "exception": false,
     "start_time": "2025-04-02T09:10:33.720649",
     "status": "completed"
    },
    "tags": []
   },
   "outputs": [
    {
     "data": {
      "text/plain": [
       "int"
      ]
     },
     "execution_count": 26,
     "metadata": {},
     "output_type": "execute_result"
    }
   ],
   "source": [
    "type(12)"
   ]
  },
  {
   "cell_type": "markdown",
   "id": "d329687e",
   "metadata": {
    "papermill": {
     "duration": 0.026634,
     "end_time": "2025-04-02T09:10:33.807110",
     "exception": false,
     "start_time": "2025-04-02T09:10:33.780476",
     "status": "completed"
    },
    "tags": []
   },
   "source": [
    "Above we see that the type of 12 is of type \"int\". You can also use function isinstance() to check whether an object is an object is an instance of a given type:"
   ]
  },
  {
   "cell_type": "code",
   "execution_count": 27,
   "id": "e2922f78",
   "metadata": {
    "execution": {
     "iopub.execute_input": "2025-04-02T09:10:33.863571Z",
     "iopub.status.busy": "2025-04-02T09:10:33.863132Z",
     "iopub.status.idle": "2025-04-02T09:10:33.869162Z",
     "shell.execute_reply": "2025-04-02T09:10:33.868209Z"
    },
    "papermill": {
     "duration": 0.035568,
     "end_time": "2025-04-02T09:10:33.870618",
     "exception": false,
     "start_time": "2025-04-02T09:10:33.835050",
     "status": "completed"
    },
    "tags": []
   },
   "outputs": [
    {
     "data": {
      "text/plain": [
       "True"
      ]
     },
     "execution_count": 27,
     "metadata": {},
     "output_type": "execute_result"
    }
   ],
   "source": [
    "# Check if 12 is an instance of type \"int\"\n",
    "isinstance(12,int)"
   ]
  },
  {
   "cell_type": "markdown",
   "id": "dfc94ec4",
   "metadata": {
    "papermill": {
     "duration": 0.029292,
     "end_time": "2025-04-02T09:10:33.926576",
     "exception": false,
     "start_time": "2025-04-02T09:10:33.897284",
     "status": "completed"
    },
    "tags": []
   },
   "source": [
    "The code output True confirms that 12 is an int"
   ]
  },
  {
   "cell_type": "code",
   "execution_count": 28,
   "id": "c7caae37",
   "metadata": {
    "execution": {
     "iopub.execute_input": "2025-04-02T09:10:33.980802Z",
     "iopub.status.busy": "2025-04-02T09:10:33.980439Z",
     "iopub.status.idle": "2025-04-02T09:10:33.985873Z",
     "shell.execute_reply": "2025-04-02T09:10:33.984895Z"
    },
    "papermill": {
     "duration": 0.033873,
     "end_time": "2025-04-02T09:10:33.987386",
     "exception": false,
     "start_time": "2025-04-02T09:10:33.953513",
     "status": "completed"
    },
    "tags": []
   },
   "outputs": [
    {
     "data": {
      "text/plain": [
       "0.3333333333333333"
      ]
     },
     "execution_count": 28,
     "metadata": {},
     "output_type": "execute_result"
    }
   ],
   "source": [
    "1/3"
   ]
  },
  {
   "cell_type": "code",
   "execution_count": 29,
   "id": "e6708f2d",
   "metadata": {
    "execution": {
     "iopub.execute_input": "2025-04-02T09:10:34.043296Z",
     "iopub.status.busy": "2025-04-02T09:10:34.042900Z",
     "iopub.status.idle": "2025-04-02T09:10:34.048275Z",
     "shell.execute_reply": "2025-04-02T09:10:34.047399Z"
    },
    "papermill": {
     "duration": 0.03483,
     "end_time": "2025-04-02T09:10:34.049701",
     "exception": false,
     "start_time": "2025-04-02T09:10:34.014871",
     "status": "completed"
    },
    "tags": []
   },
   "outputs": [
    {
     "data": {
      "text/plain": [
       "float"
      ]
     },
     "execution_count": 29,
     "metadata": {},
     "output_type": "execute_result"
    }
   ],
   "source": [
    "type(1/3)"
   ]
  },
  {
   "cell_type": "markdown",
   "id": "7236b32b",
   "metadata": {
    "papermill": {
     "duration": 0.027239,
     "end_time": "2025-04-02T09:10:34.104311",
     "exception": false,
     "start_time": "2025-04-02T09:10:34.077072",
     "status": "completed"
    },
    "tags": []
   },
   "source": [
    "Floats\n",
    "Floating point numbers or \"floats\" are numbers with decimal values. Unlike integers, floating point numbers don't have unlimited precision because irrational decimal numbers are infinitely long and therfore can't be stored in memory. Instead, the computer approximates the value of long decimals, so there can be small rounding errors in long floats."
   ]
  },
  {
   "cell_type": "code",
   "execution_count": 30,
   "id": "788f5db6",
   "metadata": {
    "execution": {
     "iopub.execute_input": "2025-04-02T09:10:34.159116Z",
     "iopub.status.busy": "2025-04-02T09:10:34.158772Z",
     "iopub.status.idle": "2025-04-02T09:10:34.163765Z",
     "shell.execute_reply": "2025-04-02T09:10:34.162988Z"
    },
    "papermill": {
     "duration": 0.034311,
     "end_time": "2025-04-02T09:10:34.165340",
     "exception": false,
     "start_time": "2025-04-02T09:10:34.131029",
     "status": "completed"
    },
    "tags": []
   },
   "outputs": [
    {
     "data": {
      "text/plain": [
       "float"
      ]
     },
     "execution_count": 30,
     "metadata": {},
     "output_type": "execute_result"
    }
   ],
   "source": [
    "type(1.0)"
   ]
  },
  {
   "cell_type": "code",
   "execution_count": 31,
   "id": "fa95f8fb",
   "metadata": {
    "execution": {
     "iopub.execute_input": "2025-04-02T09:10:34.221229Z",
     "iopub.status.busy": "2025-04-02T09:10:34.220849Z",
     "iopub.status.idle": "2025-04-02T09:10:34.225954Z",
     "shell.execute_reply": "2025-04-02T09:10:34.225163Z"
    },
    "papermill": {
     "duration": 0.034389,
     "end_time": "2025-04-02T09:10:34.227339",
     "exception": false,
     "start_time": "2025-04-02T09:10:34.192950",
     "status": "completed"
    },
    "tags": []
   },
   "outputs": [
    {
     "data": {
      "text/plain": [
       "int"
      ]
     },
     "execution_count": 31,
     "metadata": {},
     "output_type": "execute_result"
    }
   ],
   "source": [
    "type(1)"
   ]
  },
  {
   "cell_type": "code",
   "execution_count": 32,
   "id": "e48cf642",
   "metadata": {
    "execution": {
     "iopub.execute_input": "2025-04-02T09:10:34.283583Z",
     "iopub.status.busy": "2025-04-02T09:10:34.283262Z",
     "iopub.status.idle": "2025-04-02T09:10:34.288500Z",
     "shell.execute_reply": "2025-04-02T09:10:34.287674Z"
    },
    "papermill": {
     "duration": 0.035298,
     "end_time": "2025-04-02T09:10:34.290087",
     "exception": false,
     "start_time": "2025-04-02T09:10:34.254789",
     "status": "completed"
    },
    "tags": []
   },
   "outputs": [
    {
     "data": {
      "text/plain": [
       "True"
      ]
     },
     "execution_count": 32,
     "metadata": {},
     "output_type": "execute_result"
    }
   ],
   "source": [
    "isinstance(0.33333,float)"
   ]
  },
  {
   "cell_type": "markdown",
   "id": "7d835c5b",
   "metadata": {
    "papermill": {
     "duration": 0.028141,
     "end_time": "2025-04-02T09:10:34.346499",
     "exception": false,
     "start_time": "2025-04-02T09:10:34.318358",
     "status": "completed"
    },
    "tags": []
   },
   "source": [
    "If you use both floats and ints in the same math expression the result is a float:"
   ]
  },
  {
   "cell_type": "code",
   "execution_count": 33,
   "id": "fde095cd",
   "metadata": {
    "execution": {
     "iopub.execute_input": "2025-04-02T09:10:34.405812Z",
     "iopub.status.busy": "2025-04-02T09:10:34.405471Z",
     "iopub.status.idle": "2025-04-02T09:10:34.410961Z",
     "shell.execute_reply": "2025-04-02T09:10:34.409759Z"
    },
    "papermill": {
     "duration": 0.036756,
     "end_time": "2025-04-02T09:10:34.412657",
     "exception": false,
     "start_time": "2025-04-02T09:10:34.375901",
     "status": "completed"
    },
    "tags": []
   },
   "outputs": [
    {
     "data": {
      "text/plain": [
       "6.0"
      ]
     },
     "execution_count": 33,
     "metadata": {},
     "output_type": "execute_result"
    }
   ],
   "source": [
    "5+1.0"
   ]
  },
  {
   "cell_type": "markdown",
   "id": "8f437c3f",
   "metadata": {
    "papermill": {
     "duration": 0.027327,
     "end_time": "2025-04-02T09:10:34.468739",
     "exception": false,
     "start_time": "2025-04-02T09:10:34.441412",
     "status": "completed"
    },
    "tags": []
   },
   "source": [
    "You can convert a float to an integer using the int() function"
   ]
  },
  {
   "cell_type": "code",
   "execution_count": 34,
   "id": "d4fc622e",
   "metadata": {
    "execution": {
     "iopub.execute_input": "2025-04-02T09:10:34.528081Z",
     "iopub.status.busy": "2025-04-02T09:10:34.527690Z",
     "iopub.status.idle": "2025-04-02T09:10:34.533369Z",
     "shell.execute_reply": "2025-04-02T09:10:34.532394Z"
    },
    "papermill": {
     "duration": 0.036957,
     "end_time": "2025-04-02T09:10:34.534827",
     "exception": false,
     "start_time": "2025-04-02T09:10:34.497870",
     "status": "completed"
    },
    "tags": []
   },
   "outputs": [
    {
     "data": {
      "text/plain": [
       "6"
      ]
     },
     "execution_count": 34,
     "metadata": {},
     "output_type": "execute_result"
    }
   ],
   "source": [
    "int(6.0)"
   ]
  },
  {
   "cell_type": "markdown",
   "id": "f864a1b8",
   "metadata": {
    "papermill": {
     "duration": 0.028759,
     "end_time": "2025-04-02T09:10:34.592106",
     "exception": false,
     "start_time": "2025-04-02T09:10:34.563347",
     "status": "completed"
    },
    "tags": []
   },
   "source": [
    "You can convert an integer to a float with the float() function"
   ]
  },
  {
   "cell_type": "code",
   "execution_count": 35,
   "id": "4217356f",
   "metadata": {
    "execution": {
     "iopub.execute_input": "2025-04-02T09:10:34.649552Z",
     "iopub.status.busy": "2025-04-02T09:10:34.649186Z",
     "iopub.status.idle": "2025-04-02T09:10:34.654627Z",
     "shell.execute_reply": "2025-04-02T09:10:34.653653Z"
    },
    "papermill": {
     "duration": 0.036055,
     "end_time": "2025-04-02T09:10:34.656055",
     "exception": false,
     "start_time": "2025-04-02T09:10:34.620000",
     "status": "completed"
    },
    "tags": []
   },
   "outputs": [
    {
     "data": {
      "text/plain": [
       "6.0"
      ]
     },
     "execution_count": 35,
     "metadata": {},
     "output_type": "execute_result"
    }
   ],
   "source": [
    "float(6)"
   ]
  },
  {
   "cell_type": "markdown",
   "id": "1aa1a30b",
   "metadata": {
    "papermill": {
     "duration": 0.027063,
     "end_time": "2025-04-02T09:10:34.710501",
     "exception": false,
     "start_time": "2025-04-02T09:10:34.683438",
     "status": "completed"
    },
    "tags": []
   },
   "source": [
    "Floats can also take on a few special values: Inf, -Inf and NaN. Inf and -Inf stand for infinity and negative infinity respectively and NaN stands for \"Not a number\", which is sometimes used as a placeholder for missing or erroneous numerical values."
   ]
  },
  {
   "cell_type": "code",
   "execution_count": 36,
   "id": "0b7b8d3c",
   "metadata": {
    "execution": {
     "iopub.execute_input": "2025-04-02T09:10:34.765974Z",
     "iopub.status.busy": "2025-04-02T09:10:34.765597Z",
     "iopub.status.idle": "2025-04-02T09:10:34.770980Z",
     "shell.execute_reply": "2025-04-02T09:10:34.769983Z"
    },
    "papermill": {
     "duration": 0.03516,
     "end_time": "2025-04-02T09:10:34.772517",
     "exception": false,
     "start_time": "2025-04-02T09:10:34.737357",
     "status": "completed"
    },
    "tags": []
   },
   "outputs": [
    {
     "data": {
      "text/plain": [
       "float"
      ]
     },
     "execution_count": 36,
     "metadata": {},
     "output_type": "execute_result"
    }
   ],
   "source": [
    "type(float(\"Inf\"))"
   ]
  },
  {
   "cell_type": "code",
   "execution_count": 37,
   "id": "ccb98e27",
   "metadata": {
    "execution": {
     "iopub.execute_input": "2025-04-02T09:10:34.829696Z",
     "iopub.status.busy": "2025-04-02T09:10:34.829350Z",
     "iopub.status.idle": "2025-04-02T09:10:34.834592Z",
     "shell.execute_reply": "2025-04-02T09:10:34.833613Z"
    },
    "papermill": {
     "duration": 0.035459,
     "end_time": "2025-04-02T09:10:34.835897",
     "exception": false,
     "start_time": "2025-04-02T09:10:34.800438",
     "status": "completed"
    },
    "tags": []
   },
   "outputs": [
    {
     "data": {
      "text/plain": [
       "float"
      ]
     },
     "execution_count": 37,
     "metadata": {},
     "output_type": "execute_result"
    }
   ],
   "source": [
    "type(float(\"NaN\"))"
   ]
  },
  {
   "cell_type": "markdown",
   "id": "f6a23bf9",
   "metadata": {
    "papermill": {
     "duration": 0.028161,
     "end_time": "2025-04-02T09:10:34.892300",
     "exception": false,
     "start_time": "2025-04-02T09:10:34.864139",
     "status": "completed"
    },
    "tags": []
   },
   "source": [
    "Booleans\n",
    "Booleans or \"Bools\" are true/false values that result from logical statements. True or False"
   ]
  },
  {
   "cell_type": "code",
   "execution_count": 38,
   "id": "99edf5ec",
   "metadata": {
    "execution": {
     "iopub.execute_input": "2025-04-02T09:10:34.950421Z",
     "iopub.status.busy": "2025-04-02T09:10:34.950040Z",
     "iopub.status.idle": "2025-04-02T09:10:34.955522Z",
     "shell.execute_reply": "2025-04-02T09:10:34.954417Z"
    },
    "papermill": {
     "duration": 0.036247,
     "end_time": "2025-04-02T09:10:34.957184",
     "exception": false,
     "start_time": "2025-04-02T09:10:34.920937",
     "status": "completed"
    },
    "tags": []
   },
   "outputs": [
    {
     "data": {
      "text/plain": [
       "bool"
      ]
     },
     "execution_count": 38,
     "metadata": {},
     "output_type": "execute_result"
    }
   ],
   "source": [
    "type(True)"
   ]
  },
  {
   "cell_type": "code",
   "execution_count": 39,
   "id": "4fb611f6",
   "metadata": {
    "execution": {
     "iopub.execute_input": "2025-04-02T09:10:35.014512Z",
     "iopub.status.busy": "2025-04-02T09:10:35.014141Z",
     "iopub.status.idle": "2025-04-02T09:10:35.019661Z",
     "shell.execute_reply": "2025-04-02T09:10:35.018643Z"
    },
    "papermill": {
     "duration": 0.035943,
     "end_time": "2025-04-02T09:10:35.021077",
     "exception": false,
     "start_time": "2025-04-02T09:10:34.985134",
     "status": "completed"
    },
    "tags": []
   },
   "outputs": [
    {
     "data": {
      "text/plain": [
       "True"
      ]
     },
     "execution_count": 39,
     "metadata": {},
     "output_type": "execute_result"
    }
   ],
   "source": [
    "isinstance(False,bool) #Check if False "
   ]
  },
  {
   "cell_type": "markdown",
   "id": "840c0d38",
   "metadata": {
    "papermill": {
     "duration": 0.028441,
     "end_time": "2025-04-02T09:10:35.077983",
     "exception": false,
     "start_time": "2025-04-02T09:10:35.049542",
     "status": "completed"
    },
    "tags": []
   },
   "source": [
    "You can create boolean values with logical expressions. Python supports all of the standard logic operators you'd expect:"
   ]
  },
  {
   "cell_type": "code",
   "execution_count": 40,
   "id": "5061e685",
   "metadata": {
    "execution": {
     "iopub.execute_input": "2025-04-02T09:10:35.136062Z",
     "iopub.status.busy": "2025-04-02T09:10:35.135713Z",
     "iopub.status.idle": "2025-04-02T09:10:35.140640Z",
     "shell.execute_reply": "2025-04-02T09:10:35.139758Z"
    },
    "papermill": {
     "duration": 0.035387,
     "end_time": "2025-04-02T09:10:35.142144",
     "exception": false,
     "start_time": "2025-04-02T09:10:35.106757",
     "status": "completed"
    },
    "tags": []
   },
   "outputs": [
    {
     "data": {
      "text/plain": [
       "True"
      ]
     },
     "execution_count": 40,
     "metadata": {},
     "output_type": "execute_result"
    }
   ],
   "source": [
    "#Use > and < for greator than and less than :\n",
    "20 > 10"
   ]
  },
  {
   "cell_type": "code",
   "execution_count": 41,
   "id": "e924fe8a",
   "metadata": {
    "execution": {
     "iopub.execute_input": "2025-04-02T09:10:35.200995Z",
     "iopub.status.busy": "2025-04-02T09:10:35.200646Z",
     "iopub.status.idle": "2025-04-02T09:10:35.205903Z",
     "shell.execute_reply": "2025-04-02T09:10:35.204900Z"
    },
    "papermill": {
     "duration": 0.036922,
     "end_time": "2025-04-02T09:10:35.207626",
     "exception": false,
     "start_time": "2025-04-02T09:10:35.170704",
     "status": "completed"
    },
    "tags": []
   },
   "outputs": [
    {
     "data": {
      "text/plain": [
       "False"
      ]
     },
     "execution_count": 41,
     "metadata": {},
     "output_type": "execute_result"
    }
   ],
   "source": [
    "20 < 5"
   ]
  },
  {
   "cell_type": "code",
   "execution_count": 42,
   "id": "40713035",
   "metadata": {
    "execution": {
     "iopub.execute_input": "2025-04-02T09:10:35.266799Z",
     "iopub.status.busy": "2025-04-02T09:10:35.266443Z",
     "iopub.status.idle": "2025-04-02T09:10:35.271644Z",
     "shell.execute_reply": "2025-04-02T09:10:35.270845Z"
    },
    "papermill": {
     "duration": 0.036094,
     "end_time": "2025-04-02T09:10:35.273115",
     "exception": false,
     "start_time": "2025-04-02T09:10:35.237021",
     "status": "completed"
    },
    "tags": []
   },
   "outputs": [
    {
     "data": {
      "text/plain": [
       "True"
      ]
     },
     "execution_count": 42,
     "metadata": {},
     "output_type": "execute_result"
    }
   ],
   "source": [
    "# use >= and <= for greater than or equal and less than or equal :\n",
    "20 >= 20"
   ]
  },
  {
   "cell_type": "code",
   "execution_count": 43,
   "id": "9e924c57",
   "metadata": {
    "execution": {
     "iopub.execute_input": "2025-04-02T09:10:35.333419Z",
     "iopub.status.busy": "2025-04-02T09:10:35.333063Z",
     "iopub.status.idle": "2025-04-02T09:10:35.338384Z",
     "shell.execute_reply": "2025-04-02T09:10:35.337447Z"
    },
    "papermill": {
     "duration": 0.036122,
     "end_time": "2025-04-02T09:10:35.339871",
     "exception": false,
     "start_time": "2025-04-02T09:10:35.303749",
     "status": "completed"
    },
    "tags": []
   },
   "outputs": [
    {
     "data": {
      "text/plain": [
       "True"
      ]
     },
     "execution_count": 43,
     "metadata": {},
     "output_type": "execute_result"
    }
   ],
   "source": [
    "#use == (two equal signs in a row) to check equality:\n",
    "10 == 10"
   ]
  },
  {
   "cell_type": "code",
   "execution_count": 44,
   "id": "3414b9eb",
   "metadata": {
    "execution": {
     "iopub.execute_input": "2025-04-02T09:10:35.400662Z",
     "iopub.status.busy": "2025-04-02T09:10:35.400295Z",
     "iopub.status.idle": "2025-04-02T09:10:35.405627Z",
     "shell.execute_reply": "2025-04-02T09:10:35.404752Z"
    },
    "papermill": {
     "duration": 0.036876,
     "end_time": "2025-04-02T09:10:35.407109",
     "exception": false,
     "start_time": "2025-04-02T09:10:35.370233",
     "status": "completed"
    },
    "tags": []
   },
   "outputs": [
    {
     "data": {
      "text/plain": [
       "True"
      ]
     },
     "execution_count": 44,
     "metadata": {},
     "output_type": "execute_result"
    }
   ],
   "source": [
    "40 == 40.0  #Equivalent ints and floats are considered equal"
   ]
  },
  {
   "cell_type": "code",
   "execution_count": 45,
   "id": "b92848c7",
   "metadata": {
    "execution": {
     "iopub.execute_input": "2025-04-02T09:10:35.466811Z",
     "iopub.status.busy": "2025-04-02T09:10:35.466491Z",
     "iopub.status.idle": "2025-04-02T09:10:35.471425Z",
     "shell.execute_reply": "2025-04-02T09:10:35.470555Z"
    },
    "papermill": {
     "duration": 0.035969,
     "end_time": "2025-04-02T09:10:35.472850",
     "exception": false,
     "start_time": "2025-04-02T09:10:35.436881",
     "status": "completed"
    },
    "tags": []
   },
   "outputs": [
    {
     "data": {
      "text/plain": [
       "True"
      ]
     },
     "execution_count": 45,
     "metadata": {},
     "output_type": "execute_result"
    }
   ],
   "source": [
    "#Use != to check inequality. (think of != as \"not equal to\")\n",
    "1 != 2"
   ]
  },
  {
   "cell_type": "code",
   "execution_count": 46,
   "id": "cf5dd18d",
   "metadata": {
    "execution": {
     "iopub.execute_input": "2025-04-02T09:10:35.534288Z",
     "iopub.status.busy": "2025-04-02T09:10:35.533940Z",
     "iopub.status.idle": "2025-04-02T09:10:35.538871Z",
     "shell.execute_reply": "2025-04-02T09:10:35.538036Z"
    },
    "papermill": {
     "duration": 0.038473,
     "end_time": "2025-04-02T09:10:35.540434",
     "exception": false,
     "start_time": "2025-04-02T09:10:35.501961",
     "status": "completed"
    },
    "tags": []
   },
   "outputs": [
    {
     "data": {
      "text/plain": [
       "True"
      ]
     },
     "execution_count": 46,
     "metadata": {},
     "output_type": "execute_result"
    }
   ],
   "source": [
    "# Use the keyword \"not\" for negation:\n",
    "not False"
   ]
  },
  {
   "cell_type": "code",
   "execution_count": 47,
   "id": "a9c6ece4",
   "metadata": {
    "execution": {
     "iopub.execute_input": "2025-04-02T09:10:35.599536Z",
     "iopub.status.busy": "2025-04-02T09:10:35.599194Z",
     "iopub.status.idle": "2025-04-02T09:10:35.604394Z",
     "shell.execute_reply": "2025-04-02T09:10:35.603448Z"
    },
    "papermill": {
     "duration": 0.035927,
     "end_time": "2025-04-02T09:10:35.605757",
     "exception": false,
     "start_time": "2025-04-02T09:10:35.569830",
     "status": "completed"
    },
    "tags": []
   },
   "outputs": [
    {
     "data": {
      "text/plain": [
       "False"
      ]
     },
     "execution_count": 47,
     "metadata": {},
     "output_type": "execute_result"
    }
   ],
   "source": [
    "#Use the keyword \"and\" for logical and:\n",
    "(2>1) and (10>11)"
   ]
  },
  {
   "cell_type": "code",
   "execution_count": 48,
   "id": "7aedabc2",
   "metadata": {
    "execution": {
     "iopub.execute_input": "2025-04-02T09:10:35.664557Z",
     "iopub.status.busy": "2025-04-02T09:10:35.664179Z",
     "iopub.status.idle": "2025-04-02T09:10:35.669469Z",
     "shell.execute_reply": "2025-04-02T09:10:35.668481Z"
    },
    "papermill": {
     "duration": 0.036121,
     "end_time": "2025-04-02T09:10:35.670865",
     "exception": false,
     "start_time": "2025-04-02T09:10:35.634744",
     "status": "completed"
    },
    "tags": []
   },
   "outputs": [
    {
     "data": {
      "text/plain": [
       "True"
      ]
     },
     "execution_count": 48,
     "metadata": {},
     "output_type": "execute_result"
    }
   ],
   "source": [
    "#Use the keyword \"or\" for logical or:\n",
    "(2>1) or (10>11)"
   ]
  },
  {
   "cell_type": "code",
   "execution_count": 49,
   "id": "9922610d",
   "metadata": {
    "execution": {
     "iopub.execute_input": "2025-04-02T09:10:35.729929Z",
     "iopub.status.busy": "2025-04-02T09:10:35.729593Z",
     "iopub.status.idle": "2025-04-02T09:10:35.734891Z",
     "shell.execute_reply": "2025-04-02T09:10:35.734078Z"
    },
    "papermill": {
     "duration": 0.036741,
     "end_time": "2025-04-02T09:10:35.736430",
     "exception": false,
     "start_time": "2025-04-02T09:10:35.699689",
     "status": "completed"
    },
    "tags": []
   },
   "outputs": [
    {
     "data": {
      "text/plain": [
       "True"
      ]
     },
     "execution_count": 49,
     "metadata": {},
     "output_type": "execute_result"
    }
   ],
   "source": [
    "2>1 or  10<8 and not True"
   ]
  },
  {
   "cell_type": "code",
   "execution_count": 50,
   "id": "c78a2ec3",
   "metadata": {
    "execution": {
     "iopub.execute_input": "2025-04-02T09:10:35.795327Z",
     "iopub.status.busy": "2025-04-02T09:10:35.795015Z",
     "iopub.status.idle": "2025-04-02T09:10:35.800294Z",
     "shell.execute_reply": "2025-04-02T09:10:35.799455Z"
    },
    "papermill": {
     "duration": 0.036578,
     "end_time": "2025-04-02T09:10:35.801818",
     "exception": false,
     "start_time": "2025-04-02T09:10:35.765240",
     "status": "completed"
    },
    "tags": []
   },
   "outputs": [
    {
     "data": {
      "text/plain": [
       "False"
      ]
     },
     "execution_count": 50,
     "metadata": {},
     "output_type": "execute_result"
    }
   ],
   "source": [
    "((2>1) or (10<8)) and (not True)"
   ]
  },
  {
   "cell_type": "markdown",
   "id": "d2b47349",
   "metadata": {
    "papermill": {
     "duration": 0.030434,
     "end_time": "2025-04-02T09:10:35.861482",
     "exception": false,
     "start_time": "2025-04-02T09:10:35.831048",
     "status": "completed"
    },
    "tags": []
   },
   "source": [
    "You can convert numbers into boolean values using the bool() function. All numbers other than 0 convert to True:"
   ]
  },
  {
   "cell_type": "code",
   "execution_count": 51,
   "id": "caab05f9",
   "metadata": {
    "execution": {
     "iopub.execute_input": "2025-04-02T09:10:35.979338Z",
     "iopub.status.busy": "2025-04-02T09:10:35.978626Z",
     "iopub.status.idle": "2025-04-02T09:10:35.984726Z",
     "shell.execute_reply": "2025-04-02T09:10:35.983807Z"
    },
    "papermill": {
     "duration": 0.095304,
     "end_time": "2025-04-02T09:10:35.986496",
     "exception": false,
     "start_time": "2025-04-02T09:10:35.891192",
     "status": "completed"
    },
    "tags": []
   },
   "outputs": [
    {
     "data": {
      "text/plain": [
       "True"
      ]
     },
     "execution_count": 51,
     "metadata": {},
     "output_type": "execute_result"
    }
   ],
   "source": [
    "bool(1)"
   ]
  },
  {
   "cell_type": "code",
   "execution_count": 52,
   "id": "d84a3c1f",
   "metadata": {
    "execution": {
     "iopub.execute_input": "2025-04-02T09:10:36.049510Z",
     "iopub.status.busy": "2025-04-02T09:10:36.049151Z",
     "iopub.status.idle": "2025-04-02T09:10:36.054529Z",
     "shell.execute_reply": "2025-04-02T09:10:36.053518Z"
    },
    "papermill": {
     "duration": 0.037122,
     "end_time": "2025-04-02T09:10:36.055937",
     "exception": false,
     "start_time": "2025-04-02T09:10:36.018815",
     "status": "completed"
    },
    "tags": []
   },
   "outputs": [
    {
     "data": {
      "text/plain": [
       "False"
      ]
     },
     "execution_count": 52,
     "metadata": {},
     "output_type": "execute_result"
    }
   ],
   "source": [
    "bool(0)"
   ]
  },
  {
   "cell_type": "markdown",
   "id": "7f360e14",
   "metadata": {
    "papermill": {
     "duration": 0.029051,
     "end_time": "2025-04-02T09:10:36.114468",
     "exception": false,
     "start_time": "2025-04-02T09:10:36.085417",
     "status": "completed"
    },
    "tags": []
   },
   "source": [
    "# Strings"
   ]
  },
  {
   "cell_type": "markdown",
   "id": "4b9af3f3",
   "metadata": {
    "papermill": {
     "duration": 0.029048,
     "end_time": "2025-04-02T09:10:36.172804",
     "exception": false,
     "start_time": "2025-04-02T09:10:36.143756",
     "status": "completed"
    },
    "tags": []
   },
   "source": [
    "Text data in Python is known as string or \"str\". Surround text with single or double quotation marks to create a string:"
   ]
  },
  {
   "cell_type": "code",
   "execution_count": 53,
   "id": "c75ba763",
   "metadata": {
    "execution": {
     "iopub.execute_input": "2025-04-02T09:10:36.232969Z",
     "iopub.status.busy": "2025-04-02T09:10:36.232584Z",
     "iopub.status.idle": "2025-04-02T09:10:36.237866Z",
     "shell.execute_reply": "2025-04-02T09:10:36.237055Z"
    },
    "papermill": {
     "duration": 0.036977,
     "end_time": "2025-04-02T09:10:36.239413",
     "exception": false,
     "start_time": "2025-04-02T09:10:36.202436",
     "status": "completed"
    },
    "tags": []
   },
   "outputs": [
    {
     "data": {
      "text/plain": [
       "str"
      ]
     },
     "execution_count": 53,
     "metadata": {},
     "output_type": "execute_result"
    }
   ],
   "source": [
    "type(\"cat\")"
   ]
  },
  {
   "cell_type": "code",
   "execution_count": 54,
   "id": "b5a4eab1",
   "metadata": {
    "execution": {
     "iopub.execute_input": "2025-04-02T09:10:36.300089Z",
     "iopub.status.busy": "2025-04-02T09:10:36.299722Z",
     "iopub.status.idle": "2025-04-02T09:10:36.305209Z",
     "shell.execute_reply": "2025-04-02T09:10:36.304244Z"
    },
    "papermill": {
     "duration": 0.03774,
     "end_time": "2025-04-02T09:10:36.306700",
     "exception": false,
     "start_time": "2025-04-02T09:10:36.268960",
     "status": "completed"
    },
    "tags": []
   },
   "outputs": [
    {
     "data": {
      "text/plain": [
       "str"
      ]
     },
     "execution_count": 54,
     "metadata": {},
     "output_type": "execute_result"
    }
   ],
   "source": [
    "type('1')"
   ]
  },
  {
   "cell_type": "markdown",
   "id": "eb40b6f5",
   "metadata": {
    "papermill": {
     "duration": 0.029059,
     "end_time": "2025-04-02T09:10:36.365522",
     "exception": false,
     "start_time": "2025-04-02T09:10:36.336463",
     "status": "completed"
    },
    "tags": []
   },
   "source": [
    "# None\n",
    "In python, \"None\" is a special data type that is often used to represent a missing value. for example, if you define a function that doesn't return anything it will return \"None\" by default."
   ]
  },
  {
   "cell_type": "code",
   "execution_count": 55,
   "id": "a66e4861",
   "metadata": {
    "execution": {
     "iopub.execute_input": "2025-04-02T09:10:36.426429Z",
     "iopub.status.busy": "2025-04-02T09:10:36.425841Z",
     "iopub.status.idle": "2025-04-02T09:10:36.431435Z",
     "shell.execute_reply": "2025-04-02T09:10:36.430686Z"
    },
    "papermill": {
     "duration": 0.037699,
     "end_time": "2025-04-02T09:10:36.432879",
     "exception": false,
     "start_time": "2025-04-02T09:10:36.395180",
     "status": "completed"
    },
    "tags": []
   },
   "outputs": [
    {
     "data": {
      "text/plain": [
       "NoneType"
      ]
     },
     "execution_count": 55,
     "metadata": {},
     "output_type": "execute_result"
    }
   ],
   "source": [
    "type(None)"
   ]
  },
  {
   "cell_type": "code",
   "execution_count": 56,
   "id": "34472545",
   "metadata": {
    "execution": {
     "iopub.execute_input": "2025-04-02T09:10:36.494008Z",
     "iopub.status.busy": "2025-04-02T09:10:36.493616Z",
     "iopub.status.idle": "2025-04-02T09:10:36.501709Z",
     "shell.execute_reply": "2025-04-02T09:10:36.500619Z"
    },
    "papermill": {
     "duration": 0.041446,
     "end_time": "2025-04-02T09:10:36.503878",
     "exception": false,
     "start_time": "2025-04-02T09:10:36.462432",
     "status": "completed"
    },
    "tags": []
   },
   "outputs": [
    {
     "name": "stdout",
     "output_type": "stream",
     "text": [
      "hello\n"
     ]
    },
    {
     "data": {
      "text/plain": [
       "True"
      ]
     },
     "execution_count": 56,
     "metadata": {},
     "output_type": "execute_result"
    }
   ],
   "source": [
    "#Define a function that prints the input but returns nothing\n",
    "def my_function(x):\n",
    "    print(x)\n",
    "my_function(\"hello\") == None  #the output of my_function equals None\n",
    "\n"
   ]
  },
  {
   "cell_type": "code",
   "execution_count": 57,
   "id": "d667a0ec",
   "metadata": {
    "execution": {
     "iopub.execute_input": "2025-04-02T09:10:36.583406Z",
     "iopub.status.busy": "2025-04-02T09:10:36.583038Z",
     "iopub.status.idle": "2025-04-02T09:10:36.588423Z",
     "shell.execute_reply": "2025-04-02T09:10:36.587434Z"
    },
    "papermill": {
     "duration": 0.040969,
     "end_time": "2025-04-02T09:10:36.590003",
     "exception": false,
     "start_time": "2025-04-02T09:10:36.549034",
     "status": "completed"
    },
    "tags": []
   },
   "outputs": [
    {
     "data": {
      "text/plain": [
       "False"
      ]
     },
     "execution_count": 57,
     "metadata": {},
     "output_type": "execute_result"
    }
   ],
   "source": [
    "\"hello\"==None"
   ]
  },
  {
   "cell_type": "code",
   "execution_count": 58,
   "id": "8c7b6a58",
   "metadata": {
    "execution": {
     "iopub.execute_input": "2025-04-02T09:10:36.664281Z",
     "iopub.status.busy": "2025-04-02T09:10:36.663736Z",
     "iopub.status.idle": "2025-04-02T09:10:36.670999Z",
     "shell.execute_reply": "2025-04-02T09:10:36.669550Z"
    },
    "papermill": {
     "duration": 0.052781,
     "end_time": "2025-04-02T09:10:36.672770",
     "exception": false,
     "start_time": "2025-04-02T09:10:36.619989",
     "status": "completed"
    },
    "tags": []
   },
   "outputs": [
    {
     "data": {
      "text/plain": [
       "False"
      ]
     },
     "execution_count": 58,
     "metadata": {},
     "output_type": "execute_result"
    }
   ],
   "source": [
    "x=\"hello\"\n",
    "x==None"
   ]
  },
  {
   "cell_type": "markdown",
   "id": "4df314a0",
   "metadata": {
    "papermill": {
     "duration": 0.032433,
     "end_time": "2025-04-02T09:10:36.743776",
     "exception": false,
     "start_time": "2025-04-02T09:10:36.711343",
     "status": "completed"
    },
    "tags": []
   },
   "source": [
    "#Assigning Variable "
   ]
  },
  {
   "cell_type": "code",
   "execution_count": 59,
   "id": "908db14e",
   "metadata": {
    "execution": {
     "iopub.execute_input": "2025-04-02T09:10:36.811604Z",
     "iopub.status.busy": "2025-04-02T09:10:36.811076Z",
     "iopub.status.idle": "2025-04-02T09:10:36.818083Z",
     "shell.execute_reply": "2025-04-02T09:10:36.816696Z"
    },
    "papermill": {
     "duration": 0.046436,
     "end_time": "2025-04-02T09:10:36.820319",
     "exception": false,
     "start_time": "2025-04-02T09:10:36.773883",
     "status": "completed"
    },
    "tags": []
   },
   "outputs": [
    {
     "name": "stdout",
     "output_type": "stream",
     "text": [
      "10\n",
      "Python is fun\n",
      "True\n"
     ]
    }
   ],
   "source": [
    "x = 10\n",
    "y = \"Python is fun\"\n",
    "z = 144**0.5 == 12\n",
    "print(x)\n",
    "print(y)\n",
    "print(z)\n"
   ]
  },
  {
   "cell_type": "markdown",
   "id": "41a01a16",
   "metadata": {
    "papermill": {
     "duration": 0.030462,
     "end_time": "2025-04-02T09:10:36.895408",
     "exception": false,
     "start_time": "2025-04-02T09:10:36.864946",
     "status": "completed"
    },
    "tags": []
   },
   "source": [
    "Note : assigning a variable does not produce any output"
   ]
  },
  {
   "cell_type": "code",
   "execution_count": 60,
   "id": "1e175364",
   "metadata": {
    "execution": {
     "iopub.execute_input": "2025-04-02T09:10:36.958266Z",
     "iopub.status.busy": "2025-04-02T09:10:36.957854Z",
     "iopub.status.idle": "2025-04-02T09:10:36.963130Z",
     "shell.execute_reply": "2025-04-02T09:10:36.962001Z"
    },
    "papermill": {
     "duration": 0.037526,
     "end_time": "2025-04-02T09:10:36.964729",
     "exception": false,
     "start_time": "2025-04-02T09:10:36.927203",
     "status": "completed"
    },
    "tags": []
   },
   "outputs": [
    {
     "name": "stdout",
     "output_type": "stream",
     "text": [
      "4\n",
      "4\n"
     ]
    }
   ],
   "source": [
    "n = m = 4\n",
    "print(n)\n",
    "print(m)"
   ]
  },
  {
   "cell_type": "markdown",
   "id": "51dee81b",
   "metadata": {
    "papermill": {
     "duration": 0.030202,
     "end_time": "2025-04-02T09:10:37.025674",
     "exception": false,
     "start_time": "2025-04-02T09:10:36.995472",
     "status": "completed"
    },
    "tags": []
   },
   "source": [
    "You can also assign several different variables at the same time using a comma separated sequence of variable names followed by the assignment operator and a comma separated sequence of values inside parameters:"
   ]
  },
  {
   "cell_type": "code",
   "execution_count": 61,
   "id": "e05502fa",
   "metadata": {
    "execution": {
     "iopub.execute_input": "2025-04-02T09:10:37.087242Z",
     "iopub.status.busy": "2025-04-02T09:10:37.086852Z",
     "iopub.status.idle": "2025-04-02T09:10:37.092301Z",
     "shell.execute_reply": "2025-04-02T09:10:37.091265Z"
    },
    "papermill": {
     "duration": 0.037867,
     "end_time": "2025-04-02T09:10:37.093863",
     "exception": false,
     "start_time": "2025-04-02T09:10:37.055996",
     "status": "completed"
    },
    "tags": []
   },
   "outputs": [
    {
     "name": "stdout",
     "output_type": "stream",
     "text": [
      "10\n",
      "20\n",
      "30\n"
     ]
    }
   ],
   "source": [
    "# Assign 3 variables at the same time:\n",
    "x, y, z = (10,20,30)\n",
    "\n",
    "print(x)\n",
    "print(y)\n",
    "print(z)"
   ]
  },
  {
   "cell_type": "markdown",
   "id": "5abacb8e",
   "metadata": {
    "papermill": {
     "duration": 0.044441,
     "end_time": "2025-04-02T09:10:37.179631",
     "exception": false,
     "start_time": "2025-04-02T09:10:37.135190",
     "status": "completed"
    },
    "tags": []
   },
   "source": [
    "This method of extracting variables from a comma separated sequence is know as tuple unpacking"
   ]
  },
  {
   "cell_type": "code",
   "execution_count": 62,
   "id": "8669f29e",
   "metadata": {
    "execution": {
     "iopub.execute_input": "2025-04-02T09:10:37.242624Z",
     "iopub.status.busy": "2025-04-02T09:10:37.242250Z",
     "iopub.status.idle": "2025-04-02T09:10:37.247758Z",
     "shell.execute_reply": "2025-04-02T09:10:37.246673Z"
    },
    "papermill": {
     "duration": 0.038237,
     "end_time": "2025-04-02T09:10:37.249278",
     "exception": false,
     "start_time": "2025-04-02T09:10:37.211041",
     "status": "completed"
    },
    "tags": []
   },
   "outputs": [
    {
     "name": "stdout",
     "output_type": "stream",
     "text": [
      "20\n",
      "10\n"
     ]
    }
   ],
   "source": [
    "#You can swap the values of two variables using a similar syntax:\n",
    "(x, y)=(y, x)\n",
    "print(x)\n",
    "print(y)"
   ]
  },
  {
   "cell_type": "markdown",
   "id": "a3ab13b8",
   "metadata": {
    "papermill": {
     "duration": 0.030459,
     "end_time": "2025-04-02T09:10:37.310207",
     "exception": false,
     "start_time": "2025-04-02T09:10:37.279748",
     "status": "completed"
    },
    "tags": []
   },
   "source": [
    "When you assign a variable in Python, the variable is a reference to a specific object in the computer's memory. Reassigning a variable simply switches the reference to a different object in memory. If the object a variable refers to in memory is altered in some way, the value of the variable corresponding to the altered object will also change. All of the basic data types we've seen thus far are immutable, meaning they cannot be changed after they are created. If you perform some operation that appears to alter an immutable object, it is actually creating a totally new object in a memory, rather than changing the original immutable object."
   ]
  },
  {
   "cell_type": "code",
   "execution_count": 63,
   "id": "90075d65",
   "metadata": {
    "execution": {
     "iopub.execute_input": "2025-04-02T09:10:37.371504Z",
     "iopub.status.busy": "2025-04-02T09:10:37.371098Z",
     "iopub.status.idle": "2025-04-02T09:10:37.376679Z",
     "shell.execute_reply": "2025-04-02T09:10:37.375705Z"
    },
    "papermill": {
     "duration": 0.038005,
     "end_time": "2025-04-02T09:10:37.378279",
     "exception": false,
     "start_time": "2025-04-02T09:10:37.340274",
     "status": "completed"
    },
    "tags": []
   },
   "outputs": [
    {
     "name": "stdout",
     "output_type": "stream",
     "text": [
      "Hello\n",
      "hello\n"
     ]
    }
   ],
   "source": [
    "#Consider the following example:\n",
    "x = \"Hello\"    #Create a new string\n",
    "y = x          #Assign y the same object as x\n",
    "y = y.lower()  #Assign y the result of y.lower()\n",
    "print(x)\n",
    "print(y)"
   ]
  },
  {
   "cell_type": "markdown",
   "id": "3c5e498d",
   "metadata": {
    "papermill": {
     "duration": 0.030072,
     "end_time": "2025-04-02T09:10:37.438941",
     "exception": false,
     "start_time": "2025-04-02T09:10:37.408869",
     "status": "completed"
    },
    "tags": []
   },
   "source": [
    "In the case above, we first assign x the value \"Hello\", a string object stored somewhere in memory.  Next we use the string method lower () to make the string assigned to y lowercase. Since strings are immutable, Python creates an entirey new string, \"hello\" and stores it somewhere in memory separate from the orginal \"Hello\" object. As a result, x and y refer to different objects in memory and produce different results when printed to the console."
   ]
  },
  {
   "cell_type": "markdown",
   "id": "e9ab1eee",
   "metadata": {
    "papermill": {
     "duration": 0.029722,
     "end_time": "2025-04-02T09:10:37.499143",
     "exception": false,
     "start_time": "2025-04-02T09:10:37.469421",
     "status": "completed"
    },
    "tags": []
   },
   "source": [
    "By contract, lists are a mutable data structure that can hold multiple objects. If you alter a list, Python doesn't make an entirely new list in memory: it changes the actual list object itself. This can lead to seemingly inconsistent and confusing behaviour:"
   ]
  },
  {
   "cell_type": "code",
   "execution_count": 64,
   "id": "b11a4d05",
   "metadata": {
    "execution": {
     "iopub.execute_input": "2025-04-02T09:10:37.562327Z",
     "iopub.status.busy": "2025-04-02T09:10:37.561885Z",
     "iopub.status.idle": "2025-04-02T09:10:37.567706Z",
     "shell.execute_reply": "2025-04-02T09:10:37.566628Z"
    },
    "papermill": {
     "duration": 0.038642,
     "end_time": "2025-04-02T09:10:37.569227",
     "exception": false,
     "start_time": "2025-04-02T09:10:37.530585",
     "status": "completed"
    },
    "tags": []
   },
   "outputs": [
    {
     "name": "stdout",
     "output_type": "stream",
     "text": [
      "[1, 2, 3, 4]\n",
      "[1, 2, 3, 4]\n"
     ]
    }
   ],
   "source": [
    "x = [1,2,3] #Create a new list\n",
    "y = x       #Assign y the same object as x\n",
    "y.append(4) #Add 4 to the end of list y\n",
    "print(x)\n",
    "print(y)"
   ]
  },
  {
   "cell_type": "markdown",
   "id": "4c74a9e8",
   "metadata": {
    "papermill": {
     "duration": 0.029908,
     "end_time": "2025-04-02T09:10:37.629788",
     "exception": false,
     "start_time": "2025-04-02T09:10:37.599880",
     "status": "completed"
    },
    "tags": []
   },
   "source": [
    "In this case, x and y still both refer to the same original list, so both x and y have the same value, even though it may appear that the code only added the number 4 to list y."
   ]
  },
  {
   "cell_type": "markdown",
   "id": "88afae8b",
   "metadata": {
    "papermill": {
     "duration": 0.030189,
     "end_time": "2025-04-02T09:10:37.690254",
     "exception": false,
     "start_time": "2025-04-02T09:10:37.660065",
     "status": "completed"
    },
    "tags": []
   },
   "source": [
    "**List Basics**\n",
    "A list is a mutuable, ordered collection of objects. \"Mutable\" means a list can be altered after it is created. You can, for example,add new items to a list or remove existing items. Lists are heterogeneous, meaning they can hold objects of different types."
   ]
  },
  {
   "cell_type": "code",
   "execution_count": 65,
   "id": "daa9e186",
   "metadata": {
    "execution": {
     "iopub.execute_input": "2025-04-02T09:10:37.752266Z",
     "iopub.status.busy": "2025-04-02T09:10:37.751865Z",
     "iopub.status.idle": "2025-04-02T09:10:37.756419Z",
     "shell.execute_reply": "2025-04-02T09:10:37.755341Z"
    },
    "papermill": {
     "duration": 0.037512,
     "end_time": "2025-04-02T09:10:37.758248",
     "exception": false,
     "start_time": "2025-04-02T09:10:37.720736",
     "status": "completed"
    },
    "tags": []
   },
   "outputs": [
    {
     "name": "stdout",
     "output_type": "stream",
     "text": [
      "['Lesson', 5, 'Is Fun?', True]\n"
     ]
    }
   ],
   "source": [
    "my_list = [\"Lesson\",5,\"Is Fun?\",True]\n",
    "print(my_list)"
   ]
  },
  {
   "cell_type": "markdown",
   "id": "293ab3c2",
   "metadata": {
    "papermill": {
     "duration": 0.030111,
     "end_time": "2025-04-02T09:10:37.819087",
     "exception": false,
     "start_time": "2025-04-02T09:10:37.788976",
     "status": "completed"
    },
    "tags": []
   },
   "source": [
    "Alternatively, you can construct a list by passing some other iterable into the list() function. An iterable descibes an object you can look through one item at a time, such as lists, tuples, strings and other sequences."
   ]
  },
  {
   "cell_type": "code",
   "execution_count": 66,
   "id": "72137710",
   "metadata": {
    "execution": {
     "iopub.execute_input": "2025-04-02T09:10:37.881522Z",
     "iopub.status.busy": "2025-04-02T09:10:37.881199Z",
     "iopub.status.idle": "2025-04-02T09:10:37.885630Z",
     "shell.execute_reply": "2025-04-02T09:10:37.884623Z"
    },
    "papermill": {
     "duration": 0.037969,
     "end_time": "2025-04-02T09:10:37.887294",
     "exception": false,
     "start_time": "2025-04-02T09:10:37.849325",
     "status": "completed"
    },
    "tags": []
   },
   "outputs": [
    {
     "name": "stdout",
     "output_type": "stream",
     "text": [
      "['L', 'i', 'f', 'e', ' ', 'i', 's', ' ', 'S', 't', 'u', 'd', 'y']\n"
     ]
    }
   ],
   "source": [
    "second_list = list(\"Life is Study\")   #Create a list from a string\n",
    "print(second_list)"
   ]
  },
  {
   "cell_type": "markdown",
   "id": "b19ed800",
   "metadata": {
    "papermill": {
     "duration": 0.029597,
     "end_time": "2025-04-02T09:10:37.947487",
     "exception": false,
     "start_time": "2025-04-02T09:10:37.917890",
     "status": "completed"
    },
    "tags": []
   },
   "source": [
    "A list with no contents is known as the empty list:"
   ]
  },
  {
   "cell_type": "code",
   "execution_count": 67,
   "id": "ca623296",
   "metadata": {
    "execution": {
     "iopub.execute_input": "2025-04-02T09:10:38.009008Z",
     "iopub.status.busy": "2025-04-02T09:10:38.008634Z",
     "iopub.status.idle": "2025-04-02T09:10:38.013393Z",
     "shell.execute_reply": "2025-04-02T09:10:38.012505Z"
    },
    "papermill": {
     "duration": 0.037585,
     "end_time": "2025-04-02T09:10:38.014964",
     "exception": false,
     "start_time": "2025-04-02T09:10:37.977379",
     "status": "completed"
    },
    "tags": []
   },
   "outputs": [
    {
     "name": "stdout",
     "output_type": "stream",
     "text": [
      "[]\n"
     ]
    }
   ],
   "source": [
    "empty_list = []\n",
    "print(empty_list)"
   ]
  },
  {
   "cell_type": "markdown",
   "id": "f9ae4064",
   "metadata": {
    "papermill": {
     "duration": 0.030886,
     "end_time": "2025-04-02T09:10:38.077080",
     "exception": false,
     "start_time": "2025-04-02T09:10:38.046194",
     "status": "completed"
    },
    "tags": []
   },
   "source": [
    "You can add an item to an existing list with the list.append() function:"
   ]
  },
  {
   "cell_type": "code",
   "execution_count": 68,
   "id": "c6e14d94",
   "metadata": {
    "execution": {
     "iopub.execute_input": "2025-04-02T09:10:38.140852Z",
     "iopub.status.busy": "2025-04-02T09:10:38.140506Z",
     "iopub.status.idle": "2025-04-02T09:10:38.145098Z",
     "shell.execute_reply": "2025-04-02T09:10:38.143999Z"
    },
    "papermill": {
     "duration": 0.038175,
     "end_time": "2025-04-02T09:10:38.146784",
     "exception": false,
     "start_time": "2025-04-02T09:10:38.108609",
     "status": "completed"
    },
    "tags": []
   },
   "outputs": [
    {
     "name": "stdout",
     "output_type": "stream",
     "text": [
      "[\"I'm no longer empty!\"]\n"
     ]
    }
   ],
   "source": [
    "empty_list.append(\"I'm no longer empty!\")\n",
    "print(empty_list)"
   ]
  },
  {
   "cell_type": "code",
   "execution_count": 69,
   "id": "78045687",
   "metadata": {
    "execution": {
     "iopub.execute_input": "2025-04-02T09:10:38.211207Z",
     "iopub.status.busy": "2025-04-02T09:10:38.210867Z",
     "iopub.status.idle": "2025-04-02T09:10:38.215695Z",
     "shell.execute_reply": "2025-04-02T09:10:38.214807Z"
    },
    "papermill": {
     "duration": 0.038838,
     "end_time": "2025-04-02T09:10:38.217282",
     "exception": false,
     "start_time": "2025-04-02T09:10:38.178444",
     "status": "completed"
    },
    "tags": []
   },
   "outputs": [
    {
     "name": "stdout",
     "output_type": "stream",
     "text": [
      "[\"I'm no longer empty!\"]\n"
     ]
    }
   ],
   "source": [
    "print(empty_list)"
   ]
  },
  {
   "cell_type": "code",
   "execution_count": 70,
   "id": "1f18ff7a",
   "metadata": {
    "execution": {
     "iopub.execute_input": "2025-04-02T09:10:38.281275Z",
     "iopub.status.busy": "2025-04-02T09:10:38.280874Z",
     "iopub.status.idle": "2025-04-02T09:10:38.285016Z",
     "shell.execute_reply": "2025-04-02T09:10:38.283972Z"
    },
    "papermill": {
     "duration": 0.037988,
     "end_time": "2025-04-02T09:10:38.286605",
     "exception": false,
     "start_time": "2025-04-02T09:10:38.248617",
     "status": "completed"
    },
    "tags": []
   },
   "outputs": [],
   "source": [
    "empty_list1=list(empty_list)"
   ]
  },
  {
   "cell_type": "code",
   "execution_count": 71,
   "id": "5cef9aac",
   "metadata": {
    "execution": {
     "iopub.execute_input": "2025-04-02T09:10:38.349267Z",
     "iopub.status.busy": "2025-04-02T09:10:38.348935Z",
     "iopub.status.idle": "2025-04-02T09:10:38.353995Z",
     "shell.execute_reply": "2025-04-02T09:10:38.352660Z"
    },
    "papermill": {
     "duration": 0.038196,
     "end_time": "2025-04-02T09:10:38.355694",
     "exception": false,
     "start_time": "2025-04-02T09:10:38.317498",
     "status": "completed"
    },
    "tags": []
   },
   "outputs": [
    {
     "name": "stdout",
     "output_type": "stream",
     "text": [
      "[\"I'm no longer empty!\"]\n"
     ]
    }
   ],
   "source": [
    "print(empty_list1)"
   ]
  },
  {
   "cell_type": "markdown",
   "id": "beef7250",
   "metadata": {
    "papermill": {
     "duration": 0.031014,
     "end_time": "2025-04-02T09:10:38.417663",
     "exception": false,
     "start_time": "2025-04-02T09:10:38.386649",
     "status": "completed"
    },
    "tags": []
   },
   "source": [
    "Remove a matching item from a list with list.remove()\n",
    "\n",
    "Note: Remove deletes the first matching item only."
   ]
  },
  {
   "cell_type": "code",
   "execution_count": 72,
   "id": "65c2a27b",
   "metadata": {
    "execution": {
     "iopub.execute_input": "2025-04-02T09:10:38.479979Z",
     "iopub.status.busy": "2025-04-02T09:10:38.479612Z",
     "iopub.status.idle": "2025-04-02T09:10:38.484194Z",
     "shell.execute_reply": "2025-04-02T09:10:38.483045Z"
    },
    "papermill": {
     "duration": 0.037757,
     "end_time": "2025-04-02T09:10:38.485903",
     "exception": false,
     "start_time": "2025-04-02T09:10:38.448146",
     "status": "completed"
    },
    "tags": []
   },
   "outputs": [
    {
     "name": "stdout",
     "output_type": "stream",
     "text": [
      "['Lesson', 'Is Fun?', True]\n"
     ]
    }
   ],
   "source": [
    "my_list.remove(5)\n",
    "print(my_list)"
   ]
  },
  {
   "cell_type": "markdown",
   "id": "185db73a",
   "metadata": {
    "papermill": {
     "duration": 0.032937,
     "end_time": "2025-04-02T09:10:38.550079",
     "exception": false,
     "start_time": "2025-04-02T09:10:38.517142",
     "status": "completed"
    },
    "tags": []
   },
   "source": [
    "Join two lists together with the + operator:"
   ]
  },
  {
   "cell_type": "code",
   "execution_count": 73,
   "id": "4e261522",
   "metadata": {
    "execution": {
     "iopub.execute_input": "2025-04-02T09:10:38.613446Z",
     "iopub.status.busy": "2025-04-02T09:10:38.613126Z",
     "iopub.status.idle": "2025-04-02T09:10:38.617946Z",
     "shell.execute_reply": "2025-04-02T09:10:38.616899Z"
    },
    "papermill": {
     "duration": 0.038591,
     "end_time": "2025-04-02T09:10:38.619565",
     "exception": false,
     "start_time": "2025-04-02T09:10:38.580974",
     "status": "completed"
    },
    "tags": []
   },
   "outputs": [
    {
     "name": "stdout",
     "output_type": "stream",
     "text": [
      "['Lesson', 'Is Fun?', True, \"I'm no longer empty!\"]\n"
     ]
    }
   ],
   "source": [
    "combined_list = my_list + empty_list\n",
    "print(combined_list)\n"
   ]
  },
  {
   "cell_type": "markdown",
   "id": "05f05305",
   "metadata": {
    "papermill": {
     "duration": 0.030416,
     "end_time": "2025-04-02T09:10:38.680598",
     "exception": false,
     "start_time": "2025-04-02T09:10:38.650182",
     "status": "completed"
    },
    "tags": []
   },
   "source": [
    "You can also add a sequence to the end of an existing list with the list.extend() function"
   ]
  },
  {
   "cell_type": "code",
   "execution_count": 74,
   "id": "d15a7497",
   "metadata": {
    "execution": {
     "iopub.execute_input": "2025-04-02T09:10:38.743499Z",
     "iopub.status.busy": "2025-04-02T09:10:38.743158Z",
     "iopub.status.idle": "2025-04-02T09:10:38.747633Z",
     "shell.execute_reply": "2025-04-02T09:10:38.746588Z"
    },
    "papermill": {
     "duration": 0.037901,
     "end_time": "2025-04-02T09:10:38.749448",
     "exception": false,
     "start_time": "2025-04-02T09:10:38.711547",
     "status": "completed"
    },
    "tags": []
   },
   "outputs": [
    {
     "name": "stdout",
     "output_type": "stream",
     "text": [
      "['Lesson', 'Is Fun?', True, \"I'm no longer empty!\"]\n"
     ]
    }
   ],
   "source": [
    "combined_list = my_list\n",
    "combined_list.extend(empty_list)\n",
    "print(combined_list)"
   ]
  },
  {
   "cell_type": "markdown",
   "id": "aff11da3",
   "metadata": {
    "papermill": {
     "duration": 0.031241,
     "end_time": "2025-04-02T09:10:38.812027",
     "exception": false,
     "start_time": "2025-04-02T09:10:38.780786",
     "status": "completed"
    },
    "tags": []
   },
   "source": [
    "Check the length, maximum, minimum and sum of a list with the len(), max(), min() and sum() functions, respectively."
   ]
  },
  {
   "cell_type": "code",
   "execution_count": 75,
   "id": "f1f9ac34",
   "metadata": {
    "execution": {
     "iopub.execute_input": "2025-04-02T09:10:38.876001Z",
     "iopub.status.busy": "2025-04-02T09:10:38.875595Z",
     "iopub.status.idle": "2025-04-02T09:10:38.881529Z",
     "shell.execute_reply": "2025-04-02T09:10:38.880337Z"
    },
    "papermill": {
     "duration": 0.03975,
     "end_time": "2025-04-02T09:10:38.883030",
     "exception": false,
     "start_time": "2025-04-02T09:10:38.843280",
     "status": "completed"
    },
    "tags": []
   },
   "outputs": [
    {
     "name": "stdout",
     "output_type": "stream",
     "text": [
      "5\n",
      "9\n",
      "1\n",
      "25\n",
      "5.0\n"
     ]
    }
   ],
   "source": [
    "num_list = [1,3,5,7,9]\n",
    "print(len(num_list))     #Check the length\n",
    "print(max(num_list))     #Check the max\n",
    "print(min(num_list))     #Check the min\n",
    "print(sum(num_list))     #Check the sum\n",
    "print(sum(num_list)/len(num_list))  #Check the mean*"
   ]
  },
  {
   "cell_type": "code",
   "execution_count": 76,
   "id": "692970ca",
   "metadata": {
    "execution": {
     "iopub.execute_input": "2025-04-02T09:10:38.946888Z",
     "iopub.status.busy": "2025-04-02T09:10:38.946568Z",
     "iopub.status.idle": "2025-04-02T09:10:38.951778Z",
     "shell.execute_reply": "2025-04-02T09:10:38.950959Z"
    },
    "papermill": {
     "duration": 0.038842,
     "end_time": "2025-04-02T09:10:38.953321",
     "exception": false,
     "start_time": "2025-04-02T09:10:38.914479",
     "status": "completed"
    },
    "tags": []
   },
   "outputs": [
    {
     "data": {
      "text/plain": [
       "True"
      ]
     },
     "execution_count": 76,
     "metadata": {},
     "output_type": "execute_result"
    }
   ],
   "source": [
    "#You can check whether a list contains a certain object with the \"in\" keyword:\n",
    "1 in num_list"
   ]
  },
  {
   "cell_type": "code",
   "execution_count": 77,
   "id": "9b55a84e",
   "metadata": {
    "execution": {
     "iopub.execute_input": "2025-04-02T09:10:39.016823Z",
     "iopub.status.busy": "2025-04-02T09:10:39.016511Z",
     "iopub.status.idle": "2025-04-02T09:10:39.021812Z",
     "shell.execute_reply": "2025-04-02T09:10:39.020798Z"
    },
    "papermill": {
     "duration": 0.03861,
     "end_time": "2025-04-02T09:10:39.023229",
     "exception": false,
     "start_time": "2025-04-02T09:10:38.984619",
     "status": "completed"
    },
    "tags": []
   },
   "outputs": [
    {
     "data": {
      "text/plain": [
       "False"
      ]
     },
     "execution_count": 77,
     "metadata": {},
     "output_type": "execute_result"
    }
   ],
   "source": [
    "#Add the keyword \"not\" to test whether a list does not contain an object\n",
    "1 not in num_list"
   ]
  },
  {
   "cell_type": "markdown",
   "id": "2197f5a1",
   "metadata": {
    "papermill": {
     "duration": 0.030875,
     "end_time": "2025-04-02T09:10:39.085557",
     "exception": false,
     "start_time": "2025-04-02T09:10:39.054682",
     "status": "completed"
    },
    "tags": []
   },
   "source": [
    "Count the occurrences of an object within a list using the list.count() function:\n"
   ]
  },
  {
   "cell_type": "code",
   "execution_count": 78,
   "id": "981dd97f",
   "metadata": {
    "execution": {
     "iopub.execute_input": "2025-04-02T09:10:39.149575Z",
     "iopub.status.busy": "2025-04-02T09:10:39.149188Z",
     "iopub.status.idle": "2025-04-02T09:10:39.155029Z",
     "shell.execute_reply": "2025-04-02T09:10:39.153811Z"
    },
    "papermill": {
     "duration": 0.039656,
     "end_time": "2025-04-02T09:10:39.156757",
     "exception": false,
     "start_time": "2025-04-02T09:10:39.117101",
     "status": "completed"
    },
    "tags": []
   },
   "outputs": [
    {
     "data": {
      "text/plain": [
       "1"
      ]
     },
     "execution_count": 78,
     "metadata": {},
     "output_type": "execute_result"
    }
   ],
   "source": [
    "num_list.count(3)"
   ]
  },
  {
   "cell_type": "markdown",
   "id": "f7f53256",
   "metadata": {
    "papermill": {
     "duration": 0.03132,
     "end_time": "2025-04-02T09:10:39.220891",
     "exception": false,
     "start_time": "2025-04-02T09:10:39.189571",
     "status": "completed"
    },
    "tags": []
   },
   "source": [
    "Other common list functions include list.sort() and list.reverse():\n"
   ]
  },
  {
   "cell_type": "code",
   "execution_count": 79,
   "id": "b922ff00",
   "metadata": {
    "execution": {
     "iopub.execute_input": "2025-04-02T09:10:39.286592Z",
     "iopub.status.busy": "2025-04-02T09:10:39.286282Z",
     "iopub.status.idle": "2025-04-02T09:10:39.292022Z",
     "shell.execute_reply": "2025-04-02T09:10:39.291002Z"
    },
    "papermill": {
     "duration": 0.039818,
     "end_time": "2025-04-02T09:10:39.293569",
     "exception": false,
     "start_time": "2025-04-02T09:10:39.253751",
     "status": "completed"
    },
    "tags": []
   },
   "outputs": [
    {
     "name": "stdout",
     "output_type": "stream",
     "text": [
      "Reversed list [6, 3, 2, 4, 5, 1]\n",
      "Sorted list [1, 2, 3, 4, 5, 6]\n"
     ]
    }
   ],
   "source": [
    "new_list = [1,5,4,2,3,6]       #Make a new list\n",
    "\n",
    "new_list.reverse()             #Reverse the list\n",
    "print(\"Reversed list\", new_list)\n",
    "\n",
    "new_list.sort()                #Sort the list\n",
    "print(\"Sorted list\", new_list)"
   ]
  },
  {
   "cell_type": "markdown",
   "id": "91fb11f2",
   "metadata": {
    "papermill": {
     "duration": 0.0313,
     "end_time": "2025-04-02T09:10:39.356831",
     "exception": false,
     "start_time": "2025-04-02T09:10:39.325531",
     "status": "completed"
    },
    "tags": []
   },
   "source": [
    "List Indexing and Slicing\n",
    "\n",
    "Lists and other Python sequences are indexed, meaning each position in the sequence has a corresponding number called the index that you can use to look up the value at that position.\n",
    "Python sequences are zero-indexed, so the first element of a sequence is at index position zero, the second element is at index 1 and so on. Retrieve an item from a list by placing the index in square brackets after the name of the list:\n"
   ]
  },
  {
   "cell_type": "code",
   "execution_count": 80,
   "id": "2d2b1691",
   "metadata": {
    "execution": {
     "iopub.execute_input": "2025-04-02T09:10:39.420859Z",
     "iopub.status.busy": "2025-04-02T09:10:39.420522Z",
     "iopub.status.idle": "2025-04-02T09:10:39.425500Z",
     "shell.execute_reply": "2025-04-02T09:10:39.424322Z"
    },
    "papermill": {
     "duration": 0.038801,
     "end_time": "2025-04-02T09:10:39.427095",
     "exception": false,
     "start_time": "2025-04-02T09:10:39.388294",
     "status": "completed"
    },
    "tags": []
   },
   "outputs": [
    {
     "name": "stdout",
     "output_type": "stream",
     "text": [
      "Hello\n",
      "bestest\n"
     ]
    }
   ],
   "source": [
    "another_list = [\"Hello\",\"my\",\"bestest\",\"old\",\"friend\"]\n",
    "print(another_list[0])\n",
    "print(another_list[2])\n",
    "\n"
   ]
  },
  {
   "cell_type": "markdown",
   "id": "cda2dd7d",
   "metadata": {
    "papermill": {
     "duration": 0.031112,
     "end_time": "2025-04-02T09:10:39.490454",
     "exception": false,
     "start_time": "2025-04-02T09:10:39.459342",
     "status": "completed"
    },
    "tags": []
   },
   "source": [
    "if you supply negative number when indexing into list, it accesses items starting from the end of the list(-1) going backward:"
   ]
  },
  {
   "cell_type": "code",
   "execution_count": 81,
   "id": "3c52cfb9",
   "metadata": {
    "execution": {
     "iopub.execute_input": "2025-04-02T09:10:39.556885Z",
     "iopub.status.busy": "2025-04-02T09:10:39.556551Z",
     "iopub.status.idle": "2025-04-02T09:10:39.561979Z",
     "shell.execute_reply": "2025-04-02T09:10:39.560785Z"
    },
    "papermill": {
     "duration": 0.042004,
     "end_time": "2025-04-02T09:10:39.563519",
     "exception": false,
     "start_time": "2025-04-02T09:10:39.521515",
     "status": "completed"
    },
    "tags": []
   },
   "outputs": [
    {
     "name": "stdout",
     "output_type": "stream",
     "text": [
      "friend\n",
      "bestest\n"
     ]
    }
   ],
   "source": [
    "print(another_list[-1])\n",
    "print(another_list[-3])"
   ]
  },
  {
   "cell_type": "markdown",
   "id": "1b713c92",
   "metadata": {
    "papermill": {
     "duration": 0.032945,
     "end_time": "2025-04-02T09:10:39.628161",
     "exception": false,
     "start_time": "2025-04-02T09:10:39.595216",
     "status": "completed"
    },
    "tags": []
   },
   "source": [
    "If your list contains other indexed objects, you can supply additional indexes to get items contained within the nested objects:"
   ]
  },
  {
   "cell_type": "code",
   "execution_count": 82,
   "id": "cc116b88",
   "metadata": {
    "execution": {
     "iopub.execute_input": "2025-04-02T09:10:39.693078Z",
     "iopub.status.busy": "2025-04-02T09:10:39.692705Z",
     "iopub.status.idle": "2025-04-02T09:10:39.697694Z",
     "shell.execute_reply": "2025-04-02T09:10:39.696758Z"
    },
    "papermill": {
     "duration": 0.039029,
     "end_time": "2025-04-02T09:10:39.699159",
     "exception": false,
     "start_time": "2025-04-02T09:10:39.660130",
     "status": "completed"
    },
    "tags": []
   },
   "outputs": [
    {
     "name": "stdout",
     "output_type": "stream",
     "text": [
      "3\n"
     ]
    }
   ],
   "source": [
    "nested_list = [[1,2,3],[4,5,6],[7,8,9]]\n",
    "print(nested_list[0][2])"
   ]
  },
  {
   "cell_type": "markdown",
   "id": "d6d99df5",
   "metadata": {
    "papermill": {
     "duration": 0.031345,
     "end_time": "2025-04-02T09:10:39.762400",
     "exception": false,
     "start_time": "2025-04-02T09:10:39.731055",
     "status": "completed"
    },
    "tags": []
   },
   "source": [
    "You can take a slice (sequential subset) of a list using the syntax [start:stop:step] where start and stop are the starting and ending indexes for the slice and step controls how frequently you sample values along the slice. The default step size is 1, meaning you take all values in the range provided, starting from the first, up to but not including the last:"
   ]
  },
  {
   "cell_type": "code",
   "execution_count": 83,
   "id": "a6904b98",
   "metadata": {
    "execution": {
     "iopub.execute_input": "2025-04-02T09:10:39.828771Z",
     "iopub.status.busy": "2025-04-02T09:10:39.828435Z",
     "iopub.status.idle": "2025-04-02T09:10:39.832566Z",
     "shell.execute_reply": "2025-04-02T09:10:39.831647Z"
    },
    "papermill": {
     "duration": 0.039086,
     "end_time": "2025-04-02T09:10:39.834111",
     "exception": false,
     "start_time": "2025-04-02T09:10:39.795025",
     "status": "completed"
    },
    "tags": []
   },
   "outputs": [
    {
     "name": "stdout",
     "output_type": "stream",
     "text": [
      "['my', 'bestest']\n"
     ]
    }
   ],
   "source": [
    "my_slice = another_list[1:3]    #slice index 1 and 2\n",
    "print(my_slice)"
   ]
  },
  {
   "cell_type": "code",
   "execution_count": 84,
   "id": "83ab50b1",
   "metadata": {
    "execution": {
     "iopub.execute_input": "2025-04-02T09:10:39.899439Z",
     "iopub.status.busy": "2025-04-02T09:10:39.899068Z",
     "iopub.status.idle": "2025-04-02T09:10:39.903345Z",
     "shell.execute_reply": "2025-04-02T09:10:39.902433Z"
    },
    "papermill": {
     "duration": 0.039754,
     "end_time": "2025-04-02T09:10:39.905178",
     "exception": false,
     "start_time": "2025-04-02T09:10:39.865424",
     "status": "completed"
    },
    "tags": []
   },
   "outputs": [
    {
     "name": "stdout",
     "output_type": "stream",
     "text": [
      "['Hello', 'bestest', 'friend']\n"
     ]
    }
   ],
   "source": [
    "# Slice the entire list but use step size 2 to get every other item:\n",
    "\n",
    "my_slice = another_list[0:6:2]\n",
    "print(my_slice)"
   ]
  },
  {
   "cell_type": "markdown",
   "id": "0900b6c7",
   "metadata": {
    "papermill": {
     "duration": 0.031472,
     "end_time": "2025-04-02T09:10:39.968489",
     "exception": false,
     "start_time": "2025-04-02T09:10:39.937017",
     "status": "completed"
    },
    "tags": []
   },
   "source": [
    "You can leave the starting or ending index blank to slice from the beginning or up to the end of the list respectively:"
   ]
  },
  {
   "cell_type": "code",
   "execution_count": 85,
   "id": "ac45dfd7",
   "metadata": {
    "execution": {
     "iopub.execute_input": "2025-04-02T09:10:40.091015Z",
     "iopub.status.busy": "2025-04-02T09:10:40.090629Z",
     "iopub.status.idle": "2025-04-02T09:10:40.095832Z",
     "shell.execute_reply": "2025-04-02T09:10:40.094815Z"
    },
    "papermill": {
     "duration": 0.039535,
     "end_time": "2025-04-02T09:10:40.097405",
     "exception": false,
     "start_time": "2025-04-02T09:10:40.057870",
     "status": "completed"
    },
    "tags": []
   },
   "outputs": [
    {
     "name": "stdout",
     "output_type": "stream",
     "text": [
      "['Hello', 'my', 'bestest', 'old']\n"
     ]
    }
   ],
   "source": [
    "slice1 = another_list[:4]    #Slice everything up to index 4\n",
    "print(slice1)"
   ]
  },
  {
   "cell_type": "code",
   "execution_count": 86,
   "id": "63970d35",
   "metadata": {
    "execution": {
     "iopub.execute_input": "2025-04-02T09:10:40.165222Z",
     "iopub.status.busy": "2025-04-02T09:10:40.164828Z",
     "iopub.status.idle": "2025-04-02T09:10:40.169866Z",
     "shell.execute_reply": "2025-04-02T09:10:40.168742Z"
    },
    "papermill": {
     "duration": 0.039699,
     "end_time": "2025-04-02T09:10:40.171418",
     "exception": false,
     "start_time": "2025-04-02T09:10:40.131719",
     "status": "completed"
    },
    "tags": []
   },
   "outputs": [
    {
     "name": "stdout",
     "output_type": "stream",
     "text": [
      "['old', 'friend']\n"
     ]
    }
   ],
   "source": [
    "slice2 = another_list[3:]   #Slice everything from index 3 to the end\n",
    "print(slice2)"
   ]
  },
  {
   "cell_type": "markdown",
   "id": "80d260f8",
   "metadata": {
    "papermill": {
     "duration": 0.031953,
     "end_time": "2025-04-02T09:10:40.235453",
     "exception": false,
     "start_time": "2025-04-02T09:10:40.203500",
     "status": "completed"
    },
    "tags": []
   },
   "source": [
    "If you provide a negative number as the step, the slice steps backward:"
   ]
  },
  {
   "cell_type": "code",
   "execution_count": 87,
   "id": "5c642cb5",
   "metadata": {
    "execution": {
     "iopub.execute_input": "2025-04-02T09:10:40.300830Z",
     "iopub.status.busy": "2025-04-02T09:10:40.300448Z",
     "iopub.status.idle": "2025-04-02T09:10:40.305372Z",
     "shell.execute_reply": "2025-04-02T09:10:40.304089Z"
    },
    "papermill": {
     "duration": 0.039535,
     "end_time": "2025-04-02T09:10:40.306810",
     "exception": false,
     "start_time": "2025-04-02T09:10:40.267275",
     "status": "completed"
    },
    "tags": []
   },
   "outputs": [
    {
     "name": "stdout",
     "output_type": "stream",
     "text": [
      "['friend', 'old']\n"
     ]
    }
   ],
   "source": [
    "# Take a slice starting at index 4, backward to index 2\n",
    "my_slice = another_list[4:2:-1]\n",
    "print(my_slice)"
   ]
  },
  {
   "cell_type": "markdown",
   "id": "e62fe3e2",
   "metadata": {
    "papermill": {
     "duration": 0.032469,
     "end_time": "2025-04-02T09:10:40.371963",
     "exception": false,
     "start_time": "2025-04-02T09:10:40.339494",
     "status": "completed"
    },
    "tags": []
   },
   "source": [
    "if you don't provide a start or ending index, you slice of the entire list:"
   ]
  },
  {
   "cell_type": "code",
   "execution_count": 88,
   "id": "c38605ae",
   "metadata": {
    "execution": {
     "iopub.execute_input": "2025-04-02T09:10:40.441894Z",
     "iopub.status.busy": "2025-04-02T09:10:40.441549Z",
     "iopub.status.idle": "2025-04-02T09:10:40.446322Z",
     "shell.execute_reply": "2025-04-02T09:10:40.445409Z"
    },
    "papermill": {
     "duration": 0.038739,
     "end_time": "2025-04-02T09:10:40.447670",
     "exception": false,
     "start_time": "2025-04-02T09:10:40.408931",
     "status": "completed"
    },
    "tags": []
   },
   "outputs": [
    {
     "name": "stdout",
     "output_type": "stream",
     "text": [
      "['Hello', 'my', 'bestest', 'old', 'friend']\n"
     ]
    }
   ],
   "source": [
    "my_slice = another_list[:]   #This slice operation copies the list\n",
    "print(my_slice)"
   ]
  },
  {
   "cell_type": "markdown",
   "id": "6cec4b1d",
   "metadata": {
    "papermill": {
     "duration": 0.031832,
     "end_time": "2025-04-02T09:10:40.512161",
     "exception": false,
     "start_time": "2025-04-02T09:10:40.480329",
     "status": "completed"
    },
    "tags": []
   },
   "source": [
    "Using a step of -1 without a starting or ending index slices the entire list in reverse, providing a shorthand to a reverse a list:"
   ]
  },
  {
   "cell_type": "code",
   "execution_count": 89,
   "id": "f0fb3e0b",
   "metadata": {
    "execution": {
     "iopub.execute_input": "2025-04-02T09:10:40.580046Z",
     "iopub.status.busy": "2025-04-02T09:10:40.579669Z",
     "iopub.status.idle": "2025-04-02T09:10:40.584101Z",
     "shell.execute_reply": "2025-04-02T09:10:40.583224Z"
    },
    "papermill": {
     "duration": 0.039572,
     "end_time": "2025-04-02T09:10:40.585737",
     "exception": false,
     "start_time": "2025-04-02T09:10:40.546165",
     "status": "completed"
    },
    "tags": []
   },
   "outputs": [
    {
     "name": "stdout",
     "output_type": "stream",
     "text": [
      "['friend', 'old', 'bestest', 'my', 'Hello']\n"
     ]
    }
   ],
   "source": [
    "my_slice = another_list[::-1]  #This slice operation reverses the list\n",
    "print(my_slice)"
   ]
  },
  {
   "cell_type": "markdown",
   "id": "e88c765d",
   "metadata": {
    "papermill": {
     "duration": 0.031856,
     "end_time": "2025-04-02T09:10:40.649865",
     "exception": false,
     "start_time": "2025-04-02T09:10:40.618009",
     "status": "completed"
    },
    "tags": []
   },
   "source": [
    "You can use indexing to change the values within a list or delete items in a list:"
   ]
  },
  {
   "cell_type": "code",
   "execution_count": 90,
   "id": "6481f043",
   "metadata": {
    "execution": {
     "iopub.execute_input": "2025-04-02T09:10:40.715273Z",
     "iopub.status.busy": "2025-04-02T09:10:40.714862Z",
     "iopub.status.idle": "2025-04-02T09:10:40.720218Z",
     "shell.execute_reply": "2025-04-02T09:10:40.719074Z"
    },
    "papermill": {
     "duration": 0.040062,
     "end_time": "2025-04-02T09:10:40.721820",
     "exception": false,
     "start_time": "2025-04-02T09:10:40.681758",
     "status": "completed"
    },
    "tags": []
   },
   "outputs": [
    {
     "name": "stdout",
     "output_type": "stream",
     "text": [
      "['Hello', 'my', 'bestest', 'new', 'friend']\n",
      "['Hello', 'my', 'bestest', 'friend']\n"
     ]
    }
   ],
   "source": [
    "another_list[3] = \"new\"   #Set the value at index 3 to \"new\"\n",
    "print(another_list)\n",
    "del(another_list[3])      #delete the item at index 3\n",
    "print(another_list)"
   ]
  },
  {
   "cell_type": "markdown",
   "id": "968398b4",
   "metadata": {
    "papermill": {
     "duration": 0.032109,
     "end_time": "2025-04-02T09:10:40.785971",
     "exception": false,
     "start_time": "2025-04-02T09:10:40.753862",
     "status": "completed"
    },
    "tags": []
   },
   "source": [
    "You can also remove items from a list using the list.pop() function. pop() removes the final item in a list and returns it:"
   ]
  },
  {
   "cell_type": "code",
   "execution_count": 91,
   "id": "06dc78b9",
   "metadata": {
    "execution": {
     "iopub.execute_input": "2025-04-02T09:10:40.851762Z",
     "iopub.status.busy": "2025-04-02T09:10:40.851448Z",
     "iopub.status.idle": "2025-04-02T09:10:40.855801Z",
     "shell.execute_reply": "2025-04-02T09:10:40.854822Z"
    },
    "papermill": {
     "duration": 0.038967,
     "end_time": "2025-04-02T09:10:40.857267",
     "exception": false,
     "start_time": "2025-04-02T09:10:40.818300",
     "status": "completed"
    },
    "tags": []
   },
   "outputs": [
    {
     "name": "stdout",
     "output_type": "stream",
     "text": [
      "friend\n",
      "['Hello', 'my', 'bestest']\n"
     ]
    }
   ],
   "source": [
    "next_item = another_list.pop()\n",
    "print(next_item)\n",
    "print(another_list)"
   ]
  },
  {
   "cell_type": "markdown",
   "id": "b005835f",
   "metadata": {
    "papermill": {
     "duration": 0.032218,
     "end_time": "2025-04-02T09:10:40.921414",
     "exception": false,
     "start_time": "2025-04-02T09:10:40.889196",
     "status": "completed"
    },
    "tags": []
   },
   "source": [
    "Notice that the list resizes itself dynamically as you delete or add items to it. Appeding items to lists and removing items from the end of list with list.pop() are very fast operations. Deleting items at the front of a list or within the body of a lists is much slower."
   ]
  },
  {
   "cell_type": "markdown",
   "id": "eb52e9ea",
   "metadata": {
    "papermill": {
     "duration": 0.031307,
     "end_time": "2025-04-02T09:10:40.984669",
     "exception": false,
     "start_time": "2025-04-02T09:10:40.953362",
     "status": "completed"
    },
    "tags": []
   },
   "source": [
    "# Copying Lists"
   ]
  },
  {
   "cell_type": "markdown",
   "id": "93e32b7b",
   "metadata": {
    "papermill": {
     "duration": 0.031606,
     "end_time": "2025-04-02T09:10:41.052721",
     "exception": false,
     "start_time": "2025-04-02T09:10:41.021115",
     "status": "completed"
    },
    "tags": []
   },
   "source": [
    "In the code above, we saw that we can slice an entire list using the [:] indexing operation. You can also copy a list using the list.copy() function:"
   ]
  },
  {
   "cell_type": "code",
   "execution_count": 92,
   "id": "216d8347",
   "metadata": {
    "execution": {
     "iopub.execute_input": "2025-04-02T09:10:41.117855Z",
     "iopub.status.busy": "2025-04-02T09:10:41.117485Z",
     "iopub.status.idle": "2025-04-02T09:10:41.123348Z",
     "shell.execute_reply": "2025-04-02T09:10:41.122370Z"
    },
    "papermill": {
     "duration": 0.040314,
     "end_time": "2025-04-02T09:10:41.124938",
     "exception": false,
     "start_time": "2025-04-02T09:10:41.084624",
     "status": "completed"
    },
    "tags": []
   },
   "outputs": [
    {
     "name": "stdout",
     "output_type": "stream",
     "text": [
      "list1: [1, 2, 3, 4]\n",
      "List2: [1, 2, 3]\n"
     ]
    }
   ],
   "source": [
    "list1 = [1,2,3]                     #Make a list\n",
    "list2 = list1.copy()                #Copy the list\n",
    "\n",
    "list1.append(4)                     #Add an item to list1\n",
    "print(\"list1:\",list1)               #Print both lists\n",
    "print(\"List2:\",list2)"
   ]
  },
  {
   "cell_type": "code",
   "execution_count": 93,
   "id": "ee3c0349",
   "metadata": {
    "execution": {
     "iopub.execute_input": "2025-04-02T09:10:41.191240Z",
     "iopub.status.busy": "2025-04-02T09:10:41.190833Z",
     "iopub.status.idle": "2025-04-02T09:10:41.198776Z",
     "shell.execute_reply": "2025-04-02T09:10:41.198013Z"
    },
    "papermill": {
     "duration": 0.043055,
     "end_time": "2025-04-02T09:10:41.200337",
     "exception": false,
     "start_time": "2025-04-02T09:10:41.157282",
     "status": "completed"
    },
    "tags": []
   },
   "outputs": [
    {
     "name": "stdout",
     "output_type": "stream",
     "text": [
      "Before appending to list1: \n",
      "List2:  ['List within a list', [1, 2, 3]]\n",
      "List3:  ['List within a list', [1, 2, 3]] \n",
      "\n",
      "After appending to list1: \n",
      "List2:  ['List within a list', [1, 2, 3, 4]]\n",
      "List3:  ['List within a list', [1, 2, 3, 4]]\n"
     ]
    }
   ],
   "source": [
    "list1 = [1,2,3]              #Make a list\n",
    "\n",
    "list2 = [\"List within a list\", list1]   #Nest it in another list\n",
    "\n",
    "list3 = list2.copy()         #Shallow copy list2\n",
    "\n",
    "print(\"Before appending to list1: \")\n",
    "print(\"List2: \",list2)\n",
    "print(\"List3: \",list3,\"\\n\")\n",
    "\n",
    "list1.append(4)             #Add an item to list1\n",
    "print(\"After appending to list1: \")\n",
    "print(\"List2: \",list2)\n",
    "print(\"List3: \",list3)"
   ]
  },
  {
   "cell_type": "markdown",
   "id": "ce3744b8",
   "metadata": {
    "papermill": {
     "duration": 0.031268,
     "end_time": "2025-04-02T09:10:41.264574",
     "exception": false,
     "start_time": "2025-04-02T09:10:41.233306",
     "status": "completed"
    },
    "tags": []
   },
   "source": [
    "Notice that when we use a shallow copy on list2, the second element of list2 and its copy both refer to list1. Thus, when we append a new value into list1, the second element of list2 and the copy, list3, both change. When you are working with nested lists, you have to make a \"deepcopy\" if you want to truly copy nested objects in the original to avoid this behaviour of shallow copies.\n",
    "\n",
    "You can make a deep copy using the deepcopy() function in the copy library:"
   ]
  },
  {
   "cell_type": "code",
   "execution_count": 94,
   "id": "2d7606c8",
   "metadata": {
    "execution": {
     "iopub.execute_input": "2025-04-02T09:10:41.330137Z",
     "iopub.status.busy": "2025-04-02T09:10:41.329792Z",
     "iopub.status.idle": "2025-04-02T09:10:41.335888Z",
     "shell.execute_reply": "2025-04-02T09:10:41.334757Z"
    },
    "papermill": {
     "duration": 0.040738,
     "end_time": "2025-04-02T09:10:41.337633",
     "exception": false,
     "start_time": "2025-04-02T09:10:41.296895",
     "status": "completed"
    },
    "tags": []
   },
   "outputs": [
    {
     "name": "stdout",
     "output_type": "stream",
     "text": [
      "Before appending to list1: \n",
      "List2:  ['List within a list', [1, 2, 3]]\n",
      "List3:  ['List within a list', [1, 2, 3]] \n",
      "\n",
      "After appending to list1: \n",
      "List2:  ['List within a list', [1, 2, 3, 4]]\n",
      "List3:  ['List within a list', [1, 2, 3]]\n"
     ]
    }
   ],
   "source": [
    "import copy           # Load the copy module\n",
    "\n",
    "list1 = [1,2,3]       #Make a list\n",
    "list2 = [\"List within a list\", list1]   #Nest it in another list\n",
    "list3 = copy.deepcopy(list2)   #Deep copy list2\n",
    "\n",
    "print(\"Before appending to list1: \")\n",
    "print(\"List2: \",list2)\n",
    "print(\"List3: \",list3, \"\\n\")\n",
    "\n",
    "list1.append(4)       #Add an item to list1\n",
    "print(\"After appending to list1: \")\n",
    "print(\"List2: \",list2)\n",
    "print(\"List3: \",list3)"
   ]
  },
  {
   "cell_type": "markdown",
   "id": "a6f56143",
   "metadata": {
    "papermill": {
     "duration": 0.032792,
     "end_time": "2025-04-02T09:10:41.403310",
     "exception": false,
     "start_time": "2025-04-02T09:10:41.370518",
     "status": "completed"
    },
    "tags": []
   },
   "source": [
    "# Tuples"
   ]
  },
  {
   "cell_type": "markdown",
   "id": "5b8ee72d",
   "metadata": {
    "papermill": {
     "duration": 0.031611,
     "end_time": "2025-04-02T09:10:41.467536",
     "exception": false,
     "start_time": "2025-04-02T09:10:41.435925",
     "status": "completed"
    },
    "tags": []
   },
   "source": [
    "Tuples are an immutable sequence data type that are commonly used to hold short collections of releated data. For instance, if you wanted to store latitude and longitude coordinates for cities, tuples might be a good choice, because the values are related and not likely to change. Like lists, tuples can store objects of different types.\n",
    "\n",
    "Construct a tuple with a comma separated sequence of objects with parenthesis."
   ]
  },
  {
   "cell_type": "code",
   "execution_count": 95,
   "id": "d99e38a4",
   "metadata": {
    "execution": {
     "iopub.execute_input": "2025-04-02T09:10:41.533670Z",
     "iopub.status.busy": "2025-04-02T09:10:41.533334Z",
     "iopub.status.idle": "2025-04-02T09:10:41.538151Z",
     "shell.execute_reply": "2025-04-02T09:10:41.537112Z"
    },
    "papermill": {
     "duration": 0.040502,
     "end_time": "2025-04-02T09:10:41.540190",
     "exception": false,
     "start_time": "2025-04-02T09:10:41.499688",
     "status": "completed"
    },
    "tags": []
   },
   "outputs": [
    {
     "name": "stdout",
     "output_type": "stream",
     "text": [
      "(1, 3, 5)\n"
     ]
    }
   ],
   "source": [
    "my_tuple = (1,3,5)\n",
    "print(my_tuple)"
   ]
  },
  {
   "cell_type": "markdown",
   "id": "51e5f744",
   "metadata": {
    "papermill": {
     "duration": 0.03206,
     "end_time": "2025-04-02T09:10:41.605052",
     "exception": false,
     "start_time": "2025-04-02T09:10:41.572992",
     "status": "completed"
    },
    "tags": []
   },
   "source": [
    "Alternatively, you can construct a tuple by passing an iterable into the tuple() function:"
   ]
  },
  {
   "cell_type": "code",
   "execution_count": 96,
   "id": "c211e683",
   "metadata": {
    "execution": {
     "iopub.execute_input": "2025-04-02T09:10:41.670264Z",
     "iopub.status.busy": "2025-04-02T09:10:41.669879Z",
     "iopub.status.idle": "2025-04-02T09:10:41.675457Z",
     "shell.execute_reply": "2025-04-02T09:10:41.674483Z"
    },
    "papermill": {
     "duration": 0.039908,
     "end_time": "2025-04-02T09:10:41.676933",
     "exception": false,
     "start_time": "2025-04-02T09:10:41.637025",
     "status": "completed"
    },
    "tags": []
   },
   "outputs": [
    {
     "data": {
      "text/plain": [
       "(2, 3, 1, 4)"
      ]
     },
     "execution_count": 96,
     "metadata": {},
     "output_type": "execute_result"
    }
   ],
   "source": [
    "my_list = [2,3,1,4]\n",
    "another_tuple = tuple(my_list)\n",
    "another_tuple"
   ]
  },
  {
   "cell_type": "markdown",
   "id": "8750cbfb",
   "metadata": {
    "papermill": {
     "duration": 0.032597,
     "end_time": "2025-04-02T09:10:41.742659",
     "exception": false,
     "start_time": "2025-04-02T09:10:41.710062",
     "status": "completed"
    },
    "tags": []
   },
   "source": [
    "Tuples generally support the same indexing and slicing operations as lists and they also support some of the same functions, with the caveat that tuples cannot be changed after they are created.  This means we can do things like find the length, max or min of a tuple, but we can't append new values to them or remove values from them :"
   ]
  },
  {
   "cell_type": "code",
   "execution_count": 97,
   "id": "0be53066",
   "metadata": {
    "execution": {
     "iopub.execute_input": "2025-04-02T09:10:41.809856Z",
     "iopub.status.busy": "2025-04-02T09:10:41.809530Z",
     "iopub.status.idle": "2025-04-02T09:10:41.814857Z",
     "shell.execute_reply": "2025-04-02T09:10:41.813853Z"
    },
    "papermill": {
     "duration": 0.040937,
     "end_time": "2025-04-02T09:10:41.816390",
     "exception": false,
     "start_time": "2025-04-02T09:10:41.775453",
     "status": "completed"
    },
    "tags": []
   },
   "outputs": [
    {
     "data": {
      "text/plain": [
       "1"
      ]
     },
     "execution_count": 97,
     "metadata": {},
     "output_type": "execute_result"
    }
   ],
   "source": [
    "another_tuple[2]     #You can index into tuples"
   ]
  },
  {
   "cell_type": "code",
   "execution_count": 98,
   "id": "b82bd133",
   "metadata": {
    "execution": {
     "iopub.execute_input": "2025-04-02T09:10:41.883185Z",
     "iopub.status.busy": "2025-04-02T09:10:41.882798Z",
     "iopub.status.idle": "2025-04-02T09:10:41.888329Z",
     "shell.execute_reply": "2025-04-02T09:10:41.887180Z"
    },
    "papermill": {
     "duration": 0.040905,
     "end_time": "2025-04-02T09:10:41.890014",
     "exception": false,
     "start_time": "2025-04-02T09:10:41.849109",
     "status": "completed"
    },
    "tags": []
   },
   "outputs": [
    {
     "data": {
      "text/plain": [
       "(1, 4)"
      ]
     },
     "execution_count": 98,
     "metadata": {},
     "output_type": "execute_result"
    }
   ],
   "source": [
    "another_tuple[2:4]    #You can slice tuples"
   ]
  },
  {
   "cell_type": "code",
   "execution_count": 99,
   "id": "dfcbde89",
   "metadata": {
    "execution": {
     "iopub.execute_input": "2025-04-02T09:10:41.958841Z",
     "iopub.status.busy": "2025-04-02T09:10:41.958451Z",
     "iopub.status.idle": "2025-04-02T09:10:41.963072Z",
     "shell.execute_reply": "2025-04-02T09:10:41.962178Z"
    },
    "papermill": {
     "duration": 0.0402,
     "end_time": "2025-04-02T09:10:41.964657",
     "exception": false,
     "start_time": "2025-04-02T09:10:41.924457",
     "status": "completed"
    },
    "tags": []
   },
   "outputs": [
    {
     "name": "stdout",
     "output_type": "stream",
     "text": [
      "4\n",
      "1\n",
      "4\n",
      "10\n"
     ]
    }
   ],
   "source": [
    "# You can use common sequence functions on tuples:\n",
    "\n",
    "print(len(another_tuple))\n",
    "print(min(another_tuple))\n",
    "print(max(another_tuple))\n",
    "print(sum(another_tuple))"
   ]
  },
  {
   "cell_type": "code",
   "execution_count": 100,
   "id": "638792c3",
   "metadata": {
    "execution": {
     "iopub.execute_input": "2025-04-02T09:10:42.031977Z",
     "iopub.status.busy": "2025-04-02T09:10:42.031599Z",
     "iopub.status.idle": "2025-04-02T09:10:42.035325Z",
     "shell.execute_reply": "2025-04-02T09:10:42.034448Z"
    },
    "papermill": {
     "duration": 0.03903,
     "end_time": "2025-04-02T09:10:42.036819",
     "exception": false,
     "start_time": "2025-04-02T09:10:41.997789",
     "status": "completed"
    },
    "tags": []
   },
   "outputs": [],
   "source": [
    "#another_tuple.append(1)     #You can't append to a tuple\n",
    "#You cannot append to a tuple"
   ]
  },
  {
   "cell_type": "code",
   "execution_count": 101,
   "id": "766b926c",
   "metadata": {
    "execution": {
     "iopub.execute_input": "2025-04-02T09:10:42.104440Z",
     "iopub.status.busy": "2025-04-02T09:10:42.104020Z",
     "iopub.status.idle": "2025-04-02T09:10:42.108027Z",
     "shell.execute_reply": "2025-04-02T09:10:42.106972Z"
    },
    "papermill": {
     "duration": 0.039486,
     "end_time": "2025-04-02T09:10:42.109600",
     "exception": false,
     "start_time": "2025-04-02T09:10:42.070114",
     "status": "completed"
    },
    "tags": []
   },
   "outputs": [],
   "source": [
    "#del another_tuple[1] \n",
    "# You can't delete from a tuple"
   ]
  },
  {
   "cell_type": "markdown",
   "id": "f3095cd0",
   "metadata": {
    "papermill": {
     "duration": 0.032599,
     "end_time": "2025-04-02T09:10:42.175032",
     "exception": false,
     "start_time": "2025-04-02T09:10:42.142433",
     "status": "completed"
    },
    "tags": []
   },
   "source": [
    "# Strings"
   ]
  },
  {
   "cell_type": "markdown",
   "id": "fd406817",
   "metadata": {
    "papermill": {
     "duration": 0.032372,
     "end_time": "2025-04-02T09:10:42.240483",
     "exception": false,
     "start_time": "2025-04-02T09:10:42.208111",
     "status": "completed"
    },
    "tags": []
   },
   "source": [
    "Strings are technically sequences: immutable sequences of text characters. As sequences, they support indexing operations where the first character of a string is index 0. This means we can get individual letters or slices of letters with indexing:"
   ]
  },
  {
   "cell_type": "code",
   "execution_count": 102,
   "id": "40962dd4",
   "metadata": {
    "execution": {
     "iopub.execute_input": "2025-04-02T09:10:42.307063Z",
     "iopub.status.busy": "2025-04-02T09:10:42.306718Z",
     "iopub.status.idle": "2025-04-02T09:10:42.311847Z",
     "shell.execute_reply": "2025-04-02T09:10:42.310946Z"
    },
    "papermill": {
     "duration": 0.040602,
     "end_time": "2025-04-02T09:10:42.313322",
     "exception": false,
     "start_time": "2025-04-02T09:10:42.272720",
     "status": "completed"
    },
    "tags": []
   },
   "outputs": [
    {
     "data": {
      "text/plain": [
       "'l'"
      ]
     },
     "execution_count": 102,
     "metadata": {},
     "output_type": "execute_result"
    }
   ],
   "source": [
    "my_string = \"Hello World\"\n",
    "my_string[3]   #get the character at index 3"
   ]
  },
  {
   "cell_type": "code",
   "execution_count": 103,
   "id": "8e09ae38",
   "metadata": {
    "execution": {
     "iopub.execute_input": "2025-04-02T09:10:42.380742Z",
     "iopub.status.busy": "2025-04-02T09:10:42.380426Z",
     "iopub.status.idle": "2025-04-02T09:10:42.385968Z",
     "shell.execute_reply": "2025-04-02T09:10:42.385010Z"
    },
    "papermill": {
     "duration": 0.041261,
     "end_time": "2025-04-02T09:10:42.387488",
     "exception": false,
     "start_time": "2025-04-02T09:10:42.346227",
     "status": "completed"
    },
    "tags": []
   },
   "outputs": [
    {
     "data": {
      "text/plain": [
       "'lo World'"
      ]
     },
     "execution_count": 103,
     "metadata": {},
     "output_type": "execute_result"
    }
   ],
   "source": [
    "my_string[3:]  #slice from the third index to the end"
   ]
  },
  {
   "cell_type": "code",
   "execution_count": 104,
   "id": "458bd669",
   "metadata": {
    "execution": {
     "iopub.execute_input": "2025-04-02T09:10:42.455514Z",
     "iopub.status.busy": "2025-04-02T09:10:42.455160Z",
     "iopub.status.idle": "2025-04-02T09:10:42.460667Z",
     "shell.execute_reply": "2025-04-02T09:10:42.459704Z"
    },
    "papermill": {
     "duration": 0.041794,
     "end_time": "2025-04-02T09:10:42.462322",
     "exception": false,
     "start_time": "2025-04-02T09:10:42.420528",
     "status": "completed"
    },
    "tags": []
   },
   "outputs": [
    {
     "data": {
      "text/plain": [
       "'dlroW olleH'"
      ]
     },
     "execution_count": 104,
     "metadata": {},
     "output_type": "execute_result"
    }
   ],
   "source": [
    "my_string[::-1]   #reverse the string"
   ]
  },
  {
   "cell_type": "markdown",
   "id": "d92cb92b",
   "metadata": {
    "papermill": {
     "duration": 0.033271,
     "end_time": "2025-04-02T09:10:42.529022",
     "exception": false,
     "start_time": "2025-04-02T09:10:42.495751",
     "status": "completed"
    },
    "tags": []
   },
   "source": [
    "In addition, certain sequence function like len() and count() work on strings:"
   ]
  },
  {
   "cell_type": "code",
   "execution_count": 105,
   "id": "b55a0927",
   "metadata": {
    "execution": {
     "iopub.execute_input": "2025-04-02T09:10:42.599087Z",
     "iopub.status.busy": "2025-04-02T09:10:42.598677Z",
     "iopub.status.idle": "2025-04-02T09:10:42.604507Z",
     "shell.execute_reply": "2025-04-02T09:10:42.603498Z"
    },
    "papermill": {
     "duration": 0.041559,
     "end_time": "2025-04-02T09:10:42.605996",
     "exception": false,
     "start_time": "2025-04-02T09:10:42.564437",
     "status": "completed"
    },
    "tags": []
   },
   "outputs": [
    {
     "data": {
      "text/plain": [
       "11"
      ]
     },
     "execution_count": 105,
     "metadata": {},
     "output_type": "execute_result"
    }
   ],
   "source": [
    "len(my_string)"
   ]
  },
  {
   "cell_type": "code",
   "execution_count": 106,
   "id": "72c63b67",
   "metadata": {
    "execution": {
     "iopub.execute_input": "2025-04-02T09:10:42.673717Z",
     "iopub.status.busy": "2025-04-02T09:10:42.673384Z",
     "iopub.status.idle": "2025-04-02T09:10:42.678721Z",
     "shell.execute_reply": "2025-04-02T09:10:42.677932Z"
    },
    "papermill": {
     "duration": 0.040348,
     "end_time": "2025-04-02T09:10:42.680107",
     "exception": false,
     "start_time": "2025-04-02T09:10:42.639759",
     "status": "completed"
    },
    "tags": []
   },
   "outputs": [
    {
     "data": {
      "text/plain": [
       "3"
      ]
     },
     "execution_count": 106,
     "metadata": {},
     "output_type": "execute_result"
    }
   ],
   "source": [
    "my_string.count(\"l\")    #Count the l's in the string"
   ]
  },
  {
   "cell_type": "markdown",
   "id": "c3497bdc",
   "metadata": {
    "papermill": {
     "duration": 0.033023,
     "end_time": "2025-04-02T09:10:42.746472",
     "exception": false,
     "start_time": "2025-04-02T09:10:42.713449",
     "status": "completed"
    },
    "tags": []
   },
   "source": [
    "As immutable objects, you can't change a string itself: everytime you transform a string with function, Python makes a new string object, rather than actually altering the original string that exists in your computer's memory."
   ]
  },
  {
   "cell_type": "markdown",
   "id": "24a5b85c",
   "metadata": {
    "papermill": {
     "duration": 0.032837,
     "end_time": "2025-04-02T09:10:42.812344",
     "exception": false,
     "start_time": "2025-04-02T09:10:42.779507",
     "status": "completed"
    },
    "tags": []
   },
   "source": [
    "Strings have many associated functions. Some basic string functions include:"
   ]
  },
  {
   "cell_type": "code",
   "execution_count": 107,
   "id": "c5539a28",
   "metadata": {
    "execution": {
     "iopub.execute_input": "2025-04-02T09:10:42.879001Z",
     "iopub.status.busy": "2025-04-02T09:10:42.878653Z",
     "iopub.status.idle": "2025-04-02T09:10:42.883929Z",
     "shell.execute_reply": "2025-04-02T09:10:42.883000Z"
    },
    "papermill": {
     "duration": 0.040458,
     "end_time": "2025-04-02T09:10:42.885508",
     "exception": false,
     "start_time": "2025-04-02T09:10:42.845050",
     "status": "completed"
    },
    "tags": []
   },
   "outputs": [
    {
     "data": {
      "text/plain": [
       "'hello world'"
      ]
     },
     "execution_count": 107,
     "metadata": {},
     "output_type": "execute_result"
    }
   ],
   "source": [
    "#str.lower()\n",
    "my_string.lower()   #Make all characters lowercase"
   ]
  },
  {
   "cell_type": "code",
   "execution_count": 108,
   "id": "d4c1b43a",
   "metadata": {
    "execution": {
     "iopub.execute_input": "2025-04-02T09:10:42.953149Z",
     "iopub.status.busy": "2025-04-02T09:10:42.952769Z",
     "iopub.status.idle": "2025-04-02T09:10:42.958314Z",
     "shell.execute_reply": "2025-04-02T09:10:42.957270Z"
    },
    "papermill": {
     "duration": 0.040751,
     "end_time": "2025-04-02T09:10:42.959814",
     "exception": false,
     "start_time": "2025-04-02T09:10:42.919063",
     "status": "completed"
    },
    "tags": []
   },
   "outputs": [
    {
     "data": {
      "text/plain": [
       "'HELLO WORLD'"
      ]
     },
     "execution_count": 108,
     "metadata": {},
     "output_type": "execute_result"
    }
   ],
   "source": [
    "#str.upper()\n",
    "my_string.upper()  #Make all characters uppercase"
   ]
  },
  {
   "cell_type": "code",
   "execution_count": 109,
   "id": "86582658",
   "metadata": {
    "execution": {
     "iopub.execute_input": "2025-04-02T09:10:43.027508Z",
     "iopub.status.busy": "2025-04-02T09:10:43.027158Z",
     "iopub.status.idle": "2025-04-02T09:10:43.032539Z",
     "shell.execute_reply": "2025-04-02T09:10:43.031611Z"
    },
    "papermill": {
     "duration": 0.04072,
     "end_time": "2025-04-02T09:10:43.034071",
     "exception": false,
     "start_time": "2025-04-02T09:10:42.993351",
     "status": "completed"
    },
    "tags": []
   },
   "outputs": [
    {
     "data": {
      "text/plain": [
       "'Hello World'"
      ]
     },
     "execution_count": 109,
     "metadata": {},
     "output_type": "execute_result"
    }
   ],
   "source": [
    "#str.title()\n",
    "my_string.title()  #Mak the first letter of each word upper"
   ]
  },
  {
   "cell_type": "markdown",
   "id": "cc37bb36",
   "metadata": {
    "papermill": {
     "duration": 0.033281,
     "end_time": "2025-04-02T09:10:43.100739",
     "exception": false,
     "start_time": "2025-04-02T09:10:43.067458",
     "status": "completed"
    },
    "tags": []
   },
   "source": [
    "Find the index of the first appearing substring within a string using str.find(). If the substring does not appear, find() returns -1:"
   ]
  },
  {
   "cell_type": "code",
   "execution_count": 110,
   "id": "e0314744",
   "metadata": {
    "execution": {
     "iopub.execute_input": "2025-04-02T09:10:43.169510Z",
     "iopub.status.busy": "2025-04-02T09:10:43.169186Z",
     "iopub.status.idle": "2025-04-02T09:10:43.174430Z",
     "shell.execute_reply": "2025-04-02T09:10:43.173636Z"
    },
    "papermill": {
     "duration": 0.041498,
     "end_time": "2025-04-02T09:10:43.176109",
     "exception": false,
     "start_time": "2025-04-02T09:10:43.134611",
     "status": "completed"
    },
    "tags": []
   },
   "outputs": [
    {
     "data": {
      "text/plain": [
       "-1"
      ]
     },
     "execution_count": 110,
     "metadata": {},
     "output_type": "execute_result"
    }
   ],
   "source": [
    "my_string.find(\"S\")"
   ]
  },
  {
   "cell_type": "markdown",
   "id": "7fed82bf",
   "metadata": {
    "papermill": {
     "duration": 0.033718,
     "end_time": "2025-04-02T09:10:43.244026",
     "exception": false,
     "start_time": "2025-04-02T09:10:43.210308",
     "status": "completed"
    },
    "tags": []
   },
   "source": [
    "Notice that since strings are immutable, we never actually changed the original value of my_string with any of the code above, but instead generated new strings that were printed to the console. This means \"S\" does not exist in my_string even through our call to str.title() produced the output 'Hello World'. "
   ]
  },
  {
   "cell_type": "code",
   "execution_count": 111,
   "id": "cd822efb",
   "metadata": {
    "execution": {
     "iopub.execute_input": "2025-04-02T09:10:43.311876Z",
     "iopub.status.busy": "2025-04-02T09:10:43.311543Z",
     "iopub.status.idle": "2025-04-02T09:10:43.317272Z",
     "shell.execute_reply": "2025-04-02T09:10:43.316030Z"
    },
    "papermill": {
     "duration": 0.041673,
     "end_time": "2025-04-02T09:10:43.318861",
     "exception": false,
     "start_time": "2025-04-02T09:10:43.277188",
     "status": "completed"
    },
    "tags": []
   },
   "outputs": [
    {
     "data": {
      "text/plain": [
       "6"
      ]
     },
     "execution_count": 111,
     "metadata": {},
     "output_type": "execute_result"
    }
   ],
   "source": [
    "my_string.find(\"W\")"
   ]
  },
  {
   "cell_type": "markdown",
   "id": "e9f4bf26",
   "metadata": {
    "papermill": {
     "duration": 0.033205,
     "end_time": "2025-04-02T09:10:43.386033",
     "exception": false,
     "start_time": "2025-04-02T09:10:43.352828",
     "status": "completed"
    },
    "tags": []
   },
   "source": [
    "Find and replace a target substring within a string using str.replace()\""
   ]
  },
  {
   "cell_type": "code",
   "execution_count": 112,
   "id": "674d329c",
   "metadata": {
    "execution": {
     "iopub.execute_input": "2025-04-02T09:10:43.455492Z",
     "iopub.status.busy": "2025-04-02T09:10:43.455150Z",
     "iopub.status.idle": "2025-04-02T09:10:43.460588Z",
     "shell.execute_reply": "2025-04-02T09:10:43.459744Z"
    },
    "papermill": {
     "duration": 0.041752,
     "end_time": "2025-04-02T09:10:43.461984",
     "exception": false,
     "start_time": "2025-04-02T09:10:43.420232",
     "status": "completed"
    },
    "tags": []
   },
   "outputs": [
    {
     "data": {
      "text/plain": [
       "'Hello friend'"
      ]
     },
     "execution_count": 112,
     "metadata": {},
     "output_type": "execute_result"
    }
   ],
   "source": [
    "my_string = \"Hello world\"\n",
    "my_string.replace(\"world\",     #Substring to replace\n",
    "                \"friend\")      #New Substring"
   ]
  },
  {
   "cell_type": "markdown",
   "id": "44e6c305",
   "metadata": {
    "papermill": {
     "duration": 0.032925,
     "end_time": "2025-04-02T09:10:43.528589",
     "exception": false,
     "start_time": "2025-04-02T09:10:43.495664",
     "status": "completed"
    },
    "tags": []
   },
   "source": [
    "Split a string into a list of substrings based on a given separating character with str.split():"
   ]
  },
  {
   "cell_type": "code",
   "execution_count": 113,
   "id": "ca65b3fa",
   "metadata": {
    "execution": {
     "iopub.execute_input": "2025-04-02T09:10:43.598794Z",
     "iopub.status.busy": "2025-04-02T09:10:43.598460Z",
     "iopub.status.idle": "2025-04-02T09:10:43.603973Z",
     "shell.execute_reply": "2025-04-02T09:10:43.603046Z"
    },
    "papermill": {
     "duration": 0.041744,
     "end_time": "2025-04-02T09:10:43.605515",
     "exception": false,
     "start_time": "2025-04-02T09:10:43.563771",
     "status": "completed"
    },
    "tags": []
   },
   "outputs": [
    {
     "data": {
      "text/plain": [
       "['Hello', 'world']"
      ]
     },
     "execution_count": 113,
     "metadata": {},
     "output_type": "execute_result"
    }
   ],
   "source": [
    "my_string.split()    #str.split() splits on spaces by default"
   ]
  },
  {
   "cell_type": "code",
   "execution_count": 114,
   "id": "143a1cd7",
   "metadata": {
    "execution": {
     "iopub.execute_input": "2025-04-02T09:10:43.674785Z",
     "iopub.status.busy": "2025-04-02T09:10:43.674473Z",
     "iopub.status.idle": "2025-04-02T09:10:43.679636Z",
     "shell.execute_reply": "2025-04-02T09:10:43.678833Z"
    },
    "papermill": {
     "duration": 0.04128,
     "end_time": "2025-04-02T09:10:43.681103",
     "exception": false,
     "start_time": "2025-04-02T09:10:43.639823",
     "status": "completed"
    },
    "tags": []
   },
   "outputs": [
    {
     "data": {
      "text/plain": [
       "['Hello world']"
      ]
     },
     "execution_count": 114,
     "metadata": {},
     "output_type": "execute_result"
    }
   ],
   "source": [
    "my_string.split(\"_\") "
   ]
  },
  {
   "cell_type": "code",
   "execution_count": 115,
   "id": "33e0e98c",
   "metadata": {
    "execution": {
     "iopub.execute_input": "2025-04-02T09:10:43.750486Z",
     "iopub.status.busy": "2025-04-02T09:10:43.750113Z",
     "iopub.status.idle": "2025-04-02T09:10:43.755518Z",
     "shell.execute_reply": "2025-04-02T09:10:43.754695Z"
    },
    "papermill": {
     "duration": 0.041712,
     "end_time": "2025-04-02T09:10:43.756993",
     "exception": false,
     "start_time": "2025-04-02T09:10:43.715281",
     "status": "completed"
    },
    "tags": []
   },
   "outputs": [
    {
     "data": {
      "text/plain": [
       "['He', '', 'o wor', 'd']"
      ]
     },
     "execution_count": 115,
     "metadata": {},
     "output_type": "execute_result"
    }
   ],
   "source": [
    "my_string.split(\"l\")   #Supply a substring to split  on other values"
   ]
  },
  {
   "cell_type": "markdown",
   "id": "d2811b8d",
   "metadata": {
    "papermill": {
     "duration": 0.033694,
     "end_time": "2025-04-02T09:10:43.824780",
     "exception": false,
     "start_time": "2025-04-02T09:10:43.791086",
     "status": "completed"
    },
    "tags": []
   },
   "source": [
    "Split a multi-line string into a list of lines using str.splitlines():"
   ]
  },
  {
   "cell_type": "code",
   "execution_count": 116,
   "id": "08e6b812",
   "metadata": {
    "execution": {
     "iopub.execute_input": "2025-04-02T09:10:43.892366Z",
     "iopub.status.busy": "2025-04-02T09:10:43.892029Z",
     "iopub.status.idle": "2025-04-02T09:10:43.897668Z",
     "shell.execute_reply": "2025-04-02T09:10:43.896657Z"
    },
    "papermill": {
     "duration": 0.04126,
     "end_time": "2025-04-02T09:10:43.899252",
     "exception": false,
     "start_time": "2025-04-02T09:10:43.857992",
     "status": "completed"
    },
    "tags": []
   },
   "outputs": [
    {
     "data": {
      "text/plain": [
       "['I ', 'a multiline ', 'string!']"
      ]
     },
     "execution_count": 116,
     "metadata": {},
     "output_type": "execute_result"
    }
   ],
   "source": [
    "multiline_string = \"\"\"I \n",
    "a multiline \n",
    "string!\"\"\"\n",
    "multiline_string.splitlines()"
   ]
  },
  {
   "cell_type": "code",
   "execution_count": null,
   "id": "c5be291c",
   "metadata": {
    "papermill": {
     "duration": 0.032886,
     "end_time": "2025-04-02T09:10:43.966984",
     "exception": false,
     "start_time": "2025-04-02T09:10:43.934098",
     "status": "completed"
    },
    "tags": []
   },
   "outputs": [],
   "source": []
  }
 ],
 "metadata": {
  "kaggle": {
   "accelerator": "none",
   "dataSources": [],
   "dockerImageVersionId": 30918,
   "isGpuEnabled": false,
   "isInternetEnabled": false,
   "language": "python",
   "sourceType": "notebook"
  },
  "kernelspec": {
   "display_name": "Python 3",
   "language": "python",
   "name": "python3"
  },
  "language_info": {
   "codemirror_mode": {
    "name": "ipython",
    "version": 3
   },
   "file_extension": ".py",
   "mimetype": "text/x-python",
   "name": "python",
   "nbconvert_exporter": "python",
   "pygments_lexer": "ipython3",
   "version": "3.10.12"
  },
  "papermill": {
   "default_parameters": {},
   "duration": 16.286598,
   "end_time": "2025-04-02T09:10:44.520984",
   "environment_variables": {},
   "exception": null,
   "input_path": "__notebook__.ipynb",
   "output_path": "__notebook__.ipynb",
   "parameters": {},
   "start_time": "2025-04-02T09:10:28.234386",
   "version": "2.6.0"
  }
 },
 "nbformat": 4,
 "nbformat_minor": 5
}
