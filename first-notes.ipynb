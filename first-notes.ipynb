{
 "cells": [
  {
   "cell_type": "code",
   "execution_count": 1,
   "id": "65e52dec",
   "metadata": {
    "_cell_guid": "b1076dfc-b9ad-4769-8c92-a6c4dae69d19",
    "_uuid": "8f2839f25d086af736a60e9eeb907d3b93b6e0e5",
    "execution": {
     "iopub.execute_input": "2025-04-02T04:26:47.520842Z",
     "iopub.status.busy": "2025-04-02T04:26:47.520331Z",
     "iopub.status.idle": "2025-04-02T04:26:48.578004Z",
     "shell.execute_reply": "2025-04-02T04:26:48.576787Z"
    },
    "papermill": {
     "duration": 1.082517,
     "end_time": "2025-04-02T04:26:48.580095",
     "exception": false,
     "start_time": "2025-04-02T04:26:47.497578",
     "status": "completed"
    },
    "tags": []
   },
   "outputs": [],
   "source": [
    "# This Python 3 environment comes with many helpful analytics libraries installed\n",
    "# It is defined by the kaggle/python Docker image: https://github.com/kaggle/docker-python\n",
    "# For example, here's several helpful packages to load\n",
    "\n",
    "import numpy as np # linear algebra\n",
    "import pandas as pd # data processing, CSV file I/O (e.g. pd.read_csv)\n",
    "\n",
    "# Input data files are available in the read-only \"../input/\" directory\n",
    "# For example, running this (by clicking run or pressing Shift+Enter) will list all files under the input directory\n",
    "\n",
    "import os\n",
    "for dirname, _, filenames in os.walk('/kaggle/input'):\n",
    "    for filename in filenames:\n",
    "        print(os.path.join(dirname, filename))\n",
    "\n",
    "# You can write up to 20GB to the current directory (/kaggle/working/) that gets preserved as output when you create a version using \"Save & Run All\" \n",
    "# You can also write temporary files to /kaggle/temp/, but they won't be saved outside of the current session"
   ]
  },
  {
   "cell_type": "code",
   "execution_count": 2,
   "id": "cb9e4c2d",
   "metadata": {
    "execution": {
     "iopub.execute_input": "2025-04-02T04:26:48.620729Z",
     "iopub.status.busy": "2025-04-02T04:26:48.620178Z",
     "iopub.status.idle": "2025-04-02T04:26:48.627599Z",
     "shell.execute_reply": "2025-04-02T04:26:48.626398Z"
    },
    "papermill": {
     "duration": 0.03014,
     "end_time": "2025-04-02T04:26:48.629608",
     "exception": false,
     "start_time": "2025-04-02T04:26:48.599468",
     "status": "completed"
    },
    "tags": []
   },
   "outputs": [
    {
     "data": {
      "text/plain": [
       "15"
      ]
     },
     "execution_count": 2,
     "metadata": {},
     "output_type": "execute_result"
    }
   ],
   "source": [
    "10 + 5"
   ]
  },
  {
   "cell_type": "code",
   "execution_count": 3,
   "id": "e8c44b6c",
   "metadata": {
    "execution": {
     "iopub.execute_input": "2025-04-02T04:26:48.669426Z",
     "iopub.status.busy": "2025-04-02T04:26:48.669039Z",
     "iopub.status.idle": "2025-04-02T04:26:48.675621Z",
     "shell.execute_reply": "2025-04-02T04:26:48.674432Z"
    },
    "papermill": {
     "duration": 0.028518,
     "end_time": "2025-04-02T04:26:48.677494",
     "exception": false,
     "start_time": "2025-04-02T04:26:48.648976",
     "status": "completed"
    },
    "tags": []
   },
   "outputs": [
    {
     "data": {
      "text/plain": [
       "5"
      ]
     },
     "execution_count": 3,
     "metadata": {},
     "output_type": "execute_result"
    }
   ],
   "source": [
    "10 - 5"
   ]
  },
  {
   "cell_type": "code",
   "execution_count": 4,
   "id": "cf8761d0",
   "metadata": {
    "execution": {
     "iopub.execute_input": "2025-04-02T04:26:48.717883Z",
     "iopub.status.busy": "2025-04-02T04:26:48.717528Z",
     "iopub.status.idle": "2025-04-02T04:26:48.723264Z",
     "shell.execute_reply": "2025-04-02T04:26:48.722272Z"
    },
    "papermill": {
     "duration": 0.027645,
     "end_time": "2025-04-02T04:26:48.725022",
     "exception": false,
     "start_time": "2025-04-02T04:26:48.697377",
     "status": "completed"
    },
    "tags": []
   },
   "outputs": [
    {
     "data": {
      "text/plain": [
       "50"
      ]
     },
     "execution_count": 4,
     "metadata": {},
     "output_type": "execute_result"
    }
   ],
   "source": [
    "10*5"
   ]
  },
  {
   "cell_type": "code",
   "execution_count": 5,
   "id": "e53c9a62",
   "metadata": {
    "execution": {
     "iopub.execute_input": "2025-04-02T04:26:48.764782Z",
     "iopub.status.busy": "2025-04-02T04:26:48.764414Z",
     "iopub.status.idle": "2025-04-02T04:26:48.769973Z",
     "shell.execute_reply": "2025-04-02T04:26:48.769016Z"
    },
    "papermill": {
     "duration": 0.02749,
     "end_time": "2025-04-02T04:26:48.771770",
     "exception": false,
     "start_time": "2025-04-02T04:26:48.744280",
     "status": "completed"
    },
    "tags": []
   },
   "outputs": [
    {
     "data": {
      "text/plain": [
       "2.0"
      ]
     },
     "execution_count": 5,
     "metadata": {},
     "output_type": "execute_result"
    }
   ],
   "source": [
    "10/5"
   ]
  },
  {
   "cell_type": "code",
   "execution_count": 6,
   "id": "971f7396",
   "metadata": {
    "execution": {
     "iopub.execute_input": "2025-04-02T04:26:48.813833Z",
     "iopub.status.busy": "2025-04-02T04:26:48.813490Z",
     "iopub.status.idle": "2025-04-02T04:26:48.819643Z",
     "shell.execute_reply": "2025-04-02T04:26:48.818264Z"
    },
    "papermill": {
     "duration": 0.029229,
     "end_time": "2025-04-02T04:26:48.821525",
     "exception": false,
     "start_time": "2025-04-02T04:26:48.792296",
     "status": "completed"
    },
    "tags": []
   },
   "outputs": [
    {
     "data": {
      "text/plain": [
       "3.3333333333333335"
      ]
     },
     "execution_count": 6,
     "metadata": {},
     "output_type": "execute_result"
    }
   ],
   "source": [
    "10/3"
   ]
  },
  {
   "cell_type": "code",
   "execution_count": 7,
   "id": "8f45c5f1",
   "metadata": {
    "execution": {
     "iopub.execute_input": "2025-04-02T04:26:48.864464Z",
     "iopub.status.busy": "2025-04-02T04:26:48.864082Z",
     "iopub.status.idle": "2025-04-02T04:26:48.870258Z",
     "shell.execute_reply": "2025-04-02T04:26:48.869143Z"
    },
    "papermill": {
     "duration": 0.029724,
     "end_time": "2025-04-02T04:26:48.872168",
     "exception": false,
     "start_time": "2025-04-02T04:26:48.842444",
     "status": "completed"
    },
    "tags": []
   },
   "outputs": [
    {
     "data": {
      "text/plain": [
       "3"
      ]
     },
     "execution_count": 7,
     "metadata": {},
     "output_type": "execute_result"
    }
   ],
   "source": [
    "10//3"
   ]
  },
  {
   "cell_type": "code",
   "execution_count": 8,
   "id": "77a92a72",
   "metadata": {
    "execution": {
     "iopub.execute_input": "2025-04-02T04:26:48.913210Z",
     "iopub.status.busy": "2025-04-02T04:26:48.912768Z",
     "iopub.status.idle": "2025-04-02T04:26:48.918739Z",
     "shell.execute_reply": "2025-04-02T04:26:48.917620Z"
    },
    "papermill": {
     "duration": 0.028611,
     "end_time": "2025-04-02T04:26:48.920649",
     "exception": false,
     "start_time": "2025-04-02T04:26:48.892038",
     "status": "completed"
    },
    "tags": []
   },
   "outputs": [
    {
     "data": {
      "text/plain": [
       "1000"
      ]
     },
     "execution_count": 8,
     "metadata": {},
     "output_type": "execute_result"
    }
   ],
   "source": [
    "10**3"
   ]
  },
  {
   "cell_type": "code",
   "execution_count": 9,
   "id": "67adef5c",
   "metadata": {
    "execution": {
     "iopub.execute_input": "2025-04-02T04:26:48.961562Z",
     "iopub.status.busy": "2025-04-02T04:26:48.961183Z",
     "iopub.status.idle": "2025-04-02T04:26:48.967454Z",
     "shell.execute_reply": "2025-04-02T04:26:48.966191Z"
    },
    "papermill": {
     "duration": 0.028796,
     "end_time": "2025-04-02T04:26:48.969274",
     "exception": false,
     "start_time": "2025-04-02T04:26:48.940478",
     "status": "completed"
    },
    "tags": []
   },
   "outputs": [
    {
     "data": {
      "text/plain": [
       "100"
      ]
     },
     "execution_count": 9,
     "metadata": {},
     "output_type": "execute_result"
    }
   ],
   "source": [
    "10**2"
   ]
  },
  {
   "cell_type": "code",
   "execution_count": 10,
   "id": "2b94a751",
   "metadata": {
    "execution": {
     "iopub.execute_input": "2025-04-02T04:26:49.012354Z",
     "iopub.status.busy": "2025-04-02T04:26:49.011998Z",
     "iopub.status.idle": "2025-04-02T04:26:49.017885Z",
     "shell.execute_reply": "2025-04-02T04:26:49.016987Z"
    },
    "papermill": {
     "duration": 0.02957,
     "end_time": "2025-04-02T04:26:49.019857",
     "exception": false,
     "start_time": "2025-04-02T04:26:48.990287",
     "status": "completed"
    },
    "tags": []
   },
   "outputs": [
    {
     "data": {
      "text/plain": [
       "10000"
      ]
     },
     "execution_count": 10,
     "metadata": {},
     "output_type": "execute_result"
    }
   ],
   "source": [
    "10**4"
   ]
  },
  {
   "cell_type": "code",
   "execution_count": null,
   "id": "8eb12237",
   "metadata": {
    "papermill": {
     "duration": 0.01965,
     "end_time": "2025-04-02T04:26:49.059792",
     "exception": false,
     "start_time": "2025-04-02T04:26:49.040142",
     "status": "completed"
    },
    "tags": []
   },
   "outputs": [],
   "source": []
  },
  {
   "cell_type": "markdown",
   "id": "4932db0c",
   "metadata": {
    "papermill": {
     "duration": 0.019672,
     "end_time": "2025-04-02T04:26:49.099261",
     "exception": false,
     "start_time": "2025-04-02T04:26:49.079589",
     "status": "completed"
    },
    "tags": []
   },
   "source": [
    "Math expresssion in python follow the normal arithmetic order of expressions so * and / are executed before + and - and ** is executed before multiplication and division."
   ]
  },
  {
   "cell_type": "code",
   "execution_count": 11,
   "id": "ecad4aa7",
   "metadata": {
    "execution": {
     "iopub.execute_input": "2025-04-02T04:26:49.141731Z",
     "iopub.status.busy": "2025-04-02T04:26:49.141373Z",
     "iopub.status.idle": "2025-04-02T04:26:49.148069Z",
     "shell.execute_reply": "2025-04-02T04:26:49.146878Z"
    },
    "papermill": {
     "duration": 0.030745,
     "end_time": "2025-04-02T04:26:49.150221",
     "exception": false,
     "start_time": "2025-04-02T04:26:49.119476",
     "status": "completed"
    },
    "tags": []
   },
   "outputs": [
    {
     "data": {
      "text/plain": [
       "77"
      ]
     },
     "execution_count": 11,
     "metadata": {},
     "output_type": "execute_result"
    }
   ],
   "source": [
    "2 + 3 * 5 ** 2"
   ]
  },
  {
   "cell_type": "markdown",
   "id": "a0bcccb2",
   "metadata": {
    "papermill": {
     "duration": 0.022399,
     "end_time": "2025-04-02T04:26:49.193948",
     "exception": false,
     "start_time": "2025-04-02T04:26:49.171549",
     "status": "completed"
    },
    "tags": []
   },
   "source": [
    "You can use parenthesis in your math expression to ensure that operations are carried out on the correct order. Operations within parentheses are carried out before operations that are external to the parenthesis."
   ]
  },
  {
   "cell_type": "code",
   "execution_count": 12,
   "id": "3908d846",
   "metadata": {
    "execution": {
     "iopub.execute_input": "2025-04-02T04:26:49.239294Z",
     "iopub.status.busy": "2025-04-02T04:26:49.238878Z",
     "iopub.status.idle": "2025-04-02T04:26:49.244697Z",
     "shell.execute_reply": "2025-04-02T04:26:49.243635Z"
    },
    "papermill": {
     "duration": 0.029742,
     "end_time": "2025-04-02T04:26:49.246486",
     "exception": false,
     "start_time": "2025-04-02T04:26:49.216744",
     "status": "completed"
    },
    "tags": []
   },
   "outputs": [
    {
     "data": {
      "text/plain": [
       "625"
      ]
     },
     "execution_count": 12,
     "metadata": {},
     "output_type": "execute_result"
    }
   ],
   "source": [
    "((2 + 3) * 5 ) ** 2"
   ]
  },
  {
   "cell_type": "code",
   "execution_count": 13,
   "id": "19f33dec",
   "metadata": {
    "execution": {
     "iopub.execute_input": "2025-04-02T04:26:49.289761Z",
     "iopub.status.busy": "2025-04-02T04:26:49.289326Z",
     "iopub.status.idle": "2025-04-02T04:26:49.295226Z",
     "shell.execute_reply": "2025-04-02T04:26:49.294075Z"
    },
    "papermill": {
     "duration": 0.029372,
     "end_time": "2025-04-02T04:26:49.296976",
     "exception": false,
     "start_time": "2025-04-02T04:26:49.267604",
     "status": "completed"
    },
    "tags": []
   },
   "outputs": [
    {
     "data": {
      "text/plain": [
       "25"
      ]
     },
     "execution_count": 13,
     "metadata": {},
     "output_type": "execute_result"
    }
   ],
   "source": [
    "100 % 75"
   ]
  },
  {
   "cell_type": "code",
   "execution_count": 14,
   "id": "9584f77b",
   "metadata": {
    "execution": {
     "iopub.execute_input": "2025-04-02T04:26:49.399154Z",
     "iopub.status.busy": "2025-04-02T04:26:49.398712Z",
     "iopub.status.idle": "2025-04-02T04:26:49.403034Z",
     "shell.execute_reply": "2025-04-02T04:26:49.402020Z"
    },
    "papermill": {
     "duration": 0.027315,
     "end_time": "2025-04-02T04:26:49.404937",
     "exception": false,
     "start_time": "2025-04-02T04:26:49.377622",
     "status": "completed"
    },
    "tags": []
   },
   "outputs": [],
   "source": [
    "import math   # load the math module"
   ]
  },
  {
   "cell_type": "code",
   "execution_count": 15,
   "id": "efc8e467",
   "metadata": {
    "execution": {
     "iopub.execute_input": "2025-04-02T04:26:49.448346Z",
     "iopub.status.busy": "2025-04-02T04:26:49.447930Z",
     "iopub.status.idle": "2025-04-02T04:26:49.454026Z",
     "shell.execute_reply": "2025-04-02T04:26:49.452991Z"
    },
    "papermill": {
     "duration": 0.029914,
     "end_time": "2025-04-02T04:26:49.456019",
     "exception": false,
     "start_time": "2025-04-02T04:26:49.426105",
     "status": "completed"
    },
    "tags": []
   },
   "outputs": [
    {
     "data": {
      "text/plain": [
       "0.9999698965391098"
      ]
     },
     "execution_count": 15,
     "metadata": {},
     "output_type": "execute_result"
    }
   ],
   "source": [
    "# math.log() takes the natural logarithm of its argument:\n",
    "math.log(2.7182)"
   ]
  },
  {
   "cell_type": "code",
   "execution_count": 16,
   "id": "16c06790",
   "metadata": {
    "execution": {
     "iopub.execute_input": "2025-04-02T04:26:49.500039Z",
     "iopub.status.busy": "2025-04-02T04:26:49.499534Z",
     "iopub.status.idle": "2025-04-02T04:26:49.505695Z",
     "shell.execute_reply": "2025-04-02T04:26:49.504761Z"
    },
    "papermill": {
     "duration": 0.030295,
     "end_time": "2025-04-02T04:26:49.507448",
     "exception": false,
     "start_time": "2025-04-02T04:26:49.477153",
     "status": "completed"
    },
    "tags": []
   },
   "outputs": [
    {
     "data": {
      "text/plain": [
       "2.0"
      ]
     },
     "execution_count": 16,
     "metadata": {},
     "output_type": "execute_result"
    }
   ],
   "source": [
    "#Add a second argument to specify the log base:\n",
    "math.log(100,10)"
   ]
  },
  {
   "cell_type": "code",
   "execution_count": 17,
   "id": "e0ce2848",
   "metadata": {
    "execution": {
     "iopub.execute_input": "2025-04-02T04:26:49.550964Z",
     "iopub.status.busy": "2025-04-02T04:26:49.550542Z",
     "iopub.status.idle": "2025-04-02T04:26:49.556449Z",
     "shell.execute_reply": "2025-04-02T04:26:49.555325Z"
    },
    "papermill": {
     "duration": 0.029388,
     "end_time": "2025-04-02T04:26:49.558200",
     "exception": false,
     "start_time": "2025-04-02T04:26:49.528812",
     "status": "completed"
    },
    "tags": []
   },
   "outputs": [
    {
     "data": {
      "text/plain": [
       "22026.465794806718"
      ]
     },
     "execution_count": 17,
     "metadata": {},
     "output_type": "execute_result"
    }
   ],
   "source": [
    "#math.exp() raises e to the power of its argument\n",
    "math.exp(10)"
   ]
  },
  {
   "cell_type": "code",
   "execution_count": 18,
   "id": "eeb50fda",
   "metadata": {
    "execution": {
     "iopub.execute_input": "2025-04-02T04:26:49.603704Z",
     "iopub.status.busy": "2025-04-02T04:26:49.603375Z",
     "iopub.status.idle": "2025-04-02T04:26:49.609257Z",
     "shell.execute_reply": "2025-04-02T04:26:49.608271Z"
    },
    "papermill": {
     "duration": 0.029082,
     "end_time": "2025-04-02T04:26:49.610776",
     "exception": false,
     "start_time": "2025-04-02T04:26:49.581694",
     "status": "completed"
    },
    "tags": []
   },
   "outputs": [
    {
     "data": {
      "text/plain": [
       "30"
      ]
     },
     "execution_count": 18,
     "metadata": {},
     "output_type": "execute_result"
    }
   ],
   "source": [
    "#Use abs() to get the absolute value of a number. Note abs() is a base python function.\n",
    "abs(-30)"
   ]
  },
  {
   "cell_type": "code",
   "execution_count": 19,
   "id": "5a248587",
   "metadata": {
    "execution": {
     "iopub.execute_input": "2025-04-02T04:26:49.654016Z",
     "iopub.status.busy": "2025-04-02T04:26:49.653594Z",
     "iopub.status.idle": "2025-04-02T04:26:49.659182Z",
     "shell.execute_reply": "2025-04-02T04:26:49.658353Z"
    },
    "papermill": {
     "duration": 0.028901,
     "end_time": "2025-04-02T04:26:49.660648",
     "exception": false,
     "start_time": "2025-04-02T04:26:49.631747",
     "status": "completed"
    },
    "tags": []
   },
   "outputs": [
    {
     "data": {
      "text/plain": [
       "3.141592653589793"
      ]
     },
     "execution_count": 19,
     "metadata": {},
     "output_type": "execute_result"
    }
   ],
   "source": [
    "math.pi #Get the constant pi"
   ]
  },
  {
   "cell_type": "markdown",
   "id": "b282b9b4",
   "metadata": {
    "papermill": {
     "duration": 0.020816,
     "end_time": "2025-04-02T04:26:49.702602",
     "exception": false,
     "start_time": "2025-04-02T04:26:49.681786",
     "status": "completed"
    },
    "tags": []
   },
   "source": [
    "Rounding Numbers\n",
    "Base python contains a round() function that lets you round numbers to the nearest whole number. You can also round up or down with math.ceil and math.floor respectively."
   ]
  },
  {
   "cell_type": "code",
   "execution_count": 20,
   "id": "f2db36d8",
   "metadata": {
    "execution": {
     "iopub.execute_input": "2025-04-02T04:26:49.745639Z",
     "iopub.status.busy": "2025-04-02T04:26:49.745304Z",
     "iopub.status.idle": "2025-04-02T04:26:49.751171Z",
     "shell.execute_reply": "2025-04-02T04:26:49.750041Z"
    },
    "papermill": {
     "duration": 0.029478,
     "end_time": "2025-04-02T04:26:49.753062",
     "exception": false,
     "start_time": "2025-04-02T04:26:49.723584",
     "status": "completed"
    },
    "tags": []
   },
   "outputs": [
    {
     "data": {
      "text/plain": [
       "233"
      ]
     },
     "execution_count": 20,
     "metadata": {},
     "output_type": "execute_result"
    }
   ],
   "source": [
    "# Use round() to round a number to the nearest whole number\n",
    "round(233.234)"
   ]
  },
  {
   "cell_type": "code",
   "execution_count": 21,
   "id": "94ff7ad3",
   "metadata": {
    "execution": {
     "iopub.execute_input": "2025-04-02T04:26:49.796982Z",
     "iopub.status.busy": "2025-04-02T04:26:49.796600Z",
     "iopub.status.idle": "2025-04-02T04:26:49.802386Z",
     "shell.execute_reply": "2025-04-02T04:26:49.801261Z"
    },
    "papermill": {
     "duration": 0.029447,
     "end_time": "2025-04-02T04:26:49.804073",
     "exception": false,
     "start_time": "2025-04-02T04:26:49.774626",
     "status": "completed"
    },
    "tags": []
   },
   "outputs": [
    {
     "data": {
      "text/plain": [
       "234"
      ]
     },
     "execution_count": 21,
     "metadata": {},
     "output_type": "execute_result"
    }
   ],
   "source": [
    "round(233.677)"
   ]
  },
  {
   "cell_type": "code",
   "execution_count": 22,
   "id": "8b5486bb",
   "metadata": {
    "execution": {
     "iopub.execute_input": "2025-04-02T04:26:49.849453Z",
     "iopub.status.busy": "2025-04-02T04:26:49.849100Z",
     "iopub.status.idle": "2025-04-02T04:26:49.854580Z",
     "shell.execute_reply": "2025-04-02T04:26:49.853432Z"
    },
    "papermill": {
     "duration": 0.03122,
     "end_time": "2025-04-02T04:26:49.856529",
     "exception": false,
     "start_time": "2025-04-02T04:26:49.825309",
     "status": "completed"
    },
    "tags": []
   },
   "outputs": [
    {
     "data": {
      "text/plain": [
       "233.2"
      ]
     },
     "execution_count": 22,
     "metadata": {},
     "output_type": "execute_result"
    }
   ],
   "source": [
    "# add a second arguement to round to a specified decimal place\n",
    "round(233.234,1)"
   ]
  },
  {
   "cell_type": "code",
   "execution_count": 23,
   "id": "62d655c8",
   "metadata": {
    "execution": {
     "iopub.execute_input": "2025-04-02T04:26:49.902571Z",
     "iopub.status.busy": "2025-04-02T04:26:49.902186Z",
     "iopub.status.idle": "2025-04-02T04:26:49.908171Z",
     "shell.execute_reply": "2025-04-02T04:26:49.907121Z"
    },
    "papermill": {
     "duration": 0.031113,
     "end_time": "2025-04-02T04:26:49.909915",
     "exception": false,
     "start_time": "2025-04-02T04:26:49.878802",
     "status": "completed"
    },
    "tags": []
   },
   "outputs": [
    {
     "data": {
      "text/plain": [
       "230.0"
      ]
     },
     "execution_count": 23,
     "metadata": {},
     "output_type": "execute_result"
    }
   ],
   "source": [
    "# Enter a negative number to round to the left of the decimal\n",
    "round(233.234,-1)  #round to the 10's place\n"
   ]
  },
  {
   "cell_type": "code",
   "execution_count": 24,
   "id": "3520a7e7",
   "metadata": {
    "execution": {
     "iopub.execute_input": "2025-04-02T04:26:49.954953Z",
     "iopub.status.busy": "2025-04-02T04:26:49.954497Z",
     "iopub.status.idle": "2025-04-02T04:26:49.960603Z",
     "shell.execute_reply": "2025-04-02T04:26:49.959466Z"
    },
    "papermill": {
     "duration": 0.030722,
     "end_time": "2025-04-02T04:26:49.962504",
     "exception": false,
     "start_time": "2025-04-02T04:26:49.931782",
     "status": "completed"
    },
    "tags": []
   },
   "outputs": [
    {
     "data": {
      "text/plain": [
       "2"
      ]
     },
     "execution_count": 24,
     "metadata": {},
     "output_type": "execute_result"
    }
   ],
   "source": [
    "# Round down the nearest whole number with math.floor()\n",
    "import math\n",
    "math.floor(2.8)"
   ]
  },
  {
   "cell_type": "code",
   "execution_count": 25,
   "id": "d5e3c778",
   "metadata": {
    "execution": {
     "iopub.execute_input": "2025-04-02T04:26:50.008338Z",
     "iopub.status.busy": "2025-04-02T04:26:50.007873Z",
     "iopub.status.idle": "2025-04-02T04:26:50.014423Z",
     "shell.execute_reply": "2025-04-02T04:26:50.013341Z"
    },
    "papermill": {
     "duration": 0.031683,
     "end_time": "2025-04-02T04:26:50.016415",
     "exception": false,
     "start_time": "2025-04-02T04:26:49.984732",
     "status": "completed"
    },
    "tags": []
   },
   "outputs": [
    {
     "data": {
      "text/plain": [
       "3"
      ]
     },
     "execution_count": 25,
     "metadata": {},
     "output_type": "execute_result"
    }
   ],
   "source": [
    "#Round up with math.ceil()\n",
    "math.ceil(2.2)"
   ]
  },
  {
   "cell_type": "markdown",
   "id": "aacfba51",
   "metadata": {
    "papermill": {
     "duration": 0.022005,
     "end_time": "2025-04-02T04:26:50.061041",
     "exception": false,
     "start_time": "2025-04-02T04:26:50.039036",
     "status": "completed"
    },
    "tags": []
   },
   "source": [
    "Integers\n",
    "Integers or \"ints\" for short, are whole-numbered numeric values. Any positive or negative number (or 0) without a decimal is an integer in Python. Integer values have unlimited precision, meaning an integer is exact. You can check the type of a Python object with the type() function."
   ]
  },
  {
   "cell_type": "code",
   "execution_count": 26,
   "id": "7f32ff3e",
   "metadata": {
    "execution": {
     "iopub.execute_input": "2025-04-02T04:26:50.106814Z",
     "iopub.status.busy": "2025-04-02T04:26:50.106454Z",
     "iopub.status.idle": "2025-04-02T04:26:50.112761Z",
     "shell.execute_reply": "2025-04-02T04:26:50.111628Z"
    },
    "papermill": {
     "duration": 0.031084,
     "end_time": "2025-04-02T04:26:50.114483",
     "exception": false,
     "start_time": "2025-04-02T04:26:50.083399",
     "status": "completed"
    },
    "tags": []
   },
   "outputs": [
    {
     "data": {
      "text/plain": [
       "int"
      ]
     },
     "execution_count": 26,
     "metadata": {},
     "output_type": "execute_result"
    }
   ],
   "source": [
    "type(12)"
   ]
  },
  {
   "cell_type": "markdown",
   "id": "d8e6fd27",
   "metadata": {
    "papermill": {
     "duration": 0.023541,
     "end_time": "2025-04-02T04:26:50.160162",
     "exception": false,
     "start_time": "2025-04-02T04:26:50.136621",
     "status": "completed"
    },
    "tags": []
   },
   "source": [
    "Above we see that the type of 12 is of type \"int\". You can also use function isinstance() to check whether an object is an object is an instance of a given type:"
   ]
  },
  {
   "cell_type": "code",
   "execution_count": 27,
   "id": "e9bb5bfe",
   "metadata": {
    "execution": {
     "iopub.execute_input": "2025-04-02T04:26:50.207238Z",
     "iopub.status.busy": "2025-04-02T04:26:50.206805Z",
     "iopub.status.idle": "2025-04-02T04:26:50.213229Z",
     "shell.execute_reply": "2025-04-02T04:26:50.211989Z"
    },
    "papermill": {
     "duration": 0.032953,
     "end_time": "2025-04-02T04:26:50.215524",
     "exception": false,
     "start_time": "2025-04-02T04:26:50.182571",
     "status": "completed"
    },
    "tags": []
   },
   "outputs": [
    {
     "data": {
      "text/plain": [
       "True"
      ]
     },
     "execution_count": 27,
     "metadata": {},
     "output_type": "execute_result"
    }
   ],
   "source": [
    "# Check if 12 is an instance of type \"int\"\n",
    "isinstance(12,int)"
   ]
  },
  {
   "cell_type": "markdown",
   "id": "cccec46e",
   "metadata": {
    "papermill": {
     "duration": 0.022962,
     "end_time": "2025-04-02T04:26:50.261518",
     "exception": false,
     "start_time": "2025-04-02T04:26:50.238556",
     "status": "completed"
    },
    "tags": []
   },
   "source": [
    "The code output True confirms that 12 is an int"
   ]
  },
  {
   "cell_type": "code",
   "execution_count": 28,
   "id": "23506328",
   "metadata": {
    "execution": {
     "iopub.execute_input": "2025-04-02T04:26:50.308402Z",
     "iopub.status.busy": "2025-04-02T04:26:50.308039Z",
     "iopub.status.idle": "2025-04-02T04:26:50.313871Z",
     "shell.execute_reply": "2025-04-02T04:26:50.313015Z"
    },
    "papermill": {
     "duration": 0.030974,
     "end_time": "2025-04-02T04:26:50.315485",
     "exception": false,
     "start_time": "2025-04-02T04:26:50.284511",
     "status": "completed"
    },
    "tags": []
   },
   "outputs": [
    {
     "data": {
      "text/plain": [
       "0.3333333333333333"
      ]
     },
     "execution_count": 28,
     "metadata": {},
     "output_type": "execute_result"
    }
   ],
   "source": [
    "1/3"
   ]
  },
  {
   "cell_type": "code",
   "execution_count": 29,
   "id": "38889e1f",
   "metadata": {
    "execution": {
     "iopub.execute_input": "2025-04-02T04:26:50.363082Z",
     "iopub.status.busy": "2025-04-02T04:26:50.362611Z",
     "iopub.status.idle": "2025-04-02T04:26:50.368343Z",
     "shell.execute_reply": "2025-04-02T04:26:50.367272Z"
    },
    "papermill": {
     "duration": 0.031662,
     "end_time": "2025-04-02T04:26:50.370045",
     "exception": false,
     "start_time": "2025-04-02T04:26:50.338383",
     "status": "completed"
    },
    "tags": []
   },
   "outputs": [
    {
     "data": {
      "text/plain": [
       "float"
      ]
     },
     "execution_count": 29,
     "metadata": {},
     "output_type": "execute_result"
    }
   ],
   "source": [
    "type(1/3)"
   ]
  },
  {
   "cell_type": "markdown",
   "id": "fbdb3ad5",
   "metadata": {
    "papermill": {
     "duration": 0.022892,
     "end_time": "2025-04-02T04:26:50.415266",
     "exception": false,
     "start_time": "2025-04-02T04:26:50.392374",
     "status": "completed"
    },
    "tags": []
   },
   "source": [
    "Floats\n",
    "Floating point numbers or \"floats\" are numbers with decimal values. Unlike integers, floating point numbers don't have unlimited precision because irrational decimal numbers are infinitely long and therfore can't be stored in memory. Instead, the computer approximates the value of long decimals, so there can be small rounding errors in long floats."
   ]
  },
  {
   "cell_type": "code",
   "execution_count": 30,
   "id": "e6016bb6",
   "metadata": {
    "execution": {
     "iopub.execute_input": "2025-04-02T04:26:50.463129Z",
     "iopub.status.busy": "2025-04-02T04:26:50.462626Z",
     "iopub.status.idle": "2025-04-02T04:26:50.469050Z",
     "shell.execute_reply": "2025-04-02T04:26:50.467879Z"
    },
    "papermill": {
     "duration": 0.032493,
     "end_time": "2025-04-02T04:26:50.470821",
     "exception": false,
     "start_time": "2025-04-02T04:26:50.438328",
     "status": "completed"
    },
    "tags": []
   },
   "outputs": [
    {
     "data": {
      "text/plain": [
       "float"
      ]
     },
     "execution_count": 30,
     "metadata": {},
     "output_type": "execute_result"
    }
   ],
   "source": [
    "type(1.0)"
   ]
  },
  {
   "cell_type": "code",
   "execution_count": 31,
   "id": "d45cd490",
   "metadata": {
    "execution": {
     "iopub.execute_input": "2025-04-02T04:26:50.518871Z",
     "iopub.status.busy": "2025-04-02T04:26:50.518499Z",
     "iopub.status.idle": "2025-04-02T04:26:50.524523Z",
     "shell.execute_reply": "2025-04-02T04:26:50.523191Z"
    },
    "papermill": {
     "duration": 0.032248,
     "end_time": "2025-04-02T04:26:50.526425",
     "exception": false,
     "start_time": "2025-04-02T04:26:50.494177",
     "status": "completed"
    },
    "tags": []
   },
   "outputs": [
    {
     "data": {
      "text/plain": [
       "int"
      ]
     },
     "execution_count": 31,
     "metadata": {},
     "output_type": "execute_result"
    }
   ],
   "source": [
    "type(1)"
   ]
  },
  {
   "cell_type": "code",
   "execution_count": 32,
   "id": "3afeb188",
   "metadata": {
    "execution": {
     "iopub.execute_input": "2025-04-02T04:26:50.575396Z",
     "iopub.status.busy": "2025-04-02T04:26:50.575025Z",
     "iopub.status.idle": "2025-04-02T04:26:50.581394Z",
     "shell.execute_reply": "2025-04-02T04:26:50.580292Z"
    },
    "papermill": {
     "duration": 0.03405,
     "end_time": "2025-04-02T04:26:50.583371",
     "exception": false,
     "start_time": "2025-04-02T04:26:50.549321",
     "status": "completed"
    },
    "tags": []
   },
   "outputs": [
    {
     "data": {
      "text/plain": [
       "True"
      ]
     },
     "execution_count": 32,
     "metadata": {},
     "output_type": "execute_result"
    }
   ],
   "source": [
    "isinstance(0.33333,float)"
   ]
  },
  {
   "cell_type": "markdown",
   "id": "49231316",
   "metadata": {
    "papermill": {
     "duration": 0.022854,
     "end_time": "2025-04-02T04:26:50.628988",
     "exception": false,
     "start_time": "2025-04-02T04:26:50.606134",
     "status": "completed"
    },
    "tags": []
   },
   "source": [
    "If you use both floats and ints in the same math expression the result is a float:"
   ]
  },
  {
   "cell_type": "code",
   "execution_count": 33,
   "id": "87302ea6",
   "metadata": {
    "execution": {
     "iopub.execute_input": "2025-04-02T04:26:50.676494Z",
     "iopub.status.busy": "2025-04-02T04:26:50.676076Z",
     "iopub.status.idle": "2025-04-02T04:26:50.682077Z",
     "shell.execute_reply": "2025-04-02T04:26:50.680990Z"
    },
    "papermill": {
     "duration": 0.031335,
     "end_time": "2025-04-02T04:26:50.683683",
     "exception": false,
     "start_time": "2025-04-02T04:26:50.652348",
     "status": "completed"
    },
    "tags": []
   },
   "outputs": [
    {
     "data": {
      "text/plain": [
       "6.0"
      ]
     },
     "execution_count": 33,
     "metadata": {},
     "output_type": "execute_result"
    }
   ],
   "source": [
    "5+1.0"
   ]
  },
  {
   "cell_type": "markdown",
   "id": "1ba2e8fa",
   "metadata": {
    "papermill": {
     "duration": 0.022196,
     "end_time": "2025-04-02T04:26:50.729019",
     "exception": false,
     "start_time": "2025-04-02T04:26:50.706823",
     "status": "completed"
    },
    "tags": []
   },
   "source": [
    "You can convert a float to an integer using the int() function"
   ]
  },
  {
   "cell_type": "code",
   "execution_count": 34,
   "id": "eaf4a823",
   "metadata": {
    "execution": {
     "iopub.execute_input": "2025-04-02T04:26:50.775675Z",
     "iopub.status.busy": "2025-04-02T04:26:50.775278Z",
     "iopub.status.idle": "2025-04-02T04:26:50.781330Z",
     "shell.execute_reply": "2025-04-02T04:26:50.780228Z"
    },
    "papermill": {
     "duration": 0.031564,
     "end_time": "2025-04-02T04:26:50.783117",
     "exception": false,
     "start_time": "2025-04-02T04:26:50.751553",
     "status": "completed"
    },
    "tags": []
   },
   "outputs": [
    {
     "data": {
      "text/plain": [
       "6"
      ]
     },
     "execution_count": 34,
     "metadata": {},
     "output_type": "execute_result"
    }
   ],
   "source": [
    "int(6.0)"
   ]
  },
  {
   "cell_type": "markdown",
   "id": "f99446ed",
   "metadata": {
    "papermill": {
     "duration": 0.022523,
     "end_time": "2025-04-02T04:26:50.828639",
     "exception": false,
     "start_time": "2025-04-02T04:26:50.806116",
     "status": "completed"
    },
    "tags": []
   },
   "source": [
    "You can convert an integer to a float with the float() function"
   ]
  },
  {
   "cell_type": "code",
   "execution_count": 35,
   "id": "d55b3c8f",
   "metadata": {
    "execution": {
     "iopub.execute_input": "2025-04-02T04:26:50.877201Z",
     "iopub.status.busy": "2025-04-02T04:26:50.876595Z",
     "iopub.status.idle": "2025-04-02T04:26:50.883063Z",
     "shell.execute_reply": "2025-04-02T04:26:50.881848Z"
    },
    "papermill": {
     "duration": 0.032225,
     "end_time": "2025-04-02T04:26:50.884834",
     "exception": false,
     "start_time": "2025-04-02T04:26:50.852609",
     "status": "completed"
    },
    "tags": []
   },
   "outputs": [
    {
     "data": {
      "text/plain": [
       "6.0"
      ]
     },
     "execution_count": 35,
     "metadata": {},
     "output_type": "execute_result"
    }
   ],
   "source": [
    "float(6)"
   ]
  },
  {
   "cell_type": "markdown",
   "id": "36165b6a",
   "metadata": {
    "papermill": {
     "duration": 0.022807,
     "end_time": "2025-04-02T04:26:50.931430",
     "exception": false,
     "start_time": "2025-04-02T04:26:50.908623",
     "status": "completed"
    },
    "tags": []
   },
   "source": [
    "Floats can also take on a few special values: Inf, -Inf and NaN. Inf and -Inf stand for infinity and negative infinity respectively and NaN stands for \"Not a number\", which is sometimes used as a placeholder for missing or erroneous numerical values."
   ]
  },
  {
   "cell_type": "code",
   "execution_count": 36,
   "id": "7910cad5",
   "metadata": {
    "execution": {
     "iopub.execute_input": "2025-04-02T04:26:50.980056Z",
     "iopub.status.busy": "2025-04-02T04:26:50.979645Z",
     "iopub.status.idle": "2025-04-02T04:26:50.985444Z",
     "shell.execute_reply": "2025-04-02T04:26:50.984386Z"
    },
    "papermill": {
     "duration": 0.031726,
     "end_time": "2025-04-02T04:26:50.987251",
     "exception": false,
     "start_time": "2025-04-02T04:26:50.955525",
     "status": "completed"
    },
    "tags": []
   },
   "outputs": [
    {
     "data": {
      "text/plain": [
       "float"
      ]
     },
     "execution_count": 36,
     "metadata": {},
     "output_type": "execute_result"
    }
   ],
   "source": [
    "type(float(\"Inf\"))"
   ]
  },
  {
   "cell_type": "code",
   "execution_count": 37,
   "id": "9050a2fe",
   "metadata": {
    "execution": {
     "iopub.execute_input": "2025-04-02T04:26:51.035648Z",
     "iopub.status.busy": "2025-04-02T04:26:51.035278Z",
     "iopub.status.idle": "2025-04-02T04:26:51.041352Z",
     "shell.execute_reply": "2025-04-02T04:26:51.040182Z"
    },
    "papermill": {
     "duration": 0.032631,
     "end_time": "2025-04-02T04:26:51.043274",
     "exception": false,
     "start_time": "2025-04-02T04:26:51.010643",
     "status": "completed"
    },
    "tags": []
   },
   "outputs": [
    {
     "data": {
      "text/plain": [
       "float"
      ]
     },
     "execution_count": 37,
     "metadata": {},
     "output_type": "execute_result"
    }
   ],
   "source": [
    "type(float(\"NaN\"))"
   ]
  },
  {
   "cell_type": "markdown",
   "id": "397e4d30",
   "metadata": {
    "papermill": {
     "duration": 0.024566,
     "end_time": "2025-04-02T04:26:51.091593",
     "exception": false,
     "start_time": "2025-04-02T04:26:51.067027",
     "status": "completed"
    },
    "tags": []
   },
   "source": [
    "Booleans\n",
    "Booleans or \"Bools\" are true/false values that result from logical statements. True or False"
   ]
  },
  {
   "cell_type": "code",
   "execution_count": 38,
   "id": "01116f10",
   "metadata": {
    "execution": {
     "iopub.execute_input": "2025-04-02T04:26:51.143140Z",
     "iopub.status.busy": "2025-04-02T04:26:51.142690Z",
     "iopub.status.idle": "2025-04-02T04:26:51.149333Z",
     "shell.execute_reply": "2025-04-02T04:26:51.148115Z"
    },
    "papermill": {
     "duration": 0.032865,
     "end_time": "2025-04-02T04:26:51.151224",
     "exception": false,
     "start_time": "2025-04-02T04:26:51.118359",
     "status": "completed"
    },
    "tags": []
   },
   "outputs": [
    {
     "data": {
      "text/plain": [
       "bool"
      ]
     },
     "execution_count": 38,
     "metadata": {},
     "output_type": "execute_result"
    }
   ],
   "source": [
    "type(True)"
   ]
  },
  {
   "cell_type": "code",
   "execution_count": 39,
   "id": "6ab6b6a2",
   "metadata": {
    "execution": {
     "iopub.execute_input": "2025-04-02T04:26:51.202823Z",
     "iopub.status.busy": "2025-04-02T04:26:51.202436Z",
     "iopub.status.idle": "2025-04-02T04:26:51.209152Z",
     "shell.execute_reply": "2025-04-02T04:26:51.208012Z"
    },
    "papermill": {
     "duration": 0.03424,
     "end_time": "2025-04-02T04:26:51.211026",
     "exception": false,
     "start_time": "2025-04-02T04:26:51.176786",
     "status": "completed"
    },
    "tags": []
   },
   "outputs": [
    {
     "data": {
      "text/plain": [
       "True"
      ]
     },
     "execution_count": 39,
     "metadata": {},
     "output_type": "execute_result"
    }
   ],
   "source": [
    "isinstance(False,bool) #Check if False "
   ]
  },
  {
   "cell_type": "markdown",
   "id": "7b21d7da",
   "metadata": {
    "papermill": {
     "duration": 0.023405,
     "end_time": "2025-04-02T04:26:51.259176",
     "exception": false,
     "start_time": "2025-04-02T04:26:51.235771",
     "status": "completed"
    },
    "tags": []
   },
   "source": [
    "You can create boolean values with logical expressions. Python supports all of the standard logic operators you'd expect:"
   ]
  },
  {
   "cell_type": "code",
   "execution_count": 40,
   "id": "a446c91a",
   "metadata": {
    "execution": {
     "iopub.execute_input": "2025-04-02T04:26:51.309143Z",
     "iopub.status.busy": "2025-04-02T04:26:51.308698Z",
     "iopub.status.idle": "2025-04-02T04:26:51.314871Z",
     "shell.execute_reply": "2025-04-02T04:26:51.313636Z"
    },
    "papermill": {
     "duration": 0.033124,
     "end_time": "2025-04-02T04:26:51.316577",
     "exception": false,
     "start_time": "2025-04-02T04:26:51.283453",
     "status": "completed"
    },
    "tags": []
   },
   "outputs": [
    {
     "data": {
      "text/plain": [
       "True"
      ]
     },
     "execution_count": 40,
     "metadata": {},
     "output_type": "execute_result"
    }
   ],
   "source": [
    "#Use > and < for greator than and less than :\n",
    "20 > 10"
   ]
  },
  {
   "cell_type": "code",
   "execution_count": 41,
   "id": "09d1320d",
   "metadata": {
    "execution": {
     "iopub.execute_input": "2025-04-02T04:26:51.367061Z",
     "iopub.status.busy": "2025-04-02T04:26:51.366618Z",
     "iopub.status.idle": "2025-04-02T04:26:51.373025Z",
     "shell.execute_reply": "2025-04-02T04:26:51.371988Z"
    },
    "papermill": {
     "duration": 0.033581,
     "end_time": "2025-04-02T04:26:51.375020",
     "exception": false,
     "start_time": "2025-04-02T04:26:51.341439",
     "status": "completed"
    },
    "tags": []
   },
   "outputs": [
    {
     "data": {
      "text/plain": [
       "False"
      ]
     },
     "execution_count": 41,
     "metadata": {},
     "output_type": "execute_result"
    }
   ],
   "source": [
    "20 < 5"
   ]
  },
  {
   "cell_type": "code",
   "execution_count": 42,
   "id": "c9965a0d",
   "metadata": {
    "execution": {
     "iopub.execute_input": "2025-04-02T04:26:51.425657Z",
     "iopub.status.busy": "2025-04-02T04:26:51.425286Z",
     "iopub.status.idle": "2025-04-02T04:26:51.431362Z",
     "shell.execute_reply": "2025-04-02T04:26:51.430249Z"
    },
    "papermill": {
     "duration": 0.033617,
     "end_time": "2025-04-02T04:26:51.433303",
     "exception": false,
     "start_time": "2025-04-02T04:26:51.399686",
     "status": "completed"
    },
    "tags": []
   },
   "outputs": [
    {
     "data": {
      "text/plain": [
       "True"
      ]
     },
     "execution_count": 42,
     "metadata": {},
     "output_type": "execute_result"
    }
   ],
   "source": [
    "# use >= and <= for greater than or equal and less than or equal :\n",
    "20 >= 20"
   ]
  },
  {
   "cell_type": "code",
   "execution_count": 43,
   "id": "38f9a7d9",
   "metadata": {
    "execution": {
     "iopub.execute_input": "2025-04-02T04:26:51.483439Z",
     "iopub.status.busy": "2025-04-02T04:26:51.483045Z",
     "iopub.status.idle": "2025-04-02T04:26:51.489131Z",
     "shell.execute_reply": "2025-04-02T04:26:51.487876Z"
    },
    "papermill": {
     "duration": 0.033201,
     "end_time": "2025-04-02T04:26:51.490965",
     "exception": false,
     "start_time": "2025-04-02T04:26:51.457764",
     "status": "completed"
    },
    "tags": []
   },
   "outputs": [
    {
     "data": {
      "text/plain": [
       "True"
      ]
     },
     "execution_count": 43,
     "metadata": {},
     "output_type": "execute_result"
    }
   ],
   "source": [
    "#use == (two equal signs in a row) to check equality:\n",
    "10 == 10"
   ]
  },
  {
   "cell_type": "code",
   "execution_count": 44,
   "id": "edaaa7f8",
   "metadata": {
    "execution": {
     "iopub.execute_input": "2025-04-02T04:26:51.542982Z",
     "iopub.status.busy": "2025-04-02T04:26:51.542380Z",
     "iopub.status.idle": "2025-04-02T04:26:51.550292Z",
     "shell.execute_reply": "2025-04-02T04:26:51.548681Z"
    },
    "papermill": {
     "duration": 0.037187,
     "end_time": "2025-04-02T04:26:51.552454",
     "exception": false,
     "start_time": "2025-04-02T04:26:51.515267",
     "status": "completed"
    },
    "tags": []
   },
   "outputs": [
    {
     "data": {
      "text/plain": [
       "True"
      ]
     },
     "execution_count": 44,
     "metadata": {},
     "output_type": "execute_result"
    }
   ],
   "source": [
    "40 == 40.0  #Equivalent ints and floats are considered equal"
   ]
  },
  {
   "cell_type": "code",
   "execution_count": 45,
   "id": "fb60049b",
   "metadata": {
    "execution": {
     "iopub.execute_input": "2025-04-02T04:26:51.618444Z",
     "iopub.status.busy": "2025-04-02T04:26:51.618074Z",
     "iopub.status.idle": "2025-04-02T04:26:51.624342Z",
     "shell.execute_reply": "2025-04-02T04:26:51.622966Z"
    },
    "papermill": {
     "duration": 0.0417,
     "end_time": "2025-04-02T04:26:51.626480",
     "exception": false,
     "start_time": "2025-04-02T04:26:51.584780",
     "status": "completed"
    },
    "tags": []
   },
   "outputs": [
    {
     "data": {
      "text/plain": [
       "True"
      ]
     },
     "execution_count": 45,
     "metadata": {},
     "output_type": "execute_result"
    }
   ],
   "source": [
    "#Use != to check inequality. (think of != as \"not equal to\")\n",
    "1 != 2"
   ]
  },
  {
   "cell_type": "code",
   "execution_count": 46,
   "id": "186ce863",
   "metadata": {
    "execution": {
     "iopub.execute_input": "2025-04-02T04:26:51.677642Z",
     "iopub.status.busy": "2025-04-02T04:26:51.677283Z",
     "iopub.status.idle": "2025-04-02T04:26:51.682999Z",
     "shell.execute_reply": "2025-04-02T04:26:51.682007Z"
    },
    "papermill": {
     "duration": 0.033115,
     "end_time": "2025-04-02T04:26:51.684838",
     "exception": false,
     "start_time": "2025-04-02T04:26:51.651723",
     "status": "completed"
    },
    "tags": []
   },
   "outputs": [
    {
     "data": {
      "text/plain": [
       "True"
      ]
     },
     "execution_count": 46,
     "metadata": {},
     "output_type": "execute_result"
    }
   ],
   "source": [
    "# Use the keyword \"not\" for negation:\n",
    "not False"
   ]
  },
  {
   "cell_type": "code",
   "execution_count": 47,
   "id": "c0ddf03e",
   "metadata": {
    "execution": {
     "iopub.execute_input": "2025-04-02T04:26:51.761699Z",
     "iopub.status.busy": "2025-04-02T04:26:51.761130Z",
     "iopub.status.idle": "2025-04-02T04:26:51.768072Z",
     "shell.execute_reply": "2025-04-02T04:26:51.766738Z"
    },
    "papermill": {
     "duration": 0.04878,
     "end_time": "2025-04-02T04:26:51.770737",
     "exception": false,
     "start_time": "2025-04-02T04:26:51.721957",
     "status": "completed"
    },
    "tags": []
   },
   "outputs": [
    {
     "data": {
      "text/plain": [
       "False"
      ]
     },
     "execution_count": 47,
     "metadata": {},
     "output_type": "execute_result"
    }
   ],
   "source": [
    "#Use the keyword \"and\" for logical and:\n",
    "(2>1) and (10>11)"
   ]
  },
  {
   "cell_type": "code",
   "execution_count": 48,
   "id": "3dbe5f06",
   "metadata": {
    "execution": {
     "iopub.execute_input": "2025-04-02T04:26:51.848961Z",
     "iopub.status.busy": "2025-04-02T04:26:51.848575Z",
     "iopub.status.idle": "2025-04-02T04:26:51.854384Z",
     "shell.execute_reply": "2025-04-02T04:26:51.853296Z"
    },
    "papermill": {
     "duration": 0.041762,
     "end_time": "2025-04-02T04:26:51.856352",
     "exception": false,
     "start_time": "2025-04-02T04:26:51.814590",
     "status": "completed"
    },
    "tags": []
   },
   "outputs": [
    {
     "data": {
      "text/plain": [
       "True"
      ]
     },
     "execution_count": 48,
     "metadata": {},
     "output_type": "execute_result"
    }
   ],
   "source": [
    "#Use the keyword \"or\" for logical or:\n",
    "(2>1) or (10>11)"
   ]
  },
  {
   "cell_type": "code",
   "execution_count": 49,
   "id": "76cefad0",
   "metadata": {
    "execution": {
     "iopub.execute_input": "2025-04-02T04:26:51.915232Z",
     "iopub.status.busy": "2025-04-02T04:26:51.914811Z",
     "iopub.status.idle": "2025-04-02T04:26:51.921495Z",
     "shell.execute_reply": "2025-04-02T04:26:51.920420Z"
    },
    "papermill": {
     "duration": 0.040718,
     "end_time": "2025-04-02T04:26:51.923564",
     "exception": false,
     "start_time": "2025-04-02T04:26:51.882846",
     "status": "completed"
    },
    "tags": []
   },
   "outputs": [
    {
     "data": {
      "text/plain": [
       "True"
      ]
     },
     "execution_count": 49,
     "metadata": {},
     "output_type": "execute_result"
    }
   ],
   "source": [
    "2>1 or  10<8 and not True"
   ]
  },
  {
   "cell_type": "code",
   "execution_count": 50,
   "id": "51f17ef2",
   "metadata": {
    "execution": {
     "iopub.execute_input": "2025-04-02T04:26:51.980047Z",
     "iopub.status.busy": "2025-04-02T04:26:51.979609Z",
     "iopub.status.idle": "2025-04-02T04:26:51.985853Z",
     "shell.execute_reply": "2025-04-02T04:26:51.984806Z"
    },
    "papermill": {
     "duration": 0.033853,
     "end_time": "2025-04-02T04:26:51.987870",
     "exception": false,
     "start_time": "2025-04-02T04:26:51.954017",
     "status": "completed"
    },
    "tags": []
   },
   "outputs": [
    {
     "data": {
      "text/plain": [
       "False"
      ]
     },
     "execution_count": 50,
     "metadata": {},
     "output_type": "execute_result"
    }
   ],
   "source": [
    "((2>1) or (10<8)) and (not True)"
   ]
  },
  {
   "cell_type": "markdown",
   "id": "cf2a9593",
   "metadata": {
    "papermill": {
     "duration": 0.025514,
     "end_time": "2025-04-02T04:26:52.039381",
     "exception": false,
     "start_time": "2025-04-02T04:26:52.013867",
     "status": "completed"
    },
    "tags": []
   },
   "source": [
    "You can convert numbers into boolean values using the bool() function. All numbers other than 0 convert to True:"
   ]
  },
  {
   "cell_type": "code",
   "execution_count": 51,
   "id": "e86b4c7a",
   "metadata": {
    "execution": {
     "iopub.execute_input": "2025-04-02T04:26:52.090921Z",
     "iopub.status.busy": "2025-04-02T04:26:52.090453Z",
     "iopub.status.idle": "2025-04-02T04:26:52.096839Z",
     "shell.execute_reply": "2025-04-02T04:26:52.095346Z"
    },
    "papermill": {
     "duration": 0.034553,
     "end_time": "2025-04-02T04:26:52.099005",
     "exception": false,
     "start_time": "2025-04-02T04:26:52.064452",
     "status": "completed"
    },
    "tags": []
   },
   "outputs": [
    {
     "data": {
      "text/plain": [
       "True"
      ]
     },
     "execution_count": 51,
     "metadata": {},
     "output_type": "execute_result"
    }
   ],
   "source": [
    "bool(1)"
   ]
  },
  {
   "cell_type": "code",
   "execution_count": 52,
   "id": "e5ba6043",
   "metadata": {
    "execution": {
     "iopub.execute_input": "2025-04-02T04:26:52.152024Z",
     "iopub.status.busy": "2025-04-02T04:26:52.151542Z",
     "iopub.status.idle": "2025-04-02T04:26:52.157935Z",
     "shell.execute_reply": "2025-04-02T04:26:52.156673Z"
    },
    "papermill": {
     "duration": 0.035682,
     "end_time": "2025-04-02T04:26:52.159885",
     "exception": false,
     "start_time": "2025-04-02T04:26:52.124203",
     "status": "completed"
    },
    "tags": []
   },
   "outputs": [
    {
     "data": {
      "text/plain": [
       "False"
      ]
     },
     "execution_count": 52,
     "metadata": {},
     "output_type": "execute_result"
    }
   ],
   "source": [
    "bool(0)"
   ]
  },
  {
   "cell_type": "markdown",
   "id": "dfd0c219",
   "metadata": {
    "papermill": {
     "duration": 0.025614,
     "end_time": "2025-04-02T04:26:52.212980",
     "exception": false,
     "start_time": "2025-04-02T04:26:52.187366",
     "status": "completed"
    },
    "tags": []
   },
   "source": [
    "# Strings"
   ]
  },
  {
   "cell_type": "markdown",
   "id": "077a9a00",
   "metadata": {
    "papermill": {
     "duration": 0.025239,
     "end_time": "2025-04-02T04:26:52.265598",
     "exception": false,
     "start_time": "2025-04-02T04:26:52.240359",
     "status": "completed"
    },
    "tags": []
   },
   "source": [
    "Text data in Python is known as string or \"str\". Surround text with single or double quotation marks to create a string:"
   ]
  },
  {
   "cell_type": "code",
   "execution_count": 53,
   "id": "36f395e3",
   "metadata": {
    "execution": {
     "iopub.execute_input": "2025-04-02T04:26:52.318110Z",
     "iopub.status.busy": "2025-04-02T04:26:52.317692Z",
     "iopub.status.idle": "2025-04-02T04:26:52.323724Z",
     "shell.execute_reply": "2025-04-02T04:26:52.322497Z"
    },
    "papermill": {
     "duration": 0.034256,
     "end_time": "2025-04-02T04:26:52.325539",
     "exception": false,
     "start_time": "2025-04-02T04:26:52.291283",
     "status": "completed"
    },
    "tags": []
   },
   "outputs": [
    {
     "data": {
      "text/plain": [
       "str"
      ]
     },
     "execution_count": 53,
     "metadata": {},
     "output_type": "execute_result"
    }
   ],
   "source": [
    "type(\"cat\")"
   ]
  },
  {
   "cell_type": "code",
   "execution_count": 54,
   "id": "23f8ba91",
   "metadata": {
    "execution": {
     "iopub.execute_input": "2025-04-02T04:26:52.378124Z",
     "iopub.status.busy": "2025-04-02T04:26:52.377726Z",
     "iopub.status.idle": "2025-04-02T04:26:52.383475Z",
     "shell.execute_reply": "2025-04-02T04:26:52.382585Z"
    },
    "papermill": {
     "duration": 0.033372,
     "end_time": "2025-04-02T04:26:52.385254",
     "exception": false,
     "start_time": "2025-04-02T04:26:52.351882",
     "status": "completed"
    },
    "tags": []
   },
   "outputs": [
    {
     "data": {
      "text/plain": [
       "str"
      ]
     },
     "execution_count": 54,
     "metadata": {},
     "output_type": "execute_result"
    }
   ],
   "source": [
    "type('1')"
   ]
  },
  {
   "cell_type": "markdown",
   "id": "b93b467a",
   "metadata": {
    "papermill": {
     "duration": 0.024565,
     "end_time": "2025-04-02T04:26:52.435174",
     "exception": false,
     "start_time": "2025-04-02T04:26:52.410609",
     "status": "completed"
    },
    "tags": []
   },
   "source": [
    "# None\n",
    "In python, \"None\" is a special data type that is often used to represent a missing value. for example, if you define a function that doesn't return anything it will return \"None\" by default."
   ]
  },
  {
   "cell_type": "code",
   "execution_count": 55,
   "id": "08f15c61",
   "metadata": {
    "execution": {
     "iopub.execute_input": "2025-04-02T04:26:52.489332Z",
     "iopub.status.busy": "2025-04-02T04:26:52.488918Z",
     "iopub.status.idle": "2025-04-02T04:26:52.495230Z",
     "shell.execute_reply": "2025-04-02T04:26:52.494183Z"
    },
    "papermill": {
     "duration": 0.036,
     "end_time": "2025-04-02T04:26:52.497085",
     "exception": false,
     "start_time": "2025-04-02T04:26:52.461085",
     "status": "completed"
    },
    "tags": []
   },
   "outputs": [
    {
     "data": {
      "text/plain": [
       "NoneType"
      ]
     },
     "execution_count": 55,
     "metadata": {},
     "output_type": "execute_result"
    }
   ],
   "source": [
    "type(None)"
   ]
  },
  {
   "cell_type": "code",
   "execution_count": 56,
   "id": "210e6940",
   "metadata": {
    "execution": {
     "iopub.execute_input": "2025-04-02T04:26:52.550904Z",
     "iopub.status.busy": "2025-04-02T04:26:52.550464Z",
     "iopub.status.idle": "2025-04-02T04:26:52.559237Z",
     "shell.execute_reply": "2025-04-02T04:26:52.558055Z"
    },
    "papermill": {
     "duration": 0.038001,
     "end_time": "2025-04-02T04:26:52.561205",
     "exception": false,
     "start_time": "2025-04-02T04:26:52.523204",
     "status": "completed"
    },
    "tags": []
   },
   "outputs": [
    {
     "name": "stdout",
     "output_type": "stream",
     "text": [
      "hello\n"
     ]
    },
    {
     "data": {
      "text/plain": [
       "True"
      ]
     },
     "execution_count": 56,
     "metadata": {},
     "output_type": "execute_result"
    }
   ],
   "source": [
    "#Define a function that prints the input but returns nothing\n",
    "def my_function(x):\n",
    "    print(x)\n",
    "my_function(\"hello\") == None  #the output of my_function equals None\n",
    "\n"
   ]
  },
  {
   "cell_type": "code",
   "execution_count": 57,
   "id": "71cf1ae5",
   "metadata": {
    "execution": {
     "iopub.execute_input": "2025-04-02T04:26:52.618069Z",
     "iopub.status.busy": "2025-04-02T04:26:52.617653Z",
     "iopub.status.idle": "2025-04-02T04:26:52.624003Z",
     "shell.execute_reply": "2025-04-02T04:26:52.622807Z"
    },
    "papermill": {
     "duration": 0.035903,
     "end_time": "2025-04-02T04:26:52.625768",
     "exception": false,
     "start_time": "2025-04-02T04:26:52.589865",
     "status": "completed"
    },
    "tags": []
   },
   "outputs": [
    {
     "data": {
      "text/plain": [
       "False"
      ]
     },
     "execution_count": 57,
     "metadata": {},
     "output_type": "execute_result"
    }
   ],
   "source": [
    "\"hello\"==None"
   ]
  },
  {
   "cell_type": "code",
   "execution_count": 58,
   "id": "55e6965a",
   "metadata": {
    "execution": {
     "iopub.execute_input": "2025-04-02T04:26:52.678004Z",
     "iopub.status.busy": "2025-04-02T04:26:52.677587Z",
     "iopub.status.idle": "2025-04-02T04:26:52.683823Z",
     "shell.execute_reply": "2025-04-02T04:26:52.682643Z"
    },
    "papermill": {
     "duration": 0.034377,
     "end_time": "2025-04-02T04:26:52.685822",
     "exception": false,
     "start_time": "2025-04-02T04:26:52.651445",
     "status": "completed"
    },
    "tags": []
   },
   "outputs": [
    {
     "data": {
      "text/plain": [
       "False"
      ]
     },
     "execution_count": 58,
     "metadata": {},
     "output_type": "execute_result"
    }
   ],
   "source": [
    "x=\"hello\"\n",
    "x==None"
   ]
  },
  {
   "cell_type": "markdown",
   "id": "b6b6e75f",
   "metadata": {
    "papermill": {
     "duration": 0.025588,
     "end_time": "2025-04-02T04:26:52.737870",
     "exception": false,
     "start_time": "2025-04-02T04:26:52.712282",
     "status": "completed"
    },
    "tags": []
   },
   "source": [
    "#Assigning Variable "
   ]
  },
  {
   "cell_type": "code",
   "execution_count": 59,
   "id": "4568e0fc",
   "metadata": {
    "execution": {
     "iopub.execute_input": "2025-04-02T04:26:52.792012Z",
     "iopub.status.busy": "2025-04-02T04:26:52.791582Z",
     "iopub.status.idle": "2025-04-02T04:26:52.798710Z",
     "shell.execute_reply": "2025-04-02T04:26:52.797435Z"
    },
    "papermill": {
     "duration": 0.036128,
     "end_time": "2025-04-02T04:26:52.800543",
     "exception": false,
     "start_time": "2025-04-02T04:26:52.764415",
     "status": "completed"
    },
    "tags": []
   },
   "outputs": [
    {
     "name": "stdout",
     "output_type": "stream",
     "text": [
      "10\n",
      "Python is fun\n",
      "True\n"
     ]
    }
   ],
   "source": [
    "x = 10\n",
    "y = \"Python is fun\"\n",
    "z = 144**0.5 == 12\n",
    "print(x)\n",
    "print(y)\n",
    "print(z)\n"
   ]
  },
  {
   "cell_type": "markdown",
   "id": "7ec8a137",
   "metadata": {
    "papermill": {
     "duration": 0.026182,
     "end_time": "2025-04-02T04:26:52.853654",
     "exception": false,
     "start_time": "2025-04-02T04:26:52.827472",
     "status": "completed"
    },
    "tags": []
   },
   "source": [
    "Note : assigning a variable does not produce any output"
   ]
  },
  {
   "cell_type": "code",
   "execution_count": 60,
   "id": "9968fc23",
   "metadata": {
    "execution": {
     "iopub.execute_input": "2025-04-02T04:26:52.910788Z",
     "iopub.status.busy": "2025-04-02T04:26:52.910427Z",
     "iopub.status.idle": "2025-04-02T04:26:52.916433Z",
     "shell.execute_reply": "2025-04-02T04:26:52.915150Z"
    },
    "papermill": {
     "duration": 0.037902,
     "end_time": "2025-04-02T04:26:52.918406",
     "exception": false,
     "start_time": "2025-04-02T04:26:52.880504",
     "status": "completed"
    },
    "tags": []
   },
   "outputs": [
    {
     "name": "stdout",
     "output_type": "stream",
     "text": [
      "4\n",
      "4\n"
     ]
    }
   ],
   "source": [
    "n = m = 4\n",
    "print(n)\n",
    "print(m)"
   ]
  },
  {
   "cell_type": "markdown",
   "id": "38e1b30b",
   "metadata": {
    "papermill": {
     "duration": 0.026672,
     "end_time": "2025-04-02T04:26:52.971842",
     "exception": false,
     "start_time": "2025-04-02T04:26:52.945170",
     "status": "completed"
    },
    "tags": []
   },
   "source": [
    "You can also assign several different variables at the same time using a comma separated sequence of variable names followed by the assignment operator and a comma separated sequence of values inside parameters:"
   ]
  },
  {
   "cell_type": "code",
   "execution_count": 61,
   "id": "a79585f4",
   "metadata": {
    "execution": {
     "iopub.execute_input": "2025-04-02T04:26:53.025523Z",
     "iopub.status.busy": "2025-04-02T04:26:53.025177Z",
     "iopub.status.idle": "2025-04-02T04:26:53.031345Z",
     "shell.execute_reply": "2025-04-02T04:26:53.030045Z"
    },
    "papermill": {
     "duration": 0.035073,
     "end_time": "2025-04-02T04:26:53.033227",
     "exception": false,
     "start_time": "2025-04-02T04:26:52.998154",
     "status": "completed"
    },
    "tags": []
   },
   "outputs": [
    {
     "name": "stdout",
     "output_type": "stream",
     "text": [
      "10\n",
      "20\n",
      "30\n"
     ]
    }
   ],
   "source": [
    "# Assign 3 variables at the same time:\n",
    "x, y, z = (10,20,30)\n",
    "\n",
    "print(x)\n",
    "print(y)\n",
    "print(z)"
   ]
  },
  {
   "cell_type": "markdown",
   "id": "6d5e152e",
   "metadata": {
    "papermill": {
     "duration": 0.025556,
     "end_time": "2025-04-02T04:26:53.084650",
     "exception": false,
     "start_time": "2025-04-02T04:26:53.059094",
     "status": "completed"
    },
    "tags": []
   },
   "source": [
    "This method of extracting variables from a comma separated sequence is know as tuple unpacking"
   ]
  },
  {
   "cell_type": "code",
   "execution_count": 62,
   "id": "aac87a8f",
   "metadata": {
    "execution": {
     "iopub.execute_input": "2025-04-02T04:26:53.139273Z",
     "iopub.status.busy": "2025-04-02T04:26:53.138854Z",
     "iopub.status.idle": "2025-04-02T04:26:53.144702Z",
     "shell.execute_reply": "2025-04-02T04:26:53.143463Z"
    },
    "papermill": {
     "duration": 0.035693,
     "end_time": "2025-04-02T04:26:53.147005",
     "exception": false,
     "start_time": "2025-04-02T04:26:53.111312",
     "status": "completed"
    },
    "tags": []
   },
   "outputs": [
    {
     "name": "stdout",
     "output_type": "stream",
     "text": [
      "20\n",
      "10\n"
     ]
    }
   ],
   "source": [
    "#You can swap the values of two variables using a similar syntax:\n",
    "(x, y)=(y, x)\n",
    "print(x)\n",
    "print(y)"
   ]
  },
  {
   "cell_type": "markdown",
   "id": "eb67bc57",
   "metadata": {
    "papermill": {
     "duration": 0.026991,
     "end_time": "2025-04-02T04:26:53.202398",
     "exception": false,
     "start_time": "2025-04-02T04:26:53.175407",
     "status": "completed"
    },
    "tags": []
   },
   "source": [
    "When you assign a variable in Python, the variable is a reference to a specific object in the computer's memory. Reassigning a variable simply switches the reference to a different object in memory. If the object a variable refers to in memory is altered in some way, the value of the variable corresponding to the altered object will also change. All of the basic data types we've seen thus far are immutable, meaning they cannot be changed after they are created. If you perform some operation that appears to alter an immutable object, it is actually creating a totally new object in a memory, rather than changing the original immutable object."
   ]
  },
  {
   "cell_type": "code",
   "execution_count": 63,
   "id": "32766843",
   "metadata": {
    "execution": {
     "iopub.execute_input": "2025-04-02T04:26:53.258591Z",
     "iopub.status.busy": "2025-04-02T04:26:53.258190Z",
     "iopub.status.idle": "2025-04-02T04:26:53.263795Z",
     "shell.execute_reply": "2025-04-02T04:26:53.262457Z"
    },
    "papermill": {
     "duration": 0.035988,
     "end_time": "2025-04-02T04:26:53.265587",
     "exception": false,
     "start_time": "2025-04-02T04:26:53.229599",
     "status": "completed"
    },
    "tags": []
   },
   "outputs": [
    {
     "name": "stdout",
     "output_type": "stream",
     "text": [
      "Hello\n",
      "hello\n"
     ]
    }
   ],
   "source": [
    "#Consider the following example:\n",
    "x = \"Hello\"    #Create a new string\n",
    "y = x          #Assign y the same object as x\n",
    "y = y.lower()  #Assign y the result of y.lower()\n",
    "print(x)\n",
    "print(y)"
   ]
  },
  {
   "cell_type": "markdown",
   "id": "b3183804",
   "metadata": {
    "papermill": {
     "duration": 0.025638,
     "end_time": "2025-04-02T04:26:53.318187",
     "exception": false,
     "start_time": "2025-04-02T04:26:53.292549",
     "status": "completed"
    },
    "tags": []
   },
   "source": [
    "In the case above, we first assign x the value \"Hello\", a string object stored somewhere in memory.  Next we use the string method lower () to make the string assigned to y lowercase. Since strings are immutable, Python creates an entirey new string, \"hello\" and stores it somewhere in memory separate from the orginal \"Hello\" object. As a result, x and y refer to different objects in memory and produce different results when printed to the console."
   ]
  },
  {
   "cell_type": "markdown",
   "id": "920955c0",
   "metadata": {
    "papermill": {
     "duration": 0.025976,
     "end_time": "2025-04-02T04:26:53.370253",
     "exception": false,
     "start_time": "2025-04-02T04:26:53.344277",
     "status": "completed"
    },
    "tags": []
   },
   "source": [
    "By contract, lists are a mutable data structure that can hold multiple objects. If you alter a list, Python doesn't make an entirely new list in memory: it changes the actual list object itself. This can lead to seemingly inconsistent and confusing behaviour:"
   ]
  },
  {
   "cell_type": "code",
   "execution_count": 64,
   "id": "d2ebd158",
   "metadata": {
    "execution": {
     "iopub.execute_input": "2025-04-02T04:26:53.424555Z",
     "iopub.status.busy": "2025-04-02T04:26:53.424059Z",
     "iopub.status.idle": "2025-04-02T04:26:53.430162Z",
     "shell.execute_reply": "2025-04-02T04:26:53.428933Z"
    },
    "papermill": {
     "duration": 0.035032,
     "end_time": "2025-04-02T04:26:53.431812",
     "exception": false,
     "start_time": "2025-04-02T04:26:53.396780",
     "status": "completed"
    },
    "tags": []
   },
   "outputs": [
    {
     "name": "stdout",
     "output_type": "stream",
     "text": [
      "[1, 2, 3, 4]\n",
      "[1, 2, 3, 4]\n"
     ]
    }
   ],
   "source": [
    "x = [1,2,3] #Create a new list\n",
    "y = x       #Assign y the same object as x\n",
    "y.append(4) #Add 4 to the end of list y\n",
    "print(x)\n",
    "print(y)"
   ]
  },
  {
   "cell_type": "markdown",
   "id": "ef29e5c9",
   "metadata": {
    "papermill": {
     "duration": 0.025639,
     "end_time": "2025-04-02T04:26:53.483465",
     "exception": false,
     "start_time": "2025-04-02T04:26:53.457826",
     "status": "completed"
    },
    "tags": []
   },
   "source": [
    "In this case, x and y still both refer to the same original list, so both x and y have the same value, even though it may appear that the code only added the number 4 to list y."
   ]
  },
  {
   "cell_type": "markdown",
   "id": "8ca92e84",
   "metadata": {
    "papermill": {
     "duration": 0.025645,
     "end_time": "2025-04-02T04:26:53.536446",
     "exception": false,
     "start_time": "2025-04-02T04:26:53.510801",
     "status": "completed"
    },
    "tags": []
   },
   "source": [
    "**List Basics**\n",
    "A list is a mutuable, ordered collection of objects. \"Mutable\" means a list can be altered after it is created. You can, for example,add new items to a list or remove existing items. Lists are heterogeneous, meaning they can hold objects of different types."
   ]
  },
  {
   "cell_type": "code",
   "execution_count": 65,
   "id": "c6326e6a",
   "metadata": {
    "execution": {
     "iopub.execute_input": "2025-04-02T04:26:53.591491Z",
     "iopub.status.busy": "2025-04-02T04:26:53.591121Z",
     "iopub.status.idle": "2025-04-02T04:26:53.596497Z",
     "shell.execute_reply": "2025-04-02T04:26:53.595322Z"
    },
    "papermill": {
     "duration": 0.036322,
     "end_time": "2025-04-02T04:26:53.598423",
     "exception": false,
     "start_time": "2025-04-02T04:26:53.562101",
     "status": "completed"
    },
    "tags": []
   },
   "outputs": [
    {
     "name": "stdout",
     "output_type": "stream",
     "text": [
      "['Lesson', 5, 'Is Fun?', True]\n"
     ]
    }
   ],
   "source": [
    "my_list = [\"Lesson\",5,\"Is Fun?\",True]\n",
    "print(my_list)"
   ]
  },
  {
   "cell_type": "markdown",
   "id": "76c15337",
   "metadata": {
    "papermill": {
     "duration": 0.026122,
     "end_time": "2025-04-02T04:26:53.651713",
     "exception": false,
     "start_time": "2025-04-02T04:26:53.625591",
     "status": "completed"
    },
    "tags": []
   },
   "source": [
    "Alternatively, you can construct a list by passing some other iterable into the list() function. An iterable descibes an object you can look through one item at a time, such as lists, tuples, strings and other sequences."
   ]
  },
  {
   "cell_type": "code",
   "execution_count": 66,
   "id": "49459f70",
   "metadata": {
    "execution": {
     "iopub.execute_input": "2025-04-02T04:26:53.705530Z",
     "iopub.status.busy": "2025-04-02T04:26:53.705158Z",
     "iopub.status.idle": "2025-04-02T04:26:53.710153Z",
     "shell.execute_reply": "2025-04-02T04:26:53.709116Z"
    },
    "papermill": {
     "duration": 0.033913,
     "end_time": "2025-04-02T04:26:53.712057",
     "exception": false,
     "start_time": "2025-04-02T04:26:53.678144",
     "status": "completed"
    },
    "tags": []
   },
   "outputs": [
    {
     "name": "stdout",
     "output_type": "stream",
     "text": [
      "['L', 'i', 'f', 'e', ' ', 'i', 's', ' ', 'S', 't', 'u', 'd', 'y']\n"
     ]
    }
   ],
   "source": [
    "second_list = list(\"Life is Study\")   #Create a list from a string\n",
    "print(second_list)"
   ]
  },
  {
   "cell_type": "markdown",
   "id": "4d2a05b7",
   "metadata": {
    "papermill": {
     "duration": 0.025813,
     "end_time": "2025-04-02T04:26:53.764883",
     "exception": false,
     "start_time": "2025-04-02T04:26:53.739070",
     "status": "completed"
    },
    "tags": []
   },
   "source": [
    "A list with no contents is known as the empty list:"
   ]
  },
  {
   "cell_type": "code",
   "execution_count": 67,
   "id": "61bfd4d8",
   "metadata": {
    "execution": {
     "iopub.execute_input": "2025-04-02T04:26:53.818877Z",
     "iopub.status.busy": "2025-04-02T04:26:53.818449Z",
     "iopub.status.idle": "2025-04-02T04:26:53.823797Z",
     "shell.execute_reply": "2025-04-02T04:26:53.822526Z"
    },
    "papermill": {
     "duration": 0.034293,
     "end_time": "2025-04-02T04:26:53.825570",
     "exception": false,
     "start_time": "2025-04-02T04:26:53.791277",
     "status": "completed"
    },
    "tags": []
   },
   "outputs": [
    {
     "name": "stdout",
     "output_type": "stream",
     "text": [
      "[]\n"
     ]
    }
   ],
   "source": [
    "empty_list = []\n",
    "print(empty_list)"
   ]
  },
  {
   "cell_type": "markdown",
   "id": "f39f0399",
   "metadata": {
    "papermill": {
     "duration": 0.025837,
     "end_time": "2025-04-02T04:26:53.877871",
     "exception": false,
     "start_time": "2025-04-02T04:26:53.852034",
     "status": "completed"
    },
    "tags": []
   },
   "source": [
    "You can add an item to an existing list with the list.append() function:"
   ]
  },
  {
   "cell_type": "code",
   "execution_count": 68,
   "id": "a7cf9191",
   "metadata": {
    "execution": {
     "iopub.execute_input": "2025-04-02T04:26:53.933385Z",
     "iopub.status.busy": "2025-04-02T04:26:53.933028Z",
     "iopub.status.idle": "2025-04-02T04:26:53.938447Z",
     "shell.execute_reply": "2025-04-02T04:26:53.936985Z"
    },
    "papermill": {
     "duration": 0.035279,
     "end_time": "2025-04-02T04:26:53.940398",
     "exception": false,
     "start_time": "2025-04-02T04:26:53.905119",
     "status": "completed"
    },
    "tags": []
   },
   "outputs": [
    {
     "name": "stdout",
     "output_type": "stream",
     "text": [
      "[\"I'm no longer empty!\"]\n"
     ]
    }
   ],
   "source": [
    "empty_list.append(\"I'm no longer empty!\")\n",
    "print(empty_list)"
   ]
  },
  {
   "cell_type": "code",
   "execution_count": 69,
   "id": "682035cb",
   "metadata": {
    "execution": {
     "iopub.execute_input": "2025-04-02T04:26:53.995112Z",
     "iopub.status.busy": "2025-04-02T04:26:53.994635Z",
     "iopub.status.idle": "2025-04-02T04:26:54.000418Z",
     "shell.execute_reply": "2025-04-02T04:26:53.999006Z"
    },
    "papermill": {
     "duration": 0.035412,
     "end_time": "2025-04-02T04:26:54.002190",
     "exception": false,
     "start_time": "2025-04-02T04:26:53.966778",
     "status": "completed"
    },
    "tags": []
   },
   "outputs": [
    {
     "name": "stdout",
     "output_type": "stream",
     "text": [
      "[\"I'm no longer empty!\"]\n"
     ]
    }
   ],
   "source": [
    "print(empty_list)"
   ]
  },
  {
   "cell_type": "code",
   "execution_count": 70,
   "id": "825320c7",
   "metadata": {
    "execution": {
     "iopub.execute_input": "2025-04-02T04:26:54.057615Z",
     "iopub.status.busy": "2025-04-02T04:26:54.057233Z",
     "iopub.status.idle": "2025-04-02T04:26:54.061508Z",
     "shell.execute_reply": "2025-04-02T04:26:54.060324Z"
    },
    "papermill": {
     "duration": 0.033603,
     "end_time": "2025-04-02T04:26:54.063458",
     "exception": false,
     "start_time": "2025-04-02T04:26:54.029855",
     "status": "completed"
    },
    "tags": []
   },
   "outputs": [],
   "source": [
    "empty_list1=list(empty_list)"
   ]
  },
  {
   "cell_type": "code",
   "execution_count": 71,
   "id": "e5bdf4d6",
   "metadata": {
    "execution": {
     "iopub.execute_input": "2025-04-02T04:26:54.118259Z",
     "iopub.status.busy": "2025-04-02T04:26:54.117778Z",
     "iopub.status.idle": "2025-04-02T04:26:54.123330Z",
     "shell.execute_reply": "2025-04-02T04:26:54.122024Z"
    },
    "papermill": {
     "duration": 0.034412,
     "end_time": "2025-04-02T04:26:54.124884",
     "exception": false,
     "start_time": "2025-04-02T04:26:54.090472",
     "status": "completed"
    },
    "tags": []
   },
   "outputs": [
    {
     "name": "stdout",
     "output_type": "stream",
     "text": [
      "[\"I'm no longer empty!\"]\n"
     ]
    }
   ],
   "source": [
    "print(empty_list1)"
   ]
  },
  {
   "cell_type": "markdown",
   "id": "309b9275",
   "metadata": {
    "papermill": {
     "duration": 0.028758,
     "end_time": "2025-04-02T04:26:54.183589",
     "exception": false,
     "start_time": "2025-04-02T04:26:54.154831",
     "status": "completed"
    },
    "tags": []
   },
   "source": [
    "Remove a matching item from a list with list.remove()\n",
    "\n",
    "Note: Remove deletes the first matching item only."
   ]
  },
  {
   "cell_type": "code",
   "execution_count": 72,
   "id": "08c3c7c1",
   "metadata": {
    "execution": {
     "iopub.execute_input": "2025-04-02T04:26:54.244295Z",
     "iopub.status.busy": "2025-04-02T04:26:54.243786Z",
     "iopub.status.idle": "2025-04-02T04:26:54.249435Z",
     "shell.execute_reply": "2025-04-02T04:26:54.248060Z"
    },
    "papermill": {
     "duration": 0.036413,
     "end_time": "2025-04-02T04:26:54.251526",
     "exception": false,
     "start_time": "2025-04-02T04:26:54.215113",
     "status": "completed"
    },
    "tags": []
   },
   "outputs": [
    {
     "name": "stdout",
     "output_type": "stream",
     "text": [
      "['Lesson', 'Is Fun?', True]\n"
     ]
    }
   ],
   "source": [
    "my_list.remove(5)\n",
    "print(my_list)"
   ]
  },
  {
   "cell_type": "markdown",
   "id": "5082513c",
   "metadata": {
    "papermill": {
     "duration": 0.026154,
     "end_time": "2025-04-02T04:26:54.305761",
     "exception": false,
     "start_time": "2025-04-02T04:26:54.279607",
     "status": "completed"
    },
    "tags": []
   },
   "source": [
    "Join two lists together with the + operator:"
   ]
  },
  {
   "cell_type": "code",
   "execution_count": 73,
   "id": "0d339334",
   "metadata": {
    "execution": {
     "iopub.execute_input": "2025-04-02T04:26:54.361753Z",
     "iopub.status.busy": "2025-04-02T04:26:54.361362Z",
     "iopub.status.idle": "2025-04-02T04:26:54.367239Z",
     "shell.execute_reply": "2025-04-02T04:26:54.365875Z"
    },
    "papermill": {
     "duration": 0.035434,
     "end_time": "2025-04-02T04:26:54.369118",
     "exception": false,
     "start_time": "2025-04-02T04:26:54.333684",
     "status": "completed"
    },
    "tags": []
   },
   "outputs": [
    {
     "name": "stdout",
     "output_type": "stream",
     "text": [
      "['Lesson', 'Is Fun?', True, \"I'm no longer empty!\"]\n"
     ]
    }
   ],
   "source": [
    "combined_list = my_list + empty_list\n",
    "print(combined_list)\n"
   ]
  },
  {
   "cell_type": "markdown",
   "id": "0cee4cde",
   "metadata": {
    "papermill": {
     "duration": 0.027352,
     "end_time": "2025-04-02T04:26:54.424395",
     "exception": false,
     "start_time": "2025-04-02T04:26:54.397043",
     "status": "completed"
    },
    "tags": []
   },
   "source": [
    "You can also add a sequence to the end of an existing list with the list.extend() function"
   ]
  },
  {
   "cell_type": "code",
   "execution_count": 74,
   "id": "8c1aa7a5",
   "metadata": {
    "execution": {
     "iopub.execute_input": "2025-04-02T04:26:54.482810Z",
     "iopub.status.busy": "2025-04-02T04:26:54.482429Z",
     "iopub.status.idle": "2025-04-02T04:26:54.487847Z",
     "shell.execute_reply": "2025-04-02T04:26:54.486505Z"
    },
    "papermill": {
     "duration": 0.037111,
     "end_time": "2025-04-02T04:26:54.489748",
     "exception": false,
     "start_time": "2025-04-02T04:26:54.452637",
     "status": "completed"
    },
    "tags": []
   },
   "outputs": [
    {
     "name": "stdout",
     "output_type": "stream",
     "text": [
      "['Lesson', 'Is Fun?', True, \"I'm no longer empty!\"]\n"
     ]
    }
   ],
   "source": [
    "combined_list = my_list\n",
    "combined_list.extend(empty_list)\n",
    "print(combined_list)"
   ]
  },
  {
   "cell_type": "markdown",
   "id": "07401804",
   "metadata": {
    "papermill": {
     "duration": 0.026554,
     "end_time": "2025-04-02T04:26:54.544142",
     "exception": false,
     "start_time": "2025-04-02T04:26:54.517588",
     "status": "completed"
    },
    "tags": []
   },
   "source": [
    "Check the length, maximum, minimum and sum of a list with the len(), max(), min() and sum() functions, respectively."
   ]
  },
  {
   "cell_type": "code",
   "execution_count": 75,
   "id": "b23baa43",
   "metadata": {
    "execution": {
     "iopub.execute_input": "2025-04-02T04:26:54.602139Z",
     "iopub.status.busy": "2025-04-02T04:26:54.601729Z",
     "iopub.status.idle": "2025-04-02T04:26:54.608214Z",
     "shell.execute_reply": "2025-04-02T04:26:54.606860Z"
    },
    "papermill": {
     "duration": 0.038326,
     "end_time": "2025-04-02T04:26:54.609807",
     "exception": false,
     "start_time": "2025-04-02T04:26:54.571481",
     "status": "completed"
    },
    "tags": []
   },
   "outputs": [
    {
     "name": "stdout",
     "output_type": "stream",
     "text": [
      "5\n",
      "9\n",
      "1\n",
      "25\n",
      "5.0\n"
     ]
    }
   ],
   "source": [
    "num_list = [1,3,5,7,9]\n",
    "print(len(num_list))     #Check the length\n",
    "print(max(num_list))     #Check the max\n",
    "print(min(num_list))     #Check the min\n",
    "print(sum(num_list))     #Check the sum\n",
    "print(sum(num_list)/len(num_list))  #Check the mean*"
   ]
  },
  {
   "cell_type": "code",
   "execution_count": 76,
   "id": "6156b80d",
   "metadata": {
    "execution": {
     "iopub.execute_input": "2025-04-02T04:26:54.664590Z",
     "iopub.status.busy": "2025-04-02T04:26:54.664236Z",
     "iopub.status.idle": "2025-04-02T04:26:54.670273Z",
     "shell.execute_reply": "2025-04-02T04:26:54.669052Z"
    },
    "papermill": {
     "duration": 0.035555,
     "end_time": "2025-04-02T04:26:54.672211",
     "exception": false,
     "start_time": "2025-04-02T04:26:54.636656",
     "status": "completed"
    },
    "tags": []
   },
   "outputs": [
    {
     "data": {
      "text/plain": [
       "True"
      ]
     },
     "execution_count": 76,
     "metadata": {},
     "output_type": "execute_result"
    }
   ],
   "source": [
    "#You can check whether a list contains a certain object with the \"in\" keyword:\n",
    "1 in num_list"
   ]
  },
  {
   "cell_type": "code",
   "execution_count": 77,
   "id": "b7f497b3",
   "metadata": {
    "execution": {
     "iopub.execute_input": "2025-04-02T04:26:54.727038Z",
     "iopub.status.busy": "2025-04-02T04:26:54.726595Z",
     "iopub.status.idle": "2025-04-02T04:26:54.732696Z",
     "shell.execute_reply": "2025-04-02T04:26:54.731389Z"
    },
    "papermill": {
     "duration": 0.035435,
     "end_time": "2025-04-02T04:26:54.734531",
     "exception": false,
     "start_time": "2025-04-02T04:26:54.699096",
     "status": "completed"
    },
    "tags": []
   },
   "outputs": [
    {
     "data": {
      "text/plain": [
       "False"
      ]
     },
     "execution_count": 77,
     "metadata": {},
     "output_type": "execute_result"
    }
   ],
   "source": [
    "#Add the keyword \"not\" to test whether a list does not contain an object\n",
    "1 not in num_list"
   ]
  },
  {
   "cell_type": "markdown",
   "id": "50466c6c",
   "metadata": {
    "papermill": {
     "duration": 0.026426,
     "end_time": "2025-04-02T04:26:54.787785",
     "exception": false,
     "start_time": "2025-04-02T04:26:54.761359",
     "status": "completed"
    },
    "tags": []
   },
   "source": [
    "Count the occurrences of an object within a list using the list.count() function:\n"
   ]
  },
  {
   "cell_type": "code",
   "execution_count": 78,
   "id": "ab7e3800",
   "metadata": {
    "execution": {
     "iopub.execute_input": "2025-04-02T04:26:54.842569Z",
     "iopub.status.busy": "2025-04-02T04:26:54.842194Z",
     "iopub.status.idle": "2025-04-02T04:26:54.848101Z",
     "shell.execute_reply": "2025-04-02T04:26:54.847111Z"
    },
    "papermill": {
     "duration": 0.035215,
     "end_time": "2025-04-02T04:26:54.849758",
     "exception": false,
     "start_time": "2025-04-02T04:26:54.814543",
     "status": "completed"
    },
    "tags": []
   },
   "outputs": [
    {
     "data": {
      "text/plain": [
       "1"
      ]
     },
     "execution_count": 78,
     "metadata": {},
     "output_type": "execute_result"
    }
   ],
   "source": [
    "num_list.count(3)"
   ]
  },
  {
   "cell_type": "markdown",
   "id": "6b11bf07",
   "metadata": {
    "papermill": {
     "duration": 0.026228,
     "end_time": "2025-04-02T04:26:54.902690",
     "exception": false,
     "start_time": "2025-04-02T04:26:54.876462",
     "status": "completed"
    },
    "tags": []
   },
   "source": [
    "Other common list functions include list.sort() and list.reverse():\n"
   ]
  },
  {
   "cell_type": "code",
   "execution_count": 79,
   "id": "73b0aacb",
   "metadata": {
    "execution": {
     "iopub.execute_input": "2025-04-02T04:26:54.961789Z",
     "iopub.status.busy": "2025-04-02T04:26:54.961422Z",
     "iopub.status.idle": "2025-04-02T04:26:54.968133Z",
     "shell.execute_reply": "2025-04-02T04:26:54.966873Z"
    },
    "papermill": {
     "duration": 0.039243,
     "end_time": "2025-04-02T04:26:54.969831",
     "exception": false,
     "start_time": "2025-04-02T04:26:54.930588",
     "status": "completed"
    },
    "tags": []
   },
   "outputs": [
    {
     "name": "stdout",
     "output_type": "stream",
     "text": [
      "Reversed list [6, 3, 2, 4, 5, 1]\n",
      "Sorted list [1, 2, 3, 4, 5, 6]\n"
     ]
    }
   ],
   "source": [
    "new_list = [1,5,4,2,3,6]       #Make a new list\n",
    "\n",
    "new_list.reverse()             #Reverse the list\n",
    "print(\"Reversed list\", new_list)\n",
    "\n",
    "new_list.sort()                #Sort the list\n",
    "print(\"Sorted list\", new_list)"
   ]
  },
  {
   "cell_type": "markdown",
   "id": "8d811797",
   "metadata": {
    "papermill": {
     "duration": 0.027341,
     "end_time": "2025-04-02T04:26:55.025158",
     "exception": false,
     "start_time": "2025-04-02T04:26:54.997817",
     "status": "completed"
    },
    "tags": []
   },
   "source": [
    "List Indexing and Slicing\n",
    "\n",
    "Lists and other Python sequences are indexed, meaning each position in the sequence has a corresponding number called the index that you can use to look up the value at that position.\n",
    "Python sequences are zero-indexed, so the first element of a sequence is at index position zero, the second element is at index 1 and so on. Retrieve an item from a list by placing the index in square brackets after the name of the list:\n"
   ]
  },
  {
   "cell_type": "code",
   "execution_count": 80,
   "id": "9c185c64",
   "metadata": {
    "execution": {
     "iopub.execute_input": "2025-04-02T04:26:55.083847Z",
     "iopub.status.busy": "2025-04-02T04:26:55.083506Z",
     "iopub.status.idle": "2025-04-02T04:26:55.089939Z",
     "shell.execute_reply": "2025-04-02T04:26:55.088768Z"
    },
    "papermill": {
     "duration": 0.037954,
     "end_time": "2025-04-02T04:26:55.091803",
     "exception": false,
     "start_time": "2025-04-02T04:26:55.053849",
     "status": "completed"
    },
    "tags": []
   },
   "outputs": [
    {
     "name": "stdout",
     "output_type": "stream",
     "text": [
      "Hello\n",
      "bestest\n"
     ]
    }
   ],
   "source": [
    "another_list = [\"Hello\",\"my\",\"bestest\",\"old\",\"friend\"]\n",
    "print(another_list[0])\n",
    "print(another_list[2])\n",
    "\n"
   ]
  },
  {
   "cell_type": "markdown",
   "id": "b1f15ef4",
   "metadata": {
    "papermill": {
     "duration": 0.030531,
     "end_time": "2025-04-02T04:26:55.150707",
     "exception": false,
     "start_time": "2025-04-02T04:26:55.120176",
     "status": "completed"
    },
    "tags": []
   },
   "source": [
    "if you supply negative number when indexing into list, it accesses items starting from the end of the list(-1) going backward:"
   ]
  },
  {
   "cell_type": "code",
   "execution_count": 81,
   "id": "ab65ca60",
   "metadata": {
    "execution": {
     "iopub.execute_input": "2025-04-02T04:26:55.212556Z",
     "iopub.status.busy": "2025-04-02T04:26:55.212156Z",
     "iopub.status.idle": "2025-04-02T04:26:55.218159Z",
     "shell.execute_reply": "2025-04-02T04:26:55.216772Z"
    },
    "papermill": {
     "duration": 0.038595,
     "end_time": "2025-04-02T04:26:55.220399",
     "exception": false,
     "start_time": "2025-04-02T04:26:55.181804",
     "status": "completed"
    },
    "tags": []
   },
   "outputs": [
    {
     "name": "stdout",
     "output_type": "stream",
     "text": [
      "friend\n",
      "bestest\n"
     ]
    }
   ],
   "source": [
    "print(another_list[-1])\n",
    "print(another_list[-3])"
   ]
  },
  {
   "cell_type": "markdown",
   "id": "0a54131b",
   "metadata": {
    "papermill": {
     "duration": 0.027323,
     "end_time": "2025-04-02T04:26:55.275963",
     "exception": false,
     "start_time": "2025-04-02T04:26:55.248640",
     "status": "completed"
    },
    "tags": []
   },
   "source": [
    "If your list contains other indexed objects, you can supply additional indexes to get items contained within the nested objects:"
   ]
  },
  {
   "cell_type": "code",
   "execution_count": 82,
   "id": "28b3ae81",
   "metadata": {
    "execution": {
     "iopub.execute_input": "2025-04-02T04:26:55.332656Z",
     "iopub.status.busy": "2025-04-02T04:26:55.332297Z",
     "iopub.status.idle": "2025-04-02T04:26:55.337821Z",
     "shell.execute_reply": "2025-04-02T04:26:55.336791Z"
    },
    "papermill": {
     "duration": 0.035425,
     "end_time": "2025-04-02T04:26:55.339490",
     "exception": false,
     "start_time": "2025-04-02T04:26:55.304065",
     "status": "completed"
    },
    "tags": []
   },
   "outputs": [
    {
     "name": "stdout",
     "output_type": "stream",
     "text": [
      "3\n"
     ]
    }
   ],
   "source": [
    "nested_list = [[1,2,3],[4,5,6],[7,8,9]]\n",
    "print(nested_list[0][2])"
   ]
  },
  {
   "cell_type": "markdown",
   "id": "d597ac99",
   "metadata": {
    "papermill": {
     "duration": 0.028526,
     "end_time": "2025-04-02T04:26:55.395117",
     "exception": false,
     "start_time": "2025-04-02T04:26:55.366591",
     "status": "completed"
    },
    "tags": []
   },
   "source": [
    "You can take a slice (sequential subset) of a list using the syntax [start:stop:step] where start and stop are the starting and ending indexes for the slice and step controls how frequently you sample values along the slice. The default step size is 1, meaning you take all values in the range provided, starting from the first, up to but not including the last:"
   ]
  },
  {
   "cell_type": "code",
   "execution_count": 83,
   "id": "488d5e18",
   "metadata": {
    "execution": {
     "iopub.execute_input": "2025-04-02T04:26:55.455032Z",
     "iopub.status.busy": "2025-04-02T04:26:55.454618Z",
     "iopub.status.idle": "2025-04-02T04:26:55.460494Z",
     "shell.execute_reply": "2025-04-02T04:26:55.459319Z"
    },
    "papermill": {
     "duration": 0.037848,
     "end_time": "2025-04-02T04:26:55.462139",
     "exception": false,
     "start_time": "2025-04-02T04:26:55.424291",
     "status": "completed"
    },
    "tags": []
   },
   "outputs": [
    {
     "name": "stdout",
     "output_type": "stream",
     "text": [
      "['my', 'bestest']\n"
     ]
    }
   ],
   "source": [
    "my_slice = another_list[1:3]    #slice index 1 and 2\n",
    "print(my_slice)"
   ]
  },
  {
   "cell_type": "code",
   "execution_count": 84,
   "id": "f42070ce",
   "metadata": {
    "execution": {
     "iopub.execute_input": "2025-04-02T04:26:55.519713Z",
     "iopub.status.busy": "2025-04-02T04:26:55.519378Z",
     "iopub.status.idle": "2025-04-02T04:26:55.525067Z",
     "shell.execute_reply": "2025-04-02T04:26:55.523804Z"
    },
    "papermill": {
     "duration": 0.036036,
     "end_time": "2025-04-02T04:26:55.526759",
     "exception": false,
     "start_time": "2025-04-02T04:26:55.490723",
     "status": "completed"
    },
    "tags": []
   },
   "outputs": [
    {
     "name": "stdout",
     "output_type": "stream",
     "text": [
      "['Hello', 'bestest', 'friend']\n"
     ]
    }
   ],
   "source": [
    "# Slice the entire list but use step size 2 to get every other item:\n",
    "\n",
    "my_slice = another_list[0:6:2]\n",
    "print(my_slice)"
   ]
  },
  {
   "cell_type": "markdown",
   "id": "50de2432",
   "metadata": {
    "papermill": {
     "duration": 0.027013,
     "end_time": "2025-04-02T04:26:55.581299",
     "exception": false,
     "start_time": "2025-04-02T04:26:55.554286",
     "status": "completed"
    },
    "tags": []
   },
   "source": [
    "You can leave the starting or ending index blank to slice from the beginning or up to the end of the list respectively:"
   ]
  },
  {
   "cell_type": "code",
   "execution_count": 85,
   "id": "5a28dbc3",
   "metadata": {
    "execution": {
     "iopub.execute_input": "2025-04-02T04:26:55.640506Z",
     "iopub.status.busy": "2025-04-02T04:26:55.640123Z",
     "iopub.status.idle": "2025-04-02T04:26:55.645298Z",
     "shell.execute_reply": "2025-04-02T04:26:55.644028Z"
    },
    "papermill": {
     "duration": 0.03566,
     "end_time": "2025-04-02T04:26:55.647309",
     "exception": false,
     "start_time": "2025-04-02T04:26:55.611649",
     "status": "completed"
    },
    "tags": []
   },
   "outputs": [
    {
     "name": "stdout",
     "output_type": "stream",
     "text": [
      "['Hello', 'my', 'bestest', 'old']\n"
     ]
    }
   ],
   "source": [
    "slice1 = another_list[:4]    #Slice everything up to index 4\n",
    "print(slice1)"
   ]
  },
  {
   "cell_type": "code",
   "execution_count": 86,
   "id": "c36a74d0",
   "metadata": {
    "execution": {
     "iopub.execute_input": "2025-04-02T04:26:55.703686Z",
     "iopub.status.busy": "2025-04-02T04:26:55.703164Z",
     "iopub.status.idle": "2025-04-02T04:26:55.709400Z",
     "shell.execute_reply": "2025-04-02T04:26:55.708074Z"
    },
    "papermill": {
     "duration": 0.036292,
     "end_time": "2025-04-02T04:26:55.711329",
     "exception": false,
     "start_time": "2025-04-02T04:26:55.675037",
     "status": "completed"
    },
    "tags": []
   },
   "outputs": [
    {
     "name": "stdout",
     "output_type": "stream",
     "text": [
      "['old', 'friend']\n"
     ]
    }
   ],
   "source": [
    "slice2 = another_list[3:]   #Slice everything from index 3 to the end\n",
    "print(slice2)"
   ]
  },
  {
   "cell_type": "markdown",
   "id": "83a5e795",
   "metadata": {
    "papermill": {
     "duration": 0.029564,
     "end_time": "2025-04-02T04:26:55.769101",
     "exception": false,
     "start_time": "2025-04-02T04:26:55.739537",
     "status": "completed"
    },
    "tags": []
   },
   "source": [
    "If you provide a negative number as the step, the slice steps backward:"
   ]
  },
  {
   "cell_type": "code",
   "execution_count": 87,
   "id": "b2fcde25",
   "metadata": {
    "execution": {
     "iopub.execute_input": "2025-04-02T04:26:55.829566Z",
     "iopub.status.busy": "2025-04-02T04:26:55.829220Z",
     "iopub.status.idle": "2025-04-02T04:26:55.835053Z",
     "shell.execute_reply": "2025-04-02T04:26:55.833788Z"
    },
    "papermill": {
     "duration": 0.038095,
     "end_time": "2025-04-02T04:26:55.836859",
     "exception": false,
     "start_time": "2025-04-02T04:26:55.798764",
     "status": "completed"
    },
    "tags": []
   },
   "outputs": [
    {
     "name": "stdout",
     "output_type": "stream",
     "text": [
      "['friend', 'old']\n"
     ]
    }
   ],
   "source": [
    "# Take a slice starting at index 4, backward to index 2\n",
    "my_slice = another_list[4:2:-1]\n",
    "print(my_slice)"
   ]
  },
  {
   "cell_type": "markdown",
   "id": "c80222f1",
   "metadata": {
    "papermill": {
     "duration": 0.028778,
     "end_time": "2025-04-02T04:26:55.895285",
     "exception": false,
     "start_time": "2025-04-02T04:26:55.866507",
     "status": "completed"
    },
    "tags": []
   },
   "source": [
    "if you don't provide a start or ending index, you slice of the entire list:"
   ]
  },
  {
   "cell_type": "code",
   "execution_count": 88,
   "id": "1399b0a4",
   "metadata": {
    "execution": {
     "iopub.execute_input": "2025-04-02T04:26:55.953334Z",
     "iopub.status.busy": "2025-04-02T04:26:55.952942Z",
     "iopub.status.idle": "2025-04-02T04:26:55.958522Z",
     "shell.execute_reply": "2025-04-02T04:26:55.957097Z"
    },
    "papermill": {
     "duration": 0.036617,
     "end_time": "2025-04-02T04:26:55.960580",
     "exception": false,
     "start_time": "2025-04-02T04:26:55.923963",
     "status": "completed"
    },
    "tags": []
   },
   "outputs": [
    {
     "name": "stdout",
     "output_type": "stream",
     "text": [
      "['Hello', 'my', 'bestest', 'old', 'friend']\n"
     ]
    }
   ],
   "source": [
    "my_slice = another_list[:]   #This slice operation copies the list\n",
    "print(my_slice)"
   ]
  },
  {
   "cell_type": "markdown",
   "id": "ac3d7206",
   "metadata": {
    "papermill": {
     "duration": 0.027204,
     "end_time": "2025-04-02T04:26:56.015855",
     "exception": false,
     "start_time": "2025-04-02T04:26:55.988651",
     "status": "completed"
    },
    "tags": []
   },
   "source": [
    "Using a step of -1 without a starting or ending index slices the entire list in reverse, providing a shorthand to a reverse a list:"
   ]
  },
  {
   "cell_type": "code",
   "execution_count": 89,
   "id": "6f971819",
   "metadata": {
    "execution": {
     "iopub.execute_input": "2025-04-02T04:26:56.072349Z",
     "iopub.status.busy": "2025-04-02T04:26:56.071937Z",
     "iopub.status.idle": "2025-04-02T04:26:56.077750Z",
     "shell.execute_reply": "2025-04-02T04:26:56.076406Z"
    },
    "papermill": {
     "duration": 0.03674,
     "end_time": "2025-04-02T04:26:56.080261",
     "exception": false,
     "start_time": "2025-04-02T04:26:56.043521",
     "status": "completed"
    },
    "tags": []
   },
   "outputs": [
    {
     "name": "stdout",
     "output_type": "stream",
     "text": [
      "['friend', 'old', 'bestest', 'my', 'Hello']\n"
     ]
    }
   ],
   "source": [
    "my_slice = another_list[::-1]  #This slice operation reverses the list\n",
    "print(my_slice)"
   ]
  },
  {
   "cell_type": "markdown",
   "id": "f50a7f45",
   "metadata": {
    "papermill": {
     "duration": 0.029173,
     "end_time": "2025-04-02T04:26:56.139054",
     "exception": false,
     "start_time": "2025-04-02T04:26:56.109881",
     "status": "completed"
    },
    "tags": []
   },
   "source": [
    "You can use indexing to change the values within a list or delete items in a list:"
   ]
  },
  {
   "cell_type": "code",
   "execution_count": 90,
   "id": "9dc3a5ea",
   "metadata": {
    "execution": {
     "iopub.execute_input": "2025-04-02T04:26:56.200881Z",
     "iopub.status.busy": "2025-04-02T04:26:56.200517Z",
     "iopub.status.idle": "2025-04-02T04:26:56.207272Z",
     "shell.execute_reply": "2025-04-02T04:26:56.205840Z"
    },
    "papermill": {
     "duration": 0.038712,
     "end_time": "2025-04-02T04:26:56.209275",
     "exception": false,
     "start_time": "2025-04-02T04:26:56.170563",
     "status": "completed"
    },
    "tags": []
   },
   "outputs": [
    {
     "name": "stdout",
     "output_type": "stream",
     "text": [
      "['Hello', 'my', 'bestest', 'new', 'friend']\n",
      "['Hello', 'my', 'bestest', 'friend']\n"
     ]
    }
   ],
   "source": [
    "another_list[3] = \"new\"   #Set the value at index 3 to \"new\"\n",
    "print(another_list)\n",
    "del(another_list[3])      #delete the item at index 3\n",
    "print(another_list)"
   ]
  },
  {
   "cell_type": "markdown",
   "id": "72ff453f",
   "metadata": {
    "papermill": {
     "duration": 0.027278,
     "end_time": "2025-04-02T04:26:56.265819",
     "exception": false,
     "start_time": "2025-04-02T04:26:56.238541",
     "status": "completed"
    },
    "tags": []
   },
   "source": [
    "You can also remove items from a list using the list.pop() function. pop() removes the final item in a list and returns it:"
   ]
  },
  {
   "cell_type": "code",
   "execution_count": 91,
   "id": "86dfdd6f",
   "metadata": {
    "execution": {
     "iopub.execute_input": "2025-04-02T04:26:56.322920Z",
     "iopub.status.busy": "2025-04-02T04:26:56.322530Z",
     "iopub.status.idle": "2025-04-02T04:26:56.328617Z",
     "shell.execute_reply": "2025-04-02T04:26:56.327004Z"
    },
    "papermill": {
     "duration": 0.037339,
     "end_time": "2025-04-02T04:26:56.330804",
     "exception": false,
     "start_time": "2025-04-02T04:26:56.293465",
     "status": "completed"
    },
    "tags": []
   },
   "outputs": [
    {
     "name": "stdout",
     "output_type": "stream",
     "text": [
      "friend\n",
      "['Hello', 'my', 'bestest']\n"
     ]
    }
   ],
   "source": [
    "next_item = another_list.pop()\n",
    "print(next_item)\n",
    "print(another_list)"
   ]
  },
  {
   "cell_type": "code",
   "execution_count": null,
   "id": "824e198a",
   "metadata": {
    "papermill": {
     "duration": 0.028712,
     "end_time": "2025-04-02T04:26:56.388734",
     "exception": false,
     "start_time": "2025-04-02T04:26:56.360022",
     "status": "completed"
    },
    "tags": []
   },
   "outputs": [],
   "source": []
  }
 ],
 "metadata": {
  "kaggle": {
   "accelerator": "none",
   "dataSources": [],
   "dockerImageVersionId": 30918,
   "isGpuEnabled": false,
   "isInternetEnabled": false,
   "language": "python",
   "sourceType": "notebook"
  },
  "kernelspec": {
   "display_name": "Python 3",
   "language": "python",
   "name": "python3"
  },
  "language_info": {
   "codemirror_mode": {
    "name": "ipython",
    "version": 3
   },
   "file_extension": ".py",
   "mimetype": "text/x-python",
   "name": "python",
   "nbconvert_exporter": "python",
   "pygments_lexer": "ipython3",
   "version": "3.10.12"
  },
  "papermill": {
   "default_parameters": {},
   "duration": 12.571122,
   "end_time": "2025-04-02T04:26:57.039581",
   "environment_variables": {},
   "exception": null,
   "input_path": "__notebook__.ipynb",
   "output_path": "__notebook__.ipynb",
   "parameters": {},
   "start_time": "2025-04-02T04:26:44.468459",
   "version": "2.6.0"
  }
 },
 "nbformat": 4,
 "nbformat_minor": 5
}
