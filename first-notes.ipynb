{
 "cells": [
  {
   "cell_type": "code",
   "execution_count": 1,
   "id": "bedf9105",
   "metadata": {
    "_cell_guid": "b1076dfc-b9ad-4769-8c92-a6c4dae69d19",
    "_uuid": "8f2839f25d086af736a60e9eeb907d3b93b6e0e5",
    "execution": {
     "iopub.execute_input": "2025-04-05T09:49:14.097578Z",
     "iopub.status.busy": "2025-04-05T09:49:14.096802Z",
     "iopub.status.idle": "2025-04-05T09:49:15.088646Z",
     "shell.execute_reply": "2025-04-05T09:49:15.087399Z"
    },
    "papermill": {
     "duration": 1.029667,
     "end_time": "2025-04-05T09:49:15.090823",
     "exception": false,
     "start_time": "2025-04-05T09:49:14.061156",
     "status": "completed"
    },
    "tags": []
   },
   "outputs": [],
   "source": [
    "# This Python 3 environment comes with many helpful analytics libraries installed\n",
    "# It is defined by the kaggle/python Docker image: https://github.com/kaggle/docker-python\n",
    "# For example, here's several helpful packages to load\n",
    "\n",
    "import numpy as np # linear algebra\n",
    "import pandas as pd # data processing, CSV file I/O (e.g. pd.read_csv)\n",
    "\n",
    "# Input data files are available in the read-only \"../input/\" directory\n",
    "# For example, running this (by clicking run or pressing Shift+Enter) will list all files under the input directory\n",
    "\n",
    "import os\n",
    "for dirname, _, filenames in os.walk('/kaggle/input'):\n",
    "    for filename in filenames:\n",
    "        print(os.path.join(dirname, filename))\n",
    "\n",
    "# You can write up to 20GB to the current directory (/kaggle/working/) that gets preserved as output when you create a version using \"Save & Run All\" \n",
    "# You can also write temporary files to /kaggle/temp/, but they won't be saved outside of the current session"
   ]
  },
  {
   "cell_type": "code",
   "execution_count": 2,
   "id": "e50fbd8b",
   "metadata": {
    "execution": {
     "iopub.execute_input": "2025-04-05T09:49:15.153419Z",
     "iopub.status.busy": "2025-04-05T09:49:15.152782Z",
     "iopub.status.idle": "2025-04-05T09:49:15.160090Z",
     "shell.execute_reply": "2025-04-05T09:49:15.158944Z"
    },
    "papermill": {
     "duration": 0.040662,
     "end_time": "2025-04-05T09:49:15.161916",
     "exception": false,
     "start_time": "2025-04-05T09:49:15.121254",
     "status": "completed"
    },
    "tags": []
   },
   "outputs": [
    {
     "data": {
      "text/plain": [
       "15"
      ]
     },
     "execution_count": 2,
     "metadata": {},
     "output_type": "execute_result"
    }
   ],
   "source": [
    "10 + 5"
   ]
  },
  {
   "cell_type": "code",
   "execution_count": 3,
   "id": "58f4c04c",
   "metadata": {
    "execution": {
     "iopub.execute_input": "2025-04-05T09:49:15.224506Z",
     "iopub.status.busy": "2025-04-05T09:49:15.224120Z",
     "iopub.status.idle": "2025-04-05T09:49:15.230058Z",
     "shell.execute_reply": "2025-04-05T09:49:15.229033Z"
    },
    "papermill": {
     "duration": 0.038385,
     "end_time": "2025-04-05T09:49:15.231787",
     "exception": false,
     "start_time": "2025-04-05T09:49:15.193402",
     "status": "completed"
    },
    "tags": []
   },
   "outputs": [
    {
     "data": {
      "text/plain": [
       "5"
      ]
     },
     "execution_count": 3,
     "metadata": {},
     "output_type": "execute_result"
    }
   ],
   "source": [
    "10 - 5"
   ]
  },
  {
   "cell_type": "code",
   "execution_count": 4,
   "id": "4ee74e17",
   "metadata": {
    "execution": {
     "iopub.execute_input": "2025-04-05T09:49:15.294176Z",
     "iopub.status.busy": "2025-04-05T09:49:15.293815Z",
     "iopub.status.idle": "2025-04-05T09:49:15.299392Z",
     "shell.execute_reply": "2025-04-05T09:49:15.298368Z"
    },
    "papermill": {
     "duration": 0.038899,
     "end_time": "2025-04-05T09:49:15.301239",
     "exception": false,
     "start_time": "2025-04-05T09:49:15.262340",
     "status": "completed"
    },
    "tags": []
   },
   "outputs": [
    {
     "data": {
      "text/plain": [
       "50"
      ]
     },
     "execution_count": 4,
     "metadata": {},
     "output_type": "execute_result"
    }
   ],
   "source": [
    "10*5"
   ]
  },
  {
   "cell_type": "code",
   "execution_count": 5,
   "id": "19407130",
   "metadata": {
    "execution": {
     "iopub.execute_input": "2025-04-05T09:49:15.363421Z",
     "iopub.status.busy": "2025-04-05T09:49:15.363057Z",
     "iopub.status.idle": "2025-04-05T09:49:15.369210Z",
     "shell.execute_reply": "2025-04-05T09:49:15.367795Z"
    },
    "papermill": {
     "duration": 0.039301,
     "end_time": "2025-04-05T09:49:15.371026",
     "exception": false,
     "start_time": "2025-04-05T09:49:15.331725",
     "status": "completed"
    },
    "tags": []
   },
   "outputs": [
    {
     "data": {
      "text/plain": [
       "2.0"
      ]
     },
     "execution_count": 5,
     "metadata": {},
     "output_type": "execute_result"
    }
   ],
   "source": [
    "10/5"
   ]
  },
  {
   "cell_type": "code",
   "execution_count": 6,
   "id": "53b8fff0",
   "metadata": {
    "execution": {
     "iopub.execute_input": "2025-04-05T09:49:15.434330Z",
     "iopub.status.busy": "2025-04-05T09:49:15.433904Z",
     "iopub.status.idle": "2025-04-05T09:49:15.439724Z",
     "shell.execute_reply": "2025-04-05T09:49:15.438604Z"
    },
    "papermill": {
     "duration": 0.039532,
     "end_time": "2025-04-05T09:49:15.441601",
     "exception": false,
     "start_time": "2025-04-05T09:49:15.402069",
     "status": "completed"
    },
    "tags": []
   },
   "outputs": [
    {
     "data": {
      "text/plain": [
       "3.3333333333333335"
      ]
     },
     "execution_count": 6,
     "metadata": {},
     "output_type": "execute_result"
    }
   ],
   "source": [
    "10/3"
   ]
  },
  {
   "cell_type": "code",
   "execution_count": 7,
   "id": "3f4635a4",
   "metadata": {
    "execution": {
     "iopub.execute_input": "2025-04-05T09:49:15.504214Z",
     "iopub.status.busy": "2025-04-05T09:49:15.503881Z",
     "iopub.status.idle": "2025-04-05T09:49:15.509252Z",
     "shell.execute_reply": "2025-04-05T09:49:15.508360Z"
    },
    "papermill": {
     "duration": 0.038818,
     "end_time": "2025-04-05T09:49:15.510933",
     "exception": false,
     "start_time": "2025-04-05T09:49:15.472115",
     "status": "completed"
    },
    "tags": []
   },
   "outputs": [
    {
     "data": {
      "text/plain": [
       "3"
      ]
     },
     "execution_count": 7,
     "metadata": {},
     "output_type": "execute_result"
    }
   ],
   "source": [
    "10//3"
   ]
  },
  {
   "cell_type": "code",
   "execution_count": 8,
   "id": "d9c02204",
   "metadata": {
    "execution": {
     "iopub.execute_input": "2025-04-05T09:49:15.575702Z",
     "iopub.status.busy": "2025-04-05T09:49:15.575299Z",
     "iopub.status.idle": "2025-04-05T09:49:15.581322Z",
     "shell.execute_reply": "2025-04-05T09:49:15.580155Z"
    },
    "papermill": {
     "duration": 0.041366,
     "end_time": "2025-04-05T09:49:15.583248",
     "exception": false,
     "start_time": "2025-04-05T09:49:15.541882",
     "status": "completed"
    },
    "tags": []
   },
   "outputs": [
    {
     "data": {
      "text/plain": [
       "1000"
      ]
     },
     "execution_count": 8,
     "metadata": {},
     "output_type": "execute_result"
    }
   ],
   "source": [
    "10**3"
   ]
  },
  {
   "cell_type": "code",
   "execution_count": 9,
   "id": "9e4bf56a",
   "metadata": {
    "execution": {
     "iopub.execute_input": "2025-04-05T09:49:15.706248Z",
     "iopub.status.busy": "2025-04-05T09:49:15.705883Z",
     "iopub.status.idle": "2025-04-05T09:49:15.711514Z",
     "shell.execute_reply": "2025-04-05T09:49:15.710410Z"
    },
    "papermill": {
     "duration": 0.038749,
     "end_time": "2025-04-05T09:49:15.713329",
     "exception": false,
     "start_time": "2025-04-05T09:49:15.674580",
     "status": "completed"
    },
    "tags": []
   },
   "outputs": [
    {
     "data": {
      "text/plain": [
       "100"
      ]
     },
     "execution_count": 9,
     "metadata": {},
     "output_type": "execute_result"
    }
   ],
   "source": [
    "10**2"
   ]
  },
  {
   "cell_type": "code",
   "execution_count": 10,
   "id": "e12d6243",
   "metadata": {
    "execution": {
     "iopub.execute_input": "2025-04-05T09:49:15.778326Z",
     "iopub.status.busy": "2025-04-05T09:49:15.777920Z",
     "iopub.status.idle": "2025-04-05T09:49:15.783681Z",
     "shell.execute_reply": "2025-04-05T09:49:15.782602Z"
    },
    "papermill": {
     "duration": 0.040822,
     "end_time": "2025-04-05T09:49:15.785436",
     "exception": false,
     "start_time": "2025-04-05T09:49:15.744614",
     "status": "completed"
    },
    "tags": []
   },
   "outputs": [
    {
     "data": {
      "text/plain": [
       "10000"
      ]
     },
     "execution_count": 10,
     "metadata": {},
     "output_type": "execute_result"
    }
   ],
   "source": [
    "10**4"
   ]
  },
  {
   "cell_type": "code",
   "execution_count": null,
   "id": "b22f7301",
   "metadata": {
    "papermill": {
     "duration": 0.03204,
     "end_time": "2025-04-05T09:49:15.848498",
     "exception": false,
     "start_time": "2025-04-05T09:49:15.816458",
     "status": "completed"
    },
    "tags": []
   },
   "outputs": [],
   "source": []
  },
  {
   "cell_type": "markdown",
   "id": "d36a4c55",
   "metadata": {
    "papermill": {
     "duration": 0.031096,
     "end_time": "2025-04-05T09:49:15.911724",
     "exception": false,
     "start_time": "2025-04-05T09:49:15.880628",
     "status": "completed"
    },
    "tags": []
   },
   "source": [
    "Math expresssion in python follow the normal arithmetic order of expressions so * and / are executed before + and - and ** is executed before multiplication and division."
   ]
  },
  {
   "cell_type": "code",
   "execution_count": 11,
   "id": "63c0c2d8",
   "metadata": {
    "execution": {
     "iopub.execute_input": "2025-04-05T09:49:15.977940Z",
     "iopub.status.busy": "2025-04-05T09:49:15.977519Z",
     "iopub.status.idle": "2025-04-05T09:49:15.984091Z",
     "shell.execute_reply": "2025-04-05T09:49:15.982966Z"
    },
    "papermill": {
     "duration": 0.040732,
     "end_time": "2025-04-05T09:49:15.986020",
     "exception": false,
     "start_time": "2025-04-05T09:49:15.945288",
     "status": "completed"
    },
    "tags": []
   },
   "outputs": [
    {
     "data": {
      "text/plain": [
       "77"
      ]
     },
     "execution_count": 11,
     "metadata": {},
     "output_type": "execute_result"
    }
   ],
   "source": [
    "2 + 3 * 5 ** 2"
   ]
  },
  {
   "cell_type": "markdown",
   "id": "95c34cb7",
   "metadata": {
    "papermill": {
     "duration": 0.031254,
     "end_time": "2025-04-05T09:49:16.048941",
     "exception": false,
     "start_time": "2025-04-05T09:49:16.017687",
     "status": "completed"
    },
    "tags": []
   },
   "source": [
    "You can use parenthesis in your math expression to ensure that operations are carried out on the correct order. Operations within parentheses are carried out before operations that are external to the parenthesis."
   ]
  },
  {
   "cell_type": "code",
   "execution_count": 12,
   "id": "98307ce2",
   "metadata": {
    "execution": {
     "iopub.execute_input": "2025-04-05T09:49:16.113437Z",
     "iopub.status.busy": "2025-04-05T09:49:16.113045Z",
     "iopub.status.idle": "2025-04-05T09:49:16.119645Z",
     "shell.execute_reply": "2025-04-05T09:49:16.118469Z"
    },
    "papermill": {
     "duration": 0.041285,
     "end_time": "2025-04-05T09:49:16.121716",
     "exception": false,
     "start_time": "2025-04-05T09:49:16.080431",
     "status": "completed"
    },
    "tags": []
   },
   "outputs": [
    {
     "data": {
      "text/plain": [
       "625"
      ]
     },
     "execution_count": 12,
     "metadata": {},
     "output_type": "execute_result"
    }
   ],
   "source": [
    "((2 + 3) * 5 ) ** 2"
   ]
  },
  {
   "cell_type": "code",
   "execution_count": 13,
   "id": "0e8cad65",
   "metadata": {
    "execution": {
     "iopub.execute_input": "2025-04-05T09:49:16.186168Z",
     "iopub.status.busy": "2025-04-05T09:49:16.185749Z",
     "iopub.status.idle": "2025-04-05T09:49:16.191435Z",
     "shell.execute_reply": "2025-04-05T09:49:16.190577Z"
    },
    "papermill": {
     "duration": 0.039525,
     "end_time": "2025-04-05T09:49:16.193015",
     "exception": false,
     "start_time": "2025-04-05T09:49:16.153490",
     "status": "completed"
    },
    "tags": []
   },
   "outputs": [
    {
     "data": {
      "text/plain": [
       "25"
      ]
     },
     "execution_count": 13,
     "metadata": {},
     "output_type": "execute_result"
    }
   ],
   "source": [
    "100 % 75"
   ]
  },
  {
   "cell_type": "code",
   "execution_count": 14,
   "id": "6d287649",
   "metadata": {
    "execution": {
     "iopub.execute_input": "2025-04-05T09:49:16.258630Z",
     "iopub.status.busy": "2025-04-05T09:49:16.258231Z",
     "iopub.status.idle": "2025-04-05T09:49:16.262597Z",
     "shell.execute_reply": "2025-04-05T09:49:16.261577Z"
    },
    "papermill": {
     "duration": 0.039917,
     "end_time": "2025-04-05T09:49:16.264282",
     "exception": false,
     "start_time": "2025-04-05T09:49:16.224365",
     "status": "completed"
    },
    "tags": []
   },
   "outputs": [],
   "source": [
    "import math   # load the math module"
   ]
  },
  {
   "cell_type": "code",
   "execution_count": 15,
   "id": "49d68de8",
   "metadata": {
    "execution": {
     "iopub.execute_input": "2025-04-05T09:49:16.331402Z",
     "iopub.status.busy": "2025-04-05T09:49:16.330974Z",
     "iopub.status.idle": "2025-04-05T09:49:16.336781Z",
     "shell.execute_reply": "2025-04-05T09:49:16.335709Z"
    },
    "papermill": {
     "duration": 0.040594,
     "end_time": "2025-04-05T09:49:16.338361",
     "exception": false,
     "start_time": "2025-04-05T09:49:16.297767",
     "status": "completed"
    },
    "tags": []
   },
   "outputs": [
    {
     "data": {
      "text/plain": [
       "0.9999698965391098"
      ]
     },
     "execution_count": 15,
     "metadata": {},
     "output_type": "execute_result"
    }
   ],
   "source": [
    "# math.log() takes the natural logarithm of its argument:\n",
    "math.log(2.7182)"
   ]
  },
  {
   "cell_type": "code",
   "execution_count": 16,
   "id": "c7971031",
   "metadata": {
    "execution": {
     "iopub.execute_input": "2025-04-05T09:49:16.403776Z",
     "iopub.status.busy": "2025-04-05T09:49:16.403379Z",
     "iopub.status.idle": "2025-04-05T09:49:16.409145Z",
     "shell.execute_reply": "2025-04-05T09:49:16.408107Z"
    },
    "papermill": {
     "duration": 0.039899,
     "end_time": "2025-04-05T09:49:16.410828",
     "exception": false,
     "start_time": "2025-04-05T09:49:16.370929",
     "status": "completed"
    },
    "tags": []
   },
   "outputs": [
    {
     "data": {
      "text/plain": [
       "2.0"
      ]
     },
     "execution_count": 16,
     "metadata": {},
     "output_type": "execute_result"
    }
   ],
   "source": [
    "#Add a second argument to specify the log base:\n",
    "math.log(100,10)"
   ]
  },
  {
   "cell_type": "code",
   "execution_count": 17,
   "id": "0297a00a",
   "metadata": {
    "execution": {
     "iopub.execute_input": "2025-04-05T09:49:16.477071Z",
     "iopub.status.busy": "2025-04-05T09:49:16.476664Z",
     "iopub.status.idle": "2025-04-05T09:49:16.482716Z",
     "shell.execute_reply": "2025-04-05T09:49:16.481625Z"
    },
    "papermill": {
     "duration": 0.041887,
     "end_time": "2025-04-05T09:49:16.484440",
     "exception": false,
     "start_time": "2025-04-05T09:49:16.442553",
     "status": "completed"
    },
    "tags": []
   },
   "outputs": [
    {
     "data": {
      "text/plain": [
       "22026.465794806718"
      ]
     },
     "execution_count": 17,
     "metadata": {},
     "output_type": "execute_result"
    }
   ],
   "source": [
    "#math.exp() raises e to the power of its argument\n",
    "math.exp(10)"
   ]
  },
  {
   "cell_type": "code",
   "execution_count": 18,
   "id": "d13fc919",
   "metadata": {
    "execution": {
     "iopub.execute_input": "2025-04-05T09:49:16.549166Z",
     "iopub.status.busy": "2025-04-05T09:49:16.548785Z",
     "iopub.status.idle": "2025-04-05T09:49:16.554672Z",
     "shell.execute_reply": "2025-04-05T09:49:16.553672Z"
    },
    "papermill": {
     "duration": 0.040359,
     "end_time": "2025-04-05T09:49:16.556255",
     "exception": false,
     "start_time": "2025-04-05T09:49:16.515896",
     "status": "completed"
    },
    "tags": []
   },
   "outputs": [
    {
     "data": {
      "text/plain": [
       "30"
      ]
     },
     "execution_count": 18,
     "metadata": {},
     "output_type": "execute_result"
    }
   ],
   "source": [
    "#Use abs() to get the absolute value of a number. Note abs() is a base python function.\n",
    "abs(-30)"
   ]
  },
  {
   "cell_type": "code",
   "execution_count": 19,
   "id": "95942938",
   "metadata": {
    "execution": {
     "iopub.execute_input": "2025-04-05T09:49:16.621716Z",
     "iopub.status.busy": "2025-04-05T09:49:16.621315Z",
     "iopub.status.idle": "2025-04-05T09:49:16.626875Z",
     "shell.execute_reply": "2025-04-05T09:49:16.625982Z"
    },
    "papermill": {
     "duration": 0.040458,
     "end_time": "2025-04-05T09:49:16.628464",
     "exception": false,
     "start_time": "2025-04-05T09:49:16.588006",
     "status": "completed"
    },
    "tags": []
   },
   "outputs": [
    {
     "data": {
      "text/plain": [
       "3.141592653589793"
      ]
     },
     "execution_count": 19,
     "metadata": {},
     "output_type": "execute_result"
    }
   ],
   "source": [
    "math.pi #Get the constant pi"
   ]
  },
  {
   "cell_type": "markdown",
   "id": "59ae8f50",
   "metadata": {
    "papermill": {
     "duration": 0.031929,
     "end_time": "2025-04-05T09:49:16.692968",
     "exception": false,
     "start_time": "2025-04-05T09:49:16.661039",
     "status": "completed"
    },
    "tags": []
   },
   "source": [
    "Rounding Numbers\n",
    "Base python contains a round() function that lets you round numbers to the nearest whole number. You can also round up or down with math.ceil and math.floor respectively."
   ]
  },
  {
   "cell_type": "code",
   "execution_count": 20,
   "id": "6542ee4a",
   "metadata": {
    "execution": {
     "iopub.execute_input": "2025-04-05T09:49:16.760993Z",
     "iopub.status.busy": "2025-04-05T09:49:16.760566Z",
     "iopub.status.idle": "2025-04-05T09:49:16.766766Z",
     "shell.execute_reply": "2025-04-05T09:49:16.765693Z"
    },
    "papermill": {
     "duration": 0.042455,
     "end_time": "2025-04-05T09:49:16.768678",
     "exception": false,
     "start_time": "2025-04-05T09:49:16.726223",
     "status": "completed"
    },
    "tags": []
   },
   "outputs": [
    {
     "data": {
      "text/plain": [
       "233"
      ]
     },
     "execution_count": 20,
     "metadata": {},
     "output_type": "execute_result"
    }
   ],
   "source": [
    "# Use round() to round a number to the nearest whole number\n",
    "round(233.234)"
   ]
  },
  {
   "cell_type": "code",
   "execution_count": 21,
   "id": "257b736e",
   "metadata": {
    "execution": {
     "iopub.execute_input": "2025-04-05T09:49:16.839064Z",
     "iopub.status.busy": "2025-04-05T09:49:16.838704Z",
     "iopub.status.idle": "2025-04-05T09:49:16.844485Z",
     "shell.execute_reply": "2025-04-05T09:49:16.843456Z"
    },
    "papermill": {
     "duration": 0.043177,
     "end_time": "2025-04-05T09:49:16.846508",
     "exception": false,
     "start_time": "2025-04-05T09:49:16.803331",
     "status": "completed"
    },
    "tags": []
   },
   "outputs": [
    {
     "data": {
      "text/plain": [
       "234"
      ]
     },
     "execution_count": 21,
     "metadata": {},
     "output_type": "execute_result"
    }
   ],
   "source": [
    "round(233.677)"
   ]
  },
  {
   "cell_type": "code",
   "execution_count": 22,
   "id": "7b9d7159",
   "metadata": {
    "execution": {
     "iopub.execute_input": "2025-04-05T09:49:16.913591Z",
     "iopub.status.busy": "2025-04-05T09:49:16.913195Z",
     "iopub.status.idle": "2025-04-05T09:49:16.919583Z",
     "shell.execute_reply": "2025-04-05T09:49:16.918087Z"
    },
    "papermill": {
     "duration": 0.041354,
     "end_time": "2025-04-05T09:49:16.921466",
     "exception": false,
     "start_time": "2025-04-05T09:49:16.880112",
     "status": "completed"
    },
    "tags": []
   },
   "outputs": [
    {
     "data": {
      "text/plain": [
       "233.2"
      ]
     },
     "execution_count": 22,
     "metadata": {},
     "output_type": "execute_result"
    }
   ],
   "source": [
    "# add a second arguement to round to a specified decimal place\n",
    "round(233.234,1)"
   ]
  },
  {
   "cell_type": "code",
   "execution_count": 23,
   "id": "8b7aafd4",
   "metadata": {
    "execution": {
     "iopub.execute_input": "2025-04-05T09:49:16.988278Z",
     "iopub.status.busy": "2025-04-05T09:49:16.987900Z",
     "iopub.status.idle": "2025-04-05T09:49:16.994022Z",
     "shell.execute_reply": "2025-04-05T09:49:16.992877Z"
    },
    "papermill": {
     "duration": 0.042139,
     "end_time": "2025-04-05T09:49:16.995814",
     "exception": false,
     "start_time": "2025-04-05T09:49:16.953675",
     "status": "completed"
    },
    "tags": []
   },
   "outputs": [
    {
     "data": {
      "text/plain": [
       "230.0"
      ]
     },
     "execution_count": 23,
     "metadata": {},
     "output_type": "execute_result"
    }
   ],
   "source": [
    "# Enter a negative number to round to the left of the decimal\n",
    "round(233.234,-1)  #round to the 10's place\n"
   ]
  },
  {
   "cell_type": "code",
   "execution_count": 24,
   "id": "52b8b759",
   "metadata": {
    "execution": {
     "iopub.execute_input": "2025-04-05T09:49:17.062200Z",
     "iopub.status.busy": "2025-04-05T09:49:17.061825Z",
     "iopub.status.idle": "2025-04-05T09:49:17.068408Z",
     "shell.execute_reply": "2025-04-05T09:49:17.067204Z"
    },
    "papermill": {
     "duration": 0.042305,
     "end_time": "2025-04-05T09:49:17.070465",
     "exception": false,
     "start_time": "2025-04-05T09:49:17.028160",
     "status": "completed"
    },
    "tags": []
   },
   "outputs": [
    {
     "data": {
      "text/plain": [
       "2"
      ]
     },
     "execution_count": 24,
     "metadata": {},
     "output_type": "execute_result"
    }
   ],
   "source": [
    "# Round down the nearest whole number with math.floor()\n",
    "import math\n",
    "math.floor(2.8)"
   ]
  },
  {
   "cell_type": "code",
   "execution_count": 25,
   "id": "132ae1c2",
   "metadata": {
    "execution": {
     "iopub.execute_input": "2025-04-05T09:49:17.137667Z",
     "iopub.status.busy": "2025-04-05T09:49:17.137244Z",
     "iopub.status.idle": "2025-04-05T09:49:17.143368Z",
     "shell.execute_reply": "2025-04-05T09:49:17.142236Z"
    },
    "papermill": {
     "duration": 0.041364,
     "end_time": "2025-04-05T09:49:17.145182",
     "exception": false,
     "start_time": "2025-04-05T09:49:17.103818",
     "status": "completed"
    },
    "tags": []
   },
   "outputs": [
    {
     "data": {
      "text/plain": [
       "3"
      ]
     },
     "execution_count": 25,
     "metadata": {},
     "output_type": "execute_result"
    }
   ],
   "source": [
    "#Round up with math.ceil()\n",
    "math.ceil(2.2)"
   ]
  },
  {
   "cell_type": "markdown",
   "id": "496067e4",
   "metadata": {
    "papermill": {
     "duration": 0.033439,
     "end_time": "2025-04-05T09:49:17.212000",
     "exception": false,
     "start_time": "2025-04-05T09:49:17.178561",
     "status": "completed"
    },
    "tags": []
   },
   "source": [
    "Integers\n",
    "Integers or \"ints\" for short, are whole-numbered numeric values. Any positive or negative number (or 0) without a decimal is an integer in Python. Integer values have unlimited precision, meaning an integer is exact. You can check the type of a Python object with the type() function."
   ]
  },
  {
   "cell_type": "code",
   "execution_count": 26,
   "id": "6f1e8084",
   "metadata": {
    "execution": {
     "iopub.execute_input": "2025-04-05T09:49:17.281454Z",
     "iopub.status.busy": "2025-04-05T09:49:17.281091Z",
     "iopub.status.idle": "2025-04-05T09:49:17.287043Z",
     "shell.execute_reply": "2025-04-05T09:49:17.286082Z"
    },
    "papermill": {
     "duration": 0.043498,
     "end_time": "2025-04-05T09:49:17.288987",
     "exception": false,
     "start_time": "2025-04-05T09:49:17.245489",
     "status": "completed"
    },
    "tags": []
   },
   "outputs": [
    {
     "data": {
      "text/plain": [
       "int"
      ]
     },
     "execution_count": 26,
     "metadata": {},
     "output_type": "execute_result"
    }
   ],
   "source": [
    "type(12)"
   ]
  },
  {
   "cell_type": "markdown",
   "id": "b016d5b5",
   "metadata": {
    "papermill": {
     "duration": 0.033978,
     "end_time": "2025-04-05T09:49:17.356214",
     "exception": false,
     "start_time": "2025-04-05T09:49:17.322236",
     "status": "completed"
    },
    "tags": []
   },
   "source": [
    "Above we see that the type of 12 is of type \"int\". You can also use function isinstance() to check whether an object is an object is an instance of a given type:"
   ]
  },
  {
   "cell_type": "code",
   "execution_count": 27,
   "id": "203fc2f0",
   "metadata": {
    "execution": {
     "iopub.execute_input": "2025-04-05T09:49:17.424289Z",
     "iopub.status.busy": "2025-04-05T09:49:17.423863Z",
     "iopub.status.idle": "2025-04-05T09:49:17.429626Z",
     "shell.execute_reply": "2025-04-05T09:49:17.428586Z"
    },
    "papermill": {
     "duration": 0.041443,
     "end_time": "2025-04-05T09:49:17.431210",
     "exception": false,
     "start_time": "2025-04-05T09:49:17.389767",
     "status": "completed"
    },
    "tags": []
   },
   "outputs": [
    {
     "data": {
      "text/plain": [
       "True"
      ]
     },
     "execution_count": 27,
     "metadata": {},
     "output_type": "execute_result"
    }
   ],
   "source": [
    "# Check if 12 is an instance of type \"int\"\n",
    "isinstance(12,int)"
   ]
  },
  {
   "cell_type": "markdown",
   "id": "e0f913a3",
   "metadata": {
    "papermill": {
     "duration": 0.032731,
     "end_time": "2025-04-05T09:49:17.496500",
     "exception": false,
     "start_time": "2025-04-05T09:49:17.463769",
     "status": "completed"
    },
    "tags": []
   },
   "source": [
    "The code output True confirms that 12 is an int"
   ]
  },
  {
   "cell_type": "code",
   "execution_count": 28,
   "id": "923136a7",
   "metadata": {
    "execution": {
     "iopub.execute_input": "2025-04-05T09:49:17.565930Z",
     "iopub.status.busy": "2025-04-05T09:49:17.565496Z",
     "iopub.status.idle": "2025-04-05T09:49:17.571192Z",
     "shell.execute_reply": "2025-04-05T09:49:17.570162Z"
    },
    "papermill": {
     "duration": 0.041843,
     "end_time": "2025-04-05T09:49:17.572926",
     "exception": false,
     "start_time": "2025-04-05T09:49:17.531083",
     "status": "completed"
    },
    "tags": []
   },
   "outputs": [
    {
     "data": {
      "text/plain": [
       "0.3333333333333333"
      ]
     },
     "execution_count": 28,
     "metadata": {},
     "output_type": "execute_result"
    }
   ],
   "source": [
    "1/3"
   ]
  },
  {
   "cell_type": "code",
   "execution_count": 29,
   "id": "7dd47c3d",
   "metadata": {
    "execution": {
     "iopub.execute_input": "2025-04-05T09:49:17.639683Z",
     "iopub.status.busy": "2025-04-05T09:49:17.639255Z",
     "iopub.status.idle": "2025-04-05T09:49:17.645055Z",
     "shell.execute_reply": "2025-04-05T09:49:17.643929Z"
    },
    "papermill": {
     "duration": 0.041279,
     "end_time": "2025-04-05T09:49:17.647050",
     "exception": false,
     "start_time": "2025-04-05T09:49:17.605771",
     "status": "completed"
    },
    "tags": []
   },
   "outputs": [
    {
     "data": {
      "text/plain": [
       "float"
      ]
     },
     "execution_count": 29,
     "metadata": {},
     "output_type": "execute_result"
    }
   ],
   "source": [
    "type(1/3)"
   ]
  },
  {
   "cell_type": "markdown",
   "id": "616e8a53",
   "metadata": {
    "papermill": {
     "duration": 0.032815,
     "end_time": "2025-04-05T09:49:17.712727",
     "exception": false,
     "start_time": "2025-04-05T09:49:17.679912",
     "status": "completed"
    },
    "tags": []
   },
   "source": [
    "Floats\n",
    "Floating point numbers or \"floats\" are numbers with decimal values. Unlike integers, floating point numbers don't have unlimited precision because irrational decimal numbers are infinitely long and therfore can't be stored in memory. Instead, the computer approximates the value of long decimals, so there can be small rounding errors in long floats."
   ]
  },
  {
   "cell_type": "code",
   "execution_count": 30,
   "id": "f1f4a472",
   "metadata": {
    "execution": {
     "iopub.execute_input": "2025-04-05T09:49:17.783367Z",
     "iopub.status.busy": "2025-04-05T09:49:17.782945Z",
     "iopub.status.idle": "2025-04-05T09:49:17.789155Z",
     "shell.execute_reply": "2025-04-05T09:49:17.787988Z"
    },
    "papermill": {
     "duration": 0.042939,
     "end_time": "2025-04-05T09:49:17.791392",
     "exception": false,
     "start_time": "2025-04-05T09:49:17.748453",
     "status": "completed"
    },
    "tags": []
   },
   "outputs": [
    {
     "data": {
      "text/plain": [
       "float"
      ]
     },
     "execution_count": 30,
     "metadata": {},
     "output_type": "execute_result"
    }
   ],
   "source": [
    "type(1.0)"
   ]
  },
  {
   "cell_type": "code",
   "execution_count": 31,
   "id": "4ed55612",
   "metadata": {
    "execution": {
     "iopub.execute_input": "2025-04-05T09:49:17.860268Z",
     "iopub.status.busy": "2025-04-05T09:49:17.859873Z",
     "iopub.status.idle": "2025-04-05T09:49:17.865854Z",
     "shell.execute_reply": "2025-04-05T09:49:17.864805Z"
    },
    "papermill": {
     "duration": 0.04252,
     "end_time": "2025-04-05T09:49:17.867632",
     "exception": false,
     "start_time": "2025-04-05T09:49:17.825112",
     "status": "completed"
    },
    "tags": []
   },
   "outputs": [
    {
     "data": {
      "text/plain": [
       "int"
      ]
     },
     "execution_count": 31,
     "metadata": {},
     "output_type": "execute_result"
    }
   ],
   "source": [
    "type(1)"
   ]
  },
  {
   "cell_type": "code",
   "execution_count": 32,
   "id": "06b346e7",
   "metadata": {
    "execution": {
     "iopub.execute_input": "2025-04-05T09:49:17.958506Z",
     "iopub.status.busy": "2025-04-05T09:49:17.958127Z",
     "iopub.status.idle": "2025-04-05T09:49:17.964041Z",
     "shell.execute_reply": "2025-04-05T09:49:17.962967Z"
    },
    "papermill": {
     "duration": 0.057746,
     "end_time": "2025-04-05T09:49:17.965982",
     "exception": false,
     "start_time": "2025-04-05T09:49:17.908236",
     "status": "completed"
    },
    "tags": []
   },
   "outputs": [
    {
     "data": {
      "text/plain": [
       "True"
      ]
     },
     "execution_count": 32,
     "metadata": {},
     "output_type": "execute_result"
    }
   ],
   "source": [
    "isinstance(0.33333,float)"
   ]
  },
  {
   "cell_type": "markdown",
   "id": "7efa4c07",
   "metadata": {
    "papermill": {
     "duration": 0.04126,
     "end_time": "2025-04-05T09:49:18.040185",
     "exception": false,
     "start_time": "2025-04-05T09:49:17.998925",
     "status": "completed"
    },
    "tags": []
   },
   "source": [
    "If you use both floats and ints in the same math expression the result is a float:"
   ]
  },
  {
   "cell_type": "code",
   "execution_count": 33,
   "id": "aa943d83",
   "metadata": {
    "execution": {
     "iopub.execute_input": "2025-04-05T09:49:18.140373Z",
     "iopub.status.busy": "2025-04-05T09:49:18.140030Z",
     "iopub.status.idle": "2025-04-05T09:49:18.148966Z",
     "shell.execute_reply": "2025-04-05T09:49:18.147698Z"
    },
    "papermill": {
     "duration": 0.063923,
     "end_time": "2025-04-05T09:49:18.151385",
     "exception": false,
     "start_time": "2025-04-05T09:49:18.087462",
     "status": "completed"
    },
    "tags": []
   },
   "outputs": [
    {
     "data": {
      "text/plain": [
       "6.0"
      ]
     },
     "execution_count": 33,
     "metadata": {},
     "output_type": "execute_result"
    }
   ],
   "source": [
    "5+1.0"
   ]
  },
  {
   "cell_type": "markdown",
   "id": "2a28e0f7",
   "metadata": {
    "papermill": {
     "duration": 0.034107,
     "end_time": "2025-04-05T09:49:18.232657",
     "exception": false,
     "start_time": "2025-04-05T09:49:18.198550",
     "status": "completed"
    },
    "tags": []
   },
   "source": [
    "You can convert a float to an integer using the int() function"
   ]
  },
  {
   "cell_type": "code",
   "execution_count": 34,
   "id": "db9db995",
   "metadata": {
    "execution": {
     "iopub.execute_input": "2025-04-05T09:49:18.300522Z",
     "iopub.status.busy": "2025-04-05T09:49:18.300124Z",
     "iopub.status.idle": "2025-04-05T09:49:18.306054Z",
     "shell.execute_reply": "2025-04-05T09:49:18.304960Z"
    },
    "papermill": {
     "duration": 0.042388,
     "end_time": "2025-04-05T09:49:18.307764",
     "exception": false,
     "start_time": "2025-04-05T09:49:18.265376",
     "status": "completed"
    },
    "tags": []
   },
   "outputs": [
    {
     "data": {
      "text/plain": [
       "6"
      ]
     },
     "execution_count": 34,
     "metadata": {},
     "output_type": "execute_result"
    }
   ],
   "source": [
    "int(6.0)"
   ]
  },
  {
   "cell_type": "markdown",
   "id": "4aec957f",
   "metadata": {
    "papermill": {
     "duration": 0.032818,
     "end_time": "2025-04-05T09:49:18.373967",
     "exception": false,
     "start_time": "2025-04-05T09:49:18.341149",
     "status": "completed"
    },
    "tags": []
   },
   "source": [
    "You can convert an integer to a float with the float() function"
   ]
  },
  {
   "cell_type": "code",
   "execution_count": 35,
   "id": "5d81626f",
   "metadata": {
    "execution": {
     "iopub.execute_input": "2025-04-05T09:49:18.441191Z",
     "iopub.status.busy": "2025-04-05T09:49:18.440825Z",
     "iopub.status.idle": "2025-04-05T09:49:18.446981Z",
     "shell.execute_reply": "2025-04-05T09:49:18.445855Z"
    },
    "papermill": {
     "duration": 0.041543,
     "end_time": "2025-04-05T09:49:18.448709",
     "exception": false,
     "start_time": "2025-04-05T09:49:18.407166",
     "status": "completed"
    },
    "tags": []
   },
   "outputs": [
    {
     "data": {
      "text/plain": [
       "6.0"
      ]
     },
     "execution_count": 35,
     "metadata": {},
     "output_type": "execute_result"
    }
   ],
   "source": [
    "float(6)"
   ]
  },
  {
   "cell_type": "markdown",
   "id": "5eed38c6",
   "metadata": {
    "papermill": {
     "duration": 0.032596,
     "end_time": "2025-04-05T09:49:18.517084",
     "exception": false,
     "start_time": "2025-04-05T09:49:18.484488",
     "status": "completed"
    },
    "tags": []
   },
   "source": [
    "Floats can also take on a few special values: Inf, -Inf and NaN. Inf and -Inf stand for infinity and negative infinity respectively and NaN stands for \"Not a number\", which is sometimes used as a placeholder for missing or erroneous numerical values."
   ]
  },
  {
   "cell_type": "code",
   "execution_count": 36,
   "id": "b6c17db8",
   "metadata": {
    "execution": {
     "iopub.execute_input": "2025-04-05T09:49:18.585549Z",
     "iopub.status.busy": "2025-04-05T09:49:18.585157Z",
     "iopub.status.idle": "2025-04-05T09:49:18.590926Z",
     "shell.execute_reply": "2025-04-05T09:49:18.589929Z"
    },
    "papermill": {
     "duration": 0.042551,
     "end_time": "2025-04-05T09:49:18.592705",
     "exception": false,
     "start_time": "2025-04-05T09:49:18.550154",
     "status": "completed"
    },
    "tags": []
   },
   "outputs": [
    {
     "data": {
      "text/plain": [
       "float"
      ]
     },
     "execution_count": 36,
     "metadata": {},
     "output_type": "execute_result"
    }
   ],
   "source": [
    "type(float(\"Inf\"))"
   ]
  },
  {
   "cell_type": "code",
   "execution_count": 37,
   "id": "719b7223",
   "metadata": {
    "execution": {
     "iopub.execute_input": "2025-04-05T09:49:18.660745Z",
     "iopub.status.busy": "2025-04-05T09:49:18.660353Z",
     "iopub.status.idle": "2025-04-05T09:49:18.666031Z",
     "shell.execute_reply": "2025-04-05T09:49:18.665178Z"
    },
    "papermill": {
     "duration": 0.041477,
     "end_time": "2025-04-05T09:49:18.667785",
     "exception": false,
     "start_time": "2025-04-05T09:49:18.626308",
     "status": "completed"
    },
    "tags": []
   },
   "outputs": [
    {
     "data": {
      "text/plain": [
       "float"
      ]
     },
     "execution_count": 37,
     "metadata": {},
     "output_type": "execute_result"
    }
   ],
   "source": [
    "type(float(\"NaN\"))"
   ]
  },
  {
   "cell_type": "markdown",
   "id": "61e4de79",
   "metadata": {
    "papermill": {
     "duration": 0.034454,
     "end_time": "2025-04-05T09:49:18.736360",
     "exception": false,
     "start_time": "2025-04-05T09:49:18.701906",
     "status": "completed"
    },
    "tags": []
   },
   "source": [
    "Booleans\n",
    "Booleans or \"Bools\" are true/false values that result from logical statements. True or False"
   ]
  },
  {
   "cell_type": "code",
   "execution_count": 38,
   "id": "a1dc6bb2",
   "metadata": {
    "execution": {
     "iopub.execute_input": "2025-04-05T09:49:18.807068Z",
     "iopub.status.busy": "2025-04-05T09:49:18.806722Z",
     "iopub.status.idle": "2025-04-05T09:49:18.812979Z",
     "shell.execute_reply": "2025-04-05T09:49:18.811648Z"
    },
    "papermill": {
     "duration": 0.043851,
     "end_time": "2025-04-05T09:49:18.814753",
     "exception": false,
     "start_time": "2025-04-05T09:49:18.770902",
     "status": "completed"
    },
    "tags": []
   },
   "outputs": [
    {
     "data": {
      "text/plain": [
       "bool"
      ]
     },
     "execution_count": 38,
     "metadata": {},
     "output_type": "execute_result"
    }
   ],
   "source": [
    "type(True)"
   ]
  },
  {
   "cell_type": "code",
   "execution_count": 39,
   "id": "166fae35",
   "metadata": {
    "execution": {
     "iopub.execute_input": "2025-04-05T09:49:18.882949Z",
     "iopub.status.busy": "2025-04-05T09:49:18.882610Z",
     "iopub.status.idle": "2025-04-05T09:49:18.888656Z",
     "shell.execute_reply": "2025-04-05T09:49:18.887459Z"
    },
    "papermill": {
     "duration": 0.041963,
     "end_time": "2025-04-05T09:49:18.890329",
     "exception": false,
     "start_time": "2025-04-05T09:49:18.848366",
     "status": "completed"
    },
    "tags": []
   },
   "outputs": [
    {
     "data": {
      "text/plain": [
       "True"
      ]
     },
     "execution_count": 39,
     "metadata": {},
     "output_type": "execute_result"
    }
   ],
   "source": [
    "isinstance(False,bool) #Check if False "
   ]
  },
  {
   "cell_type": "markdown",
   "id": "f4ab9e5e",
   "metadata": {
    "papermill": {
     "duration": 0.034898,
     "end_time": "2025-04-05T09:49:18.960214",
     "exception": false,
     "start_time": "2025-04-05T09:49:18.925316",
     "status": "completed"
    },
    "tags": []
   },
   "source": [
    "You can create boolean values with logical expressions. Python supports all of the standard logic operators you'd expect:"
   ]
  },
  {
   "cell_type": "code",
   "execution_count": 40,
   "id": "c62c4f4e",
   "metadata": {
    "execution": {
     "iopub.execute_input": "2025-04-05T09:49:19.029489Z",
     "iopub.status.busy": "2025-04-05T09:49:19.029146Z",
     "iopub.status.idle": "2025-04-05T09:49:19.034498Z",
     "shell.execute_reply": "2025-04-05T09:49:19.033632Z"
    },
    "papermill": {
     "duration": 0.042192,
     "end_time": "2025-04-05T09:49:19.036379",
     "exception": false,
     "start_time": "2025-04-05T09:49:18.994187",
     "status": "completed"
    },
    "tags": []
   },
   "outputs": [
    {
     "data": {
      "text/plain": [
       "True"
      ]
     },
     "execution_count": 40,
     "metadata": {},
     "output_type": "execute_result"
    }
   ],
   "source": [
    "#Use > and < for greator than and less than :\n",
    "20 > 10"
   ]
  },
  {
   "cell_type": "code",
   "execution_count": 41,
   "id": "37f97fdd",
   "metadata": {
    "execution": {
     "iopub.execute_input": "2025-04-05T09:49:19.109101Z",
     "iopub.status.busy": "2025-04-05T09:49:19.108754Z",
     "iopub.status.idle": "2025-04-05T09:49:19.114916Z",
     "shell.execute_reply": "2025-04-05T09:49:19.113788Z"
    },
    "papermill": {
     "duration": 0.045768,
     "end_time": "2025-04-05T09:49:19.116817",
     "exception": false,
     "start_time": "2025-04-05T09:49:19.071049",
     "status": "completed"
    },
    "tags": []
   },
   "outputs": [
    {
     "data": {
      "text/plain": [
       "False"
      ]
     },
     "execution_count": 41,
     "metadata": {},
     "output_type": "execute_result"
    }
   ],
   "source": [
    "20 < 5"
   ]
  },
  {
   "cell_type": "code",
   "execution_count": 42,
   "id": "8df334b2",
   "metadata": {
    "execution": {
     "iopub.execute_input": "2025-04-05T09:49:19.188053Z",
     "iopub.status.busy": "2025-04-05T09:49:19.187645Z",
     "iopub.status.idle": "2025-04-05T09:49:19.193298Z",
     "shell.execute_reply": "2025-04-05T09:49:19.192246Z"
    },
    "papermill": {
     "duration": 0.042139,
     "end_time": "2025-04-05T09:49:19.195097",
     "exception": false,
     "start_time": "2025-04-05T09:49:19.152958",
     "status": "completed"
    },
    "tags": []
   },
   "outputs": [
    {
     "data": {
      "text/plain": [
       "True"
      ]
     },
     "execution_count": 42,
     "metadata": {},
     "output_type": "execute_result"
    }
   ],
   "source": [
    "# use >= and <= for greater than or equal and less than or equal :\n",
    "20 >= 20"
   ]
  },
  {
   "cell_type": "code",
   "execution_count": 43,
   "id": "62ceb431",
   "metadata": {
    "execution": {
     "iopub.execute_input": "2025-04-05T09:49:19.268049Z",
     "iopub.status.busy": "2025-04-05T09:49:19.267620Z",
     "iopub.status.idle": "2025-04-05T09:49:19.273284Z",
     "shell.execute_reply": "2025-04-05T09:49:19.272208Z"
    },
    "papermill": {
     "duration": 0.044426,
     "end_time": "2025-04-05T09:49:19.275300",
     "exception": false,
     "start_time": "2025-04-05T09:49:19.230874",
     "status": "completed"
    },
    "tags": []
   },
   "outputs": [
    {
     "data": {
      "text/plain": [
       "True"
      ]
     },
     "execution_count": 43,
     "metadata": {},
     "output_type": "execute_result"
    }
   ],
   "source": [
    "#use == (two equal signs in a row) to check equality:\n",
    "10 == 10"
   ]
  },
  {
   "cell_type": "code",
   "execution_count": 44,
   "id": "0b954c35",
   "metadata": {
    "execution": {
     "iopub.execute_input": "2025-04-05T09:49:19.346788Z",
     "iopub.status.busy": "2025-04-05T09:49:19.346401Z",
     "iopub.status.idle": "2025-04-05T09:49:19.352207Z",
     "shell.execute_reply": "2025-04-05T09:49:19.351247Z"
    },
    "papermill": {
     "duration": 0.043199,
     "end_time": "2025-04-05T09:49:19.353893",
     "exception": false,
     "start_time": "2025-04-05T09:49:19.310694",
     "status": "completed"
    },
    "tags": []
   },
   "outputs": [
    {
     "data": {
      "text/plain": [
       "True"
      ]
     },
     "execution_count": 44,
     "metadata": {},
     "output_type": "execute_result"
    }
   ],
   "source": [
    "40 == 40.0  #Equivalent ints and floats are considered equal"
   ]
  },
  {
   "cell_type": "code",
   "execution_count": 45,
   "id": "1cb206e9",
   "metadata": {
    "execution": {
     "iopub.execute_input": "2025-04-05T09:49:19.424909Z",
     "iopub.status.busy": "2025-04-05T09:49:19.424558Z",
     "iopub.status.idle": "2025-04-05T09:49:19.430305Z",
     "shell.execute_reply": "2025-04-05T09:49:19.429151Z"
    },
    "papermill": {
     "duration": 0.042803,
     "end_time": "2025-04-05T09:49:19.432094",
     "exception": false,
     "start_time": "2025-04-05T09:49:19.389291",
     "status": "completed"
    },
    "tags": []
   },
   "outputs": [
    {
     "data": {
      "text/plain": [
       "True"
      ]
     },
     "execution_count": 45,
     "metadata": {},
     "output_type": "execute_result"
    }
   ],
   "source": [
    "#Use != to check inequality. (think of != as \"not equal to\")\n",
    "1 != 2"
   ]
  },
  {
   "cell_type": "code",
   "execution_count": 46,
   "id": "f6134db0",
   "metadata": {
    "execution": {
     "iopub.execute_input": "2025-04-05T09:49:19.502268Z",
     "iopub.status.busy": "2025-04-05T09:49:19.501824Z",
     "iopub.status.idle": "2025-04-05T09:49:19.507950Z",
     "shell.execute_reply": "2025-04-05T09:49:19.506670Z"
    },
    "papermill": {
     "duration": 0.043515,
     "end_time": "2025-04-05T09:49:19.509943",
     "exception": false,
     "start_time": "2025-04-05T09:49:19.466428",
     "status": "completed"
    },
    "tags": []
   },
   "outputs": [
    {
     "data": {
      "text/plain": [
       "True"
      ]
     },
     "execution_count": 46,
     "metadata": {},
     "output_type": "execute_result"
    }
   ],
   "source": [
    "# Use the keyword \"not\" for negation:\n",
    "not False"
   ]
  },
  {
   "cell_type": "code",
   "execution_count": 47,
   "id": "de2f9416",
   "metadata": {
    "execution": {
     "iopub.execute_input": "2025-04-05T09:49:19.640240Z",
     "iopub.status.busy": "2025-04-05T09:49:19.639897Z",
     "iopub.status.idle": "2025-04-05T09:49:19.645884Z",
     "shell.execute_reply": "2025-04-05T09:49:19.644954Z"
    },
    "papermill": {
     "duration": 0.102078,
     "end_time": "2025-04-05T09:49:19.647649",
     "exception": false,
     "start_time": "2025-04-05T09:49:19.545571",
     "status": "completed"
    },
    "tags": []
   },
   "outputs": [
    {
     "data": {
      "text/plain": [
       "False"
      ]
     },
     "execution_count": 47,
     "metadata": {},
     "output_type": "execute_result"
    }
   ],
   "source": [
    "#Use the keyword \"and\" for logical and:\n",
    "(2>1) and (10>11)"
   ]
  },
  {
   "cell_type": "code",
   "execution_count": 48,
   "id": "cce4f2de",
   "metadata": {
    "execution": {
     "iopub.execute_input": "2025-04-05T09:49:19.719439Z",
     "iopub.status.busy": "2025-04-05T09:49:19.719080Z",
     "iopub.status.idle": "2025-04-05T09:49:19.724916Z",
     "shell.execute_reply": "2025-04-05T09:49:19.723809Z"
    },
    "papermill": {
     "duration": 0.042968,
     "end_time": "2025-04-05T09:49:19.726812",
     "exception": false,
     "start_time": "2025-04-05T09:49:19.683844",
     "status": "completed"
    },
    "tags": []
   },
   "outputs": [
    {
     "data": {
      "text/plain": [
       "True"
      ]
     },
     "execution_count": 48,
     "metadata": {},
     "output_type": "execute_result"
    }
   ],
   "source": [
    "#Use the keyword \"or\" for logical or:\n",
    "(2>1) or (10>11)"
   ]
  },
  {
   "cell_type": "code",
   "execution_count": 49,
   "id": "e4b10939",
   "metadata": {
    "execution": {
     "iopub.execute_input": "2025-04-05T09:49:19.800400Z",
     "iopub.status.busy": "2025-04-05T09:49:19.800042Z",
     "iopub.status.idle": "2025-04-05T09:49:19.806166Z",
     "shell.execute_reply": "2025-04-05T09:49:19.805083Z"
    },
    "papermill": {
     "duration": 0.044498,
     "end_time": "2025-04-05T09:49:19.808215",
     "exception": false,
     "start_time": "2025-04-05T09:49:19.763717",
     "status": "completed"
    },
    "tags": []
   },
   "outputs": [
    {
     "data": {
      "text/plain": [
       "True"
      ]
     },
     "execution_count": 49,
     "metadata": {},
     "output_type": "execute_result"
    }
   ],
   "source": [
    "2>1 or  10<8 and not True"
   ]
  },
  {
   "cell_type": "code",
   "execution_count": 50,
   "id": "c06d3aa0",
   "metadata": {
    "execution": {
     "iopub.execute_input": "2025-04-05T09:49:19.879043Z",
     "iopub.status.busy": "2025-04-05T09:49:19.878699Z",
     "iopub.status.idle": "2025-04-05T09:49:19.884550Z",
     "shell.execute_reply": "2025-04-05T09:49:19.883626Z"
    },
    "papermill": {
     "duration": 0.04346,
     "end_time": "2025-04-05T09:49:19.886504",
     "exception": false,
     "start_time": "2025-04-05T09:49:19.843044",
     "status": "completed"
    },
    "tags": []
   },
   "outputs": [
    {
     "data": {
      "text/plain": [
       "False"
      ]
     },
     "execution_count": 50,
     "metadata": {},
     "output_type": "execute_result"
    }
   ],
   "source": [
    "((2>1) or (10<8)) and (not True)"
   ]
  },
  {
   "cell_type": "markdown",
   "id": "69632f25",
   "metadata": {
    "papermill": {
     "duration": 0.037664,
     "end_time": "2025-04-05T09:49:19.959392",
     "exception": false,
     "start_time": "2025-04-05T09:49:19.921728",
     "status": "completed"
    },
    "tags": []
   },
   "source": [
    "You can convert numbers into boolean values using the bool() function. All numbers other than 0 convert to True:"
   ]
  },
  {
   "cell_type": "code",
   "execution_count": 51,
   "id": "f6d32562",
   "metadata": {
    "execution": {
     "iopub.execute_input": "2025-04-05T09:49:20.030178Z",
     "iopub.status.busy": "2025-04-05T09:49:20.029792Z",
     "iopub.status.idle": "2025-04-05T09:49:20.035780Z",
     "shell.execute_reply": "2025-04-05T09:49:20.034621Z"
    },
    "papermill": {
     "duration": 0.04352,
     "end_time": "2025-04-05T09:49:20.037663",
     "exception": false,
     "start_time": "2025-04-05T09:49:19.994143",
     "status": "completed"
    },
    "tags": []
   },
   "outputs": [
    {
     "data": {
      "text/plain": [
       "True"
      ]
     },
     "execution_count": 51,
     "metadata": {},
     "output_type": "execute_result"
    }
   ],
   "source": [
    "bool(1)"
   ]
  },
  {
   "cell_type": "code",
   "execution_count": 52,
   "id": "155bc39f",
   "metadata": {
    "execution": {
     "iopub.execute_input": "2025-04-05T09:49:20.110703Z",
     "iopub.status.busy": "2025-04-05T09:49:20.110303Z",
     "iopub.status.idle": "2025-04-05T09:49:20.116003Z",
     "shell.execute_reply": "2025-04-05T09:49:20.115072Z"
    },
    "papermill": {
     "duration": 0.044854,
     "end_time": "2025-04-05T09:49:20.117669",
     "exception": false,
     "start_time": "2025-04-05T09:49:20.072815",
     "status": "completed"
    },
    "tags": []
   },
   "outputs": [
    {
     "data": {
      "text/plain": [
       "False"
      ]
     },
     "execution_count": 52,
     "metadata": {},
     "output_type": "execute_result"
    }
   ],
   "source": [
    "bool(0)"
   ]
  },
  {
   "cell_type": "markdown",
   "id": "060f1245",
   "metadata": {
    "papermill": {
     "duration": 0.034804,
     "end_time": "2025-04-05T09:49:20.188605",
     "exception": false,
     "start_time": "2025-04-05T09:49:20.153801",
     "status": "completed"
    },
    "tags": []
   },
   "source": [
    "# Strings"
   ]
  },
  {
   "cell_type": "markdown",
   "id": "866ebc22",
   "metadata": {
    "papermill": {
     "duration": 0.035556,
     "end_time": "2025-04-05T09:49:20.259461",
     "exception": false,
     "start_time": "2025-04-05T09:49:20.223905",
     "status": "completed"
    },
    "tags": []
   },
   "source": [
    "Text data in Python is known as string or \"str\". Surround text with single or double quotation marks to create a string:"
   ]
  },
  {
   "cell_type": "code",
   "execution_count": 53,
   "id": "52dc1c3e",
   "metadata": {
    "execution": {
     "iopub.execute_input": "2025-04-05T09:49:20.332346Z",
     "iopub.status.busy": "2025-04-05T09:49:20.331984Z",
     "iopub.status.idle": "2025-04-05T09:49:20.338019Z",
     "shell.execute_reply": "2025-04-05T09:49:20.336927Z"
    },
    "papermill": {
     "duration": 0.043644,
     "end_time": "2025-04-05T09:49:20.339665",
     "exception": false,
     "start_time": "2025-04-05T09:49:20.296021",
     "status": "completed"
    },
    "tags": []
   },
   "outputs": [
    {
     "data": {
      "text/plain": [
       "str"
      ]
     },
     "execution_count": 53,
     "metadata": {},
     "output_type": "execute_result"
    }
   ],
   "source": [
    "type(\"cat\")"
   ]
  },
  {
   "cell_type": "code",
   "execution_count": 54,
   "id": "7ec513f6",
   "metadata": {
    "execution": {
     "iopub.execute_input": "2025-04-05T09:49:20.412282Z",
     "iopub.status.busy": "2025-04-05T09:49:20.411928Z",
     "iopub.status.idle": "2025-04-05T09:49:20.418105Z",
     "shell.execute_reply": "2025-04-05T09:49:20.416981Z"
    },
    "papermill": {
     "duration": 0.044062,
     "end_time": "2025-04-05T09:49:20.419869",
     "exception": false,
     "start_time": "2025-04-05T09:49:20.375807",
     "status": "completed"
    },
    "tags": []
   },
   "outputs": [
    {
     "data": {
      "text/plain": [
       "str"
      ]
     },
     "execution_count": 54,
     "metadata": {},
     "output_type": "execute_result"
    }
   ],
   "source": [
    "type('1')"
   ]
  },
  {
   "cell_type": "markdown",
   "id": "ce06d08a",
   "metadata": {
    "papermill": {
     "duration": 0.035167,
     "end_time": "2025-04-05T09:49:20.492195",
     "exception": false,
     "start_time": "2025-04-05T09:49:20.457028",
     "status": "completed"
    },
    "tags": []
   },
   "source": [
    "# None\n",
    "In python, \"None\" is a special data type that is often used to represent a missing value. for example, if you define a function that doesn't return anything it will return \"None\" by default."
   ]
  },
  {
   "cell_type": "code",
   "execution_count": 55,
   "id": "d38e21a9",
   "metadata": {
    "execution": {
     "iopub.execute_input": "2025-04-05T09:49:20.565476Z",
     "iopub.status.busy": "2025-04-05T09:49:20.565089Z",
     "iopub.status.idle": "2025-04-05T09:49:20.571836Z",
     "shell.execute_reply": "2025-04-05T09:49:20.570591Z"
    },
    "papermill": {
     "duration": 0.046383,
     "end_time": "2025-04-05T09:49:20.574129",
     "exception": false,
     "start_time": "2025-04-05T09:49:20.527746",
     "status": "completed"
    },
    "tags": []
   },
   "outputs": [
    {
     "data": {
      "text/plain": [
       "NoneType"
      ]
     },
     "execution_count": 55,
     "metadata": {},
     "output_type": "execute_result"
    }
   ],
   "source": [
    "type(None)"
   ]
  },
  {
   "cell_type": "code",
   "execution_count": 56,
   "id": "5b731d56",
   "metadata": {
    "execution": {
     "iopub.execute_input": "2025-04-05T09:49:20.648957Z",
     "iopub.status.busy": "2025-04-05T09:49:20.648615Z",
     "iopub.status.idle": "2025-04-05T09:49:20.656032Z",
     "shell.execute_reply": "2025-04-05T09:49:20.654873Z"
    },
    "papermill": {
     "duration": 0.047259,
     "end_time": "2025-04-05T09:49:20.658062",
     "exception": false,
     "start_time": "2025-04-05T09:49:20.610803",
     "status": "completed"
    },
    "tags": []
   },
   "outputs": [
    {
     "name": "stdout",
     "output_type": "stream",
     "text": [
      "hello\n"
     ]
    },
    {
     "data": {
      "text/plain": [
       "True"
      ]
     },
     "execution_count": 56,
     "metadata": {},
     "output_type": "execute_result"
    }
   ],
   "source": [
    "#Define a function that prints the input but returns nothing\n",
    "def my_function(x):\n",
    "    print(x)\n",
    "my_function(\"hello\") == None  #the output of my_function equals None\n",
    "\n"
   ]
  },
  {
   "cell_type": "code",
   "execution_count": 57,
   "id": "7dac3807",
   "metadata": {
    "execution": {
     "iopub.execute_input": "2025-04-05T09:49:20.734399Z",
     "iopub.status.busy": "2025-04-05T09:49:20.734036Z",
     "iopub.status.idle": "2025-04-05T09:49:20.740058Z",
     "shell.execute_reply": "2025-04-05T09:49:20.739041Z"
    },
    "papermill": {
     "duration": 0.047046,
     "end_time": "2025-04-05T09:49:20.741927",
     "exception": false,
     "start_time": "2025-04-05T09:49:20.694881",
     "status": "completed"
    },
    "tags": []
   },
   "outputs": [
    {
     "data": {
      "text/plain": [
       "False"
      ]
     },
     "execution_count": 57,
     "metadata": {},
     "output_type": "execute_result"
    }
   ],
   "source": [
    "\"hello\"==None"
   ]
  },
  {
   "cell_type": "code",
   "execution_count": 58,
   "id": "d6437773",
   "metadata": {
    "execution": {
     "iopub.execute_input": "2025-04-05T09:49:20.817987Z",
     "iopub.status.busy": "2025-04-05T09:49:20.817638Z",
     "iopub.status.idle": "2025-04-05T09:49:20.823669Z",
     "shell.execute_reply": "2025-04-05T09:49:20.822608Z"
    },
    "papermill": {
     "duration": 0.044794,
     "end_time": "2025-04-05T09:49:20.825524",
     "exception": false,
     "start_time": "2025-04-05T09:49:20.780730",
     "status": "completed"
    },
    "tags": []
   },
   "outputs": [
    {
     "data": {
      "text/plain": [
       "False"
      ]
     },
     "execution_count": 58,
     "metadata": {},
     "output_type": "execute_result"
    }
   ],
   "source": [
    "x=\"hello\"\n",
    "x==None"
   ]
  },
  {
   "cell_type": "markdown",
   "id": "372d02bf",
   "metadata": {
    "papermill": {
     "duration": 0.036136,
     "end_time": "2025-04-05T09:49:20.898413",
     "exception": false,
     "start_time": "2025-04-05T09:49:20.862277",
     "status": "completed"
    },
    "tags": []
   },
   "source": [
    "#Assigning Variable "
   ]
  },
  {
   "cell_type": "code",
   "execution_count": 59,
   "id": "1399f6e8",
   "metadata": {
    "execution": {
     "iopub.execute_input": "2025-04-05T09:49:20.975721Z",
     "iopub.status.busy": "2025-04-05T09:49:20.975288Z",
     "iopub.status.idle": "2025-04-05T09:49:20.981783Z",
     "shell.execute_reply": "2025-04-05T09:49:20.980523Z"
    },
    "papermill": {
     "duration": 0.046878,
     "end_time": "2025-04-05T09:49:20.983626",
     "exception": false,
     "start_time": "2025-04-05T09:49:20.936748",
     "status": "completed"
    },
    "tags": []
   },
   "outputs": [
    {
     "name": "stdout",
     "output_type": "stream",
     "text": [
      "10\n",
      "Python is fun\n",
      "True\n"
     ]
    }
   ],
   "source": [
    "x = 10\n",
    "y = \"Python is fun\"\n",
    "z = 144**0.5 == 12\n",
    "print(x)\n",
    "print(y)\n",
    "print(z)\n"
   ]
  },
  {
   "cell_type": "markdown",
   "id": "5ad105d4",
   "metadata": {
    "papermill": {
     "duration": 0.035887,
     "end_time": "2025-04-05T09:49:21.055397",
     "exception": false,
     "start_time": "2025-04-05T09:49:21.019510",
     "status": "completed"
    },
    "tags": []
   },
   "source": [
    "Note : assigning a variable does not produce any output"
   ]
  },
  {
   "cell_type": "code",
   "execution_count": 60,
   "id": "f0bf2dc0",
   "metadata": {
    "execution": {
     "iopub.execute_input": "2025-04-05T09:49:21.131347Z",
     "iopub.status.busy": "2025-04-05T09:49:21.130916Z",
     "iopub.status.idle": "2025-04-05T09:49:21.136548Z",
     "shell.execute_reply": "2025-04-05T09:49:21.135349Z"
    },
    "papermill": {
     "duration": 0.044862,
     "end_time": "2025-04-05T09:49:21.138490",
     "exception": false,
     "start_time": "2025-04-05T09:49:21.093628",
     "status": "completed"
    },
    "tags": []
   },
   "outputs": [
    {
     "name": "stdout",
     "output_type": "stream",
     "text": [
      "4\n",
      "4\n"
     ]
    }
   ],
   "source": [
    "n = m = 4\n",
    "print(n)\n",
    "print(m)"
   ]
  },
  {
   "cell_type": "markdown",
   "id": "9ddc8268",
   "metadata": {
    "papermill": {
     "duration": 0.035454,
     "end_time": "2025-04-05T09:49:21.209600",
     "exception": false,
     "start_time": "2025-04-05T09:49:21.174146",
     "status": "completed"
    },
    "tags": []
   },
   "source": [
    "You can also assign several different variables at the same time using a comma separated sequence of variable names followed by the assignment operator and a comma separated sequence of values inside parameters:"
   ]
  },
  {
   "cell_type": "code",
   "execution_count": 61,
   "id": "6d78befb",
   "metadata": {
    "execution": {
     "iopub.execute_input": "2025-04-05T09:49:21.283627Z",
     "iopub.status.busy": "2025-04-05T09:49:21.283238Z",
     "iopub.status.idle": "2025-04-05T09:49:21.289556Z",
     "shell.execute_reply": "2025-04-05T09:49:21.288176Z"
    },
    "papermill": {
     "duration": 0.046159,
     "end_time": "2025-04-05T09:49:21.291213",
     "exception": false,
     "start_time": "2025-04-05T09:49:21.245054",
     "status": "completed"
    },
    "tags": []
   },
   "outputs": [
    {
     "name": "stdout",
     "output_type": "stream",
     "text": [
      "10\n",
      "20\n",
      "30\n"
     ]
    }
   ],
   "source": [
    "# Assign 3 variables at the same time:\n",
    "x, y, z = (10,20,30)\n",
    "\n",
    "print(x)\n",
    "print(y)\n",
    "print(z)"
   ]
  },
  {
   "cell_type": "markdown",
   "id": "5ca646ea",
   "metadata": {
    "papermill": {
     "duration": 0.035833,
     "end_time": "2025-04-05T09:49:21.363505",
     "exception": false,
     "start_time": "2025-04-05T09:49:21.327672",
     "status": "completed"
    },
    "tags": []
   },
   "source": [
    "This method of extracting variables from a comma separated sequence is know as tuple unpacking"
   ]
  },
  {
   "cell_type": "code",
   "execution_count": 62,
   "id": "16e8244b",
   "metadata": {
    "execution": {
     "iopub.execute_input": "2025-04-05T09:49:21.436879Z",
     "iopub.status.busy": "2025-04-05T09:49:21.436470Z",
     "iopub.status.idle": "2025-04-05T09:49:21.441824Z",
     "shell.execute_reply": "2025-04-05T09:49:21.440688Z"
    },
    "papermill": {
     "duration": 0.044157,
     "end_time": "2025-04-05T09:49:21.443423",
     "exception": false,
     "start_time": "2025-04-05T09:49:21.399266",
     "status": "completed"
    },
    "tags": []
   },
   "outputs": [
    {
     "name": "stdout",
     "output_type": "stream",
     "text": [
      "20\n",
      "10\n"
     ]
    }
   ],
   "source": [
    "#You can swap the values of two variables using a similar syntax:\n",
    "(x, y)=(y, x)\n",
    "print(x)\n",
    "print(y)"
   ]
  },
  {
   "cell_type": "markdown",
   "id": "3e3f9f9c",
   "metadata": {
    "papermill": {
     "duration": 0.036821,
     "end_time": "2025-04-05T09:49:21.516904",
     "exception": false,
     "start_time": "2025-04-05T09:49:21.480083",
     "status": "completed"
    },
    "tags": []
   },
   "source": [
    "When you assign a variable in Python, the variable is a reference to a specific object in the computer's memory. Reassigning a variable simply switches the reference to a different object in memory. If the object a variable refers to in memory is altered in some way, the value of the variable corresponding to the altered object will also change. All of the basic data types we've seen thus far are immutable, meaning they cannot be changed after they are created. If you perform some operation that appears to alter an immutable object, it is actually creating a totally new object in a memory, rather than changing the original immutable object."
   ]
  },
  {
   "cell_type": "code",
   "execution_count": 63,
   "id": "d3e2feb3",
   "metadata": {
    "execution": {
     "iopub.execute_input": "2025-04-05T09:49:21.591053Z",
     "iopub.status.busy": "2025-04-05T09:49:21.590683Z",
     "iopub.status.idle": "2025-04-05T09:49:21.595893Z",
     "shell.execute_reply": "2025-04-05T09:49:21.594741Z"
    },
    "papermill": {
     "duration": 0.044164,
     "end_time": "2025-04-05T09:49:21.597789",
     "exception": false,
     "start_time": "2025-04-05T09:49:21.553625",
     "status": "completed"
    },
    "tags": []
   },
   "outputs": [
    {
     "name": "stdout",
     "output_type": "stream",
     "text": [
      "Hello\n",
      "hello\n"
     ]
    }
   ],
   "source": [
    "#Consider the following example:\n",
    "x = \"Hello\"    #Create a new string\n",
    "y = x          #Assign y the same object as x\n",
    "y = y.lower()  #Assign y the result of y.lower()\n",
    "print(x)\n",
    "print(y)"
   ]
  },
  {
   "cell_type": "markdown",
   "id": "c5188ee7",
   "metadata": {
    "papermill": {
     "duration": 0.035664,
     "end_time": "2025-04-05T09:49:21.671160",
     "exception": false,
     "start_time": "2025-04-05T09:49:21.635496",
     "status": "completed"
    },
    "tags": []
   },
   "source": [
    "In the case above, we first assign x the value \"Hello\", a string object stored somewhere in memory.  Next we use the string method lower () to make the string assigned to y lowercase. Since strings are immutable, Python creates an entirey new string, \"hello\" and stores it somewhere in memory separate from the orginal \"Hello\" object. As a result, x and y refer to different objects in memory and produce different results when printed to the console."
   ]
  },
  {
   "cell_type": "markdown",
   "id": "3c30d195",
   "metadata": {
    "papermill": {
     "duration": 0.035951,
     "end_time": "2025-04-05T09:49:21.744038",
     "exception": false,
     "start_time": "2025-04-05T09:49:21.708087",
     "status": "completed"
    },
    "tags": []
   },
   "source": [
    "By contract, lists are a mutable data structure that can hold multiple objects. If you alter a list, Python doesn't make an entirely new list in memory: it changes the actual list object itself. This can lead to seemingly inconsistent and confusing behaviour:"
   ]
  },
  {
   "cell_type": "code",
   "execution_count": 64,
   "id": "0f27b5cc",
   "metadata": {
    "execution": {
     "iopub.execute_input": "2025-04-05T09:49:21.819983Z",
     "iopub.status.busy": "2025-04-05T09:49:21.819496Z",
     "iopub.status.idle": "2025-04-05T09:49:21.825599Z",
     "shell.execute_reply": "2025-04-05T09:49:21.824361Z"
    },
    "papermill": {
     "duration": 0.045567,
     "end_time": "2025-04-05T09:49:21.827519",
     "exception": false,
     "start_time": "2025-04-05T09:49:21.781952",
     "status": "completed"
    },
    "tags": []
   },
   "outputs": [
    {
     "name": "stdout",
     "output_type": "stream",
     "text": [
      "[1, 2, 3, 4]\n",
      "[1, 2, 3, 4]\n"
     ]
    }
   ],
   "source": [
    "x = [1,2,3] #Create a new list\n",
    "y = x       #Assign y the same object as x\n",
    "y.append(4) #Add 4 to the end of list y\n",
    "print(x)\n",
    "print(y)"
   ]
  },
  {
   "cell_type": "markdown",
   "id": "ad133b4e",
   "metadata": {
    "papermill": {
     "duration": 0.036629,
     "end_time": "2025-04-05T09:49:21.902187",
     "exception": false,
     "start_time": "2025-04-05T09:49:21.865558",
     "status": "completed"
    },
    "tags": []
   },
   "source": [
    "In this case, x and y still both refer to the same original list, so both x and y have the same value, even though it may appear that the code only added the number 4 to list y."
   ]
  },
  {
   "cell_type": "markdown",
   "id": "78b44869",
   "metadata": {
    "papermill": {
     "duration": 0.036228,
     "end_time": "2025-04-05T09:49:21.977378",
     "exception": false,
     "start_time": "2025-04-05T09:49:21.941150",
     "status": "completed"
    },
    "tags": []
   },
   "source": [
    "**List Basics**\n",
    "A list is a mutuable, ordered collection of objects. \"Mutable\" means a list can be altered after it is created. You can, for example,add new items to a list or remove existing items. Lists are heterogeneous, meaning they can hold objects of different types."
   ]
  },
  {
   "cell_type": "code",
   "execution_count": 65,
   "id": "806718e0",
   "metadata": {
    "execution": {
     "iopub.execute_input": "2025-04-05T09:49:22.052397Z",
     "iopub.status.busy": "2025-04-05T09:49:22.052057Z",
     "iopub.status.idle": "2025-04-05T09:49:22.056960Z",
     "shell.execute_reply": "2025-04-05T09:49:22.055678Z"
    },
    "papermill": {
     "duration": 0.044002,
     "end_time": "2025-04-05T09:49:22.058858",
     "exception": false,
     "start_time": "2025-04-05T09:49:22.014856",
     "status": "completed"
    },
    "tags": []
   },
   "outputs": [
    {
     "name": "stdout",
     "output_type": "stream",
     "text": [
      "['Lesson', 5, 'Is Fun?', True]\n"
     ]
    }
   ],
   "source": [
    "my_list = [\"Lesson\",5,\"Is Fun?\",True]\n",
    "print(my_list)"
   ]
  },
  {
   "cell_type": "markdown",
   "id": "642ff824",
   "metadata": {
    "papermill": {
     "duration": 0.035979,
     "end_time": "2025-04-05T09:49:22.134198",
     "exception": false,
     "start_time": "2025-04-05T09:49:22.098219",
     "status": "completed"
    },
    "tags": []
   },
   "source": [
    "Alternatively, you can construct a list by passing some other iterable into the list() function. An iterable descibes an object you can look through one item at a time, such as lists, tuples, strings and other sequences."
   ]
  },
  {
   "cell_type": "code",
   "execution_count": 66,
   "id": "585dc3ee",
   "metadata": {
    "execution": {
     "iopub.execute_input": "2025-04-05T09:49:22.209645Z",
     "iopub.status.busy": "2025-04-05T09:49:22.209245Z",
     "iopub.status.idle": "2025-04-05T09:49:22.214039Z",
     "shell.execute_reply": "2025-04-05T09:49:22.212929Z"
    },
    "papermill": {
     "duration": 0.044082,
     "end_time": "2025-04-05T09:49:22.215792",
     "exception": false,
     "start_time": "2025-04-05T09:49:22.171710",
     "status": "completed"
    },
    "tags": []
   },
   "outputs": [
    {
     "name": "stdout",
     "output_type": "stream",
     "text": [
      "['L', 'i', 'f', 'e', ' ', 'i', 's', ' ', 'S', 't', 'u', 'd', 'y']\n"
     ]
    }
   ],
   "source": [
    "second_list = list(\"Life is Study\")   #Create a list from a string\n",
    "print(second_list)"
   ]
  },
  {
   "cell_type": "markdown",
   "id": "b3c0c5ae",
   "metadata": {
    "papermill": {
     "duration": 0.037873,
     "end_time": "2025-04-05T09:49:22.290615",
     "exception": false,
     "start_time": "2025-04-05T09:49:22.252742",
     "status": "completed"
    },
    "tags": []
   },
   "source": [
    "A list with no contents is known as the empty list:"
   ]
  },
  {
   "cell_type": "code",
   "execution_count": 67,
   "id": "aac3d6ba",
   "metadata": {
    "execution": {
     "iopub.execute_input": "2025-04-05T09:49:22.365189Z",
     "iopub.status.busy": "2025-04-05T09:49:22.364763Z",
     "iopub.status.idle": "2025-04-05T09:49:22.370081Z",
     "shell.execute_reply": "2025-04-05T09:49:22.368797Z"
    },
    "papermill": {
     "duration": 0.044478,
     "end_time": "2025-04-05T09:49:22.371873",
     "exception": false,
     "start_time": "2025-04-05T09:49:22.327395",
     "status": "completed"
    },
    "tags": []
   },
   "outputs": [
    {
     "name": "stdout",
     "output_type": "stream",
     "text": [
      "[]\n"
     ]
    }
   ],
   "source": [
    "empty_list = []\n",
    "print(empty_list)"
   ]
  },
  {
   "cell_type": "markdown",
   "id": "1df99d63",
   "metadata": {
    "papermill": {
     "duration": 0.03724,
     "end_time": "2025-04-05T09:49:22.446411",
     "exception": false,
     "start_time": "2025-04-05T09:49:22.409171",
     "status": "completed"
    },
    "tags": []
   },
   "source": [
    "You can add an item to an existing list with the list.append() function:"
   ]
  },
  {
   "cell_type": "code",
   "execution_count": 68,
   "id": "d961277b",
   "metadata": {
    "execution": {
     "iopub.execute_input": "2025-04-05T09:49:22.521430Z",
     "iopub.status.busy": "2025-04-05T09:49:22.521080Z",
     "iopub.status.idle": "2025-04-05T09:49:22.525893Z",
     "shell.execute_reply": "2025-04-05T09:49:22.524598Z"
    },
    "papermill": {
     "duration": 0.044519,
     "end_time": "2025-04-05T09:49:22.527450",
     "exception": false,
     "start_time": "2025-04-05T09:49:22.482931",
     "status": "completed"
    },
    "tags": []
   },
   "outputs": [
    {
     "name": "stdout",
     "output_type": "stream",
     "text": [
      "[\"I'm no longer empty!\"]\n"
     ]
    }
   ],
   "source": [
    "empty_list.append(\"I'm no longer empty!\")\n",
    "print(empty_list)"
   ]
  },
  {
   "cell_type": "code",
   "execution_count": 69,
   "id": "bbcdb089",
   "metadata": {
    "execution": {
     "iopub.execute_input": "2025-04-05T09:49:22.604843Z",
     "iopub.status.busy": "2025-04-05T09:49:22.604424Z",
     "iopub.status.idle": "2025-04-05T09:49:22.610089Z",
     "shell.execute_reply": "2025-04-05T09:49:22.608843Z"
    },
    "papermill": {
     "duration": 0.047498,
     "end_time": "2025-04-05T09:49:22.611817",
     "exception": false,
     "start_time": "2025-04-05T09:49:22.564319",
     "status": "completed"
    },
    "tags": []
   },
   "outputs": [
    {
     "name": "stdout",
     "output_type": "stream",
     "text": [
      "[\"I'm no longer empty!\"]\n"
     ]
    }
   ],
   "source": [
    "print(empty_list)"
   ]
  },
  {
   "cell_type": "code",
   "execution_count": 70,
   "id": "639a5361",
   "metadata": {
    "execution": {
     "iopub.execute_input": "2025-04-05T09:49:22.687399Z",
     "iopub.status.busy": "2025-04-05T09:49:22.686993Z",
     "iopub.status.idle": "2025-04-05T09:49:22.691712Z",
     "shell.execute_reply": "2025-04-05T09:49:22.690593Z"
    },
    "papermill": {
     "duration": 0.044666,
     "end_time": "2025-04-05T09:49:22.693725",
     "exception": false,
     "start_time": "2025-04-05T09:49:22.649059",
     "status": "completed"
    },
    "tags": []
   },
   "outputs": [],
   "source": [
    "empty_list1=list(empty_list)"
   ]
  },
  {
   "cell_type": "code",
   "execution_count": 71,
   "id": "30ee2fce",
   "metadata": {
    "execution": {
     "iopub.execute_input": "2025-04-05T09:49:22.769727Z",
     "iopub.status.busy": "2025-04-05T09:49:22.769309Z",
     "iopub.status.idle": "2025-04-05T09:49:22.774643Z",
     "shell.execute_reply": "2025-04-05T09:49:22.773539Z"
    },
    "papermill": {
     "duration": 0.045972,
     "end_time": "2025-04-05T09:49:22.776663",
     "exception": false,
     "start_time": "2025-04-05T09:49:22.730691",
     "status": "completed"
    },
    "tags": []
   },
   "outputs": [
    {
     "name": "stdout",
     "output_type": "stream",
     "text": [
      "[\"I'm no longer empty!\"]\n"
     ]
    }
   ],
   "source": [
    "print(empty_list1)"
   ]
  },
  {
   "cell_type": "markdown",
   "id": "ffbd197d",
   "metadata": {
    "papermill": {
     "duration": 0.038646,
     "end_time": "2025-04-05T09:49:22.852658",
     "exception": false,
     "start_time": "2025-04-05T09:49:22.814012",
     "status": "completed"
    },
    "tags": []
   },
   "source": [
    "Remove a matching item from a list with list.remove()\n",
    "\n",
    "Note: Remove deletes the first matching item only."
   ]
  },
  {
   "cell_type": "code",
   "execution_count": 72,
   "id": "d2227da9",
   "metadata": {
    "execution": {
     "iopub.execute_input": "2025-04-05T09:49:22.928075Z",
     "iopub.status.busy": "2025-04-05T09:49:22.927706Z",
     "iopub.status.idle": "2025-04-05T09:49:22.932514Z",
     "shell.execute_reply": "2025-04-05T09:49:22.931360Z"
    },
    "papermill": {
     "duration": 0.044011,
     "end_time": "2025-04-05T09:49:22.934207",
     "exception": false,
     "start_time": "2025-04-05T09:49:22.890196",
     "status": "completed"
    },
    "tags": []
   },
   "outputs": [
    {
     "name": "stdout",
     "output_type": "stream",
     "text": [
      "['Lesson', 'Is Fun?', True]\n"
     ]
    }
   ],
   "source": [
    "my_list.remove(5)\n",
    "print(my_list)"
   ]
  },
  {
   "cell_type": "markdown",
   "id": "b066ae5b",
   "metadata": {
    "papermill": {
     "duration": 0.037233,
     "end_time": "2025-04-05T09:49:23.012074",
     "exception": false,
     "start_time": "2025-04-05T09:49:22.974841",
     "status": "completed"
    },
    "tags": []
   },
   "source": [
    "Join two lists together with the + operator:"
   ]
  },
  {
   "cell_type": "code",
   "execution_count": 73,
   "id": "8688c62e",
   "metadata": {
    "execution": {
     "iopub.execute_input": "2025-04-05T09:49:23.088199Z",
     "iopub.status.busy": "2025-04-05T09:49:23.087786Z",
     "iopub.status.idle": "2025-04-05T09:49:23.093401Z",
     "shell.execute_reply": "2025-04-05T09:49:23.092324Z"
    },
    "papermill": {
     "duration": 0.046675,
     "end_time": "2025-04-05T09:49:23.095477",
     "exception": false,
     "start_time": "2025-04-05T09:49:23.048802",
     "status": "completed"
    },
    "tags": []
   },
   "outputs": [
    {
     "name": "stdout",
     "output_type": "stream",
     "text": [
      "['Lesson', 'Is Fun?', True, \"I'm no longer empty!\"]\n"
     ]
    }
   ],
   "source": [
    "combined_list = my_list + empty_list\n",
    "print(combined_list)\n"
   ]
  },
  {
   "cell_type": "markdown",
   "id": "993c7832",
   "metadata": {
    "papermill": {
     "duration": 0.037615,
     "end_time": "2025-04-05T09:49:23.170103",
     "exception": false,
     "start_time": "2025-04-05T09:49:23.132488",
     "status": "completed"
    },
    "tags": []
   },
   "source": [
    "You can also add a sequence to the end of an existing list with the list.extend() function"
   ]
  },
  {
   "cell_type": "code",
   "execution_count": 74,
   "id": "f5178f79",
   "metadata": {
    "execution": {
     "iopub.execute_input": "2025-04-05T09:49:23.245462Z",
     "iopub.status.busy": "2025-04-05T09:49:23.245053Z",
     "iopub.status.idle": "2025-04-05T09:49:23.250803Z",
     "shell.execute_reply": "2025-04-05T09:49:23.249641Z"
    },
    "papermill": {
     "duration": 0.045748,
     "end_time": "2025-04-05T09:49:23.252871",
     "exception": false,
     "start_time": "2025-04-05T09:49:23.207123",
     "status": "completed"
    },
    "tags": []
   },
   "outputs": [
    {
     "name": "stdout",
     "output_type": "stream",
     "text": [
      "['Lesson', 'Is Fun?', True, \"I'm no longer empty!\"]\n"
     ]
    }
   ],
   "source": [
    "combined_list = my_list\n",
    "combined_list.extend(empty_list)\n",
    "print(combined_list)"
   ]
  },
  {
   "cell_type": "markdown",
   "id": "6c347b36",
   "metadata": {
    "papermill": {
     "duration": 0.037211,
     "end_time": "2025-04-05T09:49:23.327768",
     "exception": false,
     "start_time": "2025-04-05T09:49:23.290557",
     "status": "completed"
    },
    "tags": []
   },
   "source": [
    "Check the length, maximum, minimum and sum of a list with the len(), max(), min() and sum() functions, respectively."
   ]
  },
  {
   "cell_type": "code",
   "execution_count": 75,
   "id": "3e155ca0",
   "metadata": {
    "execution": {
     "iopub.execute_input": "2025-04-05T09:49:23.404707Z",
     "iopub.status.busy": "2025-04-05T09:49:23.404267Z",
     "iopub.status.idle": "2025-04-05T09:49:23.411244Z",
     "shell.execute_reply": "2025-04-05T09:49:23.410176Z"
    },
    "papermill": {
     "duration": 0.047655,
     "end_time": "2025-04-05T09:49:23.413084",
     "exception": false,
     "start_time": "2025-04-05T09:49:23.365429",
     "status": "completed"
    },
    "tags": []
   },
   "outputs": [
    {
     "name": "stdout",
     "output_type": "stream",
     "text": [
      "5\n",
      "9\n",
      "1\n",
      "25\n",
      "5.0\n"
     ]
    }
   ],
   "source": [
    "num_list = [1,3,5,7,9]\n",
    "print(len(num_list))     #Check the length\n",
    "print(max(num_list))     #Check the max\n",
    "print(min(num_list))     #Check the min\n",
    "print(sum(num_list))     #Check the sum\n",
    "print(sum(num_list)/len(num_list))  #Check the mean*"
   ]
  },
  {
   "cell_type": "code",
   "execution_count": 76,
   "id": "546bcb61",
   "metadata": {
    "execution": {
     "iopub.execute_input": "2025-04-05T09:49:23.490739Z",
     "iopub.status.busy": "2025-04-05T09:49:23.490355Z",
     "iopub.status.idle": "2025-04-05T09:49:23.496117Z",
     "shell.execute_reply": "2025-04-05T09:49:23.495103Z"
    },
    "papermill": {
     "duration": 0.046809,
     "end_time": "2025-04-05T09:49:23.497759",
     "exception": false,
     "start_time": "2025-04-05T09:49:23.450950",
     "status": "completed"
    },
    "tags": []
   },
   "outputs": [
    {
     "data": {
      "text/plain": [
       "True"
      ]
     },
     "execution_count": 76,
     "metadata": {},
     "output_type": "execute_result"
    }
   ],
   "source": [
    "#You can check whether a list contains a certain object with the \"in\" keyword:\n",
    "1 in num_list"
   ]
  },
  {
   "cell_type": "code",
   "execution_count": 77,
   "id": "b0e0a060",
   "metadata": {
    "execution": {
     "iopub.execute_input": "2025-04-05T09:49:23.632786Z",
     "iopub.status.busy": "2025-04-05T09:49:23.632412Z",
     "iopub.status.idle": "2025-04-05T09:49:23.637939Z",
     "shell.execute_reply": "2025-04-05T09:49:23.637053Z"
    },
    "papermill": {
     "duration": 0.104286,
     "end_time": "2025-04-05T09:49:23.639674",
     "exception": false,
     "start_time": "2025-04-05T09:49:23.535388",
     "status": "completed"
    },
    "tags": []
   },
   "outputs": [
    {
     "data": {
      "text/plain": [
       "False"
      ]
     },
     "execution_count": 77,
     "metadata": {},
     "output_type": "execute_result"
    }
   ],
   "source": [
    "#Add the keyword \"not\" to test whether a list does not contain an object\n",
    "1 not in num_list"
   ]
  },
  {
   "cell_type": "markdown",
   "id": "35a058a4",
   "metadata": {
    "papermill": {
     "duration": 0.036833,
     "end_time": "2025-04-05T09:49:23.714306",
     "exception": false,
     "start_time": "2025-04-05T09:49:23.677473",
     "status": "completed"
    },
    "tags": []
   },
   "source": [
    "Count the occurrences of an object within a list using the list.count() function:\n"
   ]
  },
  {
   "cell_type": "code",
   "execution_count": 78,
   "id": "052003f4",
   "metadata": {
    "execution": {
     "iopub.execute_input": "2025-04-05T09:49:23.792188Z",
     "iopub.status.busy": "2025-04-05T09:49:23.791791Z",
     "iopub.status.idle": "2025-04-05T09:49:23.797806Z",
     "shell.execute_reply": "2025-04-05T09:49:23.796657Z"
    },
    "papermill": {
     "duration": 0.048597,
     "end_time": "2025-04-05T09:49:23.799765",
     "exception": false,
     "start_time": "2025-04-05T09:49:23.751168",
     "status": "completed"
    },
    "tags": []
   },
   "outputs": [
    {
     "data": {
      "text/plain": [
       "1"
      ]
     },
     "execution_count": 78,
     "metadata": {},
     "output_type": "execute_result"
    }
   ],
   "source": [
    "num_list.count(3)"
   ]
  },
  {
   "cell_type": "markdown",
   "id": "36c5dcab",
   "metadata": {
    "papermill": {
     "duration": 0.037358,
     "end_time": "2025-04-05T09:49:23.876625",
     "exception": false,
     "start_time": "2025-04-05T09:49:23.839267",
     "status": "completed"
    },
    "tags": []
   },
   "source": [
    "Other common list functions include list.sort() and list.reverse():\n"
   ]
  },
  {
   "cell_type": "code",
   "execution_count": 79,
   "id": "0ca8498d",
   "metadata": {
    "execution": {
     "iopub.execute_input": "2025-04-05T09:49:23.956220Z",
     "iopub.status.busy": "2025-04-05T09:49:23.955833Z",
     "iopub.status.idle": "2025-04-05T09:49:23.961106Z",
     "shell.execute_reply": "2025-04-05T09:49:23.960052Z"
    },
    "papermill": {
     "duration": 0.0484,
     "end_time": "2025-04-05T09:49:23.962891",
     "exception": false,
     "start_time": "2025-04-05T09:49:23.914491",
     "status": "completed"
    },
    "tags": []
   },
   "outputs": [
    {
     "name": "stdout",
     "output_type": "stream",
     "text": [
      "Reversed list [6, 3, 2, 4, 5, 1]\n",
      "Sorted list [1, 2, 3, 4, 5, 6]\n"
     ]
    }
   ],
   "source": [
    "new_list = [1,5,4,2,3,6]       #Make a new list\n",
    "\n",
    "new_list.reverse()             #Reverse the list\n",
    "print(\"Reversed list\", new_list)\n",
    "\n",
    "new_list.sort()                #Sort the list\n",
    "print(\"Sorted list\", new_list)"
   ]
  },
  {
   "cell_type": "markdown",
   "id": "905240fc",
   "metadata": {
    "papermill": {
     "duration": 0.037124,
     "end_time": "2025-04-05T09:49:24.039204",
     "exception": false,
     "start_time": "2025-04-05T09:49:24.002080",
     "status": "completed"
    },
    "tags": []
   },
   "source": [
    "List Indexing and Slicing\n",
    "\n",
    "Lists and other Python sequences are indexed, meaning each position in the sequence has a corresponding number called the index that you can use to look up the value at that position.\n",
    "Python sequences are zero-indexed, so the first element of a sequence is at index position zero, the second element is at index 1 and so on. Retrieve an item from a list by placing the index in square brackets after the name of the list:\n"
   ]
  },
  {
   "cell_type": "code",
   "execution_count": 80,
   "id": "74eecbeb",
   "metadata": {
    "execution": {
     "iopub.execute_input": "2025-04-05T09:49:24.117809Z",
     "iopub.status.busy": "2025-04-05T09:49:24.117416Z",
     "iopub.status.idle": "2025-04-05T09:49:24.123128Z",
     "shell.execute_reply": "2025-04-05T09:49:24.121712Z"
    },
    "papermill": {
     "duration": 0.048056,
     "end_time": "2025-04-05T09:49:24.125423",
     "exception": false,
     "start_time": "2025-04-05T09:49:24.077367",
     "status": "completed"
    },
    "tags": []
   },
   "outputs": [
    {
     "name": "stdout",
     "output_type": "stream",
     "text": [
      "Hello\n",
      "bestest\n"
     ]
    }
   ],
   "source": [
    "another_list = [\"Hello\",\"my\",\"bestest\",\"old\",\"friend\"]\n",
    "print(another_list[0])\n",
    "print(another_list[2])\n",
    "\n"
   ]
  },
  {
   "cell_type": "markdown",
   "id": "b9d5ceef",
   "metadata": {
    "papermill": {
     "duration": 0.038549,
     "end_time": "2025-04-05T09:49:24.206514",
     "exception": false,
     "start_time": "2025-04-05T09:49:24.167965",
     "status": "completed"
    },
    "tags": []
   },
   "source": [
    "if you supply negative number when indexing into list, it accesses items starting from the end of the list(-1) going backward:"
   ]
  },
  {
   "cell_type": "code",
   "execution_count": 81,
   "id": "dc7bd52f",
   "metadata": {
    "execution": {
     "iopub.execute_input": "2025-04-05T09:49:24.283338Z",
     "iopub.status.busy": "2025-04-05T09:49:24.282985Z",
     "iopub.status.idle": "2025-04-05T09:49:24.288314Z",
     "shell.execute_reply": "2025-04-05T09:49:24.286895Z"
    },
    "papermill": {
     "duration": 0.04578,
     "end_time": "2025-04-05T09:49:24.290114",
     "exception": false,
     "start_time": "2025-04-05T09:49:24.244334",
     "status": "completed"
    },
    "tags": []
   },
   "outputs": [
    {
     "name": "stdout",
     "output_type": "stream",
     "text": [
      "friend\n",
      "bestest\n"
     ]
    }
   ],
   "source": [
    "print(another_list[-1])\n",
    "print(another_list[-3])"
   ]
  },
  {
   "cell_type": "markdown",
   "id": "377dc792",
   "metadata": {
    "papermill": {
     "duration": 0.037855,
     "end_time": "2025-04-05T09:49:24.366363",
     "exception": false,
     "start_time": "2025-04-05T09:49:24.328508",
     "status": "completed"
    },
    "tags": []
   },
   "source": [
    "If your list contains other indexed objects, you can supply additional indexes to get items contained within the nested objects:"
   ]
  },
  {
   "cell_type": "code",
   "execution_count": 82,
   "id": "8c5db00d",
   "metadata": {
    "execution": {
     "iopub.execute_input": "2025-04-05T09:49:24.447889Z",
     "iopub.status.busy": "2025-04-05T09:49:24.447467Z",
     "iopub.status.idle": "2025-04-05T09:49:24.453508Z",
     "shell.execute_reply": "2025-04-05T09:49:24.452309Z"
    },
    "papermill": {
     "duration": 0.050167,
     "end_time": "2025-04-05T09:49:24.455617",
     "exception": false,
     "start_time": "2025-04-05T09:49:24.405450",
     "status": "completed"
    },
    "tags": []
   },
   "outputs": [
    {
     "name": "stdout",
     "output_type": "stream",
     "text": [
      "3\n"
     ]
    }
   ],
   "source": [
    "nested_list = [[1,2,3],[4,5,6],[7,8,9]]\n",
    "print(nested_list[0][2])"
   ]
  },
  {
   "cell_type": "markdown",
   "id": "711aa679",
   "metadata": {
    "papermill": {
     "duration": 0.037394,
     "end_time": "2025-04-05T09:49:24.532006",
     "exception": false,
     "start_time": "2025-04-05T09:49:24.494612",
     "status": "completed"
    },
    "tags": []
   },
   "source": [
    "You can take a slice (sequential subset) of a list using the syntax [start:stop:step] where start and stop are the starting and ending indexes for the slice and step controls how frequently you sample values along the slice. The default step size is 1, meaning you take all values in the range provided, starting from the first, up to but not including the last:"
   ]
  },
  {
   "cell_type": "code",
   "execution_count": 83,
   "id": "9b2cc144",
   "metadata": {
    "execution": {
     "iopub.execute_input": "2025-04-05T09:49:24.608419Z",
     "iopub.status.busy": "2025-04-05T09:49:24.608056Z",
     "iopub.status.idle": "2025-04-05T09:49:24.613210Z",
     "shell.execute_reply": "2025-04-05T09:49:24.612103Z"
    },
    "papermill": {
     "duration": 0.045461,
     "end_time": "2025-04-05T09:49:24.614909",
     "exception": false,
     "start_time": "2025-04-05T09:49:24.569448",
     "status": "completed"
    },
    "tags": []
   },
   "outputs": [
    {
     "name": "stdout",
     "output_type": "stream",
     "text": [
      "['my', 'bestest']\n"
     ]
    }
   ],
   "source": [
    "my_slice = another_list[1:3]    #slice index 1 and 2\n",
    "print(my_slice)"
   ]
  },
  {
   "cell_type": "code",
   "execution_count": 84,
   "id": "9d9b249e",
   "metadata": {
    "execution": {
     "iopub.execute_input": "2025-04-05T09:49:24.693397Z",
     "iopub.status.busy": "2025-04-05T09:49:24.692967Z",
     "iopub.status.idle": "2025-04-05T09:49:24.697936Z",
     "shell.execute_reply": "2025-04-05T09:49:24.696819Z"
    },
    "papermill": {
     "duration": 0.046244,
     "end_time": "2025-04-05T09:49:24.699834",
     "exception": false,
     "start_time": "2025-04-05T09:49:24.653590",
     "status": "completed"
    },
    "tags": []
   },
   "outputs": [
    {
     "name": "stdout",
     "output_type": "stream",
     "text": [
      "['Hello', 'bestest', 'friend']\n"
     ]
    }
   ],
   "source": [
    "# Slice the entire list but use step size 2 to get every other item:\n",
    "\n",
    "my_slice = another_list[0:6:2]\n",
    "print(my_slice)"
   ]
  },
  {
   "cell_type": "markdown",
   "id": "6eab7b38",
   "metadata": {
    "papermill": {
     "duration": 0.038099,
     "end_time": "2025-04-05T09:49:24.776145",
     "exception": false,
     "start_time": "2025-04-05T09:49:24.738046",
     "status": "completed"
    },
    "tags": []
   },
   "source": [
    "You can leave the starting or ending index blank to slice from the beginning or up to the end of the list respectively:"
   ]
  },
  {
   "cell_type": "code",
   "execution_count": 85,
   "id": "f7e3f0ed",
   "metadata": {
    "execution": {
     "iopub.execute_input": "2025-04-05T09:49:24.855401Z",
     "iopub.status.busy": "2025-04-05T09:49:24.854950Z",
     "iopub.status.idle": "2025-04-05T09:49:24.860349Z",
     "shell.execute_reply": "2025-04-05T09:49:24.859211Z"
    },
    "papermill": {
     "duration": 0.045968,
     "end_time": "2025-04-05T09:49:24.862281",
     "exception": false,
     "start_time": "2025-04-05T09:49:24.816313",
     "status": "completed"
    },
    "tags": []
   },
   "outputs": [
    {
     "name": "stdout",
     "output_type": "stream",
     "text": [
      "['Hello', 'my', 'bestest', 'old']\n"
     ]
    }
   ],
   "source": [
    "slice1 = another_list[:4]    #Slice everything up to index 4\n",
    "print(slice1)"
   ]
  },
  {
   "cell_type": "code",
   "execution_count": 86,
   "id": "3874867d",
   "metadata": {
    "execution": {
     "iopub.execute_input": "2025-04-05T09:49:24.940490Z",
     "iopub.status.busy": "2025-04-05T09:49:24.940153Z",
     "iopub.status.idle": "2025-04-05T09:49:24.945158Z",
     "shell.execute_reply": "2025-04-05T09:49:24.944233Z"
    },
    "papermill": {
     "duration": 0.045812,
     "end_time": "2025-04-05T09:49:24.947370",
     "exception": false,
     "start_time": "2025-04-05T09:49:24.901558",
     "status": "completed"
    },
    "tags": []
   },
   "outputs": [
    {
     "name": "stdout",
     "output_type": "stream",
     "text": [
      "['old', 'friend']\n"
     ]
    }
   ],
   "source": [
    "slice2 = another_list[3:]   #Slice everything from index 3 to the end\n",
    "print(slice2)"
   ]
  },
  {
   "cell_type": "markdown",
   "id": "530bb33a",
   "metadata": {
    "papermill": {
     "duration": 0.03837,
     "end_time": "2025-04-05T09:49:25.024732",
     "exception": false,
     "start_time": "2025-04-05T09:49:24.986362",
     "status": "completed"
    },
    "tags": []
   },
   "source": [
    "If you provide a negative number as the step, the slice steps backward:"
   ]
  },
  {
   "cell_type": "code",
   "execution_count": 87,
   "id": "1bcdd14b",
   "metadata": {
    "execution": {
     "iopub.execute_input": "2025-04-05T09:49:25.102757Z",
     "iopub.status.busy": "2025-04-05T09:49:25.102344Z",
     "iopub.status.idle": "2025-04-05T09:49:25.107811Z",
     "shell.execute_reply": "2025-04-05T09:49:25.106569Z"
    },
    "papermill": {
     "duration": 0.047107,
     "end_time": "2025-04-05T09:49:25.109910",
     "exception": false,
     "start_time": "2025-04-05T09:49:25.062803",
     "status": "completed"
    },
    "tags": []
   },
   "outputs": [
    {
     "name": "stdout",
     "output_type": "stream",
     "text": [
      "['friend', 'old']\n"
     ]
    }
   ],
   "source": [
    "# Take a slice starting at index 4, backward to index 2\n",
    "my_slice = another_list[4:2:-1]\n",
    "print(my_slice)"
   ]
  },
  {
   "cell_type": "markdown",
   "id": "2d0d5fb2",
   "metadata": {
    "papermill": {
     "duration": 0.037498,
     "end_time": "2025-04-05T09:49:25.188652",
     "exception": false,
     "start_time": "2025-04-05T09:49:25.151154",
     "status": "completed"
    },
    "tags": []
   },
   "source": [
    "if you don't provide a start or ending index, you slice of the entire list:"
   ]
  },
  {
   "cell_type": "code",
   "execution_count": 88,
   "id": "192e3c8e",
   "metadata": {
    "execution": {
     "iopub.execute_input": "2025-04-05T09:49:25.267849Z",
     "iopub.status.busy": "2025-04-05T09:49:25.267444Z",
     "iopub.status.idle": "2025-04-05T09:49:25.272787Z",
     "shell.execute_reply": "2025-04-05T09:49:25.271427Z"
    },
    "papermill": {
     "duration": 0.047266,
     "end_time": "2025-04-05T09:49:25.274696",
     "exception": false,
     "start_time": "2025-04-05T09:49:25.227430",
     "status": "completed"
    },
    "tags": []
   },
   "outputs": [
    {
     "name": "stdout",
     "output_type": "stream",
     "text": [
      "['Hello', 'my', 'bestest', 'old', 'friend']\n"
     ]
    }
   ],
   "source": [
    "my_slice = another_list[:]   #This slice operation copies the list\n",
    "print(my_slice)"
   ]
  },
  {
   "cell_type": "markdown",
   "id": "b342d420",
   "metadata": {
    "papermill": {
     "duration": 0.039313,
     "end_time": "2025-04-05T09:49:25.353062",
     "exception": false,
     "start_time": "2025-04-05T09:49:25.313749",
     "status": "completed"
    },
    "tags": []
   },
   "source": [
    "Using a step of -1 without a starting or ending index slices the entire list in reverse, providing a shorthand to a reverse a list:"
   ]
  },
  {
   "cell_type": "code",
   "execution_count": 89,
   "id": "36bac2bb",
   "metadata": {
    "execution": {
     "iopub.execute_input": "2025-04-05T09:49:25.436677Z",
     "iopub.status.busy": "2025-04-05T09:49:25.436236Z",
     "iopub.status.idle": "2025-04-05T09:49:25.442646Z",
     "shell.execute_reply": "2025-04-05T09:49:25.440684Z"
    },
    "papermill": {
     "duration": 0.05057,
     "end_time": "2025-04-05T09:49:25.444504",
     "exception": false,
     "start_time": "2025-04-05T09:49:25.393934",
     "status": "completed"
    },
    "tags": []
   },
   "outputs": [
    {
     "name": "stdout",
     "output_type": "stream",
     "text": [
      "['friend', 'old', 'bestest', 'my', 'Hello']\n"
     ]
    }
   ],
   "source": [
    "my_slice = another_list[::-1]  #This slice operation reverses the list\n",
    "print(my_slice)"
   ]
  },
  {
   "cell_type": "markdown",
   "id": "173f78a8",
   "metadata": {
    "papermill": {
     "duration": 0.03917,
     "end_time": "2025-04-05T09:49:25.522343",
     "exception": false,
     "start_time": "2025-04-05T09:49:25.483173",
     "status": "completed"
    },
    "tags": []
   },
   "source": [
    "You can use indexing to change the values within a list or delete items in a list:"
   ]
  },
  {
   "cell_type": "code",
   "execution_count": 90,
   "id": "ca1e82d3",
   "metadata": {
    "execution": {
     "iopub.execute_input": "2025-04-05T09:49:25.604962Z",
     "iopub.status.busy": "2025-04-05T09:49:25.604601Z",
     "iopub.status.idle": "2025-04-05T09:49:25.610224Z",
     "shell.execute_reply": "2025-04-05T09:49:25.609105Z"
    },
    "papermill": {
     "duration": 0.049053,
     "end_time": "2025-04-05T09:49:25.611984",
     "exception": false,
     "start_time": "2025-04-05T09:49:25.562931",
     "status": "completed"
    },
    "tags": []
   },
   "outputs": [
    {
     "name": "stdout",
     "output_type": "stream",
     "text": [
      "['Hello', 'my', 'bestest', 'new', 'friend']\n",
      "['Hello', 'my', 'bestest', 'friend']\n"
     ]
    }
   ],
   "source": [
    "another_list[3] = \"new\"   #Set the value at index 3 to \"new\"\n",
    "print(another_list)\n",
    "del(another_list[3])      #delete the item at index 3\n",
    "print(another_list)"
   ]
  },
  {
   "cell_type": "markdown",
   "id": "40b0d8e8",
   "metadata": {
    "papermill": {
     "duration": 0.03764,
     "end_time": "2025-04-05T09:49:25.688200",
     "exception": false,
     "start_time": "2025-04-05T09:49:25.650560",
     "status": "completed"
    },
    "tags": []
   },
   "source": [
    "You can also remove items from a list using the list.pop() function. pop() removes the final item in a list and returns it:"
   ]
  },
  {
   "cell_type": "code",
   "execution_count": 91,
   "id": "dc33c06a",
   "metadata": {
    "execution": {
     "iopub.execute_input": "2025-04-05T09:49:25.765338Z",
     "iopub.status.busy": "2025-04-05T09:49:25.764945Z",
     "iopub.status.idle": "2025-04-05T09:49:25.770821Z",
     "shell.execute_reply": "2025-04-05T09:49:25.769376Z"
    },
    "papermill": {
     "duration": 0.046665,
     "end_time": "2025-04-05T09:49:25.772767",
     "exception": false,
     "start_time": "2025-04-05T09:49:25.726102",
     "status": "completed"
    },
    "tags": []
   },
   "outputs": [
    {
     "name": "stdout",
     "output_type": "stream",
     "text": [
      "friend\n",
      "['Hello', 'my', 'bestest']\n"
     ]
    }
   ],
   "source": [
    "next_item = another_list.pop()\n",
    "print(next_item)\n",
    "print(another_list)"
   ]
  },
  {
   "cell_type": "markdown",
   "id": "2e347e31",
   "metadata": {
    "papermill": {
     "duration": 0.038076,
     "end_time": "2025-04-05T09:49:25.849854",
     "exception": false,
     "start_time": "2025-04-05T09:49:25.811778",
     "status": "completed"
    },
    "tags": []
   },
   "source": [
    "Notice that the list resizes itself dynamically as you delete or add items to it. Appeding items to lists and removing items from the end of list with list.pop() are very fast operations. Deleting items at the front of a list or within the body of a lists is much slower."
   ]
  },
  {
   "cell_type": "markdown",
   "id": "62c8ac4f",
   "metadata": {
    "papermill": {
     "duration": 0.038993,
     "end_time": "2025-04-05T09:49:25.928332",
     "exception": false,
     "start_time": "2025-04-05T09:49:25.889339",
     "status": "completed"
    },
    "tags": []
   },
   "source": [
    "# Copying Lists"
   ]
  },
  {
   "cell_type": "markdown",
   "id": "10447717",
   "metadata": {
    "papermill": {
     "duration": 0.039014,
     "end_time": "2025-04-05T09:49:26.009188",
     "exception": false,
     "start_time": "2025-04-05T09:49:25.970174",
     "status": "completed"
    },
    "tags": []
   },
   "source": [
    "In the code above, we saw that we can slice an entire list using the [:] indexing operation. You can also copy a list using the list.copy() function:"
   ]
  },
  {
   "cell_type": "code",
   "execution_count": 92,
   "id": "1b209de9",
   "metadata": {
    "execution": {
     "iopub.execute_input": "2025-04-05T09:49:26.086726Z",
     "iopub.status.busy": "2025-04-05T09:49:26.086326Z",
     "iopub.status.idle": "2025-04-05T09:49:26.093118Z",
     "shell.execute_reply": "2025-04-05T09:49:26.091770Z"
    },
    "papermill": {
     "duration": 0.04779,
     "end_time": "2025-04-05T09:49:26.095148",
     "exception": false,
     "start_time": "2025-04-05T09:49:26.047358",
     "status": "completed"
    },
    "tags": []
   },
   "outputs": [
    {
     "name": "stdout",
     "output_type": "stream",
     "text": [
      "list1: [1, 2, 3, 4]\n",
      "List2: [1, 2, 3]\n"
     ]
    }
   ],
   "source": [
    "list1 = [1,2,3]                     #Make a list\n",
    "list2 = list1.copy()                #Copy the list\n",
    "\n",
    "list1.append(4)                     #Add an item to list1\n",
    "print(\"list1:\",list1)               #Print both lists\n",
    "print(\"List2:\",list2)"
   ]
  },
  {
   "cell_type": "code",
   "execution_count": 93,
   "id": "61766173",
   "metadata": {
    "execution": {
     "iopub.execute_input": "2025-04-05T09:49:26.173759Z",
     "iopub.status.busy": "2025-04-05T09:49:26.173368Z",
     "iopub.status.idle": "2025-04-05T09:49:26.181417Z",
     "shell.execute_reply": "2025-04-05T09:49:26.180304Z"
    },
    "papermill": {
     "duration": 0.049371,
     "end_time": "2025-04-05T09:49:26.183128",
     "exception": false,
     "start_time": "2025-04-05T09:49:26.133757",
     "status": "completed"
    },
    "tags": []
   },
   "outputs": [
    {
     "name": "stdout",
     "output_type": "stream",
     "text": [
      "Before appending to list1: \n",
      "List2:  ['List within a list', [1, 2, 3]]\n",
      "List3:  ['List within a list', [1, 2, 3]] \n",
      "\n",
      "After appending to list1: \n",
      "List2:  ['List within a list', [1, 2, 3, 4]]\n",
      "List3:  ['List within a list', [1, 2, 3, 4]]\n"
     ]
    }
   ],
   "source": [
    "list1 = [1,2,3]              #Make a list\n",
    "\n",
    "list2 = [\"List within a list\", list1]   #Nest it in another list\n",
    "\n",
    "list3 = list2.copy()         #Shallow copy list2\n",
    "\n",
    "print(\"Before appending to list1: \")\n",
    "print(\"List2: \",list2)\n",
    "print(\"List3: \",list3,\"\\n\")\n",
    "\n",
    "list1.append(4)             #Add an item to list1\n",
    "print(\"After appending to list1: \")\n",
    "print(\"List2: \",list2)\n",
    "print(\"List3: \",list3)"
   ]
  },
  {
   "cell_type": "markdown",
   "id": "2596f3e0",
   "metadata": {
    "papermill": {
     "duration": 0.038879,
     "end_time": "2025-04-05T09:49:26.260997",
     "exception": false,
     "start_time": "2025-04-05T09:49:26.222118",
     "status": "completed"
    },
    "tags": []
   },
   "source": [
    "Notice that when we use a shallow copy on list2, the second element of list2 and its copy both refer to list1. Thus, when we append a new value into list1, the second element of list2 and the copy, list3, both change. When you are working with nested lists, you have to make a \"deepcopy\" if you want to truly copy nested objects in the original to avoid this behaviour of shallow copies.\n",
    "\n",
    "You can make a deep copy using the deepcopy() function in the copy library:"
   ]
  },
  {
   "cell_type": "code",
   "execution_count": 94,
   "id": "b76c373f",
   "metadata": {
    "execution": {
     "iopub.execute_input": "2025-04-05T09:49:26.339084Z",
     "iopub.status.busy": "2025-04-05T09:49:26.338673Z",
     "iopub.status.idle": "2025-04-05T09:49:26.346772Z",
     "shell.execute_reply": "2025-04-05T09:49:26.345670Z"
    },
    "papermill": {
     "duration": 0.049189,
     "end_time": "2025-04-05T09:49:26.348586",
     "exception": false,
     "start_time": "2025-04-05T09:49:26.299397",
     "status": "completed"
    },
    "tags": []
   },
   "outputs": [
    {
     "name": "stdout",
     "output_type": "stream",
     "text": [
      "Before appending to list1: \n",
      "List2:  ['List within a list', [1, 2, 3]]\n",
      "List3:  ['List within a list', [1, 2, 3]] \n",
      "\n",
      "After appending to list1: \n",
      "List2:  ['List within a list', [1, 2, 3, 4]]\n",
      "List3:  ['List within a list', [1, 2, 3]]\n"
     ]
    }
   ],
   "source": [
    "import copy           # Load the copy module\n",
    "\n",
    "list1 = [1,2,3]       #Make a list\n",
    "list2 = [\"List within a list\", list1]   #Nest it in another list\n",
    "list3 = copy.deepcopy(list2)   #Deep copy list2\n",
    "\n",
    "print(\"Before appending to list1: \")\n",
    "print(\"List2: \",list2)\n",
    "print(\"List3: \",list3, \"\\n\")\n",
    "\n",
    "list1.append(4)       #Add an item to list1\n",
    "print(\"After appending to list1: \")\n",
    "print(\"List2: \",list2)\n",
    "print(\"List3: \",list3)"
   ]
  },
  {
   "cell_type": "markdown",
   "id": "9d0b3165",
   "metadata": {
    "papermill": {
     "duration": 0.038555,
     "end_time": "2025-04-05T09:49:26.426921",
     "exception": false,
     "start_time": "2025-04-05T09:49:26.388366",
     "status": "completed"
    },
    "tags": []
   },
   "source": [
    "# Tuples"
   ]
  },
  {
   "cell_type": "markdown",
   "id": "ad096ea9",
   "metadata": {
    "papermill": {
     "duration": 0.039564,
     "end_time": "2025-04-05T09:49:26.506024",
     "exception": false,
     "start_time": "2025-04-05T09:49:26.466460",
     "status": "completed"
    },
    "tags": []
   },
   "source": [
    "Tuples are an immutable sequence data type that are commonly used to hold short collections of releated data. For instance, if you wanted to store latitude and longitude coordinates for cities, tuples might be a good choice, because the values are related and not likely to change. Like lists, tuples can store objects of different types.\n",
    "\n",
    "Construct a tuple with a comma separated sequence of objects with parenthesis."
   ]
  },
  {
   "cell_type": "code",
   "execution_count": 95,
   "id": "1f8e2243",
   "metadata": {
    "execution": {
     "iopub.execute_input": "2025-04-05T09:49:26.583718Z",
     "iopub.status.busy": "2025-04-05T09:49:26.583295Z",
     "iopub.status.idle": "2025-04-05T09:49:26.588062Z",
     "shell.execute_reply": "2025-04-05T09:49:26.586897Z"
    },
    "papermill": {
     "duration": 0.045646,
     "end_time": "2025-04-05T09:49:26.589727",
     "exception": false,
     "start_time": "2025-04-05T09:49:26.544081",
     "status": "completed"
    },
    "tags": []
   },
   "outputs": [
    {
     "name": "stdout",
     "output_type": "stream",
     "text": [
      "(1, 3, 5)\n"
     ]
    }
   ],
   "source": [
    "my_tuple = (1,3,5)\n",
    "print(my_tuple)"
   ]
  },
  {
   "cell_type": "markdown",
   "id": "80092aa7",
   "metadata": {
    "papermill": {
     "duration": 0.038049,
     "end_time": "2025-04-05T09:49:26.666501",
     "exception": false,
     "start_time": "2025-04-05T09:49:26.628452",
     "status": "completed"
    },
    "tags": []
   },
   "source": [
    "Alternatively, you can construct a tuple by passing an iterable into the tuple() function:"
   ]
  },
  {
   "cell_type": "code",
   "execution_count": 96,
   "id": "da5015fc",
   "metadata": {
    "execution": {
     "iopub.execute_input": "2025-04-05T09:49:26.745724Z",
     "iopub.status.busy": "2025-04-05T09:49:26.745322Z",
     "iopub.status.idle": "2025-04-05T09:49:26.751467Z",
     "shell.execute_reply": "2025-04-05T09:49:26.750439Z"
    },
    "papermill": {
     "duration": 0.047929,
     "end_time": "2025-04-05T09:49:26.753120",
     "exception": false,
     "start_time": "2025-04-05T09:49:26.705191",
     "status": "completed"
    },
    "tags": []
   },
   "outputs": [
    {
     "data": {
      "text/plain": [
       "(2, 3, 1, 4)"
      ]
     },
     "execution_count": 96,
     "metadata": {},
     "output_type": "execute_result"
    }
   ],
   "source": [
    "my_list = [2,3,1,4]\n",
    "another_tuple = tuple(my_list)\n",
    "another_tuple"
   ]
  },
  {
   "cell_type": "markdown",
   "id": "cfa9e084",
   "metadata": {
    "papermill": {
     "duration": 0.040277,
     "end_time": "2025-04-05T09:49:26.832919",
     "exception": false,
     "start_time": "2025-04-05T09:49:26.792642",
     "status": "completed"
    },
    "tags": []
   },
   "source": [
    "Tuples generally support the same indexing and slicing operations as lists and they also support some of the same functions, with the caveat that tuples cannot be changed after they are created.  This means we can do things like find the length, max or min of a tuple, but we can't append new values to them or remove values from them :"
   ]
  },
  {
   "cell_type": "code",
   "execution_count": 97,
   "id": "f57e80a5",
   "metadata": {
    "execution": {
     "iopub.execute_input": "2025-04-05T09:49:26.914439Z",
     "iopub.status.busy": "2025-04-05T09:49:26.914017Z",
     "iopub.status.idle": "2025-04-05T09:49:26.920500Z",
     "shell.execute_reply": "2025-04-05T09:49:26.919317Z"
    },
    "papermill": {
     "duration": 0.04963,
     "end_time": "2025-04-05T09:49:26.922429",
     "exception": false,
     "start_time": "2025-04-05T09:49:26.872799",
     "status": "completed"
    },
    "tags": []
   },
   "outputs": [
    {
     "data": {
      "text/plain": [
       "1"
      ]
     },
     "execution_count": 97,
     "metadata": {},
     "output_type": "execute_result"
    }
   ],
   "source": [
    "another_tuple[2]     #You can index into tuples"
   ]
  },
  {
   "cell_type": "code",
   "execution_count": 98,
   "id": "a45e594e",
   "metadata": {
    "execution": {
     "iopub.execute_input": "2025-04-05T09:49:27.006191Z",
     "iopub.status.busy": "2025-04-05T09:49:27.005802Z",
     "iopub.status.idle": "2025-04-05T09:49:27.011595Z",
     "shell.execute_reply": "2025-04-05T09:49:27.010569Z"
    },
    "papermill": {
     "duration": 0.048373,
     "end_time": "2025-04-05T09:49:27.013408",
     "exception": false,
     "start_time": "2025-04-05T09:49:26.965035",
     "status": "completed"
    },
    "tags": []
   },
   "outputs": [
    {
     "data": {
      "text/plain": [
       "(1, 4)"
      ]
     },
     "execution_count": 98,
     "metadata": {},
     "output_type": "execute_result"
    }
   ],
   "source": [
    "another_tuple[2:4]    #You can slice tuples"
   ]
  },
  {
   "cell_type": "code",
   "execution_count": 99,
   "id": "ef775bdc",
   "metadata": {
    "execution": {
     "iopub.execute_input": "2025-04-05T09:49:27.094271Z",
     "iopub.status.busy": "2025-04-05T09:49:27.093829Z",
     "iopub.status.idle": "2025-04-05T09:49:27.099085Z",
     "shell.execute_reply": "2025-04-05T09:49:27.097799Z"
    },
    "papermill": {
     "duration": 0.047916,
     "end_time": "2025-04-05T09:49:27.101168",
     "exception": false,
     "start_time": "2025-04-05T09:49:27.053252",
     "status": "completed"
    },
    "tags": []
   },
   "outputs": [
    {
     "name": "stdout",
     "output_type": "stream",
     "text": [
      "4\n",
      "1\n",
      "4\n",
      "10\n"
     ]
    }
   ],
   "source": [
    "# You can use common sequence functions on tuples:\n",
    "\n",
    "print(len(another_tuple))\n",
    "print(min(another_tuple))\n",
    "print(max(another_tuple))\n",
    "print(sum(another_tuple))"
   ]
  },
  {
   "cell_type": "code",
   "execution_count": 100,
   "id": "8915e34b",
   "metadata": {
    "execution": {
     "iopub.execute_input": "2025-04-05T09:49:27.184020Z",
     "iopub.status.busy": "2025-04-05T09:49:27.183679Z",
     "iopub.status.idle": "2025-04-05T09:49:27.187315Z",
     "shell.execute_reply": "2025-04-05T09:49:27.186424Z"
    },
    "papermill": {
     "duration": 0.046146,
     "end_time": "2025-04-05T09:49:27.189155",
     "exception": false,
     "start_time": "2025-04-05T09:49:27.143009",
     "status": "completed"
    },
    "tags": []
   },
   "outputs": [],
   "source": [
    "#another_tuple.append(1)     #You can't append to a tuple\n",
    "#You cannot append to a tuple"
   ]
  },
  {
   "cell_type": "code",
   "execution_count": 101,
   "id": "ebc0507b",
   "metadata": {
    "execution": {
     "iopub.execute_input": "2025-04-05T09:49:27.270567Z",
     "iopub.status.busy": "2025-04-05T09:49:27.270185Z",
     "iopub.status.idle": "2025-04-05T09:49:27.274253Z",
     "shell.execute_reply": "2025-04-05T09:49:27.273184Z"
    },
    "papermill": {
     "duration": 0.045734,
     "end_time": "2025-04-05T09:49:27.275913",
     "exception": false,
     "start_time": "2025-04-05T09:49:27.230179",
     "status": "completed"
    },
    "tags": []
   },
   "outputs": [],
   "source": [
    "#del another_tuple[1] \n",
    "# You can't delete from a tuple"
   ]
  },
  {
   "cell_type": "markdown",
   "id": "a2b5509b",
   "metadata": {
    "papermill": {
     "duration": 0.039645,
     "end_time": "2025-04-05T09:49:27.356610",
     "exception": false,
     "start_time": "2025-04-05T09:49:27.316965",
     "status": "completed"
    },
    "tags": []
   },
   "source": [
    "# Strings"
   ]
  },
  {
   "cell_type": "markdown",
   "id": "98338ce0",
   "metadata": {
    "papermill": {
     "duration": 0.040494,
     "end_time": "2025-04-05T09:49:27.437248",
     "exception": false,
     "start_time": "2025-04-05T09:49:27.396754",
     "status": "completed"
    },
    "tags": []
   },
   "source": [
    "Strings are technically sequences: immutable sequences of text characters. As sequences, they support indexing operations where the first character of a string is index 0. This means we can get individual letters or slices of letters with indexing:"
   ]
  },
  {
   "cell_type": "code",
   "execution_count": 102,
   "id": "6e6b0f1e",
   "metadata": {
    "execution": {
     "iopub.execute_input": "2025-04-05T09:49:27.517968Z",
     "iopub.status.busy": "2025-04-05T09:49:27.517609Z",
     "iopub.status.idle": "2025-04-05T09:49:27.523085Z",
     "shell.execute_reply": "2025-04-05T09:49:27.522219Z"
    },
    "papermill": {
     "duration": 0.046841,
     "end_time": "2025-04-05T09:49:27.524516",
     "exception": false,
     "start_time": "2025-04-05T09:49:27.477675",
     "status": "completed"
    },
    "tags": []
   },
   "outputs": [
    {
     "data": {
      "text/plain": [
       "'l'"
      ]
     },
     "execution_count": 102,
     "metadata": {},
     "output_type": "execute_result"
    }
   ],
   "source": [
    "my_string = \"Hello World\"\n",
    "my_string[3]   #get the character at index 3"
   ]
  },
  {
   "cell_type": "code",
   "execution_count": 103,
   "id": "f7f86302",
   "metadata": {
    "execution": {
     "iopub.execute_input": "2025-04-05T09:49:27.604270Z",
     "iopub.status.busy": "2025-04-05T09:49:27.603915Z",
     "iopub.status.idle": "2025-04-05T09:49:27.609637Z",
     "shell.execute_reply": "2025-04-05T09:49:27.608623Z"
    },
    "papermill": {
     "duration": 0.047487,
     "end_time": "2025-04-05T09:49:27.611315",
     "exception": false,
     "start_time": "2025-04-05T09:49:27.563828",
     "status": "completed"
    },
    "tags": []
   },
   "outputs": [
    {
     "data": {
      "text/plain": [
       "'lo World'"
      ]
     },
     "execution_count": 103,
     "metadata": {},
     "output_type": "execute_result"
    }
   ],
   "source": [
    "my_string[3:]  #slice from the third index to the end"
   ]
  },
  {
   "cell_type": "code",
   "execution_count": 104,
   "id": "9b839a3a",
   "metadata": {
    "execution": {
     "iopub.execute_input": "2025-04-05T09:49:27.691578Z",
     "iopub.status.busy": "2025-04-05T09:49:27.691157Z",
     "iopub.status.idle": "2025-04-05T09:49:27.697046Z",
     "shell.execute_reply": "2025-04-05T09:49:27.695916Z"
    },
    "papermill": {
     "duration": 0.047984,
     "end_time": "2025-04-05T09:49:27.698748",
     "exception": false,
     "start_time": "2025-04-05T09:49:27.650764",
     "status": "completed"
    },
    "tags": []
   },
   "outputs": [
    {
     "data": {
      "text/plain": [
       "'dlroW olleH'"
      ]
     },
     "execution_count": 104,
     "metadata": {},
     "output_type": "execute_result"
    }
   ],
   "source": [
    "my_string[::-1]   #reverse the string"
   ]
  },
  {
   "cell_type": "markdown",
   "id": "55cd0ed1",
   "metadata": {
    "papermill": {
     "duration": 0.039694,
     "end_time": "2025-04-05T09:49:27.778775",
     "exception": false,
     "start_time": "2025-04-05T09:49:27.739081",
     "status": "completed"
    },
    "tags": []
   },
   "source": [
    "In addition, certain sequence function like len() and count() work on strings:"
   ]
  },
  {
   "cell_type": "code",
   "execution_count": 105,
   "id": "69f8f561",
   "metadata": {
    "execution": {
     "iopub.execute_input": "2025-04-05T09:49:27.929844Z",
     "iopub.status.busy": "2025-04-05T09:49:27.929435Z",
     "iopub.status.idle": "2025-04-05T09:49:27.935352Z",
     "shell.execute_reply": "2025-04-05T09:49:27.934234Z"
    },
    "papermill": {
     "duration": 0.057577,
     "end_time": "2025-04-05T09:49:27.937164",
     "exception": false,
     "start_time": "2025-04-05T09:49:27.879587",
     "status": "completed"
    },
    "tags": []
   },
   "outputs": [
    {
     "data": {
      "text/plain": [
       "11"
      ]
     },
     "execution_count": 105,
     "metadata": {},
     "output_type": "execute_result"
    }
   ],
   "source": [
    "len(my_string)"
   ]
  },
  {
   "cell_type": "code",
   "execution_count": 106,
   "id": "3270217f",
   "metadata": {
    "execution": {
     "iopub.execute_input": "2025-04-05T09:49:28.020407Z",
     "iopub.status.busy": "2025-04-05T09:49:28.020021Z",
     "iopub.status.idle": "2025-04-05T09:49:28.026431Z",
     "shell.execute_reply": "2025-04-05T09:49:28.025039Z"
    },
    "papermill": {
     "duration": 0.049568,
     "end_time": "2025-04-05T09:49:28.028319",
     "exception": false,
     "start_time": "2025-04-05T09:49:27.978751",
     "status": "completed"
    },
    "tags": []
   },
   "outputs": [
    {
     "data": {
      "text/plain": [
       "3"
      ]
     },
     "execution_count": 106,
     "metadata": {},
     "output_type": "execute_result"
    }
   ],
   "source": [
    "my_string.count(\"l\")    #Count the l's in the string"
   ]
  },
  {
   "cell_type": "markdown",
   "id": "324b7910",
   "metadata": {
    "papermill": {
     "duration": 0.057621,
     "end_time": "2025-04-05T09:49:28.132865",
     "exception": false,
     "start_time": "2025-04-05T09:49:28.075244",
     "status": "completed"
    },
    "tags": []
   },
   "source": [
    "As immutable objects, you can't change a string itself: everytime you transform a string with function, Python makes a new string object, rather than actually altering the original string that exists in your computer's memory."
   ]
  },
  {
   "cell_type": "markdown",
   "id": "c969b395",
   "metadata": {
    "papermill": {
     "duration": 0.039588,
     "end_time": "2025-04-05T09:49:28.221264",
     "exception": false,
     "start_time": "2025-04-05T09:49:28.181676",
     "status": "completed"
    },
    "tags": []
   },
   "source": [
    "Strings have many associated functions. Some basic string functions include:"
   ]
  },
  {
   "cell_type": "code",
   "execution_count": 107,
   "id": "a5b35fe0",
   "metadata": {
    "execution": {
     "iopub.execute_input": "2025-04-05T09:49:28.302799Z",
     "iopub.status.busy": "2025-04-05T09:49:28.302408Z",
     "iopub.status.idle": "2025-04-05T09:49:28.308274Z",
     "shell.execute_reply": "2025-04-05T09:49:28.307226Z"
    },
    "papermill": {
     "duration": 0.048774,
     "end_time": "2025-04-05T09:49:28.310098",
     "exception": false,
     "start_time": "2025-04-05T09:49:28.261324",
     "status": "completed"
    },
    "tags": []
   },
   "outputs": [
    {
     "data": {
      "text/plain": [
       "'hello world'"
      ]
     },
     "execution_count": 107,
     "metadata": {},
     "output_type": "execute_result"
    }
   ],
   "source": [
    "#str.lower()\n",
    "my_string.lower()   #Make all characters lowercase"
   ]
  },
  {
   "cell_type": "code",
   "execution_count": 108,
   "id": "6dd20492",
   "metadata": {
    "execution": {
     "iopub.execute_input": "2025-04-05T09:49:28.393426Z",
     "iopub.status.busy": "2025-04-05T09:49:28.393055Z",
     "iopub.status.idle": "2025-04-05T09:49:28.398585Z",
     "shell.execute_reply": "2025-04-05T09:49:28.397549Z"
    },
    "papermill": {
     "duration": 0.048414,
     "end_time": "2025-04-05T09:49:28.400161",
     "exception": false,
     "start_time": "2025-04-05T09:49:28.351747",
     "status": "completed"
    },
    "tags": []
   },
   "outputs": [
    {
     "data": {
      "text/plain": [
       "'HELLO WORLD'"
      ]
     },
     "execution_count": 108,
     "metadata": {},
     "output_type": "execute_result"
    }
   ],
   "source": [
    "#str.upper()\n",
    "my_string.upper()  #Make all characters uppercase"
   ]
  },
  {
   "cell_type": "code",
   "execution_count": 109,
   "id": "cbe7c88d",
   "metadata": {
    "execution": {
     "iopub.execute_input": "2025-04-05T09:49:28.482393Z",
     "iopub.status.busy": "2025-04-05T09:49:28.482020Z",
     "iopub.status.idle": "2025-04-05T09:49:28.487918Z",
     "shell.execute_reply": "2025-04-05T09:49:28.486672Z"
    },
    "papermill": {
     "duration": 0.049308,
     "end_time": "2025-04-05T09:49:28.489791",
     "exception": false,
     "start_time": "2025-04-05T09:49:28.440483",
     "status": "completed"
    },
    "tags": []
   },
   "outputs": [
    {
     "data": {
      "text/plain": [
       "'Hello World'"
      ]
     },
     "execution_count": 109,
     "metadata": {},
     "output_type": "execute_result"
    }
   ],
   "source": [
    "#str.title()\n",
    "my_string.title()  #Mak the first letter of each word upper"
   ]
  },
  {
   "cell_type": "markdown",
   "id": "26aef6c1",
   "metadata": {
    "papermill": {
     "duration": 0.040075,
     "end_time": "2025-04-05T09:49:28.570073",
     "exception": false,
     "start_time": "2025-04-05T09:49:28.529998",
     "status": "completed"
    },
    "tags": []
   },
   "source": [
    "Find the index of the first appearing substring within a string using str.find(). If the substring does not appear, find() returns -1:"
   ]
  },
  {
   "cell_type": "code",
   "execution_count": 110,
   "id": "6552f34c",
   "metadata": {
    "execution": {
     "iopub.execute_input": "2025-04-05T09:49:28.657690Z",
     "iopub.status.busy": "2025-04-05T09:49:28.657275Z",
     "iopub.status.idle": "2025-04-05T09:49:28.663091Z",
     "shell.execute_reply": "2025-04-05T09:49:28.662102Z"
    },
    "papermill": {
     "duration": 0.050157,
     "end_time": "2025-04-05T09:49:28.664604",
     "exception": false,
     "start_time": "2025-04-05T09:49:28.614447",
     "status": "completed"
    },
    "tags": []
   },
   "outputs": [
    {
     "data": {
      "text/plain": [
       "-1"
      ]
     },
     "execution_count": 110,
     "metadata": {},
     "output_type": "execute_result"
    }
   ],
   "source": [
    "my_string.find(\"S\")"
   ]
  },
  {
   "cell_type": "markdown",
   "id": "dfce948b",
   "metadata": {
    "papermill": {
     "duration": 0.039957,
     "end_time": "2025-04-05T09:49:28.744799",
     "exception": false,
     "start_time": "2025-04-05T09:49:28.704842",
     "status": "completed"
    },
    "tags": []
   },
   "source": [
    "Notice that since strings are immutable, we never actually changed the original value of my_string with any of the code above, but instead generated new strings that were printed to the console. This means \"S\" does not exist in my_string even through our call to str.title() produced the output 'Hello World'. "
   ]
  },
  {
   "cell_type": "code",
   "execution_count": 111,
   "id": "6584eebf",
   "metadata": {
    "execution": {
     "iopub.execute_input": "2025-04-05T09:49:28.829184Z",
     "iopub.status.busy": "2025-04-05T09:49:28.828816Z",
     "iopub.status.idle": "2025-04-05T09:49:28.834523Z",
     "shell.execute_reply": "2025-04-05T09:49:28.833649Z"
    },
    "papermill": {
     "duration": 0.049456,
     "end_time": "2025-04-05T09:49:28.836100",
     "exception": false,
     "start_time": "2025-04-05T09:49:28.786644",
     "status": "completed"
    },
    "tags": []
   },
   "outputs": [
    {
     "data": {
      "text/plain": [
       "6"
      ]
     },
     "execution_count": 111,
     "metadata": {},
     "output_type": "execute_result"
    }
   ],
   "source": [
    "my_string.find(\"W\")"
   ]
  },
  {
   "cell_type": "markdown",
   "id": "61cfa98d",
   "metadata": {
    "papermill": {
     "duration": 0.040553,
     "end_time": "2025-04-05T09:49:28.918877",
     "exception": false,
     "start_time": "2025-04-05T09:49:28.878324",
     "status": "completed"
    },
    "tags": []
   },
   "source": [
    "Find and replace a target substring within a string using str.replace()\""
   ]
  },
  {
   "cell_type": "code",
   "execution_count": 112,
   "id": "0d6e8f6a",
   "metadata": {
    "execution": {
     "iopub.execute_input": "2025-04-05T09:49:29.002965Z",
     "iopub.status.busy": "2025-04-05T09:49:29.002618Z",
     "iopub.status.idle": "2025-04-05T09:49:29.008689Z",
     "shell.execute_reply": "2025-04-05T09:49:29.007663Z"
    },
    "papermill": {
     "duration": 0.049596,
     "end_time": "2025-04-05T09:49:29.010261",
     "exception": false,
     "start_time": "2025-04-05T09:49:28.960665",
     "status": "completed"
    },
    "tags": []
   },
   "outputs": [
    {
     "data": {
      "text/plain": [
       "'Hello friend'"
      ]
     },
     "execution_count": 112,
     "metadata": {},
     "output_type": "execute_result"
    }
   ],
   "source": [
    "my_string = \"Hello world\"\n",
    "my_string.replace(\"world\",     #Substring to replace\n",
    "                \"friend\")      #New Substring"
   ]
  },
  {
   "cell_type": "markdown",
   "id": "fdbc7bfe",
   "metadata": {
    "papermill": {
     "duration": 0.040604,
     "end_time": "2025-04-05T09:49:29.092642",
     "exception": false,
     "start_time": "2025-04-05T09:49:29.052038",
     "status": "completed"
    },
    "tags": []
   },
   "source": [
    "Split a string into a list of substrings based on a given separating character with str.split():"
   ]
  },
  {
   "cell_type": "code",
   "execution_count": 113,
   "id": "5be779d6",
   "metadata": {
    "execution": {
     "iopub.execute_input": "2025-04-05T09:49:29.186877Z",
     "iopub.status.busy": "2025-04-05T09:49:29.186458Z",
     "iopub.status.idle": "2025-04-05T09:49:29.192846Z",
     "shell.execute_reply": "2025-04-05T09:49:29.191616Z"
    },
    "papermill": {
     "duration": 0.060241,
     "end_time": "2025-04-05T09:49:29.194709",
     "exception": false,
     "start_time": "2025-04-05T09:49:29.134468",
     "status": "completed"
    },
    "tags": []
   },
   "outputs": [
    {
     "data": {
      "text/plain": [
       "['Hello', 'world']"
      ]
     },
     "execution_count": 113,
     "metadata": {},
     "output_type": "execute_result"
    }
   ],
   "source": [
    "my_string.split()    #str.split() splits on spaces by default"
   ]
  },
  {
   "cell_type": "code",
   "execution_count": 114,
   "id": "95db1e1c",
   "metadata": {
    "execution": {
     "iopub.execute_input": "2025-04-05T09:49:29.279737Z",
     "iopub.status.busy": "2025-04-05T09:49:29.279343Z",
     "iopub.status.idle": "2025-04-05T09:49:29.285245Z",
     "shell.execute_reply": "2025-04-05T09:49:29.284188Z"
    },
    "papermill": {
     "duration": 0.049412,
     "end_time": "2025-04-05T09:49:29.287008",
     "exception": false,
     "start_time": "2025-04-05T09:49:29.237596",
     "status": "completed"
    },
    "tags": []
   },
   "outputs": [
    {
     "data": {
      "text/plain": [
       "['Hello world']"
      ]
     },
     "execution_count": 114,
     "metadata": {},
     "output_type": "execute_result"
    }
   ],
   "source": [
    "my_string.split(\"_\") "
   ]
  },
  {
   "cell_type": "code",
   "execution_count": 115,
   "id": "dab2b7b5",
   "metadata": {
    "execution": {
     "iopub.execute_input": "2025-04-05T09:49:29.371869Z",
     "iopub.status.busy": "2025-04-05T09:49:29.371437Z",
     "iopub.status.idle": "2025-04-05T09:49:29.377398Z",
     "shell.execute_reply": "2025-04-05T09:49:29.376342Z"
    },
    "papermill": {
     "duration": 0.050542,
     "end_time": "2025-04-05T09:49:29.379233",
     "exception": false,
     "start_time": "2025-04-05T09:49:29.328691",
     "status": "completed"
    },
    "tags": []
   },
   "outputs": [
    {
     "data": {
      "text/plain": [
       "['He', '', 'o wor', 'd']"
      ]
     },
     "execution_count": 115,
     "metadata": {},
     "output_type": "execute_result"
    }
   ],
   "source": [
    "my_string.split(\"l\")   #Supply a substring to split  on other values"
   ]
  },
  {
   "cell_type": "markdown",
   "id": "20fa2014",
   "metadata": {
    "papermill": {
     "duration": 0.041361,
     "end_time": "2025-04-05T09:49:29.461377",
     "exception": false,
     "start_time": "2025-04-05T09:49:29.420016",
     "status": "completed"
    },
    "tags": []
   },
   "source": [
    "Split a multi-line string into a list of lines using str.splitlines():"
   ]
  },
  {
   "cell_type": "code",
   "execution_count": 116,
   "id": "1bd7aa13",
   "metadata": {
    "execution": {
     "iopub.execute_input": "2025-04-05T09:49:29.543991Z",
     "iopub.status.busy": "2025-04-05T09:49:29.543631Z",
     "iopub.status.idle": "2025-04-05T09:49:29.549949Z",
     "shell.execute_reply": "2025-04-05T09:49:29.548907Z"
    },
    "papermill": {
     "duration": 0.050168,
     "end_time": "2025-04-05T09:49:29.552119",
     "exception": false,
     "start_time": "2025-04-05T09:49:29.501951",
     "status": "completed"
    },
    "tags": []
   },
   "outputs": [
    {
     "data": {
      "text/plain": [
       "['I ', 'a multiline ', 'string!']"
      ]
     },
     "execution_count": 116,
     "metadata": {},
     "output_type": "execute_result"
    }
   ],
   "source": [
    "multiline_string = \"\"\"I \n",
    "a multiline \n",
    "string!\"\"\"\n",
    "multiline_string.splitlines()"
   ]
  },
  {
   "cell_type": "markdown",
   "id": "5b715180",
   "metadata": {
    "papermill": {
     "duration": 0.042554,
     "end_time": "2025-04-05T09:49:29.636929",
     "exception": false,
     "start_time": "2025-04-05T09:49:29.594375",
     "status": "completed"
    },
    "tags": []
   },
   "source": [
    "Strip leading and trailing characters from both ends of a string with str.strip()"
   ]
  },
  {
   "cell_type": "code",
   "execution_count": 117,
   "id": "4727111a",
   "metadata": {
    "execution": {
     "iopub.execute_input": "2025-04-05T09:49:29.721030Z",
     "iopub.status.busy": "2025-04-05T09:49:29.720685Z",
     "iopub.status.idle": "2025-04-05T09:49:29.726491Z",
     "shell.execute_reply": "2025-04-05T09:49:29.725241Z"
    },
    "papermill": {
     "duration": 0.049899,
     "end_time": "2025-04-05T09:49:29.728284",
     "exception": false,
     "start_time": "2025-04-05T09:49:29.678385",
     "status": "completed"
    },
    "tags": []
   },
   "outputs": [
    {
     "data": {
      "text/plain": [
       "'strip white space!'"
      ]
     },
     "execution_count": 117,
     "metadata": {},
     "output_type": "execute_result"
    }
   ],
   "source": [
    "# str.strip() removes whitespace by default\n",
    "\"   strip white space!   \".strip()"
   ]
  },
  {
   "cell_type": "markdown",
   "id": "b0052d85",
   "metadata": {
    "papermill": {
     "duration": 0.041194,
     "end_time": "2025-04-05T09:49:29.810920",
     "exception": false,
     "start_time": "2025-04-05T09:49:29.769726",
     "status": "completed"
    },
    "tags": []
   },
   "source": [
    "Override the default by supplying a string containing all characters you'd like to strip as an argument to the function :"
   ]
  },
  {
   "cell_type": "code",
   "execution_count": 118,
   "id": "17a3d4fa",
   "metadata": {
    "execution": {
     "iopub.execute_input": "2025-04-05T09:49:29.896438Z",
     "iopub.status.busy": "2025-04-05T09:49:29.896075Z",
     "iopub.status.idle": "2025-04-05T09:49:29.901706Z",
     "shell.execute_reply": "2025-04-05T09:49:29.900617Z"
    },
    "papermill": {
     "duration": 0.051338,
     "end_time": "2025-04-05T09:49:29.903348",
     "exception": false,
     "start_time": "2025-04-05T09:49:29.852010",
     "status": "completed"
    },
    "tags": []
   },
   "outputs": [
    {
     "data": {
      "text/plain": [
       "'BuyNOW'"
      ]
     },
     "execution_count": 118,
     "metadata": {},
     "output_type": "execute_result"
    }
   ],
   "source": [
    "\"xXxxBuyNOWxxXx\".strip(\"xX\")"
   ]
  },
  {
   "cell_type": "markdown",
   "id": "46937885",
   "metadata": {
    "papermill": {
     "duration": 0.042493,
     "end_time": "2025-04-05T09:49:29.988199",
     "exception": false,
     "start_time": "2025-04-05T09:49:29.945706",
     "status": "completed"
    },
    "tags": []
   },
   "source": [
    "You can strip characters from the left or right sides only with str.Istrip() and str.rstrip() respectively. To join or concatenate two strings together, you can us the plus (+) Operator:"
   ]
  },
  {
   "cell_type": "code",
   "execution_count": 119,
   "id": "30ffab56",
   "metadata": {
    "execution": {
     "iopub.execute_input": "2025-04-05T09:49:30.071851Z",
     "iopub.status.busy": "2025-04-05T09:49:30.071459Z",
     "iopub.status.idle": "2025-04-05T09:49:30.077176Z",
     "shell.execute_reply": "2025-04-05T09:49:30.076165Z"
    },
    "papermill": {
     "duration": 0.049736,
     "end_time": "2025-04-05T09:49:30.078786",
     "exception": false,
     "start_time": "2025-04-05T09:49:30.029050",
     "status": "completed"
    },
    "tags": []
   },
   "outputs": [
    {
     "data": {
      "text/plain": [
       "'Hello World'"
      ]
     },
     "execution_count": 119,
     "metadata": {},
     "output_type": "execute_result"
    }
   ],
   "source": [
    "\"Hello \"  + \"World\""
   ]
  },
  {
   "cell_type": "markdown",
   "id": "8beb44d8",
   "metadata": {
    "papermill": {
     "duration": 0.040943,
     "end_time": "2025-04-05T09:49:30.161966",
     "exception": false,
     "start_time": "2025-04-05T09:49:30.121023",
     "status": "completed"
    },
    "tags": []
   },
   "source": [
    "Convert the a list of strings into a single string separated by a given delimiter with str.join():"
   ]
  },
  {
   "cell_type": "code",
   "execution_count": 120,
   "id": "73fb3820",
   "metadata": {
    "execution": {
     "iopub.execute_input": "2025-04-05T09:49:30.245258Z",
     "iopub.status.busy": "2025-04-05T09:49:30.244925Z",
     "iopub.status.idle": "2025-04-05T09:49:30.250771Z",
     "shell.execute_reply": "2025-04-05T09:49:30.249692Z"
    },
    "papermill": {
     "duration": 0.049275,
     "end_time": "2025-04-05T09:49:30.252450",
     "exception": false,
     "start_time": "2025-04-05T09:49:30.203175",
     "status": "completed"
    },
    "tags": []
   },
   "outputs": [
    {
     "data": {
      "text/plain": [
       "'Hello World! Join Me!'"
      ]
     },
     "execution_count": 120,
     "metadata": {},
     "output_type": "execute_result"
    }
   ],
   "source": [
    "\" \".join([\"Hello\",\"World!\",\"Join\",\"Me!\"])"
   ]
  },
  {
   "cell_type": "code",
   "execution_count": 121,
   "id": "5b9c3d59",
   "metadata": {
    "execution": {
     "iopub.execute_input": "2025-04-05T09:49:30.339241Z",
     "iopub.status.busy": "2025-04-05T09:49:30.338849Z",
     "iopub.status.idle": "2025-04-05T09:49:30.344947Z",
     "shell.execute_reply": "2025-04-05T09:49:30.343908Z"
    },
    "papermill": {
     "duration": 0.050966,
     "end_time": "2025-04-05T09:49:30.346603",
     "exception": false,
     "start_time": "2025-04-05T09:49:30.295637",
     "status": "completed"
    },
    "tags": []
   },
   "outputs": [
    {
     "data": {
      "text/plain": [
       "'My name is Joe I am 10 and I live in Paris'"
      ]
     },
     "execution_count": 121,
     "metadata": {},
     "output_type": "execute_result"
    }
   ],
   "source": [
    "name = \"Joe\"\n",
    "age = 10\n",
    "city = \"Paris\"\n",
    "template_string = \"My name is {} I am {} and I live in {}\"\n",
    "template_string.format(name, age, city)"
   ]
  },
  {
   "cell_type": "markdown",
   "id": "cfbdea43",
   "metadata": {
    "papermill": {
     "duration": 0.041053,
     "end_time": "2025-04-05T09:49:30.431108",
     "exception": false,
     "start_time": "2025-04-05T09:49:30.390055",
     "status": "completed"
    },
    "tags": []
   },
   "source": [
    "Formatted strings or f-strings for short are an alternative, relatively new (as of python version 3.6) method for string formatting. F-strings are strings prefixed with \"f\" that allows you to insert existing variables into string by name by placing them within curly braces:"
   ]
  },
  {
   "cell_type": "code",
   "execution_count": 122,
   "id": "850766ee",
   "metadata": {
    "execution": {
     "iopub.execute_input": "2025-04-05T09:49:30.515423Z",
     "iopub.status.busy": "2025-04-05T09:49:30.515018Z",
     "iopub.status.idle": "2025-04-05T09:49:30.520515Z",
     "shell.execute_reply": "2025-04-05T09:49:30.519639Z"
    },
    "papermill": {
     "duration": 0.049488,
     "end_time": "2025-04-05T09:49:30.522108",
     "exception": false,
     "start_time": "2025-04-05T09:49:30.472620",
     "status": "completed"
    },
    "tags": []
   },
   "outputs": [
    {
     "data": {
      "text/plain": [
       "'My name is Joe I am 10 and I live in Paris'"
      ]
     },
     "execution_count": 122,
     "metadata": {},
     "output_type": "execute_result"
    }
   ],
   "source": [
    "#Remaking the example above using f-string\n",
    "f\"My name is {name} I am {age} and I live in {city}\""
   ]
  },
  {
   "cell_type": "markdown",
   "id": "01edb0dd",
   "metadata": {
    "papermill": {
     "duration": 0.042983,
     "end_time": "2025-04-05T09:49:30.607767",
     "exception": false,
     "start_time": "2025-04-05T09:49:30.564784",
     "status": "completed"
    },
    "tags": []
   },
   "source": [
    "Sequences data types like lists, tuples and strings are ordered. Ordering can be useful in some cases, such as if your data is sorted or has some other natural sense of ordering, but it comes at a price. When you search through sequences like lists, your computer has to go through each element one at a time to find an object you're looking for."
   ]
  },
  {
   "cell_type": "code",
   "execution_count": 123,
   "id": "3cc1b3f7",
   "metadata": {
    "execution": {
     "iopub.execute_input": "2025-04-05T09:49:30.693576Z",
     "iopub.status.busy": "2025-04-05T09:49:30.693204Z",
     "iopub.status.idle": "2025-04-05T09:49:30.699009Z",
     "shell.execute_reply": "2025-04-05T09:49:30.697984Z"
    },
    "papermill": {
     "duration": 0.051264,
     "end_time": "2025-04-05T09:49:30.700745",
     "exception": false,
     "start_time": "2025-04-05T09:49:30.649481",
     "status": "completed"
    },
    "tags": []
   },
   "outputs": [
    {
     "data": {
      "text/plain": [
       "False"
      ]
     },
     "execution_count": 123,
     "metadata": {},
     "output_type": "execute_result"
    }
   ],
   "source": [
    "#Consider this code\n",
    "my_list = [1,2,3,4,5,6,7,8,9,10]\n",
    "0 in my_list"
   ]
  },
  {
   "cell_type": "markdown",
   "id": "06d97c41",
   "metadata": {
    "papermill": {
     "duration": 0.041081,
     "end_time": "2025-04-05T09:49:30.783746",
     "exception": false,
     "start_time": "2025-04-05T09:49:30.742665",
     "status": "completed"
    },
    "tags": []
   },
   "source": [
    "When running the code above, Python has to search through the entire list, one item at a time before it returns that 0 is not in the list.  This sequential searching isn't much of a concern with small list like this one, but if you're working with data that contains thousands or millions of values, it can add up quickly.\n",
    "\n",
    "Dictionaries and sets are unordered Python data structures that solve this issue using a technique called hashing.  We won't go into the details of their implementation, but dictionaries and sets let you check whether they contain objects without having to search through each element one at a time, at the cost of having no order and using a bit more system memory."
   ]
  },
  {
   "cell_type": "markdown",
   "id": "6e14d61b",
   "metadata": {
    "papermill": {
     "duration": 0.04106,
     "end_time": "2025-04-05T09:49:30.866198",
     "exception": false,
     "start_time": "2025-04-05T09:49:30.825138",
     "status": "completed"
    },
    "tags": []
   },
   "source": [
    "# Dictionaries\n",
    "\n",
    "A dictionary or dict is an object that maps a set of named indexes called keys to a set of corresponding values. Dictionaries are mutable, so you can add and remove keys and their associated values. A dictionary's keys must be immutable objects, such as ints, strings or tuples, but the values can be anything.\n",
    "\n",
    "Create a dictionary with a comma-separated list of key: value pairs within curly braces:"
   ]
  },
  {
   "cell_type": "code",
   "execution_count": 124,
   "id": "4c709523",
   "metadata": {
    "execution": {
     "iopub.execute_input": "2025-04-05T09:49:30.951074Z",
     "iopub.status.busy": "2025-04-05T09:49:30.950712Z",
     "iopub.status.idle": "2025-04-05T09:49:30.956226Z",
     "shell.execute_reply": "2025-04-05T09:49:30.955086Z"
    },
    "papermill": {
     "duration": 0.049475,
     "end_time": "2025-04-05T09:49:30.957991",
     "exception": false,
     "start_time": "2025-04-05T09:49:30.908516",
     "status": "completed"
    },
    "tags": []
   },
   "outputs": [
    {
     "name": "stdout",
     "output_type": "stream",
     "text": [
      "{'name': 'Joe', 'age': 10, 'city': 'Paris'}\n"
     ]
    }
   ],
   "source": [
    "my_dict = {\n",
    "    \"name\" : \"Joe\",\n",
    "    \"age\"  : 10,\n",
    "    \"city\" : \"Paris\"\n",
    "          }\n",
    "print(my_dict)"
   ]
  },
  {
   "cell_type": "code",
   "execution_count": null,
   "id": "bba478f2",
   "metadata": {
    "papermill": {
     "duration": 0.041362,
     "end_time": "2025-04-05T09:49:31.043726",
     "exception": false,
     "start_time": "2025-04-05T09:49:31.002364",
     "status": "completed"
    },
    "tags": []
   },
   "outputs": [],
   "source": []
  },
  {
   "cell_type": "code",
   "execution_count": null,
   "id": "43d18950",
   "metadata": {
    "papermill": {
     "duration": 0.042212,
     "end_time": "2025-04-05T09:49:31.127250",
     "exception": false,
     "start_time": "2025-04-05T09:49:31.085038",
     "status": "completed"
    },
    "tags": []
   },
   "outputs": [],
   "source": []
  },
  {
   "cell_type": "code",
   "execution_count": null,
   "id": "f833523c",
   "metadata": {
    "papermill": {
     "duration": 0.042356,
     "end_time": "2025-04-05T09:49:31.211925",
     "exception": false,
     "start_time": "2025-04-05T09:49:31.169569",
     "status": "completed"
    },
    "tags": []
   },
   "outputs": [],
   "source": []
  },
  {
   "cell_type": "markdown",
   "id": "850d7988",
   "metadata": {
    "papermill": {
     "duration": 0.041804,
     "end_time": "2025-04-05T09:49:31.295438",
     "exception": false,
     "start_time": "2025-04-05T09:49:31.253634",
     "status": "completed"
    },
    "tags": []
   },
   "source": [
    "Notice that in the prited dictionary, the items don't appear in the same order as when we defined it, since dictionaries are unordered. Index into a dictionary using keys rather than numeric indexes:"
   ]
  },
  {
   "cell_type": "code",
   "execution_count": 125,
   "id": "dfa244d7",
   "metadata": {
    "execution": {
     "iopub.execute_input": "2025-04-05T09:49:31.380961Z",
     "iopub.status.busy": "2025-04-05T09:49:31.380523Z",
     "iopub.status.idle": "2025-04-05T09:49:31.386413Z",
     "shell.execute_reply": "2025-04-05T09:49:31.385399Z"
    },
    "papermill": {
     "duration": 0.050628,
     "end_time": "2025-04-05T09:49:31.388129",
     "exception": false,
     "start_time": "2025-04-05T09:49:31.337501",
     "status": "completed"
    },
    "tags": []
   },
   "outputs": [
    {
     "data": {
      "text/plain": [
       "'Joe'"
      ]
     },
     "execution_count": 125,
     "metadata": {},
     "output_type": "execute_result"
    }
   ],
   "source": [
    "my_dict[\"name\"]"
   ]
  },
  {
   "cell_type": "markdown",
   "id": "ae6f6094",
   "metadata": {
    "papermill": {
     "duration": 0.041405,
     "end_time": "2025-04-05T09:49:31.471627",
     "exception": false,
     "start_time": "2025-04-05T09:49:31.430222",
     "status": "completed"
    },
    "tags": []
   },
   "source": [
    "Add new items to an existing dictionary with the following syntax:"
   ]
  },
  {
   "cell_type": "code",
   "execution_count": 126,
   "id": "b2eafc9e",
   "metadata": {
    "execution": {
     "iopub.execute_input": "2025-04-05T09:49:31.561418Z",
     "iopub.status.busy": "2025-04-05T09:49:31.560844Z",
     "iopub.status.idle": "2025-04-05T09:49:31.567623Z",
     "shell.execute_reply": "2025-04-05T09:49:31.566245Z"
    },
    "papermill": {
     "duration": 0.055256,
     "end_time": "2025-04-05T09:49:31.569763",
     "exception": false,
     "start_time": "2025-04-05T09:49:31.514507",
     "status": "completed"
    },
    "tags": []
   },
   "outputs": [
    {
     "name": "stdout",
     "output_type": "stream",
     "text": [
      "{'name': 'Joe', 'age': 10, 'city': 'Paris', 'new_key': 'new_value'}\n"
     ]
    }
   ],
   "source": [
    "my_dict[\"new_key\"] = \"new_value\"\n",
    "print(my_dict)"
   ]
  },
  {
   "cell_type": "code",
   "execution_count": 127,
   "id": "54349f1f",
   "metadata": {
    "execution": {
     "iopub.execute_input": "2025-04-05T09:49:31.667200Z",
     "iopub.status.busy": "2025-04-05T09:49:31.666825Z",
     "iopub.status.idle": "2025-04-05T09:49:31.672272Z",
     "shell.execute_reply": "2025-04-05T09:49:31.670885Z"
    },
    "papermill": {
     "duration": 0.051776,
     "end_time": "2025-04-05T09:49:31.674283",
     "exception": false,
     "start_time": "2025-04-05T09:49:31.622507",
     "status": "completed"
    },
    "tags": []
   },
   "outputs": [
    {
     "name": "stdout",
     "output_type": "stream",
     "text": [
      "{'name': 'Joe', 'age': 10, 'city': 'Paris'}\n"
     ]
    }
   ],
   "source": [
    "#Delete existing key: value pairs with del:\n",
    "del my_dict[\"new_key\"]\n",
    "print(my_dict)"
   ]
  },
  {
   "cell_type": "code",
   "execution_count": 128,
   "id": "fc0687fc",
   "metadata": {
    "execution": {
     "iopub.execute_input": "2025-04-05T09:49:31.770900Z",
     "iopub.status.busy": "2025-04-05T09:49:31.770367Z",
     "iopub.status.idle": "2025-04-05T09:49:31.776897Z",
     "shell.execute_reply": "2025-04-05T09:49:31.775695Z"
    },
    "papermill": {
     "duration": 0.061636,
     "end_time": "2025-04-05T09:49:31.779080",
     "exception": false,
     "start_time": "2025-04-05T09:49:31.717444",
     "status": "completed"
    },
    "tags": []
   },
   "outputs": [
    {
     "data": {
      "text/plain": [
       "3"
      ]
     },
     "execution_count": 128,
     "metadata": {},
     "output_type": "execute_result"
    }
   ],
   "source": [
    "#Check the number of items in a dict with len():\n",
    "len(my_dict)"
   ]
  },
  {
   "cell_type": "code",
   "execution_count": 129,
   "id": "0fabf62d",
   "metadata": {
    "execution": {
     "iopub.execute_input": "2025-04-05T09:49:31.881245Z",
     "iopub.status.busy": "2025-04-05T09:49:31.880874Z",
     "iopub.status.idle": "2025-04-05T09:49:31.886910Z",
     "shell.execute_reply": "2025-04-05T09:49:31.885782Z"
    },
    "papermill": {
     "duration": 0.054152,
     "end_time": "2025-04-05T09:49:31.888899",
     "exception": false,
     "start_time": "2025-04-05T09:49:31.834747",
     "status": "completed"
    },
    "tags": []
   },
   "outputs": [
    {
     "data": {
      "text/plain": [
       "True"
      ]
     },
     "execution_count": 129,
     "metadata": {},
     "output_type": "execute_result"
    }
   ],
   "source": [
    "#Check whether a certain key exists with \"in\":\n",
    "\"name\" in my_dict"
   ]
  },
  {
   "cell_type": "code",
   "execution_count": 130,
   "id": "f39bbefa",
   "metadata": {
    "execution": {
     "iopub.execute_input": "2025-04-05T09:49:31.995415Z",
     "iopub.status.busy": "2025-04-05T09:49:31.994896Z",
     "iopub.status.idle": "2025-04-05T09:49:32.002393Z",
     "shell.execute_reply": "2025-04-05T09:49:32.000887Z"
    },
    "papermill": {
     "duration": 0.057586,
     "end_time": "2025-04-05T09:49:32.004407",
     "exception": false,
     "start_time": "2025-04-05T09:49:31.946821",
     "status": "completed"
    },
    "tags": []
   },
   "outputs": [
    {
     "data": {
      "text/plain": [
       "dict_keys(['name', 'age', 'city'])"
      ]
     },
     "execution_count": 130,
     "metadata": {},
     "output_type": "execute_result"
    }
   ],
   "source": [
    "#You can access all the keys,all the values or all the key: value pairs of a dictionary with the keys(),\n",
    "#value() and items() functions respectively:\n",
    "\n",
    "my_dict.keys()"
   ]
  },
  {
   "cell_type": "code",
   "execution_count": 131,
   "id": "6721dc4c",
   "metadata": {
    "execution": {
     "iopub.execute_input": "2025-04-05T09:49:32.113477Z",
     "iopub.status.busy": "2025-04-05T09:49:32.113060Z",
     "iopub.status.idle": "2025-04-05T09:49:32.119814Z",
     "shell.execute_reply": "2025-04-05T09:49:32.118637Z"
    },
    "papermill": {
     "duration": 0.073285,
     "end_time": "2025-04-05T09:49:32.121637",
     "exception": false,
     "start_time": "2025-04-05T09:49:32.048352",
     "status": "completed"
    },
    "tags": []
   },
   "outputs": [
    {
     "data": {
      "text/plain": [
       "True"
      ]
     },
     "execution_count": 131,
     "metadata": {},
     "output_type": "execute_result"
    }
   ],
   "source": [
    "my_dict.values()\n",
    "\"Paris\" in my_dict.values()"
   ]
  },
  {
   "cell_type": "code",
   "execution_count": 132,
   "id": "ac730b63",
   "metadata": {
    "execution": {
     "iopub.execute_input": "2025-04-05T09:49:32.209411Z",
     "iopub.status.busy": "2025-04-05T09:49:32.208936Z",
     "iopub.status.idle": "2025-04-05T09:49:32.215676Z",
     "shell.execute_reply": "2025-04-05T09:49:32.214652Z"
    },
    "papermill": {
     "duration": 0.052545,
     "end_time": "2025-04-05T09:49:32.217502",
     "exception": false,
     "start_time": "2025-04-05T09:49:32.164957",
     "status": "completed"
    },
    "tags": []
   },
   "outputs": [
    {
     "data": {
      "text/plain": [
       "dict_items([('name', 'Joe'), ('age', 10), ('city', 'Paris')])"
      ]
     },
     "execution_count": 132,
     "metadata": {},
     "output_type": "execute_result"
    }
   ],
   "source": [
    "my_dict.items()"
   ]
  },
  {
   "cell_type": "markdown",
   "id": "ffb0452e",
   "metadata": {
    "papermill": {
     "duration": 0.042292,
     "end_time": "2025-04-05T09:49:32.302974",
     "exception": false,
     "start_time": "2025-04-05T09:49:32.260682",
     "status": "completed"
    },
    "tags": []
   },
   "source": [
    "Real word data often comes in the form tables of rows and columns, where each column specifies a different data feature like name or age and each row represents an individual record.  we can encode this sort of tabular data in a dictionary by assigning each column label a key and then storing the column values as a list.\n",
    "\n",
    "Consider the following table:\n",
    "\n",
    "name      age    city\n",
    "Joe       10     Paris\n",
    "Bob       15     New York\n",
    "Harry     20     Tokyo\n",
    "\n",
    "We can store this data in a dictionary like so:"
   ]
  },
  {
   "cell_type": "code",
   "execution_count": 133,
   "id": "ed3904fc",
   "metadata": {
    "execution": {
     "iopub.execute_input": "2025-04-05T09:49:32.390903Z",
     "iopub.status.busy": "2025-04-05T09:49:32.390414Z",
     "iopub.status.idle": "2025-04-05T09:49:32.397233Z",
     "shell.execute_reply": "2025-04-05T09:49:32.395792Z"
    },
    "papermill": {
     "duration": 0.052443,
     "end_time": "2025-04-05T09:49:32.399016",
     "exception": false,
     "start_time": "2025-04-05T09:49:32.346573",
     "status": "completed"
    },
    "tags": []
   },
   "outputs": [
    {
     "name": "stdout",
     "output_type": "stream",
     "text": [
      "{'name': ['Joe', 'Bob', 'Harry'], 'age': [10, 15, 20], 'city': ['Paris', 'New York', 'Tokyo']}\n"
     ]
    }
   ],
   "source": [
    "my_table_dict = {\n",
    "    \"name\" : [\"Joe\",\"Bob\",\"Harry\"],\n",
    "    \"age\"  : [10,15,20],\n",
    "    \"city\" : [\"Paris\", \"New York\", \"Tokyo\"]\n",
    "}\n",
    "print(my_table_dict)"
   ]
  },
  {
   "cell_type": "markdown",
   "id": "28d327f7",
   "metadata": {
    "papermill": {
     "duration": 0.043013,
     "end_time": "2025-04-05T09:49:32.486797",
     "exception": false,
     "start_time": "2025-04-05T09:49:32.443784",
     "status": "completed"
    },
    "tags": []
   },
   "source": [
    "Certain data formats like XML and Json have a non tabular, nested structure. Python dictionaries can contain other dictionaries, so they can mirror this sort of nested structure, providing a convenient interface for working with these sorts of data formats in Python."
   ]
  },
  {
   "cell_type": "markdown",
   "id": "d498216f",
   "metadata": {
    "papermill": {
     "duration": 0.044209,
     "end_time": "2025-04-05T09:49:32.574622",
     "exception": false,
     "start_time": "2025-04-05T09:49:32.530413",
     "status": "completed"
    },
    "tags": []
   },
   "source": [
    "# Sets\n",
    "\n",
    "Sets are unordered, mutable collections of immutable objects that cannot contain duplicates.  Sets are useful for storing and performing opearations on data where each value is unique.  Create a set with a comma separated sequence of values within curly braces:"
   ]
  },
  {
   "cell_type": "code",
   "execution_count": 134,
   "id": "f3ea21e0",
   "metadata": {
    "execution": {
     "iopub.execute_input": "2025-04-05T09:49:32.663681Z",
     "iopub.status.busy": "2025-04-05T09:49:32.663186Z",
     "iopub.status.idle": "2025-04-05T09:49:32.670746Z",
     "shell.execute_reply": "2025-04-05T09:49:32.669470Z"
    },
    "papermill": {
     "duration": 0.05418,
     "end_time": "2025-04-05T09:49:32.672822",
     "exception": false,
     "start_time": "2025-04-05T09:49:32.618642",
     "status": "completed"
    },
    "tags": []
   },
   "outputs": [
    {
     "data": {
      "text/plain": [
       "set"
      ]
     },
     "execution_count": 134,
     "metadata": {},
     "output_type": "execute_result"
    }
   ],
   "source": [
    "my_set = {1,2,3,4,5,6,7}\n",
    "type(my_set)"
   ]
  },
  {
   "cell_type": "markdown",
   "id": "e36cbc79",
   "metadata": {
    "papermill": {
     "duration": 0.043071,
     "end_time": "2025-04-05T09:49:32.758649",
     "exception": false,
     "start_time": "2025-04-05T09:49:32.715578",
     "status": "completed"
    },
    "tags": []
   },
   "source": [
    "Add and remove items from a set with add() and remove() respectively:"
   ]
  },
  {
   "cell_type": "code",
   "execution_count": 135,
   "id": "4cafdd30",
   "metadata": {
    "execution": {
     "iopub.execute_input": "2025-04-05T09:49:32.847806Z",
     "iopub.status.busy": "2025-04-05T09:49:32.847236Z",
     "iopub.status.idle": "2025-04-05T09:49:32.853816Z",
     "shell.execute_reply": "2025-04-05T09:49:32.852714Z"
    },
    "papermill": {
     "duration": 0.053239,
     "end_time": "2025-04-05T09:49:32.855680",
     "exception": false,
     "start_time": "2025-04-05T09:49:32.802441",
     "status": "completed"
    },
    "tags": []
   },
   "outputs": [
    {
     "data": {
      "text/plain": [
       "{1, 2, 3, 4, 5, 6, 7, 8}"
      ]
     },
     "execution_count": 135,
     "metadata": {},
     "output_type": "execute_result"
    }
   ],
   "source": [
    "my_set.add(8)\n",
    "my_set"
   ]
  },
  {
   "cell_type": "code",
   "execution_count": 136,
   "id": "9577359e",
   "metadata": {
    "execution": {
     "iopub.execute_input": "2025-04-05T09:49:32.947820Z",
     "iopub.status.busy": "2025-04-05T09:49:32.947415Z",
     "iopub.status.idle": "2025-04-05T09:49:32.953496Z",
     "shell.execute_reply": "2025-04-05T09:49:32.952437Z"
    },
    "papermill": {
     "duration": 0.055518,
     "end_time": "2025-04-05T09:49:32.955433",
     "exception": false,
     "start_time": "2025-04-05T09:49:32.899915",
     "status": "completed"
    },
    "tags": []
   },
   "outputs": [
    {
     "data": {
      "text/plain": [
       "{1, 2, 3, 4, 5, 6, 8}"
      ]
     },
     "execution_count": 136,
     "metadata": {},
     "output_type": "execute_result"
    }
   ],
   "source": [
    "my_set.remove(7)\n",
    "my_set"
   ]
  },
  {
   "cell_type": "code",
   "execution_count": 137,
   "id": "3024a526",
   "metadata": {
    "execution": {
     "iopub.execute_input": "2025-04-05T09:49:33.044785Z",
     "iopub.status.busy": "2025-04-05T09:49:33.044397Z",
     "iopub.status.idle": "2025-04-05T09:49:33.050483Z",
     "shell.execute_reply": "2025-04-05T09:49:33.049109Z"
    },
    "papermill": {
     "duration": 0.052404,
     "end_time": "2025-04-05T09:49:33.052909",
     "exception": false,
     "start_time": "2025-04-05T09:49:33.000505",
     "status": "completed"
    },
    "tags": []
   },
   "outputs": [
    {
     "data": {
      "text/plain": [
       "True"
      ]
     },
     "execution_count": 137,
     "metadata": {},
     "output_type": "execute_result"
    }
   ],
   "source": [
    "#Sets do not support indexing, but they do support basic sequence functions like len(), min(),\n",
    "#max() and sum().  You can also check membership and non-membership as usual with in:\n",
    "\n",
    "6 in my_set"
   ]
  },
  {
   "cell_type": "markdown",
   "id": "a45ae9e5",
   "metadata": {
    "papermill": {
     "duration": 0.042833,
     "end_time": "2025-04-05T09:49:33.147103",
     "exception": false,
     "start_time": "2025-04-05T09:49:33.104270",
     "status": "completed"
    },
    "tags": []
   },
   "source": [
    "One of the main purposes of sets is to perform set operations that compare or combine\n",
    "different sets. Python sets support many common mathematical set operations like union,\n",
    "intersection, difference and checking whether one set is a subset of another:"
   ]
  },
  {
   "cell_type": "code",
   "execution_count": 138,
   "id": "a60c591e",
   "metadata": {
    "execution": {
     "iopub.execute_input": "2025-04-05T09:49:33.234846Z",
     "iopub.status.busy": "2025-04-05T09:49:33.234446Z",
     "iopub.status.idle": "2025-04-05T09:49:33.240542Z",
     "shell.execute_reply": "2025-04-05T09:49:33.239557Z"
    },
    "papermill": {
     "duration": 0.051956,
     "end_time": "2025-04-05T09:49:33.242002",
     "exception": false,
     "start_time": "2025-04-05T09:49:33.190046",
     "status": "completed"
    },
    "tags": []
   },
   "outputs": [
    {
     "data": {
      "text/plain": [
       "{1, 2, 3, 4, 5, 6}"
      ]
     },
     "execution_count": 138,
     "metadata": {},
     "output_type": "execute_result"
    }
   ],
   "source": [
    "set1 = {1,3,5,6}\n",
    "set2 = {1,2,3,4}\n",
    "\n",
    "set1.union(set2)              #get the union of two sets"
   ]
  },
  {
   "cell_type": "code",
   "execution_count": 139,
   "id": "74f1c106",
   "metadata": {
    "execution": {
     "iopub.execute_input": "2025-04-05T09:49:33.331333Z",
     "iopub.status.busy": "2025-04-05T09:49:33.330903Z",
     "iopub.status.idle": "2025-04-05T09:49:33.336788Z",
     "shell.execute_reply": "2025-04-05T09:49:33.335749Z"
    },
    "papermill": {
     "duration": 0.053059,
     "end_time": "2025-04-05T09:49:33.338460",
     "exception": false,
     "start_time": "2025-04-05T09:49:33.285401",
     "status": "completed"
    },
    "tags": []
   },
   "outputs": [
    {
     "data": {
      "text/plain": [
       "{1, 3}"
      ]
     },
     "execution_count": 139,
     "metadata": {},
     "output_type": "execute_result"
    }
   ],
   "source": [
    "set1.intersection(set2)      #get the intersection of two sets"
   ]
  },
  {
   "cell_type": "code",
   "execution_count": 140,
   "id": "4107542b",
   "metadata": {
    "execution": {
     "iopub.execute_input": "2025-04-05T09:49:33.426685Z",
     "iopub.status.busy": "2025-04-05T09:49:33.426254Z",
     "iopub.status.idle": "2025-04-05T09:49:33.432261Z",
     "shell.execute_reply": "2025-04-05T09:49:33.431198Z"
    },
    "papermill": {
     "duration": 0.051496,
     "end_time": "2025-04-05T09:49:33.433967",
     "exception": false,
     "start_time": "2025-04-05T09:49:33.382471",
     "status": "completed"
    },
    "tags": []
   },
   "outputs": [
    {
     "data": {
      "text/plain": [
       "{5, 6}"
      ]
     },
     "execution_count": 140,
     "metadata": {},
     "output_type": "execute_result"
    }
   ],
   "source": [
    "set1.difference(set2)       #get the difference between two sets"
   ]
  },
  {
   "cell_type": "code",
   "execution_count": 141,
   "id": "1f04ffe8",
   "metadata": {
    "execution": {
     "iopub.execute_input": "2025-04-05T09:49:33.522699Z",
     "iopub.status.busy": "2025-04-05T09:49:33.522245Z",
     "iopub.status.idle": "2025-04-05T09:49:33.528030Z",
     "shell.execute_reply": "2025-04-05T09:49:33.526995Z"
    },
    "papermill": {
     "duration": 0.052594,
     "end_time": "2025-04-05T09:49:33.529879",
     "exception": false,
     "start_time": "2025-04-05T09:49:33.477285",
     "status": "completed"
    },
    "tags": []
   },
   "outputs": [
    {
     "data": {
      "text/plain": [
       "False"
      ]
     },
     "execution_count": 141,
     "metadata": {},
     "output_type": "execute_result"
    }
   ],
   "source": [
    "set1.issubset(set2)        #check whether set1 is a subset of set2"
   ]
  },
  {
   "cell_type": "markdown",
   "id": "8d01c8d2",
   "metadata": {
    "papermill": {
     "duration": 0.044362,
     "end_time": "2025-04-05T09:49:33.620874",
     "exception": false,
     "start_time": "2025-04-05T09:49:33.576512",
     "status": "completed"
    },
    "tags": []
   },
   "source": [
    "You can convert a list into a set using the set() function. Converting a list to a set drops any duplicate elements in the list. This can be a useful way to strip unwanted duplicate items or count the number unique elements in a list.  I can also be useful to convert a list to set if you plan to lookup items repeatedly, since membership looksup are faster with sets than lists. "
   ]
  },
  {
   "cell_type": "code",
   "execution_count": 142,
   "id": "afc292a2",
   "metadata": {
    "execution": {
     "iopub.execute_input": "2025-04-05T09:49:33.710551Z",
     "iopub.status.busy": "2025-04-05T09:49:33.710177Z",
     "iopub.status.idle": "2025-04-05T09:49:33.716510Z",
     "shell.execute_reply": "2025-04-05T09:49:33.715560Z"
    },
    "papermill": {
     "duration": 0.053568,
     "end_time": "2025-04-05T09:49:33.718388",
     "exception": false,
     "start_time": "2025-04-05T09:49:33.664820",
     "status": "completed"
    },
    "tags": []
   },
   "outputs": [
    {
     "data": {
      "text/plain": [
       "{1.2, 2, 3, 4, 5, 6}"
      ]
     },
     "execution_count": 142,
     "metadata": {},
     "output_type": "execute_result"
    }
   ],
   "source": [
    "my_list = [1.2,2,2,3,3,4,5,5,5,6]\n",
    "set(my_list)"
   ]
  },
  {
   "cell_type": "code",
   "execution_count": null,
   "id": "390f7209",
   "metadata": {
    "papermill": {
     "duration": 0.044439,
     "end_time": "2025-04-05T09:49:33.807900",
     "exception": false,
     "start_time": "2025-04-05T09:49:33.763461",
     "status": "completed"
    },
    "tags": []
   },
   "outputs": [],
   "source": []
  }
 ],
 "metadata": {
  "kaggle": {
   "accelerator": "none",
   "dataSources": [],
   "dockerImageVersionId": 30918,
   "isGpuEnabled": false,
   "isInternetEnabled": false,
   "language": "python",
   "sourceType": "notebook"
  },
  "kernelspec": {
   "display_name": "Python 3",
   "language": "python",
   "name": "python3"
  },
  "language_info": {
   "codemirror_mode": {
    "name": "ipython",
    "version": 3
   },
   "file_extension": ".py",
   "mimetype": "text/x-python",
   "name": "python",
   "nbconvert_exporter": "python",
   "pygments_lexer": "ipython3",
   "version": "3.10.12"
  },
  "papermill": {
   "default_parameters": {},
   "duration": 23.420249,
   "end_time": "2025-04-05T09:49:34.473973",
   "environment_variables": {},
   "exception": null,
   "input_path": "__notebook__.ipynb",
   "output_path": "__notebook__.ipynb",
   "parameters": {},
   "start_time": "2025-04-05T09:49:11.053724",
   "version": "2.6.0"
  }
 },
 "nbformat": 4,
 "nbformat_minor": 5
}
