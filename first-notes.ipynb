{
 "cells": [
  {
   "cell_type": "code",
   "execution_count": 1,
   "id": "dc38cf6e",
   "metadata": {
    "_cell_guid": "b1076dfc-b9ad-4769-8c92-a6c4dae69d19",
    "_uuid": "8f2839f25d086af736a60e9eeb907d3b93b6e0e5",
    "execution": {
     "iopub.execute_input": "2025-04-05T09:45:59.436429Z",
     "iopub.status.busy": "2025-04-05T09:45:59.436022Z",
     "iopub.status.idle": "2025-04-05T09:46:00.451977Z",
     "shell.execute_reply": "2025-04-05T09:46:00.450586Z"
    },
    "papermill": {
     "duration": 1.054213,
     "end_time": "2025-04-05T09:46:00.454174",
     "exception": false,
     "start_time": "2025-04-05T09:45:59.399961",
     "status": "completed"
    },
    "tags": []
   },
   "outputs": [],
   "source": [
    "# This Python 3 environment comes with many helpful analytics libraries installed\n",
    "# It is defined by the kaggle/python Docker image: https://github.com/kaggle/docker-python\n",
    "# For example, here's several helpful packages to load\n",
    "\n",
    "import numpy as np # linear algebra\n",
    "import pandas as pd # data processing, CSV file I/O (e.g. pd.read_csv)\n",
    "\n",
    "# Input data files are available in the read-only \"../input/\" directory\n",
    "# For example, running this (by clicking run or pressing Shift+Enter) will list all files under the input directory\n",
    "\n",
    "import os\n",
    "for dirname, _, filenames in os.walk('/kaggle/input'):\n",
    "    for filename in filenames:\n",
    "        print(os.path.join(dirname, filename))\n",
    "\n",
    "# You can write up to 20GB to the current directory (/kaggle/working/) that gets preserved as output when you create a version using \"Save & Run All\" \n",
    "# You can also write temporary files to /kaggle/temp/, but they won't be saved outside of the current session"
   ]
  },
  {
   "cell_type": "code",
   "execution_count": 2,
   "id": "9f3f7441",
   "metadata": {
    "execution": {
     "iopub.execute_input": "2025-04-05T09:46:00.517885Z",
     "iopub.status.busy": "2025-04-05T09:46:00.517309Z",
     "iopub.status.idle": "2025-04-05T09:46:00.525456Z",
     "shell.execute_reply": "2025-04-05T09:46:00.524235Z"
    },
    "papermill": {
     "duration": 0.041587,
     "end_time": "2025-04-05T09:46:00.527512",
     "exception": false,
     "start_time": "2025-04-05T09:46:00.485925",
     "status": "completed"
    },
    "tags": []
   },
   "outputs": [
    {
     "data": {
      "text/plain": [
       "15"
      ]
     },
     "execution_count": 2,
     "metadata": {},
     "output_type": "execute_result"
    }
   ],
   "source": [
    "10 + 5"
   ]
  },
  {
   "cell_type": "code",
   "execution_count": 3,
   "id": "ee7a4c1e",
   "metadata": {
    "execution": {
     "iopub.execute_input": "2025-04-05T09:46:00.589346Z",
     "iopub.status.busy": "2025-04-05T09:46:00.588956Z",
     "iopub.status.idle": "2025-04-05T09:46:00.595471Z",
     "shell.execute_reply": "2025-04-05T09:46:00.594432Z"
    },
    "papermill": {
     "duration": 0.03935,
     "end_time": "2025-04-05T09:46:00.597325",
     "exception": false,
     "start_time": "2025-04-05T09:46:00.557975",
     "status": "completed"
    },
    "tags": []
   },
   "outputs": [
    {
     "data": {
      "text/plain": [
       "5"
      ]
     },
     "execution_count": 3,
     "metadata": {},
     "output_type": "execute_result"
    }
   ],
   "source": [
    "10 - 5"
   ]
  },
  {
   "cell_type": "code",
   "execution_count": 4,
   "id": "a2a74536",
   "metadata": {
    "execution": {
     "iopub.execute_input": "2025-04-05T09:46:00.662828Z",
     "iopub.status.busy": "2025-04-05T09:46:00.662358Z",
     "iopub.status.idle": "2025-04-05T09:46:00.668683Z",
     "shell.execute_reply": "2025-04-05T09:46:00.667161Z"
    },
    "papermill": {
     "duration": 0.041724,
     "end_time": "2025-04-05T09:46:00.670974",
     "exception": false,
     "start_time": "2025-04-05T09:46:00.629250",
     "status": "completed"
    },
    "tags": []
   },
   "outputs": [
    {
     "data": {
      "text/plain": [
       "50"
      ]
     },
     "execution_count": 4,
     "metadata": {},
     "output_type": "execute_result"
    }
   ],
   "source": [
    "10*5"
   ]
  },
  {
   "cell_type": "code",
   "execution_count": 5,
   "id": "4b0213cc",
   "metadata": {
    "execution": {
     "iopub.execute_input": "2025-04-05T09:46:00.739725Z",
     "iopub.status.busy": "2025-04-05T09:46:00.739204Z",
     "iopub.status.idle": "2025-04-05T09:46:00.745357Z",
     "shell.execute_reply": "2025-04-05T09:46:00.744246Z"
    },
    "papermill": {
     "duration": 0.043405,
     "end_time": "2025-04-05T09:46:00.747415",
     "exception": false,
     "start_time": "2025-04-05T09:46:00.704010",
     "status": "completed"
    },
    "tags": []
   },
   "outputs": [
    {
     "data": {
      "text/plain": [
       "2.0"
      ]
     },
     "execution_count": 5,
     "metadata": {},
     "output_type": "execute_result"
    }
   ],
   "source": [
    "10/5"
   ]
  },
  {
   "cell_type": "code",
   "execution_count": 6,
   "id": "453b63d1",
   "metadata": {
    "execution": {
     "iopub.execute_input": "2025-04-05T09:46:00.812351Z",
     "iopub.status.busy": "2025-04-05T09:46:00.811984Z",
     "iopub.status.idle": "2025-04-05T09:46:00.818570Z",
     "shell.execute_reply": "2025-04-05T09:46:00.817269Z"
    },
    "papermill": {
     "duration": 0.040653,
     "end_time": "2025-04-05T09:46:00.820349",
     "exception": false,
     "start_time": "2025-04-05T09:46:00.779696",
     "status": "completed"
    },
    "tags": []
   },
   "outputs": [
    {
     "data": {
      "text/plain": [
       "3.3333333333333335"
      ]
     },
     "execution_count": 6,
     "metadata": {},
     "output_type": "execute_result"
    }
   ],
   "source": [
    "10/3"
   ]
  },
  {
   "cell_type": "code",
   "execution_count": 7,
   "id": "42a812ce",
   "metadata": {
    "execution": {
     "iopub.execute_input": "2025-04-05T09:46:00.884919Z",
     "iopub.status.busy": "2025-04-05T09:46:00.884504Z",
     "iopub.status.idle": "2025-04-05T09:46:00.890966Z",
     "shell.execute_reply": "2025-04-05T09:46:00.889877Z"
    },
    "papermill": {
     "duration": 0.040897,
     "end_time": "2025-04-05T09:46:00.892868",
     "exception": false,
     "start_time": "2025-04-05T09:46:00.851971",
     "status": "completed"
    },
    "tags": []
   },
   "outputs": [
    {
     "data": {
      "text/plain": [
       "3"
      ]
     },
     "execution_count": 7,
     "metadata": {},
     "output_type": "execute_result"
    }
   ],
   "source": [
    "10//3"
   ]
  },
  {
   "cell_type": "code",
   "execution_count": 8,
   "id": "20089453",
   "metadata": {
    "execution": {
     "iopub.execute_input": "2025-04-05T09:46:00.956409Z",
     "iopub.status.busy": "2025-04-05T09:46:00.955953Z",
     "iopub.status.idle": "2025-04-05T09:46:00.962771Z",
     "shell.execute_reply": "2025-04-05T09:46:00.961469Z"
    },
    "papermill": {
     "duration": 0.040646,
     "end_time": "2025-04-05T09:46:00.964623",
     "exception": false,
     "start_time": "2025-04-05T09:46:00.923977",
     "status": "completed"
    },
    "tags": []
   },
   "outputs": [
    {
     "data": {
      "text/plain": [
       "1000"
      ]
     },
     "execution_count": 8,
     "metadata": {},
     "output_type": "execute_result"
    }
   ],
   "source": [
    "10**3"
   ]
  },
  {
   "cell_type": "code",
   "execution_count": 9,
   "id": "1d7ff933",
   "metadata": {
    "execution": {
     "iopub.execute_input": "2025-04-05T09:46:01.086774Z",
     "iopub.status.busy": "2025-04-05T09:46:01.086284Z",
     "iopub.status.idle": "2025-04-05T09:46:01.092971Z",
     "shell.execute_reply": "2025-04-05T09:46:01.091712Z"
    },
    "papermill": {
     "duration": 0.041169,
     "end_time": "2025-04-05T09:46:01.094873",
     "exception": false,
     "start_time": "2025-04-05T09:46:01.053704",
     "status": "completed"
    },
    "tags": []
   },
   "outputs": [
    {
     "data": {
      "text/plain": [
       "100"
      ]
     },
     "execution_count": 9,
     "metadata": {},
     "output_type": "execute_result"
    }
   ],
   "source": [
    "10**2"
   ]
  },
  {
   "cell_type": "code",
   "execution_count": 10,
   "id": "8e837bf9",
   "metadata": {
    "execution": {
     "iopub.execute_input": "2025-04-05T09:46:01.161918Z",
     "iopub.status.busy": "2025-04-05T09:46:01.161564Z",
     "iopub.status.idle": "2025-04-05T09:46:01.167950Z",
     "shell.execute_reply": "2025-04-05T09:46:01.166654Z"
    },
    "papermill": {
     "duration": 0.04157,
     "end_time": "2025-04-05T09:46:01.169880",
     "exception": false,
     "start_time": "2025-04-05T09:46:01.128310",
     "status": "completed"
    },
    "tags": []
   },
   "outputs": [
    {
     "data": {
      "text/plain": [
       "10000"
      ]
     },
     "execution_count": 10,
     "metadata": {},
     "output_type": "execute_result"
    }
   ],
   "source": [
    "10**4"
   ]
  },
  {
   "cell_type": "code",
   "execution_count": null,
   "id": "26e77c6f",
   "metadata": {
    "papermill": {
     "duration": 0.030462,
     "end_time": "2025-04-05T09:46:01.232880",
     "exception": false,
     "start_time": "2025-04-05T09:46:01.202418",
     "status": "completed"
    },
    "tags": []
   },
   "outputs": [],
   "source": []
  },
  {
   "cell_type": "markdown",
   "id": "33d0943a",
   "metadata": {
    "papermill": {
     "duration": 0.030392,
     "end_time": "2025-04-05T09:46:01.294579",
     "exception": false,
     "start_time": "2025-04-05T09:46:01.264187",
     "status": "completed"
    },
    "tags": []
   },
   "source": [
    "Math expresssion in python follow the normal arithmetic order of expressions so * and / are executed before + and - and ** is executed before multiplication and division."
   ]
  },
  {
   "cell_type": "code",
   "execution_count": 11,
   "id": "c762759b",
   "metadata": {
    "execution": {
     "iopub.execute_input": "2025-04-05T09:46:01.358192Z",
     "iopub.status.busy": "2025-04-05T09:46:01.357785Z",
     "iopub.status.idle": "2025-04-05T09:46:01.364010Z",
     "shell.execute_reply": "2025-04-05T09:46:01.362898Z"
    },
    "papermill": {
     "duration": 0.039792,
     "end_time": "2025-04-05T09:46:01.365788",
     "exception": false,
     "start_time": "2025-04-05T09:46:01.325996",
     "status": "completed"
    },
    "tags": []
   },
   "outputs": [
    {
     "data": {
      "text/plain": [
       "77"
      ]
     },
     "execution_count": 11,
     "metadata": {},
     "output_type": "execute_result"
    }
   ],
   "source": [
    "2 + 3 * 5 ** 2"
   ]
  },
  {
   "cell_type": "markdown",
   "id": "6a1cfaae",
   "metadata": {
    "papermill": {
     "duration": 0.030871,
     "end_time": "2025-04-05T09:46:01.428138",
     "exception": false,
     "start_time": "2025-04-05T09:46:01.397267",
     "status": "completed"
    },
    "tags": []
   },
   "source": [
    "You can use parenthesis in your math expression to ensure that operations are carried out on the correct order. Operations within parentheses are carried out before operations that are external to the parenthesis."
   ]
  },
  {
   "cell_type": "code",
   "execution_count": 12,
   "id": "28dd00dc",
   "metadata": {
    "execution": {
     "iopub.execute_input": "2025-04-05T09:46:01.492896Z",
     "iopub.status.busy": "2025-04-05T09:46:01.492417Z",
     "iopub.status.idle": "2025-04-05T09:46:01.499562Z",
     "shell.execute_reply": "2025-04-05T09:46:01.498318Z"
    },
    "papermill": {
     "duration": 0.041947,
     "end_time": "2025-04-05T09:46:01.501608",
     "exception": false,
     "start_time": "2025-04-05T09:46:01.459661",
     "status": "completed"
    },
    "tags": []
   },
   "outputs": [
    {
     "data": {
      "text/plain": [
       "625"
      ]
     },
     "execution_count": 12,
     "metadata": {},
     "output_type": "execute_result"
    }
   ],
   "source": [
    "((2 + 3) * 5 ) ** 2"
   ]
  },
  {
   "cell_type": "code",
   "execution_count": 13,
   "id": "78386a0a",
   "metadata": {
    "execution": {
     "iopub.execute_input": "2025-04-05T09:46:01.569963Z",
     "iopub.status.busy": "2025-04-05T09:46:01.569530Z",
     "iopub.status.idle": "2025-04-05T09:46:01.575490Z",
     "shell.execute_reply": "2025-04-05T09:46:01.574426Z"
    },
    "papermill": {
     "duration": 0.041631,
     "end_time": "2025-04-05T09:46:01.577304",
     "exception": false,
     "start_time": "2025-04-05T09:46:01.535673",
     "status": "completed"
    },
    "tags": []
   },
   "outputs": [
    {
     "data": {
      "text/plain": [
       "25"
      ]
     },
     "execution_count": 13,
     "metadata": {},
     "output_type": "execute_result"
    }
   ],
   "source": [
    "100 % 75"
   ]
  },
  {
   "cell_type": "code",
   "execution_count": 14,
   "id": "5b3b7408",
   "metadata": {
    "execution": {
     "iopub.execute_input": "2025-04-05T09:46:01.643921Z",
     "iopub.status.busy": "2025-04-05T09:46:01.643544Z",
     "iopub.status.idle": "2025-04-05T09:46:01.647659Z",
     "shell.execute_reply": "2025-04-05T09:46:01.646668Z"
    },
    "papermill": {
     "duration": 0.039499,
     "end_time": "2025-04-05T09:46:01.649446",
     "exception": false,
     "start_time": "2025-04-05T09:46:01.609947",
     "status": "completed"
    },
    "tags": []
   },
   "outputs": [],
   "source": [
    "import math   # load the math module"
   ]
  },
  {
   "cell_type": "code",
   "execution_count": 15,
   "id": "0a904af0",
   "metadata": {
    "execution": {
     "iopub.execute_input": "2025-04-05T09:46:01.716360Z",
     "iopub.status.busy": "2025-04-05T09:46:01.715994Z",
     "iopub.status.idle": "2025-04-05T09:46:01.721672Z",
     "shell.execute_reply": "2025-04-05T09:46:01.720597Z"
    },
    "papermill": {
     "duration": 0.041399,
     "end_time": "2025-04-05T09:46:01.723477",
     "exception": false,
     "start_time": "2025-04-05T09:46:01.682078",
     "status": "completed"
    },
    "tags": []
   },
   "outputs": [
    {
     "data": {
      "text/plain": [
       "0.9999698965391098"
      ]
     },
     "execution_count": 15,
     "metadata": {},
     "output_type": "execute_result"
    }
   ],
   "source": [
    "# math.log() takes the natural logarithm of its argument:\n",
    "math.log(2.7182)"
   ]
  },
  {
   "cell_type": "code",
   "execution_count": 16,
   "id": "ba145ae6",
   "metadata": {
    "execution": {
     "iopub.execute_input": "2025-04-05T09:46:01.795557Z",
     "iopub.status.busy": "2025-04-05T09:46:01.795156Z",
     "iopub.status.idle": "2025-04-05T09:46:01.801818Z",
     "shell.execute_reply": "2025-04-05T09:46:01.800438Z"
    },
    "papermill": {
     "duration": 0.043942,
     "end_time": "2025-04-05T09:46:01.804011",
     "exception": false,
     "start_time": "2025-04-05T09:46:01.760069",
     "status": "completed"
    },
    "tags": []
   },
   "outputs": [
    {
     "data": {
      "text/plain": [
       "2.0"
      ]
     },
     "execution_count": 16,
     "metadata": {},
     "output_type": "execute_result"
    }
   ],
   "source": [
    "#Add a second argument to specify the log base:\n",
    "math.log(100,10)"
   ]
  },
  {
   "cell_type": "code",
   "execution_count": 17,
   "id": "7bac25a2",
   "metadata": {
    "execution": {
     "iopub.execute_input": "2025-04-05T09:46:01.873662Z",
     "iopub.status.busy": "2025-04-05T09:46:01.873183Z",
     "iopub.status.idle": "2025-04-05T09:46:01.880998Z",
     "shell.execute_reply": "2025-04-05T09:46:01.879612Z"
    },
    "papermill": {
     "duration": 0.046066,
     "end_time": "2025-04-05T09:46:01.883200",
     "exception": false,
     "start_time": "2025-04-05T09:46:01.837134",
     "status": "completed"
    },
    "tags": []
   },
   "outputs": [
    {
     "data": {
      "text/plain": [
       "22026.465794806718"
      ]
     },
     "execution_count": 17,
     "metadata": {},
     "output_type": "execute_result"
    }
   ],
   "source": [
    "#math.exp() raises e to the power of its argument\n",
    "math.exp(10)"
   ]
  },
  {
   "cell_type": "code",
   "execution_count": 18,
   "id": "6321e70f",
   "metadata": {
    "execution": {
     "iopub.execute_input": "2025-04-05T09:46:01.949803Z",
     "iopub.status.busy": "2025-04-05T09:46:01.949346Z",
     "iopub.status.idle": "2025-04-05T09:46:01.955953Z",
     "shell.execute_reply": "2025-04-05T09:46:01.954520Z"
    },
    "papermill": {
     "duration": 0.042102,
     "end_time": "2025-04-05T09:46:01.957852",
     "exception": false,
     "start_time": "2025-04-05T09:46:01.915750",
     "status": "completed"
    },
    "tags": []
   },
   "outputs": [
    {
     "data": {
      "text/plain": [
       "30"
      ]
     },
     "execution_count": 18,
     "metadata": {},
     "output_type": "execute_result"
    }
   ],
   "source": [
    "#Use abs() to get the absolute value of a number. Note abs() is a base python function.\n",
    "abs(-30)"
   ]
  },
  {
   "cell_type": "code",
   "execution_count": 19,
   "id": "2c085413",
   "metadata": {
    "execution": {
     "iopub.execute_input": "2025-04-05T09:46:02.027690Z",
     "iopub.status.busy": "2025-04-05T09:46:02.027243Z",
     "iopub.status.idle": "2025-04-05T09:46:02.033655Z",
     "shell.execute_reply": "2025-04-05T09:46:02.032336Z"
    },
    "papermill": {
     "duration": 0.043133,
     "end_time": "2025-04-05T09:46:02.035682",
     "exception": false,
     "start_time": "2025-04-05T09:46:01.992549",
     "status": "completed"
    },
    "tags": []
   },
   "outputs": [
    {
     "data": {
      "text/plain": [
       "3.141592653589793"
      ]
     },
     "execution_count": 19,
     "metadata": {},
     "output_type": "execute_result"
    }
   ],
   "source": [
    "math.pi #Get the constant pi"
   ]
  },
  {
   "cell_type": "markdown",
   "id": "a07b5d45",
   "metadata": {
    "papermill": {
     "duration": 0.033975,
     "end_time": "2025-04-05T09:46:02.106450",
     "exception": false,
     "start_time": "2025-04-05T09:46:02.072475",
     "status": "completed"
    },
    "tags": []
   },
   "source": [
    "Rounding Numbers\n",
    "Base python contains a round() function that lets you round numbers to the nearest whole number. You can also round up or down with math.ceil and math.floor respectively."
   ]
  },
  {
   "cell_type": "code",
   "execution_count": 20,
   "id": "7e079f05",
   "metadata": {
    "execution": {
     "iopub.execute_input": "2025-04-05T09:46:02.175514Z",
     "iopub.status.busy": "2025-04-05T09:46:02.175076Z",
     "iopub.status.idle": "2025-04-05T09:46:02.181666Z",
     "shell.execute_reply": "2025-04-05T09:46:02.180508Z"
    },
    "papermill": {
     "duration": 0.043861,
     "end_time": "2025-04-05T09:46:02.183823",
     "exception": false,
     "start_time": "2025-04-05T09:46:02.139962",
     "status": "completed"
    },
    "tags": []
   },
   "outputs": [
    {
     "data": {
      "text/plain": [
       "233"
      ]
     },
     "execution_count": 20,
     "metadata": {},
     "output_type": "execute_result"
    }
   ],
   "source": [
    "# Use round() to round a number to the nearest whole number\n",
    "round(233.234)"
   ]
  },
  {
   "cell_type": "code",
   "execution_count": 21,
   "id": "bc6b32a4",
   "metadata": {
    "execution": {
     "iopub.execute_input": "2025-04-05T09:46:02.252967Z",
     "iopub.status.busy": "2025-04-05T09:46:02.252632Z",
     "iopub.status.idle": "2025-04-05T09:46:02.259519Z",
     "shell.execute_reply": "2025-04-05T09:46:02.258000Z"
    },
    "papermill": {
     "duration": 0.044468,
     "end_time": "2025-04-05T09:46:02.262125",
     "exception": false,
     "start_time": "2025-04-05T09:46:02.217657",
     "status": "completed"
    },
    "tags": []
   },
   "outputs": [
    {
     "data": {
      "text/plain": [
       "234"
      ]
     },
     "execution_count": 21,
     "metadata": {},
     "output_type": "execute_result"
    }
   ],
   "source": [
    "round(233.677)"
   ]
  },
  {
   "cell_type": "code",
   "execution_count": 22,
   "id": "d3279acb",
   "metadata": {
    "execution": {
     "iopub.execute_input": "2025-04-05T09:46:02.332625Z",
     "iopub.status.busy": "2025-04-05T09:46:02.332194Z",
     "iopub.status.idle": "2025-04-05T09:46:02.338794Z",
     "shell.execute_reply": "2025-04-05T09:46:02.337409Z"
    },
    "papermill": {
     "duration": 0.043341,
     "end_time": "2025-04-05T09:46:02.341214",
     "exception": false,
     "start_time": "2025-04-05T09:46:02.297873",
     "status": "completed"
    },
    "tags": []
   },
   "outputs": [
    {
     "data": {
      "text/plain": [
       "233.2"
      ]
     },
     "execution_count": 22,
     "metadata": {},
     "output_type": "execute_result"
    }
   ],
   "source": [
    "# add a second arguement to round to a specified decimal place\n",
    "round(233.234,1)"
   ]
  },
  {
   "cell_type": "code",
   "execution_count": 23,
   "id": "6c152412",
   "metadata": {
    "execution": {
     "iopub.execute_input": "2025-04-05T09:46:02.413258Z",
     "iopub.status.busy": "2025-04-05T09:46:02.412922Z",
     "iopub.status.idle": "2025-04-05T09:46:02.419016Z",
     "shell.execute_reply": "2025-04-05T09:46:02.417787Z"
    },
    "papermill": {
     "duration": 0.043748,
     "end_time": "2025-04-05T09:46:02.420876",
     "exception": false,
     "start_time": "2025-04-05T09:46:02.377128",
     "status": "completed"
    },
    "tags": []
   },
   "outputs": [
    {
     "data": {
      "text/plain": [
       "230.0"
      ]
     },
     "execution_count": 23,
     "metadata": {},
     "output_type": "execute_result"
    }
   ],
   "source": [
    "# Enter a negative number to round to the left of the decimal\n",
    "round(233.234,-1)  #round to the 10's place\n"
   ]
  },
  {
   "cell_type": "code",
   "execution_count": 24,
   "id": "3f600577",
   "metadata": {
    "execution": {
     "iopub.execute_input": "2025-04-05T09:46:02.491021Z",
     "iopub.status.busy": "2025-04-05T09:46:02.490655Z",
     "iopub.status.idle": "2025-04-05T09:46:02.496955Z",
     "shell.execute_reply": "2025-04-05T09:46:02.495865Z"
    },
    "papermill": {
     "duration": 0.04312,
     "end_time": "2025-04-05T09:46:02.498913",
     "exception": false,
     "start_time": "2025-04-05T09:46:02.455793",
     "status": "completed"
    },
    "tags": []
   },
   "outputs": [
    {
     "data": {
      "text/plain": [
       "2"
      ]
     },
     "execution_count": 24,
     "metadata": {},
     "output_type": "execute_result"
    }
   ],
   "source": [
    "# Round down the nearest whole number with math.floor()\n",
    "import math\n",
    "math.floor(2.8)"
   ]
  },
  {
   "cell_type": "code",
   "execution_count": 25,
   "id": "fa37328f",
   "metadata": {
    "execution": {
     "iopub.execute_input": "2025-04-05T09:46:02.572488Z",
     "iopub.status.busy": "2025-04-05T09:46:02.572049Z",
     "iopub.status.idle": "2025-04-05T09:46:02.579282Z",
     "shell.execute_reply": "2025-04-05T09:46:02.577835Z"
    },
    "papermill": {
     "duration": 0.047161,
     "end_time": "2025-04-05T09:46:02.581574",
     "exception": false,
     "start_time": "2025-04-05T09:46:02.534413",
     "status": "completed"
    },
    "tags": []
   },
   "outputs": [
    {
     "data": {
      "text/plain": [
       "3"
      ]
     },
     "execution_count": 25,
     "metadata": {},
     "output_type": "execute_result"
    }
   ],
   "source": [
    "#Round up with math.ceil()\n",
    "math.ceil(2.2)"
   ]
  },
  {
   "cell_type": "markdown",
   "id": "444e8427",
   "metadata": {
    "papermill": {
     "duration": 0.036774,
     "end_time": "2025-04-05T09:46:02.652960",
     "exception": false,
     "start_time": "2025-04-05T09:46:02.616186",
     "status": "completed"
    },
    "tags": []
   },
   "source": [
    "Integers\n",
    "Integers or \"ints\" for short, are whole-numbered numeric values. Any positive or negative number (or 0) without a decimal is an integer in Python. Integer values have unlimited precision, meaning an integer is exact. You can check the type of a Python object with the type() function."
   ]
  },
  {
   "cell_type": "code",
   "execution_count": 26,
   "id": "ebb4b552",
   "metadata": {
    "execution": {
     "iopub.execute_input": "2025-04-05T09:46:02.725339Z",
     "iopub.status.busy": "2025-04-05T09:46:02.724897Z",
     "iopub.status.idle": "2025-04-05T09:46:02.732415Z",
     "shell.execute_reply": "2025-04-05T09:46:02.730519Z"
    },
    "papermill": {
     "duration": 0.045308,
     "end_time": "2025-04-05T09:46:02.734862",
     "exception": false,
     "start_time": "2025-04-05T09:46:02.689554",
     "status": "completed"
    },
    "tags": []
   },
   "outputs": [
    {
     "data": {
      "text/plain": [
       "int"
      ]
     },
     "execution_count": 26,
     "metadata": {},
     "output_type": "execute_result"
    }
   ],
   "source": [
    "type(12)"
   ]
  },
  {
   "cell_type": "markdown",
   "id": "a2065838",
   "metadata": {
    "papermill": {
     "duration": 0.033307,
     "end_time": "2025-04-05T09:46:02.803670",
     "exception": false,
     "start_time": "2025-04-05T09:46:02.770363",
     "status": "completed"
    },
    "tags": []
   },
   "source": [
    "Above we see that the type of 12 is of type \"int\". You can also use function isinstance() to check whether an object is an object is an instance of a given type:"
   ]
  },
  {
   "cell_type": "code",
   "execution_count": 27,
   "id": "c990f581",
   "metadata": {
    "execution": {
     "iopub.execute_input": "2025-04-05T09:46:02.875180Z",
     "iopub.status.busy": "2025-04-05T09:46:02.874771Z",
     "iopub.status.idle": "2025-04-05T09:46:02.882077Z",
     "shell.execute_reply": "2025-04-05T09:46:02.880638Z"
    },
    "papermill": {
     "duration": 0.046399,
     "end_time": "2025-04-05T09:46:02.884076",
     "exception": false,
     "start_time": "2025-04-05T09:46:02.837677",
     "status": "completed"
    },
    "tags": []
   },
   "outputs": [
    {
     "data": {
      "text/plain": [
       "True"
      ]
     },
     "execution_count": 27,
     "metadata": {},
     "output_type": "execute_result"
    }
   ],
   "source": [
    "# Check if 12 is an instance of type \"int\"\n",
    "isinstance(12,int)"
   ]
  },
  {
   "cell_type": "markdown",
   "id": "999c06d5",
   "metadata": {
    "papermill": {
     "duration": 0.03387,
     "end_time": "2025-04-05T09:46:02.951832",
     "exception": false,
     "start_time": "2025-04-05T09:46:02.917962",
     "status": "completed"
    },
    "tags": []
   },
   "source": [
    "The code output True confirms that 12 is an int"
   ]
  },
  {
   "cell_type": "code",
   "execution_count": 28,
   "id": "da35da51",
   "metadata": {
    "execution": {
     "iopub.execute_input": "2025-04-05T09:46:03.022233Z",
     "iopub.status.busy": "2025-04-05T09:46:03.021866Z",
     "iopub.status.idle": "2025-04-05T09:46:03.029264Z",
     "shell.execute_reply": "2025-04-05T09:46:03.027946Z"
    },
    "papermill": {
     "duration": 0.046951,
     "end_time": "2025-04-05T09:46:03.031952",
     "exception": false,
     "start_time": "2025-04-05T09:46:02.985001",
     "status": "completed"
    },
    "tags": []
   },
   "outputs": [
    {
     "data": {
      "text/plain": [
       "0.3333333333333333"
      ]
     },
     "execution_count": 28,
     "metadata": {},
     "output_type": "execute_result"
    }
   ],
   "source": [
    "1/3"
   ]
  },
  {
   "cell_type": "code",
   "execution_count": 29,
   "id": "b74fed83",
   "metadata": {
    "execution": {
     "iopub.execute_input": "2025-04-05T09:46:03.110860Z",
     "iopub.status.busy": "2025-04-05T09:46:03.110356Z",
     "iopub.status.idle": "2025-04-05T09:46:03.117527Z",
     "shell.execute_reply": "2025-04-05T09:46:03.116442Z"
    },
    "papermill": {
     "duration": 0.04912,
     "end_time": "2025-04-05T09:46:03.119535",
     "exception": false,
     "start_time": "2025-04-05T09:46:03.070415",
     "status": "completed"
    },
    "tags": []
   },
   "outputs": [
    {
     "data": {
      "text/plain": [
       "float"
      ]
     },
     "execution_count": 29,
     "metadata": {},
     "output_type": "execute_result"
    }
   ],
   "source": [
    "type(1/3)"
   ]
  },
  {
   "cell_type": "markdown",
   "id": "f8932b00",
   "metadata": {
    "papermill": {
     "duration": 0.034707,
     "end_time": "2025-04-05T09:46:03.190535",
     "exception": false,
     "start_time": "2025-04-05T09:46:03.155828",
     "status": "completed"
    },
    "tags": []
   },
   "source": [
    "Floats\n",
    "Floating point numbers or \"floats\" are numbers with decimal values. Unlike integers, floating point numbers don't have unlimited precision because irrational decimal numbers are infinitely long and therfore can't be stored in memory. Instead, the computer approximates the value of long decimals, so there can be small rounding errors in long floats."
   ]
  },
  {
   "cell_type": "code",
   "execution_count": 30,
   "id": "cea1ac19",
   "metadata": {
    "execution": {
     "iopub.execute_input": "2025-04-05T09:46:03.262090Z",
     "iopub.status.busy": "2025-04-05T09:46:03.261723Z",
     "iopub.status.idle": "2025-04-05T09:46:03.268183Z",
     "shell.execute_reply": "2025-04-05T09:46:03.266829Z"
    },
    "papermill": {
     "duration": 0.044989,
     "end_time": "2025-04-05T09:46:03.270574",
     "exception": false,
     "start_time": "2025-04-05T09:46:03.225585",
     "status": "completed"
    },
    "tags": []
   },
   "outputs": [
    {
     "data": {
      "text/plain": [
       "float"
      ]
     },
     "execution_count": 30,
     "metadata": {},
     "output_type": "execute_result"
    }
   ],
   "source": [
    "type(1.0)"
   ]
  },
  {
   "cell_type": "code",
   "execution_count": 31,
   "id": "08f60cec",
   "metadata": {
    "execution": {
     "iopub.execute_input": "2025-04-05T09:46:03.344205Z",
     "iopub.status.busy": "2025-04-05T09:46:03.343826Z",
     "iopub.status.idle": "2025-04-05T09:46:03.350489Z",
     "shell.execute_reply": "2025-04-05T09:46:03.349267Z"
    },
    "papermill": {
     "duration": 0.043457,
     "end_time": "2025-04-05T09:46:03.352263",
     "exception": false,
     "start_time": "2025-04-05T09:46:03.308806",
     "status": "completed"
    },
    "tags": []
   },
   "outputs": [
    {
     "data": {
      "text/plain": [
       "int"
      ]
     },
     "execution_count": 31,
     "metadata": {},
     "output_type": "execute_result"
    }
   ],
   "source": [
    "type(1)"
   ]
  },
  {
   "cell_type": "code",
   "execution_count": 32,
   "id": "8e5c3690",
   "metadata": {
    "execution": {
     "iopub.execute_input": "2025-04-05T09:46:03.426881Z",
     "iopub.status.busy": "2025-04-05T09:46:03.426458Z",
     "iopub.status.idle": "2025-04-05T09:46:03.433240Z",
     "shell.execute_reply": "2025-04-05T09:46:03.432167Z"
    },
    "papermill": {
     "duration": 0.046744,
     "end_time": "2025-04-05T09:46:03.435062",
     "exception": false,
     "start_time": "2025-04-05T09:46:03.388318",
     "status": "completed"
    },
    "tags": []
   },
   "outputs": [
    {
     "data": {
      "text/plain": [
       "True"
      ]
     },
     "execution_count": 32,
     "metadata": {},
     "output_type": "execute_result"
    }
   ],
   "source": [
    "isinstance(0.33333,float)"
   ]
  },
  {
   "cell_type": "markdown",
   "id": "c3aa090e",
   "metadata": {
    "papermill": {
     "duration": 0.033318,
     "end_time": "2025-04-05T09:46:03.502078",
     "exception": false,
     "start_time": "2025-04-05T09:46:03.468760",
     "status": "completed"
    },
    "tags": []
   },
   "source": [
    "If you use both floats and ints in the same math expression the result is a float:"
   ]
  },
  {
   "cell_type": "code",
   "execution_count": 33,
   "id": "d863f24c",
   "metadata": {
    "execution": {
     "iopub.execute_input": "2025-04-05T09:46:03.569395Z",
     "iopub.status.busy": "2025-04-05T09:46:03.568966Z",
     "iopub.status.idle": "2025-04-05T09:46:03.575718Z",
     "shell.execute_reply": "2025-04-05T09:46:03.574254Z"
    },
    "papermill": {
     "duration": 0.043225,
     "end_time": "2025-04-05T09:46:03.577951",
     "exception": false,
     "start_time": "2025-04-05T09:46:03.534726",
     "status": "completed"
    },
    "tags": []
   },
   "outputs": [
    {
     "data": {
      "text/plain": [
       "6.0"
      ]
     },
     "execution_count": 33,
     "metadata": {},
     "output_type": "execute_result"
    }
   ],
   "source": [
    "5+1.0"
   ]
  },
  {
   "cell_type": "markdown",
   "id": "8910b3a2",
   "metadata": {
    "papermill": {
     "duration": 0.033014,
     "end_time": "2025-04-05T09:46:03.645072",
     "exception": false,
     "start_time": "2025-04-05T09:46:03.612058",
     "status": "completed"
    },
    "tags": []
   },
   "source": [
    "You can convert a float to an integer using the int() function"
   ]
  },
  {
   "cell_type": "code",
   "execution_count": 34,
   "id": "c982093f",
   "metadata": {
    "execution": {
     "iopub.execute_input": "2025-04-05T09:46:03.720856Z",
     "iopub.status.busy": "2025-04-05T09:46:03.720260Z",
     "iopub.status.idle": "2025-04-05T09:46:03.728860Z",
     "shell.execute_reply": "2025-04-05T09:46:03.727521Z"
    },
    "papermill": {
     "duration": 0.052897,
     "end_time": "2025-04-05T09:46:03.731251",
     "exception": false,
     "start_time": "2025-04-05T09:46:03.678354",
     "status": "completed"
    },
    "tags": []
   },
   "outputs": [
    {
     "data": {
      "text/plain": [
       "6"
      ]
     },
     "execution_count": 34,
     "metadata": {},
     "output_type": "execute_result"
    }
   ],
   "source": [
    "int(6.0)"
   ]
  },
  {
   "cell_type": "markdown",
   "id": "bd8df59e",
   "metadata": {
    "papermill": {
     "duration": 0.035134,
     "end_time": "2025-04-05T09:46:03.817146",
     "exception": false,
     "start_time": "2025-04-05T09:46:03.782012",
     "status": "completed"
    },
    "tags": []
   },
   "source": [
    "You can convert an integer to a float with the float() function"
   ]
  },
  {
   "cell_type": "code",
   "execution_count": 35,
   "id": "beab76b8",
   "metadata": {
    "execution": {
     "iopub.execute_input": "2025-04-05T09:46:03.900521Z",
     "iopub.status.busy": "2025-04-05T09:46:03.899361Z",
     "iopub.status.idle": "2025-04-05T09:46:03.907252Z",
     "shell.execute_reply": "2025-04-05T09:46:03.906194Z"
    },
    "papermill": {
     "duration": 0.057954,
     "end_time": "2025-04-05T09:46:03.909583",
     "exception": false,
     "start_time": "2025-04-05T09:46:03.851629",
     "status": "completed"
    },
    "tags": []
   },
   "outputs": [
    {
     "data": {
      "text/plain": [
       "6.0"
      ]
     },
     "execution_count": 35,
     "metadata": {},
     "output_type": "execute_result"
    }
   ],
   "source": [
    "float(6)"
   ]
  },
  {
   "cell_type": "markdown",
   "id": "44811206",
   "metadata": {
    "papermill": {
     "duration": 0.05683,
     "end_time": "2025-04-05T09:46:04.024955",
     "exception": false,
     "start_time": "2025-04-05T09:46:03.968125",
     "status": "completed"
    },
    "tags": []
   },
   "source": [
    "Floats can also take on a few special values: Inf, -Inf and NaN. Inf and -Inf stand for infinity and negative infinity respectively and NaN stands for \"Not a number\", which is sometimes used as a placeholder for missing or erroneous numerical values."
   ]
  },
  {
   "cell_type": "code",
   "execution_count": 36,
   "id": "614ed4f9",
   "metadata": {
    "execution": {
     "iopub.execute_input": "2025-04-05T09:46:04.106296Z",
     "iopub.status.busy": "2025-04-05T09:46:04.105870Z",
     "iopub.status.idle": "2025-04-05T09:46:04.112907Z",
     "shell.execute_reply": "2025-04-05T09:46:04.111608Z"
    },
    "papermill": {
     "duration": 0.0465,
     "end_time": "2025-04-05T09:46:04.115001",
     "exception": false,
     "start_time": "2025-04-05T09:46:04.068501",
     "status": "completed"
    },
    "tags": []
   },
   "outputs": [
    {
     "data": {
      "text/plain": [
       "float"
      ]
     },
     "execution_count": 36,
     "metadata": {},
     "output_type": "execute_result"
    }
   ],
   "source": [
    "type(float(\"Inf\"))"
   ]
  },
  {
   "cell_type": "code",
   "execution_count": 37,
   "id": "52a32d84",
   "metadata": {
    "execution": {
     "iopub.execute_input": "2025-04-05T09:46:04.188669Z",
     "iopub.status.busy": "2025-04-05T09:46:04.188196Z",
     "iopub.status.idle": "2025-04-05T09:46:04.194668Z",
     "shell.execute_reply": "2025-04-05T09:46:04.193608Z"
    },
    "papermill": {
     "duration": 0.044327,
     "end_time": "2025-04-05T09:46:04.196346",
     "exception": false,
     "start_time": "2025-04-05T09:46:04.152019",
     "status": "completed"
    },
    "tags": []
   },
   "outputs": [
    {
     "data": {
      "text/plain": [
       "float"
      ]
     },
     "execution_count": 37,
     "metadata": {},
     "output_type": "execute_result"
    }
   ],
   "source": [
    "type(float(\"NaN\"))"
   ]
  },
  {
   "cell_type": "markdown",
   "id": "daaa1527",
   "metadata": {
    "papermill": {
     "duration": 0.033836,
     "end_time": "2025-04-05T09:46:04.263938",
     "exception": false,
     "start_time": "2025-04-05T09:46:04.230102",
     "status": "completed"
    },
    "tags": []
   },
   "source": [
    "Booleans\n",
    "Booleans or \"Bools\" are true/false values that result from logical statements. True or False"
   ]
  },
  {
   "cell_type": "code",
   "execution_count": 38,
   "id": "dd55d962",
   "metadata": {
    "execution": {
     "iopub.execute_input": "2025-04-05T09:46:04.333455Z",
     "iopub.status.busy": "2025-04-05T09:46:04.332983Z",
     "iopub.status.idle": "2025-04-05T09:46:04.340121Z",
     "shell.execute_reply": "2025-04-05T09:46:04.338816Z"
    },
    "papermill": {
     "duration": 0.04427,
     "end_time": "2025-04-05T09:46:04.342125",
     "exception": false,
     "start_time": "2025-04-05T09:46:04.297855",
     "status": "completed"
    },
    "tags": []
   },
   "outputs": [
    {
     "data": {
      "text/plain": [
       "bool"
      ]
     },
     "execution_count": 38,
     "metadata": {},
     "output_type": "execute_result"
    }
   ],
   "source": [
    "type(True)"
   ]
  },
  {
   "cell_type": "code",
   "execution_count": 39,
   "id": "5fda2e32",
   "metadata": {
    "execution": {
     "iopub.execute_input": "2025-04-05T09:46:04.412267Z",
     "iopub.status.busy": "2025-04-05T09:46:04.411827Z",
     "iopub.status.idle": "2025-04-05T09:46:04.419512Z",
     "shell.execute_reply": "2025-04-05T09:46:04.418285Z"
    },
    "papermill": {
     "duration": 0.045749,
     "end_time": "2025-04-05T09:46:04.421601",
     "exception": false,
     "start_time": "2025-04-05T09:46:04.375852",
     "status": "completed"
    },
    "tags": []
   },
   "outputs": [
    {
     "data": {
      "text/plain": [
       "True"
      ]
     },
     "execution_count": 39,
     "metadata": {},
     "output_type": "execute_result"
    }
   ],
   "source": [
    "isinstance(False,bool) #Check if False "
   ]
  },
  {
   "cell_type": "markdown",
   "id": "17d8d6ea",
   "metadata": {
    "papermill": {
     "duration": 0.035858,
     "end_time": "2025-04-05T09:46:04.492931",
     "exception": false,
     "start_time": "2025-04-05T09:46:04.457073",
     "status": "completed"
    },
    "tags": []
   },
   "source": [
    "You can create boolean values with logical expressions. Python supports all of the standard logic operators you'd expect:"
   ]
  },
  {
   "cell_type": "code",
   "execution_count": 40,
   "id": "44c3ad84",
   "metadata": {
    "execution": {
     "iopub.execute_input": "2025-04-05T09:46:04.564517Z",
     "iopub.status.busy": "2025-04-05T09:46:04.564096Z",
     "iopub.status.idle": "2025-04-05T09:46:04.569785Z",
     "shell.execute_reply": "2025-04-05T09:46:04.568766Z"
    },
    "papermill": {
     "duration": 0.043708,
     "end_time": "2025-04-05T09:46:04.571712",
     "exception": false,
     "start_time": "2025-04-05T09:46:04.528004",
     "status": "completed"
    },
    "tags": []
   },
   "outputs": [
    {
     "data": {
      "text/plain": [
       "True"
      ]
     },
     "execution_count": 40,
     "metadata": {},
     "output_type": "execute_result"
    }
   ],
   "source": [
    "#Use > and < for greator than and less than :\n",
    "20 > 10"
   ]
  },
  {
   "cell_type": "code",
   "execution_count": 41,
   "id": "645430f5",
   "metadata": {
    "execution": {
     "iopub.execute_input": "2025-04-05T09:46:04.644591Z",
     "iopub.status.busy": "2025-04-05T09:46:04.644115Z",
     "iopub.status.idle": "2025-04-05T09:46:04.651158Z",
     "shell.execute_reply": "2025-04-05T09:46:04.649862Z"
    },
    "papermill": {
     "duration": 0.045172,
     "end_time": "2025-04-05T09:46:04.653263",
     "exception": false,
     "start_time": "2025-04-05T09:46:04.608091",
     "status": "completed"
    },
    "tags": []
   },
   "outputs": [
    {
     "data": {
      "text/plain": [
       "False"
      ]
     },
     "execution_count": 41,
     "metadata": {},
     "output_type": "execute_result"
    }
   ],
   "source": [
    "20 < 5"
   ]
  },
  {
   "cell_type": "code",
   "execution_count": 42,
   "id": "18c06e65",
   "metadata": {
    "execution": {
     "iopub.execute_input": "2025-04-05T09:46:04.726571Z",
     "iopub.status.busy": "2025-04-05T09:46:04.726129Z",
     "iopub.status.idle": "2025-04-05T09:46:04.732713Z",
     "shell.execute_reply": "2025-04-05T09:46:04.731602Z"
    },
    "papermill": {
     "duration": 0.045485,
     "end_time": "2025-04-05T09:46:04.734492",
     "exception": false,
     "start_time": "2025-04-05T09:46:04.689007",
     "status": "completed"
    },
    "tags": []
   },
   "outputs": [
    {
     "data": {
      "text/plain": [
       "True"
      ]
     },
     "execution_count": 42,
     "metadata": {},
     "output_type": "execute_result"
    }
   ],
   "source": [
    "# use >= and <= for greater than or equal and less than or equal :\n",
    "20 >= 20"
   ]
  },
  {
   "cell_type": "code",
   "execution_count": 43,
   "id": "e1db8c27",
   "metadata": {
    "execution": {
     "iopub.execute_input": "2025-04-05T09:46:04.811478Z",
     "iopub.status.busy": "2025-04-05T09:46:04.811038Z",
     "iopub.status.idle": "2025-04-05T09:46:04.817557Z",
     "shell.execute_reply": "2025-04-05T09:46:04.816299Z"
    },
    "papermill": {
     "duration": 0.047117,
     "end_time": "2025-04-05T09:46:04.819417",
     "exception": false,
     "start_time": "2025-04-05T09:46:04.772300",
     "status": "completed"
    },
    "tags": []
   },
   "outputs": [
    {
     "data": {
      "text/plain": [
       "True"
      ]
     },
     "execution_count": 43,
     "metadata": {},
     "output_type": "execute_result"
    }
   ],
   "source": [
    "#use == (two equal signs in a row) to check equality:\n",
    "10 == 10"
   ]
  },
  {
   "cell_type": "code",
   "execution_count": 44,
   "id": "b3cbe5ad",
   "metadata": {
    "execution": {
     "iopub.execute_input": "2025-04-05T09:46:04.890724Z",
     "iopub.status.busy": "2025-04-05T09:46:04.890281Z",
     "iopub.status.idle": "2025-04-05T09:46:04.897162Z",
     "shell.execute_reply": "2025-04-05T09:46:04.895948Z"
    },
    "papermill": {
     "duration": 0.044571,
     "end_time": "2025-04-05T09:46:04.899165",
     "exception": false,
     "start_time": "2025-04-05T09:46:04.854594",
     "status": "completed"
    },
    "tags": []
   },
   "outputs": [
    {
     "data": {
      "text/plain": [
       "True"
      ]
     },
     "execution_count": 44,
     "metadata": {},
     "output_type": "execute_result"
    }
   ],
   "source": [
    "40 == 40.0  #Equivalent ints and floats are considered equal"
   ]
  },
  {
   "cell_type": "code",
   "execution_count": 45,
   "id": "0114a7d4",
   "metadata": {
    "execution": {
     "iopub.execute_input": "2025-04-05T09:46:04.970344Z",
     "iopub.status.busy": "2025-04-05T09:46:04.969940Z",
     "iopub.status.idle": "2025-04-05T09:46:04.976324Z",
     "shell.execute_reply": "2025-04-05T09:46:04.975142Z"
    },
    "papermill": {
     "duration": 0.044099,
     "end_time": "2025-04-05T09:46:04.978174",
     "exception": false,
     "start_time": "2025-04-05T09:46:04.934075",
     "status": "completed"
    },
    "tags": []
   },
   "outputs": [
    {
     "data": {
      "text/plain": [
       "True"
      ]
     },
     "execution_count": 45,
     "metadata": {},
     "output_type": "execute_result"
    }
   ],
   "source": [
    "#Use != to check inequality. (think of != as \"not equal to\")\n",
    "1 != 2"
   ]
  },
  {
   "cell_type": "code",
   "execution_count": 46,
   "id": "68d6e54a",
   "metadata": {
    "execution": {
     "iopub.execute_input": "2025-04-05T09:46:05.055773Z",
     "iopub.status.busy": "2025-04-05T09:46:05.055308Z",
     "iopub.status.idle": "2025-04-05T09:46:05.062017Z",
     "shell.execute_reply": "2025-04-05T09:46:05.060756Z"
    },
    "papermill": {
     "duration": 0.048771,
     "end_time": "2025-04-05T09:46:05.064021",
     "exception": false,
     "start_time": "2025-04-05T09:46:05.015250",
     "status": "completed"
    },
    "tags": []
   },
   "outputs": [
    {
     "data": {
      "text/plain": [
       "True"
      ]
     },
     "execution_count": 46,
     "metadata": {},
     "output_type": "execute_result"
    }
   ],
   "source": [
    "# Use the keyword \"not\" for negation:\n",
    "not False"
   ]
  },
  {
   "cell_type": "code",
   "execution_count": 47,
   "id": "cf6450f3",
   "metadata": {
    "execution": {
     "iopub.execute_input": "2025-04-05T09:46:05.201109Z",
     "iopub.status.busy": "2025-04-05T09:46:05.200677Z",
     "iopub.status.idle": "2025-04-05T09:46:05.207281Z",
     "shell.execute_reply": "2025-04-05T09:46:05.206137Z"
    },
    "papermill": {
     "duration": 0.106469,
     "end_time": "2025-04-05T09:46:05.209329",
     "exception": false,
     "start_time": "2025-04-05T09:46:05.102860",
     "status": "completed"
    },
    "tags": []
   },
   "outputs": [
    {
     "data": {
      "text/plain": [
       "False"
      ]
     },
     "execution_count": 47,
     "metadata": {},
     "output_type": "execute_result"
    }
   ],
   "source": [
    "#Use the keyword \"and\" for logical and:\n",
    "(2>1) and (10>11)"
   ]
  },
  {
   "cell_type": "code",
   "execution_count": 48,
   "id": "5c84e461",
   "metadata": {
    "execution": {
     "iopub.execute_input": "2025-04-05T09:46:05.281009Z",
     "iopub.status.busy": "2025-04-05T09:46:05.280594Z",
     "iopub.status.idle": "2025-04-05T09:46:05.287777Z",
     "shell.execute_reply": "2025-04-05T09:46:05.286192Z"
    },
    "papermill": {
     "duration": 0.045359,
     "end_time": "2025-04-05T09:46:05.290019",
     "exception": false,
     "start_time": "2025-04-05T09:46:05.244660",
     "status": "completed"
    },
    "tags": []
   },
   "outputs": [
    {
     "data": {
      "text/plain": [
       "True"
      ]
     },
     "execution_count": 48,
     "metadata": {},
     "output_type": "execute_result"
    }
   ],
   "source": [
    "#Use the keyword \"or\" for logical or:\n",
    "(2>1) or (10>11)"
   ]
  },
  {
   "cell_type": "code",
   "execution_count": 49,
   "id": "c6fb5430",
   "metadata": {
    "execution": {
     "iopub.execute_input": "2025-04-05T09:46:05.362274Z",
     "iopub.status.busy": "2025-04-05T09:46:05.361851Z",
     "iopub.status.idle": "2025-04-05T09:46:05.368765Z",
     "shell.execute_reply": "2025-04-05T09:46:05.367589Z"
    },
    "papermill": {
     "duration": 0.045839,
     "end_time": "2025-04-05T09:46:05.370784",
     "exception": false,
     "start_time": "2025-04-05T09:46:05.324945",
     "status": "completed"
    },
    "tags": []
   },
   "outputs": [
    {
     "data": {
      "text/plain": [
       "True"
      ]
     },
     "execution_count": 49,
     "metadata": {},
     "output_type": "execute_result"
    }
   ],
   "source": [
    "2>1 or  10<8 and not True"
   ]
  },
  {
   "cell_type": "code",
   "execution_count": 50,
   "id": "5315f8af",
   "metadata": {
    "execution": {
     "iopub.execute_input": "2025-04-05T09:46:05.448324Z",
     "iopub.status.busy": "2025-04-05T09:46:05.447937Z",
     "iopub.status.idle": "2025-04-05T09:46:05.455058Z",
     "shell.execute_reply": "2025-04-05T09:46:05.453891Z"
    },
    "papermill": {
     "duration": 0.048035,
     "end_time": "2025-04-05T09:46:05.457065",
     "exception": false,
     "start_time": "2025-04-05T09:46:05.409030",
     "status": "completed"
    },
    "tags": []
   },
   "outputs": [
    {
     "data": {
      "text/plain": [
       "False"
      ]
     },
     "execution_count": 50,
     "metadata": {},
     "output_type": "execute_result"
    }
   ],
   "source": [
    "((2>1) or (10<8)) and (not True)"
   ]
  },
  {
   "cell_type": "markdown",
   "id": "a647bf78",
   "metadata": {
    "papermill": {
     "duration": 0.036778,
     "end_time": "2025-04-05T09:46:05.532610",
     "exception": false,
     "start_time": "2025-04-05T09:46:05.495832",
     "status": "completed"
    },
    "tags": []
   },
   "source": [
    "You can convert numbers into boolean values using the bool() function. All numbers other than 0 convert to True:"
   ]
  },
  {
   "cell_type": "code",
   "execution_count": 51,
   "id": "d9c0a354",
   "metadata": {
    "execution": {
     "iopub.execute_input": "2025-04-05T09:46:05.608359Z",
     "iopub.status.busy": "2025-04-05T09:46:05.607964Z",
     "iopub.status.idle": "2025-04-05T09:46:05.615034Z",
     "shell.execute_reply": "2025-04-05T09:46:05.613970Z"
    },
    "papermill": {
     "duration": 0.046914,
     "end_time": "2025-04-05T09:46:05.616871",
     "exception": false,
     "start_time": "2025-04-05T09:46:05.569957",
     "status": "completed"
    },
    "tags": []
   },
   "outputs": [
    {
     "data": {
      "text/plain": [
       "True"
      ]
     },
     "execution_count": 51,
     "metadata": {},
     "output_type": "execute_result"
    }
   ],
   "source": [
    "bool(1)"
   ]
  },
  {
   "cell_type": "code",
   "execution_count": 52,
   "id": "82c7540c",
   "metadata": {
    "execution": {
     "iopub.execute_input": "2025-04-05T09:46:05.692711Z",
     "iopub.status.busy": "2025-04-05T09:46:05.692249Z",
     "iopub.status.idle": "2025-04-05T09:46:05.698573Z",
     "shell.execute_reply": "2025-04-05T09:46:05.697364Z"
    },
    "papermill": {
     "duration": 0.045859,
     "end_time": "2025-04-05T09:46:05.700905",
     "exception": false,
     "start_time": "2025-04-05T09:46:05.655046",
     "status": "completed"
    },
    "tags": []
   },
   "outputs": [
    {
     "data": {
      "text/plain": [
       "False"
      ]
     },
     "execution_count": 52,
     "metadata": {},
     "output_type": "execute_result"
    }
   ],
   "source": [
    "bool(0)"
   ]
  },
  {
   "cell_type": "markdown",
   "id": "1c9b2abe",
   "metadata": {
    "papermill": {
     "duration": 0.039135,
     "end_time": "2025-04-05T09:46:05.776790",
     "exception": false,
     "start_time": "2025-04-05T09:46:05.737655",
     "status": "completed"
    },
    "tags": []
   },
   "source": [
    "# Strings"
   ]
  },
  {
   "cell_type": "markdown",
   "id": "6bf3ccea",
   "metadata": {
    "papermill": {
     "duration": 0.038218,
     "end_time": "2025-04-05T09:46:05.851297",
     "exception": false,
     "start_time": "2025-04-05T09:46:05.813079",
     "status": "completed"
    },
    "tags": []
   },
   "source": [
    "Text data in Python is known as string or \"str\". Surround text with single or double quotation marks to create a string:"
   ]
  },
  {
   "cell_type": "code",
   "execution_count": 53,
   "id": "1af1c562",
   "metadata": {
    "execution": {
     "iopub.execute_input": "2025-04-05T09:46:05.928998Z",
     "iopub.status.busy": "2025-04-05T09:46:05.928647Z",
     "iopub.status.idle": "2025-04-05T09:46:05.935460Z",
     "shell.execute_reply": "2025-04-05T09:46:05.934025Z"
    },
    "papermill": {
     "duration": 0.046358,
     "end_time": "2025-04-05T09:46:05.937643",
     "exception": false,
     "start_time": "2025-04-05T09:46:05.891285",
     "status": "completed"
    },
    "tags": []
   },
   "outputs": [
    {
     "data": {
      "text/plain": [
       "str"
      ]
     },
     "execution_count": 53,
     "metadata": {},
     "output_type": "execute_result"
    }
   ],
   "source": [
    "type(\"cat\")"
   ]
  },
  {
   "cell_type": "code",
   "execution_count": 54,
   "id": "e8635357",
   "metadata": {
    "execution": {
     "iopub.execute_input": "2025-04-05T09:46:06.014774Z",
     "iopub.status.busy": "2025-04-05T09:46:06.014356Z",
     "iopub.status.idle": "2025-04-05T09:46:06.021422Z",
     "shell.execute_reply": "2025-04-05T09:46:06.019978Z"
    },
    "papermill": {
     "duration": 0.047783,
     "end_time": "2025-04-05T09:46:06.023584",
     "exception": false,
     "start_time": "2025-04-05T09:46:05.975801",
     "status": "completed"
    },
    "tags": []
   },
   "outputs": [
    {
     "data": {
      "text/plain": [
       "str"
      ]
     },
     "execution_count": 54,
     "metadata": {},
     "output_type": "execute_result"
    }
   ],
   "source": [
    "type('1')"
   ]
  },
  {
   "cell_type": "markdown",
   "id": "857c246e",
   "metadata": {
    "papermill": {
     "duration": 0.039766,
     "end_time": "2025-04-05T09:46:06.104937",
     "exception": false,
     "start_time": "2025-04-05T09:46:06.065171",
     "status": "completed"
    },
    "tags": []
   },
   "source": [
    "# None\n",
    "In python, \"None\" is a special data type that is often used to represent a missing value. for example, if you define a function that doesn't return anything it will return \"None\" by default."
   ]
  },
  {
   "cell_type": "code",
   "execution_count": 55,
   "id": "47f0f058",
   "metadata": {
    "execution": {
     "iopub.execute_input": "2025-04-05T09:46:06.184091Z",
     "iopub.status.busy": "2025-04-05T09:46:06.183742Z",
     "iopub.status.idle": "2025-04-05T09:46:06.190530Z",
     "shell.execute_reply": "2025-04-05T09:46:06.189303Z"
    },
    "papermill": {
     "duration": 0.047523,
     "end_time": "2025-04-05T09:46:06.192267",
     "exception": false,
     "start_time": "2025-04-05T09:46:06.144744",
     "status": "completed"
    },
    "tags": []
   },
   "outputs": [
    {
     "data": {
      "text/plain": [
       "NoneType"
      ]
     },
     "execution_count": 55,
     "metadata": {},
     "output_type": "execute_result"
    }
   ],
   "source": [
    "type(None)"
   ]
  },
  {
   "cell_type": "code",
   "execution_count": 56,
   "id": "3c23e00b",
   "metadata": {
    "execution": {
     "iopub.execute_input": "2025-04-05T09:46:06.266761Z",
     "iopub.status.busy": "2025-04-05T09:46:06.266329Z",
     "iopub.status.idle": "2025-04-05T09:46:06.274743Z",
     "shell.execute_reply": "2025-04-05T09:46:06.273164Z"
    },
    "papermill": {
     "duration": 0.048212,
     "end_time": "2025-04-05T09:46:06.276947",
     "exception": false,
     "start_time": "2025-04-05T09:46:06.228735",
     "status": "completed"
    },
    "tags": []
   },
   "outputs": [
    {
     "name": "stdout",
     "output_type": "stream",
     "text": [
      "hello\n"
     ]
    },
    {
     "data": {
      "text/plain": [
       "True"
      ]
     },
     "execution_count": 56,
     "metadata": {},
     "output_type": "execute_result"
    }
   ],
   "source": [
    "#Define a function that prints the input but returns nothing\n",
    "def my_function(x):\n",
    "    print(x)\n",
    "my_function(\"hello\") == None  #the output of my_function equals None\n",
    "\n"
   ]
  },
  {
   "cell_type": "code",
   "execution_count": 57,
   "id": "0bec3501",
   "metadata": {
    "execution": {
     "iopub.execute_input": "2025-04-05T09:46:06.351343Z",
     "iopub.status.busy": "2025-04-05T09:46:06.350916Z",
     "iopub.status.idle": "2025-04-05T09:46:06.357791Z",
     "shell.execute_reply": "2025-04-05T09:46:06.356548Z"
    },
    "papermill": {
     "duration": 0.046639,
     "end_time": "2025-04-05T09:46:06.359689",
     "exception": false,
     "start_time": "2025-04-05T09:46:06.313050",
     "status": "completed"
    },
    "tags": []
   },
   "outputs": [
    {
     "data": {
      "text/plain": [
       "False"
      ]
     },
     "execution_count": 57,
     "metadata": {},
     "output_type": "execute_result"
    }
   ],
   "source": [
    "\"hello\"==None"
   ]
  },
  {
   "cell_type": "code",
   "execution_count": 58,
   "id": "fc0c4faf",
   "metadata": {
    "execution": {
     "iopub.execute_input": "2025-04-05T09:46:06.432838Z",
     "iopub.status.busy": "2025-04-05T09:46:06.432304Z",
     "iopub.status.idle": "2025-04-05T09:46:06.439323Z",
     "shell.execute_reply": "2025-04-05T09:46:06.437851Z"
    },
    "papermill": {
     "duration": 0.046057,
     "end_time": "2025-04-05T09:46:06.441419",
     "exception": false,
     "start_time": "2025-04-05T09:46:06.395362",
     "status": "completed"
    },
    "tags": []
   },
   "outputs": [
    {
     "data": {
      "text/plain": [
       "False"
      ]
     },
     "execution_count": 58,
     "metadata": {},
     "output_type": "execute_result"
    }
   ],
   "source": [
    "x=\"hello\"\n",
    "x==None"
   ]
  },
  {
   "cell_type": "markdown",
   "id": "fa50acb5",
   "metadata": {
    "papermill": {
     "duration": 0.03738,
     "end_time": "2025-04-05T09:46:06.516160",
     "exception": false,
     "start_time": "2025-04-05T09:46:06.478780",
     "status": "completed"
    },
    "tags": []
   },
   "source": [
    "#Assigning Variable "
   ]
  },
  {
   "cell_type": "code",
   "execution_count": 59,
   "id": "f2644158",
   "metadata": {
    "execution": {
     "iopub.execute_input": "2025-04-05T09:46:06.591647Z",
     "iopub.status.busy": "2025-04-05T09:46:06.591166Z",
     "iopub.status.idle": "2025-04-05T09:46:06.597071Z",
     "shell.execute_reply": "2025-04-05T09:46:06.595940Z"
    },
    "papermill": {
     "duration": 0.045684,
     "end_time": "2025-04-05T09:46:06.598977",
     "exception": false,
     "start_time": "2025-04-05T09:46:06.553293",
     "status": "completed"
    },
    "tags": []
   },
   "outputs": [
    {
     "name": "stdout",
     "output_type": "stream",
     "text": [
      "10\n",
      "Python is fun\n",
      "True\n"
     ]
    }
   ],
   "source": [
    "x = 10\n",
    "y = \"Python is fun\"\n",
    "z = 144**0.5 == 12\n",
    "print(x)\n",
    "print(y)\n",
    "print(z)\n"
   ]
  },
  {
   "cell_type": "markdown",
   "id": "d76f2def",
   "metadata": {
    "papermill": {
     "duration": 0.035707,
     "end_time": "2025-04-05T09:46:06.672273",
     "exception": false,
     "start_time": "2025-04-05T09:46:06.636566",
     "status": "completed"
    },
    "tags": []
   },
   "source": [
    "Note : assigning a variable does not produce any output"
   ]
  },
  {
   "cell_type": "code",
   "execution_count": 60,
   "id": "406a5638",
   "metadata": {
    "execution": {
     "iopub.execute_input": "2025-04-05T09:46:06.752675Z",
     "iopub.status.busy": "2025-04-05T09:46:06.752217Z",
     "iopub.status.idle": "2025-04-05T09:46:06.758344Z",
     "shell.execute_reply": "2025-04-05T09:46:06.756736Z"
    },
    "papermill": {
     "duration": 0.050692,
     "end_time": "2025-04-05T09:46:06.760590",
     "exception": false,
     "start_time": "2025-04-05T09:46:06.709898",
     "status": "completed"
    },
    "tags": []
   },
   "outputs": [
    {
     "name": "stdout",
     "output_type": "stream",
     "text": [
      "4\n",
      "4\n"
     ]
    }
   ],
   "source": [
    "n = m = 4\n",
    "print(n)\n",
    "print(m)"
   ]
  },
  {
   "cell_type": "markdown",
   "id": "bc972962",
   "metadata": {
    "papermill": {
     "duration": 0.039476,
     "end_time": "2025-04-05T09:46:06.838806",
     "exception": false,
     "start_time": "2025-04-05T09:46:06.799330",
     "status": "completed"
    },
    "tags": []
   },
   "source": [
    "You can also assign several different variables at the same time using a comma separated sequence of variable names followed by the assignment operator and a comma separated sequence of values inside parameters:"
   ]
  },
  {
   "cell_type": "code",
   "execution_count": 61,
   "id": "d83192c4",
   "metadata": {
    "execution": {
     "iopub.execute_input": "2025-04-05T09:46:06.916265Z",
     "iopub.status.busy": "2025-04-05T09:46:06.915927Z",
     "iopub.status.idle": "2025-04-05T09:46:06.922565Z",
     "shell.execute_reply": "2025-04-05T09:46:06.921188Z"
    },
    "papermill": {
     "duration": 0.048313,
     "end_time": "2025-04-05T09:46:06.925000",
     "exception": false,
     "start_time": "2025-04-05T09:46:06.876687",
     "status": "completed"
    },
    "tags": []
   },
   "outputs": [
    {
     "name": "stdout",
     "output_type": "stream",
     "text": [
      "10\n",
      "20\n",
      "30\n"
     ]
    }
   ],
   "source": [
    "# Assign 3 variables at the same time:\n",
    "x, y, z = (10,20,30)\n",
    "\n",
    "print(x)\n",
    "print(y)\n",
    "print(z)"
   ]
  },
  {
   "cell_type": "markdown",
   "id": "d42a1cb4",
   "metadata": {
    "papermill": {
     "duration": 0.037297,
     "end_time": "2025-04-05T09:46:07.001113",
     "exception": false,
     "start_time": "2025-04-05T09:46:06.963816",
     "status": "completed"
    },
    "tags": []
   },
   "source": [
    "This method of extracting variables from a comma separated sequence is know as tuple unpacking"
   ]
  },
  {
   "cell_type": "code",
   "execution_count": 62,
   "id": "64edd55f",
   "metadata": {
    "execution": {
     "iopub.execute_input": "2025-04-05T09:46:07.078796Z",
     "iopub.status.busy": "2025-04-05T09:46:07.078423Z",
     "iopub.status.idle": "2025-04-05T09:46:07.084726Z",
     "shell.execute_reply": "2025-04-05T09:46:07.083147Z"
    },
    "papermill": {
     "duration": 0.04714,
     "end_time": "2025-04-05T09:46:07.086741",
     "exception": false,
     "start_time": "2025-04-05T09:46:07.039601",
     "status": "completed"
    },
    "tags": []
   },
   "outputs": [
    {
     "name": "stdout",
     "output_type": "stream",
     "text": [
      "20\n",
      "10\n"
     ]
    }
   ],
   "source": [
    "#You can swap the values of two variables using a similar syntax:\n",
    "(x, y)=(y, x)\n",
    "print(x)\n",
    "print(y)"
   ]
  },
  {
   "cell_type": "markdown",
   "id": "e7e410c3",
   "metadata": {
    "papermill": {
     "duration": 0.039447,
     "end_time": "2025-04-05T09:46:07.167751",
     "exception": false,
     "start_time": "2025-04-05T09:46:07.128304",
     "status": "completed"
    },
    "tags": []
   },
   "source": [
    "When you assign a variable in Python, the variable is a reference to a specific object in the computer's memory. Reassigning a variable simply switches the reference to a different object in memory. If the object a variable refers to in memory is altered in some way, the value of the variable corresponding to the altered object will also change. All of the basic data types we've seen thus far are immutable, meaning they cannot be changed after they are created. If you perform some operation that appears to alter an immutable object, it is actually creating a totally new object in a memory, rather than changing the original immutable object."
   ]
  },
  {
   "cell_type": "code",
   "execution_count": 63,
   "id": "ef3053a5",
   "metadata": {
    "execution": {
     "iopub.execute_input": "2025-04-05T09:46:07.244713Z",
     "iopub.status.busy": "2025-04-05T09:46:07.244268Z",
     "iopub.status.idle": "2025-04-05T09:46:07.250433Z",
     "shell.execute_reply": "2025-04-05T09:46:07.248971Z"
    },
    "papermill": {
     "duration": 0.047402,
     "end_time": "2025-04-05T09:46:07.252581",
     "exception": false,
     "start_time": "2025-04-05T09:46:07.205179",
     "status": "completed"
    },
    "tags": []
   },
   "outputs": [
    {
     "name": "stdout",
     "output_type": "stream",
     "text": [
      "Hello\n",
      "hello\n"
     ]
    }
   ],
   "source": [
    "#Consider the following example:\n",
    "x = \"Hello\"    #Create a new string\n",
    "y = x          #Assign y the same object as x\n",
    "y = y.lower()  #Assign y the result of y.lower()\n",
    "print(x)\n",
    "print(y)"
   ]
  },
  {
   "cell_type": "markdown",
   "id": "b2bc9aee",
   "metadata": {
    "papermill": {
     "duration": 0.038437,
     "end_time": "2025-04-05T09:46:07.329603",
     "exception": false,
     "start_time": "2025-04-05T09:46:07.291166",
     "status": "completed"
    },
    "tags": []
   },
   "source": [
    "In the case above, we first assign x the value \"Hello\", a string object stored somewhere in memory.  Next we use the string method lower () to make the string assigned to y lowercase. Since strings are immutable, Python creates an entirey new string, \"hello\" and stores it somewhere in memory separate from the orginal \"Hello\" object. As a result, x and y refer to different objects in memory and produce different results when printed to the console."
   ]
  },
  {
   "cell_type": "markdown",
   "id": "48122877",
   "metadata": {
    "papermill": {
     "duration": 0.037515,
     "end_time": "2025-04-05T09:46:07.409846",
     "exception": false,
     "start_time": "2025-04-05T09:46:07.372331",
     "status": "completed"
    },
    "tags": []
   },
   "source": [
    "By contract, lists are a mutable data structure that can hold multiple objects. If you alter a list, Python doesn't make an entirely new list in memory: it changes the actual list object itself. This can lead to seemingly inconsistent and confusing behaviour:"
   ]
  },
  {
   "cell_type": "code",
   "execution_count": 64,
   "id": "10845891",
   "metadata": {
    "execution": {
     "iopub.execute_input": "2025-04-05T09:46:07.488332Z",
     "iopub.status.busy": "2025-04-05T09:46:07.487987Z",
     "iopub.status.idle": "2025-04-05T09:46:07.494409Z",
     "shell.execute_reply": "2025-04-05T09:46:07.492910Z"
    },
    "papermill": {
     "duration": 0.048309,
     "end_time": "2025-04-05T09:46:07.496345",
     "exception": false,
     "start_time": "2025-04-05T09:46:07.448036",
     "status": "completed"
    },
    "tags": []
   },
   "outputs": [
    {
     "name": "stdout",
     "output_type": "stream",
     "text": [
      "[1, 2, 3, 4]\n",
      "[1, 2, 3, 4]\n"
     ]
    }
   ],
   "source": [
    "x = [1,2,3] #Create a new list\n",
    "y = x       #Assign y the same object as x\n",
    "y.append(4) #Add 4 to the end of list y\n",
    "print(x)\n",
    "print(y)"
   ]
  },
  {
   "cell_type": "markdown",
   "id": "0248935a",
   "metadata": {
    "papermill": {
     "duration": 0.04101,
     "end_time": "2025-04-05T09:46:07.577100",
     "exception": false,
     "start_time": "2025-04-05T09:46:07.536090",
     "status": "completed"
    },
    "tags": []
   },
   "source": [
    "In this case, x and y still both refer to the same original list, so both x and y have the same value, even though it may appear that the code only added the number 4 to list y."
   ]
  },
  {
   "cell_type": "markdown",
   "id": "db3a7c22",
   "metadata": {
    "papermill": {
     "duration": 0.038521,
     "end_time": "2025-04-05T09:46:07.654319",
     "exception": false,
     "start_time": "2025-04-05T09:46:07.615798",
     "status": "completed"
    },
    "tags": []
   },
   "source": [
    "**List Basics**\n",
    "A list is a mutuable, ordered collection of objects. \"Mutable\" means a list can be altered after it is created. You can, for example,add new items to a list or remove existing items. Lists are heterogeneous, meaning they can hold objects of different types."
   ]
  },
  {
   "cell_type": "code",
   "execution_count": 65,
   "id": "a5fced69",
   "metadata": {
    "execution": {
     "iopub.execute_input": "2025-04-05T09:46:07.731907Z",
     "iopub.status.busy": "2025-04-05T09:46:07.731450Z",
     "iopub.status.idle": "2025-04-05T09:46:07.737270Z",
     "shell.execute_reply": "2025-04-05T09:46:07.735936Z"
    },
    "papermill": {
     "duration": 0.046112,
     "end_time": "2025-04-05T09:46:07.739033",
     "exception": false,
     "start_time": "2025-04-05T09:46:07.692921",
     "status": "completed"
    },
    "tags": []
   },
   "outputs": [
    {
     "name": "stdout",
     "output_type": "stream",
     "text": [
      "['Lesson', 5, 'Is Fun?', True]\n"
     ]
    }
   ],
   "source": [
    "my_list = [\"Lesson\",5,\"Is Fun?\",True]\n",
    "print(my_list)"
   ]
  },
  {
   "cell_type": "markdown",
   "id": "256094e0",
   "metadata": {
    "papermill": {
     "duration": 0.037869,
     "end_time": "2025-04-05T09:46:07.817218",
     "exception": false,
     "start_time": "2025-04-05T09:46:07.779349",
     "status": "completed"
    },
    "tags": []
   },
   "source": [
    "Alternatively, you can construct a list by passing some other iterable into the list() function. An iterable descibes an object you can look through one item at a time, such as lists, tuples, strings and other sequences."
   ]
  },
  {
   "cell_type": "code",
   "execution_count": 66,
   "id": "187a6e89",
   "metadata": {
    "execution": {
     "iopub.execute_input": "2025-04-05T09:46:07.894151Z",
     "iopub.status.busy": "2025-04-05T09:46:07.893693Z",
     "iopub.status.idle": "2025-04-05T09:46:07.901040Z",
     "shell.execute_reply": "2025-04-05T09:46:07.899490Z"
    },
    "papermill": {
     "duration": 0.048539,
     "end_time": "2025-04-05T09:46:07.902995",
     "exception": false,
     "start_time": "2025-04-05T09:46:07.854456",
     "status": "completed"
    },
    "tags": []
   },
   "outputs": [
    {
     "name": "stdout",
     "output_type": "stream",
     "text": [
      "['L', 'i', 'f', 'e', ' ', 'i', 's', ' ', 'S', 't', 'u', 'd', 'y']\n"
     ]
    }
   ],
   "source": [
    "second_list = list(\"Life is Study\")   #Create a list from a string\n",
    "print(second_list)"
   ]
  },
  {
   "cell_type": "markdown",
   "id": "7a0f0caa",
   "metadata": {
    "papermill": {
     "duration": 0.037267,
     "end_time": "2025-04-05T09:46:07.978034",
     "exception": false,
     "start_time": "2025-04-05T09:46:07.940767",
     "status": "completed"
    },
    "tags": []
   },
   "source": [
    "A list with no contents is known as the empty list:"
   ]
  },
  {
   "cell_type": "code",
   "execution_count": 67,
   "id": "98db088e",
   "metadata": {
    "execution": {
     "iopub.execute_input": "2025-04-05T09:46:08.063530Z",
     "iopub.status.busy": "2025-04-05T09:46:08.063107Z",
     "iopub.status.idle": "2025-04-05T09:46:08.070170Z",
     "shell.execute_reply": "2025-04-05T09:46:08.068507Z"
    },
    "papermill": {
     "duration": 0.055377,
     "end_time": "2025-04-05T09:46:08.072648",
     "exception": false,
     "start_time": "2025-04-05T09:46:08.017271",
     "status": "completed"
    },
    "tags": []
   },
   "outputs": [
    {
     "name": "stdout",
     "output_type": "stream",
     "text": [
      "[]\n"
     ]
    }
   ],
   "source": [
    "empty_list = []\n",
    "print(empty_list)"
   ]
  },
  {
   "cell_type": "markdown",
   "id": "f26d69e0",
   "metadata": {
    "papermill": {
     "duration": 0.039146,
     "end_time": "2025-04-05T09:46:08.154843",
     "exception": false,
     "start_time": "2025-04-05T09:46:08.115697",
     "status": "completed"
    },
    "tags": []
   },
   "source": [
    "You can add an item to an existing list with the list.append() function:"
   ]
  },
  {
   "cell_type": "code",
   "execution_count": 68,
   "id": "45cbff84",
   "metadata": {
    "execution": {
     "iopub.execute_input": "2025-04-05T09:46:08.235531Z",
     "iopub.status.busy": "2025-04-05T09:46:08.235096Z",
     "iopub.status.idle": "2025-04-05T09:46:08.241086Z",
     "shell.execute_reply": "2025-04-05T09:46:08.239819Z"
    },
    "papermill": {
     "duration": 0.047472,
     "end_time": "2025-04-05T09:46:08.243081",
     "exception": false,
     "start_time": "2025-04-05T09:46:08.195609",
     "status": "completed"
    },
    "tags": []
   },
   "outputs": [
    {
     "name": "stdout",
     "output_type": "stream",
     "text": [
      "[\"I'm no longer empty!\"]\n"
     ]
    }
   ],
   "source": [
    "empty_list.append(\"I'm no longer empty!\")\n",
    "print(empty_list)"
   ]
  },
  {
   "cell_type": "code",
   "execution_count": 69,
   "id": "b4648c2b",
   "metadata": {
    "execution": {
     "iopub.execute_input": "2025-04-05T09:46:08.324928Z",
     "iopub.status.busy": "2025-04-05T09:46:08.324521Z",
     "iopub.status.idle": "2025-04-05T09:46:08.330183Z",
     "shell.execute_reply": "2025-04-05T09:46:08.328996Z"
    },
    "papermill": {
     "duration": 0.050657,
     "end_time": "2025-04-05T09:46:08.332213",
     "exception": false,
     "start_time": "2025-04-05T09:46:08.281556",
     "status": "completed"
    },
    "tags": []
   },
   "outputs": [
    {
     "name": "stdout",
     "output_type": "stream",
     "text": [
      "[\"I'm no longer empty!\"]\n"
     ]
    }
   ],
   "source": [
    "print(empty_list)"
   ]
  },
  {
   "cell_type": "code",
   "execution_count": 70,
   "id": "2807e54f",
   "metadata": {
    "execution": {
     "iopub.execute_input": "2025-04-05T09:46:08.408301Z",
     "iopub.status.busy": "2025-04-05T09:46:08.407988Z",
     "iopub.status.idle": "2025-04-05T09:46:08.412656Z",
     "shell.execute_reply": "2025-04-05T09:46:08.411400Z"
    },
    "papermill": {
     "duration": 0.044093,
     "end_time": "2025-04-05T09:46:08.414616",
     "exception": false,
     "start_time": "2025-04-05T09:46:08.370523",
     "status": "completed"
    },
    "tags": []
   },
   "outputs": [],
   "source": [
    "empty_list1=list(empty_list)"
   ]
  },
  {
   "cell_type": "code",
   "execution_count": 71,
   "id": "db0f6725",
   "metadata": {
    "execution": {
     "iopub.execute_input": "2025-04-05T09:46:08.489365Z",
     "iopub.status.busy": "2025-04-05T09:46:08.489019Z",
     "iopub.status.idle": "2025-04-05T09:46:08.494755Z",
     "shell.execute_reply": "2025-04-05T09:46:08.493344Z"
    },
    "papermill": {
     "duration": 0.045157,
     "end_time": "2025-04-05T09:46:08.496620",
     "exception": false,
     "start_time": "2025-04-05T09:46:08.451463",
     "status": "completed"
    },
    "tags": []
   },
   "outputs": [
    {
     "name": "stdout",
     "output_type": "stream",
     "text": [
      "[\"I'm no longer empty!\"]\n"
     ]
    }
   ],
   "source": [
    "print(empty_list1)"
   ]
  },
  {
   "cell_type": "markdown",
   "id": "26e93d61",
   "metadata": {
    "papermill": {
     "duration": 0.038177,
     "end_time": "2025-04-05T09:46:08.571944",
     "exception": false,
     "start_time": "2025-04-05T09:46:08.533767",
     "status": "completed"
    },
    "tags": []
   },
   "source": [
    "Remove a matching item from a list with list.remove()\n",
    "\n",
    "Note: Remove deletes the first matching item only."
   ]
  },
  {
   "cell_type": "code",
   "execution_count": 72,
   "id": "eda78a61",
   "metadata": {
    "execution": {
     "iopub.execute_input": "2025-04-05T09:46:08.647199Z",
     "iopub.status.busy": "2025-04-05T09:46:08.646791Z",
     "iopub.status.idle": "2025-04-05T09:46:08.652906Z",
     "shell.execute_reply": "2025-04-05T09:46:08.651606Z"
    },
    "papermill": {
     "duration": 0.046011,
     "end_time": "2025-04-05T09:46:08.654855",
     "exception": false,
     "start_time": "2025-04-05T09:46:08.608844",
     "status": "completed"
    },
    "tags": []
   },
   "outputs": [
    {
     "name": "stdout",
     "output_type": "stream",
     "text": [
      "['Lesson', 'Is Fun?', True]\n"
     ]
    }
   ],
   "source": [
    "my_list.remove(5)\n",
    "print(my_list)"
   ]
  },
  {
   "cell_type": "markdown",
   "id": "3215b97d",
   "metadata": {
    "papermill": {
     "duration": 0.036635,
     "end_time": "2025-04-05T09:46:08.729545",
     "exception": false,
     "start_time": "2025-04-05T09:46:08.692910",
     "status": "completed"
    },
    "tags": []
   },
   "source": [
    "Join two lists together with the + operator:"
   ]
  },
  {
   "cell_type": "code",
   "execution_count": 73,
   "id": "88bd517b",
   "metadata": {
    "execution": {
     "iopub.execute_input": "2025-04-05T09:46:08.808243Z",
     "iopub.status.busy": "2025-04-05T09:46:08.807893Z",
     "iopub.status.idle": "2025-04-05T09:46:08.813201Z",
     "shell.execute_reply": "2025-04-05T09:46:08.811653Z"
    },
    "papermill": {
     "duration": 0.045117,
     "end_time": "2025-04-05T09:46:08.815266",
     "exception": false,
     "start_time": "2025-04-05T09:46:08.770149",
     "status": "completed"
    },
    "tags": []
   },
   "outputs": [
    {
     "name": "stdout",
     "output_type": "stream",
     "text": [
      "['Lesson', 'Is Fun?', True, \"I'm no longer empty!\"]\n"
     ]
    }
   ],
   "source": [
    "combined_list = my_list + empty_list\n",
    "print(combined_list)\n"
   ]
  },
  {
   "cell_type": "markdown",
   "id": "c3ae4096",
   "metadata": {
    "papermill": {
     "duration": 0.037368,
     "end_time": "2025-04-05T09:46:08.890423",
     "exception": false,
     "start_time": "2025-04-05T09:46:08.853055",
     "status": "completed"
    },
    "tags": []
   },
   "source": [
    "You can also add a sequence to the end of an existing list with the list.extend() function"
   ]
  },
  {
   "cell_type": "code",
   "execution_count": 74,
   "id": "f0656de4",
   "metadata": {
    "execution": {
     "iopub.execute_input": "2025-04-05T09:46:08.965481Z",
     "iopub.status.busy": "2025-04-05T09:46:08.965102Z",
     "iopub.status.idle": "2025-04-05T09:46:08.971199Z",
     "shell.execute_reply": "2025-04-05T09:46:08.969566Z"
    },
    "papermill": {
     "duration": 0.046281,
     "end_time": "2025-04-05T09:46:08.973520",
     "exception": false,
     "start_time": "2025-04-05T09:46:08.927239",
     "status": "completed"
    },
    "tags": []
   },
   "outputs": [
    {
     "name": "stdout",
     "output_type": "stream",
     "text": [
      "['Lesson', 'Is Fun?', True, \"I'm no longer empty!\"]\n"
     ]
    }
   ],
   "source": [
    "combined_list = my_list\n",
    "combined_list.extend(empty_list)\n",
    "print(combined_list)"
   ]
  },
  {
   "cell_type": "markdown",
   "id": "e86d4b2b",
   "metadata": {
    "papermill": {
     "duration": 0.039166,
     "end_time": "2025-04-05T09:46:09.052190",
     "exception": false,
     "start_time": "2025-04-05T09:46:09.013024",
     "status": "completed"
    },
    "tags": []
   },
   "source": [
    "Check the length, maximum, minimum and sum of a list with the len(), max(), min() and sum() functions, respectively."
   ]
  },
  {
   "cell_type": "code",
   "execution_count": 75,
   "id": "eefbde71",
   "metadata": {
    "execution": {
     "iopub.execute_input": "2025-04-05T09:46:09.133302Z",
     "iopub.status.busy": "2025-04-05T09:46:09.132953Z",
     "iopub.status.idle": "2025-04-05T09:46:09.140315Z",
     "shell.execute_reply": "2025-04-05T09:46:09.138909Z"
    },
    "papermill": {
     "duration": 0.050993,
     "end_time": "2025-04-05T09:46:09.142717",
     "exception": false,
     "start_time": "2025-04-05T09:46:09.091724",
     "status": "completed"
    },
    "tags": []
   },
   "outputs": [
    {
     "name": "stdout",
     "output_type": "stream",
     "text": [
      "5\n",
      "9\n",
      "1\n",
      "25\n",
      "5.0\n"
     ]
    }
   ],
   "source": [
    "num_list = [1,3,5,7,9]\n",
    "print(len(num_list))     #Check the length\n",
    "print(max(num_list))     #Check the max\n",
    "print(min(num_list))     #Check the min\n",
    "print(sum(num_list))     #Check the sum\n",
    "print(sum(num_list)/len(num_list))  #Check the mean*"
   ]
  },
  {
   "cell_type": "code",
   "execution_count": 76,
   "id": "e488cb89",
   "metadata": {
    "execution": {
     "iopub.execute_input": "2025-04-05T09:46:09.219480Z",
     "iopub.status.busy": "2025-04-05T09:46:09.219080Z",
     "iopub.status.idle": "2025-04-05T09:46:09.225895Z",
     "shell.execute_reply": "2025-04-05T09:46:09.224634Z"
    },
    "papermill": {
     "duration": 0.046961,
     "end_time": "2025-04-05T09:46:09.228001",
     "exception": false,
     "start_time": "2025-04-05T09:46:09.181040",
     "status": "completed"
    },
    "tags": []
   },
   "outputs": [
    {
     "data": {
      "text/plain": [
       "True"
      ]
     },
     "execution_count": 76,
     "metadata": {},
     "output_type": "execute_result"
    }
   ],
   "source": [
    "#You can check whether a list contains a certain object with the \"in\" keyword:\n",
    "1 in num_list"
   ]
  },
  {
   "cell_type": "code",
   "execution_count": 77,
   "id": "dd687ca2",
   "metadata": {
    "execution": {
     "iopub.execute_input": "2025-04-05T09:46:09.397576Z",
     "iopub.status.busy": "2025-04-05T09:46:09.397110Z",
     "iopub.status.idle": "2025-04-05T09:46:09.403431Z",
     "shell.execute_reply": "2025-04-05T09:46:09.402289Z"
    },
    "papermill": {
     "duration": 0.138523,
     "end_time": "2025-04-05T09:46:09.405503",
     "exception": false,
     "start_time": "2025-04-05T09:46:09.266980",
     "status": "completed"
    },
    "tags": []
   },
   "outputs": [
    {
     "data": {
      "text/plain": [
       "False"
      ]
     },
     "execution_count": 77,
     "metadata": {},
     "output_type": "execute_result"
    }
   ],
   "source": [
    "#Add the keyword \"not\" to test whether a list does not contain an object\n",
    "1 not in num_list"
   ]
  },
  {
   "cell_type": "markdown",
   "id": "cb38e04e",
   "metadata": {
    "papermill": {
     "duration": 0.037213,
     "end_time": "2025-04-05T09:46:09.480366",
     "exception": false,
     "start_time": "2025-04-05T09:46:09.443153",
     "status": "completed"
    },
    "tags": []
   },
   "source": [
    "Count the occurrences of an object within a list using the list.count() function:\n"
   ]
  },
  {
   "cell_type": "code",
   "execution_count": 78,
   "id": "951189e9",
   "metadata": {
    "execution": {
     "iopub.execute_input": "2025-04-05T09:46:09.558535Z",
     "iopub.status.busy": "2025-04-05T09:46:09.558049Z",
     "iopub.status.idle": "2025-04-05T09:46:09.564548Z",
     "shell.execute_reply": "2025-04-05T09:46:09.563290Z"
    },
    "papermill": {
     "duration": 0.04842,
     "end_time": "2025-04-05T09:46:09.566686",
     "exception": false,
     "start_time": "2025-04-05T09:46:09.518266",
     "status": "completed"
    },
    "tags": []
   },
   "outputs": [
    {
     "data": {
      "text/plain": [
       "1"
      ]
     },
     "execution_count": 78,
     "metadata": {},
     "output_type": "execute_result"
    }
   ],
   "source": [
    "num_list.count(3)"
   ]
  },
  {
   "cell_type": "markdown",
   "id": "b92809fe",
   "metadata": {
    "papermill": {
     "duration": 0.036905,
     "end_time": "2025-04-05T09:46:09.640943",
     "exception": false,
     "start_time": "2025-04-05T09:46:09.604038",
     "status": "completed"
    },
    "tags": []
   },
   "source": [
    "Other common list functions include list.sort() and list.reverse():\n"
   ]
  },
  {
   "cell_type": "code",
   "execution_count": 79,
   "id": "6bc45ac7",
   "metadata": {
    "execution": {
     "iopub.execute_input": "2025-04-05T09:46:09.720612Z",
     "iopub.status.busy": "2025-04-05T09:46:09.720149Z",
     "iopub.status.idle": "2025-04-05T09:46:09.726590Z",
     "shell.execute_reply": "2025-04-05T09:46:09.725145Z"
    },
    "papermill": {
     "duration": 0.048816,
     "end_time": "2025-04-05T09:46:09.728817",
     "exception": false,
     "start_time": "2025-04-05T09:46:09.680001",
     "status": "completed"
    },
    "tags": []
   },
   "outputs": [
    {
     "name": "stdout",
     "output_type": "stream",
     "text": [
      "Reversed list [6, 3, 2, 4, 5, 1]\n",
      "Sorted list [1, 2, 3, 4, 5, 6]\n"
     ]
    }
   ],
   "source": [
    "new_list = [1,5,4,2,3,6]       #Make a new list\n",
    "\n",
    "new_list.reverse()             #Reverse the list\n",
    "print(\"Reversed list\", new_list)\n",
    "\n",
    "new_list.sort()                #Sort the list\n",
    "print(\"Sorted list\", new_list)"
   ]
  },
  {
   "cell_type": "markdown",
   "id": "6e956212",
   "metadata": {
    "papermill": {
     "duration": 0.040097,
     "end_time": "2025-04-05T09:46:09.810881",
     "exception": false,
     "start_time": "2025-04-05T09:46:09.770784",
     "status": "completed"
    },
    "tags": []
   },
   "source": [
    "List Indexing and Slicing\n",
    "\n",
    "Lists and other Python sequences are indexed, meaning each position in the sequence has a corresponding number called the index that you can use to look up the value at that position.\n",
    "Python sequences are zero-indexed, so the first element of a sequence is at index position zero, the second element is at index 1 and so on. Retrieve an item from a list by placing the index in square brackets after the name of the list:\n"
   ]
  },
  {
   "cell_type": "code",
   "execution_count": 80,
   "id": "10d4d2a6",
   "metadata": {
    "execution": {
     "iopub.execute_input": "2025-04-05T09:46:09.893083Z",
     "iopub.status.busy": "2025-04-05T09:46:09.892588Z",
     "iopub.status.idle": "2025-04-05T09:46:09.899758Z",
     "shell.execute_reply": "2025-04-05T09:46:09.897759Z"
    },
    "papermill": {
     "duration": 0.052309,
     "end_time": "2025-04-05T09:46:09.902468",
     "exception": false,
     "start_time": "2025-04-05T09:46:09.850159",
     "status": "completed"
    },
    "tags": []
   },
   "outputs": [
    {
     "name": "stdout",
     "output_type": "stream",
     "text": [
      "Hello\n",
      "bestest\n"
     ]
    }
   ],
   "source": [
    "another_list = [\"Hello\",\"my\",\"bestest\",\"old\",\"friend\"]\n",
    "print(another_list[0])\n",
    "print(another_list[2])\n",
    "\n"
   ]
  },
  {
   "cell_type": "markdown",
   "id": "1c830753",
   "metadata": {
    "papermill": {
     "duration": 0.041233,
     "end_time": "2025-04-05T09:46:09.984194",
     "exception": false,
     "start_time": "2025-04-05T09:46:09.942961",
     "status": "completed"
    },
    "tags": []
   },
   "source": [
    "if you supply negative number when indexing into list, it accesses items starting from the end of the list(-1) going backward:"
   ]
  },
  {
   "cell_type": "code",
   "execution_count": 81,
   "id": "236e93c8",
   "metadata": {
    "execution": {
     "iopub.execute_input": "2025-04-05T09:46:10.066221Z",
     "iopub.status.busy": "2025-04-05T09:46:10.065809Z",
     "iopub.status.idle": "2025-04-05T09:46:10.072563Z",
     "shell.execute_reply": "2025-04-05T09:46:10.070799Z"
    },
    "papermill": {
     "duration": 0.051885,
     "end_time": "2025-04-05T09:46:10.074967",
     "exception": false,
     "start_time": "2025-04-05T09:46:10.023082",
     "status": "completed"
    },
    "tags": []
   },
   "outputs": [
    {
     "name": "stdout",
     "output_type": "stream",
     "text": [
      "friend\n",
      "bestest\n"
     ]
    }
   ],
   "source": [
    "print(another_list[-1])\n",
    "print(another_list[-3])"
   ]
  },
  {
   "cell_type": "markdown",
   "id": "b4535183",
   "metadata": {
    "papermill": {
     "duration": 0.038473,
     "end_time": "2025-04-05T09:46:10.152009",
     "exception": false,
     "start_time": "2025-04-05T09:46:10.113536",
     "status": "completed"
    },
    "tags": []
   },
   "source": [
    "If your list contains other indexed objects, you can supply additional indexes to get items contained within the nested objects:"
   ]
  },
  {
   "cell_type": "code",
   "execution_count": 82,
   "id": "92c7f7ed",
   "metadata": {
    "execution": {
     "iopub.execute_input": "2025-04-05T09:46:10.230606Z",
     "iopub.status.busy": "2025-04-05T09:46:10.230134Z",
     "iopub.status.idle": "2025-04-05T09:46:10.236781Z",
     "shell.execute_reply": "2025-04-05T09:46:10.235211Z"
    },
    "papermill": {
     "duration": 0.048974,
     "end_time": "2025-04-05T09:46:10.239169",
     "exception": false,
     "start_time": "2025-04-05T09:46:10.190195",
     "status": "completed"
    },
    "tags": []
   },
   "outputs": [
    {
     "name": "stdout",
     "output_type": "stream",
     "text": [
      "3\n"
     ]
    }
   ],
   "source": [
    "nested_list = [[1,2,3],[4,5,6],[7,8,9]]\n",
    "print(nested_list[0][2])"
   ]
  },
  {
   "cell_type": "markdown",
   "id": "c9d44416",
   "metadata": {
    "papermill": {
     "duration": 0.039383,
     "end_time": "2025-04-05T09:46:10.322203",
     "exception": false,
     "start_time": "2025-04-05T09:46:10.282820",
     "status": "completed"
    },
    "tags": []
   },
   "source": [
    "You can take a slice (sequential subset) of a list using the syntax [start:stop:step] where start and stop are the starting and ending indexes for the slice and step controls how frequently you sample values along the slice. The default step size is 1, meaning you take all values in the range provided, starting from the first, up to but not including the last:"
   ]
  },
  {
   "cell_type": "code",
   "execution_count": 83,
   "id": "7951cc73",
   "metadata": {
    "execution": {
     "iopub.execute_input": "2025-04-05T09:46:10.407486Z",
     "iopub.status.busy": "2025-04-05T09:46:10.406951Z",
     "iopub.status.idle": "2025-04-05T09:46:10.413109Z",
     "shell.execute_reply": "2025-04-05T09:46:10.411518Z"
    },
    "papermill": {
     "duration": 0.050966,
     "end_time": "2025-04-05T09:46:10.415129",
     "exception": false,
     "start_time": "2025-04-05T09:46:10.364163",
     "status": "completed"
    },
    "tags": []
   },
   "outputs": [
    {
     "name": "stdout",
     "output_type": "stream",
     "text": [
      "['my', 'bestest']\n"
     ]
    }
   ],
   "source": [
    "my_slice = another_list[1:3]    #slice index 1 and 2\n",
    "print(my_slice)"
   ]
  },
  {
   "cell_type": "code",
   "execution_count": 84,
   "id": "21a94312",
   "metadata": {
    "execution": {
     "iopub.execute_input": "2025-04-05T09:46:10.500281Z",
     "iopub.status.busy": "2025-04-05T09:46:10.499906Z",
     "iopub.status.idle": "2025-04-05T09:46:10.505101Z",
     "shell.execute_reply": "2025-04-05T09:46:10.503930Z"
    },
    "papermill": {
     "duration": 0.051283,
     "end_time": "2025-04-05T09:46:10.507017",
     "exception": false,
     "start_time": "2025-04-05T09:46:10.455734",
     "status": "completed"
    },
    "tags": []
   },
   "outputs": [
    {
     "name": "stdout",
     "output_type": "stream",
     "text": [
      "['Hello', 'bestest', 'friend']\n"
     ]
    }
   ],
   "source": [
    "# Slice the entire list but use step size 2 to get every other item:\n",
    "\n",
    "my_slice = another_list[0:6:2]\n",
    "print(my_slice)"
   ]
  },
  {
   "cell_type": "markdown",
   "id": "3e0bf9ac",
   "metadata": {
    "papermill": {
     "duration": 0.039303,
     "end_time": "2025-04-05T09:46:10.586895",
     "exception": false,
     "start_time": "2025-04-05T09:46:10.547592",
     "status": "completed"
    },
    "tags": []
   },
   "source": [
    "You can leave the starting or ending index blank to slice from the beginning or up to the end of the list respectively:"
   ]
  },
  {
   "cell_type": "code",
   "execution_count": 85,
   "id": "718acabf",
   "metadata": {
    "execution": {
     "iopub.execute_input": "2025-04-05T09:46:10.670308Z",
     "iopub.status.busy": "2025-04-05T09:46:10.669923Z",
     "iopub.status.idle": "2025-04-05T09:46:10.675922Z",
     "shell.execute_reply": "2025-04-05T09:46:10.674289Z"
    },
    "papermill": {
     "duration": 0.04976,
     "end_time": "2025-04-05T09:46:10.678025",
     "exception": false,
     "start_time": "2025-04-05T09:46:10.628265",
     "status": "completed"
    },
    "tags": []
   },
   "outputs": [
    {
     "name": "stdout",
     "output_type": "stream",
     "text": [
      "['Hello', 'my', 'bestest', 'old']\n"
     ]
    }
   ],
   "source": [
    "slice1 = another_list[:4]    #Slice everything up to index 4\n",
    "print(slice1)"
   ]
  },
  {
   "cell_type": "code",
   "execution_count": 86,
   "id": "45179791",
   "metadata": {
    "execution": {
     "iopub.execute_input": "2025-04-05T09:46:10.756935Z",
     "iopub.status.busy": "2025-04-05T09:46:10.756494Z",
     "iopub.status.idle": "2025-04-05T09:46:10.762818Z",
     "shell.execute_reply": "2025-04-05T09:46:10.761737Z"
    },
    "papermill": {
     "duration": 0.047181,
     "end_time": "2025-04-05T09:46:10.764737",
     "exception": false,
     "start_time": "2025-04-05T09:46:10.717556",
     "status": "completed"
    },
    "tags": []
   },
   "outputs": [
    {
     "name": "stdout",
     "output_type": "stream",
     "text": [
      "['old', 'friend']\n"
     ]
    }
   ],
   "source": [
    "slice2 = another_list[3:]   #Slice everything from index 3 to the end\n",
    "print(slice2)"
   ]
  },
  {
   "cell_type": "markdown",
   "id": "31f681f4",
   "metadata": {
    "papermill": {
     "duration": 0.039054,
     "end_time": "2025-04-05T09:46:10.845689",
     "exception": false,
     "start_time": "2025-04-05T09:46:10.806635",
     "status": "completed"
    },
    "tags": []
   },
   "source": [
    "If you provide a negative number as the step, the slice steps backward:"
   ]
  },
  {
   "cell_type": "code",
   "execution_count": 87,
   "id": "1b60e76b",
   "metadata": {
    "execution": {
     "iopub.execute_input": "2025-04-05T09:46:10.926844Z",
     "iopub.status.busy": "2025-04-05T09:46:10.926448Z",
     "iopub.status.idle": "2025-04-05T09:46:10.932947Z",
     "shell.execute_reply": "2025-04-05T09:46:10.931284Z"
    },
    "papermill": {
     "duration": 0.04958,
     "end_time": "2025-04-05T09:46:10.935217",
     "exception": false,
     "start_time": "2025-04-05T09:46:10.885637",
     "status": "completed"
    },
    "tags": []
   },
   "outputs": [
    {
     "name": "stdout",
     "output_type": "stream",
     "text": [
      "['friend', 'old']\n"
     ]
    }
   ],
   "source": [
    "# Take a slice starting at index 4, backward to index 2\n",
    "my_slice = another_list[4:2:-1]\n",
    "print(my_slice)"
   ]
  },
  {
   "cell_type": "markdown",
   "id": "a6d5c101",
   "metadata": {
    "papermill": {
     "duration": 0.040928,
     "end_time": "2025-04-05T09:46:11.016612",
     "exception": false,
     "start_time": "2025-04-05T09:46:10.975684",
     "status": "completed"
    },
    "tags": []
   },
   "source": [
    "if you don't provide a start or ending index, you slice of the entire list:"
   ]
  },
  {
   "cell_type": "code",
   "execution_count": 88,
   "id": "5c5aa113",
   "metadata": {
    "execution": {
     "iopub.execute_input": "2025-04-05T09:46:11.100190Z",
     "iopub.status.busy": "2025-04-05T09:46:11.099769Z",
     "iopub.status.idle": "2025-04-05T09:46:11.106125Z",
     "shell.execute_reply": "2025-04-05T09:46:11.104347Z"
    },
    "papermill": {
     "duration": 0.049834,
     "end_time": "2025-04-05T09:46:11.108114",
     "exception": false,
     "start_time": "2025-04-05T09:46:11.058280",
     "status": "completed"
    },
    "tags": []
   },
   "outputs": [
    {
     "name": "stdout",
     "output_type": "stream",
     "text": [
      "['Hello', 'my', 'bestest', 'old', 'friend']\n"
     ]
    }
   ],
   "source": [
    "my_slice = another_list[:]   #This slice operation copies the list\n",
    "print(my_slice)"
   ]
  },
  {
   "cell_type": "markdown",
   "id": "a60ecdd4",
   "metadata": {
    "papermill": {
     "duration": 0.041321,
     "end_time": "2025-04-05T09:46:11.193323",
     "exception": false,
     "start_time": "2025-04-05T09:46:11.152002",
     "status": "completed"
    },
    "tags": []
   },
   "source": [
    "Using a step of -1 without a starting or ending index slices the entire list in reverse, providing a shorthand to a reverse a list:"
   ]
  },
  {
   "cell_type": "code",
   "execution_count": 89,
   "id": "4fc48538",
   "metadata": {
    "execution": {
     "iopub.execute_input": "2025-04-05T09:46:11.275946Z",
     "iopub.status.busy": "2025-04-05T09:46:11.275549Z",
     "iopub.status.idle": "2025-04-05T09:46:11.280576Z",
     "shell.execute_reply": "2025-04-05T09:46:11.279035Z"
    },
    "papermill": {
     "duration": 0.048475,
     "end_time": "2025-04-05T09:46:11.282569",
     "exception": false,
     "start_time": "2025-04-05T09:46:11.234094",
     "status": "completed"
    },
    "tags": []
   },
   "outputs": [
    {
     "name": "stdout",
     "output_type": "stream",
     "text": [
      "['friend', 'old', 'bestest', 'my', 'Hello']\n"
     ]
    }
   ],
   "source": [
    "my_slice = another_list[::-1]  #This slice operation reverses the list\n",
    "print(my_slice)"
   ]
  },
  {
   "cell_type": "markdown",
   "id": "8c6141d6",
   "metadata": {
    "papermill": {
     "duration": 0.039838,
     "end_time": "2025-04-05T09:46:11.364194",
     "exception": false,
     "start_time": "2025-04-05T09:46:11.324356",
     "status": "completed"
    },
    "tags": []
   },
   "source": [
    "You can use indexing to change the values within a list or delete items in a list:"
   ]
  },
  {
   "cell_type": "code",
   "execution_count": 90,
   "id": "e95f798d",
   "metadata": {
    "execution": {
     "iopub.execute_input": "2025-04-05T09:46:11.446064Z",
     "iopub.status.busy": "2025-04-05T09:46:11.445692Z",
     "iopub.status.idle": "2025-04-05T09:46:11.451740Z",
     "shell.execute_reply": "2025-04-05T09:46:11.450370Z"
    },
    "papermill": {
     "duration": 0.048532,
     "end_time": "2025-04-05T09:46:11.453671",
     "exception": false,
     "start_time": "2025-04-05T09:46:11.405139",
     "status": "completed"
    },
    "tags": []
   },
   "outputs": [
    {
     "name": "stdout",
     "output_type": "stream",
     "text": [
      "['Hello', 'my', 'bestest', 'new', 'friend']\n",
      "['Hello', 'my', 'bestest', 'friend']\n"
     ]
    }
   ],
   "source": [
    "another_list[3] = \"new\"   #Set the value at index 3 to \"new\"\n",
    "print(another_list)\n",
    "del(another_list[3])      #delete the item at index 3\n",
    "print(another_list)"
   ]
  },
  {
   "cell_type": "markdown",
   "id": "b5041b31",
   "metadata": {
    "papermill": {
     "duration": 0.04017,
     "end_time": "2025-04-05T09:46:11.534786",
     "exception": false,
     "start_time": "2025-04-05T09:46:11.494616",
     "status": "completed"
    },
    "tags": []
   },
   "source": [
    "You can also remove items from a list using the list.pop() function. pop() removes the final item in a list and returns it:"
   ]
  },
  {
   "cell_type": "code",
   "execution_count": 91,
   "id": "afa5bb45",
   "metadata": {
    "execution": {
     "iopub.execute_input": "2025-04-05T09:46:11.617101Z",
     "iopub.status.busy": "2025-04-05T09:46:11.616680Z",
     "iopub.status.idle": "2025-04-05T09:46:11.622883Z",
     "shell.execute_reply": "2025-04-05T09:46:11.621741Z"
    },
    "papermill": {
     "duration": 0.049619,
     "end_time": "2025-04-05T09:46:11.624844",
     "exception": false,
     "start_time": "2025-04-05T09:46:11.575225",
     "status": "completed"
    },
    "tags": []
   },
   "outputs": [
    {
     "name": "stdout",
     "output_type": "stream",
     "text": [
      "friend\n",
      "['Hello', 'my', 'bestest']\n"
     ]
    }
   ],
   "source": [
    "next_item = another_list.pop()\n",
    "print(next_item)\n",
    "print(another_list)"
   ]
  },
  {
   "cell_type": "markdown",
   "id": "3a5e7bd2",
   "metadata": {
    "papermill": {
     "duration": 0.040526,
     "end_time": "2025-04-05T09:46:11.706405",
     "exception": false,
     "start_time": "2025-04-05T09:46:11.665879",
     "status": "completed"
    },
    "tags": []
   },
   "source": [
    "Notice that the list resizes itself dynamically as you delete or add items to it. Appeding items to lists and removing items from the end of list with list.pop() are very fast operations. Deleting items at the front of a list or within the body of a lists is much slower."
   ]
  },
  {
   "cell_type": "markdown",
   "id": "c72aa297",
   "metadata": {
    "papermill": {
     "duration": 0.043178,
     "end_time": "2025-04-05T09:46:11.790739",
     "exception": false,
     "start_time": "2025-04-05T09:46:11.747561",
     "status": "completed"
    },
    "tags": []
   },
   "source": [
    "# Copying Lists"
   ]
  },
  {
   "cell_type": "markdown",
   "id": "f514a70d",
   "metadata": {
    "papermill": {
     "duration": 0.040854,
     "end_time": "2025-04-05T09:46:11.870161",
     "exception": false,
     "start_time": "2025-04-05T09:46:11.829307",
     "status": "completed"
    },
    "tags": []
   },
   "source": [
    "In the code above, we saw that we can slice an entire list using the [:] indexing operation. You can also copy a list using the list.copy() function:"
   ]
  },
  {
   "cell_type": "code",
   "execution_count": 92,
   "id": "d5d8c8d3",
   "metadata": {
    "execution": {
     "iopub.execute_input": "2025-04-05T09:46:11.950634Z",
     "iopub.status.busy": "2025-04-05T09:46:11.950169Z",
     "iopub.status.idle": "2025-04-05T09:46:11.957259Z",
     "shell.execute_reply": "2025-04-05T09:46:11.955977Z"
    },
    "papermill": {
     "duration": 0.048408,
     "end_time": "2025-04-05T09:46:11.959210",
     "exception": false,
     "start_time": "2025-04-05T09:46:11.910802",
     "status": "completed"
    },
    "tags": []
   },
   "outputs": [
    {
     "name": "stdout",
     "output_type": "stream",
     "text": [
      "list1: [1, 2, 3, 4]\n",
      "List2: [1, 2, 3]\n"
     ]
    }
   ],
   "source": [
    "list1 = [1,2,3]                     #Make a list\n",
    "list2 = list1.copy()                #Copy the list\n",
    "\n",
    "list1.append(4)                     #Add an item to list1\n",
    "print(\"list1:\",list1)               #Print both lists\n",
    "print(\"List2:\",list2)"
   ]
  },
  {
   "cell_type": "code",
   "execution_count": 93,
   "id": "1ced7901",
   "metadata": {
    "execution": {
     "iopub.execute_input": "2025-04-05T09:46:12.040365Z",
     "iopub.status.busy": "2025-04-05T09:46:12.040026Z",
     "iopub.status.idle": "2025-04-05T09:46:12.048056Z",
     "shell.execute_reply": "2025-04-05T09:46:12.046317Z"
    },
    "papermill": {
     "duration": 0.051366,
     "end_time": "2025-04-05T09:46:12.049888",
     "exception": false,
     "start_time": "2025-04-05T09:46:11.998522",
     "status": "completed"
    },
    "tags": []
   },
   "outputs": [
    {
     "name": "stdout",
     "output_type": "stream",
     "text": [
      "Before appending to list1: \n",
      "List2:  ['List within a list', [1, 2, 3]]\n",
      "List3:  ['List within a list', [1, 2, 3]] \n",
      "\n",
      "After appending to list1: \n",
      "List2:  ['List within a list', [1, 2, 3, 4]]\n",
      "List3:  ['List within a list', [1, 2, 3, 4]]\n"
     ]
    }
   ],
   "source": [
    "list1 = [1,2,3]              #Make a list\n",
    "\n",
    "list2 = [\"List within a list\", list1]   #Nest it in another list\n",
    "\n",
    "list3 = list2.copy()         #Shallow copy list2\n",
    "\n",
    "print(\"Before appending to list1: \")\n",
    "print(\"List2: \",list2)\n",
    "print(\"List3: \",list3,\"\\n\")\n",
    "\n",
    "list1.append(4)             #Add an item to list1\n",
    "print(\"After appending to list1: \")\n",
    "print(\"List2: \",list2)\n",
    "print(\"List3: \",list3)"
   ]
  },
  {
   "cell_type": "markdown",
   "id": "5f9109fe",
   "metadata": {
    "papermill": {
     "duration": 0.038721,
     "end_time": "2025-04-05T09:46:12.128954",
     "exception": false,
     "start_time": "2025-04-05T09:46:12.090233",
     "status": "completed"
    },
    "tags": []
   },
   "source": [
    "Notice that when we use a shallow copy on list2, the second element of list2 and its copy both refer to list1. Thus, when we append a new value into list1, the second element of list2 and the copy, list3, both change. When you are working with nested lists, you have to make a \"deepcopy\" if you want to truly copy nested objects in the original to avoid this behaviour of shallow copies.\n",
    "\n",
    "You can make a deep copy using the deepcopy() function in the copy library:"
   ]
  },
  {
   "cell_type": "code",
   "execution_count": 94,
   "id": "72b3b087",
   "metadata": {
    "execution": {
     "iopub.execute_input": "2025-04-05T09:46:12.213961Z",
     "iopub.status.busy": "2025-04-05T09:46:12.213410Z",
     "iopub.status.idle": "2025-04-05T09:46:12.223334Z",
     "shell.execute_reply": "2025-04-05T09:46:12.222182Z"
    },
    "papermill": {
     "duration": 0.053823,
     "end_time": "2025-04-05T09:46:12.225360",
     "exception": false,
     "start_time": "2025-04-05T09:46:12.171537",
     "status": "completed"
    },
    "tags": []
   },
   "outputs": [
    {
     "name": "stdout",
     "output_type": "stream",
     "text": [
      "Before appending to list1: \n",
      "List2:  ['List within a list', [1, 2, 3]]\n",
      "List3:  ['List within a list', [1, 2, 3]] \n",
      "\n",
      "After appending to list1: \n",
      "List2:  ['List within a list', [1, 2, 3, 4]]\n",
      "List3:  ['List within a list', [1, 2, 3]]\n"
     ]
    }
   ],
   "source": [
    "import copy           # Load the copy module\n",
    "\n",
    "list1 = [1,2,3]       #Make a list\n",
    "list2 = [\"List within a list\", list1]   #Nest it in another list\n",
    "list3 = copy.deepcopy(list2)   #Deep copy list2\n",
    "\n",
    "print(\"Before appending to list1: \")\n",
    "print(\"List2: \",list2)\n",
    "print(\"List3: \",list3, \"\\n\")\n",
    "\n",
    "list1.append(4)       #Add an item to list1\n",
    "print(\"After appending to list1: \")\n",
    "print(\"List2: \",list2)\n",
    "print(\"List3: \",list3)"
   ]
  },
  {
   "cell_type": "markdown",
   "id": "44d5a8f1",
   "metadata": {
    "papermill": {
     "duration": 0.040643,
     "end_time": "2025-04-05T09:46:12.308744",
     "exception": false,
     "start_time": "2025-04-05T09:46:12.268101",
     "status": "completed"
    },
    "tags": []
   },
   "source": [
    "# Tuples"
   ]
  },
  {
   "cell_type": "markdown",
   "id": "f5ea1ae3",
   "metadata": {
    "papermill": {
     "duration": 0.042881,
     "end_time": "2025-04-05T09:46:12.393032",
     "exception": false,
     "start_time": "2025-04-05T09:46:12.350151",
     "status": "completed"
    },
    "tags": []
   },
   "source": [
    "Tuples are an immutable sequence data type that are commonly used to hold short collections of releated data. For instance, if you wanted to store latitude and longitude coordinates for cities, tuples might be a good choice, because the values are related and not likely to change. Like lists, tuples can store objects of different types.\n",
    "\n",
    "Construct a tuple with a comma separated sequence of objects with parenthesis."
   ]
  },
  {
   "cell_type": "code",
   "execution_count": 95,
   "id": "0de6f582",
   "metadata": {
    "execution": {
     "iopub.execute_input": "2025-04-05T09:46:12.479998Z",
     "iopub.status.busy": "2025-04-05T09:46:12.479569Z",
     "iopub.status.idle": "2025-04-05T09:46:12.485059Z",
     "shell.execute_reply": "2025-04-05T09:46:12.483861Z"
    },
    "papermill": {
     "duration": 0.051546,
     "end_time": "2025-04-05T09:46:12.486965",
     "exception": false,
     "start_time": "2025-04-05T09:46:12.435419",
     "status": "completed"
    },
    "tags": []
   },
   "outputs": [
    {
     "name": "stdout",
     "output_type": "stream",
     "text": [
      "(1, 3, 5)\n"
     ]
    }
   ],
   "source": [
    "my_tuple = (1,3,5)\n",
    "print(my_tuple)"
   ]
  },
  {
   "cell_type": "markdown",
   "id": "e3e753c7",
   "metadata": {
    "papermill": {
     "duration": 0.040717,
     "end_time": "2025-04-05T09:46:12.569950",
     "exception": false,
     "start_time": "2025-04-05T09:46:12.529233",
     "status": "completed"
    },
    "tags": []
   },
   "source": [
    "Alternatively, you can construct a tuple by passing an iterable into the tuple() function:"
   ]
  },
  {
   "cell_type": "code",
   "execution_count": 96,
   "id": "458700cf",
   "metadata": {
    "execution": {
     "iopub.execute_input": "2025-04-05T09:46:12.653668Z",
     "iopub.status.busy": "2025-04-05T09:46:12.653158Z",
     "iopub.status.idle": "2025-04-05T09:46:12.660666Z",
     "shell.execute_reply": "2025-04-05T09:46:12.658985Z"
    },
    "papermill": {
     "duration": 0.051422,
     "end_time": "2025-04-05T09:46:12.662660",
     "exception": false,
     "start_time": "2025-04-05T09:46:12.611238",
     "status": "completed"
    },
    "tags": []
   },
   "outputs": [
    {
     "data": {
      "text/plain": [
       "(2, 3, 1, 4)"
      ]
     },
     "execution_count": 96,
     "metadata": {},
     "output_type": "execute_result"
    }
   ],
   "source": [
    "my_list = [2,3,1,4]\n",
    "another_tuple = tuple(my_list)\n",
    "another_tuple"
   ]
  },
  {
   "cell_type": "markdown",
   "id": "1daf4af3",
   "metadata": {
    "papermill": {
     "duration": 0.043336,
     "end_time": "2025-04-05T09:46:12.748071",
     "exception": false,
     "start_time": "2025-04-05T09:46:12.704735",
     "status": "completed"
    },
    "tags": []
   },
   "source": [
    "Tuples generally support the same indexing and slicing operations as lists and they also support some of the same functions, with the caveat that tuples cannot be changed after they are created.  This means we can do things like find the length, max or min of a tuple, but we can't append new values to them or remove values from them :"
   ]
  },
  {
   "cell_type": "code",
   "execution_count": 97,
   "id": "03fb76ed",
   "metadata": {
    "execution": {
     "iopub.execute_input": "2025-04-05T09:46:12.833782Z",
     "iopub.status.busy": "2025-04-05T09:46:12.833265Z",
     "iopub.status.idle": "2025-04-05T09:46:12.840241Z",
     "shell.execute_reply": "2025-04-05T09:46:12.838969Z"
    },
    "papermill": {
     "duration": 0.049765,
     "end_time": "2025-04-05T09:46:12.842242",
     "exception": false,
     "start_time": "2025-04-05T09:46:12.792477",
     "status": "completed"
    },
    "tags": []
   },
   "outputs": [
    {
     "data": {
      "text/plain": [
       "1"
      ]
     },
     "execution_count": 97,
     "metadata": {},
     "output_type": "execute_result"
    }
   ],
   "source": [
    "another_tuple[2]     #You can index into tuples"
   ]
  },
  {
   "cell_type": "code",
   "execution_count": 98,
   "id": "2b70f836",
   "metadata": {
    "execution": {
     "iopub.execute_input": "2025-04-05T09:46:12.925855Z",
     "iopub.status.busy": "2025-04-05T09:46:12.925291Z",
     "iopub.status.idle": "2025-04-05T09:46:12.933301Z",
     "shell.execute_reply": "2025-04-05T09:46:12.932029Z"
    },
    "papermill": {
     "duration": 0.052474,
     "end_time": "2025-04-05T09:46:12.935196",
     "exception": false,
     "start_time": "2025-04-05T09:46:12.882722",
     "status": "completed"
    },
    "tags": []
   },
   "outputs": [
    {
     "data": {
      "text/plain": [
       "(1, 4)"
      ]
     },
     "execution_count": 98,
     "metadata": {},
     "output_type": "execute_result"
    }
   ],
   "source": [
    "another_tuple[2:4]    #You can slice tuples"
   ]
  },
  {
   "cell_type": "code",
   "execution_count": 99,
   "id": "e5ad8a24",
   "metadata": {
    "execution": {
     "iopub.execute_input": "2025-04-05T09:46:13.016844Z",
     "iopub.status.busy": "2025-04-05T09:46:13.016413Z",
     "iopub.status.idle": "2025-04-05T09:46:13.023593Z",
     "shell.execute_reply": "2025-04-05T09:46:13.021981Z"
    },
    "papermill": {
     "duration": 0.049806,
     "end_time": "2025-04-05T09:46:13.025280",
     "exception": false,
     "start_time": "2025-04-05T09:46:12.975474",
     "status": "completed"
    },
    "tags": []
   },
   "outputs": [
    {
     "name": "stdout",
     "output_type": "stream",
     "text": [
      "4\n",
      "1\n",
      "4\n",
      "10\n"
     ]
    }
   ],
   "source": [
    "# You can use common sequence functions on tuples:\n",
    "\n",
    "print(len(another_tuple))\n",
    "print(min(another_tuple))\n",
    "print(max(another_tuple))\n",
    "print(sum(another_tuple))"
   ]
  },
  {
   "cell_type": "code",
   "execution_count": 100,
   "id": "32d28f15",
   "metadata": {
    "execution": {
     "iopub.execute_input": "2025-04-05T09:46:13.107931Z",
     "iopub.status.busy": "2025-04-05T09:46:13.107501Z",
     "iopub.status.idle": "2025-04-05T09:46:13.111843Z",
     "shell.execute_reply": "2025-04-05T09:46:13.110556Z"
    },
    "papermill": {
     "duration": 0.047859,
     "end_time": "2025-04-05T09:46:13.113915",
     "exception": false,
     "start_time": "2025-04-05T09:46:13.066056",
     "status": "completed"
    },
    "tags": []
   },
   "outputs": [],
   "source": [
    "#another_tuple.append(1)     #You can't append to a tuple\n",
    "#You cannot append to a tuple"
   ]
  },
  {
   "cell_type": "code",
   "execution_count": 101,
   "id": "86637bf3",
   "metadata": {
    "execution": {
     "iopub.execute_input": "2025-04-05T09:46:13.201011Z",
     "iopub.status.busy": "2025-04-05T09:46:13.200609Z",
     "iopub.status.idle": "2025-04-05T09:46:13.204906Z",
     "shell.execute_reply": "2025-04-05T09:46:13.203751Z"
    },
    "papermill": {
     "duration": 0.050674,
     "end_time": "2025-04-05T09:46:13.206693",
     "exception": false,
     "start_time": "2025-04-05T09:46:13.156019",
     "status": "completed"
    },
    "tags": []
   },
   "outputs": [],
   "source": [
    "#del another_tuple[1] \n",
    "# You can't delete from a tuple"
   ]
  },
  {
   "cell_type": "markdown",
   "id": "409df7f2",
   "metadata": {
    "papermill": {
     "duration": 0.040398,
     "end_time": "2025-04-05T09:46:13.288756",
     "exception": false,
     "start_time": "2025-04-05T09:46:13.248358",
     "status": "completed"
    },
    "tags": []
   },
   "source": [
    "# Strings"
   ]
  },
  {
   "cell_type": "markdown",
   "id": "3baacc46",
   "metadata": {
    "papermill": {
     "duration": 0.041974,
     "end_time": "2025-04-05T09:46:13.373325",
     "exception": false,
     "start_time": "2025-04-05T09:46:13.331351",
     "status": "completed"
    },
    "tags": []
   },
   "source": [
    "Strings are technically sequences: immutable sequences of text characters. As sequences, they support indexing operations where the first character of a string is index 0. This means we can get individual letters or slices of letters with indexing:"
   ]
  },
  {
   "cell_type": "code",
   "execution_count": 102,
   "id": "68142485",
   "metadata": {
    "execution": {
     "iopub.execute_input": "2025-04-05T09:46:13.457629Z",
     "iopub.status.busy": "2025-04-05T09:46:13.457210Z",
     "iopub.status.idle": "2025-04-05T09:46:13.463157Z",
     "shell.execute_reply": "2025-04-05T09:46:13.462095Z"
    },
    "papermill": {
     "duration": 0.049821,
     "end_time": "2025-04-05T09:46:13.464981",
     "exception": false,
     "start_time": "2025-04-05T09:46:13.415160",
     "status": "completed"
    },
    "tags": []
   },
   "outputs": [
    {
     "data": {
      "text/plain": [
       "'l'"
      ]
     },
     "execution_count": 102,
     "metadata": {},
     "output_type": "execute_result"
    }
   ],
   "source": [
    "my_string = \"Hello World\"\n",
    "my_string[3]   #get the character at index 3"
   ]
  },
  {
   "cell_type": "code",
   "execution_count": 103,
   "id": "c1ad75ff",
   "metadata": {
    "execution": {
     "iopub.execute_input": "2025-04-05T09:46:13.551506Z",
     "iopub.status.busy": "2025-04-05T09:46:13.551076Z",
     "iopub.status.idle": "2025-04-05T09:46:13.557774Z",
     "shell.execute_reply": "2025-04-05T09:46:13.556590Z"
    },
    "papermill": {
     "duration": 0.051911,
     "end_time": "2025-04-05T09:46:13.559650",
     "exception": false,
     "start_time": "2025-04-05T09:46:13.507739",
     "status": "completed"
    },
    "tags": []
   },
   "outputs": [
    {
     "data": {
      "text/plain": [
       "'lo World'"
      ]
     },
     "execution_count": 103,
     "metadata": {},
     "output_type": "execute_result"
    }
   ],
   "source": [
    "my_string[3:]  #slice from the third index to the end"
   ]
  },
  {
   "cell_type": "code",
   "execution_count": 104,
   "id": "d4662bf6",
   "metadata": {
    "execution": {
     "iopub.execute_input": "2025-04-05T09:46:13.640572Z",
     "iopub.status.busy": "2025-04-05T09:46:13.640081Z",
     "iopub.status.idle": "2025-04-05T09:46:13.646567Z",
     "shell.execute_reply": "2025-04-05T09:46:13.645435Z"
    },
    "papermill": {
     "duration": 0.048823,
     "end_time": "2025-04-05T09:46:13.648568",
     "exception": false,
     "start_time": "2025-04-05T09:46:13.599745",
     "status": "completed"
    },
    "tags": []
   },
   "outputs": [
    {
     "data": {
      "text/plain": [
       "'dlroW olleH'"
      ]
     },
     "execution_count": 104,
     "metadata": {},
     "output_type": "execute_result"
    }
   ],
   "source": [
    "my_string[::-1]   #reverse the string"
   ]
  },
  {
   "cell_type": "markdown",
   "id": "b54be573",
   "metadata": {
    "papermill": {
     "duration": 0.047682,
     "end_time": "2025-04-05T09:46:13.739966",
     "exception": false,
     "start_time": "2025-04-05T09:46:13.692284",
     "status": "completed"
    },
    "tags": []
   },
   "source": [
    "In addition, certain sequence function like len() and count() work on strings:"
   ]
  },
  {
   "cell_type": "code",
   "execution_count": 105,
   "id": "82227493",
   "metadata": {
    "execution": {
     "iopub.execute_input": "2025-04-05T09:46:13.910236Z",
     "iopub.status.busy": "2025-04-05T09:46:13.909879Z",
     "iopub.status.idle": "2025-04-05T09:46:13.917401Z",
     "shell.execute_reply": "2025-04-05T09:46:13.915637Z"
    },
    "papermill": {
     "duration": 0.060599,
     "end_time": "2025-04-05T09:46:13.920657",
     "exception": false,
     "start_time": "2025-04-05T09:46:13.860058",
     "status": "completed"
    },
    "tags": []
   },
   "outputs": [
    {
     "data": {
      "text/plain": [
       "11"
      ]
     },
     "execution_count": 105,
     "metadata": {},
     "output_type": "execute_result"
    }
   ],
   "source": [
    "len(my_string)"
   ]
  },
  {
   "cell_type": "code",
   "execution_count": 106,
   "id": "67046a99",
   "metadata": {
    "execution": {
     "iopub.execute_input": "2025-04-05T09:46:14.025439Z",
     "iopub.status.busy": "2025-04-05T09:46:14.025068Z",
     "iopub.status.idle": "2025-04-05T09:46:14.031146Z",
     "shell.execute_reply": "2025-04-05T09:46:14.030251Z"
    },
    "papermill": {
     "duration": 0.049384,
     "end_time": "2025-04-05T09:46:14.033279",
     "exception": false,
     "start_time": "2025-04-05T09:46:13.983895",
     "status": "completed"
    },
    "tags": []
   },
   "outputs": [
    {
     "data": {
      "text/plain": [
       "3"
      ]
     },
     "execution_count": 106,
     "metadata": {},
     "output_type": "execute_result"
    }
   ],
   "source": [
    "my_string.count(\"l\")    #Count the l's in the string"
   ]
  },
  {
   "cell_type": "markdown",
   "id": "39e48fcf",
   "metadata": {
    "papermill": {
     "duration": 0.038867,
     "end_time": "2025-04-05T09:46:14.112877",
     "exception": false,
     "start_time": "2025-04-05T09:46:14.074010",
     "status": "completed"
    },
    "tags": []
   },
   "source": [
    "As immutable objects, you can't change a string itself: everytime you transform a string with function, Python makes a new string object, rather than actually altering the original string that exists in your computer's memory."
   ]
  },
  {
   "cell_type": "markdown",
   "id": "c25ab4cf",
   "metadata": {
    "papermill": {
     "duration": 0.040698,
     "end_time": "2025-04-05T09:46:14.194404",
     "exception": false,
     "start_time": "2025-04-05T09:46:14.153706",
     "status": "completed"
    },
    "tags": []
   },
   "source": [
    "Strings have many associated functions. Some basic string functions include:"
   ]
  },
  {
   "cell_type": "code",
   "execution_count": 107,
   "id": "30cdb129",
   "metadata": {
    "execution": {
     "iopub.execute_input": "2025-04-05T09:46:14.277590Z",
     "iopub.status.busy": "2025-04-05T09:46:14.277105Z",
     "iopub.status.idle": "2025-04-05T09:46:14.284098Z",
     "shell.execute_reply": "2025-04-05T09:46:14.282852Z"
    },
    "papermill": {
     "duration": 0.050343,
     "end_time": "2025-04-05T09:46:14.285997",
     "exception": false,
     "start_time": "2025-04-05T09:46:14.235654",
     "status": "completed"
    },
    "tags": []
   },
   "outputs": [
    {
     "data": {
      "text/plain": [
       "'hello world'"
      ]
     },
     "execution_count": 107,
     "metadata": {},
     "output_type": "execute_result"
    }
   ],
   "source": [
    "#str.lower()\n",
    "my_string.lower()   #Make all characters lowercase"
   ]
  },
  {
   "cell_type": "code",
   "execution_count": 108,
   "id": "6e1d80be",
   "metadata": {
    "execution": {
     "iopub.execute_input": "2025-04-05T09:46:14.367608Z",
     "iopub.status.busy": "2025-04-05T09:46:14.367141Z",
     "iopub.status.idle": "2025-04-05T09:46:14.373724Z",
     "shell.execute_reply": "2025-04-05T09:46:14.372490Z"
    },
    "papermill": {
     "duration": 0.049424,
     "end_time": "2025-04-05T09:46:14.375563",
     "exception": false,
     "start_time": "2025-04-05T09:46:14.326139",
     "status": "completed"
    },
    "tags": []
   },
   "outputs": [
    {
     "data": {
      "text/plain": [
       "'HELLO WORLD'"
      ]
     },
     "execution_count": 108,
     "metadata": {},
     "output_type": "execute_result"
    }
   ],
   "source": [
    "#str.upper()\n",
    "my_string.upper()  #Make all characters uppercase"
   ]
  },
  {
   "cell_type": "code",
   "execution_count": 109,
   "id": "b37cfa92",
   "metadata": {
    "execution": {
     "iopub.execute_input": "2025-04-05T09:46:14.457552Z",
     "iopub.status.busy": "2025-04-05T09:46:14.457070Z",
     "iopub.status.idle": "2025-04-05T09:46:14.464082Z",
     "shell.execute_reply": "2025-04-05T09:46:14.462961Z"
    },
    "papermill": {
     "duration": 0.049859,
     "end_time": "2025-04-05T09:46:14.465953",
     "exception": false,
     "start_time": "2025-04-05T09:46:14.416094",
     "status": "completed"
    },
    "tags": []
   },
   "outputs": [
    {
     "data": {
      "text/plain": [
       "'Hello World'"
      ]
     },
     "execution_count": 109,
     "metadata": {},
     "output_type": "execute_result"
    }
   ],
   "source": [
    "#str.title()\n",
    "my_string.title()  #Mak the first letter of each word upper"
   ]
  },
  {
   "cell_type": "markdown",
   "id": "4d7b6c0b",
   "metadata": {
    "papermill": {
     "duration": 0.041193,
     "end_time": "2025-04-05T09:46:14.550951",
     "exception": false,
     "start_time": "2025-04-05T09:46:14.509758",
     "status": "completed"
    },
    "tags": []
   },
   "source": [
    "Find the index of the first appearing substring within a string using str.find(). If the substring does not appear, find() returns -1:"
   ]
  },
  {
   "cell_type": "code",
   "execution_count": 110,
   "id": "0793f452",
   "metadata": {
    "execution": {
     "iopub.execute_input": "2025-04-05T09:46:14.635092Z",
     "iopub.status.busy": "2025-04-05T09:46:14.634583Z",
     "iopub.status.idle": "2025-04-05T09:46:14.641609Z",
     "shell.execute_reply": "2025-04-05T09:46:14.640507Z"
    },
    "papermill": {
     "duration": 0.051104,
     "end_time": "2025-04-05T09:46:14.643431",
     "exception": false,
     "start_time": "2025-04-05T09:46:14.592327",
     "status": "completed"
    },
    "tags": []
   },
   "outputs": [
    {
     "data": {
      "text/plain": [
       "-1"
      ]
     },
     "execution_count": 110,
     "metadata": {},
     "output_type": "execute_result"
    }
   ],
   "source": [
    "my_string.find(\"S\")"
   ]
  },
  {
   "cell_type": "markdown",
   "id": "442067d3",
   "metadata": {
    "papermill": {
     "duration": 0.042511,
     "end_time": "2025-04-05T09:46:14.729102",
     "exception": false,
     "start_time": "2025-04-05T09:46:14.686591",
     "status": "completed"
    },
    "tags": []
   },
   "source": [
    "Notice that since strings are immutable, we never actually changed the original value of my_string with any of the code above, but instead generated new strings that were printed to the console. This means \"S\" does not exist in my_string even through our call to str.title() produced the output 'Hello World'. "
   ]
  },
  {
   "cell_type": "code",
   "execution_count": 111,
   "id": "72647d9b",
   "metadata": {
    "execution": {
     "iopub.execute_input": "2025-04-05T09:46:14.815912Z",
     "iopub.status.busy": "2025-04-05T09:46:14.815554Z",
     "iopub.status.idle": "2025-04-05T09:46:14.821506Z",
     "shell.execute_reply": "2025-04-05T09:46:14.820520Z"
    },
    "papermill": {
     "duration": 0.052417,
     "end_time": "2025-04-05T09:46:14.823139",
     "exception": false,
     "start_time": "2025-04-05T09:46:14.770722",
     "status": "completed"
    },
    "tags": []
   },
   "outputs": [
    {
     "data": {
      "text/plain": [
       "6"
      ]
     },
     "execution_count": 111,
     "metadata": {},
     "output_type": "execute_result"
    }
   ],
   "source": [
    "my_string.find(\"W\")"
   ]
  },
  {
   "cell_type": "markdown",
   "id": "4886ab27",
   "metadata": {
    "papermill": {
     "duration": 0.040232,
     "end_time": "2025-04-05T09:46:14.905372",
     "exception": false,
     "start_time": "2025-04-05T09:46:14.865140",
     "status": "completed"
    },
    "tags": []
   },
   "source": [
    "Find and replace a target substring within a string using str.replace()\""
   ]
  },
  {
   "cell_type": "code",
   "execution_count": 112,
   "id": "bf8d3d05",
   "metadata": {
    "execution": {
     "iopub.execute_input": "2025-04-05T09:46:14.988592Z",
     "iopub.status.busy": "2025-04-05T09:46:14.988148Z",
     "iopub.status.idle": "2025-04-05T09:46:14.994703Z",
     "shell.execute_reply": "2025-04-05T09:46:14.993460Z"
    },
    "papermill": {
     "duration": 0.051386,
     "end_time": "2025-04-05T09:46:14.996966",
     "exception": false,
     "start_time": "2025-04-05T09:46:14.945580",
     "status": "completed"
    },
    "tags": []
   },
   "outputs": [
    {
     "data": {
      "text/plain": [
       "'Hello friend'"
      ]
     },
     "execution_count": 112,
     "metadata": {},
     "output_type": "execute_result"
    }
   ],
   "source": [
    "my_string = \"Hello world\"\n",
    "my_string.replace(\"world\",     #Substring to replace\n",
    "                \"friend\")      #New Substring"
   ]
  },
  {
   "cell_type": "markdown",
   "id": "1a04fb52",
   "metadata": {
    "papermill": {
     "duration": 0.039787,
     "end_time": "2025-04-05T09:46:15.078278",
     "exception": false,
     "start_time": "2025-04-05T09:46:15.038491",
     "status": "completed"
    },
    "tags": []
   },
   "source": [
    "Split a string into a list of substrings based on a given separating character with str.split():"
   ]
  },
  {
   "cell_type": "code",
   "execution_count": 113,
   "id": "8893ded6",
   "metadata": {
    "execution": {
     "iopub.execute_input": "2025-04-05T09:46:15.160014Z",
     "iopub.status.busy": "2025-04-05T09:46:15.159588Z",
     "iopub.status.idle": "2025-04-05T09:46:15.166525Z",
     "shell.execute_reply": "2025-04-05T09:46:15.165316Z"
    },
    "papermill": {
     "duration": 0.050424,
     "end_time": "2025-04-05T09:46:15.168476",
     "exception": false,
     "start_time": "2025-04-05T09:46:15.118052",
     "status": "completed"
    },
    "tags": []
   },
   "outputs": [
    {
     "data": {
      "text/plain": [
       "['Hello', 'world']"
      ]
     },
     "execution_count": 113,
     "metadata": {},
     "output_type": "execute_result"
    }
   ],
   "source": [
    "my_string.split()    #str.split() splits on spaces by default"
   ]
  },
  {
   "cell_type": "code",
   "execution_count": 114,
   "id": "306b3182",
   "metadata": {
    "execution": {
     "iopub.execute_input": "2025-04-05T09:46:15.254795Z",
     "iopub.status.busy": "2025-04-05T09:46:15.254360Z",
     "iopub.status.idle": "2025-04-05T09:46:15.261038Z",
     "shell.execute_reply": "2025-04-05T09:46:15.259775Z"
    },
    "papermill": {
     "duration": 0.050153,
     "end_time": "2025-04-05T09:46:15.262983",
     "exception": false,
     "start_time": "2025-04-05T09:46:15.212830",
     "status": "completed"
    },
    "tags": []
   },
   "outputs": [
    {
     "data": {
      "text/plain": [
       "['Hello world']"
      ]
     },
     "execution_count": 114,
     "metadata": {},
     "output_type": "execute_result"
    }
   ],
   "source": [
    "my_string.split(\"_\") "
   ]
  },
  {
   "cell_type": "code",
   "execution_count": 115,
   "id": "c799eb1d",
   "metadata": {
    "execution": {
     "iopub.execute_input": "2025-04-05T09:46:15.349971Z",
     "iopub.status.busy": "2025-04-05T09:46:15.349546Z",
     "iopub.status.idle": "2025-04-05T09:46:15.356172Z",
     "shell.execute_reply": "2025-04-05T09:46:15.354952Z"
    },
    "papermill": {
     "duration": 0.052615,
     "end_time": "2025-04-05T09:46:15.358120",
     "exception": false,
     "start_time": "2025-04-05T09:46:15.305505",
     "status": "completed"
    },
    "tags": []
   },
   "outputs": [
    {
     "data": {
      "text/plain": [
       "['He', '', 'o wor', 'd']"
      ]
     },
     "execution_count": 115,
     "metadata": {},
     "output_type": "execute_result"
    }
   ],
   "source": [
    "my_string.split(\"l\")   #Supply a substring to split  on other values"
   ]
  },
  {
   "cell_type": "markdown",
   "id": "3de94f42",
   "metadata": {
    "papermill": {
     "duration": 0.040458,
     "end_time": "2025-04-05T09:46:15.439516",
     "exception": false,
     "start_time": "2025-04-05T09:46:15.399058",
     "status": "completed"
    },
    "tags": []
   },
   "source": [
    "Split a multi-line string into a list of lines using str.splitlines():"
   ]
  },
  {
   "cell_type": "code",
   "execution_count": 116,
   "id": "f7fb5dd1",
   "metadata": {
    "execution": {
     "iopub.execute_input": "2025-04-05T09:46:15.524080Z",
     "iopub.status.busy": "2025-04-05T09:46:15.523656Z",
     "iopub.status.idle": "2025-04-05T09:46:15.530710Z",
     "shell.execute_reply": "2025-04-05T09:46:15.529492Z"
    },
    "papermill": {
     "duration": 0.051762,
     "end_time": "2025-04-05T09:46:15.532718",
     "exception": false,
     "start_time": "2025-04-05T09:46:15.480956",
     "status": "completed"
    },
    "tags": []
   },
   "outputs": [
    {
     "data": {
      "text/plain": [
       "['I ', 'a multiline ', 'string!']"
      ]
     },
     "execution_count": 116,
     "metadata": {},
     "output_type": "execute_result"
    }
   ],
   "source": [
    "multiline_string = \"\"\"I \n",
    "a multiline \n",
    "string!\"\"\"\n",
    "multiline_string.splitlines()"
   ]
  },
  {
   "cell_type": "markdown",
   "id": "43b66202",
   "metadata": {
    "papermill": {
     "duration": 0.04204,
     "end_time": "2025-04-05T09:46:15.617896",
     "exception": false,
     "start_time": "2025-04-05T09:46:15.575856",
     "status": "completed"
    },
    "tags": []
   },
   "source": [
    "Strip leading and trailing characters from both ends of a string with str.strip()"
   ]
  },
  {
   "cell_type": "code",
   "execution_count": 117,
   "id": "a2848bee",
   "metadata": {
    "execution": {
     "iopub.execute_input": "2025-04-05T09:46:15.707944Z",
     "iopub.status.busy": "2025-04-05T09:46:15.707554Z",
     "iopub.status.idle": "2025-04-05T09:46:15.714050Z",
     "shell.execute_reply": "2025-04-05T09:46:15.712849Z"
    },
    "papermill": {
     "duration": 0.055071,
     "end_time": "2025-04-05T09:46:15.716142",
     "exception": false,
     "start_time": "2025-04-05T09:46:15.661071",
     "status": "completed"
    },
    "tags": []
   },
   "outputs": [
    {
     "data": {
      "text/plain": [
       "'strip white space!'"
      ]
     },
     "execution_count": 117,
     "metadata": {},
     "output_type": "execute_result"
    }
   ],
   "source": [
    "# str.strip() removes whitespace by default\n",
    "\"   strip white space!   \".strip()"
   ]
  },
  {
   "cell_type": "markdown",
   "id": "6d113225",
   "metadata": {
    "papermill": {
     "duration": 0.046935,
     "end_time": "2025-04-05T09:46:15.806848",
     "exception": false,
     "start_time": "2025-04-05T09:46:15.759913",
     "status": "completed"
    },
    "tags": []
   },
   "source": [
    "Override the default by supplying a string containing all characters you'd like to strip as an argument to the function :"
   ]
  },
  {
   "cell_type": "code",
   "execution_count": 118,
   "id": "5d85540d",
   "metadata": {
    "execution": {
     "iopub.execute_input": "2025-04-05T09:46:15.896101Z",
     "iopub.status.busy": "2025-04-05T09:46:15.895767Z",
     "iopub.status.idle": "2025-04-05T09:46:15.902457Z",
     "shell.execute_reply": "2025-04-05T09:46:15.901397Z"
    },
    "papermill": {
     "duration": 0.053926,
     "end_time": "2025-04-05T09:46:15.904452",
     "exception": false,
     "start_time": "2025-04-05T09:46:15.850526",
     "status": "completed"
    },
    "tags": []
   },
   "outputs": [
    {
     "data": {
      "text/plain": [
       "'BuyNOW'"
      ]
     },
     "execution_count": 118,
     "metadata": {},
     "output_type": "execute_result"
    }
   ],
   "source": [
    "\"xXxxBuyNOWxxXx\".strip(\"xX\")"
   ]
  },
  {
   "cell_type": "markdown",
   "id": "e4fca9db",
   "metadata": {
    "papermill": {
     "duration": 0.042575,
     "end_time": "2025-04-05T09:46:15.990819",
     "exception": false,
     "start_time": "2025-04-05T09:46:15.948244",
     "status": "completed"
    },
    "tags": []
   },
   "source": [
    "You can strip characters from the left or right sides only with str.Istrip() and str.rstrip() respectively. To join or concatenate two strings together, you can us the plus (+) Operator:"
   ]
  },
  {
   "cell_type": "code",
   "execution_count": 119,
   "id": "1d76d0a8",
   "metadata": {
    "execution": {
     "iopub.execute_input": "2025-04-05T09:46:16.079972Z",
     "iopub.status.busy": "2025-04-05T09:46:16.079619Z",
     "iopub.status.idle": "2025-04-05T09:46:16.086046Z",
     "shell.execute_reply": "2025-04-05T09:46:16.084810Z"
    },
    "papermill": {
     "duration": 0.052974,
     "end_time": "2025-04-05T09:46:16.088003",
     "exception": false,
     "start_time": "2025-04-05T09:46:16.035029",
     "status": "completed"
    },
    "tags": []
   },
   "outputs": [
    {
     "data": {
      "text/plain": [
       "'Hello World'"
      ]
     },
     "execution_count": 119,
     "metadata": {},
     "output_type": "execute_result"
    }
   ],
   "source": [
    "\"Hello \"  + \"World\""
   ]
  },
  {
   "cell_type": "markdown",
   "id": "8a8de951",
   "metadata": {
    "papermill": {
     "duration": 0.042237,
     "end_time": "2025-04-05T09:46:16.172146",
     "exception": false,
     "start_time": "2025-04-05T09:46:16.129909",
     "status": "completed"
    },
    "tags": []
   },
   "source": [
    "Convert the a list of strings into a single string separated by a given delimiter with str.join():"
   ]
  },
  {
   "cell_type": "code",
   "execution_count": 120,
   "id": "5cd59724",
   "metadata": {
    "execution": {
     "iopub.execute_input": "2025-04-05T09:46:16.258773Z",
     "iopub.status.busy": "2025-04-05T09:46:16.258367Z",
     "iopub.status.idle": "2025-04-05T09:46:16.264969Z",
     "shell.execute_reply": "2025-04-05T09:46:16.263782Z"
    },
    "papermill": {
     "duration": 0.050855,
     "end_time": "2025-04-05T09:46:16.266937",
     "exception": false,
     "start_time": "2025-04-05T09:46:16.216082",
     "status": "completed"
    },
    "tags": []
   },
   "outputs": [
    {
     "data": {
      "text/plain": [
       "'Hello World! Join Me!'"
      ]
     },
     "execution_count": 120,
     "metadata": {},
     "output_type": "execute_result"
    }
   ],
   "source": [
    "\" \".join([\"Hello\",\"World!\",\"Join\",\"Me!\"])"
   ]
  },
  {
   "cell_type": "code",
   "execution_count": 121,
   "id": "9779a572",
   "metadata": {
    "execution": {
     "iopub.execute_input": "2025-04-05T09:46:16.360763Z",
     "iopub.status.busy": "2025-04-05T09:46:16.360291Z",
     "iopub.status.idle": "2025-04-05T09:46:16.367592Z",
     "shell.execute_reply": "2025-04-05T09:46:16.366269Z"
    },
    "papermill": {
     "duration": 0.057147,
     "end_time": "2025-04-05T09:46:16.369475",
     "exception": false,
     "start_time": "2025-04-05T09:46:16.312328",
     "status": "completed"
    },
    "tags": []
   },
   "outputs": [
    {
     "data": {
      "text/plain": [
       "'My name is Joe I am 10 and I live in Paris'"
      ]
     },
     "execution_count": 121,
     "metadata": {},
     "output_type": "execute_result"
    }
   ],
   "source": [
    "name = \"Joe\"\n",
    "age = 10\n",
    "city = \"Paris\"\n",
    "template_string = \"My name is {} I am {} and I live in {}\"\n",
    "template_string.format(name, age, city)"
   ]
  },
  {
   "cell_type": "markdown",
   "id": "76947a86",
   "metadata": {
    "papermill": {
     "duration": 0.041344,
     "end_time": "2025-04-05T09:46:16.453264",
     "exception": false,
     "start_time": "2025-04-05T09:46:16.411920",
     "status": "completed"
    },
    "tags": []
   },
   "source": [
    "Formatted strings or f-strings for short are an alternative, relatively new (as of python version 3.6) method for string formatting. F-strings are strings prefixed with \"f\" that allows you to insert existing variables into string by name by placing them within curly braces:"
   ]
  },
  {
   "cell_type": "code",
   "execution_count": 122,
   "id": "80172867",
   "metadata": {
    "execution": {
     "iopub.execute_input": "2025-04-05T09:46:16.537717Z",
     "iopub.status.busy": "2025-04-05T09:46:16.537235Z",
     "iopub.status.idle": "2025-04-05T09:46:16.543585Z",
     "shell.execute_reply": "2025-04-05T09:46:16.542525Z"
    },
    "papermill": {
     "duration": 0.050745,
     "end_time": "2025-04-05T09:46:16.545276",
     "exception": false,
     "start_time": "2025-04-05T09:46:16.494531",
     "status": "completed"
    },
    "tags": []
   },
   "outputs": [
    {
     "data": {
      "text/plain": [
       "'My name is Joe I am 10 and I live in Paris'"
      ]
     },
     "execution_count": 122,
     "metadata": {},
     "output_type": "execute_result"
    }
   ],
   "source": [
    "#Remaking the example above using f-string\n",
    "f\"My name is {name} I am {age} and I live in {city}\""
   ]
  },
  {
   "cell_type": "markdown",
   "id": "5d5bf9c0",
   "metadata": {
    "papermill": {
     "duration": 0.041133,
     "end_time": "2025-04-05T09:46:16.628946",
     "exception": false,
     "start_time": "2025-04-05T09:46:16.587813",
     "status": "completed"
    },
    "tags": []
   },
   "source": [
    "Sequences data types like lists, tuples and strings are ordered. Ordering can be useful in some cases, such as if your data is sorted or has some other natural sense of ordering, but it comes at a price. When you search through sequences like lists, your computer has to go through each element one at a time to find an object you're looking for."
   ]
  },
  {
   "cell_type": "code",
   "execution_count": 123,
   "id": "8ea21feb",
   "metadata": {
    "execution": {
     "iopub.execute_input": "2025-04-05T09:46:16.713928Z",
     "iopub.status.busy": "2025-04-05T09:46:16.713447Z",
     "iopub.status.idle": "2025-04-05T09:46:16.720125Z",
     "shell.execute_reply": "2025-04-05T09:46:16.718974Z"
    },
    "papermill": {
     "duration": 0.052177,
     "end_time": "2025-04-05T09:46:16.722110",
     "exception": false,
     "start_time": "2025-04-05T09:46:16.669933",
     "status": "completed"
    },
    "tags": []
   },
   "outputs": [
    {
     "data": {
      "text/plain": [
       "False"
      ]
     },
     "execution_count": 123,
     "metadata": {},
     "output_type": "execute_result"
    }
   ],
   "source": [
    "#Consider this code\n",
    "my_list = [1,2,3,4,5,6,7,8,9,10]\n",
    "0 in my_list"
   ]
  },
  {
   "cell_type": "markdown",
   "id": "bc65e7be",
   "metadata": {
    "papermill": {
     "duration": 0.043973,
     "end_time": "2025-04-05T09:46:16.808883",
     "exception": false,
     "start_time": "2025-04-05T09:46:16.764910",
     "status": "completed"
    },
    "tags": []
   },
   "source": [
    "When running the code above, Python has to search through the entire list, one item at a time before it returns that 0 is not in the list.  This sequential searching isn't much of a concern with small list like this one, but if you're working with data that contains thousands or millions of values, it can add up quickly.\n",
    "\n",
    "Dictionaries and sets are unordered Python data structures that solve this issue using a technique called hashing.  We won't go into the details of their implementation, but dictionaries and sets let you check whether they contain objects without having to search through each element one at a time, at the cost of having no order and using a bit more system memory."
   ]
  },
  {
   "cell_type": "markdown",
   "id": "35933570",
   "metadata": {
    "papermill": {
     "duration": 0.042468,
     "end_time": "2025-04-05T09:46:16.892756",
     "exception": false,
     "start_time": "2025-04-05T09:46:16.850288",
     "status": "completed"
    },
    "tags": []
   },
   "source": [
    "# Dictionaries\n",
    "\n",
    "A dictionary or dict is an object that maps a set of named indexes called keys to a set of corresponding values. Dictionaries are mutable, so you can add and remove keys and their associated values. A dictionary's keys must be immutable objects, such as ints, strings or tuples, but the values can be anything.\n",
    "\n",
    "Create a dictionary with a comma-separated list of key: value pairs within curly braces:"
   ]
  },
  {
   "cell_type": "code",
   "execution_count": 124,
   "id": "9bd80741",
   "metadata": {
    "execution": {
     "iopub.execute_input": "2025-04-05T09:46:16.978989Z",
     "iopub.status.busy": "2025-04-05T09:46:16.978532Z",
     "iopub.status.idle": "2025-04-05T09:46:16.983613Z",
     "shell.execute_reply": "2025-04-05T09:46:16.982399Z"
    },
    "papermill": {
     "duration": 0.04995,
     "end_time": "2025-04-05T09:46:16.985577",
     "exception": false,
     "start_time": "2025-04-05T09:46:16.935627",
     "status": "completed"
    },
    "tags": []
   },
   "outputs": [
    {
     "name": "stdout",
     "output_type": "stream",
     "text": [
      "{'name': 'Joe', 'age': 10, 'city': 'Paris'}\n"
     ]
    }
   ],
   "source": [
    "my_dict = {\n",
    "    \"name\" : \"Joe\",\n",
    "    \"age\"  : 10,\n",
    "    \"city\" : \"Paris\"\n",
    "          }\n",
    "print(my_dict)"
   ]
  },
  {
   "cell_type": "code",
   "execution_count": null,
   "id": "6a1ddf5d",
   "metadata": {
    "papermill": {
     "duration": 0.041183,
     "end_time": "2025-04-05T09:46:17.068673",
     "exception": false,
     "start_time": "2025-04-05T09:46:17.027490",
     "status": "completed"
    },
    "tags": []
   },
   "outputs": [],
   "source": []
  },
  {
   "cell_type": "code",
   "execution_count": null,
   "id": "b225d245",
   "metadata": {
    "papermill": {
     "duration": 0.041674,
     "end_time": "2025-04-05T09:46:17.152043",
     "exception": false,
     "start_time": "2025-04-05T09:46:17.110369",
     "status": "completed"
    },
    "tags": []
   },
   "outputs": [],
   "source": []
  },
  {
   "cell_type": "code",
   "execution_count": null,
   "id": "70980b8c",
   "metadata": {
    "papermill": {
     "duration": 0.042766,
     "end_time": "2025-04-05T09:46:17.236134",
     "exception": false,
     "start_time": "2025-04-05T09:46:17.193368",
     "status": "completed"
    },
    "tags": []
   },
   "outputs": [],
   "source": []
  },
  {
   "cell_type": "markdown",
   "id": "f4692d7e",
   "metadata": {
    "papermill": {
     "duration": 0.041843,
     "end_time": "2025-04-05T09:46:17.320961",
     "exception": false,
     "start_time": "2025-04-05T09:46:17.279118",
     "status": "completed"
    },
    "tags": []
   },
   "source": [
    "Notice that in the prited dictionary, the items don't appear in the same order as when we defined it, since dictionaries are unordered. Index into a dictionary using keys rather than numeric indexes:"
   ]
  },
  {
   "cell_type": "code",
   "execution_count": 125,
   "id": "d9a35616",
   "metadata": {
    "execution": {
     "iopub.execute_input": "2025-04-05T09:46:17.406680Z",
     "iopub.status.busy": "2025-04-05T09:46:17.406267Z",
     "iopub.status.idle": "2025-04-05T09:46:17.412763Z",
     "shell.execute_reply": "2025-04-05T09:46:17.411685Z"
    },
    "papermill": {
     "duration": 0.050765,
     "end_time": "2025-04-05T09:46:17.414787",
     "exception": false,
     "start_time": "2025-04-05T09:46:17.364022",
     "status": "completed"
    },
    "tags": []
   },
   "outputs": [
    {
     "data": {
      "text/plain": [
       "'Joe'"
      ]
     },
     "execution_count": 125,
     "metadata": {},
     "output_type": "execute_result"
    }
   ],
   "source": [
    "my_dict[\"name\"]"
   ]
  },
  {
   "cell_type": "markdown",
   "id": "c96f1d1c",
   "metadata": {
    "papermill": {
     "duration": 0.044444,
     "end_time": "2025-04-05T09:46:17.505141",
     "exception": false,
     "start_time": "2025-04-05T09:46:17.460697",
     "status": "completed"
    },
    "tags": []
   },
   "source": [
    "Add new items to an existing dictionary with the following syntax:"
   ]
  },
  {
   "cell_type": "code",
   "execution_count": 126,
   "id": "fb4ebab4",
   "metadata": {
    "execution": {
     "iopub.execute_input": "2025-04-05T09:46:17.594512Z",
     "iopub.status.busy": "2025-04-05T09:46:17.594054Z",
     "iopub.status.idle": "2025-04-05T09:46:17.599921Z",
     "shell.execute_reply": "2025-04-05T09:46:17.598455Z"
    },
    "papermill": {
     "duration": 0.052543,
     "end_time": "2025-04-05T09:46:17.601744",
     "exception": false,
     "start_time": "2025-04-05T09:46:17.549201",
     "status": "completed"
    },
    "tags": []
   },
   "outputs": [
    {
     "name": "stdout",
     "output_type": "stream",
     "text": [
      "{'name': 'Joe', 'age': 10, 'city': 'Paris', 'new_key': 'new_value'}\n"
     ]
    }
   ],
   "source": [
    "my_dict[\"new_key\"] = \"new_value\"\n",
    "print(my_dict)"
   ]
  },
  {
   "cell_type": "code",
   "execution_count": 127,
   "id": "8a686b3f",
   "metadata": {
    "execution": {
     "iopub.execute_input": "2025-04-05T09:46:17.691992Z",
     "iopub.status.busy": "2025-04-05T09:46:17.691588Z",
     "iopub.status.idle": "2025-04-05T09:46:17.697435Z",
     "shell.execute_reply": "2025-04-05T09:46:17.695880Z"
    },
    "papermill": {
     "duration": 0.053228,
     "end_time": "2025-04-05T09:46:17.699313",
     "exception": false,
     "start_time": "2025-04-05T09:46:17.646085",
     "status": "completed"
    },
    "tags": []
   },
   "outputs": [
    {
     "name": "stdout",
     "output_type": "stream",
     "text": [
      "{'name': 'Joe', 'age': 10, 'city': 'Paris'}\n"
     ]
    }
   ],
   "source": [
    "#Delete existing key: value pairs with del:\n",
    "del my_dict[\"new_key\"]\n",
    "print(my_dict)"
   ]
  },
  {
   "cell_type": "code",
   "execution_count": 128,
   "id": "b1cd4811",
   "metadata": {
    "execution": {
     "iopub.execute_input": "2025-04-05T09:46:17.790189Z",
     "iopub.status.busy": "2025-04-05T09:46:17.789810Z",
     "iopub.status.idle": "2025-04-05T09:46:17.796763Z",
     "shell.execute_reply": "2025-04-05T09:46:17.795461Z"
    },
    "papermill": {
     "duration": 0.055717,
     "end_time": "2025-04-05T09:46:17.798900",
     "exception": false,
     "start_time": "2025-04-05T09:46:17.743183",
     "status": "completed"
    },
    "tags": []
   },
   "outputs": [
    {
     "data": {
      "text/plain": [
       "3"
      ]
     },
     "execution_count": 128,
     "metadata": {},
     "output_type": "execute_result"
    }
   ],
   "source": [
    "#Check the number of items in a dict with len():\n",
    "len(my_dict)"
   ]
  },
  {
   "cell_type": "code",
   "execution_count": 129,
   "id": "4aad8c85",
   "metadata": {
    "execution": {
     "iopub.execute_input": "2025-04-05T09:46:17.887181Z",
     "iopub.status.busy": "2025-04-05T09:46:17.886853Z",
     "iopub.status.idle": "2025-04-05T09:46:17.893483Z",
     "shell.execute_reply": "2025-04-05T09:46:17.892220Z"
    },
    "papermill": {
     "duration": 0.051699,
     "end_time": "2025-04-05T09:46:17.895416",
     "exception": false,
     "start_time": "2025-04-05T09:46:17.843717",
     "status": "completed"
    },
    "tags": []
   },
   "outputs": [
    {
     "data": {
      "text/plain": [
       "True"
      ]
     },
     "execution_count": 129,
     "metadata": {},
     "output_type": "execute_result"
    }
   ],
   "source": [
    "#Check whether a certain key exists with \"in\":\n",
    "\"name\" in my_dict"
   ]
  },
  {
   "cell_type": "code",
   "execution_count": 130,
   "id": "f004ff84",
   "metadata": {
    "execution": {
     "iopub.execute_input": "2025-04-05T09:46:17.982218Z",
     "iopub.status.busy": "2025-04-05T09:46:17.981898Z",
     "iopub.status.idle": "2025-04-05T09:46:17.988259Z",
     "shell.execute_reply": "2025-04-05T09:46:17.987141Z"
    },
    "papermill": {
     "duration": 0.051214,
     "end_time": "2025-04-05T09:46:17.990153",
     "exception": false,
     "start_time": "2025-04-05T09:46:17.938939",
     "status": "completed"
    },
    "tags": []
   },
   "outputs": [
    {
     "data": {
      "text/plain": [
       "dict_keys(['name', 'age', 'city'])"
      ]
     },
     "execution_count": 130,
     "metadata": {},
     "output_type": "execute_result"
    }
   ],
   "source": [
    "#You can access all the keys,all the values or all the key: value pairs of a dictionary with the keys(),\n",
    "#value() and items() functions respectively:\n",
    "\n",
    "my_dict.keys()"
   ]
  },
  {
   "cell_type": "code",
   "execution_count": 131,
   "id": "c2e573e7",
   "metadata": {
    "execution": {
     "iopub.execute_input": "2025-04-05T09:46:18.084574Z",
     "iopub.status.busy": "2025-04-05T09:46:18.084080Z",
     "iopub.status.idle": "2025-04-05T09:46:18.091433Z",
     "shell.execute_reply": "2025-04-05T09:46:18.090159Z"
    },
    "papermill": {
     "duration": 0.060024,
     "end_time": "2025-04-05T09:46:18.093274",
     "exception": false,
     "start_time": "2025-04-05T09:46:18.033250",
     "status": "completed"
    },
    "tags": []
   },
   "outputs": [
    {
     "data": {
      "text/plain": [
       "True"
      ]
     },
     "execution_count": 131,
     "metadata": {},
     "output_type": "execute_result"
    }
   ],
   "source": [
    "my_dict.values()\n",
    "\"Paris\" in my_dict.values()"
   ]
  },
  {
   "cell_type": "code",
   "execution_count": 132,
   "id": "fd1d767e",
   "metadata": {
    "execution": {
     "iopub.execute_input": "2025-04-05T09:46:18.186793Z",
     "iopub.status.busy": "2025-04-05T09:46:18.186306Z",
     "iopub.status.idle": "2025-04-05T09:46:18.192821Z",
     "shell.execute_reply": "2025-04-05T09:46:18.191653Z"
    },
    "papermill": {
     "duration": 0.052699,
     "end_time": "2025-04-05T09:46:18.194508",
     "exception": false,
     "start_time": "2025-04-05T09:46:18.141809",
     "status": "completed"
    },
    "tags": []
   },
   "outputs": [
    {
     "data": {
      "text/plain": [
       "dict_items([('name', 'Joe'), ('age', 10), ('city', 'Paris')])"
      ]
     },
     "execution_count": 132,
     "metadata": {},
     "output_type": "execute_result"
    }
   ],
   "source": [
    "my_dict.items()"
   ]
  },
  {
   "cell_type": "markdown",
   "id": "f9c1622e",
   "metadata": {
    "papermill": {
     "duration": 0.042947,
     "end_time": "2025-04-05T09:46:18.280952",
     "exception": false,
     "start_time": "2025-04-05T09:46:18.238005",
     "status": "completed"
    },
    "tags": []
   },
   "source": [
    "Real word data often comes in the form tables of rows and columns, where each column specifies a different data feature like name or age and each row represents an individual record.  we can encode this sort of tabular data in a dictionary by assigning each column label a key and then storing the column values as a list.\n",
    "\n",
    "Consider the following table:\n",
    "\n",
    "name      age    city\n",
    "Joe       10     Paris\n",
    "Bob       15     New York\n",
    "Harry     20     Tokyo\n",
    "\n",
    "We can store this data in a dictionary like so:"
   ]
  },
  {
   "cell_type": "code",
   "execution_count": 133,
   "id": "145c5650",
   "metadata": {
    "execution": {
     "iopub.execute_input": "2025-04-05T09:46:18.368001Z",
     "iopub.status.busy": "2025-04-05T09:46:18.367566Z",
     "iopub.status.idle": "2025-04-05T09:46:18.373674Z",
     "shell.execute_reply": "2025-04-05T09:46:18.372019Z"
    },
    "papermill": {
     "duration": 0.052088,
     "end_time": "2025-04-05T09:46:18.375653",
     "exception": false,
     "start_time": "2025-04-05T09:46:18.323565",
     "status": "completed"
    },
    "tags": []
   },
   "outputs": [
    {
     "name": "stdout",
     "output_type": "stream",
     "text": [
      "{'name': ['Joe', 'Bob', 'Harry'], 'age': [10, 15, 20], 'city': ['Paris', 'New York', 'Tokyo']}\n"
     ]
    }
   ],
   "source": [
    "my_table_dict = {\n",
    "    \"name\" : [\"Joe\",\"Bob\",\"Harry\"],\n",
    "    \"age\"  : [10,15,20],\n",
    "    \"city\" : [\"Paris\", \"New York\", \"Tokyo\"]\n",
    "}\n",
    "print(my_table_dict)"
   ]
  },
  {
   "cell_type": "markdown",
   "id": "01ff68f9",
   "metadata": {
    "papermill": {
     "duration": 0.041976,
     "end_time": "2025-04-05T09:46:18.461562",
     "exception": false,
     "start_time": "2025-04-05T09:46:18.419586",
     "status": "completed"
    },
    "tags": []
   },
   "source": [
    "Certain data formats like XML and Json have a non tabular, nested structure. Python dictionaries can contain other dictionaries, so they can mirror this sort of nested structure, providing a convenient interface for working with these sorts of data formats in Python."
   ]
  },
  {
   "cell_type": "markdown",
   "id": "e14c62aa",
   "metadata": {
    "papermill": {
     "duration": 0.041807,
     "end_time": "2025-04-05T09:46:18.545614",
     "exception": false,
     "start_time": "2025-04-05T09:46:18.503807",
     "status": "completed"
    },
    "tags": []
   },
   "source": [
    "# Sets\n",
    "\n",
    "Sets are unordered, mutable collections of immutable objects that cannot contain duplicates.  Sets are useful for storing and performing opearations on data where each value is unique.  Create a set with a comma separated sequence of values within curly braces:"
   ]
  },
  {
   "cell_type": "code",
   "execution_count": 134,
   "id": "060d0756",
   "metadata": {
    "execution": {
     "iopub.execute_input": "2025-04-05T09:46:18.633017Z",
     "iopub.status.busy": "2025-04-05T09:46:18.632589Z",
     "iopub.status.idle": "2025-04-05T09:46:18.639974Z",
     "shell.execute_reply": "2025-04-05T09:46:18.638551Z"
    },
    "papermill": {
     "duration": 0.05406,
     "end_time": "2025-04-05T09:46:18.641849",
     "exception": false,
     "start_time": "2025-04-05T09:46:18.587789",
     "status": "completed"
    },
    "tags": []
   },
   "outputs": [
    {
     "data": {
      "text/plain": [
       "set"
      ]
     },
     "execution_count": 134,
     "metadata": {},
     "output_type": "execute_result"
    }
   ],
   "source": [
    "my_set = {1,2,3,4,5,6,7}\n",
    "type(my_set)"
   ]
  },
  {
   "cell_type": "markdown",
   "id": "afa35cf7",
   "metadata": {
    "papermill": {
     "duration": 0.04477,
     "end_time": "2025-04-05T09:46:18.731039",
     "exception": false,
     "start_time": "2025-04-05T09:46:18.686269",
     "status": "completed"
    },
    "tags": []
   },
   "source": [
    "Add and remove items from a set with add() and remove() respectively:"
   ]
  },
  {
   "cell_type": "code",
   "execution_count": 135,
   "id": "a767ba92",
   "metadata": {
    "execution": {
     "iopub.execute_input": "2025-04-05T09:46:18.821744Z",
     "iopub.status.busy": "2025-04-05T09:46:18.821279Z",
     "iopub.status.idle": "2025-04-05T09:46:18.828335Z",
     "shell.execute_reply": "2025-04-05T09:46:18.827003Z"
    },
    "papermill": {
     "duration": 0.056291,
     "end_time": "2025-04-05T09:46:18.830731",
     "exception": false,
     "start_time": "2025-04-05T09:46:18.774440",
     "status": "completed"
    },
    "tags": []
   },
   "outputs": [
    {
     "data": {
      "text/plain": [
       "{1, 2, 3, 4, 5, 6, 7, 8}"
      ]
     },
     "execution_count": 135,
     "metadata": {},
     "output_type": "execute_result"
    }
   ],
   "source": [
    "my_set.add(8)\n",
    "my_set"
   ]
  },
  {
   "cell_type": "code",
   "execution_count": 136,
   "id": "3b843bad",
   "metadata": {
    "execution": {
     "iopub.execute_input": "2025-04-05T09:46:18.925147Z",
     "iopub.status.busy": "2025-04-05T09:46:18.924808Z",
     "iopub.status.idle": "2025-04-05T09:46:18.931314Z",
     "shell.execute_reply": "2025-04-05T09:46:18.930202Z"
    },
    "papermill": {
     "duration": 0.056086,
     "end_time": "2025-04-05T09:46:18.933229",
     "exception": false,
     "start_time": "2025-04-05T09:46:18.877143",
     "status": "completed"
    },
    "tags": []
   },
   "outputs": [
    {
     "data": {
      "text/plain": [
       "{1, 2, 3, 4, 5, 6, 8}"
      ]
     },
     "execution_count": 136,
     "metadata": {},
     "output_type": "execute_result"
    }
   ],
   "source": [
    "my_set.remove(7)\n",
    "my_set"
   ]
  },
  {
   "cell_type": "code",
   "execution_count": 137,
   "id": "c02ae960",
   "metadata": {
    "execution": {
     "iopub.execute_input": "2025-04-05T09:46:19.021194Z",
     "iopub.status.busy": "2025-04-05T09:46:19.020792Z",
     "iopub.status.idle": "2025-04-05T09:46:19.027830Z",
     "shell.execute_reply": "2025-04-05T09:46:19.026578Z"
    },
    "papermill": {
     "duration": 0.05324,
     "end_time": "2025-04-05T09:46:19.029800",
     "exception": false,
     "start_time": "2025-04-05T09:46:18.976560",
     "status": "completed"
    },
    "tags": []
   },
   "outputs": [
    {
     "data": {
      "text/plain": [
       "True"
      ]
     },
     "execution_count": 137,
     "metadata": {},
     "output_type": "execute_result"
    }
   ],
   "source": [
    "#Sets do not support indexing, but they do support basic sequence functions like len(), min(),\n",
    "#max() and sum().  You can also check membership and non-membership as usual with in:\n",
    "\n",
    "6 in my_set"
   ]
  },
  {
   "cell_type": "markdown",
   "id": "3435941e",
   "metadata": {
    "papermill": {
     "duration": 0.043726,
     "end_time": "2025-04-05T09:46:19.118480",
     "exception": false,
     "start_time": "2025-04-05T09:46:19.074754",
     "status": "completed"
    },
    "tags": []
   },
   "source": [
    "One of the main purposes of sets is to perform set operations that compare or combine\n",
    "different sets. Python sets support many common mathematical set operations like union,\n",
    "intersection, difference and checking whether one set is a subset of another:"
   ]
  },
  {
   "cell_type": "code",
   "execution_count": 138,
   "id": "89d00f3f",
   "metadata": {
    "execution": {
     "iopub.execute_input": "2025-04-05T09:46:19.208331Z",
     "iopub.status.busy": "2025-04-05T09:46:19.207915Z",
     "iopub.status.idle": "2025-04-05T09:46:19.214998Z",
     "shell.execute_reply": "2025-04-05T09:46:19.213888Z"
    },
    "papermill": {
     "duration": 0.053578,
     "end_time": "2025-04-05T09:46:19.216847",
     "exception": false,
     "start_time": "2025-04-05T09:46:19.163269",
     "status": "completed"
    },
    "tags": []
   },
   "outputs": [
    {
     "data": {
      "text/plain": [
       "{1, 2, 3, 4, 5, 6}"
      ]
     },
     "execution_count": 138,
     "metadata": {},
     "output_type": "execute_result"
    }
   ],
   "source": [
    "set1 = {1,3,5,6}\n",
    "set2 = {1,2,3,4}\n",
    "\n",
    "set1.union(set2)              #get the union of two sets"
   ]
  },
  {
   "cell_type": "code",
   "execution_count": 139,
   "id": "e399d881",
   "metadata": {
    "execution": {
     "iopub.execute_input": "2025-04-05T09:46:19.305950Z",
     "iopub.status.busy": "2025-04-05T09:46:19.305525Z",
     "iopub.status.idle": "2025-04-05T09:46:19.312254Z",
     "shell.execute_reply": "2025-04-05T09:46:19.311023Z"
    },
    "papermill": {
     "duration": 0.053197,
     "end_time": "2025-04-05T09:46:19.314155",
     "exception": false,
     "start_time": "2025-04-05T09:46:19.260958",
     "status": "completed"
    },
    "tags": []
   },
   "outputs": [
    {
     "data": {
      "text/plain": [
       "{1, 3}"
      ]
     },
     "execution_count": 139,
     "metadata": {},
     "output_type": "execute_result"
    }
   ],
   "source": [
    "set1.intersection(set2)      #get the intersection of two sets"
   ]
  },
  {
   "cell_type": "code",
   "execution_count": 140,
   "id": "7ef90ac3",
   "metadata": {
    "execution": {
     "iopub.execute_input": "2025-04-05T09:46:19.410005Z",
     "iopub.status.busy": "2025-04-05T09:46:19.409601Z",
     "iopub.status.idle": "2025-04-05T09:46:19.416295Z",
     "shell.execute_reply": "2025-04-05T09:46:19.415040Z"
    },
    "papermill": {
     "duration": 0.056592,
     "end_time": "2025-04-05T09:46:19.418221",
     "exception": false,
     "start_time": "2025-04-05T09:46:19.361629",
     "status": "completed"
    },
    "tags": []
   },
   "outputs": [
    {
     "data": {
      "text/plain": [
       "{5, 6}"
      ]
     },
     "execution_count": 140,
     "metadata": {},
     "output_type": "execute_result"
    }
   ],
   "source": [
    "set1.difference(set2)       #get the difference between two sets"
   ]
  },
  {
   "cell_type": "code",
   "execution_count": 141,
   "id": "a4e7c693",
   "metadata": {
    "execution": {
     "iopub.execute_input": "2025-04-05T09:46:19.506478Z",
     "iopub.status.busy": "2025-04-05T09:46:19.506026Z",
     "iopub.status.idle": "2025-04-05T09:46:19.512746Z",
     "shell.execute_reply": "2025-04-05T09:46:19.511504Z"
    },
    "papermill": {
     "duration": 0.052519,
     "end_time": "2025-04-05T09:46:19.514646",
     "exception": false,
     "start_time": "2025-04-05T09:46:19.462127",
     "status": "completed"
    },
    "tags": []
   },
   "outputs": [
    {
     "data": {
      "text/plain": [
       "False"
      ]
     },
     "execution_count": 141,
     "metadata": {},
     "output_type": "execute_result"
    }
   ],
   "source": [
    "set1.issubset(set2)        #check whether set1 is a subset of set2"
   ]
  },
  {
   "cell_type": "markdown",
   "id": "954cadb1",
   "metadata": {
    "papermill": {
     "duration": 0.046813,
     "end_time": "2025-04-05T09:46:19.607092",
     "exception": false,
     "start_time": "2025-04-05T09:46:19.560279",
     "status": "completed"
    },
    "tags": []
   },
   "source": [
    "You can convert a list into a set using the set() function. Converting a list to a set drops any duplicate elements in the list. This can be a useful way to strip unwanted duplicate items or count the number unique elements in a list.  I can also be useful to convert a list to set if you plan to lookup items repeatedly, since membership looksup are faster with sets than lists. "
   ]
  },
  {
   "cell_type": "code",
   "execution_count": 142,
   "id": "871a79e0",
   "metadata": {
    "execution": {
     "iopub.execute_input": "2025-04-05T09:46:19.705128Z",
     "iopub.status.busy": "2025-04-05T09:46:19.704779Z",
     "iopub.status.idle": "2025-04-05T09:46:19.711525Z",
     "shell.execute_reply": "2025-04-05T09:46:19.710455Z"
    },
    "papermill": {
     "duration": 0.059126,
     "end_time": "2025-04-05T09:46:19.713852",
     "exception": false,
     "start_time": "2025-04-05T09:46:19.654726",
     "status": "completed"
    },
    "tags": []
   },
   "outputs": [
    {
     "data": {
      "text/plain": [
       "{1.2, 2, 3, 4, 5, 6}"
      ]
     },
     "execution_count": 142,
     "metadata": {},
     "output_type": "execute_result"
    }
   ],
   "source": [
    "my_list = [1.2,2,2,3,3,4,5,5,5,6]\n",
    "set(my_list)"
   ]
  },
  {
   "cell_type": "code",
   "execution_count": null,
   "id": "4b1fb658",
   "metadata": {
    "papermill": {
     "duration": 0.046702,
     "end_time": "2025-04-05T09:46:19.805644",
     "exception": false,
     "start_time": "2025-04-05T09:46:19.758942",
     "status": "completed"
    },
    "tags": []
   },
   "outputs": [],
   "source": []
  }
 ],
 "metadata": {
  "kaggle": {
   "accelerator": "none",
   "dataSources": [],
   "dockerImageVersionId": 30918,
   "isGpuEnabled": false,
   "isInternetEnabled": false,
   "language": "python",
   "sourceType": "notebook"
  },
  "kernelspec": {
   "display_name": "Python 3",
   "language": "python",
   "name": "python3"
  },
  "language_info": {
   "codemirror_mode": {
    "name": "ipython",
    "version": 3
   },
   "file_extension": ".py",
   "mimetype": "text/x-python",
   "name": "python",
   "nbconvert_exporter": "python",
   "pygments_lexer": "ipython3",
   "version": "3.10.12"
  },
  "papermill": {
   "default_parameters": {},
   "duration": 24.283938,
   "end_time": "2025-04-05T09:46:20.673501",
   "environment_variables": {},
   "exception": null,
   "input_path": "__notebook__.ipynb",
   "output_path": "__notebook__.ipynb",
   "parameters": {},
   "start_time": "2025-04-05T09:45:56.389563",
   "version": "2.6.0"
  }
 },
 "nbformat": 4,
 "nbformat_minor": 5
}
