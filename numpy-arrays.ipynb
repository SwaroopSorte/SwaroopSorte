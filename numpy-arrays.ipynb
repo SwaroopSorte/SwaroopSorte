{
 "cells": [
  {
   "cell_type": "markdown",
   "id": "9280660c",
   "metadata": {
    "papermill": {
     "duration": 0.010384,
     "end_time": "2025-04-06T17:03:28.657391",
     "exception": false,
     "start_time": "2025-04-06T17:03:28.647007",
     "status": "completed"
    },
    "tags": []
   },
   "source": [
    "# Python for Data : Numpy Arrays\n",
    "\n",
    "Python's build in data structures are great for general - purpose programming, but they lack some specialized features we'd like for data analysis. For example adding rows or columns of data in an element-wise fashion and performing math operations on two dimensional tables are common tasks that aren't readily available with Python's base data types.\n",
    "\n",
    "# Numpy and Array Basics\n",
    "Numpy implements a data structure called the N-dimensional array or ndarray. ndarrays are similar to lists in that they contain a collection of items that can be accessed via indexes. On the other hand, ndarrays are homogeneous, meaning they can only contain objects of the same type and they can be multi-dimensional, making it easy to store 2-dimensional tables or matrices.\n",
    "\n",
    "To work with ndarrays, we need to load the numpy library. It is standard practice to load numpy with the alias \"np\" like so:"
   ]
  },
  {
   "cell_type": "code",
   "execution_count": 1,
   "id": "90a52d84",
   "metadata": {
    "execution": {
     "iopub.execute_input": "2025-04-06T17:03:28.678242Z",
     "iopub.status.busy": "2025-04-06T17:03:28.677910Z",
     "iopub.status.idle": "2025-04-06T17:03:28.683389Z",
     "shell.execute_reply": "2025-04-06T17:03:28.682242Z"
    },
    "papermill": {
     "duration": 0.018058,
     "end_time": "2025-04-06T17:03:28.685405",
     "exception": false,
     "start_time": "2025-04-06T17:03:28.667347",
     "status": "completed"
    },
    "tags": []
   },
   "outputs": [],
   "source": [
    "import numpy as np"
   ]
  },
  {
   "cell_type": "code",
   "execution_count": 2,
   "id": "f385a049",
   "metadata": {
    "execution": {
     "iopub.execute_input": "2025-04-06T17:03:28.706914Z",
     "iopub.status.busy": "2025-04-06T17:03:28.706485Z",
     "iopub.status.idle": "2025-04-06T17:03:28.713783Z",
     "shell.execute_reply": "2025-04-06T17:03:28.712674Z"
    },
    "papermill": {
     "duration": 0.020247,
     "end_time": "2025-04-06T17:03:28.715569",
     "exception": false,
     "start_time": "2025-04-06T17:03:28.695322",
     "status": "completed"
    },
    "tags": []
   },
   "outputs": [
    {
     "data": {
      "text/plain": [
       "numpy.ndarray"
      ]
     },
     "execution_count": 2,
     "metadata": {},
     "output_type": "execute_result"
    }
   ],
   "source": [
    "#Create an ndarray by passing a list to np.array() function:\n",
    "my_list = [1,2,3,4]            #Define a list\n",
    "my_array = np.array(my_list)   #Pass the list to np.array()\n",
    "type(my_array)                 #Check the object's type\n"
   ]
  },
  {
   "cell_type": "code",
   "execution_count": 3,
   "id": "82f6a2c0",
   "metadata": {
    "execution": {
     "iopub.execute_input": "2025-04-06T17:03:28.737409Z",
     "iopub.status.busy": "2025-04-06T17:03:28.737086Z",
     "iopub.status.idle": "2025-04-06T17:03:28.744864Z",
     "shell.execute_reply": "2025-04-06T17:03:28.743657Z"
    },
    "papermill": {
     "duration": 0.020727,
     "end_time": "2025-04-06T17:03:28.746526",
     "exception": false,
     "start_time": "2025-04-06T17:03:28.725799",
     "status": "completed"
    },
    "tags": []
   },
   "outputs": [
    {
     "name": "stdout",
     "output_type": "stream",
     "text": [
      "[[1 2 3 4]\n",
      " [5 6 7 8]]\n"
     ]
    }
   ],
   "source": [
    "#To create an array with more than one dimension, pass a nested list to np.array():\n",
    "second_list = [5,6,7,8]\n",
    "two_d_array = np.array([my_list, second_list])\n",
    "print(two_d_array)"
   ]
  },
  {
   "cell_type": "markdown",
   "id": "a07696a5",
   "metadata": {
    "papermill": {
     "duration": 0.009635,
     "end_time": "2025-04-06T17:03:28.766248",
     "exception": false,
     "start_time": "2025-04-06T17:03:28.756613",
     "status": "completed"
    },
    "tags": []
   },
   "source": [
    "An ndarray is defined by the number of dimensions it has, the size of each dimension and the type of data it holds. Check the number and size of dimensions of an ndarray with the shape attribute."
   ]
  },
  {
   "cell_type": "code",
   "execution_count": 4,
   "id": "0051f239",
   "metadata": {
    "execution": {
     "iopub.execute_input": "2025-04-06T17:03:28.787707Z",
     "iopub.status.busy": "2025-04-06T17:03:28.787383Z",
     "iopub.status.idle": "2025-04-06T17:03:28.792990Z",
     "shell.execute_reply": "2025-04-06T17:03:28.792144Z"
    },
    "papermill": {
     "duration": 0.018167,
     "end_time": "2025-04-06T17:03:28.794628",
     "exception": false,
     "start_time": "2025-04-06T17:03:28.776461",
     "status": "completed"
    },
    "tags": []
   },
   "outputs": [
    {
     "data": {
      "text/plain": [
       "(2, 4)"
      ]
     },
     "execution_count": 4,
     "metadata": {},
     "output_type": "execute_result"
    }
   ],
   "source": [
    "two_d_array.shape"
   ]
  },
  {
   "cell_type": "markdown",
   "id": "78666112",
   "metadata": {
    "papermill": {
     "duration": 0.010161,
     "end_time": "2025-04-06T17:03:28.815079",
     "exception": false,
     "start_time": "2025-04-06T17:03:28.804918",
     "status": "completed"
    },
    "tags": []
   },
   "source": [
    "The output above shows that this ndarray is 2-dimensional, since there are two values listed, and the dimensions have length 2 and 4. "
   ]
  },
  {
   "cell_type": "code",
   "execution_count": 5,
   "id": "3682a8aa",
   "metadata": {
    "execution": {
     "iopub.execute_input": "2025-04-06T17:03:28.836860Z",
     "iopub.status.busy": "2025-04-06T17:03:28.836476Z",
     "iopub.status.idle": "2025-04-06T17:03:28.841907Z",
     "shell.execute_reply": "2025-04-06T17:03:28.841022Z"
    },
    "papermill": {
     "duration": 0.017935,
     "end_time": "2025-04-06T17:03:28.843420",
     "exception": false,
     "start_time": "2025-04-06T17:03:28.825485",
     "status": "completed"
    },
    "tags": []
   },
   "outputs": [
    {
     "data": {
      "text/plain": [
       "8"
      ]
     },
     "execution_count": 5,
     "metadata": {},
     "output_type": "execute_result"
    }
   ],
   "source": [
    "two_d_array.size"
   ]
  },
  {
   "cell_type": "markdown",
   "id": "0fba9a84",
   "metadata": {
    "papermill": {
     "duration": 0.009736,
     "end_time": "2025-04-06T17:03:28.863616",
     "exception": false,
     "start_time": "2025-04-06T17:03:28.853880",
     "status": "completed"
    },
    "tags": []
   },
   "source": [
    "check the type of the data in an ndarray with the dtype attribute:"
   ]
  },
  {
   "cell_type": "code",
   "execution_count": 6,
   "id": "9d485402",
   "metadata": {
    "execution": {
     "iopub.execute_input": "2025-04-06T17:03:28.885037Z",
     "iopub.status.busy": "2025-04-06T17:03:28.884631Z",
     "iopub.status.idle": "2025-04-06T17:03:28.890364Z",
     "shell.execute_reply": "2025-04-06T17:03:28.889342Z"
    },
    "papermill": {
     "duration": 0.018591,
     "end_time": "2025-04-06T17:03:28.892227",
     "exception": false,
     "start_time": "2025-04-06T17:03:28.873636",
     "status": "completed"
    },
    "tags": []
   },
   "outputs": [
    {
     "data": {
      "text/plain": [
       "dtype('int64')"
      ]
     },
     "execution_count": 6,
     "metadata": {},
     "output_type": "execute_result"
    }
   ],
   "source": [
    "two_d_array.dtype"
   ]
  },
  {
   "cell_type": "markdown",
   "id": "92a962b1",
   "metadata": {
    "papermill": {
     "duration": 0.00965,
     "end_time": "2025-04-06T17:03:28.912124",
     "exception": false,
     "start_time": "2025-04-06T17:03:28.902474",
     "status": "completed"
    },
    "tags": []
   },
   "source": [
    "Numpy has a variety of special array creation functions. Some handy array creation functions include:"
   ]
  },
  {
   "cell_type": "code",
   "execution_count": 7,
   "id": "9eff2a6d",
   "metadata": {
    "execution": {
     "iopub.execute_input": "2025-04-06T17:03:28.933373Z",
     "iopub.status.busy": "2025-04-06T17:03:28.932979Z",
     "iopub.status.idle": "2025-04-06T17:03:28.939706Z",
     "shell.execute_reply": "2025-04-06T17:03:28.938643Z"
    },
    "papermill": {
     "duration": 0.019299,
     "end_time": "2025-04-06T17:03:28.941452",
     "exception": false,
     "start_time": "2025-04-06T17:03:28.922153",
     "status": "completed"
    },
    "tags": []
   },
   "outputs": [
    {
     "data": {
      "text/plain": [
       "array([[1., 0., 0., 0., 0., 0., 0., 0., 0., 0.],\n",
       "       [0., 1., 0., 0., 0., 0., 0., 0., 0., 0.],\n",
       "       [0., 0., 1., 0., 0., 0., 0., 0., 0., 0.],\n",
       "       [0., 0., 0., 1., 0., 0., 0., 0., 0., 0.],\n",
       "       [0., 0., 0., 0., 1., 0., 0., 0., 0., 0.],\n",
       "       [0., 0., 0., 0., 0., 1., 0., 0., 0., 0.],\n",
       "       [0., 0., 0., 0., 0., 0., 1., 0., 0., 0.],\n",
       "       [0., 0., 0., 0., 0., 0., 0., 1., 0., 0.],\n",
       "       [0., 0., 0., 0., 0., 0., 0., 0., 1., 0.],\n",
       "       [0., 0., 0., 0., 0., 0., 0., 0., 0., 1.]])"
      ]
     },
     "execution_count": 7,
     "metadata": {},
     "output_type": "execute_result"
    }
   ],
   "source": [
    "#np.identity() to create a square 2d array with 1's across the diagonal\n",
    "np.identity(n=10)    #Size of the array"
   ]
  },
  {
   "cell_type": "code",
   "execution_count": 8,
   "id": "ca74c27a",
   "metadata": {
    "execution": {
     "iopub.execute_input": "2025-04-06T17:03:28.963379Z",
     "iopub.status.busy": "2025-04-06T17:03:28.963055Z",
     "iopub.status.idle": "2025-04-06T17:03:28.969376Z",
     "shell.execute_reply": "2025-04-06T17:03:28.968302Z"
    },
    "papermill": {
     "duration": 0.019239,
     "end_time": "2025-04-06T17:03:28.971101",
     "exception": false,
     "start_time": "2025-04-06T17:03:28.951862",
     "status": "completed"
    },
    "tags": []
   },
   "outputs": [
    {
     "data": {
      "text/plain": [
       "array([[0., 1., 0., 0., 0.],\n",
       "       [0., 0., 1., 0., 0.],\n",
       "       [0., 0., 0., 1., 0.]])"
      ]
     },
     "execution_count": 8,
     "metadata": {},
     "output_type": "execute_result"
    }
   ],
   "source": [
    "#np.eye() to create a 2d array with 1's across a specified diagonal\n",
    "\n",
    "np.eye(N = 3,         #Number of rows\n",
    "       M = 5,         #Number of columns\n",
    "       k = 1)         #Index of the diagonal (Main diagonal (0) is default)"
   ]
  },
  {
   "cell_type": "code",
   "execution_count": 9,
   "id": "bf11128f",
   "metadata": {
    "execution": {
     "iopub.execute_input": "2025-04-06T17:03:28.993588Z",
     "iopub.status.busy": "2025-04-06T17:03:28.993271Z",
     "iopub.status.idle": "2025-04-06T17:03:28.999266Z",
     "shell.execute_reply": "2025-04-06T17:03:28.998280Z"
    },
    "papermill": {
     "duration": 0.019632,
     "end_time": "2025-04-06T17:03:29.001261",
     "exception": false,
     "start_time": "2025-04-06T17:03:28.981629",
     "status": "completed"
    },
    "tags": []
   },
   "outputs": [
    {
     "data": {
      "text/plain": [
       "array([[1., 1., 1., 1.],\n",
       "       [1., 1., 1., 1.]])"
      ]
     },
     "execution_count": 9,
     "metadata": {},
     "output_type": "execute_result"
    }
   ],
   "source": [
    "#np.ones() to create an array filled with ones :\n",
    "np.ones(shape = [2,4])"
   ]
  },
  {
   "cell_type": "code",
   "execution_count": 10,
   "id": "f3cf76d5",
   "metadata": {
    "execution": {
     "iopub.execute_input": "2025-04-06T17:03:29.023503Z",
     "iopub.status.busy": "2025-04-06T17:03:29.023175Z",
     "iopub.status.idle": "2025-04-06T17:03:29.028989Z",
     "shell.execute_reply": "2025-04-06T17:03:29.028135Z"
    },
    "papermill": {
     "duration": 0.018908,
     "end_time": "2025-04-06T17:03:29.030681",
     "exception": false,
     "start_time": "2025-04-06T17:03:29.011773",
     "status": "completed"
    },
    "tags": []
   },
   "outputs": [
    {
     "data": {
      "text/plain": [
       "array([[0., 0., 0., 0., 0., 0.],\n",
       "       [0., 0., 0., 0., 0., 0.],\n",
       "       [0., 0., 0., 0., 0., 0.],\n",
       "       [0., 0., 0., 0., 0., 0.]])"
      ]
     },
     "execution_count": 10,
     "metadata": {},
     "output_type": "execute_result"
    }
   ],
   "source": [
    "#np.zeros() to create an array filled with zeros:\n",
    "np.zeros(shape = [4,6])\n"
   ]
  },
  {
   "cell_type": "markdown",
   "id": "79a3fe15",
   "metadata": {
    "papermill": {
     "duration": 0.010626,
     "end_time": "2025-04-06T17:03:29.051918",
     "exception": false,
     "start_time": "2025-04-06T17:03:29.041292",
     "status": "completed"
    },
    "tags": []
   },
   "source": [
    "# Array Indexing and Slicing\n",
    "\n",
    "Numpy ndarrays offer numbered indexing and slicing syntax that mirrors the syntax for Python lists:"
   ]
  },
  {
   "cell_type": "code",
   "execution_count": 11,
   "id": "ccd4da0f",
   "metadata": {
    "execution": {
     "iopub.execute_input": "2025-04-06T17:03:29.074072Z",
     "iopub.status.busy": "2025-04-06T17:03:29.073641Z",
     "iopub.status.idle": "2025-04-06T17:03:29.079388Z",
     "shell.execute_reply": "2025-04-06T17:03:29.078363Z"
    },
    "papermill": {
     "duration": 0.018662,
     "end_time": "2025-04-06T17:03:29.081037",
     "exception": false,
     "start_time": "2025-04-06T17:03:29.062375",
     "status": "completed"
    },
    "tags": []
   },
   "outputs": [
    {
     "data": {
      "text/plain": [
       "4"
      ]
     },
     "execution_count": 11,
     "metadata": {},
     "output_type": "execute_result"
    }
   ],
   "source": [
    "one_d_array = np.array([1,2,3,4,5,6])\n",
    "one_d_array[3]    #Get the item at index 3"
   ]
  },
  {
   "cell_type": "code",
   "execution_count": 12,
   "id": "362fb133",
   "metadata": {
    "execution": {
     "iopub.execute_input": "2025-04-06T17:03:29.103739Z",
     "iopub.status.busy": "2025-04-06T17:03:29.103386Z",
     "iopub.status.idle": "2025-04-06T17:03:29.109258Z",
     "shell.execute_reply": "2025-04-06T17:03:29.108179Z"
    },
    "papermill": {
     "duration": 0.019382,
     "end_time": "2025-04-06T17:03:29.110988",
     "exception": false,
     "start_time": "2025-04-06T17:03:29.091606",
     "status": "completed"
    },
    "tags": []
   },
   "outputs": [
    {
     "data": {
      "text/plain": [
       "array([4, 5, 6])"
      ]
     },
     "execution_count": 12,
     "metadata": {},
     "output_type": "execute_result"
    }
   ],
   "source": [
    "one_d_array[3:]  #Get a slice from index 3 to the end"
   ]
  },
  {
   "cell_type": "code",
   "execution_count": 13,
   "id": "4649075b",
   "metadata": {
    "execution": {
     "iopub.execute_input": "2025-04-06T17:03:29.134128Z",
     "iopub.status.busy": "2025-04-06T17:03:29.133677Z",
     "iopub.status.idle": "2025-04-06T17:03:29.139436Z",
     "shell.execute_reply": "2025-04-06T17:03:29.138583Z"
    },
    "papermill": {
     "duration": 0.01899,
     "end_time": "2025-04-06T17:03:29.141019",
     "exception": false,
     "start_time": "2025-04-06T17:03:29.122029",
     "status": "completed"
    },
    "tags": []
   },
   "outputs": [
    {
     "data": {
      "text/plain": [
       "array([6, 5, 4, 3, 2, 1])"
      ]
     },
     "execution_count": 13,
     "metadata": {},
     "output_type": "execute_result"
    }
   ],
   "source": [
    "one_d_array[::-1]    #Slice backwards to reverse the array"
   ]
  },
  {
   "cell_type": "markdown",
   "id": "1c4c8205",
   "metadata": {
    "papermill": {
     "duration": 0.010363,
     "end_time": "2025-04-06T17:03:29.162233",
     "exception": false,
     "start_time": "2025-04-06T17:03:29.151870",
     "status": "completed"
    },
    "tags": []
   },
   "source": [
    "If an ndarray has more than one dimension, separate indexes for each dimension with a comma:"
   ]
  },
  {
   "cell_type": "code",
   "execution_count": 14,
   "id": "0b99ff1a",
   "metadata": {
    "execution": {
     "iopub.execute_input": "2025-04-06T17:03:29.184576Z",
     "iopub.status.busy": "2025-04-06T17:03:29.184264Z",
     "iopub.status.idle": "2025-04-06T17:03:29.190913Z",
     "shell.execute_reply": "2025-04-06T17:03:29.189793Z"
    },
    "papermill": {
     "duration": 0.019763,
     "end_time": "2025-04-06T17:03:29.192574",
     "exception": false,
     "start_time": "2025-04-06T17:03:29.172811",
     "status": "completed"
    },
    "tags": []
   },
   "outputs": [
    {
     "name": "stdout",
     "output_type": "stream",
     "text": [
      "[[ 1  2  3  4  5  6]\n",
      " [ 7  8  9 10 11 12]\n",
      " [13 14 15 16 17 18]]\n"
     ]
    }
   ],
   "source": [
    "#Create a new 2d array\n",
    "two_d_array = np.array([one_d_array, one_d_array + 6, one_d_array + 12])\n",
    "print(two_d_array)"
   ]
  },
  {
   "cell_type": "code",
   "execution_count": 15,
   "id": "258ed208",
   "metadata": {
    "execution": {
     "iopub.execute_input": "2025-04-06T17:03:29.215703Z",
     "iopub.status.busy": "2025-04-06T17:03:29.215377Z",
     "iopub.status.idle": "2025-04-06T17:03:29.221299Z",
     "shell.execute_reply": "2025-04-06T17:03:29.220229Z"
    },
    "papermill": {
     "duration": 0.019446,
     "end_time": "2025-04-06T17:03:29.222969",
     "exception": false,
     "start_time": "2025-04-06T17:03:29.203523",
     "status": "completed"
    },
    "tags": []
   },
   "outputs": [
    {
     "data": {
      "text/plain": [
       "array([[11, 12],\n",
       "       [17, 18]])"
      ]
     },
     "execution_count": 15,
     "metadata": {},
     "output_type": "execute_result"
    }
   ],
   "source": [
    "#Slice elements starting at row 2, and column 5\n",
    "two_d_array[1:,4:]"
   ]
  },
  {
   "cell_type": "code",
   "execution_count": 16,
   "id": "596a6c06",
   "metadata": {
    "execution": {
     "iopub.execute_input": "2025-04-06T17:03:29.246078Z",
     "iopub.status.busy": "2025-04-06T17:03:29.245680Z",
     "iopub.status.idle": "2025-04-06T17:03:29.251608Z",
     "shell.execute_reply": "2025-04-06T17:03:29.250544Z"
    },
    "papermill": {
     "duration": 0.019144,
     "end_time": "2025-04-06T17:03:29.253131",
     "exception": false,
     "start_time": "2025-04-06T17:03:29.233987",
     "status": "completed"
    },
    "tags": []
   },
   "outputs": [
    {
     "data": {
      "text/plain": [
       "array([[18, 17, 16, 15, 14, 13],\n",
       "       [12, 11, 10,  9,  8,  7],\n",
       "       [ 6,  5,  4,  3,  2,  1]])"
      ]
     },
     "execution_count": 16,
     "metadata": {},
     "output_type": "execute_result"
    }
   ],
   "source": [
    "#Reverse both dimensions (180 degree rotation)\n",
    "two_d_array[::-1, ::-1]"
   ]
  },
  {
   "cell_type": "markdown",
   "id": "3eeb8318",
   "metadata": {
    "papermill": {
     "duration": 0.010587,
     "end_time": "2025-04-06T17:03:29.274827",
     "exception": false,
     "start_time": "2025-04-06T17:03:29.264240",
     "status": "completed"
    },
    "tags": []
   },
   "source": [
    "# Reshaping Arrays\n",
    "\n",
    "Numpy has a variety of built in functions to help you manipulate arrays quickly without having to use complicated indexing operations.\n",
    "\n",
    "Reshape an array into a new array with the same data but different structure with np.reshape():"
   ]
  },
  {
   "cell_type": "code",
   "execution_count": 17,
   "id": "1f62ccb6",
   "metadata": {
    "execution": {
     "iopub.execute_input": "2025-04-06T17:03:29.299867Z",
     "iopub.status.busy": "2025-04-06T17:03:29.299343Z",
     "iopub.status.idle": "2025-04-06T17:03:29.305511Z",
     "shell.execute_reply": "2025-04-06T17:03:29.304523Z"
    },
    "papermill": {
     "duration": 0.02141,
     "end_time": "2025-04-06T17:03:29.307108",
     "exception": false,
     "start_time": "2025-04-06T17:03:29.285698",
     "status": "completed"
    },
    "tags": []
   },
   "outputs": [
    {
     "data": {
      "text/plain": [
       "array([[ 1,  2,  3],\n",
       "       [ 4,  5,  6],\n",
       "       [ 7,  8,  9],\n",
       "       [10, 11, 12],\n",
       "       [13, 14, 15],\n",
       "       [16, 17, 18]])"
      ]
     },
     "execution_count": 17,
     "metadata": {},
     "output_type": "execute_result"
    }
   ],
   "source": [
    "np.reshape(a=two_d_array,    #Array to reshape\n",
    "            newshape=(6,3))   #Dimensions of the new array"
   ]
  },
  {
   "cell_type": "markdown",
   "id": "4f4b77b8",
   "metadata": {
    "papermill": {
     "duration": 0.01075,
     "end_time": "2025-04-06T17:03:29.329042",
     "exception": false,
     "start_time": "2025-04-06T17:03:29.318292",
     "status": "completed"
    },
    "tags": []
   },
   "source": [
    "Unravel a multi-dimensional into 1 dimension with np.ravel():"
   ]
  },
  {
   "cell_type": "code",
   "execution_count": 18,
   "id": "97e24ae3",
   "metadata": {
    "execution": {
     "iopub.execute_input": "2025-04-06T17:03:29.352687Z",
     "iopub.status.busy": "2025-04-06T17:03:29.352332Z",
     "iopub.status.idle": "2025-04-06T17:03:29.358142Z",
     "shell.execute_reply": "2025-04-06T17:03:29.357070Z"
    },
    "papermill": {
     "duration": 0.01964,
     "end_time": "2025-04-06T17:03:29.359662",
     "exception": false,
     "start_time": "2025-04-06T17:03:29.340022",
     "status": "completed"
    },
    "tags": []
   },
   "outputs": [
    {
     "data": {
      "text/plain": [
       "array([ 1,  2,  3,  4,  5,  6,  7,  8,  9, 10, 11, 12, 13, 14, 15, 16, 17,\n",
       "       18])"
      ]
     },
     "execution_count": 18,
     "metadata": {},
     "output_type": "execute_result"
    }
   ],
   "source": [
    "np.ravel(a=two_d_array,\n",
    "        order=\"C\")                  #Use C-style unraveling (by rows)"
   ]
  },
  {
   "cell_type": "code",
   "execution_count": 19,
   "id": "b04a81cd",
   "metadata": {
    "execution": {
     "iopub.execute_input": "2025-04-06T17:03:29.383229Z",
     "iopub.status.busy": "2025-04-06T17:03:29.382883Z",
     "iopub.status.idle": "2025-04-06T17:03:29.388627Z",
     "shell.execute_reply": "2025-04-06T17:03:29.387814Z"
    },
    "papermill": {
     "duration": 0.01915,
     "end_time": "2025-04-06T17:03:29.390047",
     "exception": false,
     "start_time": "2025-04-06T17:03:29.370897",
     "status": "completed"
    },
    "tags": []
   },
   "outputs": [
    {
     "data": {
      "text/plain": [
       "array([ 1,  7, 13,  2,  8, 14,  3,  9, 15,  4, 10, 16,  5, 11, 17,  6, 12,\n",
       "       18])"
      ]
     },
     "execution_count": 19,
     "metadata": {},
     "output_type": "execute_result"
    }
   ],
   "source": [
    "np.ravel(a=two_d_array,\n",
    "        order=\"F\")                   #Use Fortran-style unraveling (by columns)"
   ]
  },
  {
   "cell_type": "markdown",
   "id": "6aa10e72",
   "metadata": {
    "papermill": {
     "duration": 0.010776,
     "end_time": "2025-04-06T17:03:29.412073",
     "exception": false,
     "start_time": "2025-04-06T17:03:29.401297",
     "status": "completed"
    },
    "tags": []
   },
   "source": [
    "Alternatively, use ndarray.flatten() to flatten a multi-dimensional into 1 dimension and return a copy of the result:"
   ]
  },
  {
   "cell_type": "code",
   "execution_count": 20,
   "id": "2c1b2ec1",
   "metadata": {
    "execution": {
     "iopub.execute_input": "2025-04-06T17:03:29.435322Z",
     "iopub.status.busy": "2025-04-06T17:03:29.434989Z",
     "iopub.status.idle": "2025-04-06T17:03:29.440423Z",
     "shell.execute_reply": "2025-04-06T17:03:29.439418Z"
    },
    "papermill": {
     "duration": 0.018884,
     "end_time": "2025-04-06T17:03:29.442012",
     "exception": false,
     "start_time": "2025-04-06T17:03:29.423128",
     "status": "completed"
    },
    "tags": []
   },
   "outputs": [
    {
     "data": {
      "text/plain": [
       "array([ 1,  2,  3,  4,  5,  6,  7,  8,  9, 10, 11, 12, 13, 14, 15, 16, 17,\n",
       "       18])"
      ]
     },
     "execution_count": 20,
     "metadata": {},
     "output_type": "execute_result"
    }
   ],
   "source": [
    "two_d_array.flatten()"
   ]
  },
  {
   "cell_type": "markdown",
   "id": "633cdfcf",
   "metadata": {
    "papermill": {
     "duration": 0.011531,
     "end_time": "2025-04-06T17:03:29.466148",
     "exception": false,
     "start_time": "2025-04-06T17:03:29.454617",
     "status": "completed"
    },
    "tags": []
   },
   "source": [
    "Get the transpose of an array with ndarray.T:"
   ]
  },
  {
   "cell_type": "code",
   "execution_count": 21,
   "id": "7b9890a6",
   "metadata": {
    "execution": {
     "iopub.execute_input": "2025-04-06T17:03:29.490584Z",
     "iopub.status.busy": "2025-04-06T17:03:29.490270Z",
     "iopub.status.idle": "2025-04-06T17:03:29.495851Z",
     "shell.execute_reply": "2025-04-06T17:03:29.494975Z"
    },
    "papermill": {
     "duration": 0.01945,
     "end_time": "2025-04-06T17:03:29.497361",
     "exception": false,
     "start_time": "2025-04-06T17:03:29.477911",
     "status": "completed"
    },
    "tags": []
   },
   "outputs": [
    {
     "data": {
      "text/plain": [
       "array([[ 1,  7, 13],\n",
       "       [ 2,  8, 14],\n",
       "       [ 3,  9, 15],\n",
       "       [ 4, 10, 16],\n",
       "       [ 5, 11, 17],\n",
       "       [ 6, 12, 18]])"
      ]
     },
     "execution_count": 21,
     "metadata": {},
     "output_type": "execute_result"
    }
   ],
   "source": [
    "two_d_array.T"
   ]
  },
  {
   "cell_type": "code",
   "execution_count": 22,
   "id": "fa1a57a4",
   "metadata": {
    "execution": {
     "iopub.execute_input": "2025-04-06T17:03:29.521585Z",
     "iopub.status.busy": "2025-04-06T17:03:29.521261Z",
     "iopub.status.idle": "2025-04-06T17:03:29.526963Z",
     "shell.execute_reply": "2025-04-06T17:03:29.525959Z"
    },
    "papermill": {
     "duration": 0.019945,
     "end_time": "2025-04-06T17:03:29.528844",
     "exception": false,
     "start_time": "2025-04-06T17:03:29.508899",
     "status": "completed"
    },
    "tags": []
   },
   "outputs": [
    {
     "data": {
      "text/plain": [
       "array([[13, 14, 15, 16, 17, 18],\n",
       "       [ 7,  8,  9, 10, 11, 12],\n",
       "       [ 1,  2,  3,  4,  5,  6]])"
      ]
     },
     "execution_count": 22,
     "metadata": {},
     "output_type": "execute_result"
    }
   ],
   "source": [
    "#Flip an array vertically or horizontally with np.flipud() and np.fliplr() respectively:\n",
    "np.flipud(two_d_array)"
   ]
  },
  {
   "cell_type": "code",
   "execution_count": 23,
   "id": "e2abd9d2",
   "metadata": {
    "execution": {
     "iopub.execute_input": "2025-04-06T17:03:29.554106Z",
     "iopub.status.busy": "2025-04-06T17:03:29.553690Z",
     "iopub.status.idle": "2025-04-06T17:03:29.559575Z",
     "shell.execute_reply": "2025-04-06T17:03:29.558706Z"
    },
    "papermill": {
     "duration": 0.020171,
     "end_time": "2025-04-06T17:03:29.561259",
     "exception": false,
     "start_time": "2025-04-06T17:03:29.541088",
     "status": "completed"
    },
    "tags": []
   },
   "outputs": [
    {
     "data": {
      "text/plain": [
       "array([[ 6,  5,  4,  3,  2,  1],\n",
       "       [12, 11, 10,  9,  8,  7],\n",
       "       [18, 17, 16, 15, 14, 13]])"
      ]
     },
     "execution_count": 23,
     "metadata": {},
     "output_type": "execute_result"
    }
   ],
   "source": [
    "np.fliplr(two_d_array)"
   ]
  },
  {
   "cell_type": "code",
   "execution_count": 24,
   "id": "0b69244b",
   "metadata": {
    "execution": {
     "iopub.execute_input": "2025-04-06T17:03:29.585812Z",
     "iopub.status.busy": "2025-04-06T17:03:29.585446Z",
     "iopub.status.idle": "2025-04-06T17:03:29.592629Z",
     "shell.execute_reply": "2025-04-06T17:03:29.591807Z"
    },
    "papermill": {
     "duration": 0.021078,
     "end_time": "2025-04-06T17:03:29.594060",
     "exception": false,
     "start_time": "2025-04-06T17:03:29.572982",
     "status": "completed"
    },
    "tags": []
   },
   "outputs": [
    {
     "data": {
      "text/plain": [
       "array([[ 6, 12, 18],\n",
       "       [ 5, 11, 17],\n",
       "       [ 4, 10, 16],\n",
       "       [ 3,  9, 15],\n",
       "       [ 2,  8, 14],\n",
       "       [ 1,  7, 13]])"
      ]
     },
     "execution_count": 24,
     "metadata": {},
     "output_type": "execute_result"
    }
   ],
   "source": [
    "np.rot90(two_d_array,\n",
    "        k=1)      #Number of 90 degree rotations"
   ]
  },
  {
   "cell_type": "code",
   "execution_count": 25,
   "id": "bfb95e4a",
   "metadata": {
    "execution": {
     "iopub.execute_input": "2025-04-06T17:03:29.675324Z",
     "iopub.status.busy": "2025-04-06T17:03:29.674969Z",
     "iopub.status.idle": "2025-04-06T17:03:29.680853Z",
     "shell.execute_reply": "2025-04-06T17:03:29.679814Z"
    },
    "papermill": {
     "duration": 0.076574,
     "end_time": "2025-04-06T17:03:29.682396",
     "exception": false,
     "start_time": "2025-04-06T17:03:29.605822",
     "status": "completed"
    },
    "tags": []
   },
   "outputs": [
    {
     "data": {
      "text/plain": [
       "array([[ 5,  6,  1,  2,  3,  4],\n",
       "       [11, 12,  7,  8,  9, 10],\n",
       "       [17, 18, 13, 14, 15, 16]])"
      ]
     },
     "execution_count": 25,
     "metadata": {},
     "output_type": "execute_result"
    }
   ],
   "source": [
    "#Shift elements in an array along a given dimension with np.roll():\n",
    "\n",
    "np.roll(a = two_d_array,\n",
    "       shift = 2,\n",
    "       axis = 1\n",
    "       )"
   ]
  },
  {
   "cell_type": "markdown",
   "id": "d37c85cb",
   "metadata": {
    "papermill": {
     "duration": 0.011411,
     "end_time": "2025-04-06T17:03:29.705804",
     "exception": false,
     "start_time": "2025-04-06T17:03:29.694393",
     "status": "completed"
    },
    "tags": []
   },
   "source": [
    "Leave the axis argument empty to shift on a flattened version of the array (shift across all dimensions):"
   ]
  },
  {
   "cell_type": "code",
   "execution_count": 26,
   "id": "50ae6ea0",
   "metadata": {
    "execution": {
     "iopub.execute_input": "2025-04-06T17:03:29.730415Z",
     "iopub.status.busy": "2025-04-06T17:03:29.730069Z",
     "iopub.status.idle": "2025-04-06T17:03:29.735871Z",
     "shell.execute_reply": "2025-04-06T17:03:29.734975Z"
    },
    "papermill": {
     "duration": 0.020089,
     "end_time": "2025-04-06T17:03:29.737516",
     "exception": false,
     "start_time": "2025-04-06T17:03:29.717427",
     "status": "completed"
    },
    "tags": []
   },
   "outputs": [
    {
     "data": {
      "text/plain": [
       "array([[17, 18,  1,  2,  3,  4],\n",
       "       [ 5,  6,  7,  8,  9, 10],\n",
       "       [11, 12, 13, 14, 15, 16]])"
      ]
     },
     "execution_count": 26,
     "metadata": {},
     "output_type": "execute_result"
    }
   ],
   "source": [
    "np.roll( a = two_d_array,\n",
    "       shift = 2)"
   ]
  },
  {
   "cell_type": "markdown",
   "id": "250192b2",
   "metadata": {
    "papermill": {
     "duration": 0.011487,
     "end_time": "2025-04-06T17:03:29.761036",
     "exception": false,
     "start_time": "2025-04-06T17:03:29.749549",
     "status": "completed"
    },
    "tags": []
   },
   "source": [
    "Join arrays along an axis with np.concatenate():"
   ]
  },
  {
   "cell_type": "code",
   "execution_count": 27,
   "id": "7c23b171",
   "metadata": {
    "execution": {
     "iopub.execute_input": "2025-04-06T17:03:29.786144Z",
     "iopub.status.busy": "2025-04-06T17:03:29.785771Z",
     "iopub.status.idle": "2025-04-06T17:03:29.791981Z",
     "shell.execute_reply": "2025-04-06T17:03:29.791043Z"
    },
    "papermill": {
     "duration": 0.020318,
     "end_time": "2025-04-06T17:03:29.793402",
     "exception": false,
     "start_time": "2025-04-06T17:03:29.773084",
     "status": "completed"
    },
    "tags": []
   },
   "outputs": [
    {
     "data": {
      "text/plain": [
       "array([[ 1,  2,  3,  4,  5,  6, 10, 20, 30],\n",
       "       [ 7,  8,  9, 10, 11, 12, 40, 50, 60],\n",
       "       [13, 14, 15, 16, 17, 18, 70, 80, 90]])"
      ]
     },
     "execution_count": 27,
     "metadata": {},
     "output_type": "execute_result"
    }
   ],
   "source": [
    "array_to_join = np.array([[10,20,30],[40,50,60],[70,80,90]])\n",
    "\n",
    "np.concatenate((two_d_array, array_to_join),         #Arrays to join\n",
    "              axis = 1)                              #Axis to join upon"
   ]
  },
  {
   "cell_type": "markdown",
   "id": "ceb70573",
   "metadata": {
    "papermill": {
     "duration": 0.011517,
     "end_time": "2025-04-06T17:03:29.817092",
     "exception": false,
     "start_time": "2025-04-06T17:03:29.805575",
     "status": "completed"
    },
    "tags": []
   },
   "source": [
    "# Array Math Operations\n",
    "\n",
    "Creating and manipulating arrays is nice, but the true power of numpy arrays is the ability to perform mathematical operations on many values quickly and easily. Unlike built in Python objects, you can use math operators like +,-,/ and * to perform basic math operations with ndarrays:"
   ]
  },
  {
   "cell_type": "code",
   "execution_count": 28,
   "id": "09cd5186",
   "metadata": {
    "execution": {
     "iopub.execute_input": "2025-04-06T17:03:29.842405Z",
     "iopub.status.busy": "2025-04-06T17:03:29.842090Z",
     "iopub.status.idle": "2025-04-06T17:03:29.847590Z",
     "shell.execute_reply": "2025-04-06T17:03:29.846789Z"
    },
    "papermill": {
     "duration": 0.02004,
     "end_time": "2025-04-06T17:03:29.849038",
     "exception": false,
     "start_time": "2025-04-06T17:03:29.828998",
     "status": "completed"
    },
    "tags": []
   },
   "outputs": [
    {
     "data": {
      "text/plain": [
       "array([[101, 102, 103, 104, 105, 106],\n",
       "       [107, 108, 109, 110, 111, 112],\n",
       "       [113, 114, 115, 116, 117, 118]])"
      ]
     },
     "execution_count": 28,
     "metadata": {},
     "output_type": "execute_result"
    }
   ],
   "source": [
    "two_d_array + 100   #Add 100 to each element"
   ]
  },
  {
   "cell_type": "code",
   "execution_count": 29,
   "id": "2130b80b",
   "metadata": {
    "execution": {
     "iopub.execute_input": "2025-04-06T17:03:29.874301Z",
     "iopub.status.busy": "2025-04-06T17:03:29.873974Z",
     "iopub.status.idle": "2025-04-06T17:03:29.879529Z",
     "shell.execute_reply": "2025-04-06T17:03:29.878553Z"
    },
    "papermill": {
     "duration": 0.019923,
     "end_time": "2025-04-06T17:03:29.881076",
     "exception": false,
     "start_time": "2025-04-06T17:03:29.861153",
     "status": "completed"
    },
    "tags": []
   },
   "outputs": [
    {
     "data": {
      "text/plain": [
       "array([[-99, -98, -97, -96, -95, -94],\n",
       "       [-93, -92, -91, -90, -89, -88],\n",
       "       [-87, -86, -85, -84, -83, -82]])"
      ]
     },
     "execution_count": 29,
     "metadata": {},
     "output_type": "execute_result"
    }
   ],
   "source": [
    "two_d_array - 100  #Subtract 100 from each element"
   ]
  },
  {
   "cell_type": "code",
   "execution_count": 30,
   "id": "e1db55e3",
   "metadata": {
    "execution": {
     "iopub.execute_input": "2025-04-06T17:03:29.907209Z",
     "iopub.status.busy": "2025-04-06T17:03:29.906855Z",
     "iopub.status.idle": "2025-04-06T17:03:29.912569Z",
     "shell.execute_reply": "2025-04-06T17:03:29.911736Z"
    },
    "papermill": {
     "duration": 0.020394,
     "end_time": "2025-04-06T17:03:29.914052",
     "exception": false,
     "start_time": "2025-04-06T17:03:29.893658",
     "status": "completed"
    },
    "tags": []
   },
   "outputs": [
    {
     "data": {
      "text/plain": [
       "array([[ 2,  4,  6,  8, 10, 12],\n",
       "       [14, 16, 18, 20, 22, 24],\n",
       "       [26, 28, 30, 32, 34, 36]])"
      ]
     },
     "execution_count": 30,
     "metadata": {},
     "output_type": "execute_result"
    }
   ],
   "source": [
    "two_d_array * 2    #Multiply each element by 2"
   ]
  },
  {
   "cell_type": "code",
   "execution_count": 31,
   "id": "4bed0182",
   "metadata": {
    "execution": {
     "iopub.execute_input": "2025-04-06T17:03:29.939827Z",
     "iopub.status.busy": "2025-04-06T17:03:29.939449Z",
     "iopub.status.idle": "2025-04-06T17:03:29.944937Z",
     "shell.execute_reply": "2025-04-06T17:03:29.944031Z"
    },
    "papermill": {
     "duration": 0.019934,
     "end_time": "2025-04-06T17:03:29.946380",
     "exception": false,
     "start_time": "2025-04-06T17:03:29.926446",
     "status": "completed"
    },
    "tags": []
   },
   "outputs": [
    {
     "data": {
      "text/plain": [
       "array([[  1,   4,   9,  16,  25,  36],\n",
       "       [ 49,  64,  81, 100, 121, 144],\n",
       "       [169, 196, 225, 256, 289, 324]])"
      ]
     },
     "execution_count": 31,
     "metadata": {},
     "output_type": "execute_result"
    }
   ],
   "source": [
    "two_d_array ** 2   #Square each element"
   ]
  },
  {
   "cell_type": "code",
   "execution_count": 32,
   "id": "21f82284",
   "metadata": {
    "execution": {
     "iopub.execute_input": "2025-04-06T17:03:29.972328Z",
     "iopub.status.busy": "2025-04-06T17:03:29.971985Z",
     "iopub.status.idle": "2025-04-06T17:03:29.977802Z",
     "shell.execute_reply": "2025-04-06T17:03:29.976760Z"
    },
    "papermill": {
     "duration": 0.020484,
     "end_time": "2025-04-06T17:03:29.979309",
     "exception": false,
     "start_time": "2025-04-06T17:03:29.958825",
     "status": "completed"
    },
    "tags": []
   },
   "outputs": [
    {
     "data": {
      "text/plain": [
       "array([[1, 0, 1, 0, 1, 0],\n",
       "       [1, 0, 1, 0, 1, 0],\n",
       "       [1, 0, 1, 0, 1, 0]])"
      ]
     },
     "execution_count": 32,
     "metadata": {},
     "output_type": "execute_result"
    }
   ],
   "source": [
    "two_d_array % 2   #Take modulus of each element"
   ]
  },
  {
   "cell_type": "markdown",
   "id": "e0454cbe",
   "metadata": {
    "papermill": {
     "duration": 0.012032,
     "end_time": "2025-04-06T17:03:30.004062",
     "exception": false,
     "start_time": "2025-04-06T17:03:29.992030",
     "status": "completed"
    },
    "tags": []
   },
   "source": [
    "Beyond operating on each element of an array with a single scalar value, you can also use the basic math operators on two arrays with the same shape.  When operating on two arrays, the basic math operators function in an element-wise fashion, returning an array with the same shape as the original"
   ]
  },
  {
   "cell_type": "code",
   "execution_count": 33,
   "id": "11955a73",
   "metadata": {
    "execution": {
     "iopub.execute_input": "2025-04-06T17:03:30.030645Z",
     "iopub.status.busy": "2025-04-06T17:03:30.030300Z",
     "iopub.status.idle": "2025-04-06T17:03:30.036545Z",
     "shell.execute_reply": "2025-04-06T17:03:30.035612Z"
    },
    "papermill": {
     "duration": 0.021309,
     "end_time": "2025-04-06T17:03:30.038184",
     "exception": false,
     "start_time": "2025-04-06T17:03:30.016875",
     "status": "completed"
    },
    "tags": []
   },
   "outputs": [
    {
     "data": {
      "text/plain": [
       "array([[2, 4],\n",
       "       [6, 8]])"
      ]
     },
     "execution_count": 33,
     "metadata": {},
     "output_type": "execute_result"
    }
   ],
   "source": [
    "small_array1 = np.array([[1,2],[3,4]])\n",
    "small_array1 + small_array1"
   ]
  },
  {
   "cell_type": "code",
   "execution_count": 34,
   "id": "022c15c5",
   "metadata": {
    "execution": {
     "iopub.execute_input": "2025-04-06T17:03:30.064413Z",
     "iopub.status.busy": "2025-04-06T17:03:30.064037Z",
     "iopub.status.idle": "2025-04-06T17:03:30.069590Z",
     "shell.execute_reply": "2025-04-06T17:03:30.068742Z"
    },
    "papermill": {
     "duration": 0.020413,
     "end_time": "2025-04-06T17:03:30.071157",
     "exception": false,
     "start_time": "2025-04-06T17:03:30.050744",
     "status": "completed"
    },
    "tags": []
   },
   "outputs": [
    {
     "data": {
      "text/plain": [
       "array([[0, 0],\n",
       "       [0, 0]])"
      ]
     },
     "execution_count": 34,
     "metadata": {},
     "output_type": "execute_result"
    }
   ],
   "source": [
    "small_array1 - small_array1"
   ]
  },
  {
   "cell_type": "code",
   "execution_count": 35,
   "id": "10b94960",
   "metadata": {
    "execution": {
     "iopub.execute_input": "2025-04-06T17:03:30.097546Z",
     "iopub.status.busy": "2025-04-06T17:03:30.097224Z",
     "iopub.status.idle": "2025-04-06T17:03:30.102949Z",
     "shell.execute_reply": "2025-04-06T17:03:30.101949Z"
    },
    "papermill": {
     "duration": 0.020985,
     "end_time": "2025-04-06T17:03:30.104920",
     "exception": false,
     "start_time": "2025-04-06T17:03:30.083935",
     "status": "completed"
    },
    "tags": []
   },
   "outputs": [
    {
     "data": {
      "text/plain": [
       "array([[ 1,  4],\n",
       "       [ 9, 16]])"
      ]
     },
     "execution_count": 35,
     "metadata": {},
     "output_type": "execute_result"
    }
   ],
   "source": [
    "small_array1 * small_array1"
   ]
  },
  {
   "cell_type": "code",
   "execution_count": 36,
   "id": "e12f2f61",
   "metadata": {
    "execution": {
     "iopub.execute_input": "2025-04-06T17:03:30.132052Z",
     "iopub.status.busy": "2025-04-06T17:03:30.131635Z",
     "iopub.status.idle": "2025-04-06T17:03:30.137699Z",
     "shell.execute_reply": "2025-04-06T17:03:30.136643Z"
    },
    "papermill": {
     "duration": 0.021374,
     "end_time": "2025-04-06T17:03:30.139316",
     "exception": false,
     "start_time": "2025-04-06T17:03:30.117942",
     "status": "completed"
    },
    "tags": []
   },
   "outputs": [
    {
     "data": {
      "text/plain": [
       "array([[  1,   4],\n",
       "       [ 27, 256]])"
      ]
     },
     "execution_count": 36,
     "metadata": {},
     "output_type": "execute_result"
    }
   ],
   "source": [
    "small_array1 ** small_array1"
   ]
  },
  {
   "cell_type": "markdown",
   "id": "1a85dabc",
   "metadata": {
    "papermill": {
     "duration": 0.012644,
     "end_time": "2025-04-06T17:03:30.164924",
     "exception": false,
     "start_time": "2025-04-06T17:03:30.152280",
     "status": "completed"
    },
    "tags": []
   },
   "source": [
    "Numpy also offers a variety of named math functions for ndarrays."
   ]
  },
  {
   "cell_type": "code",
   "execution_count": 37,
   "id": "0332115d",
   "metadata": {
    "execution": {
     "iopub.execute_input": "2025-04-06T17:03:30.191639Z",
     "iopub.status.busy": "2025-04-06T17:03:30.191320Z",
     "iopub.status.idle": "2025-04-06T17:03:30.196946Z",
     "shell.execute_reply": "2025-04-06T17:03:30.196012Z"
    },
    "papermill": {
     "duration": 0.020836,
     "end_time": "2025-04-06T17:03:30.198485",
     "exception": false,
     "start_time": "2025-04-06T17:03:30.177649",
     "status": "completed"
    },
    "tags": []
   },
   "outputs": [
    {
     "data": {
      "text/plain": [
       "9.5"
      ]
     },
     "execution_count": 37,
     "metadata": {},
     "output_type": "execute_result"
    }
   ],
   "source": [
    "#Get the mean of all the elements in an array with np.mean()\n",
    "np.mean(two_d_array)"
   ]
  },
  {
   "cell_type": "code",
   "execution_count": 38,
   "id": "260e70d7",
   "metadata": {
    "execution": {
     "iopub.execute_input": "2025-04-06T17:03:30.225856Z",
     "iopub.status.busy": "2025-04-06T17:03:30.225467Z",
     "iopub.status.idle": "2025-04-06T17:03:30.231460Z",
     "shell.execute_reply": "2025-04-06T17:03:30.230504Z"
    },
    "papermill": {
     "duration": 0.021551,
     "end_time": "2025-04-06T17:03:30.233135",
     "exception": false,
     "start_time": "2025-04-06T17:03:30.211584",
     "status": "completed"
    },
    "tags": []
   },
   "outputs": [
    {
     "data": {
      "text/plain": [
       "array([ 3.5,  9.5, 15.5])"
      ]
     },
     "execution_count": 38,
     "metadata": {},
     "output_type": "execute_result"
    }
   ],
   "source": [
    "#Provide an axis argument to get means across a dimension\n",
    "\n",
    "np.mean(two_d_array,\n",
    "       axis = 1)             #Get means of each row"
   ]
  },
  {
   "cell_type": "code",
   "execution_count": 39,
   "id": "c9d46a81",
   "metadata": {
    "execution": {
     "iopub.execute_input": "2025-04-06T17:03:30.260575Z",
     "iopub.status.busy": "2025-04-06T17:03:30.260252Z",
     "iopub.status.idle": "2025-04-06T17:03:30.265752Z",
     "shell.execute_reply": "2025-04-06T17:03:30.264924Z"
    },
    "papermill": {
     "duration": 0.021112,
     "end_time": "2025-04-06T17:03:30.267413",
     "exception": false,
     "start_time": "2025-04-06T17:03:30.246301",
     "status": "completed"
    },
    "tags": []
   },
   "outputs": [
    {
     "data": {
      "text/plain": [
       "5.188127472091127"
      ]
     },
     "execution_count": 39,
     "metadata": {},
     "output_type": "execute_result"
    }
   ],
   "source": [
    "#Get the standard deviation all the elements in an array with np.std()\n",
    "np.std(two_d_array)"
   ]
  },
  {
   "cell_type": "code",
   "execution_count": 40,
   "id": "158066de",
   "metadata": {
    "execution": {
     "iopub.execute_input": "2025-04-06T17:03:30.295370Z",
     "iopub.status.busy": "2025-04-06T17:03:30.294844Z",
     "iopub.status.idle": "2025-04-06T17:03:30.301297Z",
     "shell.execute_reply": "2025-04-06T17:03:30.300277Z"
    },
    "papermill": {
     "duration": 0.022224,
     "end_time": "2025-04-06T17:03:30.302982",
     "exception": false,
     "start_time": "2025-04-06T17:03:30.280758",
     "status": "completed"
    },
    "tags": []
   },
   "outputs": [
    {
     "data": {
      "text/plain": [
       "array([21, 57, 93])"
      ]
     },
     "execution_count": 40,
     "metadata": {},
     "output_type": "execute_result"
    }
   ],
   "source": [
    "#Provide an axis argument to get standard deviations across an axis with np.sum()\n",
    "\n",
    "np.sum(two_d_array,\n",
    "      axis=1)            #Get the row sums"
   ]
  },
  {
   "cell_type": "code",
   "execution_count": 41,
   "id": "3fa74e06",
   "metadata": {
    "execution": {
     "iopub.execute_input": "2025-04-06T17:03:30.331575Z",
     "iopub.status.busy": "2025-04-06T17:03:30.331191Z",
     "iopub.status.idle": "2025-04-06T17:03:30.337347Z",
     "shell.execute_reply": "2025-04-06T17:03:30.336288Z"
    },
    "papermill": {
     "duration": 0.022857,
     "end_time": "2025-04-06T17:03:30.339281",
     "exception": false,
     "start_time": "2025-04-06T17:03:30.316424",
     "status": "completed"
    },
    "tags": []
   },
   "outputs": [
    {
     "data": {
      "text/plain": [
       "array([21, 24, 27, 30, 33, 36])"
      ]
     },
     "execution_count": 41,
     "metadata": {},
     "output_type": "execute_result"
    }
   ],
   "source": [
    "np.sum(two_d_array,\n",
    "      axis = 0)       #Get the column sums"
   ]
  },
  {
   "cell_type": "code",
   "execution_count": 42,
   "id": "75ad65b1",
   "metadata": {
    "execution": {
     "iopub.execute_input": "2025-04-06T17:03:30.367525Z",
     "iopub.status.busy": "2025-04-06T17:03:30.367156Z",
     "iopub.status.idle": "2025-04-06T17:03:30.376768Z",
     "shell.execute_reply": "2025-04-06T17:03:30.375834Z"
    },
    "papermill": {
     "duration": 0.02557,
     "end_time": "2025-04-06T17:03:30.378403",
     "exception": false,
     "start_time": "2025-04-06T17:03:30.352833",
     "status": "completed"
    },
    "tags": []
   },
   "outputs": [
    {
     "data": {
      "text/plain": [
       "array([[0.        , 0.69314718, 1.09861229, 1.38629436, 1.60943791,\n",
       "        1.79175947],\n",
       "       [1.94591015, 2.07944154, 2.19722458, 2.30258509, 2.39789527,\n",
       "        2.48490665],\n",
       "       [2.56494936, 2.63905733, 2.7080502 , 2.77258872, 2.83321334,\n",
       "        2.89037176]])"
      ]
     },
     "execution_count": 42,
     "metadata": {},
     "output_type": "execute_result"
    }
   ],
   "source": [
    "# Take the log of each element in an array with np.log()\n",
    "np.log(two_d_array)"
   ]
  },
  {
   "cell_type": "code",
   "execution_count": 43,
   "id": "1d86f4b0",
   "metadata": {
    "execution": {
     "iopub.execute_input": "2025-04-06T17:03:30.406801Z",
     "iopub.status.busy": "2025-04-06T17:03:30.406424Z",
     "iopub.status.idle": "2025-04-06T17:03:30.412426Z",
     "shell.execute_reply": "2025-04-06T17:03:30.411274Z"
    },
    "papermill": {
     "duration": 0.022245,
     "end_time": "2025-04-06T17:03:30.414222",
     "exception": false,
     "start_time": "2025-04-06T17:03:30.391977",
     "status": "completed"
    },
    "tags": []
   },
   "outputs": [
    {
     "data": {
      "text/plain": [
       "array([[1.        , 1.41421356, 1.73205081, 2.        , 2.23606798,\n",
       "        2.44948974],\n",
       "       [2.64575131, 2.82842712, 3.        , 3.16227766, 3.31662479,\n",
       "        3.46410162],\n",
       "       [3.60555128, 3.74165739, 3.87298335, 4.        , 4.12310563,\n",
       "        4.24264069]])"
      ]
     },
     "execution_count": 43,
     "metadata": {},
     "output_type": "execute_result"
    }
   ],
   "source": [
    "#Take the square root of each element with np.sqrt()\n",
    "\n",
    "np.sqrt(two_d_array)"
   ]
  },
  {
   "cell_type": "markdown",
   "id": "8944fd04",
   "metadata": {
    "papermill": {
     "duration": 0.013234,
     "end_time": "2025-04-06T17:03:30.441166",
     "exception": false,
     "start_time": "2025-04-06T17:03:30.427932",
     "status": "completed"
    },
    "tags": []
   },
   "source": [
    "Take the dot product of two arrays with np.dot().  This function performs an element-wise multiply and then a sum of 1-dimensional arrays (vectors) and matrix muliplication for 2-dimensional arrays."
   ]
  },
  {
   "cell_type": "code",
   "execution_count": null,
   "id": "8f33964d",
   "metadata": {
    "papermill": {
     "duration": 0.013308,
     "end_time": "2025-04-06T17:03:30.468440",
     "exception": false,
     "start_time": "2025-04-06T17:03:30.455132",
     "status": "completed"
    },
    "tags": []
   },
   "outputs": [],
   "source": []
  }
 ],
 "metadata": {
  "kaggle": {
   "accelerator": "none",
   "dataSources": [],
   "dockerImageVersionId": 30918,
   "isGpuEnabled": false,
   "isInternetEnabled": false,
   "language": "python",
   "sourceType": "notebook"
  },
  "kernelspec": {
   "display_name": "Python 3",
   "language": "python",
   "name": "python3"
  },
  "language_info": {
   "codemirror_mode": {
    "name": "ipython",
    "version": 3
   },
   "file_extension": ".py",
   "mimetype": "text/x-python",
   "name": "python",
   "nbconvert_exporter": "python",
   "pygments_lexer": "ipython3",
   "version": "3.10.12"
  },
  "papermill": {
   "default_parameters": {},
   "duration": 5.058109,
   "end_time": "2025-04-06T17:03:30.901009",
   "environment_variables": {},
   "exception": null,
   "input_path": "__notebook__.ipynb",
   "output_path": "__notebook__.ipynb",
   "parameters": {},
   "start_time": "2025-04-06T17:03:25.842900",
   "version": "2.6.0"
  }
 },
 "nbformat": 4,
 "nbformat_minor": 5
}
