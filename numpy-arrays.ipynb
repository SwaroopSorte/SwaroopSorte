{
 "cells": [
  {
   "cell_type": "markdown",
   "id": "d179b1da",
   "metadata": {
    "papermill": {
     "duration": 0.007843,
     "end_time": "2025-04-06T15:06:42.815889",
     "exception": false,
     "start_time": "2025-04-06T15:06:42.808046",
     "status": "completed"
    },
    "tags": []
   },
   "source": [
    "# Python for Data : Numpy Arrays\n",
    "\n",
    "Python's build in data structures are great for general - purpose programming, but they lack some specialized features we'd like for data analysis. For example adding rows or columns of data in an element-wise fashion and performing math operations on two dimensional tables are common tasks that aren't readily available with Python's base data types.\n",
    "\n",
    "# Numpy and Array Basics\n",
    "Numpy implements a data structure called the N-dimensional array or ndarray. ndarrays are similar to lists in that they contain a collection of items that can be accessed via indexes. On the other hand, ndarrays are homogeneous, meaning they can only contain objects of the same type and they can be multi-dimensional, making it easy to store 2-dimensional tables or matrices.\n",
    "\n",
    "To work with ndarrays, we need to load the numpy library. It is standard practice to load numpy with the alias \"np\" like so:"
   ]
  },
  {
   "cell_type": "code",
   "execution_count": 1,
   "id": "4507950a",
   "metadata": {
    "execution": {
     "iopub.execute_input": "2025-04-06T15:06:42.831648Z",
     "iopub.status.busy": "2025-04-06T15:06:42.831265Z",
     "iopub.status.idle": "2025-04-06T15:06:42.836738Z",
     "shell.execute_reply": "2025-04-06T15:06:42.835642Z"
    },
    "papermill": {
     "duration": 0.015013,
     "end_time": "2025-04-06T15:06:42.838239",
     "exception": false,
     "start_time": "2025-04-06T15:06:42.823226",
     "status": "completed"
    },
    "tags": []
   },
   "outputs": [],
   "source": [
    "import numpy as np"
   ]
  },
  {
   "cell_type": "code",
   "execution_count": 2,
   "id": "d0b0d430",
   "metadata": {
    "execution": {
     "iopub.execute_input": "2025-04-06T15:06:42.854265Z",
     "iopub.status.busy": "2025-04-06T15:06:42.853941Z",
     "iopub.status.idle": "2025-04-06T15:06:42.860504Z",
     "shell.execute_reply": "2025-04-06T15:06:42.859521Z"
    },
    "papermill": {
     "duration": 0.015999,
     "end_time": "2025-04-06T15:06:42.862049",
     "exception": false,
     "start_time": "2025-04-06T15:06:42.846050",
     "status": "completed"
    },
    "tags": []
   },
   "outputs": [
    {
     "data": {
      "text/plain": [
       "numpy.ndarray"
      ]
     },
     "execution_count": 2,
     "metadata": {},
     "output_type": "execute_result"
    }
   ],
   "source": [
    "#Create an ndarray by passing a list to np.array() function:\n",
    "my_list = [1,2,3,4]            #Define a list\n",
    "my_array = np.array(my_list)   #Pass the list to np.array()\n",
    "type(my_array)                 #Check the object's type\n"
   ]
  },
  {
   "cell_type": "code",
   "execution_count": 3,
   "id": "d7be45bf",
   "metadata": {
    "execution": {
     "iopub.execute_input": "2025-04-06T15:06:42.877913Z",
     "iopub.status.busy": "2025-04-06T15:06:42.877339Z",
     "iopub.status.idle": "2025-04-06T15:06:42.885772Z",
     "shell.execute_reply": "2025-04-06T15:06:42.884653Z"
    },
    "papermill": {
     "duration": 0.018302,
     "end_time": "2025-04-06T15:06:42.887639",
     "exception": false,
     "start_time": "2025-04-06T15:06:42.869337",
     "status": "completed"
    },
    "tags": []
   },
   "outputs": [
    {
     "name": "stdout",
     "output_type": "stream",
     "text": [
      "[[1 2 3 4]\n",
      " [5 6 7 8]]\n"
     ]
    }
   ],
   "source": [
    "#To create an array with more than one dimension, pass a nested list to np.array():\n",
    "second_list = [5,6,7,8]\n",
    "two_d_array = np.array([my_list, second_list])\n",
    "print(two_d_array)"
   ]
  },
  {
   "cell_type": "markdown",
   "id": "5eea360f",
   "metadata": {
    "papermill": {
     "duration": 0.007015,
     "end_time": "2025-04-06T15:06:42.902024",
     "exception": false,
     "start_time": "2025-04-06T15:06:42.895009",
     "status": "completed"
    },
    "tags": []
   },
   "source": [
    "An ndarray is defined by the number of dimensions it has, the size of each dimension and the type of data it holds. Check the number and size of dimensions of an ndarray with the shape attribute."
   ]
  },
  {
   "cell_type": "code",
   "execution_count": 4,
   "id": "f769a3be",
   "metadata": {
    "execution": {
     "iopub.execute_input": "2025-04-06T15:06:42.918139Z",
     "iopub.status.busy": "2025-04-06T15:06:42.917813Z",
     "iopub.status.idle": "2025-04-06T15:06:42.923181Z",
     "shell.execute_reply": "2025-04-06T15:06:42.922226Z"
    },
    "papermill": {
     "duration": 0.015583,
     "end_time": "2025-04-06T15:06:42.924921",
     "exception": false,
     "start_time": "2025-04-06T15:06:42.909338",
     "status": "completed"
    },
    "tags": []
   },
   "outputs": [
    {
     "data": {
      "text/plain": [
       "(2, 4)"
      ]
     },
     "execution_count": 4,
     "metadata": {},
     "output_type": "execute_result"
    }
   ],
   "source": [
    "two_d_array.shape"
   ]
  },
  {
   "cell_type": "markdown",
   "id": "a70a8b2a",
   "metadata": {
    "papermill": {
     "duration": 0.006781,
     "end_time": "2025-04-06T15:06:42.939196",
     "exception": false,
     "start_time": "2025-04-06T15:06:42.932415",
     "status": "completed"
    },
    "tags": []
   },
   "source": [
    "The output above shows that this ndarray is 2-dimensional, since there are two values listed, and the dimensions have length 2 and 4. "
   ]
  },
  {
   "cell_type": "code",
   "execution_count": 5,
   "id": "40e6758f",
   "metadata": {
    "execution": {
     "iopub.execute_input": "2025-04-06T15:06:42.954892Z",
     "iopub.status.busy": "2025-04-06T15:06:42.954551Z",
     "iopub.status.idle": "2025-04-06T15:06:42.960000Z",
     "shell.execute_reply": "2025-04-06T15:06:42.959152Z"
    },
    "papermill": {
     "duration": 0.015156,
     "end_time": "2025-04-06T15:06:42.961619",
     "exception": false,
     "start_time": "2025-04-06T15:06:42.946463",
     "status": "completed"
    },
    "tags": []
   },
   "outputs": [
    {
     "data": {
      "text/plain": [
       "8"
      ]
     },
     "execution_count": 5,
     "metadata": {},
     "output_type": "execute_result"
    }
   ],
   "source": [
    "two_d_array.size"
   ]
  },
  {
   "cell_type": "markdown",
   "id": "d5620ce4",
   "metadata": {
    "papermill": {
     "duration": 0.007066,
     "end_time": "2025-04-06T15:06:42.976144",
     "exception": false,
     "start_time": "2025-04-06T15:06:42.969078",
     "status": "completed"
    },
    "tags": []
   },
   "source": [
    "check the type of the data in an ndarray with the dtype attribute:"
   ]
  },
  {
   "cell_type": "code",
   "execution_count": 6,
   "id": "dd07a042",
   "metadata": {
    "execution": {
     "iopub.execute_input": "2025-04-06T15:06:42.992190Z",
     "iopub.status.busy": "2025-04-06T15:06:42.991869Z",
     "iopub.status.idle": "2025-04-06T15:06:42.997632Z",
     "shell.execute_reply": "2025-04-06T15:06:42.996490Z"
    },
    "papermill": {
     "duration": 0.015954,
     "end_time": "2025-04-06T15:06:42.999564",
     "exception": false,
     "start_time": "2025-04-06T15:06:42.983610",
     "status": "completed"
    },
    "tags": []
   },
   "outputs": [
    {
     "data": {
      "text/plain": [
       "dtype('int64')"
      ]
     },
     "execution_count": 6,
     "metadata": {},
     "output_type": "execute_result"
    }
   ],
   "source": [
    "two_d_array.dtype"
   ]
  },
  {
   "cell_type": "markdown",
   "id": "3daf1ef2",
   "metadata": {
    "papermill": {
     "duration": 0.008005,
     "end_time": "2025-04-06T15:06:43.015537",
     "exception": false,
     "start_time": "2025-04-06T15:06:43.007532",
     "status": "completed"
    },
    "tags": []
   },
   "source": [
    "Numpy has a variety of special array creation functions. Some handy array creation functions include:"
   ]
  },
  {
   "cell_type": "code",
   "execution_count": 7,
   "id": "2af9143c",
   "metadata": {
    "execution": {
     "iopub.execute_input": "2025-04-06T15:06:43.032708Z",
     "iopub.status.busy": "2025-04-06T15:06:43.032276Z",
     "iopub.status.idle": "2025-04-06T15:06:43.040116Z",
     "shell.execute_reply": "2025-04-06T15:06:43.038576Z"
    },
    "papermill": {
     "duration": 0.018549,
     "end_time": "2025-04-06T15:06:43.042293",
     "exception": false,
     "start_time": "2025-04-06T15:06:43.023744",
     "status": "completed"
    },
    "tags": []
   },
   "outputs": [
    {
     "data": {
      "text/plain": [
       "array([[1., 0., 0., 0., 0., 0., 0., 0., 0., 0.],\n",
       "       [0., 1., 0., 0., 0., 0., 0., 0., 0., 0.],\n",
       "       [0., 0., 1., 0., 0., 0., 0., 0., 0., 0.],\n",
       "       [0., 0., 0., 1., 0., 0., 0., 0., 0., 0.],\n",
       "       [0., 0., 0., 0., 1., 0., 0., 0., 0., 0.],\n",
       "       [0., 0., 0., 0., 0., 1., 0., 0., 0., 0.],\n",
       "       [0., 0., 0., 0., 0., 0., 1., 0., 0., 0.],\n",
       "       [0., 0., 0., 0., 0., 0., 0., 1., 0., 0.],\n",
       "       [0., 0., 0., 0., 0., 0., 0., 0., 1., 0.],\n",
       "       [0., 0., 0., 0., 0., 0., 0., 0., 0., 1.]])"
      ]
     },
     "execution_count": 7,
     "metadata": {},
     "output_type": "execute_result"
    }
   ],
   "source": [
    "#np.identity() to create a square 2d array with 1's across the diagonal\n",
    "np.identity(n=10)    #Size of the array"
   ]
  },
  {
   "cell_type": "code",
   "execution_count": 8,
   "id": "8457862f",
   "metadata": {
    "execution": {
     "iopub.execute_input": "2025-04-06T15:06:43.060357Z",
     "iopub.status.busy": "2025-04-06T15:06:43.060034Z",
     "iopub.status.idle": "2025-04-06T15:06:43.066604Z",
     "shell.execute_reply": "2025-04-06T15:06:43.065515Z"
    },
    "papermill": {
     "duration": 0.017498,
     "end_time": "2025-04-06T15:06:43.068462",
     "exception": false,
     "start_time": "2025-04-06T15:06:43.050964",
     "status": "completed"
    },
    "tags": []
   },
   "outputs": [
    {
     "data": {
      "text/plain": [
       "array([[0., 1., 0., 0., 0.],\n",
       "       [0., 0., 1., 0., 0.],\n",
       "       [0., 0., 0., 1., 0.]])"
      ]
     },
     "execution_count": 8,
     "metadata": {},
     "output_type": "execute_result"
    }
   ],
   "source": [
    "#np.eye() to create a 2d array with 1's across a specified diagonal\n",
    "\n",
    "np.eye(N = 3,         #Number of rows\n",
    "       M = 5,         #Number of columns\n",
    "       k = 1)         #Index of the diagonal (Main diagonal (0) is default)"
   ]
  },
  {
   "cell_type": "code",
   "execution_count": 9,
   "id": "a7d5ee82",
   "metadata": {
    "execution": {
     "iopub.execute_input": "2025-04-06T15:06:43.085391Z",
     "iopub.status.busy": "2025-04-06T15:06:43.084999Z",
     "iopub.status.idle": "2025-04-06T15:06:43.091518Z",
     "shell.execute_reply": "2025-04-06T15:06:43.090503Z"
    },
    "papermill": {
     "duration": 0.016748,
     "end_time": "2025-04-06T15:06:43.093135",
     "exception": false,
     "start_time": "2025-04-06T15:06:43.076387",
     "status": "completed"
    },
    "tags": []
   },
   "outputs": [
    {
     "data": {
      "text/plain": [
       "array([[1., 1., 1., 1.],\n",
       "       [1., 1., 1., 1.]])"
      ]
     },
     "execution_count": 9,
     "metadata": {},
     "output_type": "execute_result"
    }
   ],
   "source": [
    "#np.ones() to create an array filled with ones :\n",
    "np.ones(shape = [2,4])"
   ]
  },
  {
   "cell_type": "code",
   "execution_count": 10,
   "id": "34aaae59",
   "metadata": {
    "execution": {
     "iopub.execute_input": "2025-04-06T15:06:43.110771Z",
     "iopub.status.busy": "2025-04-06T15:06:43.110336Z",
     "iopub.status.idle": "2025-04-06T15:06:43.116735Z",
     "shell.execute_reply": "2025-04-06T15:06:43.115521Z"
    },
    "papermill": {
     "duration": 0.017614,
     "end_time": "2025-04-06T15:06:43.118776",
     "exception": false,
     "start_time": "2025-04-06T15:06:43.101162",
     "status": "completed"
    },
    "tags": []
   },
   "outputs": [
    {
     "data": {
      "text/plain": [
       "array([[0., 0., 0., 0., 0., 0.],\n",
       "       [0., 0., 0., 0., 0., 0.],\n",
       "       [0., 0., 0., 0., 0., 0.],\n",
       "       [0., 0., 0., 0., 0., 0.]])"
      ]
     },
     "execution_count": 10,
     "metadata": {},
     "output_type": "execute_result"
    }
   ],
   "source": [
    "#np.zeros() to create an array filled with zeros:\n",
    "np.zeros(shape = [4,6])\n"
   ]
  },
  {
   "cell_type": "markdown",
   "id": "202b3b7a",
   "metadata": {
    "papermill": {
     "duration": 0.007455,
     "end_time": "2025-04-06T15:06:43.134260",
     "exception": false,
     "start_time": "2025-04-06T15:06:43.126805",
     "status": "completed"
    },
    "tags": []
   },
   "source": [
    "# Array Indexing and Slicing\n",
    "\n",
    "Numpy ndarrays offer numbered indexing and slicing syntax that mirrors the syntax for Python lists:"
   ]
  },
  {
   "cell_type": "code",
   "execution_count": 11,
   "id": "60818a81",
   "metadata": {
    "execution": {
     "iopub.execute_input": "2025-04-06T15:06:43.151135Z",
     "iopub.status.busy": "2025-04-06T15:06:43.150758Z",
     "iopub.status.idle": "2025-04-06T15:06:43.156841Z",
     "shell.execute_reply": "2025-04-06T15:06:43.155833Z"
    },
    "papermill": {
     "duration": 0.016347,
     "end_time": "2025-04-06T15:06:43.158323",
     "exception": false,
     "start_time": "2025-04-06T15:06:43.141976",
     "status": "completed"
    },
    "tags": []
   },
   "outputs": [
    {
     "data": {
      "text/plain": [
       "4"
      ]
     },
     "execution_count": 11,
     "metadata": {},
     "output_type": "execute_result"
    }
   ],
   "source": [
    "one_d_array = np.array([1,2,3,4,5,6])\n",
    "one_d_array[3]    #Get the item at index 3"
   ]
  },
  {
   "cell_type": "code",
   "execution_count": 12,
   "id": "9961e7ff",
   "metadata": {
    "execution": {
     "iopub.execute_input": "2025-04-06T15:06:43.176039Z",
     "iopub.status.busy": "2025-04-06T15:06:43.175693Z",
     "iopub.status.idle": "2025-04-06T15:06:43.181704Z",
     "shell.execute_reply": "2025-04-06T15:06:43.180720Z"
    },
    "papermill": {
     "duration": 0.017292,
     "end_time": "2025-04-06T15:06:43.183639",
     "exception": false,
     "start_time": "2025-04-06T15:06:43.166347",
     "status": "completed"
    },
    "tags": []
   },
   "outputs": [
    {
     "data": {
      "text/plain": [
       "array([4, 5, 6])"
      ]
     },
     "execution_count": 12,
     "metadata": {},
     "output_type": "execute_result"
    }
   ],
   "source": [
    "one_d_array[3:]  #Get a slice from index 3 to the end"
   ]
  },
  {
   "cell_type": "code",
   "execution_count": 13,
   "id": "e523cf36",
   "metadata": {
    "execution": {
     "iopub.execute_input": "2025-04-06T15:06:43.201501Z",
     "iopub.status.busy": "2025-04-06T15:06:43.201059Z",
     "iopub.status.idle": "2025-04-06T15:06:43.206892Z",
     "shell.execute_reply": "2025-04-06T15:06:43.206012Z"
    },
    "papermill": {
     "duration": 0.016897,
     "end_time": "2025-04-06T15:06:43.208833",
     "exception": false,
     "start_time": "2025-04-06T15:06:43.191936",
     "status": "completed"
    },
    "tags": []
   },
   "outputs": [
    {
     "data": {
      "text/plain": [
       "array([6, 5, 4, 3, 2, 1])"
      ]
     },
     "execution_count": 13,
     "metadata": {},
     "output_type": "execute_result"
    }
   ],
   "source": [
    "one_d_array[::-1]    #Slice backwards to reverse the array"
   ]
  },
  {
   "cell_type": "markdown",
   "id": "d12fd5a0",
   "metadata": {
    "papermill": {
     "duration": 0.007691,
     "end_time": "2025-04-06T15:06:43.224879",
     "exception": false,
     "start_time": "2025-04-06T15:06:43.217188",
     "status": "completed"
    },
    "tags": []
   },
   "source": [
    "If an ndarray has more than one dimension, separate indexes for each dimension with a comma:"
   ]
  },
  {
   "cell_type": "code",
   "execution_count": 14,
   "id": "c205046a",
   "metadata": {
    "execution": {
     "iopub.execute_input": "2025-04-06T15:06:43.242828Z",
     "iopub.status.busy": "2025-04-06T15:06:43.242485Z",
     "iopub.status.idle": "2025-04-06T15:06:43.249617Z",
     "shell.execute_reply": "2025-04-06T15:06:43.248474Z"
    },
    "papermill": {
     "duration": 0.017806,
     "end_time": "2025-04-06T15:06:43.251320",
     "exception": false,
     "start_time": "2025-04-06T15:06:43.233514",
     "status": "completed"
    },
    "tags": []
   },
   "outputs": [
    {
     "name": "stdout",
     "output_type": "stream",
     "text": [
      "[[ 1  2  3  4  5  6]\n",
      " [ 7  8  9 10 11 12]\n",
      " [13 14 15 16 17 18]]\n"
     ]
    }
   ],
   "source": [
    "#Create a new 2d array\n",
    "two_d_array = np.array([one_d_array, one_d_array + 6, one_d_array + 12])\n",
    "print(two_d_array)"
   ]
  },
  {
   "cell_type": "code",
   "execution_count": 15,
   "id": "d456ddfa",
   "metadata": {
    "execution": {
     "iopub.execute_input": "2025-04-06T15:06:43.269608Z",
     "iopub.status.busy": "2025-04-06T15:06:43.269215Z",
     "iopub.status.idle": "2025-04-06T15:06:43.274956Z",
     "shell.execute_reply": "2025-04-06T15:06:43.274064Z"
    },
    "papermill": {
     "duration": 0.016698,
     "end_time": "2025-04-06T15:06:43.276796",
     "exception": false,
     "start_time": "2025-04-06T15:06:43.260098",
     "status": "completed"
    },
    "tags": []
   },
   "outputs": [
    {
     "data": {
      "text/plain": [
       "array([[11, 12],\n",
       "       [17, 18]])"
      ]
     },
     "execution_count": 15,
     "metadata": {},
     "output_type": "execute_result"
    }
   ],
   "source": [
    "#Slice elements starting at row 2, and column 5\n",
    "two_d_array[1:,4:]"
   ]
  },
  {
   "cell_type": "code",
   "execution_count": 16,
   "id": "2972c854",
   "metadata": {
    "execution": {
     "iopub.execute_input": "2025-04-06T15:06:43.295318Z",
     "iopub.status.busy": "2025-04-06T15:06:43.294954Z",
     "iopub.status.idle": "2025-04-06T15:06:43.301475Z",
     "shell.execute_reply": "2025-04-06T15:06:43.300231Z"
    },
    "papermill": {
     "duration": 0.018019,
     "end_time": "2025-04-06T15:06:43.303258",
     "exception": false,
     "start_time": "2025-04-06T15:06:43.285239",
     "status": "completed"
    },
    "tags": []
   },
   "outputs": [
    {
     "data": {
      "text/plain": [
       "array([[18, 17, 16, 15, 14, 13],\n",
       "       [12, 11, 10,  9,  8,  7],\n",
       "       [ 6,  5,  4,  3,  2,  1]])"
      ]
     },
     "execution_count": 16,
     "metadata": {},
     "output_type": "execute_result"
    }
   ],
   "source": [
    "#Reverse both dimensions (180 degree rotation)\n",
    "two_d_array[::-1, ::-1]"
   ]
  },
  {
   "cell_type": "markdown",
   "id": "ae4c31a2",
   "metadata": {
    "papermill": {
     "duration": 0.00796,
     "end_time": "2025-04-06T15:06:43.320702",
     "exception": false,
     "start_time": "2025-04-06T15:06:43.312742",
     "status": "completed"
    },
    "tags": []
   },
   "source": [
    "# Reshaping Arrays\n",
    "\n",
    "Numpy has a variety of built in functions to help you manipulate arrays quickly without having to use complicated indexing operations.\n",
    "\n",
    "Reshape an array into a new array with the same data but different structure with np.reshape():"
   ]
  },
  {
   "cell_type": "code",
   "execution_count": 17,
   "id": "60d0fcfb",
   "metadata": {
    "execution": {
     "iopub.execute_input": "2025-04-06T15:06:43.339560Z",
     "iopub.status.busy": "2025-04-06T15:06:43.339174Z",
     "iopub.status.idle": "2025-04-06T15:06:43.345679Z",
     "shell.execute_reply": "2025-04-06T15:06:43.344524Z"
    },
    "papermill": {
     "duration": 0.018479,
     "end_time": "2025-04-06T15:06:43.347685",
     "exception": false,
     "start_time": "2025-04-06T15:06:43.329206",
     "status": "completed"
    },
    "tags": []
   },
   "outputs": [
    {
     "data": {
      "text/plain": [
       "array([[ 1,  2,  3],\n",
       "       [ 4,  5,  6],\n",
       "       [ 7,  8,  9],\n",
       "       [10, 11, 12],\n",
       "       [13, 14, 15],\n",
       "       [16, 17, 18]])"
      ]
     },
     "execution_count": 17,
     "metadata": {},
     "output_type": "execute_result"
    }
   ],
   "source": [
    "np.reshape(a=two_d_array,    #Array to reshape\n",
    "            newshape=(6,3))   #Dimensions of the new array"
   ]
  },
  {
   "cell_type": "markdown",
   "id": "3c361e3b",
   "metadata": {
    "papermill": {
     "duration": 0.008027,
     "end_time": "2025-04-06T15:06:43.364343",
     "exception": false,
     "start_time": "2025-04-06T15:06:43.356316",
     "status": "completed"
    },
    "tags": []
   },
   "source": [
    "Unravel a multi-dimensional into 1 dimension with np.ravel():"
   ]
  },
  {
   "cell_type": "code",
   "execution_count": 18,
   "id": "36c001aa",
   "metadata": {
    "execution": {
     "iopub.execute_input": "2025-04-06T15:06:43.382261Z",
     "iopub.status.busy": "2025-04-06T15:06:43.381913Z",
     "iopub.status.idle": "2025-04-06T15:06:43.388023Z",
     "shell.execute_reply": "2025-04-06T15:06:43.386877Z"
    },
    "papermill": {
     "duration": 0.017053,
     "end_time": "2025-04-06T15:06:43.389761",
     "exception": false,
     "start_time": "2025-04-06T15:06:43.372708",
     "status": "completed"
    },
    "tags": []
   },
   "outputs": [
    {
     "data": {
      "text/plain": [
       "array([ 1,  2,  3,  4,  5,  6,  7,  8,  9, 10, 11, 12, 13, 14, 15, 16, 17,\n",
       "       18])"
      ]
     },
     "execution_count": 18,
     "metadata": {},
     "output_type": "execute_result"
    }
   ],
   "source": [
    "np.ravel(a=two_d_array,\n",
    "        order=\"C\")                  #Use C-style unraveling (by rows)"
   ]
  },
  {
   "cell_type": "code",
   "execution_count": 19,
   "id": "665efa36",
   "metadata": {
    "execution": {
     "iopub.execute_input": "2025-04-06T15:06:43.408790Z",
     "iopub.status.busy": "2025-04-06T15:06:43.408397Z",
     "iopub.status.idle": "2025-04-06T15:06:43.414564Z",
     "shell.execute_reply": "2025-04-06T15:06:43.413451Z"
    },
    "papermill": {
     "duration": 0.01726,
     "end_time": "2025-04-06T15:06:43.416145",
     "exception": false,
     "start_time": "2025-04-06T15:06:43.398885",
     "status": "completed"
    },
    "tags": []
   },
   "outputs": [
    {
     "data": {
      "text/plain": [
       "array([ 1,  7, 13,  2,  8, 14,  3,  9, 15,  4, 10, 16,  5, 11, 17,  6, 12,\n",
       "       18])"
      ]
     },
     "execution_count": 19,
     "metadata": {},
     "output_type": "execute_result"
    }
   ],
   "source": [
    "np.ravel(a=two_d_array,\n",
    "        order=\"F\")                   #Use Fortran-style unraveling (by columns)"
   ]
  },
  {
   "cell_type": "markdown",
   "id": "cce45acb",
   "metadata": {
    "papermill": {
     "duration": 0.008203,
     "end_time": "2025-04-06T15:06:43.433099",
     "exception": false,
     "start_time": "2025-04-06T15:06:43.424896",
     "status": "completed"
    },
    "tags": []
   },
   "source": [
    "Alternatively, use ndarray.flatten() to flatten a multi-dimensional into 1 dimension and return a copy of the result:"
   ]
  },
  {
   "cell_type": "code",
   "execution_count": 20,
   "id": "d22a00ba",
   "metadata": {
    "execution": {
     "iopub.execute_input": "2025-04-06T15:06:43.452247Z",
     "iopub.status.busy": "2025-04-06T15:06:43.451827Z",
     "iopub.status.idle": "2025-04-06T15:06:43.457695Z",
     "shell.execute_reply": "2025-04-06T15:06:43.456635Z"
    },
    "papermill": {
     "duration": 0.017597,
     "end_time": "2025-04-06T15:06:43.459285",
     "exception": false,
     "start_time": "2025-04-06T15:06:43.441688",
     "status": "completed"
    },
    "tags": []
   },
   "outputs": [
    {
     "data": {
      "text/plain": [
       "array([ 1,  2,  3,  4,  5,  6,  7,  8,  9, 10, 11, 12, 13, 14, 15, 16, 17,\n",
       "       18])"
      ]
     },
     "execution_count": 20,
     "metadata": {},
     "output_type": "execute_result"
    }
   ],
   "source": [
    "two_d_array.flatten()"
   ]
  },
  {
   "cell_type": "markdown",
   "id": "83cf590d",
   "metadata": {
    "papermill": {
     "duration": 0.009093,
     "end_time": "2025-04-06T15:06:43.477886",
     "exception": false,
     "start_time": "2025-04-06T15:06:43.468793",
     "status": "completed"
    },
    "tags": []
   },
   "source": [
    "Get the transpose of an array with ndarray.T:"
   ]
  },
  {
   "cell_type": "code",
   "execution_count": 21,
   "id": "fc92d2a8",
   "metadata": {
    "execution": {
     "iopub.execute_input": "2025-04-06T15:06:43.496689Z",
     "iopub.status.busy": "2025-04-06T15:06:43.496261Z",
     "iopub.status.idle": "2025-04-06T15:06:43.502511Z",
     "shell.execute_reply": "2025-04-06T15:06:43.501487Z"
    },
    "papermill": {
     "duration": 0.017611,
     "end_time": "2025-04-06T15:06:43.504262",
     "exception": false,
     "start_time": "2025-04-06T15:06:43.486651",
     "status": "completed"
    },
    "tags": []
   },
   "outputs": [
    {
     "data": {
      "text/plain": [
       "array([[ 1,  7, 13],\n",
       "       [ 2,  8, 14],\n",
       "       [ 3,  9, 15],\n",
       "       [ 4, 10, 16],\n",
       "       [ 5, 11, 17],\n",
       "       [ 6, 12, 18]])"
      ]
     },
     "execution_count": 21,
     "metadata": {},
     "output_type": "execute_result"
    }
   ],
   "source": [
    "two_d_array.T"
   ]
  },
  {
   "cell_type": "code",
   "execution_count": 22,
   "id": "51bb5925",
   "metadata": {
    "execution": {
     "iopub.execute_input": "2025-04-06T15:06:43.523855Z",
     "iopub.status.busy": "2025-04-06T15:06:43.523491Z",
     "iopub.status.idle": "2025-04-06T15:06:43.529313Z",
     "shell.execute_reply": "2025-04-06T15:06:43.528384Z"
    },
    "papermill": {
     "duration": 0.017741,
     "end_time": "2025-04-06T15:06:43.531254",
     "exception": false,
     "start_time": "2025-04-06T15:06:43.513513",
     "status": "completed"
    },
    "tags": []
   },
   "outputs": [
    {
     "data": {
      "text/plain": [
       "array([[13, 14, 15, 16, 17, 18],\n",
       "       [ 7,  8,  9, 10, 11, 12],\n",
       "       [ 1,  2,  3,  4,  5,  6]])"
      ]
     },
     "execution_count": 22,
     "metadata": {},
     "output_type": "execute_result"
    }
   ],
   "source": [
    "#Flip an array vertically or horizontally with np.flipud() and np.fliplr() respectively:\n",
    "np.flipud(two_d_array)"
   ]
  },
  {
   "cell_type": "code",
   "execution_count": 23,
   "id": "57fa7ca0",
   "metadata": {
    "execution": {
     "iopub.execute_input": "2025-04-06T15:06:43.551257Z",
     "iopub.status.busy": "2025-04-06T15:06:43.550911Z",
     "iopub.status.idle": "2025-04-06T15:06:43.557476Z",
     "shell.execute_reply": "2025-04-06T15:06:43.556337Z"
    },
    "papermill": {
     "duration": 0.018984,
     "end_time": "2025-04-06T15:06:43.559317",
     "exception": false,
     "start_time": "2025-04-06T15:06:43.540333",
     "status": "completed"
    },
    "tags": []
   },
   "outputs": [
    {
     "data": {
      "text/plain": [
       "array([[ 6,  5,  4,  3,  2,  1],\n",
       "       [12, 11, 10,  9,  8,  7],\n",
       "       [18, 17, 16, 15, 14, 13]])"
      ]
     },
     "execution_count": 23,
     "metadata": {},
     "output_type": "execute_result"
    }
   ],
   "source": [
    "np.fliplr(two_d_array)"
   ]
  },
  {
   "cell_type": "code",
   "execution_count": 24,
   "id": "95bcdec2",
   "metadata": {
    "execution": {
     "iopub.execute_input": "2025-04-06T15:06:43.579532Z",
     "iopub.status.busy": "2025-04-06T15:06:43.579070Z",
     "iopub.status.idle": "2025-04-06T15:06:43.586808Z",
     "shell.execute_reply": "2025-04-06T15:06:43.585614Z"
    },
    "papermill": {
     "duration": 0.019997,
     "end_time": "2025-04-06T15:06:43.588713",
     "exception": false,
     "start_time": "2025-04-06T15:06:43.568716",
     "status": "completed"
    },
    "tags": []
   },
   "outputs": [
    {
     "data": {
      "text/plain": [
       "array([[ 6, 12, 18],\n",
       "       [ 5, 11, 17],\n",
       "       [ 4, 10, 16],\n",
       "       [ 3,  9, 15],\n",
       "       [ 2,  8, 14],\n",
       "       [ 1,  7, 13]])"
      ]
     },
     "execution_count": 24,
     "metadata": {},
     "output_type": "execute_result"
    }
   ],
   "source": [
    "np.rot90(two_d_array,\n",
    "        k=1)      #Number of 90 degree rotations"
   ]
  },
  {
   "cell_type": "code",
   "execution_count": 25,
   "id": "ea178f22",
   "metadata": {
    "execution": {
     "iopub.execute_input": "2025-04-06T15:06:43.608454Z",
     "iopub.status.busy": "2025-04-06T15:06:43.608072Z",
     "iopub.status.idle": "2025-04-06T15:06:43.614673Z",
     "shell.execute_reply": "2025-04-06T15:06:43.613496Z"
    },
    "papermill": {
     "duration": 0.018444,
     "end_time": "2025-04-06T15:06:43.616626",
     "exception": false,
     "start_time": "2025-04-06T15:06:43.598182",
     "status": "completed"
    },
    "tags": []
   },
   "outputs": [
    {
     "data": {
      "text/plain": [
       "array([[ 5,  6,  1,  2,  3,  4],\n",
       "       [11, 12,  7,  8,  9, 10],\n",
       "       [17, 18, 13, 14, 15, 16]])"
      ]
     },
     "execution_count": 25,
     "metadata": {},
     "output_type": "execute_result"
    }
   ],
   "source": [
    "#Shift elements in an array along a given dimension with np.roll():\n",
    "\n",
    "np.roll(a = two_d_array,\n",
    "       shift = 2,\n",
    "       axis = 1\n",
    "       )"
   ]
  },
  {
   "cell_type": "markdown",
   "id": "fca2f031",
   "metadata": {
    "papermill": {
     "duration": 0.008813,
     "end_time": "2025-04-06T15:06:43.634727",
     "exception": false,
     "start_time": "2025-04-06T15:06:43.625914",
     "status": "completed"
    },
    "tags": []
   },
   "source": [
    "Leave the axis argument empty to shift on a flattened version of the array (shift across all dimensions):"
   ]
  },
  {
   "cell_type": "code",
   "execution_count": 26,
   "id": "8da0cc19",
   "metadata": {
    "execution": {
     "iopub.execute_input": "2025-04-06T15:06:43.654222Z",
     "iopub.status.busy": "2025-04-06T15:06:43.653847Z",
     "iopub.status.idle": "2025-04-06T15:06:43.660186Z",
     "shell.execute_reply": "2025-04-06T15:06:43.658946Z"
    },
    "papermill": {
     "duration": 0.018063,
     "end_time": "2025-04-06T15:06:43.661852",
     "exception": false,
     "start_time": "2025-04-06T15:06:43.643789",
     "status": "completed"
    },
    "tags": []
   },
   "outputs": [
    {
     "data": {
      "text/plain": [
       "array([[17, 18,  1,  2,  3,  4],\n",
       "       [ 5,  6,  7,  8,  9, 10],\n",
       "       [11, 12, 13, 14, 15, 16]])"
      ]
     },
     "execution_count": 26,
     "metadata": {},
     "output_type": "execute_result"
    }
   ],
   "source": [
    "np.roll( a = two_d_array,\n",
    "       shift = 2)"
   ]
  },
  {
   "cell_type": "markdown",
   "id": "2fefa87f",
   "metadata": {
    "papermill": {
     "duration": 0.009456,
     "end_time": "2025-04-06T15:06:43.680801",
     "exception": false,
     "start_time": "2025-04-06T15:06:43.671345",
     "status": "completed"
    },
    "tags": []
   },
   "source": [
    "Join arrays along an axis with np.concatenate():"
   ]
  },
  {
   "cell_type": "code",
   "execution_count": 27,
   "id": "61ec1722",
   "metadata": {
    "execution": {
     "iopub.execute_input": "2025-04-06T15:06:43.701107Z",
     "iopub.status.busy": "2025-04-06T15:06:43.700747Z",
     "iopub.status.idle": "2025-04-06T15:06:43.707278Z",
     "shell.execute_reply": "2025-04-06T15:06:43.706324Z"
    },
    "papermill": {
     "duration": 0.018444,
     "end_time": "2025-04-06T15:06:43.708951",
     "exception": false,
     "start_time": "2025-04-06T15:06:43.690507",
     "status": "completed"
    },
    "tags": []
   },
   "outputs": [
    {
     "data": {
      "text/plain": [
       "array([[ 1,  2,  3,  4,  5,  6, 10, 20, 30],\n",
       "       [ 7,  8,  9, 10, 11, 12, 40, 50, 60],\n",
       "       [13, 14, 15, 16, 17, 18, 70, 80, 90]])"
      ]
     },
     "execution_count": 27,
     "metadata": {},
     "output_type": "execute_result"
    }
   ],
   "source": [
    "array_to_join = np.array([[10,20,30],[40,50,60],[70,80,90]])\n",
    "\n",
    "np.concatenate((two_d_array, array_to_join),         #Arrays to join\n",
    "              axis = 1)                              #Axis to join upon"
   ]
  },
  {
   "cell_type": "code",
   "execution_count": null,
   "id": "c061f86f",
   "metadata": {
    "papermill": {
     "duration": 0.009127,
     "end_time": "2025-04-06T15:06:43.727916",
     "exception": false,
     "start_time": "2025-04-06T15:06:43.718789",
     "status": "completed"
    },
    "tags": []
   },
   "outputs": [],
   "source": []
  }
 ],
 "metadata": {
  "kaggle": {
   "accelerator": "none",
   "dataSources": [],
   "dockerImageVersionId": 30918,
   "isGpuEnabled": false,
   "isInternetEnabled": false,
   "language": "python",
   "sourceType": "notebook"
  },
  "kernelspec": {
   "display_name": "Python 3",
   "language": "python",
   "name": "python3"
  },
  "language_info": {
   "codemirror_mode": {
    "name": "ipython",
    "version": 3
   },
   "file_extension": ".py",
   "mimetype": "text/x-python",
   "name": "python",
   "nbconvert_exporter": "python",
   "pygments_lexer": "ipython3",
   "version": "3.10.12"
  },
  "papermill": {
   "default_parameters": {},
   "duration": 4.305719,
   "end_time": "2025-04-06T15:06:44.156256",
   "environment_variables": {},
   "exception": null,
   "input_path": "__notebook__.ipynb",
   "output_path": "__notebook__.ipynb",
   "parameters": {},
   "start_time": "2025-04-06T15:06:39.850537",
   "version": "2.6.0"
  }
 },
 "nbformat": 4,
 "nbformat_minor": 5
}
