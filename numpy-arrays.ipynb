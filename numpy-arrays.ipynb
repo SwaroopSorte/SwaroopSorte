{
 "cells": [
  {
   "cell_type": "markdown",
   "id": "734be631",
   "metadata": {
    "papermill": {
     "duration": 0.003499,
     "end_time": "2025-04-05T18:23:38.566409",
     "exception": false,
     "start_time": "2025-04-05T18:23:38.562910",
     "status": "completed"
    },
    "tags": []
   },
   "source": [
    "# Python for Data : Numpy Arrays\n",
    "\n",
    "Python's build in data structures are great for general - purpose programming, but they lack some specialized features we'd like for data analysis. For example adding rows or columns of data in an element-wise fashion and performing math operations on two dimensional tables are common tasks that aren't readily available with Python's base data types.\n",
    "\n",
    "# Numpy and Array Basics\n",
    "Numpy implements a data structure called the N-dimensional array or ndarray. ndarrays are similar to lists in that they contain a collection of items that can be accessed via indexes. On the other hand, ndarrays are homogeneous, meaning they can only contain objects of the same type and they can be multi-dimensional, making it easy to store 2-dimensional tables or matrices.\n",
    "\n",
    "To work with ndarrays, we need to load the numpy library. It is standard practice to load numpy with the alias \"np\" like so:"
   ]
  },
  {
   "cell_type": "code",
   "execution_count": 1,
   "id": "68ab4d2a",
   "metadata": {
    "execution": {
     "iopub.execute_input": "2025-04-05T18:23:38.573899Z",
     "iopub.status.busy": "2025-04-05T18:23:38.573527Z",
     "iopub.status.idle": "2025-04-05T18:23:38.578948Z",
     "shell.execute_reply": "2025-04-05T18:23:38.577974Z"
    },
    "papermill": {
     "duration": 0.010774,
     "end_time": "2025-04-05T18:23:38.580454",
     "exception": false,
     "start_time": "2025-04-05T18:23:38.569680",
     "status": "completed"
    },
    "tags": []
   },
   "outputs": [],
   "source": [
    "import numpy as np"
   ]
  },
  {
   "cell_type": "code",
   "execution_count": 2,
   "id": "34fbc8d4",
   "metadata": {
    "execution": {
     "iopub.execute_input": "2025-04-05T18:23:38.587535Z",
     "iopub.status.busy": "2025-04-05T18:23:38.587214Z",
     "iopub.status.idle": "2025-04-05T18:23:38.593696Z",
     "shell.execute_reply": "2025-04-05T18:23:38.592803Z"
    },
    "papermill": {
     "duration": 0.011762,
     "end_time": "2025-04-05T18:23:38.595272",
     "exception": false,
     "start_time": "2025-04-05T18:23:38.583510",
     "status": "completed"
    },
    "tags": []
   },
   "outputs": [
    {
     "data": {
      "text/plain": [
       "numpy.ndarray"
      ]
     },
     "execution_count": 2,
     "metadata": {},
     "output_type": "execute_result"
    }
   ],
   "source": [
    "#Create an ndarray by passing a list to np.array() function:\n",
    "my_list = [1,2,3,4]            #Define a list\n",
    "my_array = np.array(my_list)   #Pass the list to np.array()\n",
    "type(my_array)                 #Check the object's type\n"
   ]
  },
  {
   "cell_type": "code",
   "execution_count": 3,
   "id": "17496d9d",
   "metadata": {
    "execution": {
     "iopub.execute_input": "2025-04-05T18:23:38.602579Z",
     "iopub.status.busy": "2025-04-05T18:23:38.602274Z",
     "iopub.status.idle": "2025-04-05T18:23:38.609168Z",
     "shell.execute_reply": "2025-04-05T18:23:38.608145Z"
    },
    "papermill": {
     "duration": 0.012271,
     "end_time": "2025-04-05T18:23:38.610854",
     "exception": false,
     "start_time": "2025-04-05T18:23:38.598583",
     "status": "completed"
    },
    "tags": []
   },
   "outputs": [
    {
     "name": "stdout",
     "output_type": "stream",
     "text": [
      "[[1 2 3 4]\n",
      " [5 6 7 8]]\n"
     ]
    }
   ],
   "source": [
    "#To create an array with more than one dimension, pass a nested list to np.array():\n",
    "second_list = [5,6,7,8]\n",
    "two_d_array = np.array([my_list, second_list])\n",
    "print(two_d_array)"
   ]
  },
  {
   "cell_type": "markdown",
   "id": "9e5e59f9",
   "metadata": {
    "papermill": {
     "duration": 0.002848,
     "end_time": "2025-04-05T18:23:38.616985",
     "exception": false,
     "start_time": "2025-04-05T18:23:38.614137",
     "status": "completed"
    },
    "tags": []
   },
   "source": [
    "An ndarray is defined by the number of dimensions it has, the size of each dimension and the type of data it holds. Check the number and size of dimensions of an ndarray with the shape attribute."
   ]
  },
  {
   "cell_type": "code",
   "execution_count": 4,
   "id": "b991754d",
   "metadata": {
    "execution": {
     "iopub.execute_input": "2025-04-05T18:23:38.624386Z",
     "iopub.status.busy": "2025-04-05T18:23:38.624056Z",
     "iopub.status.idle": "2025-04-05T18:23:38.629466Z",
     "shell.execute_reply": "2025-04-05T18:23:38.628474Z"
    },
    "papermill": {
     "duration": 0.010972,
     "end_time": "2025-04-05T18:23:38.631025",
     "exception": false,
     "start_time": "2025-04-05T18:23:38.620053",
     "status": "completed"
    },
    "tags": []
   },
   "outputs": [
    {
     "data": {
      "text/plain": [
       "(2, 4)"
      ]
     },
     "execution_count": 4,
     "metadata": {},
     "output_type": "execute_result"
    }
   ],
   "source": [
    "two_d_array.shape"
   ]
  },
  {
   "cell_type": "markdown",
   "id": "0d5c89a9",
   "metadata": {
    "papermill": {
     "duration": 0.003033,
     "end_time": "2025-04-05T18:23:38.637462",
     "exception": false,
     "start_time": "2025-04-05T18:23:38.634429",
     "status": "completed"
    },
    "tags": []
   },
   "source": [
    "The output above shows that this ndarray is 2-dimensional, since there are two values listed, and the dimensions have length 2 and 4. "
   ]
  },
  {
   "cell_type": "code",
   "execution_count": 5,
   "id": "23500cc4",
   "metadata": {
    "execution": {
     "iopub.execute_input": "2025-04-05T18:23:38.645213Z",
     "iopub.status.busy": "2025-04-05T18:23:38.644885Z",
     "iopub.status.idle": "2025-04-05T18:23:38.650171Z",
     "shell.execute_reply": "2025-04-05T18:23:38.649310Z"
    },
    "papermill": {
     "duration": 0.01108,
     "end_time": "2025-04-05T18:23:38.651793",
     "exception": false,
     "start_time": "2025-04-05T18:23:38.640713",
     "status": "completed"
    },
    "tags": []
   },
   "outputs": [
    {
     "data": {
      "text/plain": [
       "8"
      ]
     },
     "execution_count": 5,
     "metadata": {},
     "output_type": "execute_result"
    }
   ],
   "source": [
    "two_d_array.size"
   ]
  },
  {
   "cell_type": "markdown",
   "id": "3a580308",
   "metadata": {
    "papermill": {
     "duration": 0.003183,
     "end_time": "2025-04-05T18:23:38.658642",
     "exception": false,
     "start_time": "2025-04-05T18:23:38.655459",
     "status": "completed"
    },
    "tags": []
   },
   "source": [
    "check the type of the data in an ndarray with the dtype attribute:"
   ]
  },
  {
   "cell_type": "code",
   "execution_count": 6,
   "id": "329b0c64",
   "metadata": {
    "execution": {
     "iopub.execute_input": "2025-04-05T18:23:38.666596Z",
     "iopub.status.busy": "2025-04-05T18:23:38.666252Z",
     "iopub.status.idle": "2025-04-05T18:23:38.671514Z",
     "shell.execute_reply": "2025-04-05T18:23:38.670574Z"
    },
    "papermill": {
     "duration": 0.01105,
     "end_time": "2025-04-05T18:23:38.673088",
     "exception": false,
     "start_time": "2025-04-05T18:23:38.662038",
     "status": "completed"
    },
    "tags": []
   },
   "outputs": [
    {
     "data": {
      "text/plain": [
       "dtype('int64')"
      ]
     },
     "execution_count": 6,
     "metadata": {},
     "output_type": "execute_result"
    }
   ],
   "source": [
    "two_d_array.dtype"
   ]
  },
  {
   "cell_type": "markdown",
   "id": "419a817a",
   "metadata": {
    "papermill": {
     "duration": 0.003369,
     "end_time": "2025-04-05T18:23:38.680145",
     "exception": false,
     "start_time": "2025-04-05T18:23:38.676776",
     "status": "completed"
    },
    "tags": []
   },
   "source": [
    "Numpy has a variety of special array creation functions. Some handy array creation functions include:"
   ]
  },
  {
   "cell_type": "code",
   "execution_count": 7,
   "id": "face4a33",
   "metadata": {
    "execution": {
     "iopub.execute_input": "2025-04-05T18:23:38.688294Z",
     "iopub.status.busy": "2025-04-05T18:23:38.687936Z",
     "iopub.status.idle": "2025-04-05T18:23:38.694370Z",
     "shell.execute_reply": "2025-04-05T18:23:38.693449Z"
    },
    "papermill": {
     "duration": 0.012262,
     "end_time": "2025-04-05T18:23:38.695912",
     "exception": false,
     "start_time": "2025-04-05T18:23:38.683650",
     "status": "completed"
    },
    "tags": []
   },
   "outputs": [
    {
     "data": {
      "text/plain": [
       "array([[1., 0., 0., 0., 0., 0., 0., 0., 0., 0.],\n",
       "       [0., 1., 0., 0., 0., 0., 0., 0., 0., 0.],\n",
       "       [0., 0., 1., 0., 0., 0., 0., 0., 0., 0.],\n",
       "       [0., 0., 0., 1., 0., 0., 0., 0., 0., 0.],\n",
       "       [0., 0., 0., 0., 1., 0., 0., 0., 0., 0.],\n",
       "       [0., 0., 0., 0., 0., 1., 0., 0., 0., 0.],\n",
       "       [0., 0., 0., 0., 0., 0., 1., 0., 0., 0.],\n",
       "       [0., 0., 0., 0., 0., 0., 0., 1., 0., 0.],\n",
       "       [0., 0., 0., 0., 0., 0., 0., 0., 1., 0.],\n",
       "       [0., 0., 0., 0., 0., 0., 0., 0., 0., 1.]])"
      ]
     },
     "execution_count": 7,
     "metadata": {},
     "output_type": "execute_result"
    }
   ],
   "source": [
    "#np.identity() to create a square 2d array with 1's across the diagonal\n",
    "np.identity(n=10)    #Size of the array"
   ]
  },
  {
   "cell_type": "code",
   "execution_count": null,
   "id": "267cc969",
   "metadata": {
    "papermill": {
     "duration": 0.003256,
     "end_time": "2025-04-05T18:23:38.702791",
     "exception": false,
     "start_time": "2025-04-05T18:23:38.699535",
     "status": "completed"
    },
    "tags": []
   },
   "outputs": [],
   "source": []
  }
 ],
 "metadata": {
  "kaggle": {
   "accelerator": "none",
   "dataSources": [],
   "dockerImageVersionId": 30918,
   "isGpuEnabled": false,
   "isInternetEnabled": false,
   "language": "python",
   "sourceType": "notebook"
  },
  "kernelspec": {
   "display_name": "Python 3",
   "language": "python",
   "name": "python3"
  },
  "language_info": {
   "codemirror_mode": {
    "name": "ipython",
    "version": 3
   },
   "file_extension": ".py",
   "mimetype": "text/x-python",
   "name": "python",
   "nbconvert_exporter": "python",
   "pygments_lexer": "ipython3",
   "version": "3.10.12"
  },
  "papermill": {
   "default_parameters": {},
   "duration": 3.50361,
   "end_time": "2025-04-05T18:23:39.125602",
   "environment_variables": {},
   "exception": null,
   "input_path": "__notebook__.ipynb",
   "output_path": "__notebook__.ipynb",
   "parameters": {},
   "start_time": "2025-04-05T18:23:35.621992",
   "version": "2.6.0"
  }
 },
 "nbformat": 4,
 "nbformat_minor": 5
}
