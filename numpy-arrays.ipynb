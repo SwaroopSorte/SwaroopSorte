{
 "cells": [
  {
   "cell_type": "markdown",
   "id": "6ac8211d",
   "metadata": {
    "papermill": {
     "duration": 0.008179,
     "end_time": "2025-04-06T15:49:06.849150",
     "exception": false,
     "start_time": "2025-04-06T15:49:06.840971",
     "status": "completed"
    },
    "tags": []
   },
   "source": [
    "# Python for Data : Numpy Arrays\n",
    "\n",
    "Python's build in data structures are great for general - purpose programming, but they lack some specialized features we'd like for data analysis. For example adding rows or columns of data in an element-wise fashion and performing math operations on two dimensional tables are common tasks that aren't readily available with Python's base data types.\n",
    "\n",
    "# Numpy and Array Basics\n",
    "Numpy implements a data structure called the N-dimensional array or ndarray. ndarrays are similar to lists in that they contain a collection of items that can be accessed via indexes. On the other hand, ndarrays are homogeneous, meaning they can only contain objects of the same type and they can be multi-dimensional, making it easy to store 2-dimensional tables or matrices.\n",
    "\n",
    "To work with ndarrays, we need to load the numpy library. It is standard practice to load numpy with the alias \"np\" like so:"
   ]
  },
  {
   "cell_type": "code",
   "execution_count": 1,
   "id": "922de66e",
   "metadata": {
    "execution": {
     "iopub.execute_input": "2025-04-06T15:49:06.865328Z",
     "iopub.status.busy": "2025-04-06T15:49:06.864889Z",
     "iopub.status.idle": "2025-04-06T15:49:06.870475Z",
     "shell.execute_reply": "2025-04-06T15:49:06.869461Z"
    },
    "papermill": {
     "duration": 0.015424,
     "end_time": "2025-04-06T15:49:06.872117",
     "exception": false,
     "start_time": "2025-04-06T15:49:06.856693",
     "status": "completed"
    },
    "tags": []
   },
   "outputs": [],
   "source": [
    "import numpy as np"
   ]
  },
  {
   "cell_type": "code",
   "execution_count": 2,
   "id": "c04b57ce",
   "metadata": {
    "execution": {
     "iopub.execute_input": "2025-04-06T15:49:06.888033Z",
     "iopub.status.busy": "2025-04-06T15:49:06.887647Z",
     "iopub.status.idle": "2025-04-06T15:49:06.894143Z",
     "shell.execute_reply": "2025-04-06T15:49:06.893167Z"
    },
    "papermill": {
     "duration": 0.016167,
     "end_time": "2025-04-06T15:49:06.895721",
     "exception": false,
     "start_time": "2025-04-06T15:49:06.879554",
     "status": "completed"
    },
    "tags": []
   },
   "outputs": [
    {
     "data": {
      "text/plain": [
       "numpy.ndarray"
      ]
     },
     "execution_count": 2,
     "metadata": {},
     "output_type": "execute_result"
    }
   ],
   "source": [
    "#Create an ndarray by passing a list to np.array() function:\n",
    "my_list = [1,2,3,4]            #Define a list\n",
    "my_array = np.array(my_list)   #Pass the list to np.array()\n",
    "type(my_array)                 #Check the object's type\n"
   ]
  },
  {
   "cell_type": "code",
   "execution_count": 3,
   "id": "1ed4700b",
   "metadata": {
    "execution": {
     "iopub.execute_input": "2025-04-06T15:49:06.911929Z",
     "iopub.status.busy": "2025-04-06T15:49:06.911590Z",
     "iopub.status.idle": "2025-04-06T15:49:06.918167Z",
     "shell.execute_reply": "2025-04-06T15:49:06.917082Z"
    },
    "papermill": {
     "duration": 0.016895,
     "end_time": "2025-04-06T15:49:06.920125",
     "exception": false,
     "start_time": "2025-04-06T15:49:06.903230",
     "status": "completed"
    },
    "tags": []
   },
   "outputs": [
    {
     "name": "stdout",
     "output_type": "stream",
     "text": [
      "[[1 2 3 4]\n",
      " [5 6 7 8]]\n"
     ]
    }
   ],
   "source": [
    "#To create an array with more than one dimension, pass a nested list to np.array():\n",
    "second_list = [5,6,7,8]\n",
    "two_d_array = np.array([my_list, second_list])\n",
    "print(two_d_array)"
   ]
  },
  {
   "cell_type": "markdown",
   "id": "49b961c1",
   "metadata": {
    "papermill": {
     "duration": 0.006988,
     "end_time": "2025-04-06T15:49:06.935072",
     "exception": false,
     "start_time": "2025-04-06T15:49:06.928084",
     "status": "completed"
    },
    "tags": []
   },
   "source": [
    "An ndarray is defined by the number of dimensions it has, the size of each dimension and the type of data it holds. Check the number and size of dimensions of an ndarray with the shape attribute."
   ]
  },
  {
   "cell_type": "code",
   "execution_count": 4,
   "id": "fbd0a68d",
   "metadata": {
    "execution": {
     "iopub.execute_input": "2025-04-06T15:49:06.950936Z",
     "iopub.status.busy": "2025-04-06T15:49:06.950521Z",
     "iopub.status.idle": "2025-04-06T15:49:06.956594Z",
     "shell.execute_reply": "2025-04-06T15:49:06.955463Z"
    },
    "papermill": {
     "duration": 0.015793,
     "end_time": "2025-04-06T15:49:06.958066",
     "exception": false,
     "start_time": "2025-04-06T15:49:06.942273",
     "status": "completed"
    },
    "tags": []
   },
   "outputs": [
    {
     "data": {
      "text/plain": [
       "(2, 4)"
      ]
     },
     "execution_count": 4,
     "metadata": {},
     "output_type": "execute_result"
    }
   ],
   "source": [
    "two_d_array.shape"
   ]
  },
  {
   "cell_type": "markdown",
   "id": "5e49b7d7",
   "metadata": {
    "papermill": {
     "duration": 0.007728,
     "end_time": "2025-04-06T15:49:06.973868",
     "exception": false,
     "start_time": "2025-04-06T15:49:06.966140",
     "status": "completed"
    },
    "tags": []
   },
   "source": [
    "The output above shows that this ndarray is 2-dimensional, since there are two values listed, and the dimensions have length 2 and 4. "
   ]
  },
  {
   "cell_type": "code",
   "execution_count": 5,
   "id": "2ea1bf8f",
   "metadata": {
    "execution": {
     "iopub.execute_input": "2025-04-06T15:49:06.990508Z",
     "iopub.status.busy": "2025-04-06T15:49:06.990126Z",
     "iopub.status.idle": "2025-04-06T15:49:06.996027Z",
     "shell.execute_reply": "2025-04-06T15:49:06.994923Z"
    },
    "papermill": {
     "duration": 0.016068,
     "end_time": "2025-04-06T15:49:06.997550",
     "exception": false,
     "start_time": "2025-04-06T15:49:06.981482",
     "status": "completed"
    },
    "tags": []
   },
   "outputs": [
    {
     "data": {
      "text/plain": [
       "8"
      ]
     },
     "execution_count": 5,
     "metadata": {},
     "output_type": "execute_result"
    }
   ],
   "source": [
    "two_d_array.size"
   ]
  },
  {
   "cell_type": "markdown",
   "id": "454ef97d",
   "metadata": {
    "papermill": {
     "duration": 0.007603,
     "end_time": "2025-04-06T15:49:07.014026",
     "exception": false,
     "start_time": "2025-04-06T15:49:07.006423",
     "status": "completed"
    },
    "tags": []
   },
   "source": [
    "check the type of the data in an ndarray with the dtype attribute:"
   ]
  },
  {
   "cell_type": "code",
   "execution_count": 6,
   "id": "dfd7bdac",
   "metadata": {
    "execution": {
     "iopub.execute_input": "2025-04-06T15:49:07.031132Z",
     "iopub.status.busy": "2025-04-06T15:49:07.030742Z",
     "iopub.status.idle": "2025-04-06T15:49:07.037078Z",
     "shell.execute_reply": "2025-04-06T15:49:07.036009Z"
    },
    "papermill": {
     "duration": 0.017217,
     "end_time": "2025-04-06T15:49:07.039051",
     "exception": false,
     "start_time": "2025-04-06T15:49:07.021834",
     "status": "completed"
    },
    "tags": []
   },
   "outputs": [
    {
     "data": {
      "text/plain": [
       "dtype('int64')"
      ]
     },
     "execution_count": 6,
     "metadata": {},
     "output_type": "execute_result"
    }
   ],
   "source": [
    "two_d_array.dtype"
   ]
  },
  {
   "cell_type": "markdown",
   "id": "1af7774b",
   "metadata": {
    "papermill": {
     "duration": 0.007471,
     "end_time": "2025-04-06T15:49:07.054626",
     "exception": false,
     "start_time": "2025-04-06T15:49:07.047155",
     "status": "completed"
    },
    "tags": []
   },
   "source": [
    "Numpy has a variety of special array creation functions. Some handy array creation functions include:"
   ]
  },
  {
   "cell_type": "code",
   "execution_count": 7,
   "id": "f31fcddb",
   "metadata": {
    "execution": {
     "iopub.execute_input": "2025-04-06T15:49:07.071720Z",
     "iopub.status.busy": "2025-04-06T15:49:07.071284Z",
     "iopub.status.idle": "2025-04-06T15:49:07.079083Z",
     "shell.execute_reply": "2025-04-06T15:49:07.078005Z"
    },
    "papermill": {
     "duration": 0.018568,
     "end_time": "2025-04-06T15:49:07.080999",
     "exception": false,
     "start_time": "2025-04-06T15:49:07.062431",
     "status": "completed"
    },
    "tags": []
   },
   "outputs": [
    {
     "data": {
      "text/plain": [
       "array([[1., 0., 0., 0., 0., 0., 0., 0., 0., 0.],\n",
       "       [0., 1., 0., 0., 0., 0., 0., 0., 0., 0.],\n",
       "       [0., 0., 1., 0., 0., 0., 0., 0., 0., 0.],\n",
       "       [0., 0., 0., 1., 0., 0., 0., 0., 0., 0.],\n",
       "       [0., 0., 0., 0., 1., 0., 0., 0., 0., 0.],\n",
       "       [0., 0., 0., 0., 0., 1., 0., 0., 0., 0.],\n",
       "       [0., 0., 0., 0., 0., 0., 1., 0., 0., 0.],\n",
       "       [0., 0., 0., 0., 0., 0., 0., 1., 0., 0.],\n",
       "       [0., 0., 0., 0., 0., 0., 0., 0., 1., 0.],\n",
       "       [0., 0., 0., 0., 0., 0., 0., 0., 0., 1.]])"
      ]
     },
     "execution_count": 7,
     "metadata": {},
     "output_type": "execute_result"
    }
   ],
   "source": [
    "#np.identity() to create a square 2d array with 1's across the diagonal\n",
    "np.identity(n=10)    #Size of the array"
   ]
  },
  {
   "cell_type": "code",
   "execution_count": 8,
   "id": "a2bed348",
   "metadata": {
    "execution": {
     "iopub.execute_input": "2025-04-06T15:49:07.098197Z",
     "iopub.status.busy": "2025-04-06T15:49:07.097814Z",
     "iopub.status.idle": "2025-04-06T15:49:07.104907Z",
     "shell.execute_reply": "2025-04-06T15:49:07.103916Z"
    },
    "papermill": {
     "duration": 0.017982,
     "end_time": "2025-04-06T15:49:07.106810",
     "exception": false,
     "start_time": "2025-04-06T15:49:07.088828",
     "status": "completed"
    },
    "tags": []
   },
   "outputs": [
    {
     "data": {
      "text/plain": [
       "array([[0., 1., 0., 0., 0.],\n",
       "       [0., 0., 1., 0., 0.],\n",
       "       [0., 0., 0., 1., 0.]])"
      ]
     },
     "execution_count": 8,
     "metadata": {},
     "output_type": "execute_result"
    }
   ],
   "source": [
    "#np.eye() to create a 2d array with 1's across a specified diagonal\n",
    "\n",
    "np.eye(N = 3,         #Number of rows\n",
    "       M = 5,         #Number of columns\n",
    "       k = 1)         #Index of the diagonal (Main diagonal (0) is default)"
   ]
  },
  {
   "cell_type": "code",
   "execution_count": 9,
   "id": "0a103d66",
   "metadata": {
    "execution": {
     "iopub.execute_input": "2025-04-06T15:49:07.123859Z",
     "iopub.status.busy": "2025-04-06T15:49:07.123546Z",
     "iopub.status.idle": "2025-04-06T15:49:07.129776Z",
     "shell.execute_reply": "2025-04-06T15:49:07.128780Z"
    },
    "papermill": {
     "duration": 0.016919,
     "end_time": "2025-04-06T15:49:07.131607",
     "exception": false,
     "start_time": "2025-04-06T15:49:07.114688",
     "status": "completed"
    },
    "tags": []
   },
   "outputs": [
    {
     "data": {
      "text/plain": [
       "array([[1., 1., 1., 1.],\n",
       "       [1., 1., 1., 1.]])"
      ]
     },
     "execution_count": 9,
     "metadata": {},
     "output_type": "execute_result"
    }
   ],
   "source": [
    "#np.ones() to create an array filled with ones :\n",
    "np.ones(shape = [2,4])"
   ]
  },
  {
   "cell_type": "code",
   "execution_count": 10,
   "id": "15de1bc0",
   "metadata": {
    "execution": {
     "iopub.execute_input": "2025-04-06T15:49:07.148846Z",
     "iopub.status.busy": "2025-04-06T15:49:07.148513Z",
     "iopub.status.idle": "2025-04-06T15:49:07.154482Z",
     "shell.execute_reply": "2025-04-06T15:49:07.153579Z"
    },
    "papermill": {
     "duration": 0.016611,
     "end_time": "2025-04-06T15:49:07.156402",
     "exception": false,
     "start_time": "2025-04-06T15:49:07.139791",
     "status": "completed"
    },
    "tags": []
   },
   "outputs": [
    {
     "data": {
      "text/plain": [
       "array([[0., 0., 0., 0., 0., 0.],\n",
       "       [0., 0., 0., 0., 0., 0.],\n",
       "       [0., 0., 0., 0., 0., 0.],\n",
       "       [0., 0., 0., 0., 0., 0.]])"
      ]
     },
     "execution_count": 10,
     "metadata": {},
     "output_type": "execute_result"
    }
   ],
   "source": [
    "#np.zeros() to create an array filled with zeros:\n",
    "np.zeros(shape = [4,6])\n"
   ]
  },
  {
   "cell_type": "markdown",
   "id": "ee4989f0",
   "metadata": {
    "papermill": {
     "duration": 0.008097,
     "end_time": "2025-04-06T15:49:07.173583",
     "exception": false,
     "start_time": "2025-04-06T15:49:07.165486",
     "status": "completed"
    },
    "tags": []
   },
   "source": [
    "# Array Indexing and Slicing\n",
    "\n",
    "Numpy ndarrays offer numbered indexing and slicing syntax that mirrors the syntax for Python lists:"
   ]
  },
  {
   "cell_type": "code",
   "execution_count": 11,
   "id": "08ac0eba",
   "metadata": {
    "execution": {
     "iopub.execute_input": "2025-04-06T15:49:07.191422Z",
     "iopub.status.busy": "2025-04-06T15:49:07.191041Z",
     "iopub.status.idle": "2025-04-06T15:49:07.196753Z",
     "shell.execute_reply": "2025-04-06T15:49:07.195810Z"
    },
    "papermill": {
     "duration": 0.016561,
     "end_time": "2025-04-06T15:49:07.198434",
     "exception": false,
     "start_time": "2025-04-06T15:49:07.181873",
     "status": "completed"
    },
    "tags": []
   },
   "outputs": [
    {
     "data": {
      "text/plain": [
       "4"
      ]
     },
     "execution_count": 11,
     "metadata": {},
     "output_type": "execute_result"
    }
   ],
   "source": [
    "one_d_array = np.array([1,2,3,4,5,6])\n",
    "one_d_array[3]    #Get the item at index 3"
   ]
  },
  {
   "cell_type": "code",
   "execution_count": 12,
   "id": "2dd05c5b",
   "metadata": {
    "execution": {
     "iopub.execute_input": "2025-04-06T15:49:07.216531Z",
     "iopub.status.busy": "2025-04-06T15:49:07.216177Z",
     "iopub.status.idle": "2025-04-06T15:49:07.222268Z",
     "shell.execute_reply": "2025-04-06T15:49:07.221353Z"
    },
    "papermill": {
     "duration": 0.016976,
     "end_time": "2025-04-06T15:49:07.223866",
     "exception": false,
     "start_time": "2025-04-06T15:49:07.206890",
     "status": "completed"
    },
    "tags": []
   },
   "outputs": [
    {
     "data": {
      "text/plain": [
       "array([4, 5, 6])"
      ]
     },
     "execution_count": 12,
     "metadata": {},
     "output_type": "execute_result"
    }
   ],
   "source": [
    "one_d_array[3:]  #Get a slice from index 3 to the end"
   ]
  },
  {
   "cell_type": "code",
   "execution_count": 13,
   "id": "7e61b69d",
   "metadata": {
    "execution": {
     "iopub.execute_input": "2025-04-06T15:49:07.242432Z",
     "iopub.status.busy": "2025-04-06T15:49:07.242055Z",
     "iopub.status.idle": "2025-04-06T15:49:07.247969Z",
     "shell.execute_reply": "2025-04-06T15:49:07.246916Z"
    },
    "papermill": {
     "duration": 0.017015,
     "end_time": "2025-04-06T15:49:07.249768",
     "exception": false,
     "start_time": "2025-04-06T15:49:07.232753",
     "status": "completed"
    },
    "tags": []
   },
   "outputs": [
    {
     "data": {
      "text/plain": [
       "array([6, 5, 4, 3, 2, 1])"
      ]
     },
     "execution_count": 13,
     "metadata": {},
     "output_type": "execute_result"
    }
   ],
   "source": [
    "one_d_array[::-1]    #Slice backwards to reverse the array"
   ]
  },
  {
   "cell_type": "markdown",
   "id": "185a58d3",
   "metadata": {
    "papermill": {
     "duration": 0.008153,
     "end_time": "2025-04-06T15:49:07.266685",
     "exception": false,
     "start_time": "2025-04-06T15:49:07.258532",
     "status": "completed"
    },
    "tags": []
   },
   "source": [
    "If an ndarray has more than one dimension, separate indexes for each dimension with a comma:"
   ]
  },
  {
   "cell_type": "code",
   "execution_count": 14,
   "id": "192f1745",
   "metadata": {
    "execution": {
     "iopub.execute_input": "2025-04-06T15:49:07.286024Z",
     "iopub.status.busy": "2025-04-06T15:49:07.285651Z",
     "iopub.status.idle": "2025-04-06T15:49:07.293493Z",
     "shell.execute_reply": "2025-04-06T15:49:07.292061Z"
    },
    "papermill": {
     "duration": 0.019612,
     "end_time": "2025-04-06T15:49:07.295325",
     "exception": false,
     "start_time": "2025-04-06T15:49:07.275713",
     "status": "completed"
    },
    "tags": []
   },
   "outputs": [
    {
     "name": "stdout",
     "output_type": "stream",
     "text": [
      "[[ 1  2  3  4  5  6]\n",
      " [ 7  8  9 10 11 12]\n",
      " [13 14 15 16 17 18]]\n"
     ]
    }
   ],
   "source": [
    "#Create a new 2d array\n",
    "two_d_array = np.array([one_d_array, one_d_array + 6, one_d_array + 12])\n",
    "print(two_d_array)"
   ]
  },
  {
   "cell_type": "code",
   "execution_count": 15,
   "id": "72030089",
   "metadata": {
    "execution": {
     "iopub.execute_input": "2025-04-06T15:49:07.314176Z",
     "iopub.status.busy": "2025-04-06T15:49:07.313846Z",
     "iopub.status.idle": "2025-04-06T15:49:07.319862Z",
     "shell.execute_reply": "2025-04-06T15:49:07.318925Z"
    },
    "papermill": {
     "duration": 0.017417,
     "end_time": "2025-04-06T15:49:07.321589",
     "exception": false,
     "start_time": "2025-04-06T15:49:07.304172",
     "status": "completed"
    },
    "tags": []
   },
   "outputs": [
    {
     "data": {
      "text/plain": [
       "array([[11, 12],\n",
       "       [17, 18]])"
      ]
     },
     "execution_count": 15,
     "metadata": {},
     "output_type": "execute_result"
    }
   ],
   "source": [
    "#Slice elements starting at row 2, and column 5\n",
    "two_d_array[1:,4:]"
   ]
  },
  {
   "cell_type": "code",
   "execution_count": 16,
   "id": "9fb55440",
   "metadata": {
    "execution": {
     "iopub.execute_input": "2025-04-06T15:49:07.340507Z",
     "iopub.status.busy": "2025-04-06T15:49:07.340077Z",
     "iopub.status.idle": "2025-04-06T15:49:07.346824Z",
     "shell.execute_reply": "2025-04-06T15:49:07.345741Z"
    },
    "papermill": {
     "duration": 0.018249,
     "end_time": "2025-04-06T15:49:07.348506",
     "exception": false,
     "start_time": "2025-04-06T15:49:07.330257",
     "status": "completed"
    },
    "tags": []
   },
   "outputs": [
    {
     "data": {
      "text/plain": [
       "array([[18, 17, 16, 15, 14, 13],\n",
       "       [12, 11, 10,  9,  8,  7],\n",
       "       [ 6,  5,  4,  3,  2,  1]])"
      ]
     },
     "execution_count": 16,
     "metadata": {},
     "output_type": "execute_result"
    }
   ],
   "source": [
    "#Reverse both dimensions (180 degree rotation)\n",
    "two_d_array[::-1, ::-1]"
   ]
  },
  {
   "cell_type": "markdown",
   "id": "8f6a7f48",
   "metadata": {
    "papermill": {
     "duration": 0.008152,
     "end_time": "2025-04-06T15:49:07.365206",
     "exception": false,
     "start_time": "2025-04-06T15:49:07.357054",
     "status": "completed"
    },
    "tags": []
   },
   "source": [
    "# Reshaping Arrays\n",
    "\n",
    "Numpy has a variety of built in functions to help you manipulate arrays quickly without having to use complicated indexing operations.\n",
    "\n",
    "Reshape an array into a new array with the same data but different structure with np.reshape():"
   ]
  },
  {
   "cell_type": "code",
   "execution_count": 17,
   "id": "65c95296",
   "metadata": {
    "execution": {
     "iopub.execute_input": "2025-04-06T15:49:07.383469Z",
     "iopub.status.busy": "2025-04-06T15:49:07.383095Z",
     "iopub.status.idle": "2025-04-06T15:49:07.389573Z",
     "shell.execute_reply": "2025-04-06T15:49:07.388433Z"
    },
    "papermill": {
     "duration": 0.017593,
     "end_time": "2025-04-06T15:49:07.391387",
     "exception": false,
     "start_time": "2025-04-06T15:49:07.373794",
     "status": "completed"
    },
    "tags": []
   },
   "outputs": [
    {
     "data": {
      "text/plain": [
       "array([[ 1,  2,  3],\n",
       "       [ 4,  5,  6],\n",
       "       [ 7,  8,  9],\n",
       "       [10, 11, 12],\n",
       "       [13, 14, 15],\n",
       "       [16, 17, 18]])"
      ]
     },
     "execution_count": 17,
     "metadata": {},
     "output_type": "execute_result"
    }
   ],
   "source": [
    "np.reshape(a=two_d_array,    #Array to reshape\n",
    "            newshape=(6,3))   #Dimensions of the new array"
   ]
  },
  {
   "cell_type": "markdown",
   "id": "6962954c",
   "metadata": {
    "papermill": {
     "duration": 0.007917,
     "end_time": "2025-04-06T15:49:07.407834",
     "exception": false,
     "start_time": "2025-04-06T15:49:07.399917",
     "status": "completed"
    },
    "tags": []
   },
   "source": [
    "Unravel a multi-dimensional into 1 dimension with np.ravel():"
   ]
  },
  {
   "cell_type": "code",
   "execution_count": 18,
   "id": "13c8a2aa",
   "metadata": {
    "execution": {
     "iopub.execute_input": "2025-04-06T15:49:07.425458Z",
     "iopub.status.busy": "2025-04-06T15:49:07.425088Z",
     "iopub.status.idle": "2025-04-06T15:49:07.430852Z",
     "shell.execute_reply": "2025-04-06T15:49:07.429951Z"
    },
    "papermill": {
     "duration": 0.016633,
     "end_time": "2025-04-06T15:49:07.432779",
     "exception": false,
     "start_time": "2025-04-06T15:49:07.416146",
     "status": "completed"
    },
    "tags": []
   },
   "outputs": [
    {
     "data": {
      "text/plain": [
       "array([ 1,  2,  3,  4,  5,  6,  7,  8,  9, 10, 11, 12, 13, 14, 15, 16, 17,\n",
       "       18])"
      ]
     },
     "execution_count": 18,
     "metadata": {},
     "output_type": "execute_result"
    }
   ],
   "source": [
    "np.ravel(a=two_d_array,\n",
    "        order=\"C\")                  #Use C-style unraveling (by rows)"
   ]
  },
  {
   "cell_type": "code",
   "execution_count": 19,
   "id": "c49c5fb4",
   "metadata": {
    "execution": {
     "iopub.execute_input": "2025-04-06T15:49:07.452683Z",
     "iopub.status.busy": "2025-04-06T15:49:07.452231Z",
     "iopub.status.idle": "2025-04-06T15:49:07.458957Z",
     "shell.execute_reply": "2025-04-06T15:49:07.457806Z"
    },
    "papermill": {
     "duration": 0.018582,
     "end_time": "2025-04-06T15:49:07.460732",
     "exception": false,
     "start_time": "2025-04-06T15:49:07.442150",
     "status": "completed"
    },
    "tags": []
   },
   "outputs": [
    {
     "data": {
      "text/plain": [
       "array([ 1,  7, 13,  2,  8, 14,  3,  9, 15,  4, 10, 16,  5, 11, 17,  6, 12,\n",
       "       18])"
      ]
     },
     "execution_count": 19,
     "metadata": {},
     "output_type": "execute_result"
    }
   ],
   "source": [
    "np.ravel(a=two_d_array,\n",
    "        order=\"F\")                   #Use Fortran-style unraveling (by columns)"
   ]
  },
  {
   "cell_type": "markdown",
   "id": "e5eb67c6",
   "metadata": {
    "papermill": {
     "duration": 0.008341,
     "end_time": "2025-04-06T15:49:07.477855",
     "exception": false,
     "start_time": "2025-04-06T15:49:07.469514",
     "status": "completed"
    },
    "tags": []
   },
   "source": [
    "Alternatively, use ndarray.flatten() to flatten a multi-dimensional into 1 dimension and return a copy of the result:"
   ]
  },
  {
   "cell_type": "code",
   "execution_count": 20,
   "id": "c22eb5de",
   "metadata": {
    "execution": {
     "iopub.execute_input": "2025-04-06T15:49:07.496447Z",
     "iopub.status.busy": "2025-04-06T15:49:07.496040Z",
     "iopub.status.idle": "2025-04-06T15:49:07.502597Z",
     "shell.execute_reply": "2025-04-06T15:49:07.501604Z"
    },
    "papermill": {
     "duration": 0.018143,
     "end_time": "2025-04-06T15:49:07.504503",
     "exception": false,
     "start_time": "2025-04-06T15:49:07.486360",
     "status": "completed"
    },
    "tags": []
   },
   "outputs": [
    {
     "data": {
      "text/plain": [
       "array([ 1,  2,  3,  4,  5,  6,  7,  8,  9, 10, 11, 12, 13, 14, 15, 16, 17,\n",
       "       18])"
      ]
     },
     "execution_count": 20,
     "metadata": {},
     "output_type": "execute_result"
    }
   ],
   "source": [
    "two_d_array.flatten()"
   ]
  },
  {
   "cell_type": "markdown",
   "id": "a1e39a7e",
   "metadata": {
    "papermill": {
     "duration": 0.008583,
     "end_time": "2025-04-06T15:49:07.522345",
     "exception": false,
     "start_time": "2025-04-06T15:49:07.513762",
     "status": "completed"
    },
    "tags": []
   },
   "source": [
    "Get the transpose of an array with ndarray.T:"
   ]
  },
  {
   "cell_type": "code",
   "execution_count": 21,
   "id": "e8875670",
   "metadata": {
    "execution": {
     "iopub.execute_input": "2025-04-06T15:49:07.541672Z",
     "iopub.status.busy": "2025-04-06T15:49:07.541286Z",
     "iopub.status.idle": "2025-04-06T15:49:07.547460Z",
     "shell.execute_reply": "2025-04-06T15:49:07.546505Z"
    },
    "papermill": {
     "duration": 0.017695,
     "end_time": "2025-04-06T15:49:07.548963",
     "exception": false,
     "start_time": "2025-04-06T15:49:07.531268",
     "status": "completed"
    },
    "tags": []
   },
   "outputs": [
    {
     "data": {
      "text/plain": [
       "array([[ 1,  7, 13],\n",
       "       [ 2,  8, 14],\n",
       "       [ 3,  9, 15],\n",
       "       [ 4, 10, 16],\n",
       "       [ 5, 11, 17],\n",
       "       [ 6, 12, 18]])"
      ]
     },
     "execution_count": 21,
     "metadata": {},
     "output_type": "execute_result"
    }
   ],
   "source": [
    "two_d_array.T"
   ]
  },
  {
   "cell_type": "code",
   "execution_count": 22,
   "id": "f1d81659",
   "metadata": {
    "execution": {
     "iopub.execute_input": "2025-04-06T15:49:07.568582Z",
     "iopub.status.busy": "2025-04-06T15:49:07.568206Z",
     "iopub.status.idle": "2025-04-06T15:49:07.574331Z",
     "shell.execute_reply": "2025-04-06T15:49:07.573259Z"
    },
    "papermill": {
     "duration": 0.017704,
     "end_time": "2025-04-06T15:49:07.575789",
     "exception": false,
     "start_time": "2025-04-06T15:49:07.558085",
     "status": "completed"
    },
    "tags": []
   },
   "outputs": [
    {
     "data": {
      "text/plain": [
       "array([[13, 14, 15, 16, 17, 18],\n",
       "       [ 7,  8,  9, 10, 11, 12],\n",
       "       [ 1,  2,  3,  4,  5,  6]])"
      ]
     },
     "execution_count": 22,
     "metadata": {},
     "output_type": "execute_result"
    }
   ],
   "source": [
    "#Flip an array vertically or horizontally with np.flipud() and np.fliplr() respectively:\n",
    "np.flipud(two_d_array)"
   ]
  },
  {
   "cell_type": "code",
   "execution_count": 23,
   "id": "d2a18edb",
   "metadata": {
    "execution": {
     "iopub.execute_input": "2025-04-06T15:49:07.597277Z",
     "iopub.status.busy": "2025-04-06T15:49:07.596938Z",
     "iopub.status.idle": "2025-04-06T15:49:07.602810Z",
     "shell.execute_reply": "2025-04-06T15:49:07.601754Z"
    },
    "papermill": {
     "duration": 0.019097,
     "end_time": "2025-04-06T15:49:07.604650",
     "exception": false,
     "start_time": "2025-04-06T15:49:07.585553",
     "status": "completed"
    },
    "tags": []
   },
   "outputs": [
    {
     "data": {
      "text/plain": [
       "array([[ 6,  5,  4,  3,  2,  1],\n",
       "       [12, 11, 10,  9,  8,  7],\n",
       "       [18, 17, 16, 15, 14, 13]])"
      ]
     },
     "execution_count": 23,
     "metadata": {},
     "output_type": "execute_result"
    }
   ],
   "source": [
    "np.fliplr(two_d_array)"
   ]
  },
  {
   "cell_type": "code",
   "execution_count": 24,
   "id": "0e181053",
   "metadata": {
    "execution": {
     "iopub.execute_input": "2025-04-06T15:49:07.625200Z",
     "iopub.status.busy": "2025-04-06T15:49:07.624808Z",
     "iopub.status.idle": "2025-04-06T15:49:07.633062Z",
     "shell.execute_reply": "2025-04-06T15:49:07.632030Z"
    },
    "papermill": {
     "duration": 0.020592,
     "end_time": "2025-04-06T15:49:07.634726",
     "exception": false,
     "start_time": "2025-04-06T15:49:07.614134",
     "status": "completed"
    },
    "tags": []
   },
   "outputs": [
    {
     "data": {
      "text/plain": [
       "array([[ 6, 12, 18],\n",
       "       [ 5, 11, 17],\n",
       "       [ 4, 10, 16],\n",
       "       [ 3,  9, 15],\n",
       "       [ 2,  8, 14],\n",
       "       [ 1,  7, 13]])"
      ]
     },
     "execution_count": 24,
     "metadata": {},
     "output_type": "execute_result"
    }
   ],
   "source": [
    "np.rot90(two_d_array,\n",
    "        k=1)      #Number of 90 degree rotations"
   ]
  },
  {
   "cell_type": "code",
   "execution_count": 25,
   "id": "ccdb1af1",
   "metadata": {
    "execution": {
     "iopub.execute_input": "2025-04-06T15:49:07.655241Z",
     "iopub.status.busy": "2025-04-06T15:49:07.654881Z",
     "iopub.status.idle": "2025-04-06T15:49:07.661104Z",
     "shell.execute_reply": "2025-04-06T15:49:07.660154Z"
    },
    "papermill": {
     "duration": 0.018633,
     "end_time": "2025-04-06T15:49:07.662964",
     "exception": false,
     "start_time": "2025-04-06T15:49:07.644331",
     "status": "completed"
    },
    "tags": []
   },
   "outputs": [
    {
     "data": {
      "text/plain": [
       "array([[ 5,  6,  1,  2,  3,  4],\n",
       "       [11, 12,  7,  8,  9, 10],\n",
       "       [17, 18, 13, 14, 15, 16]])"
      ]
     },
     "execution_count": 25,
     "metadata": {},
     "output_type": "execute_result"
    }
   ],
   "source": [
    "#Shift elements in an array along a given dimension with np.roll():\n",
    "\n",
    "np.roll(a = two_d_array,\n",
    "       shift = 2,\n",
    "       axis = 1\n",
    "       )"
   ]
  },
  {
   "cell_type": "markdown",
   "id": "23f87461",
   "metadata": {
    "papermill": {
     "duration": 0.008822,
     "end_time": "2025-04-06T15:49:07.681428",
     "exception": false,
     "start_time": "2025-04-06T15:49:07.672606",
     "status": "completed"
    },
    "tags": []
   },
   "source": [
    "Leave the axis argument empty to shift on a flattened version of the array (shift across all dimensions):"
   ]
  },
  {
   "cell_type": "code",
   "execution_count": 26,
   "id": "aeff971d",
   "metadata": {
    "execution": {
     "iopub.execute_input": "2025-04-06T15:49:07.701181Z",
     "iopub.status.busy": "2025-04-06T15:49:07.700865Z",
     "iopub.status.idle": "2025-04-06T15:49:07.706918Z",
     "shell.execute_reply": "2025-04-06T15:49:07.706020Z"
    },
    "papermill": {
     "duration": 0.018347,
     "end_time": "2025-04-06T15:49:07.708823",
     "exception": false,
     "start_time": "2025-04-06T15:49:07.690476",
     "status": "completed"
    },
    "tags": []
   },
   "outputs": [
    {
     "data": {
      "text/plain": [
       "array([[17, 18,  1,  2,  3,  4],\n",
       "       [ 5,  6,  7,  8,  9, 10],\n",
       "       [11, 12, 13, 14, 15, 16]])"
      ]
     },
     "execution_count": 26,
     "metadata": {},
     "output_type": "execute_result"
    }
   ],
   "source": [
    "np.roll( a = two_d_array,\n",
    "       shift = 2)"
   ]
  },
  {
   "cell_type": "markdown",
   "id": "c6ce90e9",
   "metadata": {
    "papermill": {
     "duration": 0.009426,
     "end_time": "2025-04-06T15:49:07.727541",
     "exception": false,
     "start_time": "2025-04-06T15:49:07.718115",
     "status": "completed"
    },
    "tags": []
   },
   "source": [
    "Join arrays along an axis with np.concatenate():"
   ]
  },
  {
   "cell_type": "code",
   "execution_count": 27,
   "id": "930e8ecd",
   "metadata": {
    "execution": {
     "iopub.execute_input": "2025-04-06T15:49:07.747510Z",
     "iopub.status.busy": "2025-04-06T15:49:07.747143Z",
     "iopub.status.idle": "2025-04-06T15:49:07.754029Z",
     "shell.execute_reply": "2025-04-06T15:49:07.752881Z"
    },
    "papermill": {
     "duration": 0.01875,
     "end_time": "2025-04-06T15:49:07.755831",
     "exception": false,
     "start_time": "2025-04-06T15:49:07.737081",
     "status": "completed"
    },
    "tags": []
   },
   "outputs": [
    {
     "data": {
      "text/plain": [
       "array([[ 1,  2,  3,  4,  5,  6, 10, 20, 30],\n",
       "       [ 7,  8,  9, 10, 11, 12, 40, 50, 60],\n",
       "       [13, 14, 15, 16, 17, 18, 70, 80, 90]])"
      ]
     },
     "execution_count": 27,
     "metadata": {},
     "output_type": "execute_result"
    }
   ],
   "source": [
    "array_to_join = np.array([[10,20,30],[40,50,60],[70,80,90]])\n",
    "\n",
    "np.concatenate((two_d_array, array_to_join),         #Arrays to join\n",
    "              axis = 1)                              #Axis to join upon"
   ]
  },
  {
   "cell_type": "markdown",
   "id": "d0d4502f",
   "metadata": {
    "papermill": {
     "duration": 0.009038,
     "end_time": "2025-04-06T15:49:07.774252",
     "exception": false,
     "start_time": "2025-04-06T15:49:07.765214",
     "status": "completed"
    },
    "tags": []
   },
   "source": [
    "# Array Math Operations\n",
    "\n",
    "Creating and manipulating arrays is nice, but the true power of numpy arrays is the ability to perform mathematical operations on many values quickly and easily. Unlike built in Python objects, you can use math operators like +,-,/ and * to perform basic math operations with ndarrays:"
   ]
  },
  {
   "cell_type": "code",
   "execution_count": 28,
   "id": "cd0737e7",
   "metadata": {
    "execution": {
     "iopub.execute_input": "2025-04-06T15:49:07.793659Z",
     "iopub.status.busy": "2025-04-06T15:49:07.793275Z",
     "iopub.status.idle": "2025-04-06T15:49:07.799226Z",
     "shell.execute_reply": "2025-04-06T15:49:07.798380Z"
    },
    "papermill": {
     "duration": 0.017619,
     "end_time": "2025-04-06T15:49:07.800870",
     "exception": false,
     "start_time": "2025-04-06T15:49:07.783251",
     "status": "completed"
    },
    "tags": []
   },
   "outputs": [
    {
     "data": {
      "text/plain": [
       "array([[101, 102, 103, 104, 105, 106],\n",
       "       [107, 108, 109, 110, 111, 112],\n",
       "       [113, 114, 115, 116, 117, 118]])"
      ]
     },
     "execution_count": 28,
     "metadata": {},
     "output_type": "execute_result"
    }
   ],
   "source": [
    "two_d_array + 100   #Add 100 to each element"
   ]
  },
  {
   "cell_type": "code",
   "execution_count": null,
   "id": "24a92342",
   "metadata": {
    "papermill": {
     "duration": 0.009295,
     "end_time": "2025-04-06T15:49:07.819897",
     "exception": false,
     "start_time": "2025-04-06T15:49:07.810602",
     "status": "completed"
    },
    "tags": []
   },
   "outputs": [],
   "source": []
  }
 ],
 "metadata": {
  "kaggle": {
   "accelerator": "none",
   "dataSources": [],
   "dockerImageVersionId": 30918,
   "isGpuEnabled": false,
   "isInternetEnabled": false,
   "language": "python",
   "sourceType": "notebook"
  },
  "kernelspec": {
   "display_name": "Python 3",
   "language": "python",
   "name": "python3"
  },
  "language_info": {
   "codemirror_mode": {
    "name": "ipython",
    "version": 3
   },
   "file_extension": ".py",
   "mimetype": "text/x-python",
   "name": "python",
   "nbconvert_exporter": "python",
   "pygments_lexer": "ipython3",
   "version": "3.10.12"
  },
  "papermill": {
   "default_parameters": {},
   "duration": 4.214207,
   "end_time": "2025-04-06T15:49:08.249713",
   "environment_variables": {},
   "exception": null,
   "input_path": "__notebook__.ipynb",
   "output_path": "__notebook__.ipynb",
   "parameters": {},
   "start_time": "2025-04-06T15:49:04.035506",
   "version": "2.6.0"
  }
 },
 "nbformat": 4,
 "nbformat_minor": 5
}
